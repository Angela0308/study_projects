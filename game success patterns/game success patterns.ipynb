{
 "cells": [
  {
   "cell_type": "markdown",
   "metadata": {},
   "source": [
    "# Исследование закономерностей, определяющих успешность игр"
   ]
  },
  {
   "cell_type": "markdown",
   "metadata": {},
   "source": [
    "## Описание проекта\n",
    "### Задачи проекта\n",
    "Цель работы - выявить определяющие успешность игры закономерности. Это позволит сделать ставку на потенциально популярный продукт и спланировать рекламные кампании на 2017-й год для интернет-магазина «Стримчик», который продаёт по всему миру компьютерные игры. Из открытых источников доступны исторические данные до 2016 года о продажах игр, оценках пользователей и экспертов, жанрах и платформах (например, Xbox или PlayStation).\n",
    "\n",
    "### План работы\n",
    "* Изучить общую информацию\n",
    "* Подготовить данные\n",
    "* Провести исследовательский анализ данных\n",
    "* Составить портрет пользователя каждого региона\n",
    "* Проверить гипотезы\n",
    "* Сделать общие выводы\n",
    "\n",
    "### Описание данных\n",
    "* `Name` — название игры\n",
    "* `Platform` — платформа\n",
    "* `Year_of_Release` — год выпуска\n",
    "* `Genre` — жанр игры\n",
    "* `NA_sales` — продажи в Северной Америке (миллионы проданных копий)\n",
    "* `EU_sales` — продажи в Европе (миллионы проданных копий)\n",
    "* `JP_sales` — продажи в Японии (миллионы проданных копий)\n",
    "* `Other_sales` — продажи в других странах (миллионы проданных копий)\n",
    "* `Critic_Score` — оценка критиков (максимум 100)\n",
    "* `User_Score` — оценка пользователей (максимум 10)\n",
    "* `Rating` — рейтинг от организации ESRB."
   ]
  },
  {
   "cell_type": "markdown",
   "metadata": {},
   "source": [
    "## Обзор данных, изучение общей информации"
   ]
  },
  {
   "cell_type": "code",
   "execution_count": 1,
   "metadata": {},
   "outputs": [],
   "source": [
    "# импорт библиотек\n",
    "import pandas as pd\n",
    "import numpy as np\n",
    "import matplotlib.pyplot as plt\n",
    "import seaborn as sns\n",
    "from scipy import stats as st"
   ]
  },
  {
   "cell_type": "code",
   "execution_count": 2,
   "metadata": {},
   "outputs": [
    {
     "data": {
      "text/html": [
       "<div>\n",
       "<style scoped>\n",
       "    .dataframe tbody tr th:only-of-type {\n",
       "        vertical-align: middle;\n",
       "    }\n",
       "\n",
       "    .dataframe tbody tr th {\n",
       "        vertical-align: top;\n",
       "    }\n",
       "\n",
       "    .dataframe thead th {\n",
       "        text-align: right;\n",
       "    }\n",
       "</style>\n",
       "<table border=\"1\" class=\"dataframe\">\n",
       "  <thead>\n",
       "    <tr style=\"text-align: right;\">\n",
       "      <th></th>\n",
       "      <th>Name</th>\n",
       "      <th>Platform</th>\n",
       "      <th>Year_of_Release</th>\n",
       "      <th>Genre</th>\n",
       "      <th>NA_sales</th>\n",
       "      <th>EU_sales</th>\n",
       "      <th>JP_sales</th>\n",
       "      <th>Other_sales</th>\n",
       "      <th>Critic_Score</th>\n",
       "      <th>User_Score</th>\n",
       "      <th>Rating</th>\n",
       "    </tr>\n",
       "  </thead>\n",
       "  <tbody>\n",
       "    <tr>\n",
       "      <th>0</th>\n",
       "      <td>Wii Sports</td>\n",
       "      <td>Wii</td>\n",
       "      <td>2006.0</td>\n",
       "      <td>Sports</td>\n",
       "      <td>41.36</td>\n",
       "      <td>28.96</td>\n",
       "      <td>3.77</td>\n",
       "      <td>8.45</td>\n",
       "      <td>76.0</td>\n",
       "      <td>8</td>\n",
       "      <td>E</td>\n",
       "    </tr>\n",
       "    <tr>\n",
       "      <th>1</th>\n",
       "      <td>Super Mario Bros.</td>\n",
       "      <td>NES</td>\n",
       "      <td>1985.0</td>\n",
       "      <td>Platform</td>\n",
       "      <td>29.08</td>\n",
       "      <td>3.58</td>\n",
       "      <td>6.81</td>\n",
       "      <td>0.77</td>\n",
       "      <td>NaN</td>\n",
       "      <td>NaN</td>\n",
       "      <td>NaN</td>\n",
       "    </tr>\n",
       "    <tr>\n",
       "      <th>2</th>\n",
       "      <td>Mario Kart Wii</td>\n",
       "      <td>Wii</td>\n",
       "      <td>2008.0</td>\n",
       "      <td>Racing</td>\n",
       "      <td>15.68</td>\n",
       "      <td>12.76</td>\n",
       "      <td>3.79</td>\n",
       "      <td>3.29</td>\n",
       "      <td>82.0</td>\n",
       "      <td>8.3</td>\n",
       "      <td>E</td>\n",
       "    </tr>\n",
       "    <tr>\n",
       "      <th>3</th>\n",
       "      <td>Wii Sports Resort</td>\n",
       "      <td>Wii</td>\n",
       "      <td>2009.0</td>\n",
       "      <td>Sports</td>\n",
       "      <td>15.61</td>\n",
       "      <td>10.93</td>\n",
       "      <td>3.28</td>\n",
       "      <td>2.95</td>\n",
       "      <td>80.0</td>\n",
       "      <td>8</td>\n",
       "      <td>E</td>\n",
       "    </tr>\n",
       "    <tr>\n",
       "      <th>4</th>\n",
       "      <td>Pokemon Red/Pokemon Blue</td>\n",
       "      <td>GB</td>\n",
       "      <td>1996.0</td>\n",
       "      <td>Role-Playing</td>\n",
       "      <td>11.27</td>\n",
       "      <td>8.89</td>\n",
       "      <td>10.22</td>\n",
       "      <td>1.00</td>\n",
       "      <td>NaN</td>\n",
       "      <td>NaN</td>\n",
       "      <td>NaN</td>\n",
       "    </tr>\n",
       "    <tr>\n",
       "      <th>5</th>\n",
       "      <td>Tetris</td>\n",
       "      <td>GB</td>\n",
       "      <td>1989.0</td>\n",
       "      <td>Puzzle</td>\n",
       "      <td>23.20</td>\n",
       "      <td>2.26</td>\n",
       "      <td>4.22</td>\n",
       "      <td>0.58</td>\n",
       "      <td>NaN</td>\n",
       "      <td>NaN</td>\n",
       "      <td>NaN</td>\n",
       "    </tr>\n",
       "    <tr>\n",
       "      <th>6</th>\n",
       "      <td>New Super Mario Bros.</td>\n",
       "      <td>DS</td>\n",
       "      <td>2006.0</td>\n",
       "      <td>Platform</td>\n",
       "      <td>11.28</td>\n",
       "      <td>9.14</td>\n",
       "      <td>6.50</td>\n",
       "      <td>2.88</td>\n",
       "      <td>89.0</td>\n",
       "      <td>8.5</td>\n",
       "      <td>E</td>\n",
       "    </tr>\n",
       "    <tr>\n",
       "      <th>7</th>\n",
       "      <td>Wii Play</td>\n",
       "      <td>Wii</td>\n",
       "      <td>2006.0</td>\n",
       "      <td>Misc</td>\n",
       "      <td>13.96</td>\n",
       "      <td>9.18</td>\n",
       "      <td>2.93</td>\n",
       "      <td>2.84</td>\n",
       "      <td>58.0</td>\n",
       "      <td>6.6</td>\n",
       "      <td>E</td>\n",
       "    </tr>\n",
       "    <tr>\n",
       "      <th>8</th>\n",
       "      <td>New Super Mario Bros. Wii</td>\n",
       "      <td>Wii</td>\n",
       "      <td>2009.0</td>\n",
       "      <td>Platform</td>\n",
       "      <td>14.44</td>\n",
       "      <td>6.94</td>\n",
       "      <td>4.70</td>\n",
       "      <td>2.24</td>\n",
       "      <td>87.0</td>\n",
       "      <td>8.4</td>\n",
       "      <td>E</td>\n",
       "    </tr>\n",
       "    <tr>\n",
       "      <th>9</th>\n",
       "      <td>Duck Hunt</td>\n",
       "      <td>NES</td>\n",
       "      <td>1984.0</td>\n",
       "      <td>Shooter</td>\n",
       "      <td>26.93</td>\n",
       "      <td>0.63</td>\n",
       "      <td>0.28</td>\n",
       "      <td>0.47</td>\n",
       "      <td>NaN</td>\n",
       "      <td>NaN</td>\n",
       "      <td>NaN</td>\n",
       "    </tr>\n",
       "  </tbody>\n",
       "</table>\n",
       "</div>"
      ],
      "text/plain": [
       "                        Name Platform  Year_of_Release         Genre  \\\n",
       "0                 Wii Sports      Wii           2006.0        Sports   \n",
       "1          Super Mario Bros.      NES           1985.0      Platform   \n",
       "2             Mario Kart Wii      Wii           2008.0        Racing   \n",
       "3          Wii Sports Resort      Wii           2009.0        Sports   \n",
       "4   Pokemon Red/Pokemon Blue       GB           1996.0  Role-Playing   \n",
       "5                     Tetris       GB           1989.0        Puzzle   \n",
       "6      New Super Mario Bros.       DS           2006.0      Platform   \n",
       "7                   Wii Play      Wii           2006.0          Misc   \n",
       "8  New Super Mario Bros. Wii      Wii           2009.0      Platform   \n",
       "9                  Duck Hunt      NES           1984.0       Shooter   \n",
       "\n",
       "   NA_sales  EU_sales  JP_sales  Other_sales  Critic_Score User_Score Rating  \n",
       "0     41.36     28.96      3.77         8.45          76.0          8      E  \n",
       "1     29.08      3.58      6.81         0.77           NaN        NaN    NaN  \n",
       "2     15.68     12.76      3.79         3.29          82.0        8.3      E  \n",
       "3     15.61     10.93      3.28         2.95          80.0          8      E  \n",
       "4     11.27      8.89     10.22         1.00           NaN        NaN    NaN  \n",
       "5     23.20      2.26      4.22         0.58           NaN        NaN    NaN  \n",
       "6     11.28      9.14      6.50         2.88          89.0        8.5      E  \n",
       "7     13.96      9.18      2.93         2.84          58.0        6.6      E  \n",
       "8     14.44      6.94      4.70         2.24          87.0        8.4      E  \n",
       "9     26.93      0.63      0.28         0.47           NaN        NaN    NaN  "
      ]
     },
     "execution_count": 2,
     "metadata": {},
     "output_type": "execute_result"
    }
   ],
   "source": [
    "# загружаю данные\n",
    "df = pd.read_csv('games.csv')\n",
    "df.head(10)    "
   ]
  },
  {
   "cell_type": "code",
   "execution_count": 3,
   "metadata": {},
   "outputs": [
    {
     "name": "stdout",
     "output_type": "stream",
     "text": [
      "<class 'pandas.core.frame.DataFrame'>\n",
      "RangeIndex: 16715 entries, 0 to 16714\n",
      "Data columns (total 11 columns):\n",
      " #   Column           Non-Null Count  Dtype  \n",
      "---  ------           --------------  -----  \n",
      " 0   Name             16713 non-null  object \n",
      " 1   Platform         16715 non-null  object \n",
      " 2   Year_of_Release  16446 non-null  float64\n",
      " 3   Genre            16713 non-null  object \n",
      " 4   NA_sales         16715 non-null  float64\n",
      " 5   EU_sales         16715 non-null  float64\n",
      " 6   JP_sales         16715 non-null  float64\n",
      " 7   Other_sales      16715 non-null  float64\n",
      " 8   Critic_Score     8137 non-null   float64\n",
      " 9   User_Score       10014 non-null  object \n",
      " 10  Rating           9949 non-null   object \n",
      "dtypes: float64(6), object(5)\n",
      "memory usage: 1.4+ MB\n"
     ]
    }
   ],
   "source": [
    "df.info()"
   ]
  },
  {
   "cell_type": "markdown",
   "metadata": {},
   "source": [
    "### Вывод\n",
    "\n",
    "После обзора данных определены следующие задачи для их предобработки:\n",
    "1. Привести к нижнему регистру названия столбцов;\n",
    "2. Изменить типы значений, которые потребуются для расчетов:\n",
    "    - Year_of_Release с float64 на int\n",
    "    - User_Score с object на float64\n",
    "3. Обработать пропуски:\n",
    "    - Name\n",
    "    - Year_of_Release\n",
    "    - Genre\n",
    "    - Critic_Score\n",
    "    - User_Score\n",
    "    - Rating\n",
    "4. Посчитать суммарные продажи во всех регионах."
   ]
  },
  {
   "cell_type": "markdown",
   "metadata": {},
   "source": [
    "## Подготовка данных"
   ]
  },
  {
   "cell_type": "code",
   "execution_count": 4,
   "metadata": {},
   "outputs": [
    {
     "data": {
      "text/plain": [
       "Index(['name', 'platform', 'year_of_release', 'genre', 'na_sales', 'eu_sales',\n",
       "       'jp_sales', 'other_sales', 'critic_score', 'user_score', 'rating'],\n",
       "      dtype='object')"
      ]
     },
     "execution_count": 4,
     "metadata": {},
     "output_type": "execute_result"
    }
   ],
   "source": [
    "#перевожу названия столбцов к нижнему регистру\n",
    "df.columns = df.columns.str.lower()\n",
    "df.columns"
   ]
  },
  {
   "cell_type": "code",
   "execution_count": 5,
   "metadata": {},
   "outputs": [],
   "source": [
    "#меняю тип даныых в Year_of_Release с float64 на int\n",
    "df['year_of_release'] = pd.array(df['year_of_release'], dtype='Int64')"
   ]
  },
  {
   "cell_type": "code",
   "execution_count": 6,
   "metadata": {},
   "outputs": [
    {
     "data": {
      "text/plain": [
       "tbd    2424\n",
       "7.8     324\n",
       "8       290\n",
       "8.2     282\n",
       "8.3     254\n",
       "       ... \n",
       "1.1       2\n",
       "1.9       2\n",
       "9.6       2\n",
       "0         1\n",
       "9.7       1\n",
       "Name: user_score, Length: 96, dtype: int64"
      ]
     },
     "execution_count": 6,
     "metadata": {},
     "output_type": "execute_result"
    }
   ],
   "source": [
    "#меняю тип даныых в User_Score с object на float64\n",
    "df['user_score'].value_counts()"
   ]
  },
  {
   "cell_type": "markdown",
   "metadata": {},
   "source": [
    "Среди числовых значений столбца user_score встречается значение \"tbd\", аббревиатура, означающая, что информация не определена, что в текущем исследовании равносильно отсутствию значения."
   ]
  },
  {
   "cell_type": "code",
   "execution_count": 7,
   "metadata": {},
   "outputs": [],
   "source": [
    "df['user_score'] = df['user_score'].replace('tbd', np.NaN)\n",
    "df['user_score'] = df['user_score'].astype('float64')"
   ]
  },
  {
   "cell_type": "code",
   "execution_count": 8,
   "metadata": {},
   "outputs": [
    {
     "data": {
      "text/html": [
       "<div>\n",
       "<style scoped>\n",
       "    .dataframe tbody tr th:only-of-type {\n",
       "        vertical-align: middle;\n",
       "    }\n",
       "\n",
       "    .dataframe tbody tr th {\n",
       "        vertical-align: top;\n",
       "    }\n",
       "\n",
       "    .dataframe thead th {\n",
       "        text-align: right;\n",
       "    }\n",
       "</style>\n",
       "<table border=\"1\" class=\"dataframe\">\n",
       "  <thead>\n",
       "    <tr style=\"text-align: right;\">\n",
       "      <th></th>\n",
       "      <th>name</th>\n",
       "      <th>platform</th>\n",
       "      <th>year_of_release</th>\n",
       "      <th>genre</th>\n",
       "      <th>na_sales</th>\n",
       "      <th>eu_sales</th>\n",
       "      <th>jp_sales</th>\n",
       "      <th>other_sales</th>\n",
       "      <th>critic_score</th>\n",
       "      <th>user_score</th>\n",
       "      <th>rating</th>\n",
       "    </tr>\n",
       "  </thead>\n",
       "  <tbody>\n",
       "    <tr>\n",
       "      <th>659</th>\n",
       "      <td>NaN</td>\n",
       "      <td>GEN</td>\n",
       "      <td>1993</td>\n",
       "      <td>NaN</td>\n",
       "      <td>1.78</td>\n",
       "      <td>0.53</td>\n",
       "      <td>0.00</td>\n",
       "      <td>0.08</td>\n",
       "      <td>NaN</td>\n",
       "      <td>NaN</td>\n",
       "      <td>NaN</td>\n",
       "    </tr>\n",
       "    <tr>\n",
       "      <th>14244</th>\n",
       "      <td>NaN</td>\n",
       "      <td>GEN</td>\n",
       "      <td>1993</td>\n",
       "      <td>NaN</td>\n",
       "      <td>0.00</td>\n",
       "      <td>0.00</td>\n",
       "      <td>0.03</td>\n",
       "      <td>0.00</td>\n",
       "      <td>NaN</td>\n",
       "      <td>NaN</td>\n",
       "      <td>NaN</td>\n",
       "    </tr>\n",
       "  </tbody>\n",
       "</table>\n",
       "</div>"
      ],
      "text/plain": [
       "      name platform  year_of_release genre  na_sales  eu_sales  jp_sales  \\\n",
       "659    NaN      GEN             1993   NaN      1.78      0.53      0.00   \n",
       "14244  NaN      GEN             1993   NaN      0.00      0.00      0.03   \n",
       "\n",
       "       other_sales  critic_score  user_score rating  \n",
       "659           0.08           NaN         NaN    NaN  \n",
       "14244         0.00           NaN         NaN    NaN  "
      ]
     },
     "execution_count": 8,
     "metadata": {},
     "output_type": "execute_result"
    }
   ],
   "source": [
    "# обработка пропусков в 'name'\n",
    "df[df['name'].isna()]"
   ]
  },
  {
   "cell_type": "markdown",
   "metadata": {},
   "source": [
    "Пропуски в \"name\" совпадают с пропусками в \"genre\", также для этих игр не заполнены оценки и ретинг, так как таких пропусков всего два, их значения не оказывают существенного влияния на результаты, поэтому можно избавиться от них."
   ]
  },
  {
   "cell_type": "code",
   "execution_count": 9,
   "metadata": {},
   "outputs": [],
   "source": [
    "df =  df.dropna(subset=['name'])"
   ]
  },
  {
   "cell_type": "code",
   "execution_count": 10,
   "metadata": {},
   "outputs": [
    {
     "data": {
      "text/html": [
       "<div>\n",
       "<style scoped>\n",
       "    .dataframe tbody tr th:only-of-type {\n",
       "        vertical-align: middle;\n",
       "    }\n",
       "\n",
       "    .dataframe tbody tr th {\n",
       "        vertical-align: top;\n",
       "    }\n",
       "\n",
       "    .dataframe thead th {\n",
       "        text-align: right;\n",
       "    }\n",
       "</style>\n",
       "<table border=\"1\" class=\"dataframe\">\n",
       "  <thead>\n",
       "    <tr style=\"text-align: right;\">\n",
       "      <th></th>\n",
       "      <th>name</th>\n",
       "      <th>platform</th>\n",
       "      <th>year_of_release</th>\n",
       "      <th>genre</th>\n",
       "      <th>na_sales</th>\n",
       "      <th>eu_sales</th>\n",
       "      <th>jp_sales</th>\n",
       "      <th>other_sales</th>\n",
       "      <th>critic_score</th>\n",
       "      <th>user_score</th>\n",
       "      <th>rating</th>\n",
       "    </tr>\n",
       "  </thead>\n",
       "  <tbody>\n",
       "    <tr>\n",
       "      <th>183</th>\n",
       "      <td>Madden NFL 2004</td>\n",
       "      <td>PS2</td>\n",
       "      <td>&lt;NA&gt;</td>\n",
       "      <td>Sports</td>\n",
       "      <td>4.26</td>\n",
       "      <td>0.26</td>\n",
       "      <td>0.01</td>\n",
       "      <td>0.71</td>\n",
       "      <td>94.0</td>\n",
       "      <td>8.5</td>\n",
       "      <td>E</td>\n",
       "    </tr>\n",
       "    <tr>\n",
       "      <th>377</th>\n",
       "      <td>FIFA Soccer 2004</td>\n",
       "      <td>PS2</td>\n",
       "      <td>&lt;NA&gt;</td>\n",
       "      <td>Sports</td>\n",
       "      <td>0.59</td>\n",
       "      <td>2.36</td>\n",
       "      <td>0.04</td>\n",
       "      <td>0.51</td>\n",
       "      <td>84.0</td>\n",
       "      <td>6.4</td>\n",
       "      <td>E</td>\n",
       "    </tr>\n",
       "    <tr>\n",
       "      <th>456</th>\n",
       "      <td>LEGO Batman: The Videogame</td>\n",
       "      <td>Wii</td>\n",
       "      <td>&lt;NA&gt;</td>\n",
       "      <td>Action</td>\n",
       "      <td>1.80</td>\n",
       "      <td>0.97</td>\n",
       "      <td>0.00</td>\n",
       "      <td>0.29</td>\n",
       "      <td>74.0</td>\n",
       "      <td>7.9</td>\n",
       "      <td>E10+</td>\n",
       "    </tr>\n",
       "    <tr>\n",
       "      <th>475</th>\n",
       "      <td>wwe Smackdown vs. Raw 2006</td>\n",
       "      <td>PS2</td>\n",
       "      <td>&lt;NA&gt;</td>\n",
       "      <td>Fighting</td>\n",
       "      <td>1.57</td>\n",
       "      <td>1.02</td>\n",
       "      <td>0.00</td>\n",
       "      <td>0.41</td>\n",
       "      <td>NaN</td>\n",
       "      <td>NaN</td>\n",
       "      <td>NaN</td>\n",
       "    </tr>\n",
       "    <tr>\n",
       "      <th>609</th>\n",
       "      <td>Space Invaders</td>\n",
       "      <td>2600</td>\n",
       "      <td>&lt;NA&gt;</td>\n",
       "      <td>Shooter</td>\n",
       "      <td>2.36</td>\n",
       "      <td>0.14</td>\n",
       "      <td>0.00</td>\n",
       "      <td>0.03</td>\n",
       "      <td>NaN</td>\n",
       "      <td>NaN</td>\n",
       "      <td>NaN</td>\n",
       "    </tr>\n",
       "  </tbody>\n",
       "</table>\n",
       "</div>"
      ],
      "text/plain": [
       "                           name platform  year_of_release     genre  na_sales  \\\n",
       "183             Madden NFL 2004      PS2             <NA>    Sports      4.26   \n",
       "377            FIFA Soccer 2004      PS2             <NA>    Sports      0.59   \n",
       "456  LEGO Batman: The Videogame      Wii             <NA>    Action      1.80   \n",
       "475  wwe Smackdown vs. Raw 2006      PS2             <NA>  Fighting      1.57   \n",
       "609              Space Invaders     2600             <NA>   Shooter      2.36   \n",
       "\n",
       "     eu_sales  jp_sales  other_sales  critic_score  user_score rating  \n",
       "183      0.26      0.01         0.71          94.0         8.5      E  \n",
       "377      2.36      0.04         0.51          84.0         6.4      E  \n",
       "456      0.97      0.00         0.29          74.0         7.9   E10+  \n",
       "475      1.02      0.00         0.41           NaN         NaN    NaN  \n",
       "609      0.14      0.00         0.03           NaN         NaN    NaN  "
      ]
     },
     "execution_count": 10,
     "metadata": {},
     "output_type": "execute_result"
    }
   ],
   "source": [
    "#обработка пропусков в \"year_of_release\"\n",
    "df[df['year_of_release'].isna()].head()"
   ]
  },
  {
   "cell_type": "code",
   "execution_count": 11,
   "metadata": {},
   "outputs": [
    {
     "data": {
      "text/html": [
       "<div>\n",
       "<style scoped>\n",
       "    .dataframe tbody tr th:only-of-type {\n",
       "        vertical-align: middle;\n",
       "    }\n",
       "\n",
       "    .dataframe tbody tr th {\n",
       "        vertical-align: top;\n",
       "    }\n",
       "\n",
       "    .dataframe thead th {\n",
       "        text-align: right;\n",
       "    }\n",
       "</style>\n",
       "<table border=\"1\" class=\"dataframe\">\n",
       "  <thead>\n",
       "    <tr style=\"text-align: right;\">\n",
       "      <th></th>\n",
       "      <th>name</th>\n",
       "      <th>platform</th>\n",
       "      <th>year_of_release</th>\n",
       "      <th>genre</th>\n",
       "      <th>na_sales</th>\n",
       "      <th>eu_sales</th>\n",
       "      <th>jp_sales</th>\n",
       "      <th>other_sales</th>\n",
       "      <th>critic_score</th>\n",
       "      <th>user_score</th>\n",
       "      <th>rating</th>\n",
       "    </tr>\n",
       "  </thead>\n",
       "  <tbody>\n",
       "    <tr>\n",
       "      <th>183</th>\n",
       "      <td>Madden NFL 2004</td>\n",
       "      <td>PS2</td>\n",
       "      <td>&lt;NA&gt;</td>\n",
       "      <td>Sports</td>\n",
       "      <td>4.26</td>\n",
       "      <td>0.26</td>\n",
       "      <td>0.01</td>\n",
       "      <td>0.71</td>\n",
       "      <td>94.0</td>\n",
       "      <td>8.5</td>\n",
       "      <td>E</td>\n",
       "    </tr>\n",
       "    <tr>\n",
       "      <th>1881</th>\n",
       "      <td>Madden NFL 2004</td>\n",
       "      <td>XB</td>\n",
       "      <td>2003</td>\n",
       "      <td>Sports</td>\n",
       "      <td>1.02</td>\n",
       "      <td>0.02</td>\n",
       "      <td>0.00</td>\n",
       "      <td>0.05</td>\n",
       "      <td>92.0</td>\n",
       "      <td>8.3</td>\n",
       "      <td>E</td>\n",
       "    </tr>\n",
       "    <tr>\n",
       "      <th>3889</th>\n",
       "      <td>Madden NFL 2004</td>\n",
       "      <td>GC</td>\n",
       "      <td>2003</td>\n",
       "      <td>Sports</td>\n",
       "      <td>0.40</td>\n",
       "      <td>0.10</td>\n",
       "      <td>0.00</td>\n",
       "      <td>0.01</td>\n",
       "      <td>94.0</td>\n",
       "      <td>7.7</td>\n",
       "      <td>E</td>\n",
       "    </tr>\n",
       "    <tr>\n",
       "      <th>5708</th>\n",
       "      <td>Madden NFL 2004</td>\n",
       "      <td>GBA</td>\n",
       "      <td>2003</td>\n",
       "      <td>Sports</td>\n",
       "      <td>0.22</td>\n",
       "      <td>0.08</td>\n",
       "      <td>0.00</td>\n",
       "      <td>0.01</td>\n",
       "      <td>70.0</td>\n",
       "      <td>6.6</td>\n",
       "      <td>E</td>\n",
       "    </tr>\n",
       "  </tbody>\n",
       "</table>\n",
       "</div>"
      ],
      "text/plain": [
       "                 name platform  year_of_release   genre  na_sales  eu_sales  \\\n",
       "183   Madden NFL 2004      PS2             <NA>  Sports      4.26      0.26   \n",
       "1881  Madden NFL 2004       XB             2003  Sports      1.02      0.02   \n",
       "3889  Madden NFL 2004       GC             2003  Sports      0.40      0.10   \n",
       "5708  Madden NFL 2004      GBA             2003  Sports      0.22      0.08   \n",
       "\n",
       "      jp_sales  other_sales  critic_score  user_score rating  \n",
       "183       0.01         0.71          94.0         8.5      E  \n",
       "1881      0.00         0.05          92.0         8.3      E  \n",
       "3889      0.00         0.01          94.0         7.7      E  \n",
       "5708      0.00         0.01          70.0         6.6      E  "
      ]
     },
     "execution_count": 11,
     "metadata": {},
     "output_type": "execute_result"
    }
   ],
   "source": [
    "#проверка пропусков года релиза по отдельной игре\n",
    "df[df['name'] == 'Madden NFL 2004']"
   ]
  },
  {
   "cell_type": "code",
   "execution_count": 12,
   "metadata": {},
   "outputs": [
    {
     "data": {
      "text/html": [
       "<div>\n",
       "<style scoped>\n",
       "    .dataframe tbody tr th:only-of-type {\n",
       "        vertical-align: middle;\n",
       "    }\n",
       "\n",
       "    .dataframe tbody tr th {\n",
       "        vertical-align: top;\n",
       "    }\n",
       "\n",
       "    .dataframe thead th {\n",
       "        text-align: right;\n",
       "    }\n",
       "</style>\n",
       "<table border=\"1\" class=\"dataframe\">\n",
       "  <thead>\n",
       "    <tr style=\"text-align: right;\">\n",
       "      <th></th>\n",
       "      <th>name</th>\n",
       "      <th>platform</th>\n",
       "      <th>year_of_release</th>\n",
       "      <th>genre</th>\n",
       "      <th>na_sales</th>\n",
       "      <th>eu_sales</th>\n",
       "      <th>jp_sales</th>\n",
       "      <th>other_sales</th>\n",
       "      <th>critic_score</th>\n",
       "      <th>user_score</th>\n",
       "      <th>rating</th>\n",
       "    </tr>\n",
       "  </thead>\n",
       "  <tbody>\n",
       "    <tr>\n",
       "      <th>609</th>\n",
       "      <td>Space Invaders</td>\n",
       "      <td>2600</td>\n",
       "      <td>&lt;NA&gt;</td>\n",
       "      <td>Shooter</td>\n",
       "      <td>2.36</td>\n",
       "      <td>0.14</td>\n",
       "      <td>0.00</td>\n",
       "      <td>0.03</td>\n",
       "      <td>NaN</td>\n",
       "      <td>NaN</td>\n",
       "      <td>NaN</td>\n",
       "    </tr>\n",
       "    <tr>\n",
       "      <th>4264</th>\n",
       "      <td>Space Invaders</td>\n",
       "      <td>SNES</td>\n",
       "      <td>1994</td>\n",
       "      <td>Shooter</td>\n",
       "      <td>0.00</td>\n",
       "      <td>0.00</td>\n",
       "      <td>0.46</td>\n",
       "      <td>0.00</td>\n",
       "      <td>NaN</td>\n",
       "      <td>NaN</td>\n",
       "      <td>NaN</td>\n",
       "    </tr>\n",
       "    <tr>\n",
       "      <th>8580</th>\n",
       "      <td>Space Invaders</td>\n",
       "      <td>N64</td>\n",
       "      <td>1999</td>\n",
       "      <td>Shooter</td>\n",
       "      <td>0.13</td>\n",
       "      <td>0.03</td>\n",
       "      <td>0.00</td>\n",
       "      <td>0.00</td>\n",
       "      <td>NaN</td>\n",
       "      <td>NaN</td>\n",
       "      <td>NaN</td>\n",
       "    </tr>\n",
       "    <tr>\n",
       "      <th>10383</th>\n",
       "      <td>Space Invaders</td>\n",
       "      <td>GBA</td>\n",
       "      <td>2002</td>\n",
       "      <td>Shooter</td>\n",
       "      <td>0.08</td>\n",
       "      <td>0.03</td>\n",
       "      <td>0.00</td>\n",
       "      <td>0.00</td>\n",
       "      <td>NaN</td>\n",
       "      <td>NaN</td>\n",
       "      <td>NaN</td>\n",
       "    </tr>\n",
       "  </tbody>\n",
       "</table>\n",
       "</div>"
      ],
      "text/plain": [
       "                 name platform  year_of_release    genre  na_sales  eu_sales  \\\n",
       "609    Space Invaders     2600             <NA>  Shooter      2.36      0.14   \n",
       "4264   Space Invaders     SNES             1994  Shooter      0.00      0.00   \n",
       "8580   Space Invaders      N64             1999  Shooter      0.13      0.03   \n",
       "10383  Space Invaders      GBA             2002  Shooter      0.08      0.03   \n",
       "\n",
       "       jp_sales  other_sales  critic_score  user_score rating  \n",
       "609        0.00         0.03           NaN         NaN    NaN  \n",
       "4264       0.46         0.00           NaN         NaN    NaN  \n",
       "8580       0.00         0.00           NaN         NaN    NaN  \n",
       "10383      0.00         0.00           NaN         NaN    NaN  "
      ]
     },
     "execution_count": 12,
     "metadata": {},
     "output_type": "execute_result"
    }
   ],
   "source": [
    "#проверка пропусков года релиза по отдельной игре\n",
    "df[df['name'] == 'Space Invaders']"
   ]
  },
  {
   "cell_type": "markdown",
   "metadata": {},
   "source": [
    "Год выхода некоторых игр на разных платформах очень сильно отличается, поэтому будет неправильно использовать год выпуска на других платформах с группировкой по названию для заполнения пропусков \"year_of_release\", поэтому лучше не заполнять пропуски совсем."
   ]
  },
  {
   "cell_type": "markdown",
   "metadata": {},
   "source": [
    "Оценки критиков и пользователей таккже могут отличаться в зависимости от платформы, а то, что количество пропусков в эих столбцах различное может говорить о том, что тип оценки не ведется на некоторых платформах, поэтому нет оптимального способа заполнить пропуски в \"critic_score\" и \"user_score\"."
   ]
  },
  {
   "cell_type": "markdown",
   "metadata": {},
   "source": [
    "Пропуски в \"rating\" могут означать, что игра не проходила оценку ESRB, поэтому в зполнении пропусков этого столбца нет смысла."
   ]
  },
  {
   "cell_type": "code",
   "execution_count": 13,
   "metadata": {},
   "outputs": [
    {
     "data": {
      "text/html": [
       "<div>\n",
       "<style scoped>\n",
       "    .dataframe tbody tr th:only-of-type {\n",
       "        vertical-align: middle;\n",
       "    }\n",
       "\n",
       "    .dataframe tbody tr th {\n",
       "        vertical-align: top;\n",
       "    }\n",
       "\n",
       "    .dataframe thead th {\n",
       "        text-align: right;\n",
       "    }\n",
       "</style>\n",
       "<table border=\"1\" class=\"dataframe\">\n",
       "  <thead>\n",
       "    <tr style=\"text-align: right;\">\n",
       "      <th></th>\n",
       "      <th>name</th>\n",
       "      <th>platform</th>\n",
       "      <th>year_of_release</th>\n",
       "      <th>genre</th>\n",
       "      <th>na_sales</th>\n",
       "      <th>eu_sales</th>\n",
       "      <th>jp_sales</th>\n",
       "      <th>other_sales</th>\n",
       "      <th>critic_score</th>\n",
       "      <th>user_score</th>\n",
       "      <th>rating</th>\n",
       "      <th>total_sales</th>\n",
       "    </tr>\n",
       "  </thead>\n",
       "  <tbody>\n",
       "    <tr>\n",
       "      <th>13834</th>\n",
       "      <td>Clannad</td>\n",
       "      <td>PS2</td>\n",
       "      <td>2006</td>\n",
       "      <td>Adventure</td>\n",
       "      <td>0.00</td>\n",
       "      <td>0.00</td>\n",
       "      <td>0.04</td>\n",
       "      <td>0.00</td>\n",
       "      <td>NaN</td>\n",
       "      <td>NaN</td>\n",
       "      <td>NaN</td>\n",
       "      <td>0.04</td>\n",
       "    </tr>\n",
       "    <tr>\n",
       "      <th>14761</th>\n",
       "      <td>Diabolik Lovers: Lunatic Parade</td>\n",
       "      <td>PSV</td>\n",
       "      <td>2016</td>\n",
       "      <td>Adventure</td>\n",
       "      <td>0.00</td>\n",
       "      <td>0.00</td>\n",
       "      <td>0.03</td>\n",
       "      <td>0.00</td>\n",
       "      <td>NaN</td>\n",
       "      <td>NaN</td>\n",
       "      <td>NaN</td>\n",
       "      <td>0.03</td>\n",
       "    </tr>\n",
       "    <tr>\n",
       "      <th>10580</th>\n",
       "      <td>Disney's The Haunted Mansion</td>\n",
       "      <td>GC</td>\n",
       "      <td>2003</td>\n",
       "      <td>Platform</td>\n",
       "      <td>0.08</td>\n",
       "      <td>0.02</td>\n",
       "      <td>0.00</td>\n",
       "      <td>0.00</td>\n",
       "      <td>NaN</td>\n",
       "      <td>NaN</td>\n",
       "      <td>NaN</td>\n",
       "      <td>0.10</td>\n",
       "    </tr>\n",
       "    <tr>\n",
       "      <th>12371</th>\n",
       "      <td>Arc the Lad: End of Darkness</td>\n",
       "      <td>PS2</td>\n",
       "      <td>2004</td>\n",
       "      <td>Role-Playing</td>\n",
       "      <td>0.03</td>\n",
       "      <td>0.02</td>\n",
       "      <td>0.00</td>\n",
       "      <td>0.01</td>\n",
       "      <td>59.0</td>\n",
       "      <td>4.2</td>\n",
       "      <td>T</td>\n",
       "      <td>0.06</td>\n",
       "    </tr>\n",
       "    <tr>\n",
       "      <th>2038</th>\n",
       "      <td>Harry Potter and the Prisoner of Azkaban</td>\n",
       "      <td>PS2</td>\n",
       "      <td>2004</td>\n",
       "      <td>Action</td>\n",
       "      <td>0.50</td>\n",
       "      <td>0.39</td>\n",
       "      <td>0.00</td>\n",
       "      <td>0.13</td>\n",
       "      <td>70.0</td>\n",
       "      <td>8.7</td>\n",
       "      <td>E</td>\n",
       "      <td>1.02</td>\n",
       "    </tr>\n",
       "  </tbody>\n",
       "</table>\n",
       "</div>"
      ],
      "text/plain": [
       "                                           name platform  year_of_release  \\\n",
       "13834                                   Clannad      PS2             2006   \n",
       "14761           Diabolik Lovers: Lunatic Parade      PSV             2016   \n",
       "10580              Disney's The Haunted Mansion       GC             2003   \n",
       "12371              Arc the Lad: End of Darkness      PS2             2004   \n",
       "2038   Harry Potter and the Prisoner of Azkaban      PS2             2004   \n",
       "\n",
       "              genre  na_sales  eu_sales  jp_sales  other_sales  critic_score  \\\n",
       "13834     Adventure      0.00      0.00      0.04         0.00           NaN   \n",
       "14761     Adventure      0.00      0.00      0.03         0.00           NaN   \n",
       "10580      Platform      0.08      0.02      0.00         0.00           NaN   \n",
       "12371  Role-Playing      0.03      0.02      0.00         0.01          59.0   \n",
       "2038         Action      0.50      0.39      0.00         0.13          70.0   \n",
       "\n",
       "       user_score rating  total_sales  \n",
       "13834         NaN    NaN         0.04  \n",
       "14761         NaN    NaN         0.03  \n",
       "10580         NaN    NaN         0.10  \n",
       "12371         4.2      T         0.06  \n",
       "2038          8.7      E         1.02  "
      ]
     },
     "execution_count": 13,
     "metadata": {},
     "output_type": "execute_result"
    }
   ],
   "source": [
    "#суммарные продажи\n",
    "df['total_sales'] = df['na_sales'] + df['eu_sales'] + df['jp_sales'] + df['other_sales']\n",
    "df.sample(5)"
   ]
  },
  {
   "cell_type": "code",
   "execution_count": 14,
   "metadata": {},
   "outputs": [
    {
     "data": {
      "text/plain": [
       "0"
      ]
     },
     "execution_count": 14,
     "metadata": {},
     "output_type": "execute_result"
    }
   ],
   "source": [
    "#проверка дубликатов\n",
    "df.duplicated().sum()"
   ]
  },
  {
   "cell_type": "markdown",
   "metadata": {},
   "source": [
    "### Вывод\n",
    "Все названия столбцов приведены к нижнему регистру. Изменены типы данных в столбцах \"year_of_release\" и \"user_score\". Удалены строки с пропусками в \"name\" и \"genre\", пропуски в \"year_of_release\", \"critic_score\", \"user_score\" и \"rating\" оставлены без изменений, так как по разным причинам не нашлось оптимального способа для заполнения. Добавлена общая сумма продаж."
   ]
  },
  {
   "cell_type": "markdown",
   "metadata": {},
   "source": [
    "## Исследовательский анализ данных"
   ]
  },
  {
   "cell_type": "code",
   "execution_count": 15,
   "metadata": {},
   "outputs": [
    {
     "data": {
      "image/png": "[encoded data removed]",
      "text/plain": [
       "<Figure size 720x288 with 1 Axes>"
      ]
     },
     "metadata": {
      "needs_background": "light"
     },
     "output_type": "display_data"
    }
   ],
   "source": [
    "(df\n",
    " .pivot_table(index='year_of_release', values='name', aggfunc='count')\n",
    " .plot(kind='line', figsize=(10,4),  style = 'o-')\n",
    ")\n",
    "plt.title('Рост количества игр по годам'+ \"\\n\")\n",
    "plt.xlabel('Год')\n",
    "plt.ylabel('Количество');"
   ]
  },
  {
   "cell_type": "code",
   "execution_count": 16,
   "metadata": {},
   "outputs": [
    {
     "data": {
      "image/png": "[encoded data removed]",
      "text/plain": [
       "<Figure size 720x288 with 1 Axes>"
      ]
     },
     "metadata": {
      "needs_background": "light"
     },
     "output_type": "display_data"
    }
   ],
   "source": [
    "(df\n",
    " .pivot_table(index='year_of_release', values='total_sales', aggfunc='sum')\n",
    " .plot(kind='line', figsize=(10,4),  style = 'o-')\n",
    ")\n",
    "plt.title('Рост продаж игр по годам'+ \"\\n\")\n",
    "plt.xlabel('Год')\n",
    "plt.ylabel('Сумма продаж');"
   ]
  },
  {
   "cell_type": "markdown",
   "metadata": {},
   "source": [
    "Можем наблюдать, что с 1994 изменения в количестве выпусков и объеме продаж происходит активнее, значительно, хоть и не равномерно, прирастает вплоть до 2008 года, а с 2009 начинает резко снижаться, количество выпусков в 2016 близко по значению к 2001."
   ]
  },
  {
   "cell_type": "code",
   "execution_count": 17,
   "metadata": {},
   "outputs": [
    {
     "data": {
      "text/html": [
       "<div>\n",
       "<style scoped>\n",
       "    .dataframe tbody tr th:only-of-type {\n",
       "        vertical-align: middle;\n",
       "    }\n",
       "\n",
       "    .dataframe tbody tr th {\n",
       "        vertical-align: top;\n",
       "    }\n",
       "\n",
       "    .dataframe thead th {\n",
       "        text-align: right;\n",
       "    }\n",
       "</style>\n",
       "<table border=\"1\" class=\"dataframe\">\n",
       "  <thead>\n",
       "    <tr style=\"text-align: right;\">\n",
       "      <th></th>\n",
       "      <th>total_sales</th>\n",
       "    </tr>\n",
       "    <tr>\n",
       "      <th>platform</th>\n",
       "      <th></th>\n",
       "    </tr>\n",
       "  </thead>\n",
       "  <tbody>\n",
       "    <tr>\n",
       "      <th>PS2</th>\n",
       "      <td>1255.77</td>\n",
       "    </tr>\n",
       "    <tr>\n",
       "      <th>X360</th>\n",
       "      <td>971.42</td>\n",
       "    </tr>\n",
       "    <tr>\n",
       "      <th>PS3</th>\n",
       "      <td>939.65</td>\n",
       "    </tr>\n",
       "    <tr>\n",
       "      <th>Wii</th>\n",
       "      <td>907.51</td>\n",
       "    </tr>\n",
       "    <tr>\n",
       "      <th>DS</th>\n",
       "      <td>806.12</td>\n",
       "    </tr>\n",
       "    <tr>\n",
       "      <th>PS</th>\n",
       "      <td>730.86</td>\n",
       "    </tr>\n",
       "    <tr>\n",
       "      <th>GBA</th>\n",
       "      <td>317.85</td>\n",
       "    </tr>\n",
       "    <tr>\n",
       "      <th>PS4</th>\n",
       "      <td>314.14</td>\n",
       "    </tr>\n",
       "    <tr>\n",
       "      <th>PSP</th>\n",
       "      <td>294.05</td>\n",
       "    </tr>\n",
       "    <tr>\n",
       "      <th>PC</th>\n",
       "      <td>259.52</td>\n",
       "    </tr>\n",
       "    <tr>\n",
       "      <th>3DS</th>\n",
       "      <td>259.00</td>\n",
       "    </tr>\n",
       "    <tr>\n",
       "      <th>XB</th>\n",
       "      <td>257.74</td>\n",
       "    </tr>\n",
       "    <tr>\n",
       "      <th>GB</th>\n",
       "      <td>255.46</td>\n",
       "    </tr>\n",
       "    <tr>\n",
       "      <th>NES</th>\n",
       "      <td>251.05</td>\n",
       "    </tr>\n",
       "    <tr>\n",
       "      <th>N64</th>\n",
       "      <td>218.68</td>\n",
       "    </tr>\n",
       "  </tbody>\n",
       "</table>\n",
       "</div>"
      ],
      "text/plain": [
       "          total_sales\n",
       "platform             \n",
       "PS2           1255.77\n",
       "X360           971.42\n",
       "PS3            939.65\n",
       "Wii            907.51\n",
       "DS             806.12\n",
       "PS             730.86\n",
       "GBA            317.85\n",
       "PS4            314.14\n",
       "PSP            294.05\n",
       "PC             259.52\n",
       "3DS            259.00\n",
       "XB             257.74\n",
       "GB             255.46\n",
       "NES            251.05\n",
       "N64            218.68"
      ]
     },
     "execution_count": 17,
     "metadata": {},
     "output_type": "execute_result"
    }
   ],
   "source": [
    "#составляю рейтинг продаж платформ\n",
    "platform_total_sales = df.pivot_table(index='platform', values='total_sales', aggfunc='sum')\n",
    "platform_total_sales.sort_values(by='total_sales', ascending=False).head(15)"
   ]
  },
  {
   "cell_type": "markdown",
   "metadata": {},
   "source": [
    "Разница в продажах у шестой(PS) и седьмой(GBA) позиций рейтинга более чем в два раза, далее рассмотрим, как распределялись продажи у топ-6 по годам."
   ]
  },
  {
   "cell_type": "code",
   "execution_count": 18,
   "metadata": {},
   "outputs": [],
   "source": [
    "top_6_platforms = platform_total_sales.sort_values(by='total_sales', ascending=False).head(6)\n",
    "df_top_6_platforms = df.query('platform in @top_6_platforms.index')"
   ]
  },
  {
   "cell_type": "code",
   "execution_count": 19,
   "metadata": {},
   "outputs": [
    {
     "data": {
      "image/png": "[encoded data removed]",
      "text/plain": [
       "<Figure size 1440x288 with 1 Axes>"
      ]
     },
     "metadata": {
      "needs_background": "light"
     },
     "output_type": "display_data"
    }
   ],
   "source": [
    "(df_top_6_platforms\n",
    " .pivot_table(index='year_of_release', columns='platform', values='total_sales', aggfunc='sum')\n",
    " .plot(kind='line', figsize=(20,4),  style = 'o-')\n",
    ")\n",
    "plt.title('Динамика продаж по платформам'+ \"\\n\")\n",
    "plt.xlabel('Год')\n",
    "plt.ylabel('сумма продаж');"
   ]
  },
  {
   "cell_type": "markdown",
   "metadata": {},
   "source": [
    "Значение с 1985 годом по платформе DS ошибочное, в это время платформа начала работать гораздо позже, в 2004."
   ]
  },
  {
   "cell_type": "code",
   "execution_count": 20,
   "metadata": {},
   "outputs": [
    {
     "data": {
      "image/png": "[encoded data removed]",
      "text/plain": [
       "<Figure size 1440x288 with 1 Axes>"
      ]
     },
     "metadata": {
      "needs_background": "light"
     },
     "output_type": "display_data"
    }
   ],
   "source": [
    "#динамика продаж по топовым платформам без ошибочного значения в DS\n",
    "(df_top_6_platforms\n",
    " .pivot_table(index='year_of_release', columns='platform', values='total_sales', aggfunc='sum')\n",
    " .query('year_of_release != 1985')\n",
    " .plot(kind='line', figsize=(20,4),  style = 'o-')\n",
    ")\n",
    "plt.title('Динамика продаж по платформам'+ \"\\n\")\n",
    "plt.xlabel('Год')\n",
    "plt.ylabel('сумма продаж');"
   ]
  },
  {
   "cell_type": "markdown",
   "metadata": {},
   "source": [
    "Срок продолжительности \"жизни\" популярной платформы - 9-11 лет, пик продаж обычно происходит в четвертый-пятый год. Исходя из того, что сейчас декабрь 2016го, будем рассматривать продажи с 2014 (2016г - 3 года период выхода платформы на пик продаж), учитывая рост до 2015, так как данные за 2016 год могут быть собраны не до конца."
   ]
  },
  {
   "cell_type": "code",
   "execution_count": 21,
   "metadata": {},
   "outputs": [
    {
     "data": {
      "text/html": [
       "<div>\n",
       "<style scoped>\n",
       "    .dataframe tbody tr th:only-of-type {\n",
       "        vertical-align: middle;\n",
       "    }\n",
       "\n",
       "    .dataframe tbody tr th {\n",
       "        vertical-align: top;\n",
       "    }\n",
       "\n",
       "    .dataframe thead th {\n",
       "        text-align: right;\n",
       "    }\n",
       "</style>\n",
       "<table border=\"1\" class=\"dataframe\">\n",
       "  <thead>\n",
       "    <tr style=\"text-align: right;\">\n",
       "      <th></th>\n",
       "      <th>name</th>\n",
       "      <th>platform</th>\n",
       "      <th>year_of_release</th>\n",
       "      <th>genre</th>\n",
       "      <th>na_sales</th>\n",
       "      <th>eu_sales</th>\n",
       "      <th>jp_sales</th>\n",
       "      <th>other_sales</th>\n",
       "      <th>critic_score</th>\n",
       "      <th>user_score</th>\n",
       "      <th>rating</th>\n",
       "      <th>total_sales</th>\n",
       "    </tr>\n",
       "  </thead>\n",
       "  <tbody>\n",
       "    <tr>\n",
       "      <th>31</th>\n",
       "      <td>Call of Duty: Black Ops 3</td>\n",
       "      <td>PS4</td>\n",
       "      <td>2015</td>\n",
       "      <td>Shooter</td>\n",
       "      <td>6.03</td>\n",
       "      <td>5.86</td>\n",
       "      <td>0.36</td>\n",
       "      <td>2.38</td>\n",
       "      <td>NaN</td>\n",
       "      <td>NaN</td>\n",
       "      <td>NaN</td>\n",
       "      <td>14.63</td>\n",
       "    </tr>\n",
       "    <tr>\n",
       "      <th>42</th>\n",
       "      <td>Grand Theft Auto V</td>\n",
       "      <td>PS4</td>\n",
       "      <td>2014</td>\n",
       "      <td>Action</td>\n",
       "      <td>3.96</td>\n",
       "      <td>6.31</td>\n",
       "      <td>0.38</td>\n",
       "      <td>1.97</td>\n",
       "      <td>97.0</td>\n",
       "      <td>8.3</td>\n",
       "      <td>M</td>\n",
       "      <td>12.62</td>\n",
       "    </tr>\n",
       "    <tr>\n",
       "      <th>47</th>\n",
       "      <td>Pokemon Omega Ruby/Pokemon Alpha Sapphire</td>\n",
       "      <td>3DS</td>\n",
       "      <td>2014</td>\n",
       "      <td>Role-Playing</td>\n",
       "      <td>4.35</td>\n",
       "      <td>3.49</td>\n",
       "      <td>3.10</td>\n",
       "      <td>0.74</td>\n",
       "      <td>NaN</td>\n",
       "      <td>NaN</td>\n",
       "      <td>NaN</td>\n",
       "      <td>11.68</td>\n",
       "    </tr>\n",
       "    <tr>\n",
       "      <th>77</th>\n",
       "      <td>FIFA 16</td>\n",
       "      <td>PS4</td>\n",
       "      <td>2015</td>\n",
       "      <td>Sports</td>\n",
       "      <td>1.12</td>\n",
       "      <td>6.12</td>\n",
       "      <td>0.06</td>\n",
       "      <td>1.28</td>\n",
       "      <td>82.0</td>\n",
       "      <td>4.3</td>\n",
       "      <td>E</td>\n",
       "      <td>8.58</td>\n",
       "    </tr>\n",
       "    <tr>\n",
       "      <th>87</th>\n",
       "      <td>Star Wars Battlefront (2015)</td>\n",
       "      <td>PS4</td>\n",
       "      <td>2015</td>\n",
       "      <td>Shooter</td>\n",
       "      <td>2.99</td>\n",
       "      <td>3.49</td>\n",
       "      <td>0.22</td>\n",
       "      <td>1.28</td>\n",
       "      <td>NaN</td>\n",
       "      <td>NaN</td>\n",
       "      <td>NaN</td>\n",
       "      <td>7.98</td>\n",
       "    </tr>\n",
       "  </tbody>\n",
       "</table>\n",
       "</div>"
      ],
      "text/plain": [
       "                                         name platform  year_of_release  \\\n",
       "31                  Call of Duty: Black Ops 3      PS4             2015   \n",
       "42                         Grand Theft Auto V      PS4             2014   \n",
       "47  Pokemon Omega Ruby/Pokemon Alpha Sapphire      3DS             2014   \n",
       "77                                    FIFA 16      PS4             2015   \n",
       "87               Star Wars Battlefront (2015)      PS4             2015   \n",
       "\n",
       "           genre  na_sales  eu_sales  jp_sales  other_sales  critic_score  \\\n",
       "31       Shooter      6.03      5.86      0.36         2.38           NaN   \n",
       "42        Action      3.96      6.31      0.38         1.97          97.0   \n",
       "47  Role-Playing      4.35      3.49      3.10         0.74           NaN   \n",
       "77        Sports      1.12      6.12      0.06         1.28          82.0   \n",
       "87       Shooter      2.99      3.49      0.22         1.28           NaN   \n",
       "\n",
       "    user_score rating  total_sales  \n",
       "31         NaN    NaN        14.63  \n",
       "42         8.3      M        12.62  \n",
       "47         NaN    NaN        11.68  \n",
       "77         4.3      E         8.58  \n",
       "87         NaN    NaN         7.98  "
      ]
     },
     "execution_count": 21,
     "metadata": {},
     "output_type": "execute_result"
    }
   ],
   "source": [
    "#создаю датафрейм актуального периода\n",
    "df_current_period = df[df['year_of_release'] > 2013]\n",
    "df_current_period.head()"
   ]
  },
  {
   "cell_type": "code",
   "execution_count": 22,
   "metadata": {},
   "outputs": [
    {
     "data": {
      "image/png": "[encoded data removed]",
      "text/plain": [
       "<Figure size 1440x720 with 1 Axes>"
      ]
     },
     "metadata": {
      "needs_background": "light"
     },
     "output_type": "display_data"
    }
   ],
   "source": [
    "(df_current_period\n",
    " .pivot_table(index='year_of_release', columns='platform', values='total_sales', aggfunc='sum')\n",
    " .plot(kind='line', figsize=(20,10),  style = 'o-')\n",
    ")\n",
    "plt.title('Динамика продаж по платформам'+ \"\\n\")\n",
    "plt.xlabel('Год')\n",
    "plt.ylabel('сумма продаж');"
   ]
  },
  {
   "cell_type": "markdown",
   "metadata": {},
   "source": [
    "В 2015 лидерами продж выступают PS4, XOne, 3DS, PS3 и WiiU, из них PS4, XOne прирастают и по обеим платформам ожидается рост на протяжении 2017го года. Продажи платформы WiiU в 2015 ниже, чем в 2014, но спад небольшой, возможен рост в течение 2017 года, но все-таки это более рисковая платформа. 3DS и PS3 падают в продажах на протяжении последних 2х лет. "
   ]
  },
  {
   "cell_type": "code",
   "execution_count": 23,
   "metadata": {},
   "outputs": [
    {
     "data": {
      "text/plain": [
       "(0.0, 1.0)"
      ]
     },
     "execution_count": 23,
     "metadata": {},
     "output_type": "execute_result"
    },
    {
     "data": {
      "image/png": "[encoded data removed]",
      "text/plain": [
       "<Figure size 1440x360 with 1 Axes>"
      ]
     },
     "metadata": {
      "needs_background": "light"
     },
     "output_type": "display_data"
    }
   ],
   "source": [
    "g = sns.catplot(y='platform', x='total_sales', kind='box', data=df_current_period, orient='h', palette = 'pastel')\n",
    "g.fig.set_figwidth(20)\n",
    "g.fig.set_figheight(5)\n",
    "plt.xlim(0,1)"
   ]
  },
  {
   "cell_type": "code",
   "execution_count": 24,
   "metadata": {},
   "outputs": [
    {
     "data": {
      "text/html": [
       "<div>\n",
       "<style scoped>\n",
       "    .dataframe tbody tr th:only-of-type {\n",
       "        vertical-align: middle;\n",
       "    }\n",
       "\n",
       "    .dataframe tbody tr th {\n",
       "        vertical-align: top;\n",
       "    }\n",
       "\n",
       "    .dataframe thead tr th {\n",
       "        text-align: left;\n",
       "    }\n",
       "\n",
       "    .dataframe thead tr:last-of-type th {\n",
       "        text-align: right;\n",
       "    }\n",
       "</style>\n",
       "<table border=\"1\" class=\"dataframe\">\n",
       "  <thead>\n",
       "    <tr>\n",
       "      <th></th>\n",
       "      <th>sum</th>\n",
       "      <th>median</th>\n",
       "    </tr>\n",
       "    <tr>\n",
       "      <th></th>\n",
       "      <th>total_sales</th>\n",
       "      <th>total_sales</th>\n",
       "    </tr>\n",
       "    <tr>\n",
       "      <th>platform</th>\n",
       "      <th></th>\n",
       "      <th></th>\n",
       "    </tr>\n",
       "  </thead>\n",
       "  <tbody>\n",
       "    <tr>\n",
       "      <th>3DS</th>\n",
       "      <td>86.68</td>\n",
       "      <td>0.090</td>\n",
       "    </tr>\n",
       "    <tr>\n",
       "      <th>PC</th>\n",
       "      <td>27.05</td>\n",
       "      <td>0.060</td>\n",
       "    </tr>\n",
       "    <tr>\n",
       "      <th>PS3</th>\n",
       "      <td>68.18</td>\n",
       "      <td>0.110</td>\n",
       "    </tr>\n",
       "    <tr>\n",
       "      <th>PS4</th>\n",
       "      <td>288.15</td>\n",
       "      <td>0.185</td>\n",
       "    </tr>\n",
       "    <tr>\n",
       "      <th>PSP</th>\n",
       "      <td>0.36</td>\n",
       "      <td>0.020</td>\n",
       "    </tr>\n",
       "    <tr>\n",
       "      <th>PSV</th>\n",
       "      <td>22.40</td>\n",
       "      <td>0.040</td>\n",
       "    </tr>\n",
       "    <tr>\n",
       "      <th>Wii</th>\n",
       "      <td>5.07</td>\n",
       "      <td>0.180</td>\n",
       "    </tr>\n",
       "    <tr>\n",
       "      <th>WiiU</th>\n",
       "      <td>42.98</td>\n",
       "      <td>0.190</td>\n",
       "    </tr>\n",
       "    <tr>\n",
       "      <th>X360</th>\n",
       "      <td>48.22</td>\n",
       "      <td>0.180</td>\n",
       "    </tr>\n",
       "    <tr>\n",
       "      <th>XOne</th>\n",
       "      <td>140.36</td>\n",
       "      <td>0.205</td>\n",
       "    </tr>\n",
       "  </tbody>\n",
       "</table>\n",
       "</div>"
      ],
      "text/plain": [
       "                 sum      median\n",
       "         total_sales total_sales\n",
       "platform                        \n",
       "3DS            86.68       0.090\n",
       "PC             27.05       0.060\n",
       "PS3            68.18       0.110\n",
       "PS4           288.15       0.185\n",
       "PSP             0.36       0.020\n",
       "PSV            22.40       0.040\n",
       "Wii             5.07       0.180\n",
       "WiiU           42.98       0.190\n",
       "X360           48.22       0.180\n",
       "XOne          140.36       0.205"
      ]
     },
     "execution_count": 24,
     "metadata": {},
     "output_type": "execute_result"
    }
   ],
   "source": [
    "(df_current_period.pivot_table(index='platform', values='total_sales', aggfunc=['sum', 'median']))"
   ]
  },
  {
   "cell_type": "markdown",
   "metadata": {},
   "source": [
    "По диаграмме размаха видим, что по основному объему продаж лидируют X360, PS4, XOne, PS3, WiiU и Wii, у каждой платформы много игр, которые продавались значительно больше, чем среднее по группе, если сравнивать этот показать на ранее заинтересовавших нас PS4 и XOne, то для PS4 размах таких выбросов значительно больше.\n",
    "\n",
    "Оценка по медианным значениям немного меняет рейтинг: XOne, WiiU, PS4, Wii, X360 и PS3. Потенциально продажи на платформах XOne и WiiU прибыльнее."
   ]
  },
  {
   "cell_type": "code",
   "execution_count": 25,
   "metadata": {},
   "outputs": [
    {
     "data": {
      "text/plain": [
       "0.40266141068104083"
      ]
     },
     "execution_count": 25,
     "metadata": {},
     "output_type": "execute_result"
    },
    {
     "data": {
      "image/png": "[encoded data removed]",
      "text/plain": [
       "<Figure size 432x288 with 1 Axes>"
      ]
     },
     "metadata": {
      "needs_background": "light"
     },
     "output_type": "display_data"
    }
   ],
   "source": [
    "#взаимосвязь продаж и отзывов критиков по платформе PS4\n",
    "df_current_period.query('platform == \"PS4\"').plot(x='critic_score', y='total_sales', kind='scatter', grid=True)\n",
    "df_current_period.query('platform == \"PS4\"')['critic_score'].corr(df_current_period.query('platform == \"PS4\"')['total_sales'])"
   ]
  },
  {
   "cell_type": "code",
   "execution_count": 26,
   "metadata": {},
   "outputs": [
    {
     "data": {
      "text/plain": [
       "-0.040131589472697286"
      ]
     },
     "execution_count": 26,
     "metadata": {},
     "output_type": "execute_result"
    },
    {
     "data": {
      "image/png": "[encoded data removed]",
      "text/plain": [
       "<Figure size 432x288 with 1 Axes>"
      ]
     },
     "metadata": {
      "needs_background": "light"
     },
     "output_type": "display_data"
    }
   ],
   "source": [
    "#взаимосвязь продаж и отзывов пользователей по платформе PS4\n",
    "df_current_period.query('platform == \"PS4\"').plot(x='user_score', y='total_sales', kind='scatter', grid=True)\n",
    "df_current_period.query('platform == \"PS4\"')['user_score'].corr(df_current_period.query('platform == \"PS4\"')['total_sales'])"
   ]
  },
  {
   "cell_type": "markdown",
   "metadata": {},
   "source": [
    "Взаимосвязь между уровнем продаж на платформе PS4 и оценкой критиков очень слабая, еще меньше рост продаж на платформе связан с оценкой пользователей. Действительно игры, лидирующие в родажах имеют оценки критиков не ниже 70, но корреляция этих показателей слабая, поэтому мы не можем утверждать, что на этот рост повлияла именно популярность среди критиков. При этом еще чаще высокие продажи сопровождаются низкой оценкой пользователей, что говорит нам о том, что пользовательские оценки не влияют на популярность игры.  "
   ]
  },
  {
   "cell_type": "code",
   "execution_count": 27,
   "metadata": {},
   "outputs": [
    {
     "name": "stdout",
     "output_type": "stream",
     "text": [
      "Корреляция платформы XOne : 0.428676943703332\n",
      "Диаграмма рассеяния платформы XOne\n"
     ]
    },
    {
     "data": {
      "image/png": "[encoded data removed]",
      "text/plain": [
       "<Figure size 432x288 with 1 Axes>"
      ]
     },
     "metadata": {
      "needs_background": "light"
     },
     "output_type": "display_data"
    },
    {
     "name": "stdout",
     "output_type": "stream",
     "text": [
      "Корреляция платформы 3DS : 0.3141174928690509\n",
      "Диаграмма рассеяния платформы 3DS\n"
     ]
    },
    {
     "data": {
      "image/png": "[encoded data removed]",
      "text/plain": [
       "<Figure size 432x288 with 1 Axes>"
      ]
     },
     "metadata": {
      "needs_background": "light"
     },
     "output_type": "display_data"
    },
    {
     "name": "stdout",
     "output_type": "stream",
     "text": [
      "Корреляция платформы PS3 : 0.44657460493190715\n",
      "Диаграмма рассеяния платформы PS3\n"
     ]
    },
    {
     "data": {
      "image/png": "[encoded data removed]",
      "text/plain": [
       "<Figure size 432x288 with 1 Axes>"
      ]
     },
     "metadata": {
      "needs_background": "light"
     },
     "output_type": "display_data"
    },
    {
     "name": "stdout",
     "output_type": "stream",
     "text": [
      "Корреляция платформы WiiU : 0.370201412480884\n",
      "Диаграмма рассеяния платформы WiiU\n"
     ]
    },
    {
     "data": {
      "image/png": "[encoded data removed]",
      "text/plain": [
       "<Figure size 432x288 with 1 Axes>"
      ]
     },
     "metadata": {
      "needs_background": "light"
     },
     "output_type": "display_data"
    }
   ],
   "source": [
    "# взаимосвязь продаж и отзывов критиков по платформам XOne, 3DS,PS3,WiiU\n",
    "list = [\"XOne\", \"3DS\", \"PS3\", \"WiiU\"]\n",
    "for list_pl in list:\n",
    "    print('Корреляция платформы', list_pl,':', df_current_period[df_current_period.platform == list_pl].critic_score.corr(\n",
    "        df_current_period[df_current_period.platform == list_pl].total_sales))\n",
    "    print('Диаграмма рассеяния платформы', list_pl)\n",
    "    df_current_period[df_current_period.platform == list_pl].plot(x='critic_score', y='total_sales', kind='scatter', grid=True)\n",
    "    plt.show()"
   ]
  },
  {
   "cell_type": "code",
   "execution_count": 28,
   "metadata": {},
   "outputs": [
    {
     "name": "stdout",
     "output_type": "stream",
     "text": [
      "Корреляция платформы XOne : -0.07038392806475818\n",
      "Диаграмма рассеяния платформы XOne\n"
     ]
    },
    {
     "data": {
      "image/png": "[encoded data removed]",
      "text/plain": [
       "<Figure size 432x288 with 1 Axes>"
      ]
     },
     "metadata": {
      "needs_background": "light"
     },
     "output_type": "display_data"
    },
    {
     "name": "stdout",
     "output_type": "stream",
     "text": [
      "Корреляция платформы 3DS : 0.2151932718527028\n",
      "Диаграмма рассеяния платформы 3DS\n"
     ]
    },
    {
     "data": {
      "image/png": "[encoded data removed]",
      "text/plain": [
       "<Figure size 432x288 with 1 Axes>"
      ]
     },
     "metadata": {
      "needs_background": "light"
     },
     "output_type": "display_data"
    },
    {
     "name": "stdout",
     "output_type": "stream",
     "text": [
      "Корреляция платформы PS3 : -0.16676141347662107\n",
      "Диаграмма рассеяния платформы PS3\n"
     ]
    },
    {
     "data": {
      "image/png": "[encoded data removed]",
      "text/plain": [
       "<Figure size 432x288 with 1 Axes>"
      ]
     },
     "metadata": {
      "needs_background": "light"
     },
     "output_type": "display_data"
    },
    {
     "name": "stdout",
     "output_type": "stream",
     "text": [
      "Корреляция платформы WiiU : 0.40792645792170795\n",
      "Диаграмма рассеяния платформы WiiU\n"
     ]
    },
    {
     "data": {
      "image/png": "[encoded data removed]",
      "text/plain": [
       "<Figure size 432x288 with 1 Axes>"
      ]
     },
     "metadata": {
      "needs_background": "light"
     },
     "output_type": "display_data"
    }
   ],
   "source": [
    "# взаимосвязь продаж и отзывов пользователей по платформам XOne, 3DS,PS3,WiiU\n",
    "list = [\"XOne\", \"3DS\", \"PS3\", \"WiiU\"]\n",
    "for list_pl in list:\n",
    "    print('Корреляция платформы', list_pl,':', df_current_period[df_current_period.platform == list_pl].user_score.corr(\n",
    "        df_current_period[df_current_period.platform == list_pl].total_sales))\n",
    "    print('Диаграмма рассеяния платформы', list_pl)\n",
    "    df_current_period[df_current_period.platform == list_pl].plot(x='user_score', y='total_sales', kind='scatter', grid=True)\n",
    "    plt.show()"
   ]
  },
  {
   "cell_type": "markdown",
   "metadata": {},
   "source": [
    "Взаимосвязь продаж с оценками пользователей и критиков по другим популярным платформим также слаба как было в разрезе PS4, то есть оценки не оказывают влияния на рост продаж."
   ]
  },
  {
   "cell_type": "code",
   "execution_count": 29,
   "metadata": {},
   "outputs": [
    {
     "data": {
      "text/html": [
       "<div>\n",
       "<style scoped>\n",
       "    .dataframe tbody tr th:only-of-type {\n",
       "        vertical-align: middle;\n",
       "    }\n",
       "\n",
       "    .dataframe tbody tr th {\n",
       "        vertical-align: top;\n",
       "    }\n",
       "\n",
       "    .dataframe thead th {\n",
       "        text-align: right;\n",
       "    }\n",
       "</style>\n",
       "<table border=\"1\" class=\"dataframe\">\n",
       "  <thead>\n",
       "    <tr style=\"text-align: right;\">\n",
       "      <th></th>\n",
       "      <th>total_sales</th>\n",
       "    </tr>\n",
       "    <tr>\n",
       "      <th>genre</th>\n",
       "      <th></th>\n",
       "    </tr>\n",
       "  </thead>\n",
       "  <tbody>\n",
       "    <tr>\n",
       "      <th>Shooter</th>\n",
       "      <td>0.515</td>\n",
       "    </tr>\n",
       "    <tr>\n",
       "      <th>Sports</th>\n",
       "      <td>0.180</td>\n",
       "    </tr>\n",
       "    <tr>\n",
       "      <th>Platform</th>\n",
       "      <td>0.140</td>\n",
       "    </tr>\n",
       "    <tr>\n",
       "      <th>Fighting</th>\n",
       "      <td>0.125</td>\n",
       "    </tr>\n",
       "    <tr>\n",
       "      <th>Role-Playing</th>\n",
       "      <td>0.110</td>\n",
       "    </tr>\n",
       "    <tr>\n",
       "      <th>Simulation</th>\n",
       "      <td>0.100</td>\n",
       "    </tr>\n",
       "    <tr>\n",
       "      <th>Action</th>\n",
       "      <td>0.090</td>\n",
       "    </tr>\n",
       "    <tr>\n",
       "      <th>Misc</th>\n",
       "      <td>0.090</td>\n",
       "    </tr>\n",
       "    <tr>\n",
       "      <th>Racing</th>\n",
       "      <td>0.090</td>\n",
       "    </tr>\n",
       "    <tr>\n",
       "      <th>Strategy</th>\n",
       "      <td>0.060</td>\n",
       "    </tr>\n",
       "    <tr>\n",
       "      <th>Puzzle</th>\n",
       "      <td>0.045</td>\n",
       "    </tr>\n",
       "    <tr>\n",
       "      <th>Adventure</th>\n",
       "      <td>0.030</td>\n",
       "    </tr>\n",
       "  </tbody>\n",
       "</table>\n",
       "</div>"
      ],
      "text/plain": [
       "              total_sales\n",
       "genre                    \n",
       "Shooter             0.515\n",
       "Sports              0.180\n",
       "Platform            0.140\n",
       "Fighting            0.125\n",
       "Role-Playing        0.110\n",
       "Simulation          0.100\n",
       "Action              0.090\n",
       "Misc                0.090\n",
       "Racing              0.090\n",
       "Strategy            0.060\n",
       "Puzzle              0.045\n",
       "Adventure           0.030"
      ]
     },
     "execution_count": 29,
     "metadata": {},
     "output_type": "execute_result"
    }
   ],
   "source": [
    "#составляю рейтинг продаж по жанрам за актуальный период\n",
    "df_current_period.pivot_table(index='genre', values='total_sales', aggfunc='median').sort_values(by='total_sales', ascending=False)"
   ]
  },
  {
   "cell_type": "code",
   "execution_count": 30,
   "metadata": {},
   "outputs": [
    {
     "data": {
      "image/png": "[encoded data removed]",
      "text/plain": [
       "<Figure size 1440x432 with 1 Axes>"
      ]
     },
     "metadata": {
      "needs_background": "light"
     },
     "output_type": "display_data"
    }
   ],
   "source": [
    "#Распределение продаж по жанрам\n",
    "(df_current_period\n",
    " .pivot_table(index='genre', values='total_sales', aggfunc='median')\n",
    " .plot(kind='bar', figsize=(20,6))\n",
    ")\n",
    "plt.title('Распределение продаж по жанрам');"
   ]
  },
  {
   "cell_type": "code",
   "execution_count": 31,
   "metadata": {},
   "outputs": [
    {
     "data": {
      "image/png": "[encoded data removed]",
      "text/plain": [
       "<Figure size 1440x360 with 1 Axes>"
      ]
     },
     "metadata": {
      "needs_background": "light"
     },
     "output_type": "display_data"
    }
   ],
   "source": [
    "g = sns.catplot(kind='box', y='genre', x='total_sales',  data=df_current_period, orient='h', palette = 'pastel')\n",
    "g.fig.set_figwidth(20)\n",
    "g.fig.set_figheight(5)"
   ]
  },
  {
   "cell_type": "markdown",
   "metadata": {},
   "source": [
    "Оценка по медианным значениям выявляет наиболее устойчивые в прдажах жанры. Первое место в такой оценке с большим отрывом занимает Shooter, Sports, Platform, Fighting, Role-Playing. Самые низкие значения у Puzzle и Adventure."
   ]
  },
  {
   "cell_type": "markdown",
   "metadata": {},
   "source": [
    "### Вывод\n",
    "В среднем платформа живет 10 лет, больше всего продает в 4-5 годы, поэтому нам стоит обратить внимание на те, которые наращивают продажи с 2014, к таким относятся PS4, XOne. Оценки критиков и пользователей не влияют на объем продаж, а вот жанр играет определяющую роль, Shooter потенциально успешный вариант, а вот Adventure и Puzzle - рисковые."
   ]
  },
  {
   "cell_type": "markdown",
   "metadata": {},
   "source": [
    "## Портрет пользователя каждого региона"
   ]
  },
  {
   "cell_type": "code",
   "execution_count": 32,
   "metadata": {},
   "outputs": [
    {
     "data": {
      "text/html": [
       "<div>\n",
       "<style scoped>\n",
       "    .dataframe tbody tr th:only-of-type {\n",
       "        vertical-align: middle;\n",
       "    }\n",
       "\n",
       "    .dataframe tbody tr th {\n",
       "        vertical-align: top;\n",
       "    }\n",
       "\n",
       "    .dataframe thead th {\n",
       "        text-align: right;\n",
       "    }\n",
       "</style>\n",
       "<table border=\"1\" class=\"dataframe\">\n",
       "  <thead>\n",
       "    <tr style=\"text-align: right;\">\n",
       "      <th></th>\n",
       "      <th>na_sales</th>\n",
       "    </tr>\n",
       "    <tr>\n",
       "      <th>platform</th>\n",
       "      <th></th>\n",
       "    </tr>\n",
       "  </thead>\n",
       "  <tbody>\n",
       "    <tr>\n",
       "      <th>PS4</th>\n",
       "      <td>98.61</td>\n",
       "    </tr>\n",
       "    <tr>\n",
       "      <th>XOne</th>\n",
       "      <td>81.27</td>\n",
       "    </tr>\n",
       "    <tr>\n",
       "      <th>X360</th>\n",
       "      <td>28.30</td>\n",
       "    </tr>\n",
       "    <tr>\n",
       "      <th>3DS</th>\n",
       "      <td>22.64</td>\n",
       "    </tr>\n",
       "    <tr>\n",
       "      <th>PS3</th>\n",
       "      <td>22.05</td>\n",
       "    </tr>\n",
       "  </tbody>\n",
       "</table>\n",
       "</div>"
      ],
      "text/plain": [
       "          na_sales\n",
       "platform          \n",
       "PS4          98.61\n",
       "XOne         81.27\n",
       "X360         28.30\n",
       "3DS          22.64\n",
       "PS3          22.05"
      ]
     },
     "execution_count": 32,
     "metadata": {},
     "output_type": "execute_result"
    }
   ],
   "source": [
    "#топ-5 платформ для региона NA\n",
    "(df_current_period.pivot_table(index='platform', values='na_sales', aggfunc='sum')\n",
    " .sort_values(by='na_sales', ascending=False).head()\n",
    ")"
   ]
  },
  {
   "cell_type": "code",
   "execution_count": 33,
   "metadata": {},
   "outputs": [
    {
     "data": {
      "text/html": [
       "<div>\n",
       "<style scoped>\n",
       "    .dataframe tbody tr th:only-of-type {\n",
       "        vertical-align: middle;\n",
       "    }\n",
       "\n",
       "    .dataframe tbody tr th {\n",
       "        vertical-align: top;\n",
       "    }\n",
       "\n",
       "    .dataframe thead th {\n",
       "        text-align: right;\n",
       "    }\n",
       "</style>\n",
       "<table border=\"1\" class=\"dataframe\">\n",
       "  <thead>\n",
       "    <tr style=\"text-align: right;\">\n",
       "      <th></th>\n",
       "      <th>eu_sales</th>\n",
       "    </tr>\n",
       "    <tr>\n",
       "      <th>platform</th>\n",
       "      <th></th>\n",
       "    </tr>\n",
       "  </thead>\n",
       "  <tbody>\n",
       "    <tr>\n",
       "      <th>PS4</th>\n",
       "      <td>130.04</td>\n",
       "    </tr>\n",
       "    <tr>\n",
       "      <th>XOne</th>\n",
       "      <td>46.25</td>\n",
       "    </tr>\n",
       "    <tr>\n",
       "      <th>PS3</th>\n",
       "      <td>25.54</td>\n",
       "    </tr>\n",
       "    <tr>\n",
       "      <th>PC</th>\n",
       "      <td>17.97</td>\n",
       "    </tr>\n",
       "    <tr>\n",
       "      <th>3DS</th>\n",
       "      <td>16.12</td>\n",
       "    </tr>\n",
       "  </tbody>\n",
       "</table>\n",
       "</div>"
      ],
      "text/plain": [
       "          eu_sales\n",
       "platform          \n",
       "PS4         130.04\n",
       "XOne         46.25\n",
       "PS3          25.54\n",
       "PC           17.97\n",
       "3DS          16.12"
      ]
     },
     "execution_count": 33,
     "metadata": {},
     "output_type": "execute_result"
    }
   ],
   "source": [
    "#топ-5 платформ для региона EU\n",
    "(df_current_period.pivot_table(index='platform', values='eu_sales', aggfunc='sum')\n",
    " .sort_values(by='eu_sales', ascending=False).head()\n",
    ")"
   ]
  },
  {
   "cell_type": "code",
   "execution_count": 34,
   "metadata": {},
   "outputs": [
    {
     "data": {
      "text/html": [
       "<div>\n",
       "<style scoped>\n",
       "    .dataframe tbody tr th:only-of-type {\n",
       "        vertical-align: middle;\n",
       "    }\n",
       "\n",
       "    .dataframe tbody tr th {\n",
       "        vertical-align: top;\n",
       "    }\n",
       "\n",
       "    .dataframe thead th {\n",
       "        text-align: right;\n",
       "    }\n",
       "</style>\n",
       "<table border=\"1\" class=\"dataframe\">\n",
       "  <thead>\n",
       "    <tr style=\"text-align: right;\">\n",
       "      <th></th>\n",
       "      <th>jp_sales</th>\n",
       "    </tr>\n",
       "    <tr>\n",
       "      <th>platform</th>\n",
       "      <th></th>\n",
       "    </tr>\n",
       "  </thead>\n",
       "  <tbody>\n",
       "    <tr>\n",
       "      <th>3DS</th>\n",
       "      <td>44.24</td>\n",
       "    </tr>\n",
       "    <tr>\n",
       "      <th>PS4</th>\n",
       "      <td>15.02</td>\n",
       "    </tr>\n",
       "    <tr>\n",
       "      <th>PSV</th>\n",
       "      <td>14.54</td>\n",
       "    </tr>\n",
       "    <tr>\n",
       "      <th>PS3</th>\n",
       "      <td>11.22</td>\n",
       "    </tr>\n",
       "    <tr>\n",
       "      <th>WiiU</th>\n",
       "      <td>7.31</td>\n",
       "    </tr>\n",
       "  </tbody>\n",
       "</table>\n",
       "</div>"
      ],
      "text/plain": [
       "          jp_sales\n",
       "platform          \n",
       "3DS          44.24\n",
       "PS4          15.02\n",
       "PSV          14.54\n",
       "PS3          11.22\n",
       "WiiU          7.31"
      ]
     },
     "execution_count": 34,
     "metadata": {},
     "output_type": "execute_result"
    }
   ],
   "source": [
    "#топ-5 платформ для региона JP\n",
    "(df_current_period.pivot_table(index='platform', values='jp_sales', aggfunc='sum')\n",
    " .sort_values(by='jp_sales', ascending=False).head()\n",
    ")"
   ]
  },
  {
   "cell_type": "code",
   "execution_count": 35,
   "metadata": {},
   "outputs": [
    {
     "data": {
      "image/png": "[encoded data removed]",
      "text/plain": [
       "<Figure size 1440x432 with 1 Axes>"
      ]
     },
     "metadata": {
      "needs_background": "light"
     },
     "output_type": "display_data"
    }
   ],
   "source": [
    "#Доли продаж платформ на разных рынках\n",
    "(df_current_period.pivot_table(index='platform', values=['na_sales', 'eu_sales', 'jp_sales'], aggfunc='sum')\n",
    " .plot(kind='bar', figsize=(20,6))\n",
    ")\n",
    "plt.title('Доли продаж платформ на разных рынках');"
   ]
  },
  {
   "cell_type": "markdown",
   "metadata": {},
   "source": [
    "Топ-5 платформ на рынках Северной Америки и Европы практически не отличается по своему составу и по объемам продаж. Рынок Японии представлен меньшими продажами, что можно объяснить численностью населения, там популярны платформы PSP и PSV, доля продаж которых в Японии значительно превышает рынки Европы и Северной Америки, где эти платформы не вхотят в топ-5. Платформа 3DS популярна в каждом регионе, но по продажам в Японии она на первом месте и при этом ее продажи в этом регионе превышают продажи на других рынках."
   ]
  },
  {
   "cell_type": "code",
   "execution_count": 36,
   "metadata": {},
   "outputs": [
    {
     "data": {
      "text/html": [
       "<div>\n",
       "<style scoped>\n",
       "    .dataframe tbody tr th:only-of-type {\n",
       "        vertical-align: middle;\n",
       "    }\n",
       "\n",
       "    .dataframe tbody tr th {\n",
       "        vertical-align: top;\n",
       "    }\n",
       "\n",
       "    .dataframe thead th {\n",
       "        text-align: right;\n",
       "    }\n",
       "</style>\n",
       "<table border=\"1\" class=\"dataframe\">\n",
       "  <thead>\n",
       "    <tr style=\"text-align: right;\">\n",
       "      <th></th>\n",
       "      <th>na_sales</th>\n",
       "    </tr>\n",
       "    <tr>\n",
       "      <th>genre</th>\n",
       "      <th></th>\n",
       "    </tr>\n",
       "  </thead>\n",
       "  <tbody>\n",
       "    <tr>\n",
       "      <th>Shooter</th>\n",
       "      <td>79.02</td>\n",
       "    </tr>\n",
       "    <tr>\n",
       "      <th>Action</th>\n",
       "      <td>72.53</td>\n",
       "    </tr>\n",
       "    <tr>\n",
       "      <th>Sports</th>\n",
       "      <td>46.13</td>\n",
       "    </tr>\n",
       "    <tr>\n",
       "      <th>Role-Playing</th>\n",
       "      <td>33.47</td>\n",
       "    </tr>\n",
       "    <tr>\n",
       "      <th>Misc</th>\n",
       "      <td>15.05</td>\n",
       "    </tr>\n",
       "  </tbody>\n",
       "</table>\n",
       "</div>"
      ],
      "text/plain": [
       "              na_sales\n",
       "genre                 \n",
       "Shooter          79.02\n",
       "Action           72.53\n",
       "Sports           46.13\n",
       "Role-Playing     33.47\n",
       "Misc             15.05"
      ]
     },
     "execution_count": 36,
     "metadata": {},
     "output_type": "execute_result"
    }
   ],
   "source": [
    "#топ-5 жанров для региона NA\n",
    "(df_current_period.pivot_table(index='genre', values='na_sales', aggfunc='sum')\n",
    " .sort_values(by='na_sales', ascending=False).head()\n",
    ")"
   ]
  },
  {
   "cell_type": "code",
   "execution_count": 37,
   "metadata": {},
   "outputs": [
    {
     "data": {
      "text/html": [
       "<div>\n",
       "<style scoped>\n",
       "    .dataframe tbody tr th:only-of-type {\n",
       "        vertical-align: middle;\n",
       "    }\n",
       "\n",
       "    .dataframe tbody tr th {\n",
       "        vertical-align: top;\n",
       "    }\n",
       "\n",
       "    .dataframe thead th {\n",
       "        text-align: right;\n",
       "    }\n",
       "</style>\n",
       "<table border=\"1\" class=\"dataframe\">\n",
       "  <thead>\n",
       "    <tr style=\"text-align: right;\">\n",
       "      <th></th>\n",
       "      <th>eu_sales</th>\n",
       "    </tr>\n",
       "    <tr>\n",
       "      <th>genre</th>\n",
       "      <th></th>\n",
       "    </tr>\n",
       "  </thead>\n",
       "  <tbody>\n",
       "    <tr>\n",
       "      <th>Action</th>\n",
       "      <td>74.68</td>\n",
       "    </tr>\n",
       "    <tr>\n",
       "      <th>Shooter</th>\n",
       "      <td>65.52</td>\n",
       "    </tr>\n",
       "    <tr>\n",
       "      <th>Sports</th>\n",
       "      <td>45.73</td>\n",
       "    </tr>\n",
       "    <tr>\n",
       "      <th>Role-Playing</th>\n",
       "      <td>28.17</td>\n",
       "    </tr>\n",
       "    <tr>\n",
       "      <th>Racing</th>\n",
       "      <td>14.13</td>\n",
       "    </tr>\n",
       "  </tbody>\n",
       "</table>\n",
       "</div>"
      ],
      "text/plain": [
       "              eu_sales\n",
       "genre                 \n",
       "Action           74.68\n",
       "Shooter          65.52\n",
       "Sports           45.73\n",
       "Role-Playing     28.17\n",
       "Racing           14.13"
      ]
     },
     "execution_count": 37,
     "metadata": {},
     "output_type": "execute_result"
    }
   ],
   "source": [
    "#топ-5 жанров для региона EU\n",
    "(df_current_period.pivot_table(index='genre', values='eu_sales', aggfunc='sum')\n",
    " .sort_values(by='eu_sales', ascending=False).head()\n",
    ")"
   ]
  },
  {
   "cell_type": "code",
   "execution_count": 38,
   "metadata": {},
   "outputs": [
    {
     "data": {
      "text/html": [
       "<div>\n",
       "<style scoped>\n",
       "    .dataframe tbody tr th:only-of-type {\n",
       "        vertical-align: middle;\n",
       "    }\n",
       "\n",
       "    .dataframe tbody tr th {\n",
       "        vertical-align: top;\n",
       "    }\n",
       "\n",
       "    .dataframe thead th {\n",
       "        text-align: right;\n",
       "    }\n",
       "</style>\n",
       "<table border=\"1\" class=\"dataframe\">\n",
       "  <thead>\n",
       "    <tr style=\"text-align: right;\">\n",
       "      <th></th>\n",
       "      <th>jp_sales</th>\n",
       "    </tr>\n",
       "    <tr>\n",
       "      <th>genre</th>\n",
       "      <th></th>\n",
       "    </tr>\n",
       "  </thead>\n",
       "  <tbody>\n",
       "    <tr>\n",
       "      <th>Role-Playing</th>\n",
       "      <td>31.16</td>\n",
       "    </tr>\n",
       "    <tr>\n",
       "      <th>Action</th>\n",
       "      <td>29.58</td>\n",
       "    </tr>\n",
       "    <tr>\n",
       "      <th>Fighting</th>\n",
       "      <td>6.37</td>\n",
       "    </tr>\n",
       "    <tr>\n",
       "      <th>Misc</th>\n",
       "      <td>5.61</td>\n",
       "    </tr>\n",
       "    <tr>\n",
       "      <th>Shooter</th>\n",
       "      <td>4.87</td>\n",
       "    </tr>\n",
       "  </tbody>\n",
       "</table>\n",
       "</div>"
      ],
      "text/plain": [
       "              jp_sales\n",
       "genre                 \n",
       "Role-Playing     31.16\n",
       "Action           29.58\n",
       "Fighting          6.37\n",
       "Misc              5.61\n",
       "Shooter           4.87"
      ]
     },
     "execution_count": 38,
     "metadata": {},
     "output_type": "execute_result"
    }
   ],
   "source": [
    "#топ-5 жанров для региона JP\n",
    "(df_current_period.pivot_table(index='genre', values='jp_sales', aggfunc='sum')\n",
    " .sort_values(by='jp_sales', ascending=False).head()\n",
    ")"
   ]
  },
  {
   "cell_type": "code",
   "execution_count": 39,
   "metadata": {},
   "outputs": [
    {
     "data": {
      "image/png": "[encoded data removed]",
      "text/plain": [
       "<Figure size 1440x432 with 1 Axes>"
      ]
     },
     "metadata": {
      "needs_background": "light"
     },
     "output_type": "display_data"
    }
   ],
   "source": [
    "#Доли продаж по жанрам на разных рынках\n",
    "(df_current_period.pivot_table(index='genre', values=['na_sales', 'eu_sales', 'jp_sales'], aggfunc='sum')\n",
    " .plot(kind='bar', figsize=(20,6))\n",
    ")\n",
    "plt.title('Доли продаж по жанрам на разных рынках');"
   ]
  },
  {
   "cell_type": "markdown",
   "metadata": {},
   "source": [
    "Популярные жанры в Европе и Северной Америке почти совпадают, культуры стран этих регионов близки и тесно связаны, это определяет предпочтения потребителей. Японский рынок отличается по жанровым предпочтениям, самый продаваемый Action здесь на втором месте, самым популярным является Role-Playing, а второй по популярности в Северной Америке и Европе Shooter не входит в топ-5 Японии. "
   ]
  },
  {
   "cell_type": "code",
   "execution_count": 40,
   "metadata": {},
   "outputs": [
    {
     "name": "stderr",
     "output_type": "stream",
     "text": [
      "C:\\Users\\1\\AppData\\Local\\Temp/ipykernel_12804/3669800380.py:2: SettingWithCopyWarning: \n",
      "A value is trying to be set on a copy of a slice from a DataFrame.\n",
      "Try using .loc[row_indexer,col_indexer] = value instead\n",
      "\n",
      "See the caveats in the documentation: https://pandas.pydata.org/pandas-docs/stable/user_guide/indexing.html#returning-a-view-versus-a-copy\n",
      "  df_current_period['rating'] = df_current_period['rating'].fillna('xyz')\n"
     ]
    }
   ],
   "source": [
    "#заполним пропуски в рейтинге единыым значением\n",
    "df_current_period['rating'] = df_current_period['rating'].fillna('xyz')"
   ]
  },
  {
   "cell_type": "code",
   "execution_count": 41,
   "metadata": {},
   "outputs": [
    {
     "data": {
      "text/html": [
       "<div>\n",
       "<style scoped>\n",
       "    .dataframe tbody tr th:only-of-type {\n",
       "        vertical-align: middle;\n",
       "    }\n",
       "\n",
       "    .dataframe tbody tr th {\n",
       "        vertical-align: top;\n",
       "    }\n",
       "\n",
       "    .dataframe thead th {\n",
       "        text-align: right;\n",
       "    }\n",
       "</style>\n",
       "<table border=\"1\" class=\"dataframe\">\n",
       "  <thead>\n",
       "    <tr style=\"text-align: right;\">\n",
       "      <th></th>\n",
       "      <th>na_sales</th>\n",
       "    </tr>\n",
       "    <tr>\n",
       "      <th>rating</th>\n",
       "      <th></th>\n",
       "    </tr>\n",
       "  </thead>\n",
       "  <tbody>\n",
       "    <tr>\n",
       "      <th>M</th>\n",
       "      <td>96.42</td>\n",
       "    </tr>\n",
       "    <tr>\n",
       "      <th>xyz</th>\n",
       "      <td>64.72</td>\n",
       "    </tr>\n",
       "    <tr>\n",
       "      <th>E</th>\n",
       "      <td>50.74</td>\n",
       "    </tr>\n",
       "    <tr>\n",
       "      <th>T</th>\n",
       "      <td>38.95</td>\n",
       "    </tr>\n",
       "    <tr>\n",
       "      <th>E10+</th>\n",
       "      <td>33.23</td>\n",
       "    </tr>\n",
       "  </tbody>\n",
       "</table>\n",
       "</div>"
      ],
      "text/plain": [
       "        na_sales\n",
       "rating          \n",
       "M          96.42\n",
       "xyz        64.72\n",
       "E          50.74\n",
       "T          38.95\n",
       "E10+       33.23"
      ]
     },
     "execution_count": 41,
     "metadata": {},
     "output_type": "execute_result"
    }
   ],
   "source": [
    "#Распределение продаж по рейтингу для региона NA\n",
    "(df_current_period.pivot_table(index='rating', values='na_sales', aggfunc='sum')\n",
    " .sort_values(by='na_sales', ascending=False)\n",
    ")"
   ]
  },
  {
   "cell_type": "code",
   "execution_count": 42,
   "metadata": {},
   "outputs": [
    {
     "data": {
      "text/html": [
       "<div>\n",
       "<style scoped>\n",
       "    .dataframe tbody tr th:only-of-type {\n",
       "        vertical-align: middle;\n",
       "    }\n",
       "\n",
       "    .dataframe tbody tr th {\n",
       "        vertical-align: top;\n",
       "    }\n",
       "\n",
       "    .dataframe thead th {\n",
       "        text-align: right;\n",
       "    }\n",
       "</style>\n",
       "<table border=\"1\" class=\"dataframe\">\n",
       "  <thead>\n",
       "    <tr style=\"text-align: right;\">\n",
       "      <th></th>\n",
       "      <th>eu_sales</th>\n",
       "    </tr>\n",
       "    <tr>\n",
       "      <th>rating</th>\n",
       "      <th></th>\n",
       "    </tr>\n",
       "  </thead>\n",
       "  <tbody>\n",
       "    <tr>\n",
       "      <th>M</th>\n",
       "      <td>93.44</td>\n",
       "    </tr>\n",
       "    <tr>\n",
       "      <th>xyz</th>\n",
       "      <td>58.95</td>\n",
       "    </tr>\n",
       "    <tr>\n",
       "      <th>E</th>\n",
       "      <td>58.06</td>\n",
       "    </tr>\n",
       "    <tr>\n",
       "      <th>T</th>\n",
       "      <td>34.07</td>\n",
       "    </tr>\n",
       "    <tr>\n",
       "      <th>E10+</th>\n",
       "      <td>26.16</td>\n",
       "    </tr>\n",
       "  </tbody>\n",
       "</table>\n",
       "</div>"
      ],
      "text/plain": [
       "        eu_sales\n",
       "rating          \n",
       "M          93.44\n",
       "xyz        58.95\n",
       "E          58.06\n",
       "T          34.07\n",
       "E10+       26.16"
      ]
     },
     "execution_count": 42,
     "metadata": {},
     "output_type": "execute_result"
    }
   ],
   "source": [
    "#Распределение продаж по рейтингу для региона EU\n",
    "(df_current_period.pivot_table(index='rating', values='eu_sales', aggfunc='sum')\n",
    " .sort_values(by='eu_sales', ascending=False)\n",
    ")"
   ]
  },
  {
   "cell_type": "code",
   "execution_count": 43,
   "metadata": {},
   "outputs": [
    {
     "data": {
      "text/html": [
       "<div>\n",
       "<style scoped>\n",
       "    .dataframe tbody tr th:only-of-type {\n",
       "        vertical-align: middle;\n",
       "    }\n",
       "\n",
       "    .dataframe tbody tr th {\n",
       "        vertical-align: top;\n",
       "    }\n",
       "\n",
       "    .dataframe thead th {\n",
       "        text-align: right;\n",
       "    }\n",
       "</style>\n",
       "<table border=\"1\" class=\"dataframe\">\n",
       "  <thead>\n",
       "    <tr style=\"text-align: right;\">\n",
       "      <th></th>\n",
       "      <th>jp_sales</th>\n",
       "    </tr>\n",
       "    <tr>\n",
       "      <th>rating</th>\n",
       "      <th></th>\n",
       "    </tr>\n",
       "  </thead>\n",
       "  <tbody>\n",
       "    <tr>\n",
       "      <th>xyz</th>\n",
       "      <td>56.90</td>\n",
       "    </tr>\n",
       "    <tr>\n",
       "      <th>T</th>\n",
       "      <td>14.78</td>\n",
       "    </tr>\n",
       "    <tr>\n",
       "      <th>E</th>\n",
       "      <td>8.94</td>\n",
       "    </tr>\n",
       "    <tr>\n",
       "      <th>M</th>\n",
       "      <td>8.01</td>\n",
       "    </tr>\n",
       "    <tr>\n",
       "      <th>E10+</th>\n",
       "      <td>4.46</td>\n",
       "    </tr>\n",
       "  </tbody>\n",
       "</table>\n",
       "</div>"
      ],
      "text/plain": [
       "        jp_sales\n",
       "rating          \n",
       "xyz        56.90\n",
       "T          14.78\n",
       "E           8.94\n",
       "M           8.01\n",
       "E10+        4.46"
      ]
     },
     "execution_count": 43,
     "metadata": {},
     "output_type": "execute_result"
    }
   ],
   "source": [
    "#Распределение продаж по рейтингу для региона JP\n",
    "(df_current_period.pivot_table(index='rating', values='jp_sales', aggfunc='sum')\n",
    " .sort_values(by='jp_sales', ascending=False)\n",
    ")"
   ]
  },
  {
   "cell_type": "code",
   "execution_count": 44,
   "metadata": {},
   "outputs": [
    {
     "data": {
      "image/png": "[encoded data removed]",
      "text/plain": [
       "<Figure size 1440x360 with 1 Axes>"
      ]
     },
     "metadata": {
      "needs_background": "light"
     },
     "output_type": "display_data"
    }
   ],
   "source": [
    "#Доли продаж по рейтингу на разных рынках\n",
    "(df_current_period.pivot_table(index='rating', values=['na_sales', 'eu_sales', 'jp_sales'], aggfunc='sum')\n",
    " .plot(kind='bar', figsize=(20,5))\n",
    ")\n",
    "plt.title('Доли продаж по рейтингу на разных рынках');"
   ]
  },
  {
   "cell_type": "markdown",
   "metadata": {},
   "source": [
    "В Северной Америке и Европе главными покупателями являются взрослые, продажи игр с рейтингом \"М\" почти в два раза превышают продажи игр с рейтингом \"Е\", которые предназначены для всех и содержат минимум насилия, в Японии именно такие игры занимают первое место по продажам, второе место в Японии занимают игры с рейтингом Т, для подростков, то есть этот рынок представляет младшая аудитория."
   ]
  },
  {
   "cell_type": "markdown",
   "metadata": {},
   "source": [
    "### Вывод\n",
    "Рынки Северной Америки и Европы довольно похожи, основные продажи делают взрослые, их любимыми жанрами являются Action и Shooter, североамериканцы предпочитают платформу X360, а европейцы PS3. В Японии основные потребители - это несовершеннолетние, больше всего они любят жанр Role-Playing, а из платформ выбирают 3DS."
   ]
  },
  {
   "cell_type": "markdown",
   "metadata": {},
   "source": [
    "## Проверка гипотез"
   ]
  },
  {
   "cell_type": "code",
   "execution_count": 45,
   "metadata": {},
   "outputs": [],
   "source": [
    "df_current_period = df_current_period.dropna(subset=['user_score'])"
   ]
  },
  {
   "cell_type": "markdown",
   "metadata": {},
   "source": [
    "H0: Средние пользовательские рейтинги платформ Xbox One и PC одинаковые. \n",
    "\n",
    "H1: Средние пользовательские рейтинги платформ Xbox One и PC различаются.\n",
    "\n",
    "Выборки по платформам независимые, поэтому для проверки применим гипотезу о равенстве средних двух генеральных совокупностей."
   ]
  },
  {
   "cell_type": "code",
   "execution_count": 46,
   "metadata": {},
   "outputs": [
    {
     "data": {
      "text/plain": [
       "'p-значение:'"
      ]
     },
     "metadata": {},
     "output_type": "display_data"
    },
    {
     "data": {
      "text/plain": [
       "0.11601398086668832"
      ]
     },
     "metadata": {},
     "output_type": "display_data"
    },
    {
     "data": {
      "text/plain": [
       "'Не получилось отвергнуть нулевую гипотезу'"
      ]
     },
     "metadata": {},
     "output_type": "display_data"
    }
   ],
   "source": [
    "xone_user_score = df_current_period[df_current_period['platform'] == 'XOne']['user_score']\n",
    "pc_user_score = df_current_period[df_current_period['platform'] == 'PC']['user_score']\n",
    "alpha = .05\n",
    "results = st.ttest_ind(xone_user_score, pc_user_score, equal_var=False)\n",
    "display('p-значение:', results.pvalue)\n",
    "if results.pvalue < alpha:\n",
    "    display(\"Отвергаем нулевую гипотезу\")\n",
    "else:\n",
    "    display(\"Не получилось отвергнуть нулевую гипотезу\")"
   ]
  },
  {
   "cell_type": "code",
   "execution_count": 47,
   "metadata": {},
   "outputs": [
    {
     "data": {
      "text/plain": [
       "6.594545454545453"
      ]
     },
     "metadata": {},
     "output_type": "display_data"
    },
    {
     "data": {
      "text/plain": [
       "6.298360655737703"
      ]
     },
     "metadata": {},
     "output_type": "display_data"
    }
   ],
   "source": [
    "display(xone_user_score.mean())\n",
    "display(pc_user_score.mean())"
   ]
  },
  {
   "cell_type": "markdown",
   "metadata": {},
   "source": [
    "Полученное значение p-value говорит о том, что хотя рейтинги платформ Xbox One и PC неодинаковы, с вероятностью 61% такое или большее различие можно получить случайно."
   ]
  },
  {
   "cell_type": "markdown",
   "metadata": {},
   "source": [
    "H0: Средние пользовательские рейтинги жанров Action и Sports не отличаются.\n",
    "\n",
    "H1: Средние пользовательские рейтинги жанров Action и Sports разные.\n",
    "\n",
    "Выборки по жанрам независимые, поэтому для проверки применим гипотезу о равенстве средних двух генеральных совокупностей."
   ]
  },
  {
   "cell_type": "code",
   "execution_count": 48,
   "metadata": {},
   "outputs": [
    {
     "data": {
      "text/plain": [
       "'p-значение:'"
      ]
     },
     "metadata": {},
     "output_type": "display_data"
    },
    {
     "data": {
      "text/plain": [
       "1.1825550382644557e-14"
      ]
     },
     "metadata": {},
     "output_type": "display_data"
    },
    {
     "data": {
      "text/plain": [
       "'Отвергаем нулевую гипотезу'"
      ]
     },
     "metadata": {},
     "output_type": "display_data"
    }
   ],
   "source": [
    "action_user_score = df_current_period[df_current_period['genre'] == 'Action']['user_score']\n",
    "sports_user_score = df_current_period[df_current_period['genre'] == 'Sports']['user_score']\n",
    "alpha = .05\n",
    "results = st.ttest_ind(action_user_score, sports_user_score, equal_var=False)\n",
    "display('p-значение:', results.pvalue)\n",
    "if results.pvalue < alpha:\n",
    "    display(\"Отвергаем нулевую гипотезу\")\n",
    "else:\n",
    "    display(\"Не получилось отвергнуть нулевую гипотезу\")"
   ]
  },
  {
   "cell_type": "code",
   "execution_count": 49,
   "metadata": {},
   "outputs": [
    {
     "data": {
      "text/plain": [
       "6.760606060606054"
      ]
     },
     "metadata": {},
     "output_type": "display_data"
    },
    {
     "data": {
      "text/plain": [
       "5.225196850393697"
      ]
     },
     "metadata": {},
     "output_type": "display_data"
    }
   ],
   "source": [
    "display(action_user_score.mean())\n",
    "display(sports_user_score.mean())"
   ]
  },
  {
   "cell_type": "markdown",
   "metadata": {},
   "source": [
    "Средние пользовательские рейтинги жанров Action и Sports отличаются, p_value указывает на то, что различия значимые и не случайные."
   ]
  },
  {
   "cell_type": "markdown",
   "metadata": {},
   "source": [
    "## Общие выводы"
   ]
  },
  {
   "cell_type": "markdown",
   "metadata": {},
   "source": [
    "В ходе исследования данных о продажах игр выявлены следующие закономерности, определяющих успешность игры:\n",
    "* продажи в разрезе платформ в разные годы проходят неравномерно, 4-5 годы \"жизни\" платформы являются самыми прибыльными, в 2017 году платформы PS4, XOne как раз будут в этом цикле;\n",
    "* объемы продаж разных платформ отличаются в зависимости от региона, в Европе самые большие продажи у PS3, в Северной Америке - у X360, в Японии - у 3DS;\n",
    "* пользовательские оценки и оценки критиков не оказывают влияния на продажи;\n",
    "* продажи значительно различаются в зависимости от жанра игры, наиболее продающиеся Action, Shooter, Role-Playing;\n",
    "* в разных регионах популярность жанров оценивается по разному, в Японии первре место у Role-Playing, в Европе и Северной Америке - Action;\n",
    "* в зависимости от рейтинга ESRB продажи распределены неравномено, в Северной Америке и Европе почти половина продаж приходится на игры категории \"М\", в Японии продажи игр категории \"Е\" и \"Т\" занимают почти 2/3 продаж."
   ]
  }
 ],
 "metadata": {
  "ExecuteTimeLog": [
   {
    "duration": 1284,
    "start_time": "2022-06-04T14:25:53.457Z"
   },
   {
    "duration": 116,
    "start_time": "2022-06-04T14:26:09.941Z"
   },
   {
    "duration": 15,
    "start_time": "2022-06-04T14:26:27.102Z"
   },
   {
    "duration": 7,
    "start_time": "2022-06-04T14:27:56.594Z"
   },
   {
    "duration": 5,
    "start_time": "2022-06-04T14:28:11.849Z"
   },
   {
    "duration": 8,
    "start_time": "2022-06-04T14:28:29.619Z"
   },
   {
    "duration": 7,
    "start_time": "2022-06-04T14:29:04.198Z"
   },
   {
    "duration": 14,
    "start_time": "2022-06-04T14:29:20.105Z"
   },
   {
    "duration": 41,
    "start_time": "2022-06-04T14:30:06.708Z"
   },
   {
    "duration": 16,
    "start_time": "2022-06-04T14:30:17.105Z"
   },
   {
    "duration": 16,
    "start_time": "2022-06-04T14:30:41.954Z"
   },
   {
    "duration": 29,
    "start_time": "2022-06-04T14:30:54.719Z"
   },
   {
    "duration": 20,
    "start_time": "2022-06-04T14:33:43.633Z"
   },
   {
    "duration": 16,
    "start_time": "2022-06-04T14:34:24.648Z"
   },
   {
    "duration": 211,
    "start_time": "2022-06-04T14:36:05.129Z"
   },
   {
    "duration": 276,
    "start_time": "2022-06-04T14:39:58.295Z"
   },
   {
    "duration": 199,
    "start_time": "2022-06-04T14:41:22.964Z"
   },
   {
    "duration": 18,
    "start_time": "2022-06-04T14:43:09.534Z"
   },
   {
    "duration": 9,
    "start_time": "2022-06-04T14:44:04.205Z"
   },
   {
    "duration": 255,
    "start_time": "2022-06-04T14:44:20.338Z"
   },
   {
    "duration": 19,
    "start_time": "2022-06-04T14:45:35.618Z"
   },
   {
    "duration": 382,
    "start_time": "2022-06-04T14:45:48.729Z"
   },
   {
    "duration": 484,
    "start_time": "2022-06-04T14:46:55.626Z"
   },
   {
    "duration": 211,
    "start_time": "2022-06-04T14:47:53.398Z"
   },
   {
    "duration": 174,
    "start_time": "2022-06-04T14:48:05.636Z"
   },
   {
    "duration": 153,
    "start_time": "2022-06-04T14:49:26.012Z"
   },
   {
    "duration": 164,
    "start_time": "2022-06-04T14:49:40.954Z"
   },
   {
    "duration": 16,
    "start_time": "2022-06-04T14:50:26.302Z"
   },
   {
    "duration": 19,
    "start_time": "2022-06-04T14:50:36.211Z"
   },
   {
    "duration": 244,
    "start_time": "2022-06-04T14:50:51.202Z"
   },
   {
    "duration": 20,
    "start_time": "2022-06-04T14:53:14.454Z"
   },
   {
    "duration": 19,
    "start_time": "2022-06-04T14:53:23.771Z"
   },
   {
    "duration": 19,
    "start_time": "2022-06-04T14:53:34.321Z"
   },
   {
    "duration": 378,
    "start_time": "2022-06-04T14:53:46.802Z"
   },
   {
    "duration": 18,
    "start_time": "2022-06-04T14:54:57.906Z"
   },
   {
    "duration": 15,
    "start_time": "2022-06-04T14:55:08.261Z"
   },
   {
    "duration": 23,
    "start_time": "2022-06-04T14:55:19.506Z"
   },
   {
    "duration": 328,
    "start_time": "2022-06-04T14:55:31.998Z"
   },
   {
    "duration": 19,
    "start_time": "2022-06-04T14:56:31.406Z"
   },
   {
    "duration": 23,
    "start_time": "2022-06-04T14:57:11.035Z"
   },
   {
    "duration": 28,
    "start_time": "2022-06-04T14:57:21.430Z"
   },
   {
    "duration": 345,
    "start_time": "2022-06-04T14:57:35.264Z"
   },
   {
    "duration": 7,
    "start_time": "2022-06-04T14:59:38.664Z"
   },
   {
    "duration": 14,
    "start_time": "2022-06-04T15:00:10.902Z"
   },
   {
    "duration": 17,
    "start_time": "2022-06-04T15:01:32.068Z"
   },
   {
    "duration": 2,
    "start_time": "2022-06-04T15:02:12.561Z"
   },
   {
    "duration": 1143,
    "start_time": "2022-06-04T15:43:32.028Z"
   },
   {
    "duration": 130,
    "start_time": "2022-06-04T15:43:33.173Z"
   },
   {
    "duration": 16,
    "start_time": "2022-06-04T15:43:33.304Z"
   },
   {
    "duration": 9,
    "start_time": "2022-06-04T15:43:33.323Z"
   },
   {
    "duration": 18,
    "start_time": "2022-06-04T15:43:33.334Z"
   },
   {
    "duration": 11,
    "start_time": "2022-06-04T15:43:33.354Z"
   },
   {
    "duration": 12,
    "start_time": "2022-06-04T15:43:33.366Z"
   },
   {
    "duration": 30,
    "start_time": "2022-06-04T15:43:33.379Z"
   },
   {
    "duration": 7,
    "start_time": "2022-06-04T15:43:33.411Z"
   },
   {
    "duration": 25,
    "start_time": "2022-06-04T15:43:33.421Z"
   },
   {
    "duration": 20,
    "start_time": "2022-06-04T15:43:33.448Z"
   },
   {
    "duration": 16,
    "start_time": "2022-06-04T15:43:33.469Z"
   },
   {
    "duration": 21,
    "start_time": "2022-06-04T15:43:33.487Z"
   },
   {
    "duration": 31,
    "start_time": "2022-06-04T15:43:33.509Z"
   },
   {
    "duration": 165,
    "start_time": "2022-06-04T15:43:33.543Z"
   },
   {
    "duration": 275,
    "start_time": "2022-06-04T15:43:33.710Z"
   },
   {
    "duration": 14,
    "start_time": "2022-06-04T15:43:33.986Z"
   },
   {
    "duration": 32,
    "start_time": "2022-06-04T15:43:34.002Z"
   },
   {
    "duration": 221,
    "start_time": "2022-06-04T15:43:34.038Z"
   },
   {
    "duration": 15,
    "start_time": "2022-06-04T15:43:34.261Z"
   },
   {
    "duration": 335,
    "start_time": "2022-06-04T15:43:34.278Z"
   },
   {
    "duration": 465,
    "start_time": "2022-06-04T15:43:34.614Z"
   },
   {
    "duration": 169,
    "start_time": "2022-06-04T15:43:35.081Z"
   },
   {
    "duration": 154,
    "start_time": "2022-06-04T15:43:35.252Z"
   },
   {
    "duration": 138,
    "start_time": "2022-06-04T15:43:35.408Z"
   },
   {
    "duration": 121,
    "start_time": "2022-06-04T15:43:35.548Z"
   },
   {
    "duration": 14,
    "start_time": "2022-06-04T15:43:35.671Z"
   },
   {
    "duration": 12,
    "start_time": "2022-06-04T15:43:35.688Z"
   },
   {
    "duration": 247,
    "start_time": "2022-06-04T15:43:35.702Z"
   },
   {
    "duration": 17,
    "start_time": "2022-06-04T15:43:35.951Z"
   },
   {
    "duration": 14,
    "start_time": "2022-06-04T15:43:35.969Z"
   },
   {
    "duration": 18,
    "start_time": "2022-06-04T15:43:35.984Z"
   },
   {
    "duration": 291,
    "start_time": "2022-06-04T15:43:36.028Z"
   },
   {
    "duration": 27,
    "start_time": "2022-06-04T15:43:36.321Z"
   },
   {
    "duration": 23,
    "start_time": "2022-06-04T15:43:36.354Z"
   },
   {
    "duration": 14,
    "start_time": "2022-06-04T15:43:36.379Z"
   },
   {
    "duration": 434,
    "start_time": "2022-06-04T15:43:36.395Z"
   },
   {
    "duration": 25,
    "start_time": "2022-06-04T15:43:36.831Z"
   },
   {
    "duration": 19,
    "start_time": "2022-06-04T15:43:36.858Z"
   },
   {
    "duration": 16,
    "start_time": "2022-06-04T15:43:36.878Z"
   },
   {
    "duration": 224,
    "start_time": "2022-06-04T15:43:36.896Z"
   },
   {
    "duration": 11,
    "start_time": "2022-06-04T15:43:37.127Z"
   },
   {
    "duration": 31,
    "start_time": "2022-06-04T15:43:37.142Z"
   },
   {
    "duration": 15,
    "start_time": "2022-06-04T15:43:37.175Z"
   },
   {
    "duration": 82,
    "start_time": "2022-06-04T15:50:01.488Z"
   },
   {
    "duration": 1126,
    "start_time": "2022-06-04T15:50:16.570Z"
   },
   {
    "duration": 80,
    "start_time": "2022-06-04T15:50:17.698Z"
   },
   {
    "duration": 14,
    "start_time": "2022-06-04T15:50:17.780Z"
   },
   {
    "duration": 5,
    "start_time": "2022-06-04T15:50:17.795Z"
   },
   {
    "duration": 9,
    "start_time": "2022-06-04T15:50:17.802Z"
   },
   {
    "duration": 43,
    "start_time": "2022-06-04T15:50:17.813Z"
   },
   {
    "duration": 12,
    "start_time": "2022-06-04T15:50:17.857Z"
   },
   {
    "duration": 19,
    "start_time": "2022-06-04T15:50:17.872Z"
   },
   {
    "duration": 9,
    "start_time": "2022-06-04T15:50:17.893Z"
   },
   {
    "duration": 35,
    "start_time": "2022-06-04T15:50:17.904Z"
   },
   {
    "duration": 37,
    "start_time": "2022-06-04T15:50:17.940Z"
   },
   {
    "duration": 20,
    "start_time": "2022-06-04T15:50:17.980Z"
   },
   {
    "duration": 25,
    "start_time": "2022-06-04T15:50:18.002Z"
   },
   {
    "duration": 31,
    "start_time": "2022-06-04T15:50:18.033Z"
   },
   {
    "duration": 111,
    "start_time": "2022-06-04T15:50:18.066Z"
   },
   {
    "duration": 193,
    "start_time": "2022-06-04T15:50:18.179Z"
   },
   {
    "duration": 289,
    "start_time": "2022-06-04T15:50:18.374Z"
   },
   {
    "duration": 15,
    "start_time": "2022-06-04T15:50:18.665Z"
   },
   {
    "duration": 14,
    "start_time": "2022-06-04T15:50:18.684Z"
   },
   {
    "duration": 268,
    "start_time": "2022-06-04T15:50:18.699Z"
   },
   {
    "duration": 16,
    "start_time": "2022-06-04T15:50:18.969Z"
   },
   {
    "duration": 401,
    "start_time": "2022-06-04T15:50:18.987Z"
   },
   {
    "duration": 489,
    "start_time": "2022-06-04T15:50:19.389Z"
   },
   {
    "duration": 176,
    "start_time": "2022-06-04T15:50:19.880Z"
   },
   {
    "duration": 155,
    "start_time": "2022-06-04T15:50:20.058Z"
   },
   {
    "duration": 150,
    "start_time": "2022-06-04T15:50:20.215Z"
   },
   {
    "duration": 141,
    "start_time": "2022-06-04T15:50:20.367Z"
   },
   {
    "duration": 33,
    "start_time": "2022-06-04T15:50:20.510Z"
   },
   {
    "duration": 15,
    "start_time": "2022-06-04T15:50:20.545Z"
   },
   {
    "duration": 258,
    "start_time": "2022-06-04T15:50:20.562Z"
   },
   {
    "duration": 23,
    "start_time": "2022-06-04T15:50:20.828Z"
   },
   {
    "duration": 27,
    "start_time": "2022-06-04T15:50:20.852Z"
   },
   {
    "duration": 16,
    "start_time": "2022-06-04T15:50:20.881Z"
   },
   {
    "duration": 292,
    "start_time": "2022-06-04T15:50:20.899Z"
   },
   {
    "duration": 14,
    "start_time": "2022-06-04T15:50:21.193Z"
   },
   {
    "duration": 36,
    "start_time": "2022-06-04T15:50:21.209Z"
   },
   {
    "duration": 33,
    "start_time": "2022-06-04T15:50:21.248Z"
   },
   {
    "duration": 389,
    "start_time": "2022-06-04T15:50:21.283Z"
   },
   {
    "duration": 14,
    "start_time": "2022-06-04T15:50:21.674Z"
   },
   {
    "duration": 18,
    "start_time": "2022-06-04T15:50:21.690Z"
   },
   {
    "duration": 39,
    "start_time": "2022-06-04T15:50:21.712Z"
   },
   {
    "duration": 272,
    "start_time": "2022-06-04T15:50:21.753Z"
   },
   {
    "duration": 10,
    "start_time": "2022-06-04T15:50:22.033Z"
   },
   {
    "duration": 21,
    "start_time": "2022-06-04T15:50:22.047Z"
   },
   {
    "duration": 10,
    "start_time": "2022-06-04T15:50:22.070Z"
   },
   {
    "duration": 9,
    "start_time": "2022-06-04T16:06:47.271Z"
   },
   {
    "duration": 1173,
    "start_time": "2022-06-04T16:07:04.401Z"
   },
   {
    "duration": 72,
    "start_time": "2022-06-04T16:07:05.576Z"
   },
   {
    "duration": 15,
    "start_time": "2022-06-04T16:07:05.649Z"
   },
   {
    "duration": 12,
    "start_time": "2022-06-04T16:07:05.666Z"
   },
   {
    "duration": 8,
    "start_time": "2022-06-04T16:07:05.680Z"
   },
   {
    "duration": 13,
    "start_time": "2022-06-04T16:07:05.690Z"
   },
   {
    "duration": 21,
    "start_time": "2022-06-04T16:07:05.706Z"
   },
   {
    "duration": 15,
    "start_time": "2022-06-04T16:07:05.729Z"
   },
   {
    "duration": 8,
    "start_time": "2022-06-04T16:07:05.745Z"
   },
   {
    "duration": 17,
    "start_time": "2022-06-04T16:07:05.755Z"
   },
   {
    "duration": 17,
    "start_time": "2022-06-04T16:07:05.774Z"
   },
   {
    "duration": 45,
    "start_time": "2022-06-04T16:07:05.792Z"
   },
   {
    "duration": 21,
    "start_time": "2022-06-04T16:07:05.839Z"
   },
   {
    "duration": 22,
    "start_time": "2022-06-04T16:07:05.864Z"
   },
   {
    "duration": 113,
    "start_time": "2022-06-04T16:07:05.889Z"
   },
   {
    "duration": 187,
    "start_time": "2022-06-04T16:07:06.004Z"
   },
   {
    "duration": 294,
    "start_time": "2022-06-04T16:07:06.193Z"
   },
   {
    "duration": 21,
    "start_time": "2022-06-04T16:07:06.490Z"
   },
   {
    "duration": 25,
    "start_time": "2022-06-04T16:07:06.513Z"
   },
   {
    "duration": 282,
    "start_time": "2022-06-04T16:07:06.540Z"
   },
   {
    "duration": 17,
    "start_time": "2022-06-04T16:07:06.824Z"
   },
   {
    "duration": 357,
    "start_time": "2022-06-04T16:07:06.843Z"
   },
   {
    "duration": 484,
    "start_time": "2022-06-04T16:07:07.203Z"
   },
   {
    "duration": 174,
    "start_time": "2022-06-04T16:07:07.689Z"
   },
   {
    "duration": 154,
    "start_time": "2022-06-04T16:07:07.865Z"
   },
   {
    "duration": 130,
    "start_time": "2022-06-04T16:07:08.026Z"
   },
   {
    "duration": 136,
    "start_time": "2022-06-04T16:07:08.158Z"
   },
   {
    "duration": 15,
    "start_time": "2022-06-04T16:07:08.296Z"
   },
   {
    "duration": 25,
    "start_time": "2022-06-04T16:07:08.312Z"
   },
   {
    "duration": 243,
    "start_time": "2022-06-04T16:07:08.338Z"
   },
   {
    "duration": 14,
    "start_time": "2022-06-04T16:07:08.583Z"
   },
   {
    "duration": 29,
    "start_time": "2022-06-04T16:07:08.599Z"
   },
   {
    "duration": 14,
    "start_time": "2022-06-04T16:07:08.630Z"
   },
   {
    "duration": 264,
    "start_time": "2022-06-04T16:07:08.646Z"
   },
   {
    "duration": 26,
    "start_time": "2022-06-04T16:07:08.912Z"
   },
   {
    "duration": 15,
    "start_time": "2022-06-04T16:07:08.939Z"
   },
   {
    "duration": 13,
    "start_time": "2022-06-04T16:07:08.955Z"
   },
   {
    "duration": 396,
    "start_time": "2022-06-04T16:07:08.969Z"
   },
   {
    "duration": 14,
    "start_time": "2022-06-04T16:07:09.367Z"
   },
   {
    "duration": 18,
    "start_time": "2022-06-04T16:07:09.382Z"
   },
   {
    "duration": 33,
    "start_time": "2022-06-04T16:07:09.405Z"
   },
   {
    "duration": 216,
    "start_time": "2022-06-04T16:07:09.440Z"
   },
   {
    "duration": 9,
    "start_time": "2022-06-04T16:07:09.658Z"
   },
   {
    "duration": 12,
    "start_time": "2022-06-04T16:07:09.668Z"
   },
   {
    "duration": 16,
    "start_time": "2022-06-04T16:07:09.682Z"
   },
   {
    "duration": 33,
    "start_time": "2022-06-04T16:07:09.699Z"
   },
   {
    "duration": 1647,
    "start_time": "2022-06-04T17:00:48.550Z"
   },
   {
    "duration": 589,
    "start_time": "2022-06-04T17:00:50.200Z"
   },
   {
    "duration": 23,
    "start_time": "2022-06-04T17:00:50.802Z"
   },
   {
    "duration": 11,
    "start_time": "2022-06-04T17:00:50.827Z"
   },
   {
    "duration": 20,
    "start_time": "2022-06-04T17:00:50.840Z"
   },
   {
    "duration": 9,
    "start_time": "2022-06-04T17:00:50.862Z"
   },
   {
    "duration": 9,
    "start_time": "2022-06-04T17:00:50.873Z"
   },
   {
    "duration": 21,
    "start_time": "2022-06-04T17:00:50.884Z"
   },
   {
    "duration": 19,
    "start_time": "2022-06-04T17:00:50.907Z"
   },
   {
    "duration": 15,
    "start_time": "2022-06-04T17:00:50.928Z"
   },
   {
    "duration": 17,
    "start_time": "2022-06-04T17:00:50.945Z"
   },
   {
    "duration": 28,
    "start_time": "2022-06-04T17:00:50.963Z"
   },
   {
    "duration": 45,
    "start_time": "2022-06-04T17:00:50.993Z"
   },
   {
    "duration": 17,
    "start_time": "2022-06-04T17:00:51.040Z"
   },
   {
    "duration": 94,
    "start_time": "2022-06-04T17:00:51.059Z"
   },
   {
    "duration": 320,
    "start_time": "2022-06-04T17:00:51.155Z"
   },
   {
    "duration": 236,
    "start_time": "2022-06-04T17:00:51.477Z"
   },
   {
    "duration": 17,
    "start_time": "2022-06-04T17:00:51.716Z"
   },
   {
    "duration": 8,
    "start_time": "2022-06-04T17:00:51.735Z"
   },
   {
    "duration": 312,
    "start_time": "2022-06-04T17:00:51.744Z"
   },
   {
    "duration": 275,
    "start_time": "2022-06-04T17:00:57.406Z"
   },
   {
    "duration": 18,
    "start_time": "2022-06-04T17:11:42.051Z"
   },
   {
    "duration": 459,
    "start_time": "2022-06-04T17:11:57.723Z"
   },
   {
    "duration": 565,
    "start_time": "2022-06-04T17:15:03.138Z"
   },
   {
    "duration": 650,
    "start_time": "2022-06-04T17:15:17.024Z"
   },
   {
    "duration": 604,
    "start_time": "2022-06-04T17:25:08.053Z"
   },
   {
    "duration": 583,
    "start_time": "2022-06-04T17:33:54.813Z"
   },
   {
    "duration": 539,
    "start_time": "2022-06-04T17:36:24.209Z"
   },
   {
    "duration": 573,
    "start_time": "2022-06-04T17:37:48.731Z"
   },
   {
    "duration": 644,
    "start_time": "2022-06-04T17:38:17.916Z"
   },
   {
    "duration": 594,
    "start_time": "2022-06-04T17:38:30.420Z"
   },
   {
    "duration": 666,
    "start_time": "2022-06-04T17:38:36.209Z"
   },
   {
    "duration": 551,
    "start_time": "2022-06-04T17:39:07.524Z"
   },
   {
    "duration": 426,
    "start_time": "2022-06-04T17:39:14.415Z"
   },
   {
    "duration": 528,
    "start_time": "2022-06-04T17:39:21.634Z"
   },
   {
    "duration": 499,
    "start_time": "2022-06-04T17:39:30.779Z"
   },
   {
    "duration": 513,
    "start_time": "2022-06-04T17:47:07.321Z"
   },
   {
    "duration": 608,
    "start_time": "2022-06-04T17:47:13.014Z"
   },
   {
    "duration": 533,
    "start_time": "2022-06-04T17:48:15.547Z"
   },
   {
    "duration": 512,
    "start_time": "2022-06-04T17:48:26.209Z"
   },
   {
    "duration": 499,
    "start_time": "2022-06-04T17:51:50.322Z"
   },
   {
    "duration": 24,
    "start_time": "2022-06-04T17:57:41.019Z"
   },
   {
    "duration": 558,
    "start_time": "2022-06-04T18:41:08.320Z"
   },
   {
    "duration": 434,
    "start_time": "2022-06-04T18:41:52.416Z"
   },
   {
    "duration": 731,
    "start_time": "2022-06-04T18:43:22.116Z"
   },
   {
    "duration": 996,
    "start_time": "2022-06-04T18:44:50.288Z"
   },
   {
    "duration": 3,
    "start_time": "2022-06-04T18:46:04.653Z"
   },
   {
    "duration": 6,
    "start_time": "2022-06-04T18:46:11.538Z"
   },
   {
    "duration": 932,
    "start_time": "2022-06-04T18:51:35.002Z"
   },
   {
    "duration": 21,
    "start_time": "2022-06-04T19:04:27.337Z"
   },
   {
    "duration": 27,
    "start_time": "2022-06-04T19:04:58.217Z"
   },
   {
    "duration": 309,
    "start_time": "2022-06-04T19:05:17.289Z"
   },
   {
    "duration": 370,
    "start_time": "2022-06-04T19:07:47.750Z"
   },
   {
    "duration": 419,
    "start_time": "2022-06-04T19:08:11.032Z"
   },
   {
    "duration": 455,
    "start_time": "2022-06-04T19:09:59.441Z"
   },
   {
    "duration": 539,
    "start_time": "2022-06-04T19:10:19.224Z"
   },
   {
    "duration": 633,
    "start_time": "2022-06-04T19:12:15.033Z"
   },
   {
    "duration": 4,
    "start_time": "2022-06-05T05:38:22.884Z"
   },
   {
    "duration": 88,
    "start_time": "2022-06-05T06:44:31.422Z"
   },
   {
    "duration": 1699,
    "start_time": "2022-06-05T06:44:41.029Z"
   },
   {
    "duration": 170,
    "start_time": "2022-06-05T06:44:42.730Z"
   },
   {
    "duration": 24,
    "start_time": "2022-06-05T06:44:42.902Z"
   },
   {
    "duration": 6,
    "start_time": "2022-06-05T06:44:42.929Z"
   },
   {
    "duration": 10,
    "start_time": "2022-06-05T06:44:42.937Z"
   },
   {
    "duration": 22,
    "start_time": "2022-06-05T06:44:42.949Z"
   },
   {
    "duration": 32,
    "start_time": "2022-06-05T06:44:42.973Z"
   },
   {
    "duration": 19,
    "start_time": "2022-06-05T06:44:43.007Z"
   },
   {
    "duration": 11,
    "start_time": "2022-06-05T06:44:43.029Z"
   },
   {
    "duration": 37,
    "start_time": "2022-06-05T06:44:43.046Z"
   },
   {
    "duration": 23,
    "start_time": "2022-06-05T06:44:43.085Z"
   },
   {
    "duration": 29,
    "start_time": "2022-06-05T06:44:43.110Z"
   },
   {
    "duration": 79,
    "start_time": "2022-06-05T06:44:43.141Z"
   },
   {
    "duration": 23,
    "start_time": "2022-06-05T06:44:43.222Z"
   },
   {
    "duration": 119,
    "start_time": "2022-06-05T06:44:43.248Z"
   },
   {
    "duration": 251,
    "start_time": "2022-06-05T06:44:43.372Z"
   },
   {
    "duration": 320,
    "start_time": "2022-06-05T06:44:43.625Z"
   },
   {
    "duration": 37,
    "start_time": "2022-06-05T06:44:43.947Z"
   },
   {
    "duration": 10,
    "start_time": "2022-06-05T06:44:43.988Z"
   },
   {
    "duration": 362,
    "start_time": "2022-06-05T06:44:43.999Z"
   },
   {
    "duration": 342,
    "start_time": "2022-06-05T06:44:44.363Z"
   },
   {
    "duration": 38,
    "start_time": "2022-06-05T06:44:44.718Z"
   },
   {
    "duration": 448,
    "start_time": "2022-06-05T06:44:44.759Z"
   },
   {
    "duration": 545,
    "start_time": "2022-06-05T06:44:45.209Z"
   },
   {
    "duration": 538,
    "start_time": "2022-06-05T06:44:45.756Z"
   },
   {
    "duration": 29,
    "start_time": "2022-06-05T06:44:46.299Z"
   },
   {
    "duration": 254,
    "start_time": "2022-06-05T06:44:46.330Z"
   },
   {
    "duration": 184,
    "start_time": "2022-06-05T06:44:46.593Z"
   },
   {
    "duration": 842,
    "start_time": "2022-06-05T06:44:46.779Z"
   },
   {
    "duration": 924,
    "start_time": "2022-06-05T06:44:47.629Z"
   },
   {
    "duration": 4,
    "start_time": "2022-06-05T06:44:48.558Z"
   },
   {
    "duration": 68,
    "start_time": "2022-06-05T06:44:48.581Z"
   },
   {
    "duration": 96,
    "start_time": "2022-06-05T06:44:48.651Z"
   },
   {
    "duration": 178,
    "start_time": "2022-06-05T06:44:48.751Z"
   },
   {
    "duration": 438,
    "start_time": "2022-06-05T06:44:48.931Z"
   },
   {
    "duration": 616,
    "start_time": "2022-06-05T06:44:49.371Z"
   },
   {
    "duration": 16,
    "start_time": "2022-06-05T06:44:49.989Z"
   },
   {
    "duration": 83,
    "start_time": "2022-06-05T06:44:50.007Z"
   },
   {
    "duration": 46,
    "start_time": "2022-06-05T06:44:50.099Z"
   },
   {
    "duration": 338,
    "start_time": "2022-06-05T06:44:50.148Z"
   },
   {
    "duration": 16,
    "start_time": "2022-06-05T06:44:50.491Z"
   },
   {
    "duration": 20,
    "start_time": "2022-06-05T06:44:50.509Z"
   },
   {
    "duration": 29,
    "start_time": "2022-06-05T06:44:50.532Z"
   },
   {
    "duration": 435,
    "start_time": "2022-06-05T06:44:50.563Z"
   },
   {
    "duration": 117,
    "start_time": "2022-06-05T06:44:53.893Z"
   },
   {
    "duration": 31,
    "start_time": "2022-06-05T06:45:19.786Z"
   },
   {
    "duration": 28,
    "start_time": "2022-06-05T06:45:45.109Z"
   },
   {
    "duration": 6,
    "start_time": "2022-06-05T06:46:06.079Z"
   },
   {
    "duration": 18,
    "start_time": "2022-06-05T06:46:17.898Z"
   },
   {
    "duration": 18,
    "start_time": "2022-06-05T06:46:30.436Z"
   },
   {
    "duration": 16,
    "start_time": "2022-06-05T06:46:39.606Z"
   },
   {
    "duration": 251,
    "start_time": "2022-06-05T06:46:45.134Z"
   },
   {
    "duration": 9,
    "start_time": "2022-06-05T07:05:58.753Z"
   },
   {
    "duration": 4,
    "start_time": "2022-06-05T07:06:07.191Z"
   },
   {
    "duration": 75,
    "start_time": "2022-06-05T07:06:07.197Z"
   },
   {
    "duration": 19,
    "start_time": "2022-06-05T07:06:07.274Z"
   },
   {
    "duration": 12,
    "start_time": "2022-06-05T07:06:07.295Z"
   },
   {
    "duration": 21,
    "start_time": "2022-06-05T07:06:07.309Z"
   },
   {
    "duration": 13,
    "start_time": "2022-06-05T07:06:07.331Z"
   },
   {
    "duration": 22,
    "start_time": "2022-06-05T07:06:07.345Z"
   },
   {
    "duration": 42,
    "start_time": "2022-06-05T07:06:07.371Z"
   },
   {
    "duration": 9,
    "start_time": "2022-06-05T07:06:07.415Z"
   },
   {
    "duration": 23,
    "start_time": "2022-06-05T07:06:07.427Z"
   },
   {
    "duration": 19,
    "start_time": "2022-06-05T07:06:07.452Z"
   },
   {
    "duration": 22,
    "start_time": "2022-06-05T07:06:07.473Z"
   },
   {
    "duration": 26,
    "start_time": "2022-06-05T07:06:07.501Z"
   },
   {
    "duration": 16,
    "start_time": "2022-06-05T07:06:07.531Z"
   },
   {
    "duration": 100,
    "start_time": "2022-06-05T07:06:07.549Z"
   },
   {
    "duration": 189,
    "start_time": "2022-06-05T07:06:07.670Z"
   },
   {
    "duration": 228,
    "start_time": "2022-06-05T07:06:07.861Z"
   },
   {
    "duration": 15,
    "start_time": "2022-06-05T07:06:08.091Z"
   },
   {
    "duration": 9,
    "start_time": "2022-06-05T07:06:08.108Z"
   },
   {
    "duration": 375,
    "start_time": "2022-06-05T07:06:08.119Z"
   },
   {
    "duration": 294,
    "start_time": "2022-06-05T07:06:08.496Z"
   },
   {
    "duration": 16,
    "start_time": "2022-06-05T07:06:08.792Z"
   },
   {
    "duration": 438,
    "start_time": "2022-06-05T07:06:08.810Z"
   },
   {
    "duration": 474,
    "start_time": "2022-06-05T07:06:09.250Z"
   },
   {
    "duration": 482,
    "start_time": "2022-06-05T07:06:09.726Z"
   },
   {
    "duration": 23,
    "start_time": "2022-06-05T07:06:10.210Z"
   },
   {
    "duration": 201,
    "start_time": "2022-06-05T07:06:10.235Z"
   },
   {
    "duration": 216,
    "start_time": "2022-06-05T07:06:10.438Z"
   },
   {
    "duration": 664,
    "start_time": "2022-06-05T07:06:10.656Z"
   },
   {
    "duration": 731,
    "start_time": "2022-06-05T07:06:11.321Z"
   },
   {
    "duration": 3,
    "start_time": "2022-06-05T07:06:12.053Z"
   },
   {
    "duration": 26,
    "start_time": "2022-06-05T07:06:12.067Z"
   },
   {
    "duration": 6,
    "start_time": "2022-06-05T07:06:12.095Z"
   },
   {
    "duration": 16,
    "start_time": "2022-06-05T07:06:12.102Z"
   },
   {
    "duration": 223,
    "start_time": "2022-06-05T07:06:12.120Z"
   },
   {
    "duration": 514,
    "start_time": "2022-06-05T07:06:12.344Z"
   },
   {
    "duration": 25,
    "start_time": "2022-06-05T07:06:12.859Z"
   },
   {
    "duration": 22,
    "start_time": "2022-06-05T07:06:12.886Z"
   },
   {
    "duration": 16,
    "start_time": "2022-06-05T07:06:12.910Z"
   },
   {
    "duration": 285,
    "start_time": "2022-06-05T07:06:12.927Z"
   },
   {
    "duration": 14,
    "start_time": "2022-06-05T07:06:13.216Z"
   },
   {
    "duration": 16,
    "start_time": "2022-06-05T07:06:13.232Z"
   },
   {
    "duration": 20,
    "start_time": "2022-06-05T07:06:13.264Z"
   },
   {
    "duration": 308,
    "start_time": "2022-06-05T07:06:13.286Z"
   },
   {
    "duration": 5,
    "start_time": "2022-06-05T07:06:13.596Z"
   },
   {
    "duration": 23,
    "start_time": "2022-06-05T07:06:13.603Z"
   },
   {
    "duration": 14,
    "start_time": "2022-06-05T07:06:13.628Z"
   },
   {
    "duration": 54,
    "start_time": "2022-06-05T07:06:13.643Z"
   },
   {
    "duration": 210,
    "start_time": "2022-06-05T07:06:13.699Z"
   },
   {
    "duration": 8,
    "start_time": "2022-06-05T07:06:13.911Z"
   },
   {
    "duration": 6,
    "start_time": "2022-06-05T07:06:13.921Z"
   },
   {
    "duration": 20,
    "start_time": "2022-06-05T07:06:13.929Z"
   },
   {
    "duration": 14,
    "start_time": "2022-06-05T07:06:13.965Z"
   },
   {
    "duration": 9,
    "start_time": "2022-06-05T07:06:16.683Z"
   },
   {
    "duration": 16,
    "start_time": "2022-06-05T07:06:54.232Z"
   },
   {
    "duration": 5,
    "start_time": "2022-06-05T07:07:52.082Z"
   },
   {
    "duration": 7,
    "start_time": "2022-06-05T07:08:18.684Z"
   },
   {
    "duration": 989,
    "start_time": "2022-06-06T00:25:13.252Z"
   },
   {
    "duration": 64,
    "start_time": "2022-06-06T00:25:14.243Z"
   },
   {
    "duration": 12,
    "start_time": "2022-06-06T00:25:14.309Z"
   },
   {
    "duration": 4,
    "start_time": "2022-06-06T00:25:14.322Z"
   },
   {
    "duration": 3,
    "start_time": "2022-06-06T00:25:14.328Z"
   },
   {
    "duration": 9,
    "start_time": "2022-06-06T00:25:14.333Z"
   },
   {
    "duration": 9,
    "start_time": "2022-06-06T00:25:14.343Z"
   },
   {
    "duration": 15,
    "start_time": "2022-06-06T00:25:14.353Z"
   },
   {
    "duration": 7,
    "start_time": "2022-06-06T00:25:14.370Z"
   },
   {
    "duration": 43,
    "start_time": "2022-06-06T00:25:14.378Z"
   },
   {
    "duration": 17,
    "start_time": "2022-06-06T00:25:14.422Z"
   },
   {
    "duration": 14,
    "start_time": "2022-06-06T00:25:14.441Z"
   },
   {
    "duration": 17,
    "start_time": "2022-06-06T00:25:14.457Z"
   },
   {
    "duration": 33,
    "start_time": "2022-06-06T00:25:14.477Z"
   },
   {
    "duration": 67,
    "start_time": "2022-06-06T00:25:14.511Z"
   },
   {
    "duration": 173,
    "start_time": "2022-06-06T00:25:14.579Z"
   },
   {
    "duration": 213,
    "start_time": "2022-06-06T00:25:14.754Z"
   },
   {
    "duration": 13,
    "start_time": "2022-06-06T00:25:14.969Z"
   },
   {
    "duration": 6,
    "start_time": "2022-06-06T00:25:14.984Z"
   },
   {
    "duration": 223,
    "start_time": "2022-06-06T00:25:14.991Z"
   },
   {
    "duration": 200,
    "start_time": "2022-06-06T00:25:15.216Z"
   },
   {
    "duration": 14,
    "start_time": "2022-06-06T00:25:15.418Z"
   },
   {
    "duration": 299,
    "start_time": "2022-06-06T00:25:15.434Z"
   },
   {
    "duration": 376,
    "start_time": "2022-06-06T00:25:15.735Z"
   },
   {
    "duration": 364,
    "start_time": "2022-06-06T00:25:16.113Z"
   },
   {
    "duration": 20,
    "start_time": "2022-06-06T00:25:16.478Z"
   },
   {
    "duration": 145,
    "start_time": "2022-06-06T00:25:16.509Z"
   },
   {
    "duration": 136,
    "start_time": "2022-06-06T00:25:16.656Z"
   },
   {
    "duration": 620,
    "start_time": "2022-06-06T00:25:16.794Z"
   },
   {
    "duration": 512,
    "start_time": "2022-06-06T00:25:17.415Z"
   },
   {
    "duration": 3,
    "start_time": "2022-06-06T00:25:17.928Z"
   },
   {
    "duration": 6,
    "start_time": "2022-06-06T00:25:17.932Z"
   },
   {
    "duration": 8,
    "start_time": "2022-06-06T00:25:17.939Z"
   },
   {
    "duration": 14,
    "start_time": "2022-06-06T00:25:17.949Z"
   },
   {
    "duration": 204,
    "start_time": "2022-06-06T00:25:17.964Z"
   },
   {
    "duration": 453,
    "start_time": "2022-06-06T00:25:18.169Z"
   },
   {
    "duration": 13,
    "start_time": "2022-06-06T00:25:18.623Z"
   },
   {
    "duration": 13,
    "start_time": "2022-06-06T00:25:18.637Z"
   },
   {
    "duration": 11,
    "start_time": "2022-06-06T00:25:18.651Z"
   },
   {
    "duration": 232,
    "start_time": "2022-06-06T00:25:18.663Z"
   },
   {
    "duration": 20,
    "start_time": "2022-06-06T00:25:18.898Z"
   },
   {
    "duration": 13,
    "start_time": "2022-06-06T00:25:18.919Z"
   },
   {
    "duration": 12,
    "start_time": "2022-06-06T00:25:18.934Z"
   },
   {
    "duration": 262,
    "start_time": "2022-06-06T00:25:18.947Z"
   },
   {
    "duration": 4,
    "start_time": "2022-06-06T00:25:19.210Z"
   },
   {
    "duration": 13,
    "start_time": "2022-06-06T00:25:19.216Z"
   },
   {
    "duration": 11,
    "start_time": "2022-06-06T00:25:19.230Z"
   },
   {
    "duration": 11,
    "start_time": "2022-06-06T00:25:19.243Z"
   },
   {
    "duration": 192,
    "start_time": "2022-06-06T00:25:19.255Z"
   },
   {
    "duration": 8,
    "start_time": "2022-06-06T00:25:19.449Z"
   },
   {
    "duration": 5,
    "start_time": "2022-06-06T00:25:19.458Z"
   },
   {
    "duration": 10,
    "start_time": "2022-06-06T00:25:19.465Z"
   },
   {
    "duration": 5,
    "start_time": "2022-06-06T00:25:19.476Z"
   },
   {
    "duration": 35,
    "start_time": "2022-06-06T00:25:19.482Z"
   },
   {
    "duration": 5,
    "start_time": "2022-06-06T00:25:19.519Z"
   },
   {
    "duration": 383,
    "start_time": "2022-06-06T00:30:18.394Z"
   },
   {
    "duration": 118,
    "start_time": "2022-06-06T00:43:58.108Z"
   },
   {
    "duration": 121,
    "start_time": "2022-06-06T00:46:37.572Z"
   },
   {
    "duration": 492,
    "start_time": "2022-06-06T00:47:21.466Z"
   },
   {
    "duration": 691,
    "start_time": "2022-06-06T00:47:44.734Z"
   },
   {
    "duration": 554,
    "start_time": "2022-06-06T00:49:32.099Z"
   },
   {
    "duration": 575,
    "start_time": "2022-06-06T00:50:21.227Z"
   },
   {
    "duration": 453,
    "start_time": "2022-06-06T00:50:40.877Z"
   },
   {
    "duration": 455,
    "start_time": "2022-06-06T00:50:51.933Z"
   },
   {
    "duration": 478,
    "start_time": "2022-06-06T00:51:18.847Z"
   }
  ],
  "kernelspec": {
   "display_name": "Python 3 (ipykernel)",
   "language": "python",
   "name": "python3"
  },
  "language_info": {
   "codemirror_mode": {
    "name": "ipython",
    "version": 3
   },
   "file_extension": ".py",
   "mimetype": "text/x-python",
   "name": "python",
   "nbconvert_exporter": "python",
   "pygments_lexer": "ipython3",
   "version": "3.9.7"
  },
  "toc": {
   "base_numbering": 1,
   "nav_menu": {},
   "number_sections": true,
   "sideBar": true,
   "skip_h1_title": true,
   "title_cell": "Table of Contents",
   "title_sidebar": "Contents",
   "toc_cell": false,
   "toc_position": {
    "height": "calc(100% - 180px)",
    "left": "10px",
    "top": "150px",
    "width": "190.675px"
   },
   "toc_section_display": true,
   "toc_window_display": true
  }
 },
 "nbformat": 4,
 "nbformat_minor": 2
}
