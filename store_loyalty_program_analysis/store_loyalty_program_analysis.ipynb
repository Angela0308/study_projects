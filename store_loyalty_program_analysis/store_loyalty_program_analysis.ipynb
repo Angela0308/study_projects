{
 "cells": [
  {
   "cell_type": "markdown",
   "id": "801bb32e",
   "metadata": {
    "toc": true
   },
   "source": [
    "<h1>Содержание<span class=\"tocSkip\"></span></h1>\n",
    "<div class=\"toc\"><ul class=\"toc-item\"><li><span><a href=\"#Анализ-программы-лояльности-магазина-«Строили,-строили-и-наконец-построили»\" data-toc-modified-id=\"Анализ-программы-лояльности-магазина-«Строили,-строили-и-наконец-построили»-1\">Анализ программы лояльности магазина «Строили, строили и наконец построили»</a></span><ul class=\"toc-item\"><li><span><a href=\"#Материалы\" data-toc-modified-id=\"Материалы-1.1\">Материалы</a></span></li><li><span><a href=\"#Описание-проекта\" data-toc-modified-id=\"Описание-проекта-1.2\">Описание проекта</a></span><ul class=\"toc-item\"><li><span><a href=\"#Задачи\" data-toc-modified-id=\"Задачи-1.2.1\">Задачи</a></span></li><li><span><a href=\"#Описание-данных\" data-toc-modified-id=\"Описание-данных-1.2.2\">Описание данных</a></span></li><li><span><a href=\"#План-работы\" data-toc-modified-id=\"План-работы-1.2.3\">План работы</a></span></li></ul></li><li><span><a href=\"#Загрузка-и-изучение-данных\" data-toc-modified-id=\"Загрузка-и-изучение-данных-1.3\">Загрузка и изучение данных</a></span><ul class=\"toc-item\"><li><span><a href=\"#Обзор-данных\" data-toc-modified-id=\"Обзор-данных-1.3.1\">Обзор данных</a></span></li></ul></li><li><span><a href=\"#Предобработка-данных\" data-toc-modified-id=\"Предобработка-данных-1.4\">Предобработка данных</a></span><ul class=\"toc-item\"><li><span><a href=\"#Итоги-предобработки\" data-toc-modified-id=\"Итоги-предобработки-1.4.1\">Итоги предобработки</a></span></li></ul></li><li><span><a href=\"#Исследовательский-анализ-данных\" data-toc-modified-id=\"Исследовательский-анализ-данных-1.5\">Исследовательский анализ данных</a></span><ul class=\"toc-item\"><li><span><a href=\"#Итоги-исследовательского-анализа\" data-toc-modified-id=\"Итоги-исследовательского-анализа-1.5.1\">Итоги исследовательского анализа</a></span></li></ul></li><li><span><a href=\"#Анализ-программы-лояльности\" data-toc-modified-id=\"Анализ-программы-лояльности-1.6\">Анализ программы лояльности</a></span><ul class=\"toc-item\"><li><span><a href=\"#Функции-для-рассчета-и-визуализации-ltv-и-удержания\" data-toc-modified-id=\"Функции-для-рассчета-и-визуализации-ltv-и-удержания-1.6.1\">Функции для рассчета и визуализации ltv и удержания</a></span></li><li><span><a href=\"#Выводы-из-анализа-программы-лояльности\" data-toc-modified-id=\"Выводы-из-анализа-программы-лояльности-1.6.2\">Выводы из анализа программы лояльности</a></span></li></ul></li><li><span><a href=\"#Проверка-статистических-гипотез\" data-toc-modified-id=\"Проверка-статистических-гипотез-1.7\">Проверка статистических гипотез</a></span><ul class=\"toc-item\"><li><span><a href=\"#Итоги-проверки-статистических-гипотез\" data-toc-modified-id=\"Итоги-проверки-статистических-гипотез-1.7.1\">Итоги проверки статистических гипотез</a></span></li></ul></li><li><span><a href=\"#Выводы-и-рекомендации\" data-toc-modified-id=\"Выводы-и-рекомендации-1.8\">Выводы и рекомендации</a></span></li></ul></li></ul></div>"
   ]
  },
  {
   "cell_type": "markdown",
   "id": "c3d36c3f",
   "metadata": {},
   "source": [
    "# Анализ программы лояльности магазина «Строили, строили и наконец построили»"
   ]
  },
  {
   "cell_type": "markdown",
   "id": "4e73f081",
   "metadata": {},
   "source": [
    "## Материалы\n",
    "[Презентация](https://drive.google.com/file/d/150RSUD-m_Stc16-3a6iBHnP0g2Jl7sNM/view?usp=sharing)\n",
    "\n",
    "[Дашборд](https://public.tableau.com/app/profile/angela.kurbatova/viz/_16884798660960/sheet4?publish=yes)"
   ]
  },
  {
   "cell_type": "markdown",
   "id": "69b62d98",
   "metadata": {},
   "source": [
    "## Описание проекта\n",
    "Магазину строительных материалов «Строили, строили и наконец построили» необходим анализ действующей программы лояльности. Все покупатели могут получить доступ в магазин с использованием персональных карт. За 200 рублей в месяц они могут стать участниками программы лояльности. В программу включены скидки, специальные предложения, подарки. Менеджер проекта, который отвечает за данную программу, хочет оценить результаты ее внедрения, насколько она сработала и стоит ли продолжать ее использовать. Анализ программы лояльности позволит магазину сделать клиентов счастливее и укрепить позиции на рынке торговли стройматериалами.\n",
    "\n",
    "### Задачи\n",
    "* Провести исследовательский анализ данных;\n",
    "* Проведите анализ программы лояльности;\n",
    "* Сформулировать и проверить статистические гипотезы;\n",
    "* Подготовить презентацию по итогам исследования;\n",
    "* Создать дашборд.\n",
    "\n",
    "### Описание данных\n",
    "Датасет: `retail_dataset.csv`. Структура: \n",
    "- `purchaseId` — id чека;\n",
    "- `item_ID` — id товара;\n",
    "- `purchasedate` — дата покупки;\n",
    "- `Quantity` — количество товара;\n",
    "- `CustomerID` — id покупателя;\n",
    "- `ShopID` — id магазина;\n",
    "- `loyalty_program` — участвует ли покупатель в программе лояльности;\n",
    "\n",
    "Датасет: `product_codes.csv`. Структура:\n",
    "- `productID` — id товара;\n",
    "- `price_per_one` — стоимость одной единицы товара;\n",
    "\n",
    "### План работы\n",
    "1. Загрузка и изучение данных\n",
    "2. Предобработка данных\n",
    "   - Привести названия столбцов к единому стилю\n",
    "   - Обработка пропущенных значений\n",
    "   - Приведение к нужным типам\n",
    "   - Добавление новых значений\n",
    "   - Проверка дубликатов\n",
    "   - Вычисление средней стоимость товара\n",
    "   - Объединение датасетов\n",
    "   - Проверка аномальных значений\n",
    "3. Исследовательский анализ данных\n",
    "   - Опредление дат начала и окончания сбора данных\n",
    "   - Проверка количева магазинов и как продажи распределены по ним\n",
    "   - Подсчет количества клиентов с картой лояльности и без нее\n",
    "   - Рассчет среднего чека и как он отличается у участников ПЛ\n",
    "   - Расчет среднего количества покупок и есть ли отличия у участников ПЛ\n",
    "4. Анализ программы лояльности\n",
    "   - Рассчет LTV с разбивкой по участию в программе лояльности\n",
    "   - Рассчет Retention Rate с разбивкой по участию в программе лояльности\n",
    "5. Проверка статистических гипотез\n",
    "   - Средний чек участников программы лояльности выше, чем у остальных покупателей\n",
    "   - Среднее количество покупок у участников программы лояльности выше, чем у остальных покупателей\n",
    "6. Выводы и рекомендации\n",
    "7. Подготовка презентации"
   ]
  },
  {
   "cell_type": "markdown",
   "id": "27050d9f",
   "metadata": {},
   "source": [
    "## Загрузка и изучение данных"
   ]
  },
  {
   "cell_type": "code",
   "execution_count": 1,
   "id": "792dd3df",
   "metadata": {},
   "outputs": [],
   "source": [
    "# импорт библиотек\n",
    "import pandas as pd\n",
    "from datetime import datetime, timedelta\n",
    "from matplotlib import pyplot as plt\n",
    "import plotly.express as px\n",
    "import scipy.stats as stats"
   ]
  },
  {
   "cell_type": "code",
   "execution_count": 2,
   "id": "c2b2f4db",
   "metadata": {},
   "outputs": [],
   "source": [
    "# загружаю данные\n",
    "retail_dataset = pd.read_csv('retail_dataset.csv')\n",
    "product_codes = pd.read_csv('product_codes.csv')"
   ]
  },
  {
   "cell_type": "code",
   "execution_count": 3,
   "id": "042dc692",
   "metadata": {},
   "outputs": [
    {
     "data": {
      "text/html": [
       "<div>\n",
       "<style scoped>\n",
       "    .dataframe tbody tr th:only-of-type {\n",
       "        vertical-align: middle;\n",
       "    }\n",
       "\n",
       "    .dataframe tbody tr th {\n",
       "        vertical-align: top;\n",
       "    }\n",
       "\n",
       "    .dataframe thead th {\n",
       "        text-align: right;\n",
       "    }\n",
       "</style>\n",
       "<table border=\"1\" class=\"dataframe\">\n",
       "  <thead>\n",
       "    <tr style=\"text-align: right;\">\n",
       "      <th></th>\n",
       "      <th>purchaseid</th>\n",
       "      <th>item_ID</th>\n",
       "      <th>Quantity</th>\n",
       "      <th>purchasedate</th>\n",
       "      <th>CustomerID</th>\n",
       "      <th>ShopID</th>\n",
       "      <th>loyalty_program</th>\n",
       "    </tr>\n",
       "  </thead>\n",
       "  <tbody>\n",
       "    <tr>\n",
       "      <th>0</th>\n",
       "      <td>538280</td>\n",
       "      <td>21873</td>\n",
       "      <td>11</td>\n",
       "      <td>2016-12-10 12:50:00</td>\n",
       "      <td>18427.0</td>\n",
       "      <td>Shop 0</td>\n",
       "      <td>0.0</td>\n",
       "    </tr>\n",
       "    <tr>\n",
       "      <th>1</th>\n",
       "      <td>538862</td>\n",
       "      <td>22195</td>\n",
       "      <td>0</td>\n",
       "      <td>2016-12-14 14:11:00</td>\n",
       "      <td>22389.0</td>\n",
       "      <td>Shop 0</td>\n",
       "      <td>1.0</td>\n",
       "    </tr>\n",
       "    <tr>\n",
       "      <th>2</th>\n",
       "      <td>538855</td>\n",
       "      <td>21239</td>\n",
       "      <td>7</td>\n",
       "      <td>2016-12-14 13:50:00</td>\n",
       "      <td>22182.0</td>\n",
       "      <td>Shop 0</td>\n",
       "      <td>1.0</td>\n",
       "    </tr>\n",
       "    <tr>\n",
       "      <th>3</th>\n",
       "      <td>543543</td>\n",
       "      <td>22271</td>\n",
       "      <td>0</td>\n",
       "      <td>2017-02-09 15:33:00</td>\n",
       "      <td>23522.0</td>\n",
       "      <td>Shop 0</td>\n",
       "      <td>1.0</td>\n",
       "    </tr>\n",
       "    <tr>\n",
       "      <th>4</th>\n",
       "      <td>543812</td>\n",
       "      <td>79321</td>\n",
       "      <td>0</td>\n",
       "      <td>2017-02-13 14:40:00</td>\n",
       "      <td>23151.0</td>\n",
       "      <td>Shop 0</td>\n",
       "      <td>1.0</td>\n",
       "    </tr>\n",
       "  </tbody>\n",
       "</table>\n",
       "</div>"
      ],
      "text/plain": [
       "  purchaseid item_ID  Quantity         purchasedate  CustomerID  ShopID  \\\n",
       "0     538280   21873        11  2016-12-10 12:50:00     18427.0  Shop 0   \n",
       "1     538862   22195         0  2016-12-14 14:11:00     22389.0  Shop 0   \n",
       "2     538855   21239         7  2016-12-14 13:50:00     22182.0  Shop 0   \n",
       "3     543543   22271         0  2017-02-09 15:33:00     23522.0  Shop 0   \n",
       "4     543812   79321         0  2017-02-13 14:40:00     23151.0  Shop 0   \n",
       "\n",
       "   loyalty_program  \n",
       "0              0.0  \n",
       "1              1.0  \n",
       "2              1.0  \n",
       "3              1.0  \n",
       "4              1.0  "
      ]
     },
     "metadata": {},
     "output_type": "display_data"
    },
    {
     "name": "stdout",
     "output_type": "stream",
     "text": [
      "<class 'pandas.core.frame.DataFrame'>\n",
      "RangeIndex: 105335 entries, 0 to 105334\n",
      "Data columns (total 7 columns):\n",
      " #   Column           Non-Null Count   Dtype  \n",
      "---  ------           --------------   -----  \n",
      " 0   purchaseid       105335 non-null  object \n",
      " 1   item_ID          105335 non-null  object \n",
      " 2   Quantity         105335 non-null  int64  \n",
      " 3   purchasedate     105335 non-null  object \n",
      " 4   CustomerID       69125 non-null   float64\n",
      " 5   ShopID           105335 non-null  object \n",
      " 6   loyalty_program  105335 non-null  float64\n",
      "dtypes: float64(2), int64(1), object(4)\n",
      "memory usage: 5.6+ MB\n"
     ]
    }
   ],
   "source": [
    "# проверяю retail_dataset\n",
    "display(retail_dataset.head())\n",
    "retail_dataset.info()"
   ]
  },
  {
   "cell_type": "code",
   "execution_count": 4,
   "id": "27467459",
   "metadata": {},
   "outputs": [
    {
     "data": {
      "text/html": [
       "<div>\n",
       "<style scoped>\n",
       "    .dataframe tbody tr th:only-of-type {\n",
       "        vertical-align: middle;\n",
       "    }\n",
       "\n",
       "    .dataframe tbody tr th {\n",
       "        vertical-align: top;\n",
       "    }\n",
       "\n",
       "    .dataframe thead th {\n",
       "        text-align: right;\n",
       "    }\n",
       "</style>\n",
       "<table border=\"1\" class=\"dataframe\">\n",
       "  <thead>\n",
       "    <tr style=\"text-align: right;\">\n",
       "      <th></th>\n",
       "      <th>productID</th>\n",
       "      <th>price_per_one</th>\n",
       "    </tr>\n",
       "  </thead>\n",
       "  <tbody>\n",
       "    <tr>\n",
       "      <th>0</th>\n",
       "      <td>85123A</td>\n",
       "      <td>2.55</td>\n",
       "    </tr>\n",
       "    <tr>\n",
       "      <th>1</th>\n",
       "      <td>71053</td>\n",
       "      <td>3.39</td>\n",
       "    </tr>\n",
       "    <tr>\n",
       "      <th>2</th>\n",
       "      <td>84406B</td>\n",
       "      <td>2.75</td>\n",
       "    </tr>\n",
       "    <tr>\n",
       "      <th>3</th>\n",
       "      <td>84029G</td>\n",
       "      <td>3.39</td>\n",
       "    </tr>\n",
       "    <tr>\n",
       "      <th>4</th>\n",
       "      <td>84029E</td>\n",
       "      <td>3.39</td>\n",
       "    </tr>\n",
       "  </tbody>\n",
       "</table>\n",
       "</div>"
      ],
      "text/plain": [
       "  productID  price_per_one\n",
       "0    85123A           2.55\n",
       "1     71053           3.39\n",
       "2    84406B           2.75\n",
       "3    84029G           3.39\n",
       "4    84029E           3.39"
      ]
     },
     "metadata": {},
     "output_type": "display_data"
    },
    {
     "name": "stdout",
     "output_type": "stream",
     "text": [
      "<class 'pandas.core.frame.DataFrame'>\n",
      "RangeIndex: 9969 entries, 0 to 9968\n",
      "Data columns (total 2 columns):\n",
      " #   Column         Non-Null Count  Dtype  \n",
      "---  ------         --------------  -----  \n",
      " 0   productID      9969 non-null   object \n",
      " 1   price_per_one  9969 non-null   float64\n",
      "dtypes: float64(1), object(1)\n",
      "memory usage: 155.9+ KB\n"
     ]
    }
   ],
   "source": [
    "# проверяю product_codes\n",
    "display(product_codes.head())\n",
    "product_codes.info()"
   ]
  },
  {
   "cell_type": "markdown",
   "id": "ede56abf",
   "metadata": {},
   "source": [
    "### Обзор данных\n",
    "Для проведения исследования потребуется:\n",
    "- переименовать столбцы обоих датасетов в едином стиле;\n",
    "- обработать пропуски в `retail_dataset`;\n",
    "- изменить тип данных в столбце с датой;\n",
    "- добавить столбцы с информацией о месяце и суммой товаров в чеке;\n",
    "- проверить наличие дубликатов;\n",
    "- проверить наличие аномальных значений;\n",
    "- объединить датасеты."
   ]
  },
  {
   "cell_type": "markdown",
   "id": "fad82f9e",
   "metadata": {},
   "source": [
    "## Предобработка данных"
   ]
  },
  {
   "cell_type": "code",
   "execution_count": 5,
   "id": "a67eb2e3",
   "metadata": {},
   "outputs": [],
   "source": [
    "# привожу названия столбцов к единому стилю\n",
    "retail_dataset.columns = retail_dataset.columns.str.lower()\n",
    "retail_dataset = retail_dataset.rename(columns={'purchaseid': 'purchase_id',\n",
    "                                                'purchasedate': 'purchase_date',\n",
    "                                                'customerid': 'customer_id',\n",
    "                                                'shopid': 'shop_id'})\n",
    "product_codes.columns = ['item_id', 'price_per_one']"
   ]
  },
  {
   "cell_type": "code",
   "execution_count": 6,
   "id": "f656ef94",
   "metadata": {},
   "outputs": [],
   "source": [
    "# преобразую данные о времени\n",
    "retail_dataset['purchase_date'] = pd.to_datetime(retail_dataset['purchase_date'])"
   ]
  },
  {
   "cell_type": "code",
   "execution_count": 7,
   "id": "0bc70980",
   "metadata": {},
   "outputs": [],
   "source": [
    "# заполняю пропуски\n",
    "retail_dataset = retail_dataset.fillna(0)"
   ]
  },
  {
   "cell_type": "code",
   "execution_count": 8,
   "id": "72813026",
   "metadata": {},
   "outputs": [
    {
     "data": {
      "text/plain": [
       "1033"
      ]
     },
     "metadata": {},
     "output_type": "display_data"
    },
    {
     "data": {
      "text/plain": [
       "0"
      ]
     },
     "execution_count": 8,
     "metadata": {},
     "output_type": "execute_result"
    }
   ],
   "source": [
    "# проверяю наличие дубликатов\n",
    "display(retail_dataset.duplicated().sum())\n",
    "product_codes.duplicated().sum()"
   ]
  },
  {
   "cell_type": "code",
   "execution_count": 9,
   "id": "7482579b",
   "metadata": {},
   "outputs": [],
   "source": [
    "# вычисляю среднюю стоимость каждого товара и объединяю датасеты\n",
    "product_price = product_codes.groupby('item_id').mean().reset_index()\n",
    "product_price['price_per_one'] = product_price['price_per_one'].round(2)\n",
    "dataset = retail_dataset.merge(product_price, on='item_id', how='left')"
   ]
  },
  {
   "cell_type": "code",
   "execution_count": 10,
   "id": "4c438813",
   "metadata": {},
   "outputs": [
    {
     "data": {
      "text/plain": [
       "count    105335.000000\n",
       "mean          7.821218\n",
       "std         327.946695\n",
       "min      -74216.000000\n",
       "25%           0.000000\n",
       "50%           2.000000\n",
       "75%           7.000000\n",
       "max       74214.000000\n",
       "Name: quantity, dtype: float64"
      ]
     },
     "metadata": {},
     "output_type": "display_data"
    }
   ],
   "source": [
    "# проверяю аномалии в количестве товаров\n",
    "display(dataset['quantity'].describe())"
   ]
  },
  {
   "cell_type": "code",
   "execution_count": 11,
   "id": "c2e36bdb",
   "metadata": {},
   "outputs": [],
   "source": [
    "# проверяю крайние выбросы в количестве товаров\n",
    "dataset[dataset['quantity'] == -74216] #purchase_id C541433 2017-01-18 10:17:00 item_id 23166\n",
    "dataset[dataset['quantity'] == 74214]  #purchase_id 541431  2017-01-18 10:01:00 item_id 23166\n",
    "dataset[dataset['item_id'] == '23166'] #только 2 продажи, в один день, один покупатель\n",
    "dataset = dataset[dataset['item_id'] != '23166']"
   ]
  },
  {
   "cell_type": "code",
   "execution_count": 12,
   "id": "4ab4fdde",
   "metadata": {
    "scrolled": true
   },
   "outputs": [
    {
     "data": {
      "image/png": "[encoded data removed]"
     },
     "metadata": {},
     "output_type": "display_data"
    }
   ],
   "source": [
    "# меняю отрицательные значения в количестве товара на положительные\n",
    "dataset['quantity'] = abs(dataset['quantity'])\n",
    "dataset['quantity'].describe()\n",
    "\n",
    "# строю диаграму размаха\n",
    "fig = px.box(dataset, x='quantity', title='Размах количества товара', labels={'quantity': 'количество'})\n",
    "fig.show(renderer='png')"
   ]
  },
  {
   "cell_type": "code",
   "execution_count": 13,
   "id": "1d7050dd",
   "metadata": {},
   "outputs": [],
   "source": [
    "# удаляю строки с аномальным количеством товара\n",
    "dataset = dataset[dataset['quantity'] < 500]"
   ]
  },
  {
   "cell_type": "code",
   "execution_count": 14,
   "id": "cccc71ca",
   "metadata": {},
   "outputs": [
    {
     "data": {
      "text/plain": [
       "0.0    81443\n",
       "1.0    23805\n",
       "Name: loyalty_program, dtype: int64"
      ]
     },
     "execution_count": 14,
     "metadata": {},
     "output_type": "execute_result"
    }
   ],
   "source": [
    "# проверяю данные о программе лояльности на анамальные значения\n",
    "dataset['loyalty_program'].value_counts()"
   ]
  },
  {
   "cell_type": "code",
   "execution_count": 15,
   "id": "209f6bcc",
   "metadata": {},
   "outputs": [
    {
     "data": {
      "text/html": [
       "<div>\n",
       "<style scoped>\n",
       "    .dataframe tbody tr th:only-of-type {\n",
       "        vertical-align: middle;\n",
       "    }\n",
       "\n",
       "    .dataframe tbody tr th {\n",
       "        vertical-align: top;\n",
       "    }\n",
       "\n",
       "    .dataframe thead th {\n",
       "        text-align: right;\n",
       "    }\n",
       "</style>\n",
       "<table border=\"1\" class=\"dataframe\">\n",
       "  <thead>\n",
       "    <tr style=\"text-align: right;\">\n",
       "      <th></th>\n",
       "      <th>customer_id</th>\n",
       "      <th>loyalty_program</th>\n",
       "    </tr>\n",
       "  </thead>\n",
       "  <tbody>\n",
       "  </tbody>\n",
       "</table>\n",
       "</div>"
      ],
      "text/plain": [
       "Empty DataFrame\n",
       "Columns: [customer_id, loyalty_program]\n",
       "Index: []"
      ]
     },
     "execution_count": 15,
     "metadata": {},
     "output_type": "execute_result"
    }
   ],
   "source": [
    "# проверяю есть ли клиенты, которые не всегда пользуются свой картой лояльности\n",
    "dataset.groupby('customer_id')['loyalty_program'].nunique().reset_index().query('loyalty_program > 1')"
   ]
  },
  {
   "cell_type": "code",
   "execution_count": 16,
   "id": "8c5c6952",
   "metadata": {},
   "outputs": [
    {
     "data": {
      "text/html": [
       "<div>\n",
       "<style scoped>\n",
       "    .dataframe tbody tr th:only-of-type {\n",
       "        vertical-align: middle;\n",
       "    }\n",
       "\n",
       "    .dataframe tbody tr th {\n",
       "        vertical-align: top;\n",
       "    }\n",
       "\n",
       "    .dataframe thead th {\n",
       "        text-align: right;\n",
       "    }\n",
       "</style>\n",
       "<table border=\"1\" class=\"dataframe\">\n",
       "  <thead>\n",
       "    <tr style=\"text-align: right;\">\n",
       "      <th></th>\n",
       "      <th>purchase_id</th>\n",
       "      <th>item_id</th>\n",
       "      <th>quantity</th>\n",
       "      <th>purchase_date</th>\n",
       "      <th>customer_id</th>\n",
       "      <th>shop_id</th>\n",
       "      <th>loyalty_program</th>\n",
       "      <th>price_per_one</th>\n",
       "      <th>price</th>\n",
       "    </tr>\n",
       "  </thead>\n",
       "  <tbody>\n",
       "    <tr>\n",
       "      <th>0</th>\n",
       "      <td>538280</td>\n",
       "      <td>21873</td>\n",
       "      <td>11</td>\n",
       "      <td>2016-12-10 12:50:00</td>\n",
       "      <td>18427.0</td>\n",
       "      <td>Shop 0</td>\n",
       "      <td>0.0</td>\n",
       "      <td>1.81</td>\n",
       "      <td>19.91</td>\n",
       "    </tr>\n",
       "    <tr>\n",
       "      <th>1</th>\n",
       "      <td>538862</td>\n",
       "      <td>22195</td>\n",
       "      <td>0</td>\n",
       "      <td>2016-12-14 14:11:00</td>\n",
       "      <td>22389.0</td>\n",
       "      <td>Shop 0</td>\n",
       "      <td>1.0</td>\n",
       "      <td>2.77</td>\n",
       "      <td>0.00</td>\n",
       "    </tr>\n",
       "    <tr>\n",
       "      <th>2</th>\n",
       "      <td>538855</td>\n",
       "      <td>21239</td>\n",
       "      <td>7</td>\n",
       "      <td>2016-12-14 13:50:00</td>\n",
       "      <td>22182.0</td>\n",
       "      <td>Shop 0</td>\n",
       "      <td>1.0</td>\n",
       "      <td>1.47</td>\n",
       "      <td>10.29</td>\n",
       "    </tr>\n",
       "    <tr>\n",
       "      <th>3</th>\n",
       "      <td>543543</td>\n",
       "      <td>22271</td>\n",
       "      <td>0</td>\n",
       "      <td>2017-02-09 15:33:00</td>\n",
       "      <td>23522.0</td>\n",
       "      <td>Shop 0</td>\n",
       "      <td>1.0</td>\n",
       "      <td>4.30</td>\n",
       "      <td>0.00</td>\n",
       "    </tr>\n",
       "    <tr>\n",
       "      <th>4</th>\n",
       "      <td>543812</td>\n",
       "      <td>79321</td>\n",
       "      <td>0</td>\n",
       "      <td>2017-02-13 14:40:00</td>\n",
       "      <td>23151.0</td>\n",
       "      <td>Shop 0</td>\n",
       "      <td>1.0</td>\n",
       "      <td>7.01</td>\n",
       "      <td>0.00</td>\n",
       "    </tr>\n",
       "  </tbody>\n",
       "</table>\n",
       "</div>"
      ],
      "text/plain": [
       "  purchase_id item_id  quantity       purchase_date  customer_id shop_id  \\\n",
       "0      538280   21873        11 2016-12-10 12:50:00      18427.0  Shop 0   \n",
       "1      538862   22195         0 2016-12-14 14:11:00      22389.0  Shop 0   \n",
       "2      538855   21239         7 2016-12-14 13:50:00      22182.0  Shop 0   \n",
       "3      543543   22271         0 2017-02-09 15:33:00      23522.0  Shop 0   \n",
       "4      543812   79321         0 2017-02-13 14:40:00      23151.0  Shop 0   \n",
       "\n",
       "   loyalty_program  price_per_one  price  \n",
       "0              0.0           1.81  19.91  \n",
       "1              1.0           2.77   0.00  \n",
       "2              1.0           1.47  10.29  \n",
       "3              1.0           4.30   0.00  \n",
       "4              1.0           7.01   0.00  "
      ]
     },
     "execution_count": 16,
     "metadata": {},
     "output_type": "execute_result"
    }
   ],
   "source": [
    "# добавляю столбец с рассчетом общей стоимости каждого товара в чеке\n",
    "dataset['price'] = dataset['quantity'] * dataset['price_per_one']\n",
    "dataset.head()"
   ]
  },
  {
   "cell_type": "markdown",
   "id": "c5bc4706",
   "metadata": {},
   "source": [
    "### Итоги предобработки\n",
    "В ходе предобработки данных названия столбцов были приведены к единому стилю. Тип столбца `purchase_date` переведен во временной, пропуски в `customer_id` заполнены нулями. В датасете `retail_dataset` было обнаружено 1033 дубликата, но, учитывая особенности сбора данных, при которых в одном чеке товар может быть пробит несколько раз с разным значением количества, нельзя подтвердить, что это действительно дубликаты, поэтому на этом этапе данные остались без изменений. Выявлены отрицательные и нулевые значения в стобце `quantity`, отрицательные значения зменены положительными, природа нулевых не ясна. Так как медианное количество товаров - 2, удалены как выбросы 87 строк, где количество единиц товара превышает 500. Информация в слобцах `loyalty_program` и `price_per_one` соответствуют задачам исследования, каждый клиент либо участвует в программе лояльности, либо нет. Для дальнейшей работы датаесты объединены в один, добавлен столбец с информацией об общей стоимости товара."
   ]
  },
  {
   "cell_type": "markdown",
   "id": "5bff7068",
   "metadata": {},
   "source": [
    "## Исследовательский анализ данных"
   ]
  },
  {
   "cell_type": "code",
   "execution_count": 17,
   "id": "c9b0f91b",
   "metadata": {},
   "outputs": [
    {
     "data": {
      "text/plain": [
       "Timestamp('2016-12-01 08:26:00')"
      ]
     },
     "metadata": {},
     "output_type": "display_data"
    },
    {
     "data": {
      "text/plain": [
       "Timestamp('2017-02-28 17:04:00')"
      ]
     },
     "execution_count": 17,
     "metadata": {},
     "output_type": "execute_result"
    }
   ],
   "source": [
    "# проверяю временной интервал\n",
    "display(dataset['purchase_date'].min())\n",
    "dataset['purchase_date'].max()"
   ]
  },
  {
   "cell_type": "code",
   "execution_count": 18,
   "id": "dde7f07f",
   "metadata": {},
   "outputs": [],
   "source": [
    "#создаю таблицу с количеством продаж и количеством покупателей по магазинам\n",
    "shop_data = dataset.groupby('shop_id').agg({'purchase_id': 'nunique', 'customer_id': 'nunique'}).reset_index()"
   ]
  },
  {
   "cell_type": "code",
   "execution_count": 19,
   "id": "7b33869a",
   "metadata": {
    "scrolled": true
   },
   "outputs": [
    {
     "data": {
      "image/png": "[encoded data removed]"
     },
     "metadata": {},
     "output_type": "display_data"
    }
   ],
   "source": [
    "# визуализирую количество продаж по магазинам\n",
    "fig = px.bar(shop_data.sort_values(by='purchase_id', ascending=False),\n",
    "             x='shop_id', y='purchase_id',\n",
    "             title='Распределение количества продаж по магазинам',\n",
    "             labels={'shop_id':'магазин', 'purchase_id': 'количество'}, text='purchase_id'\n",
    ")\n",
    "fig.show(renderer='png')"
   ]
  },
  {
   "cell_type": "code",
   "execution_count": 20,
   "id": "15529814",
   "metadata": {},
   "outputs": [
    {
     "data": {
      "image/png": "[encoded data removed]"
     },
     "metadata": {},
     "output_type": "display_data"
    }
   ],
   "source": [
    "# визуализирую количество покупателей по магазинам\n",
    "fig = px.bar(shop_data.sort_values(by='customer_id', ascending=False),\n",
    "             x='shop_id', y='customer_id',\n",
    "             title='Распределение количества покупателей по магазинам',\n",
    "             labels={'shop_id':'магазин', 'customer_id': 'количество'}, text='customer_id'\n",
    ")\n",
    "fig.show(renderer='png')"
   ]
  },
  {
   "cell_type": "code",
   "execution_count": 21,
   "id": "6df0860c",
   "metadata": {},
   "outputs": [
    {
     "data": {
      "text/html": [
       "<div>\n",
       "<style scoped>\n",
       "    .dataframe tbody tr th:only-of-type {\n",
       "        vertical-align: middle;\n",
       "    }\n",
       "\n",
       "    .dataframe tbody tr th {\n",
       "        vertical-align: top;\n",
       "    }\n",
       "\n",
       "    .dataframe thead th {\n",
       "        text-align: right;\n",
       "    }\n",
       "</style>\n",
       "<table border=\"1\" class=\"dataframe\">\n",
       "  <thead>\n",
       "    <tr style=\"text-align: right;\">\n",
       "      <th></th>\n",
       "      <th>loyalty_program</th>\n",
       "      <th>purchase_id</th>\n",
       "      <th>customer_id</th>\n",
       "      <th>price</th>\n",
       "    </tr>\n",
       "  </thead>\n",
       "  <tbody>\n",
       "    <tr>\n",
       "      <th>0</th>\n",
       "      <td>0.0</td>\n",
       "      <td>3520</td>\n",
       "      <td>1156</td>\n",
       "      <td>2028927.82</td>\n",
       "    </tr>\n",
       "    <tr>\n",
       "      <th>1</th>\n",
       "      <td>1.0</td>\n",
       "      <td>1337</td>\n",
       "      <td>586</td>\n",
       "      <td>596951.61</td>\n",
       "    </tr>\n",
       "  </tbody>\n",
       "</table>\n",
       "</div>"
      ],
      "text/plain": [
       "   loyalty_program  purchase_id  customer_id       price\n",
       "0              0.0         3520         1156  2028927.82\n",
       "1              1.0         1337          586   596951.61"
      ]
     },
     "execution_count": 21,
     "metadata": {},
     "output_type": "execute_result"
    }
   ],
   "source": [
    "#создаю таблицу с количеством продаж, количеством покупателей и суммам продаж с разбивкой по участию в программе лояльности\n",
    "loyalty_data = dataset.groupby('loyalty_program').agg({'purchase_id': 'nunique',\n",
    "                                                       'customer_id': 'nunique',\n",
    "                                                       'price': 'sum'}).reset_index()\n",
    "loyalty_data"
   ]
  },
  {
   "cell_type": "code",
   "execution_count": 22,
   "id": "6023ee1f",
   "metadata": {},
   "outputs": [
    {
     "data": {
      "image/png": "[encoded data removed]"
     },
     "metadata": {},
     "output_type": "display_data"
    },
    {
     "data": {
      "image/png": "[encoded data removed]"
     },
     "metadata": {},
     "output_type": "display_data"
    },
    {
     "data": {
      "image/png": "[encoded data removed]"
     },
     "metadata": {},
     "output_type": "display_data"
    }
   ],
   "source": [
    "# визуализирую соотношение количества покупок с картой и без\n",
    "fig = px.pie(loyalty_data, values='purchase_id', names='loyalty_program', title='Соотношение количества покупок с картой и без',\n",
    "             color ='loyalty_program', color_discrete_map={0:'darkblue', 1:'royalblue'})\n",
    "fig.show(renderer='png')\n",
    "# визуализирую соотношение количества покупателей с картой и без\n",
    "fig = px.pie(loyalty_data, values='customer_id', names='loyalty_program', title='Соотношение количества покупателей с картой и без',\n",
    "             color ='loyalty_program', color_discrete_map={0:'darkblue', 1:'royalblue'})\n",
    "fig.show(renderer='png')\n",
    "# визуализирую соотношение сумм продаж с картой и без\n",
    "fig = px.pie(loyalty_data, values='price', names='loyalty_program', title='Соотношение сумм продаж с картой и без',\n",
    "             color ='loyalty_program', color_discrete_map={0:'darkblue', 1:'royalblue'})\n",
    "fig.show(renderer='png')"
   ]
  },
  {
   "cell_type": "code",
   "execution_count": 23,
   "id": "e23aa733",
   "metadata": {},
   "outputs": [
    {
     "data": {
      "text/plain": [
       "count     4857.000000\n",
       "mean       540.638137\n",
       "std       1577.383700\n",
       "min          0.000000\n",
       "25%         63.050000\n",
       "50%        225.500000\n",
       "75%        511.560000\n",
       "max      51007.770000\n",
       "Name: price, dtype: float64"
      ]
     },
     "metadata": {},
     "output_type": "display_data"
    },
    {
     "data": {
      "text/plain": [
       "<AxesSubplot:>"
      ]
     },
     "metadata": {},
     "output_type": "display_data"
    },
    {
     "data": {
      "image/png": "[encoded data removed]",
      "text/plain": [
       "<Figure size 432x288 with 1 Axes>"
      ]
     },
     "metadata": {
      "needs_background": "light"
     },
     "output_type": "display_data"
    }
   ],
   "source": [
    "# строю распределение сумм чеков\n",
    "purchase_price = dataset.groupby('purchase_id').agg({'loyalty_program': 'mean', 'price': 'sum'})\n",
    "display(purchase_price['price'].describe())\n",
    "display(purchase_price['price'].hist(bins=20))"
   ]
  },
  {
   "cell_type": "markdown",
   "id": "7f6ce7b0",
   "metadata": {},
   "source": [
    "Распределение сумм чеков не нормальное, размах показывает значительные выбросы, поэтому для оценки среднего чека лучше использовать медианные значения."
   ]
  },
  {
   "cell_type": "code",
   "execution_count": 24,
   "id": "4406f3ec",
   "metadata": {},
   "outputs": [
    {
     "data": {
      "text/plain": [
       "'Общий средний чек 226'"
      ]
     },
     "metadata": {},
     "output_type": "display_data"
    },
    {
     "data": {
      "text/plain": [
       "'Средний чек клиентов без карты лояльности 223'"
      ]
     },
     "metadata": {},
     "output_type": "display_data"
    },
    {
     "data": {
      "text/plain": [
       "'Средний чек участников программы лояльности 237'"
      ]
     },
     "metadata": {},
     "output_type": "display_data"
    }
   ],
   "source": [
    "# считаю средний чек и как он отличается у участников ПЛ\n",
    "display(f\"Общий средний чек {purchase_price['price'].median():.0f}\")\n",
    "display(f\"Средний чек клиентов без карты лояльности {purchase_price.query('loyalty_program == 0')['price'].median():.0f}\")\n",
    "display(f\"Средний чек участников программы лояльности {purchase_price.query('loyalty_program == 1')['price'].median():.0f}\")"
   ]
  },
  {
   "cell_type": "code",
   "execution_count": 25,
   "id": "538ceb29",
   "metadata": {},
   "outputs": [
    {
     "data": {
      "text/plain": [
       "count    1741.000000\n",
       "mean        2.367605\n",
       "std         2.974676\n",
       "min         1.000000\n",
       "25%         1.000000\n",
       "50%         1.000000\n",
       "75%         3.000000\n",
       "max        46.000000\n",
       "Name: purchase_id, dtype: float64"
      ]
     },
     "metadata": {},
     "output_type": "display_data"
    },
    {
     "data": {
      "text/plain": [
       "<AxesSubplot:>"
      ]
     },
     "metadata": {},
     "output_type": "display_data"
    },
    {
     "data": {
      "image/png": "[encoded data removed]",
      "text/plain": [
       "<Figure size 432x288 with 1 Axes>"
      ]
     },
     "metadata": {
      "needs_background": "light"
     },
     "output_type": "display_data"
    }
   ],
   "source": [
    "# строю распределение количества покупок на покупателя\n",
    "purchase_by_customer = dataset.query('customer_id != 0').groupby('customer_id').agg({\n",
    "    'loyalty_program': 'mean', 'purchase_id': 'nunique'})\n",
    "display(purchase_by_customer['purchase_id'].describe())\n",
    "display(purchase_by_customer['purchase_id'].hist(bins=20))"
   ]
  },
  {
   "cell_type": "markdown",
   "id": "bbf23531",
   "metadata": {},
   "source": [
    "Количество покупок на покупателя тоже распределено не нормально, 75% не больше 3 штук, поэтому в качестве среднего количества покупок используем медиану."
   ]
  },
  {
   "cell_type": "code",
   "execution_count": 26,
   "id": "61335dff",
   "metadata": {},
   "outputs": [
    {
     "data": {
      "text/plain": [
       "'Среднее количество покупок 1.0'"
      ]
     },
     "metadata": {},
     "output_type": "display_data"
    },
    {
     "data": {
      "text/plain": [
       "'Среднее количество покупок клиентов без карты лояльности 1.0'"
      ]
     },
     "metadata": {},
     "output_type": "display_data"
    },
    {
     "data": {
      "text/plain": [
       "'Среднее количество покупок участников программы лояльности 1.0'"
      ]
     },
     "metadata": {},
     "output_type": "display_data"
    }
   ],
   "source": [
    "# считаю среднее количество покупок\n",
    "display(f\"Среднее количество покупок {purchase_by_customer['purchase_id'].median()}\")\n",
    "display(f\"Среднее количество покупок клиентов без карты лояльности {purchase_by_customer.query('loyalty_program == 0')['purchase_id'].median()}\")\n",
    "display(f\"Среднее количество покупок участников программы лояльности {purchase_by_customer.query('loyalty_program == 1')['purchase_id'].median()}\")"
   ]
  },
  {
   "cell_type": "markdown",
   "id": "98bbad3d",
   "metadata": {},
   "source": [
    "### Итоги исследовательского анализа\n",
    "Для исследования доступны данные с 1 декабря 2016 по 28 февраля 2017 от 30 магазинов сети. \n",
    "\n",
    "Продажи по магазинам распределены крайне неравномерно, в основном они сосредоточены в `Shop 0`, в этом магазине оформлено 4435 продаж, в следующих за ним `Shop 4` и `Shop 1` только 114 и 90 соответственно, продажи остальных магазинов единичные. Та же ситуация наблюдается и с покупателями, почти все делают покупки также в `Shop 0` - 1566 клиентов, `Shop 4` и `Shop 1` - 43 и 38 человек соответственно, в большинстве магазинов количество клиентов менее 10. По текущей картине можно сделать вывод, что вся сеть работает неэффективно относительно `Shop 0` либо данные собираются некачественно. В связи с этим необходима дополнительная проверка настроек сбора данных на корректность передачи `shop_id`. \n",
    "\n",
    "Программой лояльности пользуются 33.6% клиентов (586 человек), при этом их доля в количестве покупок только 27.5%, еще меньше доля от общей суммы продаж - 22.7%, таким образом две трети клиентов без карты лояльности приносят почти 80% выручки.\n",
    "\n",
    "Средний чек у клиентов с картой и без немного отличается в пользу участников программы, 223р против 237р. А в среднем количестве покупок отличий нет, обычно клиенты покупают только один раз. Похоже, что бонусы от участия в программе лояльности мотивируют покупателей потратить больше при первой продаже, но не вернуться в магазин."
   ]
  },
  {
   "cell_type": "markdown",
   "id": "b09a195a",
   "metadata": {},
   "source": [
    "## Анализ программы лояльности"
   ]
  },
  {
   "cell_type": "markdown",
   "id": "a3b368c1",
   "metadata": {},
   "source": [
    "### Функции для рассчета и визуализации ltv и удержания"
   ]
  },
  {
   "cell_type": "code",
   "execution_count": 27,
   "id": "f8d29345",
   "metadata": {},
   "outputs": [],
   "source": [
    "# функция для расчёта удержания\n",
    "\n",
    "def get_retention(\n",
    "    profiles,\n",
    "    sessions,\n",
    "    observation_date,\n",
    "    horizon_days,\n",
    "    dimensions=[],\n",
    "    ignore_horizon=False,\n",
    "):\n",
    "\n",
    "    # исключаем пользователей, не «доживших» до горизонта анализа\n",
    "    last_suitable_acquisition_date = observation_date\n",
    "    if not ignore_horizon:\n",
    "        last_suitable_acquisition_date = observation_date - timedelta(\n",
    "            days=horizon_days - 1\n",
    "        )\n",
    "    result_raw = profiles.query('date <= @last_suitable_acquisition_date')\n",
    "\n",
    "    # собираем «сырые» данные для расчёта удержания\n",
    "    result_raw = result_raw.merge(\n",
    "        sessions[['customer_id', 'purchase_date']], on='customer_id', how='left'\n",
    "    )\n",
    "    result_raw['lifetime'] = (\n",
    "        result_raw['purchase_date'] - result_raw['first_purchase_date']\n",
    "    ).dt.days\n",
    "\n",
    "    # функция для группировки таблицы по желаемым признакам\n",
    "    def group_by_dimensions(df, dims, horizon_days):\n",
    "        result = df.pivot_table(\n",
    "            index=dims, columns='lifetime', values='customer_id', aggfunc='nunique'\n",
    "        )\n",
    "        cohort_sizes = (\n",
    "            df.groupby(dims)\n",
    "            .agg({'customer_id': 'nunique'})\n",
    "            .rename(columns={'customer_id': 'cohort_size'})\n",
    "        )\n",
    "        result = cohort_sizes.merge(result, on=dims, how='left').fillna(0)\n",
    "        result = result.div(result['cohort_size'], axis=0)\n",
    "        result = result[['cohort_size'] + list(range(horizon_days))]\n",
    "        result['cohort_size'] = cohort_sizes\n",
    "        return result\n",
    "\n",
    "    # получаем таблицу удержания\n",
    "    result_grouped = group_by_dimensions(result_raw, dimensions, horizon_days)\n",
    "\n",
    "    # получаем таблицу динамики удержания\n",
    "    result_in_time = group_by_dimensions(\n",
    "        result_raw, dimensions + ['date'], horizon_days\n",
    "    )\n",
    "\n",
    "    # возвращаем обе таблицы и сырые данные\n",
    "    return result_raw, result_grouped, result_in_time"
   ]
  },
  {
   "cell_type": "code",
   "execution_count": 28,
   "id": "ab1dbc89",
   "metadata": {},
   "outputs": [],
   "source": [
    "# функция для расчёта LTV\n",
    "\n",
    "def get_ltv(\n",
    "    profiles,\n",
    "    purchases,\n",
    "    observation_date,\n",
    "    horizon_days,\n",
    "    dimensions=[],\n",
    "    ignore_horizon=False,\n",
    "):\n",
    "\n",
    "    # исключаем пользователей, не «доживших» до горизонта анализа\n",
    "    last_suitable_acquisition_date = observation_date\n",
    "    if not ignore_horizon:\n",
    "        last_suitable_acquisition_date = observation_date - timedelta(\n",
    "            days=horizon_days - 1\n",
    "        )\n",
    "    result_raw = profiles.query('date <= @last_suitable_acquisition_date')\n",
    "    # добавляем данные о покупках в профили\n",
    "    result_raw = result_raw.merge(\n",
    "        purchases[['customer_id', 'purchase_date', 'total_price']], on='customer_id', how='left'\n",
    "    )\n",
    "    # рассчитываем лайфтайм пользователя для каждой покупки\n",
    "    result_raw['lifetime'] = (\n",
    "        result_raw['purchase_date'] - result_raw['first_purchase_date']\n",
    "    ).dt.days\n",
    "    \n",
    "    # функция для учета прибыли от покупки карт лояльности\n",
    "    def card_revenue(df):\n",
    "        loyalty_program = df['loyalty_program']\n",
    "        lifetime = df['lifetime']\n",
    "        total_price = df['total_price']\n",
    "        if loyalty_program == 0:\n",
    "            total_price += 0\n",
    "            return total_price\n",
    "        elif loyalty_program == 1 and lifetime > 0:\n",
    "            total_price += 0\n",
    "            return total_price\n",
    "        else:\n",
    "            total_price += 200\n",
    "            return total_price\n",
    "        return total_price\n",
    "    result_raw['total_price'] = result_raw.apply(card_revenue, axis=1)\n",
    "\n",
    "    # функция группировки по желаемым признакам\n",
    "    def group_by_dimensions(df, dims, horizon_days):\n",
    "        # строим «треугольную» таблицу выручки\n",
    "        result = df.pivot_table(\n",
    "            index=dims, columns='lifetime', values='total_price', aggfunc='sum'\n",
    "        )\n",
    "        # находим сумму выручки с накоплением\n",
    "        result = result.fillna(0).cumsum(axis=1)\n",
    "        # вычисляем размеры когорт\n",
    "        cohort_sizes = (\n",
    "            df.groupby(dims)\n",
    "            .agg({'customer_id': 'nunique'})\n",
    "            .rename(columns={'customer_id': 'cohort_size'})\n",
    "        )\n",
    "        # объединяем размеры когорт и таблицу выручки\n",
    "        result = cohort_sizes.merge(result, on=dims, how='left').fillna(0)\n",
    "        # считаем LTV: делим каждую «ячейку» в строке на размер когорты\n",
    "        result = result.div(result['cohort_size'], axis=0)\n",
    "        # исключаем все лайфтаймы, превышающие горизонт анализа\n",
    "        result = result[['cohort_size'] + list(range(horizon_days))]\n",
    "        # восстанавливаем размеры когорт\n",
    "        result['cohort_size'] = cohort_sizes\n",
    "\n",
    "        # возвращаем таблицу LTV\n",
    "        return result\n",
    "\n",
    "    # получаем таблицу LTV\n",
    "    result_grouped = group_by_dimensions(\n",
    "        result_raw, dimensions, horizon_days\n",
    "    )\n",
    "\n",
    "    # для таблиц динамики убираем 'cohort' из dimensions\n",
    "    if 'cohort' in dimensions:\n",
    "        dimensions = []\n",
    "\n",
    "    # получаем таблицы динамики LTV\n",
    "    result_in_time = group_by_dimensions(\n",
    "        result_raw, dimensions + ['date'], horizon_days\n",
    "    )\n",
    "\n",
    "    return (\n",
    "        result_raw,  # сырые данные\n",
    "        result_grouped,  # таблица LTV\n",
    "        result_in_time,  # таблица динамики LTV\n",
    "    )"
   ]
  },
  {
   "cell_type": "code",
   "execution_count": 29,
   "id": "994dd397",
   "metadata": {},
   "outputs": [],
   "source": [
    "# функция для визуализации удержания\n",
    "\n",
    "def plot_retention(retention, retention_history, horizon):\n",
    "\n",
    "    # задаём размер сетки для графиков\n",
    "    plt.figure(figsize=(15, 10))\n",
    "\n",
    "    # исключаем размеры когорт и удержание первого дня\n",
    "    retention = retention.drop(columns=['cohort_size', 0])\n",
    "    # в таблице динамики оставляем только нужный лайфтайм\n",
    "    retention_history = retention_history.drop(columns=['cohort_size'])[\n",
    "        [horizon - 1]\n",
    "    ]\n",
    "\n",
    "    # строим кривые удержания пользователей\n",
    "    ax1 = plt.subplot(2, 1, 1)\n",
    "    retention.T.plot(\n",
    "        grid=True, ax=ax1\n",
    "    )\n",
    "    plt.legend()\n",
    "    plt.xlabel('Лайфтайм')\n",
    "    plt.title('Удержание пользователей')\n",
    "\n",
    "    # строим динамику удержания\n",
    "    ax2 = plt.subplot(2, 1, 2)\n",
    "    # получаем названия столбцов для сводной таблицы\n",
    "    columns = [\n",
    "        name\n",
    "        for name in retention_history.index.names\n",
    "        if name not in ['date'] \n",
    "    ]\n",
    "    # фильтруем данные, строим сводную таблицу и график по ней\n",
    "    retention_history.pivot_table(\n",
    "        index='date', columns=columns, values=horizon-1, aggfunc='mean'\n",
    "    ).plot(grid=True, ax=ax2)\n",
    "    plt.xlabel('Дата привлечения')\n",
    "    plt.title(\n",
    "        'Динамика удержания пользователей на {}-й день'.format(\n",
    "            horizon\n",
    "        )\n",
    "    )\n",
    "    \n",
    "    plt.tight_layout()\n",
    "    plt.show()"
   ]
  },
  {
   "cell_type": "code",
   "execution_count": 30,
   "id": "ee6f433d",
   "metadata": {},
   "outputs": [
    {
     "data": {
      "text/html": [
       "<div>\n",
       "<style scoped>\n",
       "    .dataframe tbody tr th:only-of-type {\n",
       "        vertical-align: middle;\n",
       "    }\n",
       "\n",
       "    .dataframe tbody tr th {\n",
       "        vertical-align: top;\n",
       "    }\n",
       "\n",
       "    .dataframe thead th {\n",
       "        text-align: right;\n",
       "    }\n",
       "</style>\n",
       "<table border=\"1\" class=\"dataframe\">\n",
       "  <thead>\n",
       "    <tr style=\"text-align: right;\">\n",
       "      <th></th>\n",
       "      <th>customer_id</th>\n",
       "      <th>first_purchase_date</th>\n",
       "      <th>loyalty_program</th>\n",
       "      <th>date</th>\n",
       "      <th>month</th>\n",
       "    </tr>\n",
       "  </thead>\n",
       "  <tbody>\n",
       "    <tr>\n",
       "      <th>166</th>\n",
       "      <td>18520.0</td>\n",
       "      <td>2016-12-03 10:43:00</td>\n",
       "      <td>0.0</td>\n",
       "      <td>2016-12-03</td>\n",
       "      <td>2016-12-01</td>\n",
       "    </tr>\n",
       "    <tr>\n",
       "      <th>723</th>\n",
       "      <td>20414.0</td>\n",
       "      <td>2016-12-16 16:05:00</td>\n",
       "      <td>0.0</td>\n",
       "      <td>2016-12-16</td>\n",
       "      <td>2016-12-01</td>\n",
       "    </tr>\n",
       "    <tr>\n",
       "      <th>1262</th>\n",
       "      <td>22393.0</td>\n",
       "      <td>2017-01-26 13:40:00</td>\n",
       "      <td>1.0</td>\n",
       "      <td>2017-01-26</td>\n",
       "      <td>2017-01-01</td>\n",
       "    </tr>\n",
       "    <tr>\n",
       "      <th>972</th>\n",
       "      <td>21328.0</td>\n",
       "      <td>2016-12-07 10:06:00</td>\n",
       "      <td>0.0</td>\n",
       "      <td>2016-12-07</td>\n",
       "      <td>2016-12-01</td>\n",
       "    </tr>\n",
       "    <tr>\n",
       "      <th>1327</th>\n",
       "      <td>22598.0</td>\n",
       "      <td>2016-12-06 12:52:00</td>\n",
       "      <td>1.0</td>\n",
       "      <td>2016-12-06</td>\n",
       "      <td>2016-12-01</td>\n",
       "    </tr>\n",
       "  </tbody>\n",
       "</table>\n",
       "</div>"
      ],
      "text/plain": [
       "      customer_id first_purchase_date  loyalty_program        date      month\n",
       "166       18520.0 2016-12-03 10:43:00              0.0  2016-12-03 2016-12-01\n",
       "723       20414.0 2016-12-16 16:05:00              0.0  2016-12-16 2016-12-01\n",
       "1262      22393.0 2017-01-26 13:40:00              1.0  2017-01-26 2017-01-01\n",
       "972       21328.0 2016-12-07 10:06:00              0.0  2016-12-07 2016-12-01\n",
       "1327      22598.0 2016-12-06 12:52:00              1.0  2016-12-06 2016-12-01"
      ]
     },
     "execution_count": 30,
     "metadata": {},
     "output_type": "execute_result"
    }
   ],
   "source": [
    "# создаю профили покупателей с отдельно выделенными днем и месяцем, когда произошла первая покупка\n",
    "profiles = (\n",
    "    dataset.sort_values(by=['customer_id', 'purchase_date'])\n",
    "    .groupby('customer_id').agg({'purchase_date': 'first', 'loyalty_program': 'first'})\n",
    "    .rename(columns={'purchase_date': 'first_purchase_date'})\n",
    "    .reset_index()\n",
    ")\n",
    "#profiles\n",
    "profiles['date'] = profiles['first_purchase_date'].dt.date\n",
    "profiles['month'] = profiles['first_purchase_date'].astype('datetime64[M]')\n",
    "profiles.sample(5)"
   ]
  },
  {
   "cell_type": "code",
   "execution_count": 31,
   "id": "5ebf64af",
   "metadata": {},
   "outputs": [
    {
     "data": {
      "text/html": [
       "<div>\n",
       "<style scoped>\n",
       "    .dataframe tbody tr th:only-of-type {\n",
       "        vertical-align: middle;\n",
       "    }\n",
       "\n",
       "    .dataframe tbody tr th {\n",
       "        vertical-align: top;\n",
       "    }\n",
       "\n",
       "    .dataframe thead th {\n",
       "        text-align: right;\n",
       "    }\n",
       "</style>\n",
       "<table border=\"1\" class=\"dataframe\">\n",
       "  <thead>\n",
       "    <tr style=\"text-align: right;\">\n",
       "      <th></th>\n",
       "      <th>purchase_id</th>\n",
       "      <th>item_variety</th>\n",
       "      <th>quantity</th>\n",
       "      <th>total_price</th>\n",
       "      <th>purchase_date</th>\n",
       "      <th>customer_id</th>\n",
       "      <th>shop_id</th>\n",
       "      <th>loyalty_program</th>\n",
       "    </tr>\n",
       "  </thead>\n",
       "  <tbody>\n",
       "    <tr>\n",
       "      <th>1209</th>\n",
       "      <td>538860</td>\n",
       "      <td>12</td>\n",
       "      <td>40</td>\n",
       "      <td>100.94</td>\n",
       "      <td>2016-12-14 14:02:00</td>\n",
       "      <td>23436.0</td>\n",
       "      <td>Shop 0</td>\n",
       "      <td>1.0</td>\n",
       "    </tr>\n",
       "    <tr>\n",
       "      <th>1390</th>\n",
       "      <td>539268</td>\n",
       "      <td>2</td>\n",
       "      <td>4</td>\n",
       "      <td>31.00</td>\n",
       "      <td>2016-12-16 15:24:00</td>\n",
       "      <td>19213.0</td>\n",
       "      <td>Shop 0</td>\n",
       "      <td>0.0</td>\n",
       "    </tr>\n",
       "    <tr>\n",
       "      <th>2723</th>\n",
       "      <td>542430</td>\n",
       "      <td>8</td>\n",
       "      <td>66</td>\n",
       "      <td>393.30</td>\n",
       "      <td>2017-01-28 10:10:00</td>\n",
       "      <td>19231.0</td>\n",
       "      <td>Shop 0</td>\n",
       "      <td>0.0</td>\n",
       "    </tr>\n",
       "    <tr>\n",
       "      <th>2956</th>\n",
       "      <td>542906</td>\n",
       "      <td>179</td>\n",
       "      <td>353</td>\n",
       "      <td>663.95</td>\n",
       "      <td>2017-02-01 15:12:00</td>\n",
       "      <td>0.0</td>\n",
       "      <td>Shop 0</td>\n",
       "      <td>0.0</td>\n",
       "    </tr>\n",
       "    <tr>\n",
       "      <th>4806</th>\n",
       "      <td>C544442</td>\n",
       "      <td>1</td>\n",
       "      <td>4</td>\n",
       "      <td>57.92</td>\n",
       "      <td>2017-02-20 10:30:00</td>\n",
       "      <td>21144.0</td>\n",
       "      <td>Shop 0</td>\n",
       "      <td>0.0</td>\n",
       "    </tr>\n",
       "  </tbody>\n",
       "</table>\n",
       "</div>"
      ],
      "text/plain": [
       "     purchase_id  item_variety  quantity  total_price       purchase_date  \\\n",
       "1209      538860            12        40       100.94 2016-12-14 14:02:00   \n",
       "1390      539268             2         4        31.00 2016-12-16 15:24:00   \n",
       "2723      542430             8        66       393.30 2017-01-28 10:10:00   \n",
       "2956      542906           179       353       663.95 2017-02-01 15:12:00   \n",
       "4806     C544442             1         4        57.92 2017-02-20 10:30:00   \n",
       "\n",
       "      customer_id shop_id  loyalty_program  \n",
       "1209      23436.0  Shop 0              1.0  \n",
       "1390      19213.0  Shop 0              0.0  \n",
       "2723      19231.0  Shop 0              0.0  \n",
       "2956          0.0  Shop 0              0.0  \n",
       "4806      21144.0  Shop 0              0.0  "
      ]
     },
     "execution_count": 31,
     "metadata": {},
     "output_type": "execute_result"
    }
   ],
   "source": [
    "# создаю таблицу с информацией об отдельных покупках\n",
    "purchase = (dataset.groupby('purchase_id')\n",
    "            .agg({'item_id': 'nunique', 'quantity': 'sum', 'price': 'sum',\n",
    "                  'purchase_date': 'first', 'customer_id': 'first', 'shop_id': 'first', 'loyalty_program': 'first'})\n",
    "            .rename(columns={'item_id': 'item_variety', 'price': 'total_price'})\n",
    "            .reset_index()\n",
    ")\n",
    "purchase.sample(5)"
   ]
  },
  {
   "cell_type": "code",
   "execution_count": 32,
   "id": "cd18b256",
   "metadata": {},
   "outputs": [],
   "source": [
    "# задаю дополнительные параметры для расчетов\n",
    "observation_date = dataset['purchase_date'].max().date()  # момент анализа \n",
    "horizon_days = 30  # горизонт анализа\n",
    "dimensions = ['loyalty_program']"
   ]
  },
  {
   "cell_type": "code",
   "execution_count": 33,
   "id": "5f96485f",
   "metadata": {},
   "outputs": [
    {
     "data": {
      "image/png": "[encoded data removed]",
      "text/plain": [
       "<Figure size 1080x720 with 2 Axes>"
      ]
     },
     "metadata": {
      "needs_background": "light"
     },
     "output_type": "display_data"
    }
   ],
   "source": [
    "# считаю и визуализирую удержание\n",
    "retention_raw, retention_grouped, retention_history = get_retention(\n",
    "    profiles, purchase, observation_date, horizon_days, dimensions=dimensions)\n",
    "plot_retention(retention_grouped, retention_history, horizon_days)"
   ]
  },
  {
   "cell_type": "code",
   "execution_count": 34,
   "id": "6c7b1825",
   "metadata": {},
   "outputs": [],
   "source": [
    "# считаю и визуализирую ltv\n",
    "ltv_raw, ltv_grouped, ltv_history = get_ltv(\n",
    "    profiles[profiles['customer_id'] != 0], purchase, observation_date, horizon_days, dimensions=dimensions)"
   ]
  },
  {
   "cell_type": "code",
   "execution_count": 35,
   "id": "56f6cd75",
   "metadata": {},
   "outputs": [
    {
     "data": {
      "image/png": "[encoded data removed]",
      "text/plain": [
       "<Figure size 1440x360 with 1 Axes>"
      ]
     },
     "metadata": {
      "needs_background": "light"
     },
     "output_type": "display_data"
    }
   ],
   "source": [
    "# визуализация ltv\n",
    "ltv_grouped = ltv_grouped.drop(columns=['cohort_size'])\n",
    "ltv_grouped.T.plot(grid=True, figsize=[20, 5]) \n",
    "plt.legend()\n",
    "plt.xlabel('Лайфтайм')\n",
    "plt.title('LTV')\n",
    "plt.show()"
   ]
  },
  {
   "cell_type": "code",
   "execution_count": 36,
   "id": "f52b55c6",
   "metadata": {},
   "outputs": [
    {
     "data": {
      "image/png": "[encoded data removed]",
      "text/plain": [
       "<Figure size 1440x360 with 1 Axes>"
      ]
     },
     "metadata": {
      "needs_background": "light"
     },
     "output_type": "display_data"
    }
   ],
   "source": [
    "# визуализация динамики ltv\n",
    "ltv_history = ltv_history.drop(columns=['cohort_size'])[[horizon_days - 1]]\n",
    "columns = [name for name in ltv_history.index.names if name not in ['date']]\n",
    "ltv_history.pivot_table(index='date', columns=columns, values=horizon_days - 1, aggfunc='mean').plot(grid=True, figsize=[20, 5]) \n",
    "plt.xlabel('Дата привлечения')\n",
    "plt.title('Динамика LTV пользователей на {}-й день'.format(horizon_days))\n",
    "plt.show()"
   ]
  },
  {
   "cell_type": "markdown",
   "id": "d2ae58b8",
   "metadata": {},
   "source": [
    "### Выводы из анализа программы лояльности\n",
    "Удержание пользователей происходит очень слабо вне зависимости от участия в программе лояльности, на пике значений показатель не дает даже 5%. Можно предположить, что клиенты возвращаются скорее случайно и текущие условия программы лояльности не справляются с задачей возвращать клиентов в магазины сети.\n",
    "\n",
    "Показатель ltv клиентов без карты лояльности на старте ниже, чем у клиентов, участвующих в программе, но к 30-му дню показатель почти равняются с небольшим преимуществом в пользу участнико программы лояльности, таким образом можем сделать вывод, что продажа карт лояльности окупает расходы на предоставление бонусов по ней.  "
   ]
  },
  {
   "cell_type": "markdown",
   "id": "a89ef2a0",
   "metadata": {},
   "source": [
    "## Проверка статистических гипотез"
   ]
  },
  {
   "cell_type": "code",
   "execution_count": 37,
   "id": "74325221",
   "metadata": {},
   "outputs": [],
   "source": [
    "# задаю уровень статистической значимости\n",
    "alpha = .05\n",
    "\n",
    "# разделяю датасет на отдельные группы\n",
    "purchase_loyalty_0 = purchase[purchase['loyalty_program'] == 0]\n",
    "purchase_loyalty_1 = purchase[purchase['loyalty_program'] == 1]"
   ]
  },
  {
   "cell_type": "markdown",
   "id": "746b49dd",
   "metadata": {},
   "source": [
    "*Гипотезы:*\n",
    "\n",
    "* H0: Средний чек участников программы лояльности выше, чем у остальных покупателей.\n",
    "* H1: Средний чек участников программы лояльности не отличается от остальных покупателей."
   ]
  },
  {
   "cell_type": "code",
   "execution_count": 38,
   "id": "a1e723e7",
   "metadata": {},
   "outputs": [
    {
     "data": {
      "text/plain": [
       "'p-значение:'"
      ]
     },
     "metadata": {},
     "output_type": "display_data"
    },
    {
     "data": {
      "text/plain": [
       "0.0007396658200112084"
      ]
     },
     "metadata": {},
     "output_type": "display_data"
    },
    {
     "data": {
      "text/plain": [
       "'Отвергаем нулевую гипотезу'"
      ]
     },
     "metadata": {},
     "output_type": "display_data"
    }
   ],
   "source": [
    "# считаю статистическую значимость\n",
    "results = stats.ttest_ind(purchase_loyalty_0['total_price'], purchase_loyalty_1['total_price'], equal_var=False)\n",
    "display('p-значение:', results.pvalue)\n",
    "if results.pvalue < alpha:\n",
    "    display(\"Отвергаем нулевую гипотезу\")\n",
    "else:\n",
    "    display(\"Не получилось отвергнуть нулевую гипотезу\")"
   ]
  },
  {
   "cell_type": "markdown",
   "id": "722f5489",
   "metadata": {},
   "source": [
    "*Гипотезы:*\n",
    "\n",
    "* H0: Среднее количество покупок у участников программы лояльности не отличается от остальных покупателей.\n",
    "* H1: Среднее количество покупок у участников программы лояльности отличается от остальных покупателей"
   ]
  },
  {
   "cell_type": "code",
   "execution_count": 39,
   "id": "cc0d272f",
   "metadata": {},
   "outputs": [
    {
     "data": {
      "text/plain": [
       "'p-значение:'"
      ]
     },
     "metadata": {},
     "output_type": "display_data"
    },
    {
     "data": {
      "text/plain": [
       "0.23969114841801134"
      ]
     },
     "metadata": {},
     "output_type": "display_data"
    },
    {
     "data": {
      "text/plain": [
       "'Не получилось отвергнуть нулевую гипотезу'"
      ]
     },
     "metadata": {},
     "output_type": "display_data"
    }
   ],
   "source": [
    "# считаю статистическую значимость\n",
    "results = stats.ttest_ind(purchase_loyalty_0.groupby('customer_id')['purchase_id'].count(),\n",
    "                          purchase_loyalty_1.groupby('customer_id')['purchase_id'].count(), equal_var=False)\n",
    "display('p-значение:', results.pvalue)\n",
    "if results.pvalue < alpha:\n",
    "    display(\"Отвергаем нулевую гипотезу\")\n",
    "else:\n",
    "    display(\"Не получилось отвергнуть нулевую гипотезу\")"
   ]
  },
  {
   "cell_type": "markdown",
   "id": "d194329e",
   "metadata": {},
   "source": [
    "### Итоги проверки статистических гипотез\n",
    "Средний чек участников программы лояльности не отличается от остальных покупателей, из-за статистически значимых различий мы не можем принять гипотезу, что он выше, чем у покупателей без программы лояльности.\n",
    "\n",
    "Статистически значимых различий в среднем количестве покупок между клиентами с картой и без нее нет, есть вероятность в 24%, что различия в количестве покупок можно получить случайно.\n"
   ]
  },
  {
   "cell_type": "markdown",
   "id": "49141fe5",
   "metadata": {},
   "source": [
    "## Выводы и рекомендации"
   ]
  },
  {
   "cell_type": "markdown",
   "id": "2bed7211",
   "metadata": {},
   "source": [
    "При проведении исследования данные были предварительно обработаны, а именно: проработаны аномальные значения в столбце `quantity`, изменен тип данных в столбце `purchase_date`, заполнены пропуски в `customer_id`, датасеты объединены, добавлен рассчет общей стоимости товара.\n",
    "\n",
    "В период с  1 декабря 2016 по 28 февраля 2017 30 магазинов сети выполнили 4857 продаж, причем 4435 продаж были выполнены одним магазином `Shop 0`, в большинстве остальных продажи единичные. Основной поток клиентов также сосредоточен в этом магазине, когда клиенты в других единичные. По данной ситуации рекомендуется дополнительное исследование эффективности работы торговых точек после проверки сбора данных.\n",
    "\n",
    "Треть клиентов (33.6%) приобрели карту лояльности, на их долю приходится 27.5% от количества продаж или 22.7% от общей суммы выручки, и, если небольшую долю от выручки можно объяснить предоставленными скидками, то доля в количестве заказов говорит о том, что покупка карты не гарантирует, что клиент вернется повторно.\n",
    "\n",
    "Средний чек участников программы лояльности не отличается от остальных покупателей. Также как и нет статистически значимых различий в среднем количестве покупок между клиентами с картой или без нее. Обычно клиенты обходятся разовой покупкой, а удержание пользователей практически не осуществляется. \n",
    "\n",
    "Важно отметить, что ltv клиентов с картой лояльности выше, чем у клиентов без карт, а значит программа не генерит убытки.\n",
    "\n",
    "В связи с этим рекомендуется пересмотреть условия программы лояльности и доработать их таким образом, чтобы они могли  мотивировать клиентов возвращаться повторно."
   ]
  },
  {
   "cell_type": "code",
   "execution_count": null,
   "id": "9abba845",
   "metadata": {},
   "outputs": [],
   "source": []
  }
 ],
 "metadata": {
  "ExecuteTimeLog": [
   {
    "duration": 1251,
    "start_time": "2023-05-05T18:02:04.459Z"
   },
   {
    "duration": 172,
    "start_time": "2023-05-05T18:02:05.712Z"
   },
   {
    "duration": 3,
    "start_time": "2023-05-05T18:02:05.886Z"
   },
   {
    "duration": 27,
    "start_time": "2023-05-05T18:02:05.891Z"
   },
   {
    "duration": 13,
    "start_time": "2023-05-05T18:02:05.920Z"
   },
   {
    "duration": 130,
    "start_time": "2023-05-05T18:02:05.935Z"
   },
   {
    "duration": 32,
    "start_time": "2023-05-05T18:02:06.067Z"
   },
   {
    "duration": 10,
    "start_time": "2023-05-05T18:02:06.101Z"
   },
   {
    "duration": 18,
    "start_time": "2023-05-05T18:02:06.112Z"
   },
   {
    "duration": 345,
    "start_time": "2023-05-05T18:02:06.132Z"
   },
   {
    "duration": 29,
    "start_time": "2023-05-05T18:02:06.479Z"
   },
   {
    "duration": 11,
    "start_time": "2023-05-05T18:02:06.510Z"
   },
   {
    "duration": 8,
    "start_time": "2023-05-05T18:02:06.522Z"
   },
   {
    "duration": 50,
    "start_time": "2023-05-05T18:02:06.531Z"
   },
   {
    "duration": 105,
    "start_time": "2023-05-05T18:02:06.583Z"
   },
   {
    "duration": 15,
    "start_time": "2023-05-05T18:02:06.689Z"
   },
   {
    "duration": 71,
    "start_time": "2023-05-05T18:02:06.705Z"
   },
   {
    "duration": 21,
    "start_time": "2023-05-05T18:02:06.778Z"
   },
   {
    "duration": 22,
    "start_time": "2023-05-05T18:02:06.801Z"
   },
   {
    "duration": 5,
    "start_time": "2023-05-05T18:02:06.825Z"
   },
   {
    "duration": 25,
    "start_time": "2023-05-05T18:02:06.832Z"
   },
   {
    "duration": 29,
    "start_time": "2023-05-05T18:02:06.859Z"
   },
   {
    "duration": 21,
    "start_time": "2023-05-05T18:02:06.890Z"
   },
   {
    "duration": 48,
    "start_time": "2023-05-05T18:02:06.913Z"
   },
   {
    "duration": 27,
    "start_time": "2023-05-05T18:02:06.963Z"
   },
   {
    "duration": 18,
    "start_time": "2023-05-05T18:02:06.991Z"
   },
   {
    "duration": 12,
    "start_time": "2023-05-05T18:02:07.011Z"
   },
   {
    "duration": 50,
    "start_time": "2023-05-05T18:02:07.026Z"
   },
   {
    "duration": 23,
    "start_time": "2023-05-05T18:02:07.078Z"
   },
   {
    "duration": 59,
    "start_time": "2023-05-05T18:02:07.102Z"
   },
   {
    "duration": 31,
    "start_time": "2023-05-05T18:02:07.162Z"
   },
   {
    "duration": 22,
    "start_time": "2023-05-05T18:02:07.195Z"
   },
   {
    "duration": 53,
    "start_time": "2023-05-05T18:02:07.219Z"
   },
   {
    "duration": 25,
    "start_time": "2023-05-05T18:02:07.273Z"
   },
   {
    "duration": 23,
    "start_time": "2023-05-05T18:02:07.299Z"
   },
   {
    "duration": 60,
    "start_time": "2023-05-05T18:02:07.324Z"
   },
   {
    "duration": 21,
    "start_time": "2023-05-05T18:02:07.385Z"
   },
   {
    "duration": 51,
    "start_time": "2023-05-05T18:02:07.408Z"
   },
   {
    "duration": 28,
    "start_time": "2023-05-05T18:02:07.462Z"
   },
   {
    "duration": 20,
    "start_time": "2023-05-05T18:02:07.492Z"
   },
   {
    "duration": 52,
    "start_time": "2023-05-05T18:02:07.513Z"
   },
   {
    "duration": 30,
    "start_time": "2023-05-05T18:02:07.569Z"
   },
   {
    "duration": 5,
    "start_time": "2023-05-05T18:05:06.460Z"
   },
   {
    "duration": 14,
    "start_time": "2023-05-05T18:08:58.671Z"
   },
   {
    "duration": 622,
    "start_time": "2023-05-05T18:09:02.415Z"
   },
   {
    "duration": 14,
    "start_time": "2023-05-05T18:12:24.283Z"
   },
   {
    "duration": 55,
    "start_time": "2023-05-06T06:46:15.062Z"
   },
   {
    "duration": 12,
    "start_time": "2023-05-06T06:46:27.179Z"
   },
   {
    "duration": 1540,
    "start_time": "2023-05-06T06:46:29.833Z"
   },
   {
    "duration": 746,
    "start_time": "2023-05-06T06:46:35.030Z"
   },
   {
    "duration": 4,
    "start_time": "2023-05-06T06:46:36.987Z"
   },
   {
    "duration": 23,
    "start_time": "2023-05-06T06:46:40.100Z"
   },
   {
    "duration": 21,
    "start_time": "2023-05-06T06:46:45.150Z"
   },
   {
    "duration": 192,
    "start_time": "2023-05-06T06:46:47.213Z"
   },
   {
    "duration": 122,
    "start_time": "2023-05-06T06:48:52.855Z"
   },
   {
    "duration": 91,
    "start_time": "2023-05-06T06:50:05.202Z"
   },
   {
    "duration": 116,
    "start_time": "2023-05-06T06:53:44.371Z"
   },
   {
    "duration": 63,
    "start_time": "2023-05-06T06:55:33.523Z"
   },
   {
    "duration": 8,
    "start_time": "2023-05-06T06:55:42.756Z"
   },
   {
    "duration": 16,
    "start_time": "2023-05-06T06:55:49.352Z"
   },
   {
    "duration": 16,
    "start_time": "2023-05-06T06:57:01.089Z"
   },
   {
    "duration": 118,
    "start_time": "2023-05-06T07:01:31.967Z"
   },
   {
    "duration": 132,
    "start_time": "2023-05-06T07:03:00.918Z"
   },
   {
    "duration": 94,
    "start_time": "2023-05-06T07:03:31.555Z"
   },
   {
    "duration": 167,
    "start_time": "2023-05-06T07:04:11.325Z"
   },
   {
    "duration": 68,
    "start_time": "2023-05-06T07:05:53.444Z"
   },
   {
    "duration": 30,
    "start_time": "2023-05-06T07:12:14.101Z"
   },
   {
    "duration": 10,
    "start_time": "2023-05-06T07:12:17.211Z"
   },
   {
    "duration": 23,
    "start_time": "2023-05-06T07:12:28.601Z"
   },
   {
    "duration": 268,
    "start_time": "2023-05-06T07:14:14.703Z"
   },
   {
    "duration": 274,
    "start_time": "2023-05-06T07:14:30.295Z"
   },
   {
    "duration": 282,
    "start_time": "2023-05-06T07:14:36.424Z"
   },
   {
    "duration": 369,
    "start_time": "2023-05-06T07:14:55.793Z"
   },
   {
    "duration": 321,
    "start_time": "2023-05-06T07:16:37.806Z"
   },
   {
    "duration": 827,
    "start_time": "2023-05-06T07:19:31.802Z"
   },
   {
    "duration": 20,
    "start_time": "2023-05-06T07:23:28.758Z"
   },
   {
    "duration": 75,
    "start_time": "2023-05-06T07:25:10.555Z"
   },
   {
    "duration": 5,
    "start_time": "2023-05-06T07:25:17.518Z"
   },
   {
    "duration": 274,
    "start_time": "2023-05-06T07:25:17.526Z"
   },
   {
    "duration": 3,
    "start_time": "2023-05-06T07:25:17.802Z"
   },
   {
    "duration": 28,
    "start_time": "2023-05-06T07:25:17.807Z"
   },
   {
    "duration": 39,
    "start_time": "2023-05-06T07:25:17.838Z"
   },
   {
    "duration": 159,
    "start_time": "2023-05-06T07:25:17.879Z"
   },
   {
    "duration": 93,
    "start_time": "2023-05-06T07:25:18.041Z"
   },
   {
    "duration": 113,
    "start_time": "2023-05-06T07:25:18.135Z"
   },
   {
    "duration": 52,
    "start_time": "2023-05-06T07:25:18.250Z"
   },
   {
    "duration": 309,
    "start_time": "2023-05-06T07:25:18.305Z"
   },
   {
    "duration": 8,
    "start_time": "2023-05-06T07:25:18.616Z"
   },
   {
    "duration": 43,
    "start_time": "2023-05-06T07:25:18.643Z"
   },
   {
    "duration": 242,
    "start_time": "2023-05-06T07:25:18.688Z"
   },
   {
    "duration": 713,
    "start_time": "2023-05-06T07:25:18.932Z"
   },
   {
    "duration": 836,
    "start_time": "2023-05-06T07:25:25.886Z"
   },
   {
    "duration": 3,
    "start_time": "2023-05-06T07:25:41.301Z"
   },
   {
    "duration": 205,
    "start_time": "2023-05-06T07:25:41.306Z"
   },
   {
    "duration": 3,
    "start_time": "2023-05-06T07:25:41.513Z"
   },
   {
    "duration": 54,
    "start_time": "2023-05-06T07:25:41.519Z"
   },
   {
    "duration": 9,
    "start_time": "2023-05-06T07:25:41.575Z"
   },
   {
    "duration": 139,
    "start_time": "2023-05-06T07:25:41.585Z"
   },
   {
    "duration": 84,
    "start_time": "2023-05-06T07:25:41.726Z"
   },
   {
    "duration": 114,
    "start_time": "2023-05-06T07:25:41.812Z"
   },
   {
    "duration": 58,
    "start_time": "2023-05-06T07:25:41.928Z"
   },
   {
    "duration": 306,
    "start_time": "2023-05-06T07:25:41.988Z"
   },
   {
    "duration": 8,
    "start_time": "2023-05-06T07:25:42.296Z"
   },
   {
    "duration": 69,
    "start_time": "2023-05-06T07:25:42.305Z"
   },
   {
    "duration": 227,
    "start_time": "2023-05-06T07:25:42.375Z"
   },
   {
    "duration": 741,
    "start_time": "2023-05-06T07:25:42.604Z"
   },
   {
    "duration": 16,
    "start_time": "2023-05-06T07:25:48.908Z"
   },
   {
    "duration": 1253,
    "start_time": "2023-05-06T07:26:20.013Z"
   },
   {
    "duration": 216,
    "start_time": "2023-05-06T07:26:21.269Z"
   },
   {
    "duration": 4,
    "start_time": "2023-05-06T07:26:21.487Z"
   },
   {
    "duration": 77,
    "start_time": "2023-05-06T07:26:21.492Z"
   },
   {
    "duration": 22,
    "start_time": "2023-05-06T07:26:21.573Z"
   },
   {
    "duration": 134,
    "start_time": "2023-05-06T07:26:21.597Z"
   },
   {
    "duration": 82,
    "start_time": "2023-05-06T07:26:21.736Z"
   },
   {
    "duration": 113,
    "start_time": "2023-05-06T07:26:21.820Z"
   },
   {
    "duration": 56,
    "start_time": "2023-05-06T07:26:21.935Z"
   },
   {
    "duration": 297,
    "start_time": "2023-05-06T07:26:21.993Z"
   },
   {
    "duration": 8,
    "start_time": "2023-05-06T07:26:22.292Z"
   },
   {
    "duration": 37,
    "start_time": "2023-05-06T07:26:22.301Z"
   },
   {
    "duration": 319,
    "start_time": "2023-05-06T07:26:22.340Z"
   },
   {
    "duration": 664,
    "start_time": "2023-05-06T07:26:22.665Z"
   },
   {
    "duration": 136,
    "start_time": "2023-05-06T07:26:38.287Z"
   },
   {
    "duration": 13,
    "start_time": "2023-05-06T07:27:06.207Z"
   },
   {
    "duration": 9,
    "start_time": "2023-05-06T07:27:19.392Z"
   },
   {
    "duration": 271,
    "start_time": "2023-05-06T07:31:24.983Z"
   },
   {
    "duration": 12,
    "start_time": "2023-05-06T07:31:37.889Z"
   },
   {
    "duration": 55,
    "start_time": "2023-05-06T07:33:36.331Z"
   },
   {
    "duration": 22,
    "start_time": "2023-05-06T07:34:31.249Z"
   },
   {
    "duration": 13,
    "start_time": "2023-05-06T07:36:28.174Z"
   },
   {
    "duration": 36,
    "start_time": "2023-05-06T07:37:44.119Z"
   },
   {
    "duration": 19,
    "start_time": "2023-05-06T07:38:42.674Z"
   },
   {
    "duration": 5,
    "start_time": "2023-05-06T07:40:20.717Z"
   },
   {
    "duration": 12,
    "start_time": "2023-05-06T07:40:58.884Z"
   },
   {
    "duration": 22,
    "start_time": "2023-05-06T07:42:42.204Z"
   },
   {
    "duration": 23,
    "start_time": "2023-05-06T07:43:32.181Z"
   },
   {
    "duration": 17,
    "start_time": "2023-05-06T07:43:48.882Z"
   },
   {
    "duration": 24,
    "start_time": "2023-05-06T07:44:19.231Z"
   },
   {
    "duration": 5,
    "start_time": "2023-05-06T07:44:26.577Z"
   },
   {
    "duration": 332,
    "start_time": "2023-05-06T07:44:26.590Z"
   },
   {
    "duration": 13,
    "start_time": "2023-05-06T07:44:26.925Z"
   },
   {
    "duration": 113,
    "start_time": "2023-05-06T07:44:26.943Z"
   },
   {
    "duration": 59,
    "start_time": "2023-05-06T07:44:27.070Z"
   },
   {
    "duration": 245,
    "start_time": "2023-05-06T07:44:27.131Z"
   },
   {
    "duration": 116,
    "start_time": "2023-05-06T07:44:27.381Z"
   },
   {
    "duration": 148,
    "start_time": "2023-05-06T07:44:27.500Z"
   },
   {
    "duration": 73,
    "start_time": "2023-05-06T07:44:27.651Z"
   },
   {
    "duration": 382,
    "start_time": "2023-05-06T07:44:27.727Z"
   },
   {
    "duration": 36,
    "start_time": "2023-05-06T07:44:28.112Z"
   },
   {
    "duration": 44,
    "start_time": "2023-05-06T07:44:28.153Z"
   },
   {
    "duration": 488,
    "start_time": "2023-05-06T07:44:28.199Z"
   },
   {
    "duration": 838,
    "start_time": "2023-05-06T07:44:28.692Z"
   },
   {
    "duration": 13,
    "start_time": "2023-05-06T07:44:39.079Z"
   },
   {
    "duration": 19,
    "start_time": "2023-05-06T07:44:43.620Z"
   },
   {
    "duration": 16,
    "start_time": "2023-05-06T07:44:45.478Z"
   },
   {
    "duration": 8,
    "start_time": "2023-05-06T07:46:09.979Z"
   },
   {
    "duration": 24,
    "start_time": "2023-05-06T08:11:20.976Z"
   },
   {
    "duration": 90,
    "start_time": "2023-05-06T08:11:30.203Z"
   },
   {
    "duration": 30,
    "start_time": "2023-05-06T08:16:30.869Z"
   },
   {
    "duration": 6,
    "start_time": "2023-05-06T08:18:59.172Z"
   },
   {
    "duration": 1378,
    "start_time": "2023-05-06T08:19:54.193Z"
   },
   {
    "duration": 7,
    "start_time": "2023-05-06T08:20:10.514Z"
   },
   {
    "duration": 11,
    "start_time": "2023-05-06T08:29:29.386Z"
   },
   {
    "duration": 16,
    "start_time": "2023-05-06T08:30:25.059Z"
   },
   {
    "duration": 160,
    "start_time": "2023-05-06T08:30:45.523Z"
   },
   {
    "duration": 88,
    "start_time": "2023-05-06T08:30:53.676Z"
   },
   {
    "duration": 16,
    "start_time": "2023-05-06T08:31:03.113Z"
   },
   {
    "duration": 12,
    "start_time": "2023-05-06T08:31:51.885Z"
   },
   {
    "duration": 3,
    "start_time": "2023-05-06T08:32:03.804Z"
   },
   {
    "duration": 5,
    "start_time": "2023-05-06T08:41:31.570Z"
   },
   {
    "duration": 34,
    "start_time": "2023-05-06T08:42:39.479Z"
   },
   {
    "duration": 875,
    "start_time": "2023-05-06T09:05:30.602Z"
   },
   {
    "duration": 4,
    "start_time": "2023-05-06T09:06:30.478Z"
   },
   {
    "duration": 94,
    "start_time": "2023-05-06T09:13:52.621Z"
   },
   {
    "duration": 44,
    "start_time": "2023-05-06T09:17:05.621Z"
   },
   {
    "duration": 20,
    "start_time": "2023-05-06T09:17:10.112Z"
   },
   {
    "duration": 23,
    "start_time": "2023-05-06T09:17:21.080Z"
   },
   {
    "duration": 4,
    "start_time": "2023-05-06T09:24:27.725Z"
   },
   {
    "duration": 3,
    "start_time": "2023-05-06T09:27:35.781Z"
   },
   {
    "duration": 24,
    "start_time": "2023-05-06T09:27:36.280Z"
   },
   {
    "duration": 30,
    "start_time": "2023-05-06T09:27:46.880Z"
   },
   {
    "duration": 37,
    "start_time": "2023-05-06T09:27:50.509Z"
   },
   {
    "duration": 37,
    "start_time": "2023-05-06T09:27:59.313Z"
   },
   {
    "duration": 28,
    "start_time": "2023-05-06T09:28:23.973Z"
   },
   {
    "duration": 10,
    "start_time": "2023-05-06T09:28:28.922Z"
   },
   {
    "duration": 33,
    "start_time": "2023-05-06T09:28:41.766Z"
   },
   {
    "duration": 34,
    "start_time": "2023-05-06T09:28:45.185Z"
   },
   {
    "duration": 34,
    "start_time": "2023-05-06T09:29:24.180Z"
   },
   {
    "duration": 24,
    "start_time": "2023-05-06T09:29:28.574Z"
   },
   {
    "duration": 22,
    "start_time": "2023-05-06T09:29:32.195Z"
   },
   {
    "duration": 35,
    "start_time": "2023-05-06T09:29:40.209Z"
   },
   {
    "duration": 23,
    "start_time": "2023-05-06T09:29:42.793Z"
   },
   {
    "duration": 22,
    "start_time": "2023-05-06T09:29:46.592Z"
   },
   {
    "duration": 35,
    "start_time": "2023-05-06T09:29:53.300Z"
   },
   {
    "duration": 53,
    "start_time": "2023-05-06T09:29:55.918Z"
   },
   {
    "duration": 25,
    "start_time": "2023-05-06T09:29:57.999Z"
   },
   {
    "duration": 28,
    "start_time": "2023-05-06T09:30:03.298Z"
   },
   {
    "duration": 20,
    "start_time": "2023-05-06T09:30:05.412Z"
   },
   {
    "duration": 41,
    "start_time": "2023-05-06T09:30:06.549Z"
   },
   {
    "duration": 37,
    "start_time": "2023-05-06T09:30:11.914Z"
   },
   {
    "duration": 25,
    "start_time": "2023-05-06T09:44:29.485Z"
   },
   {
    "duration": 23,
    "start_time": "2023-05-06T09:47:56.184Z"
   },
   {
    "duration": 24,
    "start_time": "2023-05-06T09:49:44.914Z"
   },
   {
    "duration": 56,
    "start_time": "2023-05-06T12:09:44.111Z"
   },
   {
    "duration": 90,
    "start_time": "2023-05-06T13:16:59.616Z"
   },
   {
    "duration": 81,
    "start_time": "2023-05-06T13:17:33.612Z"
   },
   {
    "duration": 79,
    "start_time": "2023-05-06T13:22:18.448Z"
   },
   {
    "duration": 94,
    "start_time": "2023-05-06T13:24:41.351Z"
   },
   {
    "duration": 97,
    "start_time": "2023-05-06T13:27:17.150Z"
   },
   {
    "duration": 13,
    "start_time": "2023-05-06T13:29:26.983Z"
   },
   {
    "duration": 11,
    "start_time": "2023-05-06T13:30:01.046Z"
   },
   {
    "duration": 94,
    "start_time": "2023-05-06T13:35:34.214Z"
   },
   {
    "duration": 8,
    "start_time": "2023-05-06T13:35:47.037Z"
   },
   {
    "duration": 108,
    "start_time": "2023-05-06T13:38:35.587Z"
   },
   {
    "duration": 108,
    "start_time": "2023-05-06T13:44:26.382Z"
   },
   {
    "duration": 121,
    "start_time": "2023-05-06T13:48:28.745Z"
   },
   {
    "duration": 270,
    "start_time": "2023-05-06T13:53:07.705Z"
   },
   {
    "duration": 6,
    "start_time": "2023-05-06T14:17:28.030Z"
   },
   {
    "duration": 4,
    "start_time": "2023-05-06T14:29:20.957Z"
   },
   {
    "duration": 6,
    "start_time": "2023-05-06T14:29:29.507Z"
   },
   {
    "duration": 3,
    "start_time": "2023-05-06T15:11:30.958Z"
   },
   {
    "duration": 301,
    "start_time": "2023-05-06T15:11:30.965Z"
   },
   {
    "duration": 3,
    "start_time": "2023-05-06T15:11:31.268Z"
   },
   {
    "duration": 46,
    "start_time": "2023-05-06T15:11:31.273Z"
   },
   {
    "duration": 46,
    "start_time": "2023-05-06T15:11:31.321Z"
   },
   {
    "duration": 130,
    "start_time": "2023-05-06T15:11:31.369Z"
   },
   {
    "duration": 68,
    "start_time": "2023-05-06T15:11:31.501Z"
   },
   {
    "duration": 101,
    "start_time": "2023-05-06T15:11:31.571Z"
   },
   {
    "duration": 40,
    "start_time": "2023-05-06T15:11:31.674Z"
   },
   {
    "duration": 251,
    "start_time": "2023-05-06T15:11:31.715Z"
   },
   {
    "duration": 8,
    "start_time": "2023-05-06T15:11:31.969Z"
   },
   {
    "duration": 41,
    "start_time": "2023-05-06T15:11:31.979Z"
   },
   {
    "duration": 251,
    "start_time": "2023-05-06T15:11:32.022Z"
   },
   {
    "duration": 636,
    "start_time": "2023-05-06T15:11:32.274Z"
   },
   {
    "duration": 40,
    "start_time": "2023-05-06T15:11:32.912Z"
   },
   {
    "duration": 12,
    "start_time": "2023-05-06T15:11:32.954Z"
   },
   {
    "duration": 16,
    "start_time": "2023-05-06T15:11:32.968Z"
   },
   {
    "duration": 24,
    "start_time": "2023-05-06T15:11:32.986Z"
   },
   {
    "duration": 50,
    "start_time": "2023-05-06T15:11:33.011Z"
   },
   {
    "duration": 88,
    "start_time": "2023-05-06T15:11:33.062Z"
   },
   {
    "duration": 12,
    "start_time": "2023-05-06T15:11:33.151Z"
   },
   {
    "duration": 24,
    "start_time": "2023-05-06T15:11:33.165Z"
   },
   {
    "duration": 23,
    "start_time": "2023-05-06T15:11:33.192Z"
   },
   {
    "duration": 68,
    "start_time": "2023-05-06T15:11:33.217Z"
   },
   {
    "duration": 33,
    "start_time": "2023-05-06T15:11:33.286Z"
   },
   {
    "duration": 28,
    "start_time": "2023-05-06T15:11:33.320Z"
   },
   {
    "duration": 21,
    "start_time": "2023-05-06T15:11:33.350Z"
   },
   {
    "duration": 6,
    "start_time": "2023-05-06T15:11:33.373Z"
   },
   {
    "duration": 9,
    "start_time": "2023-05-06T15:11:33.383Z"
   },
   {
    "duration": 33,
    "start_time": "2023-05-06T15:11:33.393Z"
   },
   {
    "duration": 36,
    "start_time": "2023-05-06T15:11:33.427Z"
   },
   {
    "duration": 46,
    "start_time": "2023-05-06T15:11:33.464Z"
   },
   {
    "duration": 22,
    "start_time": "2023-05-06T15:11:33.512Z"
   },
   {
    "duration": 52,
    "start_time": "2023-05-06T15:11:33.541Z"
   },
   {
    "duration": 9,
    "start_time": "2023-05-06T15:11:33.595Z"
   },
   {
    "duration": 51,
    "start_time": "2023-05-06T15:11:33.606Z"
   },
   {
    "duration": 27,
    "start_time": "2023-05-06T15:11:33.660Z"
   },
   {
    "duration": 40,
    "start_time": "2023-05-06T15:11:33.689Z"
   },
   {
    "duration": 39,
    "start_time": "2023-05-06T15:11:33.730Z"
   },
   {
    "duration": 31,
    "start_time": "2023-05-06T15:11:33.771Z"
   },
   {
    "duration": 43,
    "start_time": "2023-05-06T15:11:33.803Z"
   },
   {
    "duration": 35,
    "start_time": "2023-05-06T15:11:33.850Z"
   },
   {
    "duration": 24,
    "start_time": "2023-05-06T15:11:33.887Z"
   },
   {
    "duration": 67,
    "start_time": "2023-05-06T15:11:33.913Z"
   },
   {
    "duration": 24,
    "start_time": "2023-05-06T15:11:33.981Z"
   },
   {
    "duration": 58,
    "start_time": "2023-05-06T15:11:34.006Z"
   },
   {
    "duration": 50,
    "start_time": "2023-05-06T15:11:34.066Z"
   },
   {
    "duration": 52,
    "start_time": "2023-05-06T15:11:34.118Z"
   },
   {
    "duration": 31,
    "start_time": "2023-05-06T15:11:34.172Z"
   },
   {
    "duration": 59,
    "start_time": "2023-05-06T15:11:34.205Z"
   },
   {
    "duration": 237,
    "start_time": "2023-05-06T15:11:34.266Z"
   },
   {
    "duration": 40,
    "start_time": "2023-05-06T15:11:34.505Z"
   },
   {
    "duration": 1180,
    "start_time": "2023-06-28T05:27:52.887Z"
   },
   {
    "duration": 161,
    "start_time": "2023-06-28T05:27:54.069Z"
   },
   {
    "duration": 37,
    "start_time": "2023-06-28T05:27:54.231Z"
   },
   {
    "duration": 14,
    "start_time": "2023-06-28T05:27:54.270Z"
   },
   {
    "duration": 12,
    "start_time": "2023-06-28T05:27:54.285Z"
   },
   {
    "duration": 56,
    "start_time": "2023-06-28T05:27:54.298Z"
   },
   {
    "duration": 22,
    "start_time": "2023-06-28T05:27:54.356Z"
   },
   {
    "duration": 57,
    "start_time": "2023-06-28T05:27:54.379Z"
   },
   {
    "duration": 26,
    "start_time": "2023-06-28T05:27:54.438Z"
   },
   {
    "duration": 13,
    "start_time": "2023-06-28T05:27:54.467Z"
   },
   {
    "duration": 60,
    "start_time": "2023-06-28T05:27:54.482Z"
   },
   {
    "duration": 2325,
    "start_time": "2023-06-28T05:27:54.544Z"
   },
   {
    "duration": 50,
    "start_time": "2023-06-28T05:27:56.871Z"
   },
   {
    "duration": 12,
    "start_time": "2023-06-28T05:27:56.922Z"
   },
   {
    "duration": 25,
    "start_time": "2023-06-28T05:27:56.936Z"
   },
   {
    "duration": 62,
    "start_time": "2023-06-28T05:27:56.962Z"
   },
   {
    "duration": 29,
    "start_time": "2023-06-28T05:27:57.028Z"
   },
   {
    "duration": 34,
    "start_time": "2023-06-28T05:27:57.059Z"
   },
   {
    "duration": 46,
    "start_time": "2023-06-28T05:27:57.095Z"
   },
   {
    "duration": 26,
    "start_time": "2023-06-28T05:27:57.143Z"
   },
   {
    "duration": 49,
    "start_time": "2023-06-28T05:27:57.172Z"
   },
   {
    "duration": 12,
    "start_time": "2023-06-28T05:27:57.223Z"
   },
   {
    "duration": 18,
    "start_time": "2023-06-28T05:27:57.237Z"
   },
   {
    "duration": 20,
    "start_time": "2023-06-28T05:27:57.257Z"
   },
   {
    "duration": 8,
    "start_time": "2023-06-28T05:27:57.278Z"
   },
   {
    "duration": 94,
    "start_time": "2023-06-28T05:27:57.288Z"
   },
   {
    "duration": 66,
    "start_time": "2023-06-28T05:27:57.384Z"
   },
   {
    "duration": 3,
    "start_time": "2023-06-28T05:27:57.453Z"
   },
   {
    "duration": 768,
    "start_time": "2023-06-28T05:27:57.457Z"
   },
   {
    "duration": 620,
    "start_time": "2023-06-28T05:27:58.233Z"
   },
   {
    "duration": 6,
    "start_time": "2023-06-28T05:27:58.854Z"
   },
   {
    "duration": 22,
    "start_time": "2023-06-28T05:27:58.861Z"
   },
   {
    "duration": 67,
    "start_time": "2023-06-28T05:27:58.885Z"
   },
   {
    "duration": 17,
    "start_time": "2023-06-28T06:12:46.719Z"
   },
   {
    "duration": 19,
    "start_time": "2023-06-28T06:12:56.182Z"
   },
   {
    "duration": 16,
    "start_time": "2023-06-28T06:13:20.945Z"
   },
   {
    "duration": 10,
    "start_time": "2023-06-28T06:24:29.281Z"
   },
   {
    "duration": 1616,
    "start_time": "2023-06-29T06:38:47.856Z"
   },
   {
    "duration": 289,
    "start_time": "2023-06-29T06:38:49.475Z"
   },
   {
    "duration": 43,
    "start_time": "2023-06-29T06:38:49.767Z"
   },
   {
    "duration": 17,
    "start_time": "2023-06-29T06:38:49.812Z"
   },
   {
    "duration": 44,
    "start_time": "2023-06-29T06:38:49.831Z"
   },
   {
    "duration": 24,
    "start_time": "2023-06-29T06:38:49.877Z"
   },
   {
    "duration": 33,
    "start_time": "2023-06-29T06:38:49.903Z"
   },
   {
    "duration": 63,
    "start_time": "2023-06-29T06:38:49.938Z"
   },
   {
    "duration": 35,
    "start_time": "2023-06-29T06:38:50.002Z"
   },
   {
    "duration": 34,
    "start_time": "2023-06-29T06:38:50.039Z"
   },
   {
    "duration": 64,
    "start_time": "2023-06-29T06:38:50.075Z"
   },
   {
    "duration": 1008,
    "start_time": "2023-06-29T06:38:50.141Z"
   },
   {
    "duration": 22,
    "start_time": "2023-06-29T06:38:51.151Z"
   },
   {
    "duration": 10,
    "start_time": "2023-06-29T06:38:51.176Z"
   },
   {
    "duration": 79,
    "start_time": "2023-06-29T06:38:51.189Z"
   },
   {
    "duration": 17,
    "start_time": "2023-06-29T06:38:51.270Z"
   },
   {
    "duration": 25,
    "start_time": "2023-06-29T06:38:51.289Z"
   },
   {
    "duration": 25,
    "start_time": "2023-06-29T06:38:51.316Z"
   },
   {
    "duration": 40,
    "start_time": "2023-06-29T06:38:51.343Z"
   },
   {
    "duration": 54,
    "start_time": "2023-06-29T06:38:51.386Z"
   },
   {
    "duration": 46,
    "start_time": "2023-06-29T06:38:51.441Z"
   },
   {
    "duration": 10,
    "start_time": "2023-06-29T06:38:51.489Z"
   },
   {
    "duration": 12,
    "start_time": "2023-06-29T06:38:51.502Z"
   },
   {
    "duration": 13,
    "start_time": "2023-06-29T06:38:51.516Z"
   },
   {
    "duration": 15,
    "start_time": "2023-06-29T06:38:51.531Z"
   },
   {
    "duration": 66,
    "start_time": "2023-06-29T06:38:51.548Z"
   },
   {
    "duration": 73,
    "start_time": "2023-06-29T06:38:51.615Z"
   },
   {
    "duration": 4,
    "start_time": "2023-06-29T06:38:51.691Z"
   },
   {
    "duration": 850,
    "start_time": "2023-06-29T06:38:51.696Z"
   },
   {
    "duration": 858,
    "start_time": "2023-06-29T06:38:52.548Z"
   },
   {
    "duration": 9,
    "start_time": "2023-06-29T06:38:53.408Z"
   },
   {
    "duration": 66,
    "start_time": "2023-06-29T06:38:53.420Z"
   },
   {
    "duration": 14,
    "start_time": "2023-06-29T06:38:53.489Z"
   },
   {
    "duration": 604,
    "start_time": "2023-06-29T11:22:44.399Z"
   },
   {
    "duration": 4,
    "start_time": "2023-06-29T12:27:49.311Z"
   },
   {
    "duration": 45,
    "start_time": "2023-06-29T12:28:33.658Z"
   },
   {
    "duration": 41,
    "start_time": "2023-06-29T12:28:41.729Z"
   },
   {
    "duration": 57,
    "start_time": "2023-06-29T12:29:07.304Z"
   },
   {
    "duration": 54,
    "start_time": "2023-06-29T12:29:31.790Z"
   },
   {
    "duration": 4,
    "start_time": "2023-06-29T12:30:21.642Z"
   },
   {
    "duration": 42,
    "start_time": "2023-06-29T12:32:17.745Z"
   },
   {
    "duration": 166,
    "start_time": "2023-06-29T12:32:41.714Z"
   },
   {
    "duration": 193,
    "start_time": "2023-06-29T12:33:29.983Z"
   },
   {
    "duration": 18,
    "start_time": "2023-06-29T12:34:57.560Z"
   },
   {
    "duration": 223,
    "start_time": "2023-06-29T12:35:22.319Z"
   },
   {
    "duration": 16,
    "start_time": "2023-06-29T12:36:26.184Z"
   },
   {
    "duration": 154,
    "start_time": "2023-06-29T13:39:15.800Z"
   },
   {
    "duration": 9,
    "start_time": "2023-06-29T14:49:15.209Z"
   },
   {
    "duration": 56,
    "start_time": "2023-06-29T14:49:30.667Z"
   },
   {
    "duration": 100,
    "start_time": "2023-06-29T14:49:31.360Z"
   },
   {
    "duration": 4,
    "start_time": "2023-06-29T14:49:33.545Z"
   },
   {
    "duration": 188,
    "start_time": "2023-06-29T14:50:12.203Z"
   },
   {
    "duration": 249,
    "start_time": "2023-06-29T14:52:27.229Z"
   },
   {
    "duration": 189,
    "start_time": "2023-06-29T14:52:36.860Z"
   },
   {
    "duration": 5,
    "start_time": "2023-06-29T14:53:02.554Z"
   },
   {
    "duration": 167,
    "start_time": "2023-06-29T14:53:02.561Z"
   },
   {
    "duration": 39,
    "start_time": "2023-06-29T14:53:02.730Z"
   },
   {
    "duration": 18,
    "start_time": "2023-06-29T14:53:02.771Z"
   },
   {
    "duration": 11,
    "start_time": "2023-06-29T14:53:02.792Z"
   },
   {
    "duration": 26,
    "start_time": "2023-06-29T14:53:02.805Z"
   },
   {
    "duration": 56,
    "start_time": "2023-06-29T14:53:02.833Z"
   },
   {
    "duration": 52,
    "start_time": "2023-06-29T14:53:02.891Z"
   },
   {
    "duration": 57,
    "start_time": "2023-06-29T14:53:02.945Z"
   },
   {
    "duration": 13,
    "start_time": "2023-06-29T14:53:03.004Z"
   },
   {
    "duration": 62,
    "start_time": "2023-06-29T14:53:03.019Z"
   },
   {
    "duration": 534,
    "start_time": "2023-06-29T14:53:03.083Z"
   },
   {
    "duration": 11,
    "start_time": "2023-06-29T14:53:03.619Z"
   },
   {
    "duration": 35,
    "start_time": "2023-06-29T14:53:03.633Z"
   },
   {
    "duration": 33,
    "start_time": "2023-06-29T14:53:03.671Z"
   },
   {
    "duration": 17,
    "start_time": "2023-06-29T14:53:03.706Z"
   },
   {
    "duration": 50,
    "start_time": "2023-06-29T14:53:03.725Z"
   },
   {
    "duration": 7,
    "start_time": "2023-06-29T14:53:03.777Z"
   },
   {
    "duration": 54,
    "start_time": "2023-06-29T14:53:03.785Z"
   },
   {
    "duration": 79,
    "start_time": "2023-06-29T14:53:03.841Z"
   },
   {
    "duration": 101,
    "start_time": "2023-06-29T14:53:03.922Z"
   },
   {
    "duration": 4,
    "start_time": "2023-06-29T14:53:04.025Z"
   },
   {
    "duration": 82,
    "start_time": "2023-06-29T14:53:04.031Z"
   },
   {
    "duration": 182,
    "start_time": "2023-06-29T14:53:04.115Z"
   },
   {
    "duration": 309,
    "start_time": "2023-06-29T14:53:04.299Z"
   },
   {
    "duration": 18,
    "start_time": "2023-06-29T14:53:04.610Z"
   },
   {
    "duration": 219,
    "start_time": "2023-06-29T14:53:04.630Z"
   },
   {
    "duration": 25,
    "start_time": "2023-06-29T14:53:04.851Z"
   },
   {
    "duration": 12,
    "start_time": "2023-06-29T14:53:04.878Z"
   },
   {
    "duration": 30,
    "start_time": "2023-06-29T14:53:04.895Z"
   },
   {
    "duration": 18,
    "start_time": "2023-06-29T14:53:04.927Z"
   },
   {
    "duration": 12,
    "start_time": "2023-06-29T14:53:04.948Z"
   },
   {
    "duration": 53,
    "start_time": "2023-06-29T14:53:04.962Z"
   },
   {
    "duration": 81,
    "start_time": "2023-06-29T14:53:05.018Z"
   },
   {
    "duration": 5,
    "start_time": "2023-06-29T14:53:05.100Z"
   },
   {
    "duration": 684,
    "start_time": "2023-06-29T14:53:05.107Z"
   },
   {
    "duration": 145,
    "start_time": "2023-06-29T14:53:05.793Z"
   },
   {
    "duration": 215,
    "start_time": "2023-06-29T14:53:15.274Z"
   },
   {
    "duration": 300,
    "start_time": "2023-06-29T14:55:14.584Z"
   },
   {
    "duration": 5,
    "start_time": "2023-06-29T15:15:20.226Z"
   },
   {
    "duration": 732,
    "start_time": "2023-06-29T15:15:20.931Z"
   },
   {
    "duration": 5,
    "start_time": "2023-06-29T15:15:45.634Z"
   },
   {
    "duration": 743,
    "start_time": "2023-06-29T15:15:46.103Z"
   },
   {
    "duration": 1267,
    "start_time": "2023-06-29T16:09:25.475Z"
   },
   {
    "duration": 140,
    "start_time": "2023-06-29T16:09:26.745Z"
   },
   {
    "duration": 58,
    "start_time": "2023-06-29T16:09:26.888Z"
   },
   {
    "duration": 25,
    "start_time": "2023-06-29T16:09:26.949Z"
   },
   {
    "duration": 19,
    "start_time": "2023-06-29T16:09:26.976Z"
   },
   {
    "duration": 28,
    "start_time": "2023-06-29T16:09:26.997Z"
   },
   {
    "duration": 29,
    "start_time": "2023-06-29T16:09:27.027Z"
   },
   {
    "duration": 52,
    "start_time": "2023-06-29T16:09:27.059Z"
   },
   {
    "duration": 32,
    "start_time": "2023-06-29T16:09:27.113Z"
   },
   {
    "duration": 31,
    "start_time": "2023-06-29T16:09:27.147Z"
   },
   {
    "duration": 48,
    "start_time": "2023-06-29T16:09:27.180Z"
   },
   {
    "duration": 1010,
    "start_time": "2023-06-29T16:09:27.229Z"
   },
   {
    "duration": 30,
    "start_time": "2023-06-29T16:09:28.241Z"
   },
   {
    "duration": 13,
    "start_time": "2023-06-29T16:09:28.274Z"
   },
   {
    "duration": 38,
    "start_time": "2023-06-29T16:09:28.289Z"
   },
   {
    "duration": 16,
    "start_time": "2023-06-29T16:09:28.368Z"
   },
   {
    "duration": 8,
    "start_time": "2023-06-29T16:09:28.386Z"
   },
   {
    "duration": 3,
    "start_time": "2023-06-29T16:09:28.396Z"
   },
   {
    "duration": 72,
    "start_time": "2023-06-29T16:09:28.400Z"
   },
   {
    "duration": 55,
    "start_time": "2023-06-29T16:09:28.474Z"
   },
   {
    "duration": 67,
    "start_time": "2023-06-29T16:09:28.531Z"
   },
   {
    "duration": 10,
    "start_time": "2023-06-29T16:09:28.599Z"
   },
   {
    "duration": 58,
    "start_time": "2023-06-29T16:09:28.611Z"
   },
   {
    "duration": 144,
    "start_time": "2023-06-29T16:09:28.671Z"
   },
   {
    "duration": 206,
    "start_time": "2023-06-29T16:09:28.818Z"
   },
   {
    "duration": 15,
    "start_time": "2023-06-29T16:09:29.026Z"
   },
   {
    "duration": 215,
    "start_time": "2023-06-29T16:09:29.042Z"
   },
   {
    "duration": 16,
    "start_time": "2023-06-29T16:09:29.266Z"
   },
   {
    "duration": 7,
    "start_time": "2023-06-29T16:09:29.284Z"
   },
   {
    "duration": 13,
    "start_time": "2023-06-29T16:09:29.292Z"
   },
   {
    "duration": 15,
    "start_time": "2023-06-29T16:09:29.307Z"
   },
   {
    "duration": 24,
    "start_time": "2023-06-29T16:09:29.325Z"
   },
   {
    "duration": 78,
    "start_time": "2023-06-29T16:09:29.351Z"
   },
   {
    "duration": 74,
    "start_time": "2023-06-29T16:09:29.431Z"
   },
   {
    "duration": 5,
    "start_time": "2023-06-29T16:09:29.507Z"
   },
   {
    "duration": 834,
    "start_time": "2023-06-29T16:09:29.515Z"
   },
   {
    "duration": 268,
    "start_time": "2023-06-29T16:09:30.352Z"
   },
   {
    "duration": 267,
    "start_time": "2023-06-29T16:09:30.622Z"
   },
   {
    "duration": 356,
    "start_time": "2023-06-29T16:09:30.892Z"
   },
   {
    "duration": 17,
    "start_time": "2023-06-29T16:09:31.251Z"
   },
   {
    "duration": 63,
    "start_time": "2023-06-29T16:09:31.270Z"
   },
   {
    "duration": 68,
    "start_time": "2023-06-29T16:09:31.335Z"
   },
   {
    "duration": 1350,
    "start_time": "2023-06-30T05:15:23.618Z"
   },
   {
    "duration": 516,
    "start_time": "2023-06-30T05:15:24.971Z"
   },
   {
    "duration": 39,
    "start_time": "2023-06-30T05:15:25.488Z"
   },
   {
    "duration": 14,
    "start_time": "2023-06-30T05:15:25.529Z"
   },
   {
    "duration": 33,
    "start_time": "2023-06-30T05:15:25.545Z"
   },
   {
    "duration": 23,
    "start_time": "2023-06-30T05:15:25.580Z"
   },
   {
    "duration": 21,
    "start_time": "2023-06-30T05:15:25.605Z"
   },
   {
    "duration": 42,
    "start_time": "2023-06-30T05:15:25.627Z"
   },
   {
    "duration": 56,
    "start_time": "2023-06-30T05:15:25.671Z"
   },
   {
    "duration": 10,
    "start_time": "2023-06-30T05:15:25.729Z"
   },
   {
    "duration": 32,
    "start_time": "2023-06-30T05:15:25.741Z"
   },
   {
    "duration": 1427,
    "start_time": "2023-06-30T05:15:25.775Z"
   },
   {
    "duration": 9,
    "start_time": "2023-06-30T05:15:27.204Z"
   },
   {
    "duration": 7,
    "start_time": "2023-06-30T05:15:27.216Z"
   },
   {
    "duration": 23,
    "start_time": "2023-06-30T05:15:27.225Z"
   },
   {
    "duration": 15,
    "start_time": "2023-06-30T05:15:27.303Z"
   },
   {
    "duration": 8,
    "start_time": "2023-06-30T05:15:27.319Z"
   },
   {
    "duration": 6,
    "start_time": "2023-06-30T05:15:27.329Z"
   },
   {
    "duration": 47,
    "start_time": "2023-06-30T05:15:27.336Z"
   },
   {
    "duration": 64,
    "start_time": "2023-06-30T05:15:27.385Z"
   },
   {
    "duration": 70,
    "start_time": "2023-06-30T05:15:27.451Z"
   },
   {
    "duration": 2,
    "start_time": "2023-06-30T05:15:27.522Z"
   },
   {
    "duration": 60,
    "start_time": "2023-06-30T05:15:27.526Z"
   },
   {
    "duration": 119,
    "start_time": "2023-06-30T05:15:27.588Z"
   },
   {
    "duration": 175,
    "start_time": "2023-06-30T05:15:27.709Z"
   },
   {
    "duration": 25,
    "start_time": "2023-06-30T05:15:27.886Z"
   },
   {
    "duration": 180,
    "start_time": "2023-06-30T05:15:27.913Z"
   },
   {
    "duration": 16,
    "start_time": "2023-06-30T05:15:28.095Z"
   },
   {
    "duration": 6,
    "start_time": "2023-06-30T05:15:28.113Z"
   },
   {
    "duration": 18,
    "start_time": "2023-06-30T05:15:28.120Z"
   },
   {
    "duration": 7,
    "start_time": "2023-06-30T05:15:28.141Z"
   },
   {
    "duration": 9,
    "start_time": "2023-06-30T05:15:28.149Z"
   },
   {
    "duration": 71,
    "start_time": "2023-06-30T05:15:28.160Z"
   },
   {
    "duration": 71,
    "start_time": "2023-06-30T05:15:28.232Z"
   },
   {
    "duration": 4,
    "start_time": "2023-06-30T05:15:28.304Z"
   },
   {
    "duration": 742,
    "start_time": "2023-06-30T05:15:28.309Z"
   },
   {
    "duration": 232,
    "start_time": "2023-06-30T05:15:29.053Z"
   },
   {
    "duration": 190,
    "start_time": "2023-06-30T05:15:29.287Z"
   },
   {
    "duration": 268,
    "start_time": "2023-06-30T05:15:29.478Z"
   },
   {
    "duration": 5,
    "start_time": "2023-06-30T05:15:29.748Z"
   },
   {
    "duration": 10,
    "start_time": "2023-06-30T05:15:29.757Z"
   },
   {
    "duration": 10,
    "start_time": "2023-06-30T05:15:29.769Z"
   }
  ],
  "kernelspec": {
   "display_name": "Python 3 (ipykernel)",
   "language": "python",
   "name": "python3"
  },
  "language_info": {
   "codemirror_mode": {
    "name": "ipython",
    "version": 3
   },
   "file_extension": ".py",
   "mimetype": "text/x-python",
   "name": "python",
   "nbconvert_exporter": "python",
   "pygments_lexer": "ipython3",
   "version": "3.9.7"
  },
  "toc": {
   "base_numbering": 1,
   "nav_menu": {
    "height": "210px",
    "width": "237px"
   },
   "number_sections": false,
   "sideBar": true,
   "skip_h1_title": false,
   "title_cell": "Содержание",
   "title_sidebar": "Contents",
   "toc_cell": true,
   "toc_position": {
    "height": "calc(100% - 180px)",
    "left": "10px",
    "top": "150px",
    "width": "165px"
   },
   "toc_section_display": true,
   "toc_window_display": true
  }
 },
 "nbformat": 4,
 "nbformat_minor": 5
}
