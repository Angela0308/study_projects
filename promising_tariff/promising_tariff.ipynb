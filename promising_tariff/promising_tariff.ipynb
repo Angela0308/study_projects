{
 "cells": [
  {
   "cell_type": "markdown",
   "metadata": {},
   "source": [
    "# Определение перспективного тарифа для телеком-компании"
   ]
  },
  {
   "cell_type": "markdown",
   "metadata": {},
   "source": [
    "## Описание проекта\n",
    "Предстоит сделать предварительный анализ тарифов на небольшой выборке клиентов. В распоряжении данные 500 пользователей «Мегалайна»: кто они, откуда, каким тарифом пользуются, сколько звонков и сообщений каждый отправил за 2018 год. Компания предлагает клиентам два тарифных плана: «Смарт» и «Ультра». Чтобы скорректировать рекламный бюджет, коммерческий департамент хочет понять, какой тариф приносит больше денег. Нужно проанализировать поведение клиентов и сделать вывод — какой тариф лучше.\n",
    "\n",
    "### Описание тарифов\n",
    "#### Тариф «Смарт»\n",
    "1. Ежемесячная плата: 550 рублей\n",
    "2. Включено 500 минут разговора, 50 сообщений и 15 Гб интернет-трафика\n",
    "3. Стоимость услуг сверх тарифного пакета:\n",
    "   - минута разговора: 3 рубля\n",
    "   - сообщение: 3 рубля\n",
    "   - 1 Гб интернет-трафика: 200 рублей\n",
    "   \n",
    "#### Тариф «Ультра»\n",
    "1. Ежемесячная плата: 1950 рублей\n",
    "2. Включено 3000 минут разговора, 1000 сообщений и 30 Гб интернет-трафика\n",
    "3. Стоимость услуг сверх тарифного пакета:\n",
    "   - минута разговора: 1 рубль\n",
    "   - сообщение: 1 рубль\n",
    "   - 1 Гб интернет-трафика: 150 рублей\n",
    "   \n",
    "#### Примечание:\n",
    "«Мегалайн» всегда округляет секунды до минут, а мегабайты — до гигабайт. Каждый звонок округляется отдельно: даже если он длился всего 1 секунду, будет засчитан как 1 минута.\n",
    "Для веб-трафика отдельные сессии не считаются. Вместо этого общая сумма за месяц округляется в бо́льшую сторону. Если абонент использует 1025 мегабайт в этом месяце, с него возьмут плату за 2 гигабайта.\n",
    "\n",
    "### План работы\n",
    "1. Изучить общую информацию\n",
    "2. Подготовить данные\n",
    "   - Привести данные к нужным типам;\n",
    "   - Найти и исправить ошибки в данных, если они есть;\n",
    "   - Определить и добавить необходимые в работе дополнительные расчеты.\n",
    "3. Проанализировать данные\n",
    "4. Проверить гипотезы\n",
    "   - средняя выручка пользователей тарифов «Ультра» и «Смарт» различаются;\n",
    "   - средняя выручка пользователей из Москвы отличается от выручки пользователей из других регионов.\n",
    "5. Подготовить общий вывод\n",
    "\n",
    "### Описание данных\n",
    "#### Таблица users (информация о пользователях):\n",
    "- `user_id` — уникальный идентификатор пользователя\n",
    "- `first_name` — имя пользователя\n",
    "- `last_name` — фамилия пользователя\n",
    "- `age` — возраст пользователя (годы)\n",
    "- `reg_date` — дата подключения тарифа (день, месяц, год)\n",
    "- `churn_date` — дата прекращения пользования тарифом (если значение пропущено, то тариф ещё действовал на момент выгрузки данных)\n",
    "- `city` — город проживания пользователя\n",
    "- `tariff` — название тарифного плана\n",
    "#### Таблица calls (информация о звонках):\n",
    "- `id` — уникальный номер звонка\n",
    "- `call_date` — дата звонка\n",
    "- `duration` — длительность звонка в минутах\n",
    "- `user_id` — идентификатор пользователя, сделавшего звонок\n",
    "#### Таблица messages (информация о сообщениях):\n",
    "- `id` — уникальный номер сообщения\n",
    "- `message_date` — дата сообщения\n",
    "- `user_id` — идентификатор пользователя, отправившего сообщение\n",
    "#### Таблица internet (информация об интернет-сессиях):\n",
    "- `id` — уникальный номер сессии\n",
    "- `mb_used` — объём потраченного за сессию интернет-трафика (в мегабайтах)\n",
    "- `session`_date — дата интернет-сессии\n",
    "- `user_id` — идентификатор пользователя\n",
    "#### Таблица tariffs (информация о тарифах):\n",
    "- `tariff_name` — название тарифа\n",
    "- `rub_monthly_fee` — ежемесячная абонентская плата в рублях\n",
    "- `minutes_included` — количество минут разговора в месяц, включённых в абонентскую плату\n",
    "- `messages_included` — количество сообщений в месяц, включённых в абонентскую плату\n",
    "- `mb_per_month_included` — объём интернет-трафика, включённого в абонентскую плату (в мегабайтах)\n",
    "- `rub_per_minute` — стоимость минуты разговора сверх тарифного пакета (например, если в тарифе 100 минут разговора в месяц, то со 101 минуты будет взиматься плата)\n",
    "- `rub_per_message` — стоимость отправки сообщения сверх тарифного пакета\n",
    "- `rub_per_gb` — стоимость дополнительного гигабайта интернет-трафика сверх тарифного пакета (1 гигабайт = 1024 мегабайта)"
   ]
  },
  {
   "cell_type": "markdown",
   "metadata": {},
   "source": [
    "## Обзор данных"
   ]
  },
  {
   "cell_type": "code",
   "execution_count": 1,
   "metadata": {},
   "outputs": [],
   "source": [
    "# импорт библиотек\n",
    "import pandas as pd\n",
    "import numpy as np\n",
    "from scipy import stats as st"
   ]
  },
  {
   "cell_type": "code",
   "execution_count": 2,
   "metadata": {},
   "outputs": [],
   "source": [
    "# загружаю данные\n",
    "calls = pd.read_csv('calls.csv')\n",
    "internet = pd.read_csv('internet.csv', index_col=0)\n",
    "messages = pd.read_csv('messages.csv')\n",
    "tariffs = pd.read_csv('tariffs.csv')\n",
    "users = pd.read_csv('users.csv')"
   ]
  },
  {
   "cell_type": "code",
   "execution_count": 3,
   "metadata": {},
   "outputs": [
    {
     "data": {
      "text/html": [
       "<div>\n",
       "<style scoped>\n",
       "    .dataframe tbody tr th:only-of-type {\n",
       "        vertical-align: middle;\n",
       "    }\n",
       "\n",
       "    .dataframe tbody tr th {\n",
       "        vertical-align: top;\n",
       "    }\n",
       "\n",
       "    .dataframe thead th {\n",
       "        text-align: right;\n",
       "    }\n",
       "</style>\n",
       "<table border=\"1\" class=\"dataframe\">\n",
       "  <thead>\n",
       "    <tr style=\"text-align: right;\">\n",
       "      <th></th>\n",
       "      <th>id</th>\n",
       "      <th>call_date</th>\n",
       "      <th>duration</th>\n",
       "      <th>user_id</th>\n",
       "    </tr>\n",
       "  </thead>\n",
       "  <tbody>\n",
       "    <tr>\n",
       "      <th>0</th>\n",
       "      <td>1000_0</td>\n",
       "      <td>2018-07-25</td>\n",
       "      <td>0.00</td>\n",
       "      <td>1000</td>\n",
       "    </tr>\n",
       "    <tr>\n",
       "      <th>1</th>\n",
       "      <td>1000_1</td>\n",
       "      <td>2018-08-17</td>\n",
       "      <td>0.00</td>\n",
       "      <td>1000</td>\n",
       "    </tr>\n",
       "    <tr>\n",
       "      <th>2</th>\n",
       "      <td>1000_2</td>\n",
       "      <td>2018-06-11</td>\n",
       "      <td>2.85</td>\n",
       "      <td>1000</td>\n",
       "    </tr>\n",
       "    <tr>\n",
       "      <th>3</th>\n",
       "      <td>1000_3</td>\n",
       "      <td>2018-09-21</td>\n",
       "      <td>13.80</td>\n",
       "      <td>1000</td>\n",
       "    </tr>\n",
       "    <tr>\n",
       "      <th>4</th>\n",
       "      <td>1000_4</td>\n",
       "      <td>2018-12-15</td>\n",
       "      <td>5.18</td>\n",
       "      <td>1000</td>\n",
       "    </tr>\n",
       "  </tbody>\n",
       "</table>\n",
       "</div>"
      ],
      "text/plain": [
       "       id   call_date  duration  user_id\n",
       "0  1000_0  2018-07-25      0.00     1000\n",
       "1  1000_1  2018-08-17      0.00     1000\n",
       "2  1000_2  2018-06-11      2.85     1000\n",
       "3  1000_3  2018-09-21     13.80     1000\n",
       "4  1000_4  2018-12-15      5.18     1000"
      ]
     },
     "metadata": {},
     "output_type": "display_data"
    },
    {
     "name": "stdout",
     "output_type": "stream",
     "text": [
      "<class 'pandas.core.frame.DataFrame'>\n",
      "RangeIndex: 202607 entries, 0 to 202606\n",
      "Data columns (total 4 columns):\n",
      " #   Column     Non-Null Count   Dtype  \n",
      "---  ------     --------------   -----  \n",
      " 0   id         202607 non-null  object \n",
      " 1   call_date  202607 non-null  object \n",
      " 2   duration   202607 non-null  float64\n",
      " 3   user_id    202607 non-null  int64  \n",
      "dtypes: float64(1), int64(1), object(2)\n",
      "memory usage: 6.2+ MB\n"
     ]
    }
   ],
   "source": [
    "display(calls.head())\n",
    "calls.info()  "
   ]
  },
  {
   "cell_type": "code",
   "execution_count": 4,
   "metadata": {},
   "outputs": [
    {
     "data": {
      "text/html": [
       "<div>\n",
       "<style scoped>\n",
       "    .dataframe tbody tr th:only-of-type {\n",
       "        vertical-align: middle;\n",
       "    }\n",
       "\n",
       "    .dataframe tbody tr th {\n",
       "        vertical-align: top;\n",
       "    }\n",
       "\n",
       "    .dataframe thead th {\n",
       "        text-align: right;\n",
       "    }\n",
       "</style>\n",
       "<table border=\"1\" class=\"dataframe\">\n",
       "  <thead>\n",
       "    <tr style=\"text-align: right;\">\n",
       "      <th></th>\n",
       "      <th>id</th>\n",
       "      <th>mb_used</th>\n",
       "      <th>session_date</th>\n",
       "      <th>user_id</th>\n",
       "    </tr>\n",
       "  </thead>\n",
       "  <tbody>\n",
       "    <tr>\n",
       "      <th>0</th>\n",
       "      <td>1000_0</td>\n",
       "      <td>112.95</td>\n",
       "      <td>2018-11-25</td>\n",
       "      <td>1000</td>\n",
       "    </tr>\n",
       "    <tr>\n",
       "      <th>1</th>\n",
       "      <td>1000_1</td>\n",
       "      <td>1052.81</td>\n",
       "      <td>2018-09-07</td>\n",
       "      <td>1000</td>\n",
       "    </tr>\n",
       "    <tr>\n",
       "      <th>2</th>\n",
       "      <td>1000_2</td>\n",
       "      <td>1197.26</td>\n",
       "      <td>2018-06-25</td>\n",
       "      <td>1000</td>\n",
       "    </tr>\n",
       "    <tr>\n",
       "      <th>3</th>\n",
       "      <td>1000_3</td>\n",
       "      <td>550.27</td>\n",
       "      <td>2018-08-22</td>\n",
       "      <td>1000</td>\n",
       "    </tr>\n",
       "    <tr>\n",
       "      <th>4</th>\n",
       "      <td>1000_4</td>\n",
       "      <td>302.56</td>\n",
       "      <td>2018-09-24</td>\n",
       "      <td>1000</td>\n",
       "    </tr>\n",
       "  </tbody>\n",
       "</table>\n",
       "</div>"
      ],
      "text/plain": [
       "       id  mb_used session_date  user_id\n",
       "0  1000_0   112.95   2018-11-25     1000\n",
       "1  1000_1  1052.81   2018-09-07     1000\n",
       "2  1000_2  1197.26   2018-06-25     1000\n",
       "3  1000_3   550.27   2018-08-22     1000\n",
       "4  1000_4   302.56   2018-09-24     1000"
      ]
     },
     "metadata": {},
     "output_type": "display_data"
    },
    {
     "name": "stdout",
     "output_type": "stream",
     "text": [
      "<class 'pandas.core.frame.DataFrame'>\n",
      "Int64Index: 149396 entries, 0 to 149395\n",
      "Data columns (total 4 columns):\n",
      " #   Column        Non-Null Count   Dtype  \n",
      "---  ------        --------------   -----  \n",
      " 0   id            149396 non-null  object \n",
      " 1   mb_used       149396 non-null  float64\n",
      " 2   session_date  149396 non-null  object \n",
      " 3   user_id       149396 non-null  int64  \n",
      "dtypes: float64(1), int64(1), object(2)\n",
      "memory usage: 5.7+ MB\n"
     ]
    }
   ],
   "source": [
    "display(internet.head())\n",
    "internet.info()"
   ]
  },
  {
   "cell_type": "code",
   "execution_count": 5,
   "metadata": {},
   "outputs": [
    {
     "data": {
      "text/html": [
       "<div>\n",
       "<style scoped>\n",
       "    .dataframe tbody tr th:only-of-type {\n",
       "        vertical-align: middle;\n",
       "    }\n",
       "\n",
       "    .dataframe tbody tr th {\n",
       "        vertical-align: top;\n",
       "    }\n",
       "\n",
       "    .dataframe thead th {\n",
       "        text-align: right;\n",
       "    }\n",
       "</style>\n",
       "<table border=\"1\" class=\"dataframe\">\n",
       "  <thead>\n",
       "    <tr style=\"text-align: right;\">\n",
       "      <th></th>\n",
       "      <th>id</th>\n",
       "      <th>message_date</th>\n",
       "      <th>user_id</th>\n",
       "    </tr>\n",
       "  </thead>\n",
       "  <tbody>\n",
       "    <tr>\n",
       "      <th>0</th>\n",
       "      <td>1000_0</td>\n",
       "      <td>2018-06-27</td>\n",
       "      <td>1000</td>\n",
       "    </tr>\n",
       "    <tr>\n",
       "      <th>1</th>\n",
       "      <td>1000_1</td>\n",
       "      <td>2018-10-08</td>\n",
       "      <td>1000</td>\n",
       "    </tr>\n",
       "    <tr>\n",
       "      <th>2</th>\n",
       "      <td>1000_2</td>\n",
       "      <td>2018-08-04</td>\n",
       "      <td>1000</td>\n",
       "    </tr>\n",
       "    <tr>\n",
       "      <th>3</th>\n",
       "      <td>1000_3</td>\n",
       "      <td>2018-06-16</td>\n",
       "      <td>1000</td>\n",
       "    </tr>\n",
       "    <tr>\n",
       "      <th>4</th>\n",
       "      <td>1000_4</td>\n",
       "      <td>2018-12-05</td>\n",
       "      <td>1000</td>\n",
       "    </tr>\n",
       "  </tbody>\n",
       "</table>\n",
       "</div>"
      ],
      "text/plain": [
       "       id message_date  user_id\n",
       "0  1000_0   2018-06-27     1000\n",
       "1  1000_1   2018-10-08     1000\n",
       "2  1000_2   2018-08-04     1000\n",
       "3  1000_3   2018-06-16     1000\n",
       "4  1000_4   2018-12-05     1000"
      ]
     },
     "metadata": {},
     "output_type": "display_data"
    },
    {
     "name": "stdout",
     "output_type": "stream",
     "text": [
      "<class 'pandas.core.frame.DataFrame'>\n",
      "RangeIndex: 123036 entries, 0 to 123035\n",
      "Data columns (total 3 columns):\n",
      " #   Column        Non-Null Count   Dtype \n",
      "---  ------        --------------   ----- \n",
      " 0   id            123036 non-null  object\n",
      " 1   message_date  123036 non-null  object\n",
      " 2   user_id       123036 non-null  int64 \n",
      "dtypes: int64(1), object(2)\n",
      "memory usage: 2.8+ MB\n"
     ]
    }
   ],
   "source": [
    "display(messages.head())\n",
    "messages.info()"
   ]
  },
  {
   "cell_type": "code",
   "execution_count": 6,
   "metadata": {},
   "outputs": [
    {
     "data": {
      "text/html": [
       "<div>\n",
       "<style scoped>\n",
       "    .dataframe tbody tr th:only-of-type {\n",
       "        vertical-align: middle;\n",
       "    }\n",
       "\n",
       "    .dataframe tbody tr th {\n",
       "        vertical-align: top;\n",
       "    }\n",
       "\n",
       "    .dataframe thead th {\n",
       "        text-align: right;\n",
       "    }\n",
       "</style>\n",
       "<table border=\"1\" class=\"dataframe\">\n",
       "  <thead>\n",
       "    <tr style=\"text-align: right;\">\n",
       "      <th></th>\n",
       "      <th>messages_included</th>\n",
       "      <th>mb_per_month_included</th>\n",
       "      <th>minutes_included</th>\n",
       "      <th>rub_monthly_fee</th>\n",
       "      <th>rub_per_gb</th>\n",
       "      <th>rub_per_message</th>\n",
       "      <th>rub_per_minute</th>\n",
       "      <th>tariff_name</th>\n",
       "    </tr>\n",
       "  </thead>\n",
       "  <tbody>\n",
       "    <tr>\n",
       "      <th>0</th>\n",
       "      <td>50</td>\n",
       "      <td>15360</td>\n",
       "      <td>500</td>\n",
       "      <td>550</td>\n",
       "      <td>200</td>\n",
       "      <td>3</td>\n",
       "      <td>3</td>\n",
       "      <td>smart</td>\n",
       "    </tr>\n",
       "    <tr>\n",
       "      <th>1</th>\n",
       "      <td>1000</td>\n",
       "      <td>30720</td>\n",
       "      <td>3000</td>\n",
       "      <td>1950</td>\n",
       "      <td>150</td>\n",
       "      <td>1</td>\n",
       "      <td>1</td>\n",
       "      <td>ultra</td>\n",
       "    </tr>\n",
       "  </tbody>\n",
       "</table>\n",
       "</div>"
      ],
      "text/plain": [
       "   messages_included  mb_per_month_included  minutes_included  \\\n",
       "0                 50                  15360               500   \n",
       "1               1000                  30720              3000   \n",
       "\n",
       "   rub_monthly_fee  rub_per_gb  rub_per_message  rub_per_minute tariff_name  \n",
       "0              550         200                3               3       smart  \n",
       "1             1950         150                1               1       ultra  "
      ]
     },
     "metadata": {},
     "output_type": "display_data"
    },
    {
     "name": "stdout",
     "output_type": "stream",
     "text": [
      "<class 'pandas.core.frame.DataFrame'>\n",
      "RangeIndex: 2 entries, 0 to 1\n",
      "Data columns (total 8 columns):\n",
      " #   Column                 Non-Null Count  Dtype \n",
      "---  ------                 --------------  ----- \n",
      " 0   messages_included      2 non-null      int64 \n",
      " 1   mb_per_month_included  2 non-null      int64 \n",
      " 2   minutes_included       2 non-null      int64 \n",
      " 3   rub_monthly_fee        2 non-null      int64 \n",
      " 4   rub_per_gb             2 non-null      int64 \n",
      " 5   rub_per_message        2 non-null      int64 \n",
      " 6   rub_per_minute         2 non-null      int64 \n",
      " 7   tariff_name            2 non-null      object\n",
      "dtypes: int64(7), object(1)\n",
      "memory usage: 256.0+ bytes\n"
     ]
    }
   ],
   "source": [
    "display(tariffs)\n",
    "tariffs.info()"
   ]
  },
  {
   "cell_type": "code",
   "execution_count": 7,
   "metadata": {},
   "outputs": [
    {
     "data": {
      "text/html": [
       "<div>\n",
       "<style scoped>\n",
       "    .dataframe tbody tr th:only-of-type {\n",
       "        vertical-align: middle;\n",
       "    }\n",
       "\n",
       "    .dataframe tbody tr th {\n",
       "        vertical-align: top;\n",
       "    }\n",
       "\n",
       "    .dataframe thead th {\n",
       "        text-align: right;\n",
       "    }\n",
       "</style>\n",
       "<table border=\"1\" class=\"dataframe\">\n",
       "  <thead>\n",
       "    <tr style=\"text-align: right;\">\n",
       "      <th></th>\n",
       "      <th>user_id</th>\n",
       "      <th>age</th>\n",
       "      <th>churn_date</th>\n",
       "      <th>city</th>\n",
       "      <th>first_name</th>\n",
       "      <th>last_name</th>\n",
       "      <th>reg_date</th>\n",
       "      <th>tariff</th>\n",
       "    </tr>\n",
       "  </thead>\n",
       "  <tbody>\n",
       "    <tr>\n",
       "      <th>0</th>\n",
       "      <td>1000</td>\n",
       "      <td>52</td>\n",
       "      <td>NaN</td>\n",
       "      <td>Краснодар</td>\n",
       "      <td>Рафаил</td>\n",
       "      <td>Верещагин</td>\n",
       "      <td>2018-05-25</td>\n",
       "      <td>ultra</td>\n",
       "    </tr>\n",
       "    <tr>\n",
       "      <th>1</th>\n",
       "      <td>1001</td>\n",
       "      <td>41</td>\n",
       "      <td>NaN</td>\n",
       "      <td>Москва</td>\n",
       "      <td>Иван</td>\n",
       "      <td>Ежов</td>\n",
       "      <td>2018-11-01</td>\n",
       "      <td>smart</td>\n",
       "    </tr>\n",
       "    <tr>\n",
       "      <th>2</th>\n",
       "      <td>1002</td>\n",
       "      <td>59</td>\n",
       "      <td>NaN</td>\n",
       "      <td>Стерлитамак</td>\n",
       "      <td>Евгений</td>\n",
       "      <td>Абрамович</td>\n",
       "      <td>2018-06-17</td>\n",
       "      <td>smart</td>\n",
       "    </tr>\n",
       "    <tr>\n",
       "      <th>3</th>\n",
       "      <td>1003</td>\n",
       "      <td>23</td>\n",
       "      <td>NaN</td>\n",
       "      <td>Москва</td>\n",
       "      <td>Белла</td>\n",
       "      <td>Белякова</td>\n",
       "      <td>2018-08-17</td>\n",
       "      <td>ultra</td>\n",
       "    </tr>\n",
       "    <tr>\n",
       "      <th>4</th>\n",
       "      <td>1004</td>\n",
       "      <td>68</td>\n",
       "      <td>NaN</td>\n",
       "      <td>Новокузнецк</td>\n",
       "      <td>Татьяна</td>\n",
       "      <td>Авдеенко</td>\n",
       "      <td>2018-05-14</td>\n",
       "      <td>ultra</td>\n",
       "    </tr>\n",
       "  </tbody>\n",
       "</table>\n",
       "</div>"
      ],
      "text/plain": [
       "   user_id  age churn_date         city first_name  last_name    reg_date  \\\n",
       "0     1000   52        NaN    Краснодар     Рафаил  Верещагин  2018-05-25   \n",
       "1     1001   41        NaN       Москва       Иван       Ежов  2018-11-01   \n",
       "2     1002   59        NaN  Стерлитамак    Евгений  Абрамович  2018-06-17   \n",
       "3     1003   23        NaN       Москва      Белла   Белякова  2018-08-17   \n",
       "4     1004   68        NaN  Новокузнецк    Татьяна   Авдеенко  2018-05-14   \n",
       "\n",
       "  tariff  \n",
       "0  ultra  \n",
       "1  smart  \n",
       "2  smart  \n",
       "3  ultra  \n",
       "4  ultra  "
      ]
     },
     "metadata": {},
     "output_type": "display_data"
    },
    {
     "name": "stdout",
     "output_type": "stream",
     "text": [
      "<class 'pandas.core.frame.DataFrame'>\n",
      "RangeIndex: 500 entries, 0 to 499\n",
      "Data columns (total 8 columns):\n",
      " #   Column      Non-Null Count  Dtype \n",
      "---  ------      --------------  ----- \n",
      " 0   user_id     500 non-null    int64 \n",
      " 1   age         500 non-null    int64 \n",
      " 2   churn_date  38 non-null     object\n",
      " 3   city        500 non-null    object\n",
      " 4   first_name  500 non-null    object\n",
      " 5   last_name   500 non-null    object\n",
      " 6   reg_date    500 non-null    object\n",
      " 7   tariff      500 non-null    object\n",
      "dtypes: int64(2), object(6)\n",
      "memory usage: 31.4+ KB\n"
     ]
    }
   ],
   "source": [
    "display(users.head())\n",
    "users.info()"
   ]
  },
  {
   "cell_type": "code",
   "execution_count": 8,
   "metadata": {},
   "outputs": [
    {
     "data": {
      "text/plain": [
       "0"
      ]
     },
     "metadata": {},
     "output_type": "display_data"
    },
    {
     "data": {
      "text/plain": [
       "0"
      ]
     },
     "metadata": {},
     "output_type": "display_data"
    },
    {
     "data": {
      "text/plain": [
       "0"
      ]
     },
     "metadata": {},
     "output_type": "display_data"
    },
    {
     "data": {
      "text/plain": [
       "0"
      ]
     },
     "metadata": {},
     "output_type": "display_data"
    }
   ],
   "source": [
    "display(calls.duplicated().sum())\n",
    "display(internet.duplicated().sum())\n",
    "display(messages.duplicated().sum())\n",
    "display(users.duplicated().sum())"
   ]
  },
  {
   "cell_type": "markdown",
   "metadata": {},
   "source": [
    "### Вывод:\n",
    "Пропущенных значений и дубликатов не обнаружено. Так как компания всегда округляет секунды до минут отдельно по каждому звонку, то необходимо сразу округлить значения в duration таблицы calls. Также потребуется изменить типы данных:\n",
    "* call_date в calls с object на datetime64\n",
    "* session_date в internet с object на datetime64\n",
    "* message_date в messages с object на datetime64\n",
    "* churn_date в users с object на datetime64"
   ]
  },
  {
   "cell_type": "markdown",
   "metadata": {},
   "source": [
    "## Подготовка данных"
   ]
  },
  {
   "cell_type": "code",
   "execution_count": 9,
   "metadata": {
    "scrolled": true
   },
   "outputs": [],
   "source": [
    "# округляю продолжительность\n",
    "calls['duration'] = np.ceil(calls['duration'])"
   ]
  },
  {
   "cell_type": "code",
   "execution_count": 10,
   "metadata": {},
   "outputs": [],
   "source": [
    "# меняю типы данных\n",
    "calls['call_date'] = pd.to_datetime(calls['call_date'], format='%Y-%m-%d')\n",
    "internet['session_date'] = pd.to_datetime(internet['session_date'], format='%Y-%m-%d')\n",
    "messages['message_date'] = pd.to_datetime(messages['message_date'], format='%Y-%m-%d')\n",
    "users['churn_date'] = pd.to_datetime(users['churn_date'], format='%Y-%m-%d')"
   ]
  },
  {
   "cell_type": "code",
   "execution_count": 11,
   "metadata": {},
   "outputs": [
    {
     "data": {
      "text/html": [
       "<div>\n",
       "<style scoped>\n",
       "    .dataframe tbody tr th:only-of-type {\n",
       "        vertical-align: middle;\n",
       "    }\n",
       "\n",
       "    .dataframe tbody tr th {\n",
       "        vertical-align: top;\n",
       "    }\n",
       "\n",
       "    .dataframe thead th {\n",
       "        text-align: right;\n",
       "    }\n",
       "</style>\n",
       "<table border=\"1\" class=\"dataframe\">\n",
       "  <thead>\n",
       "    <tr style=\"text-align: right;\">\n",
       "      <th></th>\n",
       "      <th>user_id</th>\n",
       "      <th>age</th>\n",
       "      <th>churn_date</th>\n",
       "      <th>city</th>\n",
       "      <th>first_name</th>\n",
       "      <th>last_name</th>\n",
       "      <th>reg_date</th>\n",
       "      <th>tariff</th>\n",
       "    </tr>\n",
       "  </thead>\n",
       "  <tbody>\n",
       "  </tbody>\n",
       "</table>\n",
       "</div>"
      ],
      "text/plain": [
       "Empty DataFrame\n",
       "Columns: [user_id, age, churn_date, city, first_name, last_name, reg_date, tariff]\n",
       "Index: []"
      ]
     },
     "metadata": {},
     "output_type": "display_data"
    },
    {
     "data": {
      "text/plain": [
       "smart    351\n",
       "ultra    149\n",
       "Name: tariff, dtype: int64"
      ]
     },
     "execution_count": 11,
     "metadata": {},
     "output_type": "execute_result"
    }
   ],
   "source": [
    "# проверяю данные о тарифах и возрасте\n",
    "display(users.query('age < 18'))\n",
    "users['tariff'].value_counts()"
   ]
  },
  {
   "cell_type": "markdown",
   "metadata": {},
   "source": [
    "### Вывод\n",
    "Столбцы содержащие даты приведены к формату datetime64. Продолжительность звонков округлена до целых минут согласно условиям оплаты. Все пользователи совершеннолетние, тарифы только те, что являются предметом исследования, то есть каких-либо ошибок в данных не обнаружено.\n",
    "\n",
    "Для дальнейшей работы потребуются дополнительные данные по каждому пользователю, а именно:\n",
    "* количество сделанных звонков по месяцам\n",
    "* количество израсходованных минут разговора по месяцам\n",
    "* количество отправленных сообщений по месяцам\n",
    "* объем израсходованного интернет-трафика по месяцам\n",
    "* помесячную выручку с каждого пользователя"
   ]
  },
  {
   "cell_type": "code",
   "execution_count": 12,
   "metadata": {},
   "outputs": [
    {
     "data": {
      "text/html": [
       "<div>\n",
       "<style scoped>\n",
       "    .dataframe tbody tr th:only-of-type {\n",
       "        vertical-align: middle;\n",
       "    }\n",
       "\n",
       "    .dataframe tbody tr th {\n",
       "        vertical-align: top;\n",
       "    }\n",
       "\n",
       "    .dataframe thead th {\n",
       "        text-align: right;\n",
       "    }\n",
       "</style>\n",
       "<table border=\"1\" class=\"dataframe\">\n",
       "  <thead>\n",
       "    <tr style=\"text-align: right;\">\n",
       "      <th></th>\n",
       "      <th>id</th>\n",
       "      <th>call_date</th>\n",
       "      <th>duration</th>\n",
       "      <th>user_id</th>\n",
       "      <th>month</th>\n",
       "    </tr>\n",
       "  </thead>\n",
       "  <tbody>\n",
       "    <tr>\n",
       "      <th>0</th>\n",
       "      <td>1000_0</td>\n",
       "      <td>2018-07-25</td>\n",
       "      <td>0.0</td>\n",
       "      <td>1000</td>\n",
       "      <td>7</td>\n",
       "    </tr>\n",
       "    <tr>\n",
       "      <th>1</th>\n",
       "      <td>1000_1</td>\n",
       "      <td>2018-08-17</td>\n",
       "      <td>0.0</td>\n",
       "      <td>1000</td>\n",
       "      <td>8</td>\n",
       "    </tr>\n",
       "    <tr>\n",
       "      <th>2</th>\n",
       "      <td>1000_2</td>\n",
       "      <td>2018-06-11</td>\n",
       "      <td>3.0</td>\n",
       "      <td>1000</td>\n",
       "      <td>6</td>\n",
       "    </tr>\n",
       "    <tr>\n",
       "      <th>3</th>\n",
       "      <td>1000_3</td>\n",
       "      <td>2018-09-21</td>\n",
       "      <td>14.0</td>\n",
       "      <td>1000</td>\n",
       "      <td>9</td>\n",
       "    </tr>\n",
       "    <tr>\n",
       "      <th>4</th>\n",
       "      <td>1000_4</td>\n",
       "      <td>2018-12-15</td>\n",
       "      <td>6.0</td>\n",
       "      <td>1000</td>\n",
       "      <td>12</td>\n",
       "    </tr>\n",
       "  </tbody>\n",
       "</table>\n",
       "</div>"
      ],
      "text/plain": [
       "       id  call_date  duration  user_id  month\n",
       "0  1000_0 2018-07-25       0.0     1000      7\n",
       "1  1000_1 2018-08-17       0.0     1000      8\n",
       "2  1000_2 2018-06-11       3.0     1000      6\n",
       "3  1000_3 2018-09-21      14.0     1000      9\n",
       "4  1000_4 2018-12-15       6.0     1000     12"
      ]
     },
     "execution_count": 12,
     "metadata": {},
     "output_type": "execute_result"
    }
   ],
   "source": [
    "calls['month'] = pd.DatetimeIndex(calls['call_date']).month\n",
    "calls.head()"
   ]
  },
  {
   "cell_type": "code",
   "execution_count": 13,
   "metadata": {},
   "outputs": [
    {
     "data": {
      "text/html": [
       "<div>\n",
       "<style scoped>\n",
       "    .dataframe tbody tr th:only-of-type {\n",
       "        vertical-align: middle;\n",
       "    }\n",
       "\n",
       "    .dataframe tbody tr th {\n",
       "        vertical-align: top;\n",
       "    }\n",
       "\n",
       "    .dataframe thead th {\n",
       "        text-align: right;\n",
       "    }\n",
       "</style>\n",
       "<table border=\"1\" class=\"dataframe\">\n",
       "  <thead>\n",
       "    <tr style=\"text-align: right;\">\n",
       "      <th></th>\n",
       "      <th>user_id</th>\n",
       "      <th>month</th>\n",
       "      <th>calls_total</th>\n",
       "      <th>calls_duration</th>\n",
       "    </tr>\n",
       "  </thead>\n",
       "  <tbody>\n",
       "    <tr>\n",
       "      <th>0</th>\n",
       "      <td>1000</td>\n",
       "      <td>5</td>\n",
       "      <td>22</td>\n",
       "      <td>159.0</td>\n",
       "    </tr>\n",
       "    <tr>\n",
       "      <th>1</th>\n",
       "      <td>1000</td>\n",
       "      <td>6</td>\n",
       "      <td>43</td>\n",
       "      <td>172.0</td>\n",
       "    </tr>\n",
       "    <tr>\n",
       "      <th>2</th>\n",
       "      <td>1000</td>\n",
       "      <td>7</td>\n",
       "      <td>47</td>\n",
       "      <td>340.0</td>\n",
       "    </tr>\n",
       "    <tr>\n",
       "      <th>3</th>\n",
       "      <td>1000</td>\n",
       "      <td>8</td>\n",
       "      <td>52</td>\n",
       "      <td>408.0</td>\n",
       "    </tr>\n",
       "    <tr>\n",
       "      <th>4</th>\n",
       "      <td>1000</td>\n",
       "      <td>9</td>\n",
       "      <td>58</td>\n",
       "      <td>466.0</td>\n",
       "    </tr>\n",
       "    <tr>\n",
       "      <th>5</th>\n",
       "      <td>1000</td>\n",
       "      <td>10</td>\n",
       "      <td>57</td>\n",
       "      <td>350.0</td>\n",
       "    </tr>\n",
       "    <tr>\n",
       "      <th>6</th>\n",
       "      <td>1000</td>\n",
       "      <td>11</td>\n",
       "      <td>43</td>\n",
       "      <td>338.0</td>\n",
       "    </tr>\n",
       "    <tr>\n",
       "      <th>7</th>\n",
       "      <td>1000</td>\n",
       "      <td>12</td>\n",
       "      <td>46</td>\n",
       "      <td>333.0</td>\n",
       "    </tr>\n",
       "    <tr>\n",
       "      <th>8</th>\n",
       "      <td>1001</td>\n",
       "      <td>11</td>\n",
       "      <td>59</td>\n",
       "      <td>430.0</td>\n",
       "    </tr>\n",
       "    <tr>\n",
       "      <th>9</th>\n",
       "      <td>1001</td>\n",
       "      <td>12</td>\n",
       "      <td>63</td>\n",
       "      <td>414.0</td>\n",
       "    </tr>\n",
       "    <tr>\n",
       "      <th>10</th>\n",
       "      <td>1002</td>\n",
       "      <td>6</td>\n",
       "      <td>15</td>\n",
       "      <td>117.0</td>\n",
       "    </tr>\n",
       "    <tr>\n",
       "      <th>11</th>\n",
       "      <td>1002</td>\n",
       "      <td>7</td>\n",
       "      <td>26</td>\n",
       "      <td>214.0</td>\n",
       "    </tr>\n",
       "    <tr>\n",
       "      <th>12</th>\n",
       "      <td>1002</td>\n",
       "      <td>8</td>\n",
       "      <td>42</td>\n",
       "      <td>289.0</td>\n",
       "    </tr>\n",
       "    <tr>\n",
       "      <th>13</th>\n",
       "      <td>1002</td>\n",
       "      <td>9</td>\n",
       "      <td>36</td>\n",
       "      <td>206.0</td>\n",
       "    </tr>\n",
       "    <tr>\n",
       "      <th>14</th>\n",
       "      <td>1002</td>\n",
       "      <td>10</td>\n",
       "      <td>33</td>\n",
       "      <td>212.0</td>\n",
       "    </tr>\n",
       "  </tbody>\n",
       "</table>\n",
       "</div>"
      ],
      "text/plain": [
       "    user_id  month  calls_total  calls_duration\n",
       "0      1000      5           22           159.0\n",
       "1      1000      6           43           172.0\n",
       "2      1000      7           47           340.0\n",
       "3      1000      8           52           408.0\n",
       "4      1000      9           58           466.0\n",
       "5      1000     10           57           350.0\n",
       "6      1000     11           43           338.0\n",
       "7      1000     12           46           333.0\n",
       "8      1001     11           59           430.0\n",
       "9      1001     12           63           414.0\n",
       "10     1002      6           15           117.0\n",
       "11     1002      7           26           214.0\n",
       "12     1002      8           42           289.0\n",
       "13     1002      9           36           206.0\n",
       "14     1002     10           33           212.0"
      ]
     },
     "execution_count": 13,
     "metadata": {},
     "output_type": "execute_result"
    }
   ],
   "source": [
    "calls_per_month = calls.pivot_table(index=['user_id', 'month'], values='duration', aggfunc=['count', 'sum']).reset_index()\n",
    "calls_per_month.columns = ['user_id', 'month', 'calls_total', 'calls_duration']\n",
    "calls_per_month.head(15)"
   ]
  },
  {
   "cell_type": "code",
   "execution_count": 14,
   "metadata": {},
   "outputs": [
    {
     "data": {
      "text/html": [
       "<div>\n",
       "<style scoped>\n",
       "    .dataframe tbody tr th:only-of-type {\n",
       "        vertical-align: middle;\n",
       "    }\n",
       "\n",
       "    .dataframe tbody tr th {\n",
       "        vertical-align: top;\n",
       "    }\n",
       "\n",
       "    .dataframe thead th {\n",
       "        text-align: right;\n",
       "    }\n",
       "</style>\n",
       "<table border=\"1\" class=\"dataframe\">\n",
       "  <thead>\n",
       "    <tr style=\"text-align: right;\">\n",
       "      <th></th>\n",
       "      <th>user_id</th>\n",
       "      <th>month</th>\n",
       "      <th>messages_total</th>\n",
       "    </tr>\n",
       "  </thead>\n",
       "  <tbody>\n",
       "    <tr>\n",
       "      <th>0</th>\n",
       "      <td>1000</td>\n",
       "      <td>5</td>\n",
       "      <td>22</td>\n",
       "    </tr>\n",
       "    <tr>\n",
       "      <th>1</th>\n",
       "      <td>1000</td>\n",
       "      <td>6</td>\n",
       "      <td>60</td>\n",
       "    </tr>\n",
       "    <tr>\n",
       "      <th>2</th>\n",
       "      <td>1000</td>\n",
       "      <td>7</td>\n",
       "      <td>75</td>\n",
       "    </tr>\n",
       "    <tr>\n",
       "      <th>3</th>\n",
       "      <td>1000</td>\n",
       "      <td>8</td>\n",
       "      <td>81</td>\n",
       "    </tr>\n",
       "    <tr>\n",
       "      <th>4</th>\n",
       "      <td>1000</td>\n",
       "      <td>9</td>\n",
       "      <td>57</td>\n",
       "    </tr>\n",
       "  </tbody>\n",
       "</table>\n",
       "</div>"
      ],
      "text/plain": [
       "   user_id  month  messages_total\n",
       "0     1000      5              22\n",
       "1     1000      6              60\n",
       "2     1000      7              75\n",
       "3     1000      8              81\n",
       "4     1000      9              57"
      ]
     },
     "execution_count": 14,
     "metadata": {},
     "output_type": "execute_result"
    }
   ],
   "source": [
    "messages['month'] = pd.DatetimeIndex(messages['message_date']).month\n",
    "messages_per_month = messages.pivot_table(index=['user_id', 'month'], values='id', aggfunc='count').reset_index()\n",
    "messages_per_month.columns = ['user_id', 'month', 'messages_total']\n",
    "messages_per_month.head()"
   ]
  },
  {
   "cell_type": "code",
   "execution_count": 15,
   "metadata": {},
   "outputs": [
    {
     "data": {
      "text/html": [
       "<div>\n",
       "<style scoped>\n",
       "    .dataframe tbody tr th:only-of-type {\n",
       "        vertical-align: middle;\n",
       "    }\n",
       "\n",
       "    .dataframe tbody tr th {\n",
       "        vertical-align: top;\n",
       "    }\n",
       "\n",
       "    .dataframe thead th {\n",
       "        text-align: right;\n",
       "    }\n",
       "</style>\n",
       "<table border=\"1\" class=\"dataframe\">\n",
       "  <thead>\n",
       "    <tr style=\"text-align: right;\">\n",
       "      <th></th>\n",
       "      <th>user_id</th>\n",
       "      <th>month</th>\n",
       "      <th>mb_used</th>\n",
       "    </tr>\n",
       "  </thead>\n",
       "  <tbody>\n",
       "    <tr>\n",
       "      <th>0</th>\n",
       "      <td>1000</td>\n",
       "      <td>5</td>\n",
       "      <td>2253.49</td>\n",
       "    </tr>\n",
       "    <tr>\n",
       "      <th>1</th>\n",
       "      <td>1000</td>\n",
       "      <td>6</td>\n",
       "      <td>23233.77</td>\n",
       "    </tr>\n",
       "    <tr>\n",
       "      <th>2</th>\n",
       "      <td>1000</td>\n",
       "      <td>7</td>\n",
       "      <td>14003.64</td>\n",
       "    </tr>\n",
       "    <tr>\n",
       "      <th>3</th>\n",
       "      <td>1000</td>\n",
       "      <td>8</td>\n",
       "      <td>14055.93</td>\n",
       "    </tr>\n",
       "    <tr>\n",
       "      <th>4</th>\n",
       "      <td>1000</td>\n",
       "      <td>9</td>\n",
       "      <td>14568.91</td>\n",
       "    </tr>\n",
       "  </tbody>\n",
       "</table>\n",
       "</div>"
      ],
      "text/plain": [
       "   user_id  month   mb_used\n",
       "0     1000      5   2253.49\n",
       "1     1000      6  23233.77\n",
       "2     1000      7  14003.64\n",
       "3     1000      8  14055.93\n",
       "4     1000      9  14568.91"
      ]
     },
     "execution_count": 15,
     "metadata": {},
     "output_type": "execute_result"
    }
   ],
   "source": [
    "internet['month'] = pd.DatetimeIndex(internet['session_date']).month\n",
    "internet_per_month = internet.pivot_table(index=['user_id', 'month'], values='mb_used', aggfunc='sum').reset_index()\n",
    "internet_per_month.head()"
   ]
  },
  {
   "cell_type": "code",
   "execution_count": 16,
   "metadata": {},
   "outputs": [
    {
     "data": {
      "text/html": [
       "<div>\n",
       "<style scoped>\n",
       "    .dataframe tbody tr th:only-of-type {\n",
       "        vertical-align: middle;\n",
       "    }\n",
       "\n",
       "    .dataframe tbody tr th {\n",
       "        vertical-align: top;\n",
       "    }\n",
       "\n",
       "    .dataframe thead th {\n",
       "        text-align: right;\n",
       "    }\n",
       "</style>\n",
       "<table border=\"1\" class=\"dataframe\">\n",
       "  <thead>\n",
       "    <tr style=\"text-align: right;\">\n",
       "      <th></th>\n",
       "      <th>user_id</th>\n",
       "      <th>month</th>\n",
       "      <th>gb_used</th>\n",
       "    </tr>\n",
       "  </thead>\n",
       "  <tbody>\n",
       "    <tr>\n",
       "      <th>0</th>\n",
       "      <td>1000</td>\n",
       "      <td>5</td>\n",
       "      <td>3.0</td>\n",
       "    </tr>\n",
       "    <tr>\n",
       "      <th>1</th>\n",
       "      <td>1000</td>\n",
       "      <td>6</td>\n",
       "      <td>23.0</td>\n",
       "    </tr>\n",
       "    <tr>\n",
       "      <th>2</th>\n",
       "      <td>1000</td>\n",
       "      <td>7</td>\n",
       "      <td>14.0</td>\n",
       "    </tr>\n",
       "    <tr>\n",
       "      <th>3</th>\n",
       "      <td>1000</td>\n",
       "      <td>8</td>\n",
       "      <td>14.0</td>\n",
       "    </tr>\n",
       "    <tr>\n",
       "      <th>4</th>\n",
       "      <td>1000</td>\n",
       "      <td>9</td>\n",
       "      <td>15.0</td>\n",
       "    </tr>\n",
       "  </tbody>\n",
       "</table>\n",
       "</div>"
      ],
      "text/plain": [
       "   user_id  month  gb_used\n",
       "0     1000      5      3.0\n",
       "1     1000      6     23.0\n",
       "2     1000      7     14.0\n",
       "3     1000      8     14.0\n",
       "4     1000      9     15.0"
      ]
     },
     "execution_count": 16,
     "metadata": {},
     "output_type": "execute_result"
    }
   ],
   "source": [
    "internet_per_month['mb_used'] = internet_per_month['mb_used'] / 1024\n",
    "internet_per_month.columns = ['user_id', 'month', 'gb_used']\n",
    "internet_per_month['gb_used'] = np.ceil(internet_per_month['gb_used'])\n",
    "internet_per_month.head()"
   ]
  },
  {
   "cell_type": "code",
   "execution_count": 17,
   "metadata": {},
   "outputs": [
    {
     "data": {
      "text/html": [
       "<div>\n",
       "<style scoped>\n",
       "    .dataframe tbody tr th:only-of-type {\n",
       "        vertical-align: middle;\n",
       "    }\n",
       "\n",
       "    .dataframe tbody tr th {\n",
       "        vertical-align: top;\n",
       "    }\n",
       "\n",
       "    .dataframe thead th {\n",
       "        text-align: right;\n",
       "    }\n",
       "</style>\n",
       "<table border=\"1\" class=\"dataframe\">\n",
       "  <thead>\n",
       "    <tr style=\"text-align: right;\">\n",
       "      <th></th>\n",
       "      <th>user_id</th>\n",
       "      <th>month</th>\n",
       "      <th>calls_total</th>\n",
       "      <th>calls_duration</th>\n",
       "      <th>messages_total</th>\n",
       "      <th>gb_used</th>\n",
       "      <th>tariff</th>\n",
       "      <th>city</th>\n",
       "      <th>messages_included</th>\n",
       "      <th>mb_per_month_included</th>\n",
       "      <th>minutes_included</th>\n",
       "      <th>rub_monthly_fee</th>\n",
       "      <th>rub_per_gb</th>\n",
       "      <th>rub_per_message</th>\n",
       "      <th>rub_per_minute</th>\n",
       "    </tr>\n",
       "  </thead>\n",
       "  <tbody>\n",
       "    <tr>\n",
       "      <th>2456</th>\n",
       "      <td>1321</td>\n",
       "      <td>10.0</td>\n",
       "      <td>61.0</td>\n",
       "      <td>411.0</td>\n",
       "      <td>24.0</td>\n",
       "      <td>18.0</td>\n",
       "      <td>smart</td>\n",
       "      <td>Москва</td>\n",
       "      <td>50</td>\n",
       "      <td>15360</td>\n",
       "      <td>500</td>\n",
       "      <td>550</td>\n",
       "      <td>200</td>\n",
       "      <td>3</td>\n",
       "      <td>3</td>\n",
       "    </tr>\n",
       "    <tr>\n",
       "      <th>1237</th>\n",
       "      <td>1054</td>\n",
       "      <td>9.0</td>\n",
       "      <td>90.0</td>\n",
       "      <td>672.0</td>\n",
       "      <td>65.0</td>\n",
       "      <td>19.0</td>\n",
       "      <td>smart</td>\n",
       "      <td>Омск</td>\n",
       "      <td>50</td>\n",
       "      <td>15360</td>\n",
       "      <td>500</td>\n",
       "      <td>550</td>\n",
       "      <td>200</td>\n",
       "      <td>3</td>\n",
       "      <td>3</td>\n",
       "    </tr>\n",
       "    <tr>\n",
       "      <th>720</th>\n",
       "      <td>1381</td>\n",
       "      <td>12.0</td>\n",
       "      <td>104.0</td>\n",
       "      <td>762.0</td>\n",
       "      <td>55.0</td>\n",
       "      <td>22.0</td>\n",
       "      <td>ultra</td>\n",
       "      <td>Москва</td>\n",
       "      <td>1000</td>\n",
       "      <td>30720</td>\n",
       "      <td>3000</td>\n",
       "      <td>1950</td>\n",
       "      <td>150</td>\n",
       "      <td>1</td>\n",
       "      <td>1</td>\n",
       "    </tr>\n",
       "    <tr>\n",
       "      <th>1170</th>\n",
       "      <td>1037</td>\n",
       "      <td>12.0</td>\n",
       "      <td>54.0</td>\n",
       "      <td>408.0</td>\n",
       "      <td>26.0</td>\n",
       "      <td>12.0</td>\n",
       "      <td>smart</td>\n",
       "      <td>Череповец</td>\n",
       "      <td>50</td>\n",
       "      <td>15360</td>\n",
       "      <td>500</td>\n",
       "      <td>550</td>\n",
       "      <td>200</td>\n",
       "      <td>3</td>\n",
       "      <td>3</td>\n",
       "    </tr>\n",
       "    <tr>\n",
       "      <th>2260</th>\n",
       "      <td>1280</td>\n",
       "      <td>12.0</td>\n",
       "      <td>85.0</td>\n",
       "      <td>479.0</td>\n",
       "      <td>51.0</td>\n",
       "      <td>20.0</td>\n",
       "      <td>smart</td>\n",
       "      <td>Астрахань</td>\n",
       "      <td>50</td>\n",
       "      <td>15360</td>\n",
       "      <td>500</td>\n",
       "      <td>550</td>\n",
       "      <td>200</td>\n",
       "      <td>3</td>\n",
       "      <td>3</td>\n",
       "    </tr>\n",
       "  </tbody>\n",
       "</table>\n",
       "</div>"
      ],
      "text/plain": [
       "      user_id  month  calls_total  calls_duration  messages_total  gb_used  \\\n",
       "2456     1321   10.0         61.0           411.0            24.0     18.0   \n",
       "1237     1054    9.0         90.0           672.0            65.0     19.0   \n",
       "720      1381   12.0        104.0           762.0            55.0     22.0   \n",
       "1170     1037   12.0         54.0           408.0            26.0     12.0   \n",
       "2260     1280   12.0         85.0           479.0            51.0     20.0   \n",
       "\n",
       "     tariff       city  messages_included  mb_per_month_included  \\\n",
       "2456  smart     Москва                 50                  15360   \n",
       "1237  smart       Омск                 50                  15360   \n",
       "720   ultra     Москва               1000                  30720   \n",
       "1170  smart  Череповец                 50                  15360   \n",
       "2260  smart  Астрахань                 50                  15360   \n",
       "\n",
       "      minutes_included  rub_monthly_fee  rub_per_gb  rub_per_message  \\\n",
       "2456               500              550         200                3   \n",
       "1237               500              550         200                3   \n",
       "720               3000             1950         150                1   \n",
       "1170               500              550         200                3   \n",
       "2260               500              550         200                3   \n",
       "\n",
       "      rub_per_minute  \n",
       "2456               3  \n",
       "1237               3  \n",
       "720                1  \n",
       "1170               3  \n",
       "2260               3  "
      ]
     },
     "execution_count": 17,
     "metadata": {},
     "output_type": "execute_result"
    }
   ],
   "source": [
    "# объединяю таблицы\n",
    "data_1 = calls_per_month.merge(messages_per_month, on=['user_id', 'month'], how='outer')\n",
    "data_2 = data_1.merge(internet_per_month, on=['user_id', 'month'], how='outer')\n",
    "data_3 = data_2.merge(users[['user_id', 'tariff', 'city']], on='user_id', how='outer')\n",
    "tariffs = tariffs.rename(columns={'tariff_name': 'tariff'})\n",
    "data = data_3.merge(tariffs, on='tariff', how='outer')\n",
    "data.sample(5)"
   ]
  },
  {
   "cell_type": "code",
   "execution_count": 18,
   "metadata": {},
   "outputs": [
    {
     "data": {
      "text/html": [
       "<div>\n",
       "<style scoped>\n",
       "    .dataframe tbody tr th:only-of-type {\n",
       "        vertical-align: middle;\n",
       "    }\n",
       "\n",
       "    .dataframe tbody tr th {\n",
       "        vertical-align: top;\n",
       "    }\n",
       "\n",
       "    .dataframe thead th {\n",
       "        text-align: right;\n",
       "    }\n",
       "</style>\n",
       "<table border=\"1\" class=\"dataframe\">\n",
       "  <thead>\n",
       "    <tr style=\"text-align: right;\">\n",
       "      <th></th>\n",
       "      <th>user_id</th>\n",
       "      <th>month</th>\n",
       "      <th>calls_total</th>\n",
       "      <th>calls_duration</th>\n",
       "      <th>messages_total</th>\n",
       "      <th>gb_used</th>\n",
       "      <th>tariff</th>\n",
       "      <th>city</th>\n",
       "      <th>messages_included</th>\n",
       "      <th>gb_per_month_included</th>\n",
       "      <th>minutes_included</th>\n",
       "      <th>rub_monthly_fee</th>\n",
       "      <th>rub_per_gb</th>\n",
       "      <th>rub_per_message</th>\n",
       "      <th>rub_per_minute</th>\n",
       "      <th>calls_overrun</th>\n",
       "      <th>messages_overrun</th>\n",
       "      <th>internet_overrun</th>\n",
       "    </tr>\n",
       "  </thead>\n",
       "  <tbody>\n",
       "    <tr>\n",
       "      <th>255</th>\n",
       "      <td>1152</td>\n",
       "      <td>4.0</td>\n",
       "      <td>38.0</td>\n",
       "      <td>281.0</td>\n",
       "      <td>NaN</td>\n",
       "      <td>28.0</td>\n",
       "      <td>ultra</td>\n",
       "      <td>Мурманск</td>\n",
       "      <td>1000</td>\n",
       "      <td>30.0</td>\n",
       "      <td>3000</td>\n",
       "      <td>1950</td>\n",
       "      <td>150</td>\n",
       "      <td>1</td>\n",
       "      <td>1</td>\n",
       "      <td>-2719.0</td>\n",
       "      <td>NaN</td>\n",
       "      <td>-2.0</td>\n",
       "    </tr>\n",
       "    <tr>\n",
       "      <th>276</th>\n",
       "      <td>1167</td>\n",
       "      <td>11.0</td>\n",
       "      <td>83.0</td>\n",
       "      <td>588.0</td>\n",
       "      <td>148.0</td>\n",
       "      <td>20.0</td>\n",
       "      <td>ultra</td>\n",
       "      <td>Кемерово</td>\n",
       "      <td>1000</td>\n",
       "      <td>30.0</td>\n",
       "      <td>3000</td>\n",
       "      <td>1950</td>\n",
       "      <td>150</td>\n",
       "      <td>1</td>\n",
       "      <td>1</td>\n",
       "      <td>-2412.0</td>\n",
       "      <td>-852.0</td>\n",
       "      <td>-10.0</td>\n",
       "    </tr>\n",
       "    <tr>\n",
       "      <th>2136</th>\n",
       "      <td>1248</td>\n",
       "      <td>10.0</td>\n",
       "      <td>113.0</td>\n",
       "      <td>727.0</td>\n",
       "      <td>NaN</td>\n",
       "      <td>21.0</td>\n",
       "      <td>smart</td>\n",
       "      <td>Москва</td>\n",
       "      <td>50</td>\n",
       "      <td>15.0</td>\n",
       "      <td>500</td>\n",
       "      <td>550</td>\n",
       "      <td>200</td>\n",
       "      <td>3</td>\n",
       "      <td>3</td>\n",
       "      <td>227.0</td>\n",
       "      <td>NaN</td>\n",
       "      <td>6.0</td>\n",
       "    </tr>\n",
       "    <tr>\n",
       "      <th>68</th>\n",
       "      <td>1049</td>\n",
       "      <td>4.0</td>\n",
       "      <td>76.0</td>\n",
       "      <td>528.0</td>\n",
       "      <td>NaN</td>\n",
       "      <td>6.0</td>\n",
       "      <td>ultra</td>\n",
       "      <td>Москва</td>\n",
       "      <td>1000</td>\n",
       "      <td>30.0</td>\n",
       "      <td>3000</td>\n",
       "      <td>1950</td>\n",
       "      <td>150</td>\n",
       "      <td>1</td>\n",
       "      <td>1</td>\n",
       "      <td>-2472.0</td>\n",
       "      <td>NaN</td>\n",
       "      <td>-24.0</td>\n",
       "    </tr>\n",
       "    <tr>\n",
       "      <th>2784</th>\n",
       "      <td>1409</td>\n",
       "      <td>4.0</td>\n",
       "      <td>94.0</td>\n",
       "      <td>753.0</td>\n",
       "      <td>41.0</td>\n",
       "      <td>18.0</td>\n",
       "      <td>smart</td>\n",
       "      <td>Набережные Челны</td>\n",
       "      <td>50</td>\n",
       "      <td>15.0</td>\n",
       "      <td>500</td>\n",
       "      <td>550</td>\n",
       "      <td>200</td>\n",
       "      <td>3</td>\n",
       "      <td>3</td>\n",
       "      <td>253.0</td>\n",
       "      <td>-9.0</td>\n",
       "      <td>3.0</td>\n",
       "    </tr>\n",
       "  </tbody>\n",
       "</table>\n",
       "</div>"
      ],
      "text/plain": [
       "      user_id  month  calls_total  calls_duration  messages_total  gb_used  \\\n",
       "255      1152    4.0         38.0           281.0             NaN     28.0   \n",
       "276      1167   11.0         83.0           588.0           148.0     20.0   \n",
       "2136     1248   10.0        113.0           727.0             NaN     21.0   \n",
       "68       1049    4.0         76.0           528.0             NaN      6.0   \n",
       "2784     1409    4.0         94.0           753.0            41.0     18.0   \n",
       "\n",
       "     tariff              city  messages_included  gb_per_month_included  \\\n",
       "255   ultra          Мурманск               1000                   30.0   \n",
       "276   ultra          Кемерово               1000                   30.0   \n",
       "2136  smart            Москва                 50                   15.0   \n",
       "68    ultra            Москва               1000                   30.0   \n",
       "2784  smart  Набережные Челны                 50                   15.0   \n",
       "\n",
       "      minutes_included  rub_monthly_fee  rub_per_gb  rub_per_message  \\\n",
       "255               3000             1950         150                1   \n",
       "276               3000             1950         150                1   \n",
       "2136               500              550         200                3   \n",
       "68                3000             1950         150                1   \n",
       "2784               500              550         200                3   \n",
       "\n",
       "      rub_per_minute  calls_overrun  messages_overrun  internet_overrun  \n",
       "255                1        -2719.0               NaN              -2.0  \n",
       "276                1        -2412.0            -852.0             -10.0  \n",
       "2136               3          227.0               NaN               6.0  \n",
       "68                 1        -2472.0               NaN             -24.0  \n",
       "2784               3          253.0              -9.0               3.0  "
      ]
     },
     "execution_count": 18,
     "metadata": {},
     "output_type": "execute_result"
    }
   ],
   "source": [
    "# считаю перелимиты по каждой услуге\n",
    "data['calls_overrun'] = data['calls_duration'] - data['minutes_included']\n",
    "data['messages_overrun'] = data['messages_total'] - data['messages_included']\n",
    "data['mb_per_month_included'] = data['mb_per_month_included'] / 1024\n",
    "data = data.rename(columns={'mb_per_month_included': 'gb_per_month_included'})\n",
    "data['gb_per_month_included'] = np.ceil(data['gb_per_month_included'])\n",
    "data['internet_overrun'] = data['gb_used'] - data['gb_per_month_included']\n",
    "data.sample(5)"
   ]
  },
  {
   "cell_type": "code",
   "execution_count": 19,
   "metadata": {},
   "outputs": [
    {
     "data": {
      "text/html": [
       "<div>\n",
       "<style scoped>\n",
       "    .dataframe tbody tr th:only-of-type {\n",
       "        vertical-align: middle;\n",
       "    }\n",
       "\n",
       "    .dataframe tbody tr th {\n",
       "        vertical-align: top;\n",
       "    }\n",
       "\n",
       "    .dataframe thead th {\n",
       "        text-align: right;\n",
       "    }\n",
       "</style>\n",
       "<table border=\"1\" class=\"dataframe\">\n",
       "  <thead>\n",
       "    <tr style=\"text-align: right;\">\n",
       "      <th></th>\n",
       "      <th>user_id</th>\n",
       "      <th>month</th>\n",
       "      <th>calls_total</th>\n",
       "      <th>calls_duration</th>\n",
       "      <th>messages_total</th>\n",
       "      <th>gb_used</th>\n",
       "      <th>tariff</th>\n",
       "      <th>city</th>\n",
       "      <th>messages_included</th>\n",
       "      <th>gb_per_month_included</th>\n",
       "      <th>minutes_included</th>\n",
       "      <th>rub_monthly_fee</th>\n",
       "      <th>rub_per_gb</th>\n",
       "      <th>rub_per_message</th>\n",
       "      <th>rub_per_minute</th>\n",
       "      <th>calls_overrun</th>\n",
       "      <th>messages_overrun</th>\n",
       "      <th>internet_overrun</th>\n",
       "      <th>take</th>\n",
       "    </tr>\n",
       "  </thead>\n",
       "  <tbody>\n",
       "    <tr>\n",
       "      <th>1837</th>\n",
       "      <td>1183</td>\n",
       "      <td>7.0</td>\n",
       "      <td>40.0</td>\n",
       "      <td>326.0</td>\n",
       "      <td>24.0</td>\n",
       "      <td>10.0</td>\n",
       "      <td>smart</td>\n",
       "      <td>Владивосток</td>\n",
       "      <td>50</td>\n",
       "      <td>15.0</td>\n",
       "      <td>500</td>\n",
       "      <td>550</td>\n",
       "      <td>200</td>\n",
       "      <td>3</td>\n",
       "      <td>3</td>\n",
       "      <td>-174.0</td>\n",
       "      <td>-26.0</td>\n",
       "      <td>-5.0</td>\n",
       "      <td>550.0</td>\n",
       "    </tr>\n",
       "    <tr>\n",
       "      <th>2042</th>\n",
       "      <td>1227</td>\n",
       "      <td>5.0</td>\n",
       "      <td>84.0</td>\n",
       "      <td>546.0</td>\n",
       "      <td>38.0</td>\n",
       "      <td>18.0</td>\n",
       "      <td>smart</td>\n",
       "      <td>Санкт-Петербург</td>\n",
       "      <td>50</td>\n",
       "      <td>15.0</td>\n",
       "      <td>500</td>\n",
       "      <td>550</td>\n",
       "      <td>200</td>\n",
       "      <td>3</td>\n",
       "      <td>3</td>\n",
       "      <td>46.0</td>\n",
       "      <td>-12.0</td>\n",
       "      <td>3.0</td>\n",
       "      <td>1288.0</td>\n",
       "    </tr>\n",
       "    <tr>\n",
       "      <th>2205</th>\n",
       "      <td>1264</td>\n",
       "      <td>11.0</td>\n",
       "      <td>58.0</td>\n",
       "      <td>349.0</td>\n",
       "      <td>21.0</td>\n",
       "      <td>16.0</td>\n",
       "      <td>smart</td>\n",
       "      <td>Хабаровск</td>\n",
       "      <td>50</td>\n",
       "      <td>15.0</td>\n",
       "      <td>500</td>\n",
       "      <td>550</td>\n",
       "      <td>200</td>\n",
       "      <td>3</td>\n",
       "      <td>3</td>\n",
       "      <td>-151.0</td>\n",
       "      <td>-29.0</td>\n",
       "      <td>1.0</td>\n",
       "      <td>750.0</td>\n",
       "    </tr>\n",
       "    <tr>\n",
       "      <th>1251</th>\n",
       "      <td>1055</td>\n",
       "      <td>11.0</td>\n",
       "      <td>49.0</td>\n",
       "      <td>314.0</td>\n",
       "      <td>38.0</td>\n",
       "      <td>21.0</td>\n",
       "      <td>smart</td>\n",
       "      <td>Казань</td>\n",
       "      <td>50</td>\n",
       "      <td>15.0</td>\n",
       "      <td>500</td>\n",
       "      <td>550</td>\n",
       "      <td>200</td>\n",
       "      <td>3</td>\n",
       "      <td>3</td>\n",
       "      <td>-186.0</td>\n",
       "      <td>-12.0</td>\n",
       "      <td>6.0</td>\n",
       "      <td>1750.0</td>\n",
       "    </tr>\n",
       "    <tr>\n",
       "      <th>1097</th>\n",
       "      <td>1025</td>\n",
       "      <td>5.0</td>\n",
       "      <td>71.0</td>\n",
       "      <td>552.0</td>\n",
       "      <td>27.0</td>\n",
       "      <td>21.0</td>\n",
       "      <td>smart</td>\n",
       "      <td>Уфа</td>\n",
       "      <td>50</td>\n",
       "      <td>15.0</td>\n",
       "      <td>500</td>\n",
       "      <td>550</td>\n",
       "      <td>200</td>\n",
       "      <td>3</td>\n",
       "      <td>3</td>\n",
       "      <td>52.0</td>\n",
       "      <td>-23.0</td>\n",
       "      <td>6.0</td>\n",
       "      <td>1906.0</td>\n",
       "    </tr>\n",
       "    <tr>\n",
       "      <th>2663</th>\n",
       "      <td>1378</td>\n",
       "      <td>4.0</td>\n",
       "      <td>80.0</td>\n",
       "      <td>572.0</td>\n",
       "      <td>17.0</td>\n",
       "      <td>11.0</td>\n",
       "      <td>smart</td>\n",
       "      <td>Иркутск</td>\n",
       "      <td>50</td>\n",
       "      <td>15.0</td>\n",
       "      <td>500</td>\n",
       "      <td>550</td>\n",
       "      <td>200</td>\n",
       "      <td>3</td>\n",
       "      <td>3</td>\n",
       "      <td>72.0</td>\n",
       "      <td>-33.0</td>\n",
       "      <td>-4.0</td>\n",
       "      <td>766.0</td>\n",
       "    </tr>\n",
       "    <tr>\n",
       "      <th>776</th>\n",
       "      <td>1402</td>\n",
       "      <td>5.0</td>\n",
       "      <td>92.0</td>\n",
       "      <td>689.0</td>\n",
       "      <td>32.0</td>\n",
       "      <td>27.0</td>\n",
       "      <td>ultra</td>\n",
       "      <td>Пенза</td>\n",
       "      <td>1000</td>\n",
       "      <td>30.0</td>\n",
       "      <td>3000</td>\n",
       "      <td>1950</td>\n",
       "      <td>150</td>\n",
       "      <td>1</td>\n",
       "      <td>1</td>\n",
       "      <td>-2311.0</td>\n",
       "      <td>-968.0</td>\n",
       "      <td>-3.0</td>\n",
       "      <td>1950.0</td>\n",
       "    </tr>\n",
       "    <tr>\n",
       "      <th>523</th>\n",
       "      <td>1310</td>\n",
       "      <td>3.0</td>\n",
       "      <td>15.0</td>\n",
       "      <td>106.0</td>\n",
       "      <td>17.0</td>\n",
       "      <td>5.0</td>\n",
       "      <td>ultra</td>\n",
       "      <td>Уфа</td>\n",
       "      <td>1000</td>\n",
       "      <td>30.0</td>\n",
       "      <td>3000</td>\n",
       "      <td>1950</td>\n",
       "      <td>150</td>\n",
       "      <td>1</td>\n",
       "      <td>1</td>\n",
       "      <td>-2894.0</td>\n",
       "      <td>-983.0</td>\n",
       "      <td>-25.0</td>\n",
       "      <td>1950.0</td>\n",
       "    </tr>\n",
       "    <tr>\n",
       "      <th>102</th>\n",
       "      <td>1063</td>\n",
       "      <td>8.0</td>\n",
       "      <td>129.0</td>\n",
       "      <td>864.0</td>\n",
       "      <td>NaN</td>\n",
       "      <td>14.0</td>\n",
       "      <td>ultra</td>\n",
       "      <td>Тула</td>\n",
       "      <td>1000</td>\n",
       "      <td>30.0</td>\n",
       "      <td>3000</td>\n",
       "      <td>1950</td>\n",
       "      <td>150</td>\n",
       "      <td>1</td>\n",
       "      <td>1</td>\n",
       "      <td>-2136.0</td>\n",
       "      <td>NaN</td>\n",
       "      <td>-16.0</td>\n",
       "      <td>1950.0</td>\n",
       "    </tr>\n",
       "    <tr>\n",
       "      <th>411</th>\n",
       "      <td>1254</td>\n",
       "      <td>7.0</td>\n",
       "      <td>77.0</td>\n",
       "      <td>715.0</td>\n",
       "      <td>NaN</td>\n",
       "      <td>20.0</td>\n",
       "      <td>ultra</td>\n",
       "      <td>Москва</td>\n",
       "      <td>1000</td>\n",
       "      <td>30.0</td>\n",
       "      <td>3000</td>\n",
       "      <td>1950</td>\n",
       "      <td>150</td>\n",
       "      <td>1</td>\n",
       "      <td>1</td>\n",
       "      <td>-2285.0</td>\n",
       "      <td>NaN</td>\n",
       "      <td>-10.0</td>\n",
       "      <td>1950.0</td>\n",
       "    </tr>\n",
       "  </tbody>\n",
       "</table>\n",
       "</div>"
      ],
      "text/plain": [
       "      user_id  month  calls_total  calls_duration  messages_total  gb_used  \\\n",
       "1837     1183    7.0         40.0           326.0            24.0     10.0   \n",
       "2042     1227    5.0         84.0           546.0            38.0     18.0   \n",
       "2205     1264   11.0         58.0           349.0            21.0     16.0   \n",
       "1251     1055   11.0         49.0           314.0            38.0     21.0   \n",
       "1097     1025    5.0         71.0           552.0            27.0     21.0   \n",
       "2663     1378    4.0         80.0           572.0            17.0     11.0   \n",
       "776      1402    5.0         92.0           689.0            32.0     27.0   \n",
       "523      1310    3.0         15.0           106.0            17.0      5.0   \n",
       "102      1063    8.0        129.0           864.0             NaN     14.0   \n",
       "411      1254    7.0         77.0           715.0             NaN     20.0   \n",
       "\n",
       "     tariff             city  messages_included  gb_per_month_included  \\\n",
       "1837  smart      Владивосток                 50                   15.0   \n",
       "2042  smart  Санкт-Петербург                 50                   15.0   \n",
       "2205  smart        Хабаровск                 50                   15.0   \n",
       "1251  smart           Казань                 50                   15.0   \n",
       "1097  smart              Уфа                 50                   15.0   \n",
       "2663  smart          Иркутск                 50                   15.0   \n",
       "776   ultra            Пенза               1000                   30.0   \n",
       "523   ultra              Уфа               1000                   30.0   \n",
       "102   ultra             Тула               1000                   30.0   \n",
       "411   ultra           Москва               1000                   30.0   \n",
       "\n",
       "      minutes_included  rub_monthly_fee  rub_per_gb  rub_per_message  \\\n",
       "1837               500              550         200                3   \n",
       "2042               500              550         200                3   \n",
       "2205               500              550         200                3   \n",
       "1251               500              550         200                3   \n",
       "1097               500              550         200                3   \n",
       "2663               500              550         200                3   \n",
       "776               3000             1950         150                1   \n",
       "523               3000             1950         150                1   \n",
       "102               3000             1950         150                1   \n",
       "411               3000             1950         150                1   \n",
       "\n",
       "      rub_per_minute  calls_overrun  messages_overrun  internet_overrun  \\\n",
       "1837               3         -174.0             -26.0              -5.0   \n",
       "2042               3           46.0             -12.0               3.0   \n",
       "2205               3         -151.0             -29.0               1.0   \n",
       "1251               3         -186.0             -12.0               6.0   \n",
       "1097               3           52.0             -23.0               6.0   \n",
       "2663               3           72.0             -33.0              -4.0   \n",
       "776                1        -2311.0            -968.0              -3.0   \n",
       "523                1        -2894.0            -983.0             -25.0   \n",
       "102                1        -2136.0               NaN             -16.0   \n",
       "411                1        -2285.0               NaN             -10.0   \n",
       "\n",
       "        take  \n",
       "1837   550.0  \n",
       "2042  1288.0  \n",
       "2205   750.0  \n",
       "1251  1750.0  \n",
       "1097  1906.0  \n",
       "2663   766.0  \n",
       "776   1950.0  \n",
       "523   1950.0  \n",
       "102   1950.0  \n",
       "411   1950.0  "
      ]
     },
     "execution_count": 19,
     "metadata": {},
     "output_type": "execute_result"
    }
   ],
   "source": [
    "# считаю выручку\n",
    "def take(df):\n",
    "    calls_overrun = df['calls_overrun']\n",
    "    rub_per_minute = df['rub_per_minute']\n",
    "    messages_overrun = df['messages_overrun']\n",
    "    rub_per_message = df['rub_per_message']\n",
    "    internet_overrun = df['internet_overrun']\n",
    "    rub_per_gb = df['rub_per_gb']\n",
    "    take = df['rub_monthly_fee']\n",
    "    if calls_overrun > 0:\n",
    "        take += calls_overrun * rub_per_minute\n",
    "    if messages_overrun > 0:\n",
    "        take += messages_overrun * rub_per_message\n",
    "    if internet_overrun > 0:\n",
    "        take += internet_overrun * rub_per_gb\n",
    "    return take\n",
    "data['take'] = data.apply(take, axis=1)\n",
    "data.sample(10)"
   ]
  },
  {
   "cell_type": "code",
   "execution_count": 20,
   "metadata": {},
   "outputs": [
    {
     "name": "stdout",
     "output_type": "stream",
     "text": [
      "<class 'pandas.core.frame.DataFrame'>\n",
      "Int64Index: 3216 entries, 0 to 3215\n",
      "Data columns (total 19 columns):\n",
      " #   Column                 Non-Null Count  Dtype  \n",
      "---  ------                 --------------  -----  \n",
      " 0   user_id                3216 non-null   int64  \n",
      " 1   month                  3216 non-null   float64\n",
      " 2   calls_total            3216 non-null   float64\n",
      " 3   calls_duration         3216 non-null   float64\n",
      " 4   messages_total         3216 non-null   float64\n",
      " 5   gb_used                3216 non-null   float64\n",
      " 6   tariff                 3216 non-null   object \n",
      " 7   city                   3216 non-null   object \n",
      " 8   messages_included      3216 non-null   int64  \n",
      " 9   gb_per_month_included  3216 non-null   float64\n",
      " 10  minutes_included       3216 non-null   int64  \n",
      " 11  rub_monthly_fee        3216 non-null   int64  \n",
      " 12  rub_per_gb             3216 non-null   int64  \n",
      " 13  rub_per_message        3216 non-null   int64  \n",
      " 14  rub_per_minute         3216 non-null   int64  \n",
      " 15  calls_overrun          3216 non-null   float64\n",
      " 16  messages_overrun       3216 non-null   float64\n",
      " 17  internet_overrun       3216 non-null   float64\n",
      " 18  take                   3216 non-null   float64\n",
      "dtypes: float64(10), int64(7), object(2)\n",
      "memory usage: 502.5+ KB\n"
     ]
    }
   ],
   "source": [
    "data = data.fillna(0)\n",
    "data.info()"
   ]
  },
  {
   "cell_type": "markdown",
   "metadata": {},
   "source": [
    "### Вывод\n",
    "Добавлены расчеты по месяцам с количеством сделанных звонков, количеством израсходованных минут разговора,количеством отправленных сообщений,объемом израсходованного интернет-трафика и помесячной выручкой с каждого пользователя. Образовавшиеся пропуски в значениях новых расчетов там, где абонент не пользовался услугой были заполнены нулями."
   ]
  },
  {
   "cell_type": "markdown",
   "metadata": {},
   "source": [
    "## Анализ данных"
   ]
  },
  {
   "cell_type": "code",
   "execution_count": 21,
   "metadata": {},
   "outputs": [
    {
     "data": {
      "text/html": [
       "<div>\n",
       "<style scoped>\n",
       "    .dataframe tbody tr th:only-of-type {\n",
       "        vertical-align: middle;\n",
       "    }\n",
       "\n",
       "    .dataframe tbody tr th {\n",
       "        vertical-align: top;\n",
       "    }\n",
       "\n",
       "    .dataframe thead tr th {\n",
       "        text-align: left;\n",
       "    }\n",
       "\n",
       "    .dataframe thead tr:last-of-type th {\n",
       "        text-align: right;\n",
       "    }\n",
       "</style>\n",
       "<table border=\"1\" class=\"dataframe\">\n",
       "  <thead>\n",
       "    <tr>\n",
       "      <th></th>\n",
       "      <th colspan=\"3\" halign=\"left\">mean</th>\n",
       "      <th colspan=\"3\" halign=\"left\">var</th>\n",
       "      <th colspan=\"3\" halign=\"left\">std</th>\n",
       "    </tr>\n",
       "    <tr>\n",
       "      <th></th>\n",
       "      <th>calls_duration</th>\n",
       "      <th>gb_used</th>\n",
       "      <th>messages_total</th>\n",
       "      <th>calls_duration</th>\n",
       "      <th>gb_used</th>\n",
       "      <th>messages_total</th>\n",
       "      <th>calls_duration</th>\n",
       "      <th>gb_used</th>\n",
       "      <th>messages_total</th>\n",
       "    </tr>\n",
       "    <tr>\n",
       "      <th>tariff</th>\n",
       "      <th></th>\n",
       "      <th></th>\n",
       "      <th></th>\n",
       "      <th></th>\n",
       "      <th></th>\n",
       "      <th></th>\n",
       "      <th></th>\n",
       "      <th></th>\n",
       "      <th></th>\n",
       "    </tr>\n",
       "  </thead>\n",
       "  <tbody>\n",
       "    <tr>\n",
       "      <th>smart</th>\n",
       "      <td>418.0</td>\n",
       "      <td>16.0</td>\n",
       "      <td>33.0</td>\n",
       "      <td>36281.0</td>\n",
       "      <td>33.0</td>\n",
       "      <td>797.0</td>\n",
       "      <td>190.0</td>\n",
       "      <td>6.0</td>\n",
       "      <td>28.0</td>\n",
       "    </tr>\n",
       "    <tr>\n",
       "      <th>ultra</th>\n",
       "      <td>526.0</td>\n",
       "      <td>19.0</td>\n",
       "      <td>49.0</td>\n",
       "      <td>101052.0</td>\n",
       "      <td>97.0</td>\n",
       "      <td>2285.0</td>\n",
       "      <td>318.0</td>\n",
       "      <td>10.0</td>\n",
       "      <td>48.0</td>\n",
       "    </tr>\n",
       "  </tbody>\n",
       "</table>\n",
       "</div>"
      ],
      "text/plain": [
       "                 mean                                   var          \\\n",
       "       calls_duration gb_used messages_total calls_duration gb_used   \n",
       "tariff                                                                \n",
       "smart           418.0    16.0           33.0        36281.0    33.0   \n",
       "ultra           526.0    19.0           49.0       101052.0    97.0   \n",
       "\n",
       "                                 std                         \n",
       "       messages_total calls_duration gb_used messages_total  \n",
       "tariff                                                       \n",
       "smart           797.0          190.0     6.0           28.0  \n",
       "ultra          2285.0          318.0    10.0           48.0  "
      ]
     },
     "execution_count": 21,
     "metadata": {},
     "output_type": "execute_result"
    }
   ],
   "source": [
    "data_mean = data.pivot_table(index='tariff', values=['calls_duration', 'messages_total', 'gb_used'], aggfunc=['mean', 'var', 'std']).round()\n",
    "data_mean"
   ]
  },
  {
   "cell_type": "code",
   "execution_count": 22,
   "metadata": {},
   "outputs": [],
   "source": [
    "data_smart = data.query('tariff == \"smart\"')\n",
    "data_ultra = data.query('tariff == \"ultra\"')"
   ]
  },
  {
   "cell_type": "code",
   "execution_count": 23,
   "metadata": {},
   "outputs": [
    {
     "data": {
      "text/plain": [
       "2875901.0"
      ]
     },
     "metadata": {},
     "output_type": "display_data"
    },
    {
     "data": {
      "text/plain": [
       "2041050.0"
      ]
     },
     "execution_count": 23,
     "metadata": {},
     "output_type": "execute_result"
    }
   ],
   "source": [
    "display(data_smart['take'].sum())\n",
    "data_ultra['take'].sum()"
   ]
  },
  {
   "cell_type": "code",
   "execution_count": 24,
   "metadata": {},
   "outputs": [
    {
     "data": {
      "image/png": "[encoded data removed]",
      "text/plain": [
       "<Figure size 432x288 with 1 Axes>"
      ]
     },
     "metadata": {
      "needs_background": "light"
     },
     "output_type": "display_data"
    }
   ],
   "source": [
    "data_smart['calls_duration'].hist(bins=20, alpha=0.5)\n",
    "data_ultra['calls_duration'].hist(bins=20, alpha=0.5);"
   ]
  },
  {
   "cell_type": "markdown",
   "metadata": {},
   "source": [
    "Данные по звонкам тарифа Смарт распределелены нормально, пиковое значение в пределах стандартного пакета, при этом довольно большому числу клиентов тарифа Смарт не хватает заложенного пакета в 500 минут, это значит, что они будут доплачивать поминутно, что принесет прибыль компании, хоть среднее значение лежит в пределах стандартного пакета (418 минут) стандартное отклонение выборки тарифа показывает, что доплат однозначно много. Звонки абонентов тарифа Ультра распределены со смещением влево, четко видно, что они не используют отведенные минуты в полном объеме (3000 минут), их среднее потребление не столь значительно превышает минуты пакета Смарт (526 минут), и  даже самые разговорчивае клиенты едва тратят чуть больше половины пакета, что также прибыльно для компании, так как услуга предоставлется в меньшем от планируемого объеме. Кстатити, среди абонентов Смарт также присутствует весомое количество, которое не \"договаривает\" уже оплаченные абонетской платой минуты."
   ]
  },
  {
   "cell_type": "code",
   "execution_count": 25,
   "metadata": {},
   "outputs": [
    {
     "data": {
      "image/png": "[encoded data removed]",
      "text/plain": [
       "<Figure size 432x288 with 1 Axes>"
      ]
     },
     "metadata": {
      "needs_background": "light"
     },
     "output_type": "display_data"
    }
   ],
   "source": [
    "data_smart['messages_total'].hist(alpha=0.5)\n",
    "data_ultra['messages_total'].hist(alpha=0.5);"
   ]
  },
  {
   "cell_type": "markdown",
   "metadata": {},
   "source": [
    "Данные по отправленным сообщениям обоих тарифов распределены со смещением влево, это указывает на то, что значительные доли в обоих группах пользуются оплаченной услугой крайне редко или не используют совсем.В среднем абоненты Смарт отправляют 33 сообщения, а Ультра 49. Абонентам Ультра с запасом хватает стандартного пакета сообщений, они едва использую 20% от него, а вот абонентам Смарт иногда не хватает оплаченного пакета."
   ]
  },
  {
   "cell_type": "code",
   "execution_count": 26,
   "metadata": {},
   "outputs": [
    {
     "data": {
      "image/png": "[encoded data removed]",
      "text/plain": [
       "<Figure size 432x288 with 1 Axes>"
      ]
     },
     "metadata": {
      "needs_background": "light"
     },
     "output_type": "display_data"
    }
   ],
   "source": [
    "data_smart['gb_used'].hist(bins=20, alpha=0.5)\n",
    "data_ultra['gb_used'].hist(bins=20, alpha=0.5);"
   ]
  },
  {
   "cell_type": "markdown",
   "metadata": {},
   "source": [
    "Данные распределены неравномерно, особенно заметно по выборке тарифа Ультра, присутствует несколько пиковых значений, нужна проверка на корректность предоставленных данных. Среднее значение используемого интернета у абонентов Смарт выше, чем стандартный пакет, 16 гигабайт против предложенных 15, то есть более половины пользователей доплачивают за дополнительный инернет трафик. Абонентам Ультра чаще хватает заложенного объема, многие из них используют только половину пакета."
   ]
  },
  {
   "cell_type": "markdown",
   "metadata": {},
   "source": [
    "### Вывод\n",
    "На первый взгляд может показаться, что тариф Смарт более прибыльный, так как его абоненты не редко доплачивают за дополнительные минуты и гигабайты, но исследование показывает, что абоненты Ультра часто оплачивают больший объем услуг, чем им требуется в месяц. Таким образом можно предположить, что средняя выручка по каждому тарифу примерно одинаковая. Далее проверим это утверждение. Также посмотрим есть ли разница в выручке между жителями Москвы и других городов."
   ]
  },
  {
   "cell_type": "markdown",
   "metadata": {},
   "source": [
    "## Проверка гипотез"
   ]
  },
  {
   "cell_type": "markdown",
   "metadata": {},
   "source": [
    "H0: Средняя выручка пользователей тарифов «Ультра» равна средней выручке пользователей тарифов «Смарт». \n",
    "\n",
    "H1: Средняя выручка пользователей тарифов «Ультра» и «Смарт» различаются.\n",
    "\n",
    "Выборки по тарифам независимые, поэтому для проверки применим гипотезу о равенстве средних двух генеральных совокупностей."
   ]
  },
  {
   "cell_type": "code",
   "execution_count": 27,
   "metadata": {},
   "outputs": [
    {
     "data": {
      "text/plain": [
       "'p-значение:'"
      ]
     },
     "metadata": {},
     "output_type": "display_data"
    },
    {
     "data": {
      "text/plain": [
       "1.927011394420941e-250"
      ]
     },
     "metadata": {},
     "output_type": "display_data"
    },
    {
     "data": {
      "text/plain": [
       "'Отвергаем нулевую гипотезу'"
      ]
     },
     "metadata": {},
     "output_type": "display_data"
    }
   ],
   "source": [
    "smart_take = data_smart['take']\n",
    "ultra_take = data_ultra['take']\n",
    "alpha = .05\n",
    "results = st.ttest_ind(smart_take, ultra_take, equal_var=False)\n",
    "display('p-значение:', results.pvalue)\n",
    "if results.pvalue < alpha:\n",
    "    display(\"Отвергаем нулевую гипотезу\")\n",
    "else:\n",
    "    display(\"Не получилось отвергнуть нулевую гипотезу\")"
   ]
  },
  {
   "cell_type": "markdown",
   "metadata": {},
   "source": [
    "H0: Средняя выручка пользователей из Москвы равна средней выручке от пользователей из других регионов.\n",
    "\n",
    "Н1: Средняя выручка пользователей из Москвы отличается от средней выручки от пользователей из других регионов.\n",
    "\n",
    "Выборки по городам также независимые, поэтому снова для проверки применим гипотезу о равенстве средних двух генеральных совокупностей."
   ]
  },
  {
   "cell_type": "code",
   "execution_count": 28,
   "metadata": {},
   "outputs": [
    {
     "data": {
      "text/plain": [
       "'p-значение:'"
      ]
     },
     "metadata": {},
     "output_type": "display_data"
    },
    {
     "data": {
      "text/plain": [
       "0.5216952110000278"
      ]
     },
     "metadata": {},
     "output_type": "display_data"
    },
    {
     "data": {
      "text/plain": [
       "'Не получилось отвергнуть нулевую гипотезу'"
      ]
     },
     "metadata": {},
     "output_type": "display_data"
    }
   ],
   "source": [
    "msk_take = data.query('city == \"Москва\"')['take']\n",
    "region_take = data.query('city != \"Москва\"')['take']\n",
    "alpha = .05\n",
    "results = st.ttest_ind(msk_take, region_take, equal_var=False)\n",
    "display('p-значение:', results.pvalue)\n",
    "if results.pvalue < alpha:\n",
    "    display(\"Отвергаем нулевую гипотезу\")\n",
    "else:\n",
    "    display(\"Не получилось отвергнуть нулевую гипотезу\")"
   ]
  },
  {
   "cell_type": "code",
   "execution_count": 29,
   "metadata": {},
   "outputs": [
    {
     "data": {
      "text/plain": [
       "834851.0"
      ]
     },
     "execution_count": 29,
     "metadata": {},
     "output_type": "execute_result"
    }
   ],
   "source": [
    "#разница в прибыли\n",
    "(data_smart['take'].sum()) - (data_ultra['take'].sum())"
   ]
  },
  {
   "cell_type": "markdown",
   "metadata": {},
   "source": [
    "### Вывод\n",
    "Средняя выручка пользователей тарифов «Ультра» и «Смарт» различается, значение p_value указывает на то, что различия значимые и не случайные, при этом нельзя утверждать, что средняя выручка клиентов из Москвы отличается от средней выручки клиентов из других регионов, существет вероятность в 52%, что существующее или большее различие можно получить случайно."
   ]
  },
  {
   "cell_type": "markdown",
   "metadata": {},
   "source": [
    "## Общие выводы"
   ]
  },
  {
   "cell_type": "markdown",
   "metadata": {},
   "source": [
    "В ходе исследования двух тарифов Смарт и Ультра по выборке клиентов были определены и оценены объемы звонков, сообщений, интернета и прибыли по каждому тарифу, для этого предварительно данные были обработаны на соответствие типов, наличие дубликатов, заполнены пропущенные значения. В результате определено, что прибыль по тарифам отличается, при этом неважно из какого города клиент. Учитывая, что абоненты с тарифам Ультра чаще не расходуют оплаченные пакеты в полном объеме, а также то, что сам тариф стоит более чем в три раза дороже, можно определить, что данный тариф приносит стабильную прибыль. При этом валовая прибыль по выборке Смарт превышает валовую прибыль по Ультра более чем на 800 тысяч. \n",
    "\n",
    "Чаще всего перерасход бывает в минутах у клиентов Смарт и в интернет трафике у клиентов обоих тарифов. При расходе 750 минут и прочих услугах в рамках пакета, клиент Смарт заплатит 1000р, а Ультра - 1950р, т.е базовый платеж. При расходе 27 гигабайт интернета в месяц и прочих услугах в рамках пакета, клиент Смарт заплатит 2959р, а Ультра - 1950р. При расходе же 32 гигабайт и прочих услугах в рамках пакета клиент Смарт платит 3950р, а Ультра - 2250р.\n",
    "Исследование показывает, что потенциально тариф Смарт более прибыльный для компании. Окончательно этот вывод могла бы подтвердить динамика роста объемов трафика за последние годы, а точнее как менялась потребность в каждой из услуг."
   ]
  },
  {
   "cell_type": "code",
   "execution_count": null,
   "metadata": {},
   "outputs": [],
   "source": []
  }
 ],
 "metadata": {
  "ExecuteTimeLog": [
   {
    "duration": 2109,
    "start_time": "2022-05-21T13:46:03.166Z"
   },
   {
    "duration": 60,
    "start_time": "2022-05-21T13:46:08.367Z"
   },
   {
    "duration": 40,
    "start_time": "2022-05-21T13:46:31.271Z"
   },
   {
    "duration": 24,
    "start_time": "2022-05-21T13:46:55.568Z"
   },
   {
    "duration": 14,
    "start_time": "2022-05-21T13:47:09.256Z"
   },
   {
    "duration": 24,
    "start_time": "2022-05-21T13:47:50.900Z"
   },
   {
    "duration": 209,
    "start_time": "2022-05-21T13:48:49.266Z"
   },
   {
    "duration": 8,
    "start_time": "2022-05-21T13:51:30.480Z"
   },
   {
    "duration": 4,
    "start_time": "2022-05-21T13:51:48.464Z"
   },
   {
    "duration": 32,
    "start_time": "2022-05-21T13:52:04.902Z"
   },
   {
    "duration": 33,
    "start_time": "2022-05-21T13:52:23.208Z"
   },
   {
    "duration": 23,
    "start_time": "2022-05-21T13:52:40.965Z"
   },
   {
    "duration": 20,
    "start_time": "2022-05-21T13:53:04.450Z"
   },
   {
    "duration": 5,
    "start_time": "2022-05-21T13:53:15.043Z"
   },
   {
    "duration": 129,
    "start_time": "2022-05-21T13:53:26.921Z"
   },
   {
    "duration": 28,
    "start_time": "2022-05-21T13:56:32.720Z"
   },
   {
    "duration": 91,
    "start_time": "2022-05-21T13:57:12.596Z"
   },
   {
    "duration": 49,
    "start_time": "2022-05-21T13:57:47.561Z"
   },
   {
    "duration": 72,
    "start_time": "2022-05-21T14:04:25.844Z"
   },
   {
    "duration": 13,
    "start_time": "2022-05-21T14:04:35.127Z"
   },
   {
    "duration": 26,
    "start_time": "2022-05-21T14:05:33.523Z"
   },
   {
    "duration": 65,
    "start_time": "2022-05-21T14:06:12.758Z"
   },
   {
    "duration": 70,
    "start_time": "2022-05-21T14:06:20.708Z"
   },
   {
    "duration": 15,
    "start_time": "2022-05-21T14:07:02.024Z"
   },
   {
    "duration": 38,
    "start_time": "2022-05-21T14:46:17.063Z"
   },
   {
    "duration": 6,
    "start_time": "2022-05-21T14:47:19.738Z"
   },
   {
    "duration": 766,
    "start_time": "2022-05-21T14:47:31.854Z"
   },
   {
    "duration": 132,
    "start_time": "2022-05-21T14:49:40.042Z"
   },
   {
    "duration": 173,
    "start_time": "2022-05-21T14:50:28.950Z"
   },
   {
    "duration": 602,
    "start_time": "2022-05-21T14:57:42.353Z"
   },
   {
    "duration": 14,
    "start_time": "2022-05-21T14:58:09.302Z"
   },
   {
    "duration": 54,
    "start_time": "2022-05-21T22:45:29.388Z"
   },
   {
    "duration": 811,
    "start_time": "2022-05-21T22:45:36.011Z"
   },
   {
    "duration": 37,
    "start_time": "2022-05-21T22:45:36.824Z"
   },
   {
    "duration": 26,
    "start_time": "2022-05-21T22:45:36.862Z"
   },
   {
    "duration": 23,
    "start_time": "2022-05-21T22:45:36.890Z"
   },
   {
    "duration": 20,
    "start_time": "2022-05-21T22:45:36.915Z"
   },
   {
    "duration": 22,
    "start_time": "2022-05-21T22:45:36.937Z"
   },
   {
    "duration": 262,
    "start_time": "2022-05-21T22:45:36.961Z"
   },
   {
    "duration": 9,
    "start_time": "2022-05-21T22:45:37.225Z"
   },
   {
    "duration": 13,
    "start_time": "2022-05-21T22:45:37.237Z"
   },
   {
    "duration": 48,
    "start_time": "2022-05-21T22:45:37.254Z"
   },
   {
    "duration": 36,
    "start_time": "2022-05-21T22:45:37.304Z"
   },
   {
    "duration": 24,
    "start_time": "2022-05-21T22:45:37.342Z"
   },
   {
    "duration": 35,
    "start_time": "2022-05-21T22:45:37.368Z"
   },
   {
    "duration": 5,
    "start_time": "2022-05-21T22:45:37.405Z"
   },
   {
    "duration": 18,
    "start_time": "2022-05-21T22:45:37.411Z"
   },
   {
    "duration": 27,
    "start_time": "2022-05-21T22:45:37.430Z"
   },
   {
    "duration": 118,
    "start_time": "2022-05-21T22:45:37.459Z"
   },
   {
    "duration": 53,
    "start_time": "2022-05-21T22:45:37.579Z"
   },
   {
    "duration": 64,
    "start_time": "2022-05-21T22:45:37.634Z"
   },
   {
    "duration": 8,
    "start_time": "2022-05-21T22:45:37.699Z"
   },
   {
    "duration": 38,
    "start_time": "2022-05-21T22:45:37.709Z"
   },
   {
    "duration": 4,
    "start_time": "2022-05-21T22:45:37.748Z"
   },
   {
    "duration": 76,
    "start_time": "2022-05-21T22:45:37.753Z"
   },
   {
    "duration": 12,
    "start_time": "2022-05-21T22:45:37.830Z"
   },
   {
    "duration": 30,
    "start_time": "2022-05-21T22:45:37.844Z"
   },
   {
    "duration": 24,
    "start_time": "2022-05-21T22:45:37.876Z"
   },
   {
    "duration": 453,
    "start_time": "2022-05-21T22:45:37.902Z"
   },
   {
    "duration": 149,
    "start_time": "2022-05-21T22:45:38.357Z"
   },
   {
    "duration": 172,
    "start_time": "2022-05-21T22:45:38.507Z"
   },
   {
    "duration": 474,
    "start_time": "2022-05-21T22:45:38.680Z"
   },
   {
    "duration": 12,
    "start_time": "2022-05-21T22:45:39.155Z"
   },
   {
    "duration": 4,
    "start_time": "2022-05-21T22:47:28.886Z"
   },
   {
    "duration": 4,
    "start_time": "2022-05-21T22:47:33.983Z"
   },
   {
    "duration": 4,
    "start_time": "2022-05-21T22:47:40.990Z"
   },
   {
    "duration": 14,
    "start_time": "2022-05-21T22:48:00.408Z"
   },
   {
    "duration": 13,
    "start_time": "2022-05-21T22:48:02.871Z"
   },
   {
    "duration": 60,
    "start_time": "2022-05-21T22:54:52.360Z"
   },
   {
    "duration": 4,
    "start_time": "2022-05-21T22:54:58.534Z"
   },
   {
    "duration": 14,
    "start_time": "2022-05-21T22:55:02.175Z"
   },
   {
    "duration": 4,
    "start_time": "2022-05-21T23:12:01.275Z"
   },
   {
    "duration": 62,
    "start_time": "2022-05-21T23:12:05.732Z"
   },
   {
    "duration": 5,
    "start_time": "2022-05-21T23:12:11.141Z"
   },
   {
    "duration": 4,
    "start_time": "2022-05-21T23:12:12.267Z"
   },
   {
    "duration": 14,
    "start_time": "2022-05-21T23:12:13.059Z"
   },
   {
    "duration": 828,
    "start_time": "2022-05-21T23:28:48.509Z"
   },
   {
    "duration": 37,
    "start_time": "2022-05-21T23:28:49.339Z"
   },
   {
    "duration": 26,
    "start_time": "2022-05-21T23:28:49.377Z"
   },
   {
    "duration": 21,
    "start_time": "2022-05-21T23:28:49.405Z"
   },
   {
    "duration": 15,
    "start_time": "2022-05-21T23:28:49.428Z"
   },
   {
    "duration": 17,
    "start_time": "2022-05-21T23:28:49.444Z"
   },
   {
    "duration": 268,
    "start_time": "2022-05-21T23:28:49.462Z"
   },
   {
    "duration": 8,
    "start_time": "2022-05-21T23:28:49.732Z"
   },
   {
    "duration": 7,
    "start_time": "2022-05-21T23:28:49.742Z"
   },
   {
    "duration": 27,
    "start_time": "2022-05-21T23:28:49.751Z"
   },
   {
    "duration": 31,
    "start_time": "2022-05-21T23:28:49.794Z"
   },
   {
    "duration": 24,
    "start_time": "2022-05-21T23:28:49.826Z"
   },
   {
    "duration": 20,
    "start_time": "2022-05-21T23:28:49.852Z"
   },
   {
    "duration": 6,
    "start_time": "2022-05-21T23:28:49.894Z"
   },
   {
    "duration": 17,
    "start_time": "2022-05-21T23:28:49.901Z"
   },
   {
    "duration": 30,
    "start_time": "2022-05-21T23:28:49.920Z"
   },
   {
    "duration": 127,
    "start_time": "2022-05-21T23:28:49.953Z"
   },
   {
    "duration": 61,
    "start_time": "2022-05-21T23:28:50.082Z"
   },
   {
    "duration": 68,
    "start_time": "2022-05-21T23:28:50.145Z"
   },
   {
    "duration": 10,
    "start_time": "2022-05-21T23:28:50.215Z"
   },
   {
    "duration": 28,
    "start_time": "2022-05-21T23:28:50.227Z"
   },
   {
    "duration": 77,
    "start_time": "2022-05-21T23:28:50.257Z"
   },
   {
    "duration": 4,
    "start_time": "2022-05-21T23:28:50.336Z"
   },
   {
    "duration": 16,
    "start_time": "2022-05-21T23:28:50.341Z"
   },
   {
    "duration": 13,
    "start_time": "2022-05-21T23:28:50.358Z"
   },
   {
    "duration": 50,
    "start_time": "2022-05-21T23:28:50.373Z"
   },
   {
    "duration": 8,
    "start_time": "2022-05-21T23:28:50.425Z"
   },
   {
    "duration": 450,
    "start_time": "2022-05-21T23:28:50.435Z"
   },
   {
    "duration": 149,
    "start_time": "2022-05-21T23:28:50.887Z"
   },
   {
    "duration": 175,
    "start_time": "2022-05-21T23:28:51.038Z"
   },
   {
    "duration": 451,
    "start_time": "2022-05-21T23:28:51.215Z"
   },
   {
    "duration": 14,
    "start_time": "2022-05-21T23:28:51.668Z"
   },
   {
    "duration": 4,
    "start_time": "2022-05-21T23:28:51.695Z"
   },
   {
    "duration": 1929,
    "start_time": "2022-05-22T17:10:32.946Z"
   },
   {
    "duration": 50,
    "start_time": "2022-05-22T17:10:39.290Z"
   },
   {
    "duration": 27,
    "start_time": "2022-05-22T17:10:43.510Z"
   },
   {
    "duration": 32,
    "start_time": "2022-05-22T17:10:49.008Z"
   },
   {
    "duration": 17,
    "start_time": "2022-05-22T17:10:51.917Z"
   },
   {
    "duration": 24,
    "start_time": "2022-05-22T17:10:55.844Z"
   },
   {
    "duration": 221,
    "start_time": "2022-05-22T17:10:59.256Z"
   },
   {
    "duration": 2400,
    "start_time": "2022-05-22T17:25:16.532Z"
   },
   {
    "duration": 288,
    "start_time": "2022-05-22T17:25:59.159Z"
   },
   {
    "duration": 1955,
    "start_time": "2022-05-22T17:33:15.781Z"
   },
   {
    "duration": 41,
    "start_time": "2022-05-22T17:34:29.375Z"
   },
   {
    "duration": 109,
    "start_time": "2022-05-22T17:39:59.968Z"
   },
   {
    "duration": 10,
    "start_time": "2022-05-22T17:40:13.895Z"
   },
   {
    "duration": 445,
    "start_time": "2022-05-22T17:41:56.364Z"
   },
   {
    "duration": 33,
    "start_time": "2022-05-22T17:41:56.811Z"
   },
   {
    "duration": 26,
    "start_time": "2022-05-22T17:41:56.846Z"
   },
   {
    "duration": 280,
    "start_time": "2022-05-22T17:41:56.874Z"
   },
   {
    "duration": 26,
    "start_time": "2022-05-22T17:41:57.155Z"
   },
   {
    "duration": 25,
    "start_time": "2022-05-22T17:41:57.195Z"
   },
   {
    "duration": 30,
    "start_time": "2022-05-22T17:41:57.223Z"
   },
   {
    "duration": 267,
    "start_time": "2022-05-22T17:41:57.255Z"
   },
   {
    "duration": 11,
    "start_time": "2022-05-22T17:42:01.473Z"
   },
   {
    "duration": 442,
    "start_time": "2022-05-22T17:54:10.974Z"
   },
   {
    "duration": 31,
    "start_time": "2022-05-22T17:54:11.418Z"
   },
   {
    "duration": 29,
    "start_time": "2022-05-22T17:54:11.451Z"
   },
   {
    "duration": 271,
    "start_time": "2022-05-22T17:54:11.482Z"
   },
   {
    "duration": 41,
    "start_time": "2022-05-22T17:54:11.754Z"
   },
   {
    "duration": 18,
    "start_time": "2022-05-22T17:54:11.797Z"
   },
   {
    "duration": 19,
    "start_time": "2022-05-22T17:54:11.817Z"
   },
   {
    "duration": 233,
    "start_time": "2022-05-22T17:54:11.838Z"
   },
   {
    "duration": 5,
    "start_time": "2022-05-22T17:54:18.958Z"
   },
   {
    "duration": 13,
    "start_time": "2022-05-22T17:54:36.756Z"
   },
   {
    "duration": 4,
    "start_time": "2022-05-22T17:54:55.936Z"
   },
   {
    "duration": 5,
    "start_time": "2022-05-22T17:56:10.595Z"
   },
   {
    "duration": 45,
    "start_time": "2022-05-22T17:58:47.507Z"
   },
   {
    "duration": 24,
    "start_time": "2022-05-22T17:58:48.562Z"
   },
   {
    "duration": 22,
    "start_time": "2022-05-22T17:58:49.133Z"
   },
   {
    "duration": 5,
    "start_time": "2022-05-22T17:58:49.678Z"
   },
   {
    "duration": 505,
    "start_time": "2022-05-22T17:58:53.955Z"
   },
   {
    "duration": 54,
    "start_time": "2022-05-22T18:05:52.572Z"
   },
   {
    "duration": 68,
    "start_time": "2022-05-22T18:06:08.224Z"
   },
   {
    "duration": 42,
    "start_time": "2022-05-22T18:06:12.932Z"
   },
   {
    "duration": 51,
    "start_time": "2022-05-22T18:06:16.715Z"
   },
   {
    "duration": 10,
    "start_time": "2022-05-22T18:06:18.439Z"
   },
   {
    "duration": 611,
    "start_time": "2022-05-22T18:07:17.709Z"
   },
   {
    "duration": 479,
    "start_time": "2022-05-22T18:07:43.693Z"
   },
   {
    "duration": 48,
    "start_time": "2022-05-22T18:07:44.174Z"
   },
   {
    "duration": 25,
    "start_time": "2022-05-22T18:07:44.224Z"
   },
   {
    "duration": 275,
    "start_time": "2022-05-22T18:07:44.251Z"
   },
   {
    "duration": 24,
    "start_time": "2022-05-22T18:07:44.528Z"
   },
   {
    "duration": 16,
    "start_time": "2022-05-22T18:07:44.553Z"
   },
   {
    "duration": 45,
    "start_time": "2022-05-22T18:07:44.570Z"
   },
   {
    "duration": 208,
    "start_time": "2022-05-22T18:07:44.621Z"
   },
   {
    "duration": 4,
    "start_time": "2022-05-22T18:07:44.830Z"
   },
   {
    "duration": 5,
    "start_time": "2022-05-22T18:07:44.835Z"
   },
   {
    "duration": 33,
    "start_time": "2022-05-22T18:07:44.842Z"
   },
   {
    "duration": 45,
    "start_time": "2022-05-22T18:07:44.877Z"
   },
   {
    "duration": 20,
    "start_time": "2022-05-22T18:07:44.924Z"
   },
   {
    "duration": 5,
    "start_time": "2022-05-22T18:07:44.946Z"
   },
   {
    "duration": 13,
    "start_time": "2022-05-22T18:07:44.952Z"
   },
   {
    "duration": 60,
    "start_time": "2022-05-22T18:07:44.967Z"
   },
   {
    "duration": 54,
    "start_time": "2022-05-22T18:07:45.029Z"
   },
   {
    "duration": 56,
    "start_time": "2022-05-22T18:07:45.085Z"
   },
   {
    "duration": 73,
    "start_time": "2022-05-22T18:07:45.142Z"
   },
   {
    "duration": 32,
    "start_time": "2022-05-22T18:07:57.090Z"
   },
   {
    "duration": 27,
    "start_time": "2022-05-22T18:10:08.566Z"
   },
   {
    "duration": 18,
    "start_time": "2022-05-22T18:13:30.069Z"
   },
   {
    "duration": 17,
    "start_time": "2022-05-22T18:14:23.458Z"
   },
   {
    "duration": 18,
    "start_time": "2022-05-22T18:14:41.526Z"
   },
   {
    "duration": 19,
    "start_time": "2022-05-22T18:15:24.564Z"
   },
   {
    "duration": 32,
    "start_time": "2022-05-22T18:15:37.513Z"
   },
   {
    "duration": 76,
    "start_time": "2022-05-22T18:33:03.172Z"
   },
   {
    "duration": 75,
    "start_time": "2022-05-22T18:34:51.508Z"
   },
   {
    "duration": 1503,
    "start_time": "2022-05-22T18:35:26.955Z"
   },
   {
    "duration": 43,
    "start_time": "2022-05-22T18:35:28.461Z"
   },
   {
    "duration": 43,
    "start_time": "2022-05-22T18:35:28.506Z"
   },
   {
    "duration": 296,
    "start_time": "2022-05-22T18:35:28.551Z"
   },
   {
    "duration": 56,
    "start_time": "2022-05-22T18:35:28.850Z"
   },
   {
    "duration": 21,
    "start_time": "2022-05-22T18:35:28.911Z"
   },
   {
    "duration": 25,
    "start_time": "2022-05-22T18:35:28.935Z"
   },
   {
    "duration": 268,
    "start_time": "2022-05-22T18:35:28.962Z"
   },
   {
    "duration": 5,
    "start_time": "2022-05-22T18:35:29.232Z"
   },
   {
    "duration": 6,
    "start_time": "2022-05-22T18:35:29.238Z"
   },
   {
    "duration": 63,
    "start_time": "2022-05-22T18:35:29.246Z"
   },
   {
    "duration": 26,
    "start_time": "2022-05-22T18:35:29.311Z"
   },
   {
    "duration": 20,
    "start_time": "2022-05-22T18:35:29.339Z"
   },
   {
    "duration": 5,
    "start_time": "2022-05-22T18:35:29.363Z"
   },
   {
    "duration": 31,
    "start_time": "2022-05-22T18:35:29.370Z"
   },
   {
    "duration": 44,
    "start_time": "2022-05-22T18:35:29.403Z"
   },
   {
    "duration": 78,
    "start_time": "2022-05-22T18:35:29.448Z"
   },
   {
    "duration": 47,
    "start_time": "2022-05-22T18:35:29.528Z"
   },
   {
    "duration": 60,
    "start_time": "2022-05-22T18:35:29.577Z"
   },
   {
    "duration": 10,
    "start_time": "2022-05-22T18:35:29.639Z"
   },
   {
    "duration": 55,
    "start_time": "2022-05-22T18:35:29.650Z"
   },
   {
    "duration": 70,
    "start_time": "2022-05-22T18:35:39.278Z"
   },
   {
    "duration": 92,
    "start_time": "2022-05-22T18:36:34.569Z"
   },
   {
    "duration": 66,
    "start_time": "2022-05-22T18:39:47.811Z"
   },
   {
    "duration": 80,
    "start_time": "2022-05-22T18:39:55.770Z"
   },
   {
    "duration": 80,
    "start_time": "2022-05-22T18:41:36.110Z"
   },
   {
    "duration": 57,
    "start_time": "2022-05-22T18:48:04.363Z"
   },
   {
    "duration": 13,
    "start_time": "2022-05-22T18:50:49.893Z"
   },
   {
    "duration": 14,
    "start_time": "2022-05-22T18:50:54.554Z"
   },
   {
    "duration": 14,
    "start_time": "2022-05-22T19:00:02.936Z"
   },
   {
    "duration": 38,
    "start_time": "2022-05-22T19:00:34.218Z"
   },
   {
    "duration": 46,
    "start_time": "2022-05-22T19:01:59.673Z"
   },
   {
    "duration": 7,
    "start_time": "2022-05-22T19:03:08.871Z"
   },
   {
    "duration": 202,
    "start_time": "2022-05-22T19:03:10.622Z"
   },
   {
    "duration": 321,
    "start_time": "2022-05-22T19:04:09.076Z"
   },
   {
    "duration": 160,
    "start_time": "2022-05-22T19:05:19.202Z"
   },
   {
    "duration": 193,
    "start_time": "2022-05-22T19:06:00.485Z"
   },
   {
    "duration": 8,
    "start_time": "2022-05-22T19:07:53.956Z"
   },
   {
    "duration": 12,
    "start_time": "2022-05-22T19:08:09.661Z"
   },
   {
    "duration": 75,
    "start_time": "2022-05-23T05:24:06.950Z"
   },
   {
    "duration": 2253,
    "start_time": "2022-05-23T05:24:18.002Z"
   },
   {
    "duration": 54,
    "start_time": "2022-05-23T05:24:20.257Z"
   },
   {
    "duration": 27,
    "start_time": "2022-05-23T05:24:20.313Z"
   },
   {
    "duration": 866,
    "start_time": "2022-05-23T05:24:20.342Z"
   },
   {
    "duration": 41,
    "start_time": "2022-05-23T05:24:21.210Z"
   },
   {
    "duration": 32,
    "start_time": "2022-05-23T05:24:21.265Z"
   },
   {
    "duration": 111,
    "start_time": "2022-05-23T05:24:21.300Z"
   },
   {
    "duration": 262,
    "start_time": "2022-05-23T05:24:21.412Z"
   },
   {
    "duration": 9,
    "start_time": "2022-05-23T05:24:21.680Z"
   },
   {
    "duration": 10,
    "start_time": "2022-05-23T05:24:21.694Z"
   },
   {
    "duration": 46,
    "start_time": "2022-05-23T05:24:21.705Z"
   },
   {
    "duration": 51,
    "start_time": "2022-05-23T05:24:21.753Z"
   },
   {
    "duration": 21,
    "start_time": "2022-05-23T05:24:21.806Z"
   },
   {
    "duration": 5,
    "start_time": "2022-05-23T05:24:21.829Z"
   },
   {
    "duration": 33,
    "start_time": "2022-05-23T05:24:21.836Z"
   },
   {
    "duration": 55,
    "start_time": "2022-05-23T05:24:21.870Z"
   },
   {
    "duration": 77,
    "start_time": "2022-05-23T05:24:21.927Z"
   },
   {
    "duration": 47,
    "start_time": "2022-05-23T05:24:22.005Z"
   },
   {
    "duration": 66,
    "start_time": "2022-05-23T05:24:22.053Z"
   },
   {
    "duration": 10,
    "start_time": "2022-05-23T05:24:22.120Z"
   },
   {
    "duration": 42,
    "start_time": "2022-05-23T05:24:22.131Z"
   },
   {
    "duration": 74,
    "start_time": "2022-05-23T05:24:22.177Z"
   },
   {
    "duration": 12,
    "start_time": "2022-05-23T05:24:22.252Z"
   },
   {
    "duration": 44,
    "start_time": "2022-05-23T05:24:22.268Z"
   },
   {
    "duration": 12,
    "start_time": "2022-05-23T05:24:22.314Z"
   },
   {
    "duration": 37,
    "start_time": "2022-05-23T05:24:22.328Z"
   },
   {
    "duration": 13,
    "start_time": "2022-05-23T05:24:22.367Z"
   },
   {
    "duration": 233,
    "start_time": "2022-05-23T05:24:22.384Z"
   },
   {
    "duration": 182,
    "start_time": "2022-05-23T05:24:22.619Z"
   },
   {
    "duration": 190,
    "start_time": "2022-05-23T05:24:30.805Z"
   },
   {
    "duration": 233,
    "start_time": "2022-05-23T05:24:52.615Z"
   },
   {
    "duration": 287,
    "start_time": "2022-05-23T05:25:09.633Z"
   },
   {
    "duration": 5,
    "start_time": "2022-05-23T06:02:35.345Z"
   },
   {
    "duration": 7,
    "start_time": "2022-05-23T06:03:05.380Z"
   },
   {
    "duration": 6,
    "start_time": "2022-05-23T06:09:23.388Z"
   },
   {
    "duration": 16,
    "start_time": "2022-05-23T06:18:06.158Z"
   },
   {
    "duration": 18,
    "start_time": "2022-05-23T06:18:15.615Z"
   },
   {
    "duration": 19,
    "start_time": "2022-05-23T06:19:21.590Z"
   },
   {
    "duration": 14,
    "start_time": "2022-05-23T06:20:11.890Z"
   },
   {
    "duration": 2,
    "start_time": "2022-05-23T06:21:14.692Z"
   },
   {
    "duration": 3,
    "start_time": "2022-05-23T06:21:22.780Z"
   },
   {
    "duration": 59,
    "start_time": "2022-05-23T17:21:11.768Z"
   },
   {
    "duration": 1321,
    "start_time": "2022-05-23T17:22:31.979Z"
   },
   {
    "duration": 42,
    "start_time": "2022-05-23T17:22:33.302Z"
   },
   {
    "duration": 25,
    "start_time": "2022-05-23T17:22:33.346Z"
   },
   {
    "duration": 536,
    "start_time": "2022-05-23T17:22:33.373Z"
   },
   {
    "duration": 28,
    "start_time": "2022-05-23T17:22:33.911Z"
   },
   {
    "duration": 15,
    "start_time": "2022-05-23T17:22:33.940Z"
   },
   {
    "duration": 20,
    "start_time": "2022-05-23T17:22:33.957Z"
   },
   {
    "duration": 258,
    "start_time": "2022-05-23T17:22:33.979Z"
   },
   {
    "duration": 5,
    "start_time": "2022-05-23T17:22:34.238Z"
   },
   {
    "duration": 11,
    "start_time": "2022-05-23T17:22:34.244Z"
   },
   {
    "duration": 34,
    "start_time": "2022-05-23T17:22:34.257Z"
   },
   {
    "duration": 37,
    "start_time": "2022-05-23T17:22:34.293Z"
   },
   {
    "duration": 20,
    "start_time": "2022-05-23T17:22:34.331Z"
   },
   {
    "duration": 5,
    "start_time": "2022-05-23T17:22:34.354Z"
   },
   {
    "duration": 17,
    "start_time": "2022-05-23T17:22:34.360Z"
   },
   {
    "duration": 48,
    "start_time": "2022-05-23T17:22:34.379Z"
   },
   {
    "duration": 58,
    "start_time": "2022-05-23T17:22:34.429Z"
   },
   {
    "duration": 58,
    "start_time": "2022-05-23T17:22:34.488Z"
   },
   {
    "duration": 41,
    "start_time": "2022-05-23T17:22:34.547Z"
   },
   {
    "duration": 9,
    "start_time": "2022-05-23T17:22:34.590Z"
   },
   {
    "duration": 46,
    "start_time": "2022-05-23T17:22:34.600Z"
   },
   {
    "duration": 50,
    "start_time": "2022-05-23T17:22:34.648Z"
   },
   {
    "duration": 4,
    "start_time": "2022-05-23T17:22:34.699Z"
   },
   {
    "duration": 29,
    "start_time": "2022-05-23T17:22:34.704Z"
   },
   {
    "duration": 14,
    "start_time": "2022-05-23T17:22:34.734Z"
   },
   {
    "duration": 33,
    "start_time": "2022-05-23T17:22:34.749Z"
   },
   {
    "duration": 7,
    "start_time": "2022-05-23T17:22:34.784Z"
   },
   {
    "duration": 32,
    "start_time": "2022-05-23T17:22:34.792Z"
   },
   {
    "duration": 244,
    "start_time": "2022-05-23T17:22:34.825Z"
   },
   {
    "duration": 146,
    "start_time": "2022-05-23T17:22:35.071Z"
   },
   {
    "duration": 170,
    "start_time": "2022-05-23T17:22:35.223Z"
   },
   {
    "duration": 8,
    "start_time": "2022-05-23T17:22:35.395Z"
   },
   {
    "duration": 34,
    "start_time": "2022-05-23T17:22:35.405Z"
   },
   {
    "duration": 7,
    "start_time": "2022-05-23T17:22:35.440Z"
   },
   {
    "duration": 9,
    "start_time": "2022-05-23T17:22:35.448Z"
   },
   {
    "duration": 6,
    "start_time": "2022-05-23T17:22:35.458Z"
   },
   {
    "duration": 8,
    "start_time": "2022-05-23T17:22:35.466Z"
   },
   {
    "duration": 5,
    "start_time": "2022-05-23T17:22:43.950Z"
   },
   {
    "duration": 56,
    "start_time": "2022-05-23T17:22:55.430Z"
   },
   {
    "duration": 112,
    "start_time": "2022-05-23T17:23:03.268Z"
   },
   {
    "duration": 1390,
    "start_time": "2022-05-23T17:23:49.214Z"
   },
   {
    "duration": 174,
    "start_time": "2022-05-23T17:23:57.686Z"
   },
   {
    "duration": 195,
    "start_time": "2022-05-23T17:24:09.206Z"
   },
   {
    "duration": 181,
    "start_time": "2022-05-23T17:24:13.494Z"
   },
   {
    "duration": 1289,
    "start_time": "2022-05-23T17:25:47.682Z"
   },
   {
    "duration": 38,
    "start_time": "2022-05-23T17:25:48.973Z"
   },
   {
    "duration": 41,
    "start_time": "2022-05-23T17:25:49.013Z"
   },
   {
    "duration": 536,
    "start_time": "2022-05-23T17:25:49.056Z"
   },
   {
    "duration": 38,
    "start_time": "2022-05-23T17:25:49.595Z"
   },
   {
    "duration": 18,
    "start_time": "2022-05-23T17:25:49.634Z"
   },
   {
    "duration": 18,
    "start_time": "2022-05-23T17:25:49.653Z"
   },
   {
    "duration": 259,
    "start_time": "2022-05-23T17:25:49.672Z"
   },
   {
    "duration": 5,
    "start_time": "2022-05-23T17:25:49.933Z"
   },
   {
    "duration": 13,
    "start_time": "2022-05-23T17:25:49.939Z"
   },
   {
    "duration": 47,
    "start_time": "2022-05-23T17:25:49.955Z"
   },
   {
    "duration": 36,
    "start_time": "2022-05-23T17:25:50.003Z"
   },
   {
    "duration": 20,
    "start_time": "2022-05-23T17:25:50.041Z"
   },
   {
    "duration": 5,
    "start_time": "2022-05-23T17:25:50.064Z"
   },
   {
    "duration": 20,
    "start_time": "2022-05-23T17:25:50.071Z"
   },
   {
    "duration": 51,
    "start_time": "2022-05-23T17:25:50.092Z"
   },
   {
    "duration": 82,
    "start_time": "2022-05-23T17:25:50.144Z"
   },
   {
    "duration": 45,
    "start_time": "2022-05-23T17:25:50.228Z"
   },
   {
    "duration": 68,
    "start_time": "2022-05-23T17:25:50.276Z"
   },
   {
    "duration": 10,
    "start_time": "2022-05-23T17:25:50.345Z"
   },
   {
    "duration": 38,
    "start_time": "2022-05-23T17:25:50.357Z"
   },
   {
    "duration": 77,
    "start_time": "2022-05-23T17:25:50.396Z"
   },
   {
    "duration": 5,
    "start_time": "2022-05-23T17:25:50.475Z"
   },
   {
    "duration": 20,
    "start_time": "2022-05-23T17:25:50.481Z"
   },
   {
    "duration": 30,
    "start_time": "2022-05-23T17:25:50.503Z"
   },
   {
    "duration": 34,
    "start_time": "2022-05-23T17:25:50.534Z"
   },
   {
    "duration": 8,
    "start_time": "2022-05-23T17:25:50.570Z"
   },
   {
    "duration": 13,
    "start_time": "2022-05-23T17:25:50.580Z"
   },
   {
    "duration": 288,
    "start_time": "2022-05-23T17:25:50.595Z"
   },
   {
    "duration": 157,
    "start_time": "2022-05-23T17:25:50.884Z"
   },
   {
    "duration": 176,
    "start_time": "2022-05-23T17:25:51.043Z"
   },
   {
    "duration": 9,
    "start_time": "2022-05-23T17:25:51.223Z"
   },
   {
    "duration": 14,
    "start_time": "2022-05-23T17:25:51.233Z"
   },
   {
    "duration": 7,
    "start_time": "2022-05-23T17:25:51.249Z"
   },
   {
    "duration": 8,
    "start_time": "2022-05-23T17:25:51.257Z"
   },
   {
    "duration": 4,
    "start_time": "2022-05-23T17:25:51.267Z"
   },
   {
    "duration": 9,
    "start_time": "2022-05-23T17:25:51.273Z"
   },
   {
    "duration": 72,
    "start_time": "2022-05-23T17:25:51.324Z"
   },
   {
    "duration": 1504,
    "start_time": "2022-05-23T17:25:51.398Z"
   },
   {
    "duration": 203,
    "start_time": "2022-05-23T17:25:52.903Z"
   },
   {
    "duration": 214,
    "start_time": "2022-05-23T17:25:53.109Z"
   },
   {
    "duration": 193,
    "start_time": "2022-05-23T17:25:53.325Z"
   },
   {
    "duration": 51,
    "start_time": "2022-05-23T17:25:53.519Z"
   },
   {
    "duration": 1908,
    "start_time": "2022-05-24T05:47:15.142Z"
   },
   {
    "duration": 38,
    "start_time": "2022-05-24T05:47:17.052Z"
   },
   {
    "duration": 25,
    "start_time": "2022-05-24T05:47:17.091Z"
   },
   {
    "duration": 688,
    "start_time": "2022-05-24T05:47:17.118Z"
   },
   {
    "duration": 22,
    "start_time": "2022-05-24T05:47:17.808Z"
   },
   {
    "duration": 27,
    "start_time": "2022-05-24T05:47:17.832Z"
   },
   {
    "duration": 93,
    "start_time": "2022-05-24T05:47:17.860Z"
   },
   {
    "duration": 206,
    "start_time": "2022-05-24T05:47:17.954Z"
   },
   {
    "duration": 5,
    "start_time": "2022-05-24T05:47:18.162Z"
   },
   {
    "duration": 3,
    "start_time": "2022-05-24T05:47:18.169Z"
   },
   {
    "duration": 37,
    "start_time": "2022-05-24T05:47:18.173Z"
   },
   {
    "duration": 46,
    "start_time": "2022-05-24T05:47:18.212Z"
   },
   {
    "duration": 19,
    "start_time": "2022-05-24T05:47:18.260Z"
   },
   {
    "duration": 4,
    "start_time": "2022-05-24T05:47:18.280Z"
   },
   {
    "duration": 16,
    "start_time": "2022-05-24T05:47:18.285Z"
   },
   {
    "duration": 50,
    "start_time": "2022-05-24T05:47:18.303Z"
   },
   {
    "duration": 57,
    "start_time": "2022-05-24T05:47:18.355Z"
   },
   {
    "duration": 57,
    "start_time": "2022-05-24T05:47:18.414Z"
   },
   {
    "duration": 40,
    "start_time": "2022-05-24T05:47:18.473Z"
   },
   {
    "duration": 9,
    "start_time": "2022-05-24T05:47:18.515Z"
   },
   {
    "duration": 33,
    "start_time": "2022-05-24T05:47:18.526Z"
   },
   {
    "duration": 22,
    "start_time": "2022-05-24T05:51:09.539Z"
   },
   {
    "duration": 47,
    "start_time": "2022-05-24T05:51:25.311Z"
   },
   {
    "duration": 38,
    "start_time": "2022-05-24T05:51:49.310Z"
   },
   {
    "duration": 34,
    "start_time": "2022-05-24T05:52:13.702Z"
   },
   {
    "duration": 41,
    "start_time": "2022-05-24T05:52:31.483Z"
   },
   {
    "duration": 39,
    "start_time": "2022-05-24T05:52:50.387Z"
   },
   {
    "duration": 21,
    "start_time": "2022-05-24T05:53:41.547Z"
   },
   {
    "duration": 22,
    "start_time": "2022-05-24T05:53:46.815Z"
   },
   {
    "duration": 25,
    "start_time": "2022-05-24T06:07:43.286Z"
   },
   {
    "duration": 97,
    "start_time": "2022-05-24T06:25:17.531Z"
   },
   {
    "duration": 1229,
    "start_time": "2022-05-25T00:10:56.501Z"
   },
   {
    "duration": 43,
    "start_time": "2022-05-25T00:10:57.733Z"
   },
   {
    "duration": 26,
    "start_time": "2022-05-25T00:10:57.780Z"
   },
   {
    "duration": 558,
    "start_time": "2022-05-25T00:10:57.808Z"
   },
   {
    "duration": 27,
    "start_time": "2022-05-25T00:10:58.367Z"
   },
   {
    "duration": 18,
    "start_time": "2022-05-25T00:10:58.395Z"
   },
   {
    "duration": 18,
    "start_time": "2022-05-25T00:10:58.415Z"
   },
   {
    "duration": 232,
    "start_time": "2022-05-25T00:10:58.459Z"
   },
   {
    "duration": 5,
    "start_time": "2022-05-25T00:10:58.692Z"
   },
   {
    "duration": 5,
    "start_time": "2022-05-25T00:10:58.698Z"
   },
   {
    "duration": 36,
    "start_time": "2022-05-25T00:10:58.704Z"
   },
   {
    "duration": 44,
    "start_time": "2022-05-25T00:10:58.742Z"
   },
   {
    "duration": 20,
    "start_time": "2022-05-25T00:10:58.789Z"
   },
   {
    "duration": 5,
    "start_time": "2022-05-25T00:10:58.810Z"
   },
   {
    "duration": 21,
    "start_time": "2022-05-25T00:10:58.817Z"
   },
   {
    "duration": 32,
    "start_time": "2022-05-25T00:10:58.858Z"
   },
   {
    "duration": 84,
    "start_time": "2022-05-25T00:10:58.891Z"
   },
   {
    "duration": 41,
    "start_time": "2022-05-25T00:10:58.977Z"
   },
   {
    "duration": 52,
    "start_time": "2022-05-25T00:10:59.019Z"
   },
   {
    "duration": 9,
    "start_time": "2022-05-25T00:10:59.073Z"
   },
   {
    "duration": 20,
    "start_time": "2022-05-25T00:10:59.083Z"
   },
   {
    "duration": 22,
    "start_time": "2022-05-25T00:10:59.105Z"
   },
   {
    "duration": 40,
    "start_time": "2022-05-25T00:10:59.128Z"
   },
   {
    "duration": 105,
    "start_time": "2022-05-25T00:10:59.170Z"
   },
   {
    "duration": 3,
    "start_time": "2022-05-25T00:10:59.277Z"
   },
   {
    "duration": 11,
    "start_time": "2022-05-25T00:10:59.282Z"
   },
   {
    "duration": 19,
    "start_time": "2022-05-25T00:10:59.295Z"
   },
   {
    "duration": 14,
    "start_time": "2022-05-25T00:10:59.316Z"
   },
   {
    "duration": 119,
    "start_time": "2022-05-25T00:10:59.332Z"
   },
   {
    "duration": 0,
    "start_time": "2022-05-25T00:10:59.453Z"
   },
   {
    "duration": 0,
    "start_time": "2022-05-25T00:10:59.466Z"
   },
   {
    "duration": 0,
    "start_time": "2022-05-25T00:10:59.467Z"
   },
   {
    "duration": 0,
    "start_time": "2022-05-25T00:10:59.468Z"
   },
   {
    "duration": 0,
    "start_time": "2022-05-25T00:10:59.468Z"
   },
   {
    "duration": 0,
    "start_time": "2022-05-25T00:10:59.469Z"
   },
   {
    "duration": 0,
    "start_time": "2022-05-25T00:10:59.470Z"
   },
   {
    "duration": 0,
    "start_time": "2022-05-25T00:10:59.471Z"
   },
   {
    "duration": 0,
    "start_time": "2022-05-25T00:10:59.471Z"
   },
   {
    "duration": 0,
    "start_time": "2022-05-25T00:10:59.472Z"
   },
   {
    "duration": 0,
    "start_time": "2022-05-25T00:10:59.472Z"
   },
   {
    "duration": 0,
    "start_time": "2022-05-25T00:10:59.473Z"
   },
   {
    "duration": 0,
    "start_time": "2022-05-25T00:10:59.473Z"
   },
   {
    "duration": 0,
    "start_time": "2022-05-25T00:10:59.475Z"
   },
   {
    "duration": 0,
    "start_time": "2022-05-25T00:10:59.477Z"
   },
   {
    "duration": 0,
    "start_time": "2022-05-25T00:10:59.478Z"
   },
   {
    "duration": 0,
    "start_time": "2022-05-25T00:10:59.479Z"
   },
   {
    "duration": 10,
    "start_time": "2022-05-25T00:13:49.440Z"
   },
   {
    "duration": 14,
    "start_time": "2022-05-25T00:17:13.558Z"
   },
   {
    "duration": 33,
    "start_time": "2022-05-25T00:17:17.285Z"
   },
   {
    "duration": 2297,
    "start_time": "2022-05-25T05:34:05.825Z"
   },
   {
    "duration": 46,
    "start_time": "2022-05-25T05:34:08.124Z"
   },
   {
    "duration": 23,
    "start_time": "2022-05-25T05:34:08.172Z"
   },
   {
    "duration": 747,
    "start_time": "2022-05-25T05:34:08.196Z"
   },
   {
    "duration": 28,
    "start_time": "2022-05-25T05:34:08.947Z"
   },
   {
    "duration": 13,
    "start_time": "2022-05-25T05:34:08.976Z"
   },
   {
    "duration": 103,
    "start_time": "2022-05-25T05:34:08.990Z"
   },
   {
    "duration": 259,
    "start_time": "2022-05-25T05:34:09.095Z"
   },
   {
    "duration": 5,
    "start_time": "2022-05-25T05:34:09.359Z"
   },
   {
    "duration": 7,
    "start_time": "2022-05-25T05:34:09.366Z"
   },
   {
    "duration": 36,
    "start_time": "2022-05-25T05:34:09.374Z"
   },
   {
    "duration": 45,
    "start_time": "2022-05-25T05:34:09.412Z"
   },
   {
    "duration": 18,
    "start_time": "2022-05-25T05:34:09.459Z"
   },
   {
    "duration": 4,
    "start_time": "2022-05-25T05:34:09.478Z"
   },
   {
    "duration": 17,
    "start_time": "2022-05-25T05:34:09.483Z"
   },
   {
    "duration": 39,
    "start_time": "2022-05-25T05:34:09.502Z"
   },
   {
    "duration": 59,
    "start_time": "2022-05-25T05:34:09.544Z"
   },
   {
    "duration": 60,
    "start_time": "2022-05-25T05:34:09.605Z"
   },
   {
    "duration": 36,
    "start_time": "2022-05-25T05:34:09.667Z"
   },
   {
    "duration": 9,
    "start_time": "2022-05-25T05:34:09.704Z"
   },
   {
    "duration": 36,
    "start_time": "2022-05-25T05:34:09.728Z"
   },
   {
    "duration": 25,
    "start_time": "2022-05-25T05:34:12.953Z"
   },
   {
    "duration": 34,
    "start_time": "2022-05-25T05:34:32.002Z"
   },
   {
    "duration": 111,
    "start_time": "2022-05-25T05:34:34.246Z"
   },
   {
    "duration": 3,
    "start_time": "2022-05-25T05:34:35.888Z"
   },
   {
    "duration": 4,
    "start_time": "2022-05-25T05:34:40.168Z"
   },
   {
    "duration": 18,
    "start_time": "2022-05-25T05:34:42.752Z"
   },
   {
    "duration": 12,
    "start_time": "2022-05-25T05:34:50.109Z"
   },
   {
    "duration": 48,
    "start_time": "2022-05-25T05:35:00.499Z"
   },
   {
    "duration": 9,
    "start_time": "2022-05-25T05:35:24.455Z"
   },
   {
    "duration": 6,
    "start_time": "2022-05-25T05:35:25.977Z"
   },
   {
    "duration": 180,
    "start_time": "2022-05-25T05:35:30.281Z"
   },
   {
    "duration": 154,
    "start_time": "2022-05-25T05:35:37.660Z"
   },
   {
    "duration": 169,
    "start_time": "2022-05-25T05:35:41.451Z"
   },
   {
    "duration": 7,
    "start_time": "2022-05-25T05:35:54.705Z"
   },
   {
    "duration": 15,
    "start_time": "2022-05-25T05:36:03.225Z"
   },
   {
    "duration": 6,
    "start_time": "2022-05-25T05:36:12.675Z"
   },
   {
    "duration": 4,
    "start_time": "2022-05-25T05:39:25.113Z"
   },
   {
    "duration": 2,
    "start_time": "2022-05-25T05:39:28.465Z"
   },
   {
    "duration": 4,
    "start_time": "2022-05-25T05:39:35.771Z"
   },
   {
    "duration": 185,
    "start_time": "2022-05-25T05:39:39.421Z"
   },
   {
    "duration": 1350,
    "start_time": "2022-05-25T05:39:40.038Z"
   },
   {
    "duration": 176,
    "start_time": "2022-05-25T05:39:41.389Z"
   },
   {
    "duration": 171,
    "start_time": "2022-05-25T05:39:42.194Z"
   },
   {
    "duration": 167,
    "start_time": "2022-05-25T05:39:43.337Z"
   },
   {
    "duration": 148,
    "start_time": "2022-05-25T05:39:50.527Z"
   },
   {
    "duration": 1715,
    "start_time": "2022-05-25T20:52:40.361Z"
   },
   {
    "duration": 33,
    "start_time": "2022-05-25T20:52:42.078Z"
   },
   {
    "duration": 23,
    "start_time": "2022-05-25T20:52:42.112Z"
   },
   {
    "duration": 518,
    "start_time": "2022-05-25T20:52:42.137Z"
   },
   {
    "duration": 22,
    "start_time": "2022-05-25T20:52:42.657Z"
   },
   {
    "duration": 14,
    "start_time": "2022-05-25T20:52:42.681Z"
   },
   {
    "duration": 16,
    "start_time": "2022-05-25T20:52:42.697Z"
   },
   {
    "duration": 225,
    "start_time": "2022-05-25T20:52:42.714Z"
   },
   {
    "duration": 13,
    "start_time": "2022-05-25T20:52:42.941Z"
   },
   {
    "duration": 5,
    "start_time": "2022-05-25T20:52:42.955Z"
   },
   {
    "duration": 36,
    "start_time": "2022-05-25T20:52:42.961Z"
   },
   {
    "duration": 23,
    "start_time": "2022-05-25T20:52:42.998Z"
   },
   {
    "duration": 31,
    "start_time": "2022-05-25T20:52:43.022Z"
   },
   {
    "duration": 5,
    "start_time": "2022-05-25T20:52:43.056Z"
   },
   {
    "duration": 16,
    "start_time": "2022-05-25T20:52:43.062Z"
   },
   {
    "duration": 26,
    "start_time": "2022-05-25T20:52:43.079Z"
   },
   {
    "duration": 73,
    "start_time": "2022-05-25T20:52:43.107Z"
   },
   {
    "duration": 41,
    "start_time": "2022-05-25T20:52:43.181Z"
   },
   {
    "duration": 55,
    "start_time": "2022-05-25T20:52:43.224Z"
   },
   {
    "duration": 8,
    "start_time": "2022-05-25T20:52:43.280Z"
   },
   {
    "duration": 17,
    "start_time": "2022-05-25T20:52:43.289Z"
   },
   {
    "duration": 23,
    "start_time": "2022-05-25T20:52:43.307Z"
   },
   {
    "duration": 37,
    "start_time": "2022-05-25T20:52:43.332Z"
   },
   {
    "duration": 97,
    "start_time": "2022-05-25T20:52:43.370Z"
   },
   {
    "duration": 2,
    "start_time": "2022-05-25T20:52:43.468Z"
   },
   {
    "duration": 8,
    "start_time": "2022-05-25T20:52:43.471Z"
   },
   {
    "duration": 19,
    "start_time": "2022-05-25T20:52:43.481Z"
   },
   {
    "duration": 18,
    "start_time": "2022-05-25T20:52:43.501Z"
   },
   {
    "duration": 44,
    "start_time": "2022-05-25T20:52:43.520Z"
   },
   {
    "duration": 7,
    "start_time": "2022-05-25T20:52:43.566Z"
   },
   {
    "duration": 10,
    "start_time": "2022-05-25T20:52:43.575Z"
   },
   {
    "duration": 249,
    "start_time": "2022-05-25T20:52:43.586Z"
   },
   {
    "duration": 150,
    "start_time": "2022-05-25T20:52:43.837Z"
   },
   {
    "duration": 175,
    "start_time": "2022-05-25T20:52:43.989Z"
   },
   {
    "duration": 7,
    "start_time": "2022-05-25T20:52:44.166Z"
   },
   {
    "duration": 13,
    "start_time": "2022-05-25T20:52:44.174Z"
   },
   {
    "duration": 6,
    "start_time": "2022-05-25T20:52:44.188Z"
   },
   {
    "duration": 11,
    "start_time": "2022-05-25T20:52:44.195Z"
   },
   {
    "duration": 7,
    "start_time": "2022-05-25T20:52:44.208Z"
   },
   {
    "duration": 6,
    "start_time": "2022-05-25T20:52:44.216Z"
   },
   {
    "duration": 82,
    "start_time": "2022-05-25T20:52:44.226Z"
   },
   {
    "duration": 1433,
    "start_time": "2022-05-25T20:52:44.309Z"
   },
   {
    "duration": 180,
    "start_time": "2022-05-25T20:52:45.743Z"
   },
   {
    "duration": 181,
    "start_time": "2022-05-25T20:52:45.925Z"
   },
   {
    "duration": 181,
    "start_time": "2022-05-25T20:52:46.108Z"
   },
   {
    "duration": 53,
    "start_time": "2022-05-25T20:52:46.290Z"
   }
  ],
  "kernelspec": {
   "display_name": "Python 3 (ipykernel)",
   "language": "python",
   "name": "python3"
  },
  "language_info": {
   "codemirror_mode": {
    "name": "ipython",
    "version": 3
   },
   "file_extension": ".py",
   "mimetype": "text/x-python",
   "name": "python",
   "nbconvert_exporter": "python",
   "pygments_lexer": "ipython3",
   "version": "3.9.7"
  },
  "toc": {
   "base_numbering": 1,
   "nav_menu": {},
   "number_sections": true,
   "sideBar": true,
   "skip_h1_title": true,
   "title_cell": "Table of Contents",
   "title_sidebar": "Contents",
   "toc_cell": false,
   "toc_position": {
    "height": "calc(100% - 180px)",
    "left": "10px",
    "top": "150px",
    "width": "189.675px"
   },
   "toc_section_display": true,
   "toc_window_display": true
  }
 },
 "nbformat": 4,
 "nbformat_minor": 2
}
