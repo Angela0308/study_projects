{
 "cells": [
  {
   "cell_type": "markdown",
   "metadata": {
    "toc": true
   },
   "source": [
    "<h1>Содержание<span class=\"tocSkip\"></span></h1>\n",
    "<div class=\"toc\"><ul class=\"toc-item\"><li><span><a href=\"#Описание-проекта\" data-toc-modified-id=\"Описание-проекта-1\"><span class=\"toc-item-num\">1&nbsp;&nbsp;</span>Описание проекта</a></span><ul class=\"toc-item\"><li><span><a href=\"#План-работы\" data-toc-modified-id=\"План-работы-1.1\"><span class=\"toc-item-num\">1.1&nbsp;&nbsp;</span>План работы</a></span></li><li><span><a href=\"#Описание-данных\" data-toc-modified-id=\"Описание-данных-1.2\"><span class=\"toc-item-num\">1.2&nbsp;&nbsp;</span>Описание данных</a></span></li></ul></li><li><span><a href=\"#Изучение-данных-из-файла\" data-toc-modified-id=\"Изучение-данных-из-файла-2\"><span class=\"toc-item-num\">2&nbsp;&nbsp;</span>Изучение данных из файла</a></span><ul class=\"toc-item\"><li><span><a href=\"#Вывод\" data-toc-modified-id=\"Вывод-2.1\"><span class=\"toc-item-num\">2.1&nbsp;&nbsp;</span>Вывод</a></span></li></ul></li><li><span><a href=\"#Предобработка-данных\" data-toc-modified-id=\"Предобработка-данных-3\"><span class=\"toc-item-num\">3&nbsp;&nbsp;</span>Предобработка данных</a></span><ul class=\"toc-item\"><li><span><a href=\"#Вывод\" data-toc-modified-id=\"Вывод-3.1\"><span class=\"toc-item-num\">3.1&nbsp;&nbsp;</span>Вывод</a></span></li></ul></li><li><span><a href=\"#Расчёты-и-добавление-результатов-в-таблицу\" data-toc-modified-id=\"Расчёты-и-добавление-результатов-в-таблицу-4\"><span class=\"toc-item-num\">4&nbsp;&nbsp;</span>Расчёты и добавление результатов в таблицу</a></span></li><li><span><a href=\"#Исследовательский-анализ-данных\" data-toc-modified-id=\"Исследовательский-анализ-данных-5\"><span class=\"toc-item-num\">5&nbsp;&nbsp;</span>Исследовательский анализ данных</a></span><ul class=\"toc-item\"><li><span><a href=\"#Оценка-времени-продажи\" data-toc-modified-id=\"Оценка-времени-продажи-5.1\"><span class=\"toc-item-num\">5.1&nbsp;&nbsp;</span>Оценка времени продажи</a></span><ul class=\"toc-item\"><li><span><a href=\"#Вывод\" data-toc-modified-id=\"Вывод-5.1.1\"><span class=\"toc-item-num\">5.1.1&nbsp;&nbsp;</span>Вывод</a></span></li></ul></li><li><span><a href=\"#Какие-факторы-больше-всего-влияют-на-стоимость-квартиры?\" data-toc-modified-id=\"Какие-факторы-больше-всего-влияют-на-стоимость-квартиры?-5.2\"><span class=\"toc-item-num\">5.2&nbsp;&nbsp;</span>Какие факторы больше всего влияют на стоимость квартиры?</a></span><ul class=\"toc-item\"><li><span><a href=\"#Вывод\" data-toc-modified-id=\"Вывод-5.2.1\"><span class=\"toc-item-num\">5.2.1&nbsp;&nbsp;</span>Вывод</a></span></li></ul></li><li><span><a href=\"#Зависит-ли-цена-от-площади,-числа-комнат,-удалённости-от-центра?\" data-toc-modified-id=\"Зависит-ли-цена-от-площади,-числа-комнат,-удалённости-от-центра?-5.3\"><span class=\"toc-item-num\">5.3&nbsp;&nbsp;</span>Зависит ли цена от площади, числа комнат, удалённости от центра?</a></span><ul class=\"toc-item\"><li><span><a href=\"#Вывод\" data-toc-modified-id=\"Вывод-5.3.1\"><span class=\"toc-item-num\">5.3.1&nbsp;&nbsp;</span>Вывод</a></span></li></ul></li><li><span><a href=\"#Какова-зависимость-от-даты-размещения:-дня-недели,-месяца-и-года?\" data-toc-modified-id=\"Какова-зависимость-от-даты-размещения:-дня-недели,-месяца-и-года?-5.4\"><span class=\"toc-item-num\">5.4&nbsp;&nbsp;</span>Какова зависимость от даты размещения: дня недели, месяца и года?</a></span><ul class=\"toc-item\"><li><span><a href=\"#Вывод\" data-toc-modified-id=\"Вывод-5.4.1\"><span class=\"toc-item-num\">5.4.1&nbsp;&nbsp;</span>Вывод</a></span></li></ul></li><li><span><a href=\"#Какова-зависимость-цены-от-того,-на-каком-этаже-расположена-квартира?\" data-toc-modified-id=\"Какова-зависимость-цены-от-того,-на-каком-этаже-расположена-квартира?-5.5\"><span class=\"toc-item-num\">5.5&nbsp;&nbsp;</span>Какова зависимость цены от того, на каком этаже расположена квартира?</a></span><ul class=\"toc-item\"><li><span><a href=\"#Вывод\" data-toc-modified-id=\"Вывод-5.5.1\"><span class=\"toc-item-num\">5.5.1&nbsp;&nbsp;</span>Вывод</a></span></li></ul></li><li><span><a href=\"#Населённые-пункты-с-самой-высокой-и-низкой-стоимостью-жилья.\" data-toc-modified-id=\"Населённые-пункты-с-самой-высокой-и-низкой-стоимостью-жилья.-5.6\"><span class=\"toc-item-num\">5.6&nbsp;&nbsp;</span>Населённые пункты с самой высокой и низкой стоимостью жилья.</a></span><ul class=\"toc-item\"><li><span><a href=\"#Вывод\" data-toc-modified-id=\"Вывод-5.6.1\"><span class=\"toc-item-num\">5.6.1&nbsp;&nbsp;</span>Вывод</a></span></li></ul></li><li><span><a href=\"#Как-цена-зависит-от-удалённости-от-центра.\" data-toc-modified-id=\"Как-цена-зависит-от-удалённости-от-центра.-5.7\"><span class=\"toc-item-num\">5.7&nbsp;&nbsp;</span>Как цена зависит от удалённости от центра.</a></span><ul class=\"toc-item\"><li><span><a href=\"#Вывод\" data-toc-modified-id=\"Вывод-5.7.1\"><span class=\"toc-item-num\">5.7.1&nbsp;&nbsp;</span>Вывод</a></span></li></ul></li><li><span><a href=\"#Отличаются-ли-факторы,-влияющие-на-стоимость-в-центре-от-всех-данных-совместно.\" data-toc-modified-id=\"Отличаются-ли-факторы,-влияющие-на-стоимость-в-центре-от-всех-данных-совместно.-5.8\"><span class=\"toc-item-num\">5.8&nbsp;&nbsp;</span>Отличаются ли факторы, влияющие на стоимость в центре от всех данных совместно.</a></span><ul class=\"toc-item\"><li><span><a href=\"#Вывод\" data-toc-modified-id=\"Вывод-5.8.1\"><span class=\"toc-item-num\">5.8.1&nbsp;&nbsp;</span>Вывод</a></span></li></ul></li></ul></li><li><span><a href=\"#Общий-вывод\" data-toc-modified-id=\"Общий-вывод-6\"><span class=\"toc-item-num\">6&nbsp;&nbsp;</span>Общий вывод</a></span></li></ul></div>"
   ]
  },
  {
   "cell_type": "markdown",
   "metadata": {},
   "source": [
    "# Исследование объявлений о продаже квартир\n",
    "\n",
    "## Описание проекта\n",
    "На основании архива объявлений о продаже квартир в Санкт-Петербурге и соседних населённых пунктах за несколько лет, данные сервиса Яндекс Недвижимость, нужно установить параметры, которые помогут научиться определять рыночную стоимость объектов недвижимости. Это позволит построить автоматизированную систему: она отследит аномалии и мошенническую деятельность. По каждой квартире на продажу доступны два вида данных. Первые вписаны пользователем, вторые — получены автоматически на основе картографических данных. Например, расстояние до центра, аэропорта, ближайшего парка и водоёма.\n",
    "### План работы\n",
    "1. Изучить общую информацию о данных.\n",
    "2. Выполнить их предобработку:\n",
    "  - Определить и изучить пропущенные значения:\n",
    "     - предположить логичные замены;\n",
    "     - заполнить пропуски, где это уместно.\n",
    "  - Привеcти данные к нужным типам.\n",
    "3. Посчитать и добавить в таблицу новые значения.\n",
    "4. Провести исследовательский анализ данных:\n",
    "  - Описать, сколько обычно занимает продажа. Когда можно считать, что продажи прошли очень быстро, а когда необычно долго?\n",
    "  - Какие факторы больше всего влияют на стоимость квартиры? \n",
    "  - Зависит ли цена от площади, числа комнат, удалённости от центра? \n",
    "  - Какова зависимость цены от того, на каком этаже расположена квартира: первом, последнем или другом? \n",
    "  - Какова зависимость от даты размещения: дня недели, месяца и года?\n",
    "  - Определить населённые пункты с самой высокой и низкой стоимостью жилья.\n",
    "  - Проверить как цена зависит от удалённости от центра.\n",
    "  - Рассмотреть отдельно от всей выборки сегмент квартир в центре, проанализировать, отличаются ли факторы, влияющие на стоимость в центре от всех данных совместно.\n",
    "5. Сделать общие выводы.  \n",
    "\n",
    "### Описание данных\n",
    "- `airports_nearest` — расстояние до ближайшего аэропорта в метрах (м)\n",
    "- `balcony` — число балконов\n",
    "- `ceiling_height` — высота потолков (м)\n",
    "- `cityCenters_nearest` — расстояние до центра города (м)\n",
    "- `days_exposition` — сколько дней было размещено объявление (от публикации до снятия)\n",
    "- `first_day_exposition` — дата публикации\n",
    "- `floor` — этаж\n",
    "- `floors_total` — всего этажей в доме\n",
    "- `is_apartment` — апартаменты (булев тип)\n",
    "- `kitchen_area` — площадь кухни в квадратных метрах (м²)\n",
    "- `last_price` — цена на момент снятия с публикации\n",
    "- `living_area` — жилая площадь в квадратных метрах (м²)\n",
    "- `locality_name` — название населённого пункта\n",
    "- `open_plan` — свободная планировка (булев тип)\n",
    "- `parks_around3000` — число парков в радиусе 3 км\n",
    "- `parks_nearest` — расстояние до ближайшего парка (м)\n",
    "- `parks_nearest3000` — число водоёмов в радиусе 3 км\n",
    "- `ponds_nearest` — расстояние до ближайшего водоёма (м)\n",
    "- `rooms` — число комнат\n",
    "- `studio` — квартира-студия (булев тип)\n",
    "- `total_area` — площадь квартиры в квадратных метрах (м²)\n",
    "- `total_images` — число фотографий квартиры в объявлении"
   ]
  },
  {
   "cell_type": "markdown",
   "metadata": {},
   "source": [
    "## Изучение данных из файла"
   ]
  },
  {
   "cell_type": "code",
   "execution_count": 28,
   "metadata": {},
   "outputs": [],
   "source": [
    "# импорт библиотек\n",
    "import pandas as pd"
   ]
  },
  {
   "cell_type": "code",
   "execution_count": 29,
   "metadata": {},
   "outputs": [
    {
     "data": {
      "text/html": [
       "<div>\n",
       "<style scoped>\n",
       "    .dataframe tbody tr th:only-of-type {\n",
       "        vertical-align: middle;\n",
       "    }\n",
       "\n",
       "    .dataframe tbody tr th {\n",
       "        vertical-align: top;\n",
       "    }\n",
       "\n",
       "    .dataframe thead th {\n",
       "        text-align: right;\n",
       "    }\n",
       "</style>\n",
       "<table border=\"1\" class=\"dataframe\">\n",
       "  <thead>\n",
       "    <tr style=\"text-align: right;\">\n",
       "      <th></th>\n",
       "      <th>total_images</th>\n",
       "      <th>last_price</th>\n",
       "      <th>total_area</th>\n",
       "      <th>first_day_exposition</th>\n",
       "      <th>rooms</th>\n",
       "      <th>ceiling_height</th>\n",
       "      <th>floors_total</th>\n",
       "      <th>living_area</th>\n",
       "      <th>floor</th>\n",
       "      <th>is_apartment</th>\n",
       "      <th>...</th>\n",
       "      <th>kitchen_area</th>\n",
       "      <th>balcony</th>\n",
       "      <th>locality_name</th>\n",
       "      <th>airports_nearest</th>\n",
       "      <th>cityCenters_nearest</th>\n",
       "      <th>parks_around3000</th>\n",
       "      <th>parks_nearest</th>\n",
       "      <th>ponds_around3000</th>\n",
       "      <th>ponds_nearest</th>\n",
       "      <th>days_exposition</th>\n",
       "    </tr>\n",
       "  </thead>\n",
       "  <tbody>\n",
       "    <tr>\n",
       "      <th>0</th>\n",
       "      <td>20</td>\n",
       "      <td>13000000.0</td>\n",
       "      <td>108.0</td>\n",
       "      <td>2019-03-07T00:00:00</td>\n",
       "      <td>3</td>\n",
       "      <td>2.70</td>\n",
       "      <td>16.0</td>\n",
       "      <td>51.0</td>\n",
       "      <td>8</td>\n",
       "      <td>NaN</td>\n",
       "      <td>...</td>\n",
       "      <td>25.0</td>\n",
       "      <td>NaN</td>\n",
       "      <td>Санкт-Петербург</td>\n",
       "      <td>18863.0</td>\n",
       "      <td>16028.0</td>\n",
       "      <td>1.0</td>\n",
       "      <td>482.0</td>\n",
       "      <td>2.0</td>\n",
       "      <td>755.0</td>\n",
       "      <td>NaN</td>\n",
       "    </tr>\n",
       "    <tr>\n",
       "      <th>1</th>\n",
       "      <td>7</td>\n",
       "      <td>3350000.0</td>\n",
       "      <td>40.4</td>\n",
       "      <td>2018-12-04T00:00:00</td>\n",
       "      <td>1</td>\n",
       "      <td>NaN</td>\n",
       "      <td>11.0</td>\n",
       "      <td>18.6</td>\n",
       "      <td>1</td>\n",
       "      <td>NaN</td>\n",
       "      <td>...</td>\n",
       "      <td>11.0</td>\n",
       "      <td>2.0</td>\n",
       "      <td>посёлок Шушары</td>\n",
       "      <td>12817.0</td>\n",
       "      <td>18603.0</td>\n",
       "      <td>0.0</td>\n",
       "      <td>NaN</td>\n",
       "      <td>0.0</td>\n",
       "      <td>NaN</td>\n",
       "      <td>81.0</td>\n",
       "    </tr>\n",
       "    <tr>\n",
       "      <th>2</th>\n",
       "      <td>10</td>\n",
       "      <td>5196000.0</td>\n",
       "      <td>56.0</td>\n",
       "      <td>2015-08-20T00:00:00</td>\n",
       "      <td>2</td>\n",
       "      <td>NaN</td>\n",
       "      <td>5.0</td>\n",
       "      <td>34.3</td>\n",
       "      <td>4</td>\n",
       "      <td>NaN</td>\n",
       "      <td>...</td>\n",
       "      <td>8.3</td>\n",
       "      <td>0.0</td>\n",
       "      <td>Санкт-Петербург</td>\n",
       "      <td>21741.0</td>\n",
       "      <td>13933.0</td>\n",
       "      <td>1.0</td>\n",
       "      <td>90.0</td>\n",
       "      <td>2.0</td>\n",
       "      <td>574.0</td>\n",
       "      <td>558.0</td>\n",
       "    </tr>\n",
       "    <tr>\n",
       "      <th>3</th>\n",
       "      <td>0</td>\n",
       "      <td>64900000.0</td>\n",
       "      <td>159.0</td>\n",
       "      <td>2015-07-24T00:00:00</td>\n",
       "      <td>3</td>\n",
       "      <td>NaN</td>\n",
       "      <td>14.0</td>\n",
       "      <td>NaN</td>\n",
       "      <td>9</td>\n",
       "      <td>NaN</td>\n",
       "      <td>...</td>\n",
       "      <td>NaN</td>\n",
       "      <td>0.0</td>\n",
       "      <td>Санкт-Петербург</td>\n",
       "      <td>28098.0</td>\n",
       "      <td>6800.0</td>\n",
       "      <td>2.0</td>\n",
       "      <td>84.0</td>\n",
       "      <td>3.0</td>\n",
       "      <td>234.0</td>\n",
       "      <td>424.0</td>\n",
       "    </tr>\n",
       "    <tr>\n",
       "      <th>4</th>\n",
       "      <td>2</td>\n",
       "      <td>10000000.0</td>\n",
       "      <td>100.0</td>\n",
       "      <td>2018-06-19T00:00:00</td>\n",
       "      <td>2</td>\n",
       "      <td>3.03</td>\n",
       "      <td>14.0</td>\n",
       "      <td>32.0</td>\n",
       "      <td>13</td>\n",
       "      <td>NaN</td>\n",
       "      <td>...</td>\n",
       "      <td>41.0</td>\n",
       "      <td>NaN</td>\n",
       "      <td>Санкт-Петербург</td>\n",
       "      <td>31856.0</td>\n",
       "      <td>8098.0</td>\n",
       "      <td>2.0</td>\n",
       "      <td>112.0</td>\n",
       "      <td>1.0</td>\n",
       "      <td>48.0</td>\n",
       "      <td>121.0</td>\n",
       "    </tr>\n",
       "  </tbody>\n",
       "</table>\n",
       "<p>5 rows × 22 columns</p>\n",
       "</div>"
      ],
      "text/plain": [
       "   total_images  last_price  total_area first_day_exposition  rooms  \\\n",
       "0            20  13000000.0       108.0  2019-03-07T00:00:00      3   \n",
       "1             7   3350000.0        40.4  2018-12-04T00:00:00      1   \n",
       "2            10   5196000.0        56.0  2015-08-20T00:00:00      2   \n",
       "3             0  64900000.0       159.0  2015-07-24T00:00:00      3   \n",
       "4             2  10000000.0       100.0  2018-06-19T00:00:00      2   \n",
       "\n",
       "   ceiling_height  floors_total  living_area  floor is_apartment  ...  \\\n",
       "0            2.70          16.0         51.0      8          NaN  ...   \n",
       "1             NaN          11.0         18.6      1          NaN  ...   \n",
       "2             NaN           5.0         34.3      4          NaN  ...   \n",
       "3             NaN          14.0          NaN      9          NaN  ...   \n",
       "4            3.03          14.0         32.0     13          NaN  ...   \n",
       "\n",
       "   kitchen_area  balcony    locality_name  airports_nearest  \\\n",
       "0          25.0      NaN  Санкт-Петербург           18863.0   \n",
       "1          11.0      2.0   посёлок Шушары           12817.0   \n",
       "2           8.3      0.0  Санкт-Петербург           21741.0   \n",
       "3           NaN      0.0  Санкт-Петербург           28098.0   \n",
       "4          41.0      NaN  Санкт-Петербург           31856.0   \n",
       "\n",
       "  cityCenters_nearest  parks_around3000  parks_nearest  ponds_around3000  \\\n",
       "0             16028.0               1.0          482.0               2.0   \n",
       "1             18603.0               0.0            NaN               0.0   \n",
       "2             13933.0               1.0           90.0               2.0   \n",
       "3              6800.0               2.0           84.0               3.0   \n",
       "4              8098.0               2.0          112.0               1.0   \n",
       "\n",
       "   ponds_nearest  days_exposition  \n",
       "0          755.0              NaN  \n",
       "1            NaN             81.0  \n",
       "2          574.0            558.0  \n",
       "3          234.0            424.0  \n",
       "4           48.0            121.0  \n",
       "\n",
       "[5 rows x 22 columns]"
      ]
     },
     "metadata": {},
     "output_type": "display_data"
    },
    {
     "name": "stdout",
     "output_type": "stream",
     "text": [
      "<class 'pandas.core.frame.DataFrame'>\n",
      "RangeIndex: 23699 entries, 0 to 23698\n",
      "Data columns (total 22 columns):\n",
      " #   Column                Non-Null Count  Dtype  \n",
      "---  ------                --------------  -----  \n",
      " 0   total_images          23699 non-null  int64  \n",
      " 1   last_price            23699 non-null  float64\n",
      " 2   total_area            23699 non-null  float64\n",
      " 3   first_day_exposition  23699 non-null  object \n",
      " 4   rooms                 23699 non-null  int64  \n",
      " 5   ceiling_height        14504 non-null  float64\n",
      " 6   floors_total          23613 non-null  float64\n",
      " 7   living_area           21796 non-null  float64\n",
      " 8   floor                 23699 non-null  int64  \n",
      " 9   is_apartment          2775 non-null   object \n",
      " 10  studio                23699 non-null  bool   \n",
      " 11  open_plan             23699 non-null  bool   \n",
      " 12  kitchen_area          21421 non-null  float64\n",
      " 13  balcony               12180 non-null  float64\n",
      " 14  locality_name         23650 non-null  object \n",
      " 15  airports_nearest      18157 non-null  float64\n",
      " 16  cityCenters_nearest   18180 non-null  float64\n",
      " 17  parks_around3000      18181 non-null  float64\n",
      " 18  parks_nearest         8079 non-null   float64\n",
      " 19  ponds_around3000      18181 non-null  float64\n",
      " 20  ponds_nearest         9110 non-null   float64\n",
      " 21  days_exposition       20518 non-null  float64\n",
      "dtypes: bool(2), float64(14), int64(3), object(3)\n",
      "memory usage: 3.7+ MB\n"
     ]
    }
   ],
   "source": [
    "# загружаю данные\n",
    "df = pd.read_csv('real_estate_data.csv', sep='\\t')\n",
    "display(df.head())\n",
    "df.info()"
   ]
  },
  {
   "cell_type": "markdown",
   "metadata": {},
   "source": [
    "### Вывод\n",
    "1. Стиль наименования столбца cityCenters_nearest отличается от остальных, это нужно поправить.\n",
    "2. Потребуется проработь пропущенные значения в следующих столбцах:\n",
    "   - ceiling_height - 9195 значений\n",
    "   - floors_total - 86\n",
    "   - living_area - 1903\n",
    "   - is_apartment - 20924\n",
    "   - kitchen_area - 2278\n",
    "   - balcony - 11519\n",
    "   - locality_name - 49\n",
    "   - airports_nearest - 5542\n",
    "   - cityCenters_nearest - 5519\n",
    "   - parks_around3000 - 5518\n",
    "   - parks_nearest - 15620\n",
    "   - ponds_around3000 - 5518\n",
    "   - ponds_nearest - 14589\n",
    "   - days_exposition - 3181\n",
    "3. Изменить тип данных там, где необходимо для работы:\n",
    "   - first_day_exposition с object на datetime64\n",
    "   - floors_total с float64 на int64\n",
    "   - is_apartment с object на bool\n",
    "   - balcony с float64 на int64\n",
    "   - parks_around3000 с float64 на int64\n",
    "   - ponds_around3000 с float64 на int64\n",
    "   - days_exposition с float64 на int64"
   ]
  },
  {
   "cell_type": "markdown",
   "metadata": {},
   "source": [
    "## Предобработка данных"
   ]
  },
  {
   "cell_type": "code",
   "execution_count": 30,
   "metadata": {},
   "outputs": [],
   "source": [
    "# переименовываю в едином стиле\n",
    "df = df.rename(columns={'cityCenters_nearest': 'city_сenters_nearest'})"
   ]
  },
  {
   "cell_type": "code",
   "execution_count": 31,
   "metadata": {},
   "outputs": [
    {
     "data": {
      "text/html": [
       "<div>\n",
       "<style scoped>\n",
       "    .dataframe tbody tr th:only-of-type {\n",
       "        vertical-align: middle;\n",
       "    }\n",
       "\n",
       "    .dataframe tbody tr th {\n",
       "        vertical-align: top;\n",
       "    }\n",
       "\n",
       "    .dataframe thead th {\n",
       "        text-align: right;\n",
       "    }\n",
       "</style>\n",
       "<table border=\"1\" class=\"dataframe\">\n",
       "  <thead>\n",
       "    <tr style=\"text-align: right;\">\n",
       "      <th></th>\n",
       "      <th>total_images</th>\n",
       "      <th>last_price</th>\n",
       "      <th>total_area</th>\n",
       "      <th>first_day_exposition</th>\n",
       "      <th>rooms</th>\n",
       "      <th>ceiling_height</th>\n",
       "      <th>floors_total</th>\n",
       "      <th>living_area</th>\n",
       "      <th>floor</th>\n",
       "      <th>is_apartment</th>\n",
       "      <th>...</th>\n",
       "      <th>kitchen_area</th>\n",
       "      <th>balcony</th>\n",
       "      <th>locality_name</th>\n",
       "      <th>airports_nearest</th>\n",
       "      <th>city_сenters_nearest</th>\n",
       "      <th>parks_around3000</th>\n",
       "      <th>parks_nearest</th>\n",
       "      <th>ponds_around3000</th>\n",
       "      <th>ponds_nearest</th>\n",
       "      <th>days_exposition</th>\n",
       "    </tr>\n",
       "  </thead>\n",
       "  <tbody>\n",
       "    <tr>\n",
       "      <th>22869</th>\n",
       "      <td>0</td>\n",
       "      <td>15000000.0</td>\n",
       "      <td>25.0</td>\n",
       "      <td>2018-07-25T00:00:00</td>\n",
       "      <td>1</td>\n",
       "      <td>100.0</td>\n",
       "      <td>5.0</td>\n",
       "      <td>14.0</td>\n",
       "      <td>5</td>\n",
       "      <td>True</td>\n",
       "      <td>...</td>\n",
       "      <td>11.0</td>\n",
       "      <td>5.0</td>\n",
       "      <td>Санкт-Петербург</td>\n",
       "      <td>34963.0</td>\n",
       "      <td>8283.0</td>\n",
       "      <td>1.0</td>\n",
       "      <td>223.0</td>\n",
       "      <td>3.0</td>\n",
       "      <td>30.0</td>\n",
       "      <td>19.0</td>\n",
       "    </tr>\n",
       "    <tr>\n",
       "      <th>22336</th>\n",
       "      <td>19</td>\n",
       "      <td>9999000.0</td>\n",
       "      <td>92.4</td>\n",
       "      <td>2019-04-05T00:00:00</td>\n",
       "      <td>2</td>\n",
       "      <td>32.0</td>\n",
       "      <td>6.0</td>\n",
       "      <td>55.5</td>\n",
       "      <td>5</td>\n",
       "      <td>False</td>\n",
       "      <td>...</td>\n",
       "      <td>16.5</td>\n",
       "      <td>4.0</td>\n",
       "      <td>Санкт-Петербург</td>\n",
       "      <td>18838.0</td>\n",
       "      <td>3506.0</td>\n",
       "      <td>0.0</td>\n",
       "      <td>NaN</td>\n",
       "      <td>3.0</td>\n",
       "      <td>511.0</td>\n",
       "      <td>NaN</td>\n",
       "    </tr>\n",
       "    <tr>\n",
       "      <th>3148</th>\n",
       "      <td>14</td>\n",
       "      <td>2900000.0</td>\n",
       "      <td>75.0</td>\n",
       "      <td>2018-11-12T00:00:00</td>\n",
       "      <td>3</td>\n",
       "      <td>32.0</td>\n",
       "      <td>3.0</td>\n",
       "      <td>53.0</td>\n",
       "      <td>2</td>\n",
       "      <td>NaN</td>\n",
       "      <td>...</td>\n",
       "      <td>8.0</td>\n",
       "      <td>NaN</td>\n",
       "      <td>Волхов</td>\n",
       "      <td>NaN</td>\n",
       "      <td>NaN</td>\n",
       "      <td>NaN</td>\n",
       "      <td>NaN</td>\n",
       "      <td>NaN</td>\n",
       "      <td>NaN</td>\n",
       "      <td>NaN</td>\n",
       "    </tr>\n",
       "    <tr>\n",
       "      <th>21377</th>\n",
       "      <td>19</td>\n",
       "      <td>4900000.0</td>\n",
       "      <td>42.0</td>\n",
       "      <td>2017-04-18T00:00:00</td>\n",
       "      <td>1</td>\n",
       "      <td>27.5</td>\n",
       "      <td>24.0</td>\n",
       "      <td>37.7</td>\n",
       "      <td>19</td>\n",
       "      <td>False</td>\n",
       "      <td>...</td>\n",
       "      <td>11.0</td>\n",
       "      <td>2.0</td>\n",
       "      <td>Санкт-Петербург</td>\n",
       "      <td>42742.0</td>\n",
       "      <td>9760.0</td>\n",
       "      <td>0.0</td>\n",
       "      <td>NaN</td>\n",
       "      <td>0.0</td>\n",
       "      <td>NaN</td>\n",
       "      <td>61.0</td>\n",
       "    </tr>\n",
       "    <tr>\n",
       "      <th>20478</th>\n",
       "      <td>11</td>\n",
       "      <td>8000000.0</td>\n",
       "      <td>45.0</td>\n",
       "      <td>2017-07-18T00:00:00</td>\n",
       "      <td>1</td>\n",
       "      <td>27.0</td>\n",
       "      <td>4.0</td>\n",
       "      <td>22.0</td>\n",
       "      <td>2</td>\n",
       "      <td>NaN</td>\n",
       "      <td>...</td>\n",
       "      <td>10.0</td>\n",
       "      <td>1.0</td>\n",
       "      <td>Санкт-Петербург</td>\n",
       "      <td>18975.0</td>\n",
       "      <td>3246.0</td>\n",
       "      <td>0.0</td>\n",
       "      <td>NaN</td>\n",
       "      <td>3.0</td>\n",
       "      <td>449.0</td>\n",
       "      <td>429.0</td>\n",
       "    </tr>\n",
       "  </tbody>\n",
       "</table>\n",
       "<p>5 rows × 22 columns</p>\n",
       "</div>"
      ],
      "text/plain": [
       "       total_images  last_price  total_area first_day_exposition  rooms  \\\n",
       "22869             0  15000000.0        25.0  2018-07-25T00:00:00      1   \n",
       "22336            19   9999000.0        92.4  2019-04-05T00:00:00      2   \n",
       "3148             14   2900000.0        75.0  2018-11-12T00:00:00      3   \n",
       "21377            19   4900000.0        42.0  2017-04-18T00:00:00      1   \n",
       "20478            11   8000000.0        45.0  2017-07-18T00:00:00      1   \n",
       "\n",
       "       ceiling_height  floors_total  living_area  floor is_apartment  ...  \\\n",
       "22869           100.0           5.0         14.0      5         True  ...   \n",
       "22336            32.0           6.0         55.5      5        False  ...   \n",
       "3148             32.0           3.0         53.0      2          NaN  ...   \n",
       "21377            27.5          24.0         37.7     19        False  ...   \n",
       "20478            27.0           4.0         22.0      2          NaN  ...   \n",
       "\n",
       "       kitchen_area  balcony    locality_name  airports_nearest  \\\n",
       "22869          11.0      5.0  Санкт-Петербург           34963.0   \n",
       "22336          16.5      4.0  Санкт-Петербург           18838.0   \n",
       "3148            8.0      NaN           Волхов               NaN   \n",
       "21377          11.0      2.0  Санкт-Петербург           42742.0   \n",
       "20478          10.0      1.0  Санкт-Петербург           18975.0   \n",
       "\n",
       "      city_сenters_nearest  parks_around3000  parks_nearest  ponds_around3000  \\\n",
       "22869               8283.0               1.0          223.0               3.0   \n",
       "22336               3506.0               0.0            NaN               3.0   \n",
       "3148                   NaN               NaN            NaN               NaN   \n",
       "21377               9760.0               0.0            NaN               0.0   \n",
       "20478               3246.0               0.0            NaN               3.0   \n",
       "\n",
       "       ponds_nearest  days_exposition  \n",
       "22869           30.0             19.0  \n",
       "22336          511.0              NaN  \n",
       "3148             NaN              NaN  \n",
       "21377            NaN             61.0  \n",
       "20478          449.0            429.0  \n",
       "\n",
       "[5 rows x 22 columns]"
      ]
     },
     "execution_count": 31,
     "metadata": {},
     "output_type": "execute_result"
    }
   ],
   "source": [
    "# проверяю аномалии высоты потолков\n",
    "df.sort_values(by='ceiling_height', ascending=False).head()"
   ]
  },
  {
   "cell_type": "markdown",
   "metadata": {},
   "source": [
    "Высота потолков 27 и 32 метра наводит на мысль, что при заполнении данных возникла ошибка в разрядности и на месте 27 метро должно быть 2.7м, что соответствует реальности. Нужно проверить, есть ли подобные опечатки в диапазоне от 20 до 33 метров и заменить их."
   ]
  },
  {
   "cell_type": "code",
   "execution_count": 32,
   "metadata": {},
   "outputs": [
    {
     "data": {
      "text/plain": [
       "27.0    8\n",
       "25.0    7\n",
       "32.0    2\n",
       "24.0    1\n",
       "26.0    1\n",
       "20.0    1\n",
       "22.6    1\n",
       "27.5    1\n",
       "Name: ceiling_height, dtype: int64"
      ]
     },
     "execution_count": 32,
     "metadata": {},
     "output_type": "execute_result"
    }
   ],
   "source": [
    "df.query('20 <= ceiling_height < 33')['ceiling_height'].value_counts()"
   ]
  },
  {
   "cell_type": "code",
   "execution_count": 33,
   "metadata": {},
   "outputs": [],
   "source": [
    "def ceiling_height_replace(df):\n",
    "    ceiling_height = df['ceiling_height']\n",
    "    if df['ceiling_height'] == 27.0:\n",
    "        ceiling_height = 2.7\n",
    "        return ceiling_height\n",
    "    if df['ceiling_height'] == 25.0:\n",
    "        ceiling_height = 2.5\n",
    "        return ceiling_height\n",
    "    if df['ceiling_height'] == 32.0:\n",
    "        ceiling_height = 3.2\n",
    "        return ceiling_height\n",
    "    if df['ceiling_height'] == 24.0:\n",
    "        ceiling_height = 2.4\n",
    "        return ceiling_height\n",
    "    if df['ceiling_height'] == 26.0:\n",
    "        ceiling_height = 2.6\n",
    "        return ceiling_height\n",
    "    if df['ceiling_height'] == 20.0:\n",
    "        ceiling_height = 2.0\n",
    "        return ceiling_height\n",
    "    if df['ceiling_height'] == 22.6:\n",
    "        ceiling_height = 2.26\n",
    "        return ceiling_height\n",
    "    if df['ceiling_height'] == 27.5:\n",
    "        ceiling_height = 2.75\n",
    "        return ceiling_height\n",
    "    return ceiling_height\n",
    "df['ceiling_height'] = df.apply(ceiling_height_replace, axis=1)"
   ]
  },
  {
   "cell_type": "code",
   "execution_count": 34,
   "metadata": {},
   "outputs": [
    {
     "data": {
      "text/plain": [
       "count    14504.000000\n",
       "mean         2.735813\n",
       "std          0.866605\n",
       "min          1.000000\n",
       "25%          2.510000\n",
       "50%          2.650000\n",
       "75%          2.800000\n",
       "max        100.000000\n",
       "Name: ceiling_height, dtype: float64"
      ]
     },
     "execution_count": 34,
     "metadata": {},
     "output_type": "execute_result"
    }
   ],
   "source": [
    "df['ceiling_height'].describe()"
   ]
  },
  {
   "cell_type": "code",
   "execution_count": 35,
   "metadata": {},
   "outputs": [
    {
     "data": {
      "text/html": [
       "<div>\n",
       "<style scoped>\n",
       "    .dataframe tbody tr th:only-of-type {\n",
       "        vertical-align: middle;\n",
       "    }\n",
       "\n",
       "    .dataframe tbody tr th {\n",
       "        vertical-align: top;\n",
       "    }\n",
       "\n",
       "    .dataframe thead th {\n",
       "        text-align: right;\n",
       "    }\n",
       "</style>\n",
       "<table border=\"1\" class=\"dataframe\">\n",
       "  <thead>\n",
       "    <tr style=\"text-align: right;\">\n",
       "      <th></th>\n",
       "      <th>total_images</th>\n",
       "      <th>last_price</th>\n",
       "      <th>total_area</th>\n",
       "      <th>first_day_exposition</th>\n",
       "      <th>rooms</th>\n",
       "      <th>ceiling_height</th>\n",
       "      <th>floors_total</th>\n",
       "      <th>living_area</th>\n",
       "      <th>floor</th>\n",
       "      <th>is_apartment</th>\n",
       "      <th>...</th>\n",
       "      <th>kitchen_area</th>\n",
       "      <th>balcony</th>\n",
       "      <th>locality_name</th>\n",
       "      <th>airports_nearest</th>\n",
       "      <th>city_сenters_nearest</th>\n",
       "      <th>parks_around3000</th>\n",
       "      <th>parks_nearest</th>\n",
       "      <th>ponds_around3000</th>\n",
       "      <th>ponds_nearest</th>\n",
       "      <th>days_exposition</th>\n",
       "    </tr>\n",
       "  </thead>\n",
       "  <tbody>\n",
       "    <tr>\n",
       "      <th>22590</th>\n",
       "      <td>16</td>\n",
       "      <td>6000000.0</td>\n",
       "      <td>55.0</td>\n",
       "      <td>2018-10-31T00:00:00</td>\n",
       "      <td>2</td>\n",
       "      <td>1.0</td>\n",
       "      <td>12.0</td>\n",
       "      <td>32.4</td>\n",
       "      <td>7</td>\n",
       "      <td>NaN</td>\n",
       "      <td>...</td>\n",
       "      <td>10.0</td>\n",
       "      <td>NaN</td>\n",
       "      <td>Санкт-Петербург</td>\n",
       "      <td>33053.0</td>\n",
       "      <td>14217.0</td>\n",
       "      <td>2.0</td>\n",
       "      <td>293.0</td>\n",
       "      <td>2.0</td>\n",
       "      <td>289.0</td>\n",
       "      <td>13.0</td>\n",
       "    </tr>\n",
       "    <tr>\n",
       "      <th>22869</th>\n",
       "      <td>0</td>\n",
       "      <td>15000000.0</td>\n",
       "      <td>25.0</td>\n",
       "      <td>2018-07-25T00:00:00</td>\n",
       "      <td>1</td>\n",
       "      <td>100.0</td>\n",
       "      <td>5.0</td>\n",
       "      <td>14.0</td>\n",
       "      <td>5</td>\n",
       "      <td>True</td>\n",
       "      <td>...</td>\n",
       "      <td>11.0</td>\n",
       "      <td>5.0</td>\n",
       "      <td>Санкт-Петербург</td>\n",
       "      <td>34963.0</td>\n",
       "      <td>8283.0</td>\n",
       "      <td>1.0</td>\n",
       "      <td>223.0</td>\n",
       "      <td>3.0</td>\n",
       "      <td>30.0</td>\n",
       "      <td>19.0</td>\n",
       "    </tr>\n",
       "  </tbody>\n",
       "</table>\n",
       "<p>2 rows × 22 columns</p>\n",
       "</div>"
      ],
      "text/plain": [
       "       total_images  last_price  total_area first_day_exposition  rooms  \\\n",
       "22590            16   6000000.0        55.0  2018-10-31T00:00:00      2   \n",
       "22869             0  15000000.0        25.0  2018-07-25T00:00:00      1   \n",
       "\n",
       "       ceiling_height  floors_total  living_area  floor is_apartment  ...  \\\n",
       "22590             1.0          12.0         32.4      7          NaN  ...   \n",
       "22869           100.0           5.0         14.0      5         True  ...   \n",
       "\n",
       "       kitchen_area  balcony    locality_name  airports_nearest  \\\n",
       "22590          10.0      NaN  Санкт-Петербург           33053.0   \n",
       "22869          11.0      5.0  Санкт-Петербург           34963.0   \n",
       "\n",
       "      city_сenters_nearest  parks_around3000  parks_nearest  ponds_around3000  \\\n",
       "22590              14217.0               2.0          293.0               2.0   \n",
       "22869               8283.0               1.0          223.0               3.0   \n",
       "\n",
       "       ponds_nearest  days_exposition  \n",
       "22590          289.0             13.0  \n",
       "22869           30.0             19.0  \n",
       "\n",
       "[2 rows x 22 columns]"
      ]
     },
     "execution_count": 35,
     "metadata": {},
     "output_type": "execute_result"
    }
   ],
   "source": [
    "df[(df['ceiling_height'] == 1.0) | (df['ceiling_height'] == 100.0)]"
   ]
  },
  {
   "cell_type": "markdown",
   "metadata": {},
   "source": [
    "Высота потолка 1м и 100м ничем не объяснимы и не реальны, их значения скорее всего искажают среднее по столбцу, поэтому заполним пропуски медианным значением."
   ]
  },
  {
   "cell_type": "code",
   "execution_count": 36,
   "metadata": {},
   "outputs": [],
   "source": [
    "df['ceiling_height'] = df['ceiling_height'].fillna(df['ceiling_height'].median())"
   ]
  },
  {
   "cell_type": "code",
   "execution_count": 37,
   "metadata": {},
   "outputs": [
    {
     "data": {
      "text/plain": [
       "86"
      ]
     },
     "execution_count": 37,
     "metadata": {},
     "output_type": "execute_result"
    }
   ],
   "source": [
    "# проверяю пропуски в количестве комнат\n",
    "df['floors_total'].isna().sum()"
   ]
  },
  {
   "cell_type": "markdown",
   "metadata": {},
   "source": [
    "Из имеющихся данных нельзя определить общую этажность дома, при этом в исследовании требуется оценка влияния категории этажа на стоимость объекта. Так как пропущенных значений всего 86, это менее полпроцента от всех данных, удалим эти строки, после изменим тип данных."
   ]
  },
  {
   "cell_type": "code",
   "execution_count": 38,
   "metadata": {},
   "outputs": [],
   "source": [
    "df = df.dropna(subset=['floors_total'])\n",
    "df['floors_total'] = df['floors_total'].astype('int')"
   ]
  },
  {
   "cell_type": "markdown",
   "metadata": {},
   "source": [
    "Для заполнеия в living_area можно найти среднюю (медиана) долю жилой площади по группам количества комнат и умножить ее на общую площадь. "
   ]
  },
  {
   "cell_type": "code",
   "execution_count": 39,
   "metadata": {},
   "outputs": [
    {
     "data": {
      "text/html": [
       "<div>\n",
       "<style scoped>\n",
       "    .dataframe tbody tr th:only-of-type {\n",
       "        vertical-align: middle;\n",
       "    }\n",
       "\n",
       "    .dataframe tbody tr th {\n",
       "        vertical-align: top;\n",
       "    }\n",
       "\n",
       "    .dataframe thead th {\n",
       "        text-align: right;\n",
       "    }\n",
       "</style>\n",
       "<table border=\"1\" class=\"dataframe\">\n",
       "  <thead>\n",
       "    <tr style=\"text-align: right;\">\n",
       "      <th></th>\n",
       "      <th>living_part</th>\n",
       "    </tr>\n",
       "    <tr>\n",
       "      <th>rooms</th>\n",
       "      <th></th>\n",
       "    </tr>\n",
       "  </thead>\n",
       "  <tbody>\n",
       "    <tr>\n",
       "      <th>0</th>\n",
       "      <td>0.689655</td>\n",
       "    </tr>\n",
       "    <tr>\n",
       "      <th>1</th>\n",
       "      <td>0.482638</td>\n",
       "    </tr>\n",
       "    <tr>\n",
       "      <th>2</th>\n",
       "      <td>0.585366</td>\n",
       "    </tr>\n",
       "    <tr>\n",
       "      <th>3</th>\n",
       "      <td>0.631833</td>\n",
       "    </tr>\n",
       "    <tr>\n",
       "      <th>4</th>\n",
       "      <td>0.659740</td>\n",
       "    </tr>\n",
       "    <tr>\n",
       "      <th>5</th>\n",
       "      <td>0.651842</td>\n",
       "    </tr>\n",
       "    <tr>\n",
       "      <th>6</th>\n",
       "      <td>0.679509</td>\n",
       "    </tr>\n",
       "    <tr>\n",
       "      <th>7</th>\n",
       "      <td>0.681670</td>\n",
       "    </tr>\n",
       "    <tr>\n",
       "      <th>8</th>\n",
       "      <td>0.688475</td>\n",
       "    </tr>\n",
       "    <tr>\n",
       "      <th>9</th>\n",
       "      <td>0.628251</td>\n",
       "    </tr>\n",
       "    <tr>\n",
       "      <th>10</th>\n",
       "      <td>0.653103</td>\n",
       "    </tr>\n",
       "    <tr>\n",
       "      <th>11</th>\n",
       "      <td>0.710093</td>\n",
       "    </tr>\n",
       "    <tr>\n",
       "      <th>12</th>\n",
       "      <td>0.455222</td>\n",
       "    </tr>\n",
       "    <tr>\n",
       "      <th>14</th>\n",
       "      <td>0.648695</td>\n",
       "    </tr>\n",
       "    <tr>\n",
       "      <th>15</th>\n",
       "      <td>0.693220</td>\n",
       "    </tr>\n",
       "    <tr>\n",
       "      <th>16</th>\n",
       "      <td>0.666667</td>\n",
       "    </tr>\n",
       "    <tr>\n",
       "      <th>19</th>\n",
       "      <td>0.706086</td>\n",
       "    </tr>\n",
       "  </tbody>\n",
       "</table>\n",
       "</div>"
      ],
      "text/plain": [
       "       living_part\n",
       "rooms             \n",
       "0         0.689655\n",
       "1         0.482638\n",
       "2         0.585366\n",
       "3         0.631833\n",
       "4         0.659740\n",
       "5         0.651842\n",
       "6         0.679509\n",
       "7         0.681670\n",
       "8         0.688475\n",
       "9         0.628251\n",
       "10        0.653103\n",
       "11        0.710093\n",
       "12        0.455222\n",
       "14        0.648695\n",
       "15        0.693220\n",
       "16        0.666667\n",
       "19        0.706086"
      ]
     },
     "execution_count": 39,
     "metadata": {},
     "output_type": "execute_result"
    }
   ],
   "source": [
    "df['living_part'] = df['living_area'] / df['total_area']\n",
    "living_parts_median = df.pivot_table(index='rooms', values='living_part', aggfunc='median')\n",
    "living_parts_median"
   ]
  },
  {
   "cell_type": "code",
   "execution_count": 40,
   "metadata": {},
   "outputs": [
    {
     "data": {
      "text/plain": [
       "rooms\n",
       "1        647\n",
       "2        634\n",
       "3        442\n",
       "4         90\n",
       "5         33\n",
       "0         11\n",
       "6          6\n",
       "7          6\n",
       "9          1\n",
       "dtype: int64"
      ]
     },
     "execution_count": 40,
     "metadata": {},
     "output_type": "execute_result"
    }
   ],
   "source": [
    "df.loc[df['living_area'].isna(), ['rooms']].value_counts()"
   ]
  },
  {
   "cell_type": "code",
   "execution_count": 41,
   "metadata": {},
   "outputs": [],
   "source": [
    "def living_area_fillna(df):\n",
    "    living_area = df['living_area']\n",
    "    total_area = df['total_area']\n",
    "    if pd.isna(df['living_area']) and df['rooms'] == 0:\n",
    "        living_area = total_area * 0.69\n",
    "        return living_area\n",
    "    if pd.isna(df['living_area']) and df['rooms'] == 1:\n",
    "        living_area = total_area * 0.48\n",
    "        return living_area\n",
    "    if pd.isna(df['living_area']) and df['rooms'] == 2:\n",
    "        living_area = total_area * 0.59\n",
    "        return living_area\n",
    "    if pd.isna(df['living_area']) and df['rooms'] == 3:\n",
    "        living_area = total_area * 0.63\n",
    "        return living_area\n",
    "    if pd.isna(df['living_area']) and df['rooms'] == 4:\n",
    "        living_area = total_area * 0.66\n",
    "        return living_area\n",
    "    if pd.isna(df['living_area']) and df['rooms'] == 5:\n",
    "        living_area = total_area * 0.65\n",
    "        return living_area\n",
    "    if pd.isna(df['living_area']) and df['rooms'] == 6:\n",
    "        living_area = total_area * 0.68\n",
    "        return living_area\n",
    "    if pd.isna(df['living_area']) and df['rooms'] == 7:\n",
    "        living_area = total_area * 0.68\n",
    "        return living_area\n",
    "    if pd.isna(df['living_area']) and df['rooms'] == 9:\n",
    "        living_area = total_area * 0.63\n",
    "        return living_area\n",
    "    return living_area\n",
    "df['living_area'] = df.apply(living_area_fillna, axis=1)"
   ]
  },
  {
   "cell_type": "markdown",
   "metadata": {},
   "source": [
    "Пропуски в kitchen_area можно заполнить по аналогии с жилой площадью."
   ]
  },
  {
   "cell_type": "code",
   "execution_count": 42,
   "metadata": {},
   "outputs": [
    {
     "data": {
      "text/html": [
       "<div>\n",
       "<style scoped>\n",
       "    .dataframe tbody tr th:only-of-type {\n",
       "        vertical-align: middle;\n",
       "    }\n",
       "\n",
       "    .dataframe tbody tr th {\n",
       "        vertical-align: top;\n",
       "    }\n",
       "\n",
       "    .dataframe thead th {\n",
       "        text-align: right;\n",
       "    }\n",
       "</style>\n",
       "<table border=\"1\" class=\"dataframe\">\n",
       "  <thead>\n",
       "    <tr style=\"text-align: right;\">\n",
       "      <th></th>\n",
       "      <th>kitchen_part</th>\n",
       "    </tr>\n",
       "    <tr>\n",
       "      <th>rooms</th>\n",
       "      <th></th>\n",
       "    </tr>\n",
       "  </thead>\n",
       "  <tbody>\n",
       "    <tr>\n",
       "      <th>1</th>\n",
       "      <td>0.247788</td>\n",
       "    </tr>\n",
       "    <tr>\n",
       "      <th>2</th>\n",
       "      <td>0.161050</td>\n",
       "    </tr>\n",
       "    <tr>\n",
       "      <th>3</th>\n",
       "      <td>0.128492</td>\n",
       "    </tr>\n",
       "    <tr>\n",
       "      <th>4</th>\n",
       "      <td>0.112245</td>\n",
       "    </tr>\n",
       "    <tr>\n",
       "      <th>5</th>\n",
       "      <td>0.105386</td>\n",
       "    </tr>\n",
       "    <tr>\n",
       "      <th>6</th>\n",
       "      <td>0.098853</td>\n",
       "    </tr>\n",
       "    <tr>\n",
       "      <th>7</th>\n",
       "      <td>0.083717</td>\n",
       "    </tr>\n",
       "    <tr>\n",
       "      <th>8</th>\n",
       "      <td>0.109170</td>\n",
       "    </tr>\n",
       "    <tr>\n",
       "      <th>9</th>\n",
       "      <td>0.049620</td>\n",
       "    </tr>\n",
       "    <tr>\n",
       "      <th>10</th>\n",
       "      <td>0.091624</td>\n",
       "    </tr>\n",
       "    <tr>\n",
       "      <th>11</th>\n",
       "      <td>0.066855</td>\n",
       "    </tr>\n",
       "    <tr>\n",
       "      <th>12</th>\n",
       "      <td>0.124444</td>\n",
       "    </tr>\n",
       "    <tr>\n",
       "      <th>14</th>\n",
       "      <td>0.075636</td>\n",
       "    </tr>\n",
       "    <tr>\n",
       "      <th>15</th>\n",
       "      <td>0.169492</td>\n",
       "    </tr>\n",
       "    <tr>\n",
       "      <th>16</th>\n",
       "      <td>0.048148</td>\n",
       "    </tr>\n",
       "    <tr>\n",
       "      <th>19</th>\n",
       "      <td>0.073679</td>\n",
       "    </tr>\n",
       "  </tbody>\n",
       "</table>\n",
       "</div>"
      ],
      "text/plain": [
       "       kitchen_part\n",
       "rooms              \n",
       "1          0.247788\n",
       "2          0.161050\n",
       "3          0.128492\n",
       "4          0.112245\n",
       "5          0.105386\n",
       "6          0.098853\n",
       "7          0.083717\n",
       "8          0.109170\n",
       "9          0.049620\n",
       "10         0.091624\n",
       "11         0.066855\n",
       "12         0.124444\n",
       "14         0.075636\n",
       "15         0.169492\n",
       "16         0.048148\n",
       "19         0.073679"
      ]
     },
     "execution_count": 42,
     "metadata": {},
     "output_type": "execute_result"
    }
   ],
   "source": [
    "df['kitchen_part'] = df['kitchen_area'] / df['total_area']\n",
    "kitchen_parts_median = df.pivot_table(index='rooms', values='kitchen_part', aggfunc='median')\n",
    "kitchen_parts_median"
   ]
  },
  {
   "cell_type": "code",
   "execution_count": 43,
   "metadata": {},
   "outputs": [
    {
     "data": {
      "text/plain": [
       "rooms\n",
       "1        812\n",
       "2        643\n",
       "3        426\n",
       "0        194\n",
       "4         97\n",
       "5         40\n",
       "6          8\n",
       "7          7\n",
       "8          3\n",
       "9          1\n",
       "dtype: int64"
      ]
     },
     "execution_count": 43,
     "metadata": {},
     "output_type": "execute_result"
    }
   ],
   "source": [
    "df.loc[df['kitchen_area'].isna(), ['rooms']].value_counts()"
   ]
  },
  {
   "cell_type": "code",
   "execution_count": 44,
   "metadata": {},
   "outputs": [],
   "source": [
    "def kitchen_area_fillna(df):\n",
    "    kitchen_area = df['kitchen_area']\n",
    "    total_area = df['total_area']\n",
    "    if pd.isna(df['kitchen_area']) and df['rooms'] == 0:\n",
    "        kitchen_area = 0\n",
    "        return kitchen_area\n",
    "    if pd.isna(df['kitchen_area']) and df['rooms'] == 1:\n",
    "        kitchen_area = total_area * 0.248\n",
    "        return kitchen_area\n",
    "    if pd.isna(df['kitchen_area']) and df['rooms'] == 2:\n",
    "        kitchen_area = total_area * 0.161\n",
    "        return kitchen_area\n",
    "    if pd.isna(df['kitchen_area']) and df['rooms'] == 3:\n",
    "        kitchen_area = total_area * 0.128\n",
    "        return kitchen_area\n",
    "    if pd.isna(df['kitchen_area']) and df['rooms'] == 4:\n",
    "        kitchen_area = total_area * 0.112\n",
    "        return kitchen_area\n",
    "    if pd.isna(df['kitchen_area']) and df['rooms'] == 5:\n",
    "        kitchen_area = total_area * 0.105\n",
    "        return kitchen_area\n",
    "    if pd.isna(df['kitchen_area']) and df['rooms'] == 6:\n",
    "        kitchen_area = total_area * 0.099\n",
    "        return kitchen_area\n",
    "    if pd.isna(df['kitchen_area']) and df['rooms'] == 7:\n",
    "        kitchen_area = total_area * 0.084\n",
    "        return kitchen_area\n",
    "    if pd.isna(df['kitchen_area']) and df['rooms'] == 8:\n",
    "        kitchen_area = total_area * 0.109\n",
    "        return kitchen_area\n",
    "    if pd.isna(df['kitchen_area']) and df['rooms'] == 9:\n",
    "        kitchen_area = total_area * 0.050\n",
    "        return kitchen_area\n",
    "    return kitchen_area\n",
    "df['kitchen_area'] = df.apply(kitchen_area_fillna, axis=1)"
   ]
  },
  {
   "cell_type": "markdown",
   "metadata": {},
   "source": [
    "И сразу заполним образовавшиеся пропуски в добавленных столбцах living_part и kitchen_part."
   ]
  },
  {
   "cell_type": "code",
   "execution_count": 45,
   "metadata": {},
   "outputs": [],
   "source": [
    "df['living_part'] = df['living_area'] / df['total_area']\n",
    "df['kitchen_part'] = df['kitchen_area'] / df['total_area']"
   ]
  },
  {
   "cell_type": "markdown",
   "metadata": {},
   "source": [
    "Можно предположить, что значение balcony не заполнено там, где балкона нет, поэтому пропуски заполним нулями, заменим тип данных."
   ]
  },
  {
   "cell_type": "code",
   "execution_count": 46,
   "metadata": {},
   "outputs": [],
   "source": [
    "df['balcony'] = df['balcony'].fillna(0).astype('int')"
   ]
  },
  {
   "cell_type": "code",
   "execution_count": 47,
   "metadata": {},
   "outputs": [
    {
     "data": {
      "text/html": [
       "<div>\n",
       "<style scoped>\n",
       "    .dataframe tbody tr th:only-of-type {\n",
       "        vertical-align: middle;\n",
       "    }\n",
       "\n",
       "    .dataframe tbody tr th {\n",
       "        vertical-align: top;\n",
       "    }\n",
       "\n",
       "    .dataframe thead th {\n",
       "        text-align: right;\n",
       "    }\n",
       "</style>\n",
       "<table border=\"1\" class=\"dataframe\">\n",
       "  <thead>\n",
       "    <tr style=\"text-align: right;\">\n",
       "      <th></th>\n",
       "      <th>total_images</th>\n",
       "      <th>last_price</th>\n",
       "      <th>total_area</th>\n",
       "      <th>first_day_exposition</th>\n",
       "      <th>rooms</th>\n",
       "      <th>ceiling_height</th>\n",
       "      <th>floors_total</th>\n",
       "      <th>living_area</th>\n",
       "      <th>floor</th>\n",
       "      <th>is_apartment</th>\n",
       "      <th>...</th>\n",
       "      <th>locality_name</th>\n",
       "      <th>airports_nearest</th>\n",
       "      <th>city_сenters_nearest</th>\n",
       "      <th>parks_around3000</th>\n",
       "      <th>parks_nearest</th>\n",
       "      <th>ponds_around3000</th>\n",
       "      <th>ponds_nearest</th>\n",
       "      <th>days_exposition</th>\n",
       "      <th>living_part</th>\n",
       "      <th>kitchen_part</th>\n",
       "    </tr>\n",
       "  </thead>\n",
       "  <tbody>\n",
       "    <tr>\n",
       "      <th>1097</th>\n",
       "      <td>3</td>\n",
       "      <td>8600000.0</td>\n",
       "      <td>81.7</td>\n",
       "      <td>2016-04-15T00:00:00</td>\n",
       "      <td>3</td>\n",
       "      <td>3.55</td>\n",
       "      <td>5</td>\n",
       "      <td>50.8</td>\n",
       "      <td>2</td>\n",
       "      <td>NaN</td>\n",
       "      <td>...</td>\n",
       "      <td>NaN</td>\n",
       "      <td>23478.0</td>\n",
       "      <td>4258.0</td>\n",
       "      <td>0.0</td>\n",
       "      <td>NaN</td>\n",
       "      <td>0.0</td>\n",
       "      <td>NaN</td>\n",
       "      <td>147.0</td>\n",
       "      <td>0.621787</td>\n",
       "      <td>0.107711</td>\n",
       "    </tr>\n",
       "    <tr>\n",
       "      <th>2033</th>\n",
       "      <td>6</td>\n",
       "      <td>5398000.0</td>\n",
       "      <td>80.0</td>\n",
       "      <td>2017-05-30T00:00:00</td>\n",
       "      <td>3</td>\n",
       "      <td>2.65</td>\n",
       "      <td>4</td>\n",
       "      <td>42.6</td>\n",
       "      <td>2</td>\n",
       "      <td>NaN</td>\n",
       "      <td>...</td>\n",
       "      <td>NaN</td>\n",
       "      <td>NaN</td>\n",
       "      <td>NaN</td>\n",
       "      <td>NaN</td>\n",
       "      <td>NaN</td>\n",
       "      <td>NaN</td>\n",
       "      <td>NaN</td>\n",
       "      <td>34.0</td>\n",
       "      <td>0.532500</td>\n",
       "      <td>0.232500</td>\n",
       "    </tr>\n",
       "    <tr>\n",
       "      <th>2603</th>\n",
       "      <td>20</td>\n",
       "      <td>3351765.0</td>\n",
       "      <td>42.7</td>\n",
       "      <td>2015-09-20T00:00:00</td>\n",
       "      <td>1</td>\n",
       "      <td>2.65</td>\n",
       "      <td>24</td>\n",
       "      <td>15.6</td>\n",
       "      <td>3</td>\n",
       "      <td>NaN</td>\n",
       "      <td>...</td>\n",
       "      <td>NaN</td>\n",
       "      <td>22041.0</td>\n",
       "      <td>17369.0</td>\n",
       "      <td>0.0</td>\n",
       "      <td>NaN</td>\n",
       "      <td>1.0</td>\n",
       "      <td>374.0</td>\n",
       "      <td>276.0</td>\n",
       "      <td>0.365340</td>\n",
       "      <td>0.250585</td>\n",
       "    </tr>\n",
       "    <tr>\n",
       "      <th>2632</th>\n",
       "      <td>2</td>\n",
       "      <td>5130593.0</td>\n",
       "      <td>62.4</td>\n",
       "      <td>2015-10-11T00:00:00</td>\n",
       "      <td>2</td>\n",
       "      <td>2.65</td>\n",
       "      <td>24</td>\n",
       "      <td>33.1</td>\n",
       "      <td>21</td>\n",
       "      <td>NaN</td>\n",
       "      <td>...</td>\n",
       "      <td>NaN</td>\n",
       "      <td>22041.0</td>\n",
       "      <td>17369.0</td>\n",
       "      <td>0.0</td>\n",
       "      <td>NaN</td>\n",
       "      <td>1.0</td>\n",
       "      <td>374.0</td>\n",
       "      <td>256.0</td>\n",
       "      <td>0.530449</td>\n",
       "      <td>0.131410</td>\n",
       "    </tr>\n",
       "    <tr>\n",
       "      <th>3574</th>\n",
       "      <td>10</td>\n",
       "      <td>4200000.0</td>\n",
       "      <td>46.5</td>\n",
       "      <td>2016-05-28T00:00:00</td>\n",
       "      <td>2</td>\n",
       "      <td>2.65</td>\n",
       "      <td>5</td>\n",
       "      <td>30.8</td>\n",
       "      <td>5</td>\n",
       "      <td>NaN</td>\n",
       "      <td>...</td>\n",
       "      <td>NaN</td>\n",
       "      <td>27419.0</td>\n",
       "      <td>8127.0</td>\n",
       "      <td>0.0</td>\n",
       "      <td>NaN</td>\n",
       "      <td>1.0</td>\n",
       "      <td>603.0</td>\n",
       "      <td>45.0</td>\n",
       "      <td>0.662366</td>\n",
       "      <td>0.139785</td>\n",
       "    </tr>\n",
       "  </tbody>\n",
       "</table>\n",
       "<p>5 rows × 24 columns</p>\n",
       "</div>"
      ],
      "text/plain": [
       "      total_images  last_price  total_area first_day_exposition  rooms  \\\n",
       "1097             3   8600000.0        81.7  2016-04-15T00:00:00      3   \n",
       "2033             6   5398000.0        80.0  2017-05-30T00:00:00      3   \n",
       "2603            20   3351765.0        42.7  2015-09-20T00:00:00      1   \n",
       "2632             2   5130593.0        62.4  2015-10-11T00:00:00      2   \n",
       "3574            10   4200000.0        46.5  2016-05-28T00:00:00      2   \n",
       "\n",
       "      ceiling_height  floors_total  living_area  floor is_apartment  ...  \\\n",
       "1097            3.55             5         50.8      2          NaN  ...   \n",
       "2033            2.65             4         42.6      2          NaN  ...   \n",
       "2603            2.65            24         15.6      3          NaN  ...   \n",
       "2632            2.65            24         33.1     21          NaN  ...   \n",
       "3574            2.65             5         30.8      5          NaN  ...   \n",
       "\n",
       "      locality_name  airports_nearest  city_сenters_nearest  parks_around3000  \\\n",
       "1097            NaN           23478.0                4258.0               0.0   \n",
       "2033            NaN               NaN                   NaN               NaN   \n",
       "2603            NaN           22041.0               17369.0               0.0   \n",
       "2632            NaN           22041.0               17369.0               0.0   \n",
       "3574            NaN           27419.0                8127.0               0.0   \n",
       "\n",
       "     parks_nearest  ponds_around3000  ponds_nearest  days_exposition  \\\n",
       "1097           NaN               0.0            NaN            147.0   \n",
       "2033           NaN               NaN            NaN             34.0   \n",
       "2603           NaN               1.0          374.0            276.0   \n",
       "2632           NaN               1.0          374.0            256.0   \n",
       "3574           NaN               1.0          603.0             45.0   \n",
       "\n",
       "      living_part  kitchen_part  \n",
       "1097     0.621787      0.107711  \n",
       "2033     0.532500      0.232500  \n",
       "2603     0.365340      0.250585  \n",
       "2632     0.530449      0.131410  \n",
       "3574     0.662366      0.139785  \n",
       "\n",
       "[5 rows x 24 columns]"
      ]
     },
     "execution_count": 47,
     "metadata": {},
     "output_type": "execute_result"
    }
   ],
   "source": [
    "df[df['locality_name'].isna()].head()"
   ]
  },
  {
   "cell_type": "markdown",
   "metadata": {},
   "source": [
    "Какой-либо закономерности пропусков в locality_name не прослеживается, поэтому заполняем \"unknown\". Также проверим столбец на наличие неявных дубликатов."
   ]
  },
  {
   "cell_type": "code",
   "execution_count": 48,
   "metadata": {},
   "outputs": [
    {
     "data": {
      "text/plain": [
       "0"
      ]
     },
     "execution_count": 48,
     "metadata": {},
     "output_type": "execute_result"
    }
   ],
   "source": [
    "df['locality_name'] = df['locality_name'].fillna('unknown')\n",
    "df['locality_name'] = df['locality_name'].str.replace('ё', 'е')\n",
    "df.duplicated().sum()"
   ]
  },
  {
   "cell_type": "markdown",
   "metadata": {},
   "source": [
    "Значения parks_around3000 и ponds_around3000 пропущены скорее всего там, где нет ни водоемов, ни парков в радиусе 3км, заполним пропуски нулями и изменим тип данных."
   ]
  },
  {
   "cell_type": "code",
   "execution_count": 49,
   "metadata": {},
   "outputs": [],
   "source": [
    "df['parks_around3000'] = df['parks_around3000'].fillna(0).astype('int')\n",
    "df['ponds_around3000'] = df['ponds_around3000'].fillna(0).astype('int')"
   ]
  },
  {
   "cell_type": "markdown",
   "metadata": {},
   "source": [
    "Значения is_apartment не рассматриваются в текущих расчетах, поэтому их тип сейчас не важен, а какой-либо логичной замены пропускам нет. Также невозможно подобрать замены для геоданных, таких как airports_nearest, city_сenters_nearest, parks_nearest, ponds_nearest, где пропуски заполнить не получится."
   ]
  },
  {
   "cell_type": "code",
   "execution_count": 50,
   "metadata": {},
   "outputs": [],
   "source": [
    "df['first_day_exposition'] = pd.to_datetime(df['first_day_exposition'], format='%Y-%m-%dT%H:%M:%S')"
   ]
  },
  {
   "cell_type": "code",
   "execution_count": 51,
   "metadata": {},
   "outputs": [
    {
     "data": {
      "text/plain": [
       "Timestamp('2014-11-27 00:00:00')"
      ]
     },
     "metadata": {},
     "output_type": "display_data"
    },
    {
     "data": {
      "text/plain": [
       "Timestamp('2019-05-03 00:00:00')"
      ]
     },
     "metadata": {},
     "output_type": "display_data"
    },
    {
     "data": {
      "text/plain": [
       "count    20441.000000\n",
       "mean       180.884839\n",
       "std        219.685543\n",
       "min          1.000000\n",
       "25%         45.000000\n",
       "50%         95.000000\n",
       "75%        232.000000\n",
       "max       1580.000000\n",
       "Name: days_exposition, dtype: float64"
      ]
     },
     "execution_count": 51,
     "metadata": {},
     "output_type": "execute_result"
    }
   ],
   "source": [
    "display(df['first_day_exposition'].min())\n",
    "display(df['first_day_exposition'].max())\n",
    "df['days_exposition'].describe()"
   ]
  },
  {
   "cell_type": "code",
   "execution_count": 52,
   "metadata": {},
   "outputs": [
    {
     "data": {
      "text/html": [
       "<div>\n",
       "<style scoped>\n",
       "    .dataframe tbody tr th:only-of-type {\n",
       "        vertical-align: middle;\n",
       "    }\n",
       "\n",
       "    .dataframe tbody tr th {\n",
       "        vertical-align: top;\n",
       "    }\n",
       "\n",
       "    .dataframe thead th {\n",
       "        text-align: right;\n",
       "    }\n",
       "</style>\n",
       "<table border=\"1\" class=\"dataframe\">\n",
       "  <thead>\n",
       "    <tr style=\"text-align: right;\">\n",
       "      <th></th>\n",
       "      <th>total_images</th>\n",
       "      <th>last_price</th>\n",
       "      <th>total_area</th>\n",
       "      <th>first_day_exposition</th>\n",
       "      <th>rooms</th>\n",
       "      <th>ceiling_height</th>\n",
       "      <th>floors_total</th>\n",
       "      <th>living_area</th>\n",
       "      <th>floor</th>\n",
       "      <th>is_apartment</th>\n",
       "      <th>...</th>\n",
       "      <th>locality_name</th>\n",
       "      <th>airports_nearest</th>\n",
       "      <th>city_сenters_nearest</th>\n",
       "      <th>parks_around3000</th>\n",
       "      <th>parks_nearest</th>\n",
       "      <th>ponds_around3000</th>\n",
       "      <th>ponds_nearest</th>\n",
       "      <th>days_exposition</th>\n",
       "      <th>living_part</th>\n",
       "      <th>kitchen_part</th>\n",
       "    </tr>\n",
       "  </thead>\n",
       "  <tbody>\n",
       "    <tr>\n",
       "      <th>2178</th>\n",
       "      <td>10</td>\n",
       "      <td>5100000.0</td>\n",
       "      <td>51.00</td>\n",
       "      <td>2019-05-03</td>\n",
       "      <td>1</td>\n",
       "      <td>2.65</td>\n",
       "      <td>9</td>\n",
       "      <td>15.00</td>\n",
       "      <td>2</td>\n",
       "      <td>NaN</td>\n",
       "      <td>...</td>\n",
       "      <td>Кудрово</td>\n",
       "      <td>NaN</td>\n",
       "      <td>NaN</td>\n",
       "      <td>0</td>\n",
       "      <td>NaN</td>\n",
       "      <td>0</td>\n",
       "      <td>NaN</td>\n",
       "      <td>NaN</td>\n",
       "      <td>0.294118</td>\n",
       "      <td>0.490196</td>\n",
       "    </tr>\n",
       "    <tr>\n",
       "      <th>3254</th>\n",
       "      <td>16</td>\n",
       "      <td>8800000.0</td>\n",
       "      <td>80.00</td>\n",
       "      <td>2019-05-03</td>\n",
       "      <td>3</td>\n",
       "      <td>2.80</td>\n",
       "      <td>17</td>\n",
       "      <td>31.00</td>\n",
       "      <td>15</td>\n",
       "      <td>NaN</td>\n",
       "      <td>...</td>\n",
       "      <td>Кудрово</td>\n",
       "      <td>NaN</td>\n",
       "      <td>NaN</td>\n",
       "      <td>0</td>\n",
       "      <td>NaN</td>\n",
       "      <td>0</td>\n",
       "      <td>NaN</td>\n",
       "      <td>NaN</td>\n",
       "      <td>0.387500</td>\n",
       "      <td>0.337500</td>\n",
       "    </tr>\n",
       "    <tr>\n",
       "      <th>4450</th>\n",
       "      <td>13</td>\n",
       "      <td>3500000.0</td>\n",
       "      <td>34.60</td>\n",
       "      <td>2019-05-03</td>\n",
       "      <td>1</td>\n",
       "      <td>2.50</td>\n",
       "      <td>5</td>\n",
       "      <td>19.40</td>\n",
       "      <td>3</td>\n",
       "      <td>NaN</td>\n",
       "      <td>...</td>\n",
       "      <td>Пушкин</td>\n",
       "      <td>13107.0</td>\n",
       "      <td>25261.0</td>\n",
       "      <td>1</td>\n",
       "      <td>361.0</td>\n",
       "      <td>0</td>\n",
       "      <td>NaN</td>\n",
       "      <td>NaN</td>\n",
       "      <td>0.560694</td>\n",
       "      <td>0.210983</td>\n",
       "    </tr>\n",
       "    <tr>\n",
       "      <th>5986</th>\n",
       "      <td>0</td>\n",
       "      <td>5000000.0</td>\n",
       "      <td>48.00</td>\n",
       "      <td>2019-05-03</td>\n",
       "      <td>3</td>\n",
       "      <td>2.50</td>\n",
       "      <td>9</td>\n",
       "      <td>30.24</td>\n",
       "      <td>2</td>\n",
       "      <td>NaN</td>\n",
       "      <td>...</td>\n",
       "      <td>Санкт-Петербург</td>\n",
       "      <td>51060.0</td>\n",
       "      <td>16892.0</td>\n",
       "      <td>0</td>\n",
       "      <td>NaN</td>\n",
       "      <td>0</td>\n",
       "      <td>NaN</td>\n",
       "      <td>NaN</td>\n",
       "      <td>0.630000</td>\n",
       "      <td>0.128000</td>\n",
       "    </tr>\n",
       "    <tr>\n",
       "      <th>8170</th>\n",
       "      <td>4</td>\n",
       "      <td>3280000.0</td>\n",
       "      <td>38.19</td>\n",
       "      <td>2019-05-03</td>\n",
       "      <td>1</td>\n",
       "      <td>2.65</td>\n",
       "      <td>6</td>\n",
       "      <td>14.41</td>\n",
       "      <td>4</td>\n",
       "      <td>NaN</td>\n",
       "      <td>...</td>\n",
       "      <td>городской поселок Новоселье</td>\n",
       "      <td>NaN</td>\n",
       "      <td>NaN</td>\n",
       "      <td>0</td>\n",
       "      <td>NaN</td>\n",
       "      <td>0</td>\n",
       "      <td>NaN</td>\n",
       "      <td>NaN</td>\n",
       "      <td>0.377324</td>\n",
       "      <td>0.268657</td>\n",
       "    </tr>\n",
       "    <tr>\n",
       "      <th>9217</th>\n",
       "      <td>7</td>\n",
       "      <td>4300000.0</td>\n",
       "      <td>35.70</td>\n",
       "      <td>2019-05-03</td>\n",
       "      <td>1</td>\n",
       "      <td>2.70</td>\n",
       "      <td>21</td>\n",
       "      <td>15.00</td>\n",
       "      <td>12</td>\n",
       "      <td>False</td>\n",
       "      <td>...</td>\n",
       "      <td>Мурино</td>\n",
       "      <td>NaN</td>\n",
       "      <td>NaN</td>\n",
       "      <td>0</td>\n",
       "      <td>NaN</td>\n",
       "      <td>0</td>\n",
       "      <td>NaN</td>\n",
       "      <td>NaN</td>\n",
       "      <td>0.420168</td>\n",
       "      <td>0.364146</td>\n",
       "    </tr>\n",
       "    <tr>\n",
       "      <th>10917</th>\n",
       "      <td>20</td>\n",
       "      <td>10000000.0</td>\n",
       "      <td>62.30</td>\n",
       "      <td>2019-05-03</td>\n",
       "      <td>2</td>\n",
       "      <td>2.65</td>\n",
       "      <td>6</td>\n",
       "      <td>20.00</td>\n",
       "      <td>3</td>\n",
       "      <td>NaN</td>\n",
       "      <td>...</td>\n",
       "      <td>Санкт-Петербург</td>\n",
       "      <td>25083.0</td>\n",
       "      <td>3148.0</td>\n",
       "      <td>2</td>\n",
       "      <td>629.0</td>\n",
       "      <td>0</td>\n",
       "      <td>NaN</td>\n",
       "      <td>NaN</td>\n",
       "      <td>0.321027</td>\n",
       "      <td>0.481541</td>\n",
       "    </tr>\n",
       "    <tr>\n",
       "      <th>12003</th>\n",
       "      <td>10</td>\n",
       "      <td>950000.0</td>\n",
       "      <td>37.10</td>\n",
       "      <td>2019-05-03</td>\n",
       "      <td>1</td>\n",
       "      <td>2.65</td>\n",
       "      <td>4</td>\n",
       "      <td>17.00</td>\n",
       "      <td>4</td>\n",
       "      <td>False</td>\n",
       "      <td>...</td>\n",
       "      <td>деревня Курковицы</td>\n",
       "      <td>NaN</td>\n",
       "      <td>NaN</td>\n",
       "      <td>0</td>\n",
       "      <td>NaN</td>\n",
       "      <td>0</td>\n",
       "      <td>NaN</td>\n",
       "      <td>NaN</td>\n",
       "      <td>0.458221</td>\n",
       "      <td>0.226415</td>\n",
       "    </tr>\n",
       "    <tr>\n",
       "      <th>12208</th>\n",
       "      <td>7</td>\n",
       "      <td>9000000.0</td>\n",
       "      <td>60.30</td>\n",
       "      <td>2019-05-03</td>\n",
       "      <td>2</td>\n",
       "      <td>3.25</td>\n",
       "      <td>5</td>\n",
       "      <td>36.90</td>\n",
       "      <td>4</td>\n",
       "      <td>NaN</td>\n",
       "      <td>...</td>\n",
       "      <td>Санкт-Петербург</td>\n",
       "      <td>32302.0</td>\n",
       "      <td>4662.0</td>\n",
       "      <td>1</td>\n",
       "      <td>398.0</td>\n",
       "      <td>0</td>\n",
       "      <td>NaN</td>\n",
       "      <td>NaN</td>\n",
       "      <td>0.611940</td>\n",
       "      <td>0.096186</td>\n",
       "    </tr>\n",
       "    <tr>\n",
       "      <th>12343</th>\n",
       "      <td>12</td>\n",
       "      <td>2890000.0</td>\n",
       "      <td>48.80</td>\n",
       "      <td>2019-05-03</td>\n",
       "      <td>2</td>\n",
       "      <td>2.55</td>\n",
       "      <td>5</td>\n",
       "      <td>29.40</td>\n",
       "      <td>1</td>\n",
       "      <td>NaN</td>\n",
       "      <td>...</td>\n",
       "      <td>городской поселок Рощино</td>\n",
       "      <td>NaN</td>\n",
       "      <td>NaN</td>\n",
       "      <td>0</td>\n",
       "      <td>NaN</td>\n",
       "      <td>0</td>\n",
       "      <td>NaN</td>\n",
       "      <td>NaN</td>\n",
       "      <td>0.602459</td>\n",
       "      <td>0.147541</td>\n",
       "    </tr>\n",
       "    <tr>\n",
       "      <th>12380</th>\n",
       "      <td>9</td>\n",
       "      <td>3900000.0</td>\n",
       "      <td>35.60</td>\n",
       "      <td>2019-05-03</td>\n",
       "      <td>1</td>\n",
       "      <td>2.50</td>\n",
       "      <td>12</td>\n",
       "      <td>18.00</td>\n",
       "      <td>12</td>\n",
       "      <td>NaN</td>\n",
       "      <td>...</td>\n",
       "      <td>Санкт-Петербург</td>\n",
       "      <td>41522.0</td>\n",
       "      <td>12331.0</td>\n",
       "      <td>2</td>\n",
       "      <td>371.0</td>\n",
       "      <td>0</td>\n",
       "      <td>NaN</td>\n",
       "      <td>NaN</td>\n",
       "      <td>0.505618</td>\n",
       "      <td>0.303371</td>\n",
       "    </tr>\n",
       "    <tr>\n",
       "      <th>13746</th>\n",
       "      <td>10</td>\n",
       "      <td>7790000.0</td>\n",
       "      <td>42.30</td>\n",
       "      <td>2019-05-03</td>\n",
       "      <td>1</td>\n",
       "      <td>2.65</td>\n",
       "      <td>17</td>\n",
       "      <td>18.80</td>\n",
       "      <td>9</td>\n",
       "      <td>NaN</td>\n",
       "      <td>...</td>\n",
       "      <td>Санкт-Петербург</td>\n",
       "      <td>39065.0</td>\n",
       "      <td>12241.0</td>\n",
       "      <td>1</td>\n",
       "      <td>192.0</td>\n",
       "      <td>0</td>\n",
       "      <td>NaN</td>\n",
       "      <td>NaN</td>\n",
       "      <td>0.444444</td>\n",
       "      <td>0.276596</td>\n",
       "    </tr>\n",
       "    <tr>\n",
       "      <th>13993</th>\n",
       "      <td>6</td>\n",
       "      <td>3300000.0</td>\n",
       "      <td>43.00</td>\n",
       "      <td>2019-05-03</td>\n",
       "      <td>1</td>\n",
       "      <td>2.60</td>\n",
       "      <td>17</td>\n",
       "      <td>18.00</td>\n",
       "      <td>3</td>\n",
       "      <td>NaN</td>\n",
       "      <td>...</td>\n",
       "      <td>Колпино</td>\n",
       "      <td>28554.0</td>\n",
       "      <td>34341.0</td>\n",
       "      <td>0</td>\n",
       "      <td>NaN</td>\n",
       "      <td>3</td>\n",
       "      <td>287.0</td>\n",
       "      <td>NaN</td>\n",
       "      <td>0.418605</td>\n",
       "      <td>0.244186</td>\n",
       "    </tr>\n",
       "    <tr>\n",
       "      <th>14246</th>\n",
       "      <td>14</td>\n",
       "      <td>6200000.0</td>\n",
       "      <td>86.20</td>\n",
       "      <td>2019-05-03</td>\n",
       "      <td>3</td>\n",
       "      <td>2.65</td>\n",
       "      <td>10</td>\n",
       "      <td>49.50</td>\n",
       "      <td>7</td>\n",
       "      <td>NaN</td>\n",
       "      <td>...</td>\n",
       "      <td>деревня Куттузи</td>\n",
       "      <td>NaN</td>\n",
       "      <td>NaN</td>\n",
       "      <td>0</td>\n",
       "      <td>NaN</td>\n",
       "      <td>0</td>\n",
       "      <td>NaN</td>\n",
       "      <td>NaN</td>\n",
       "      <td>0.574246</td>\n",
       "      <td>0.197216</td>\n",
       "    </tr>\n",
       "    <tr>\n",
       "      <th>14424</th>\n",
       "      <td>1</td>\n",
       "      <td>14500000.0</td>\n",
       "      <td>91.40</td>\n",
       "      <td>2019-05-03</td>\n",
       "      <td>3</td>\n",
       "      <td>3.00</td>\n",
       "      <td>5</td>\n",
       "      <td>50.50</td>\n",
       "      <td>3</td>\n",
       "      <td>False</td>\n",
       "      <td>...</td>\n",
       "      <td>Санкт-Петербург</td>\n",
       "      <td>23783.0</td>\n",
       "      <td>3350.0</td>\n",
       "      <td>3</td>\n",
       "      <td>190.0</td>\n",
       "      <td>3</td>\n",
       "      <td>144.0</td>\n",
       "      <td>NaN</td>\n",
       "      <td>0.552516</td>\n",
       "      <td>0.251641</td>\n",
       "    </tr>\n",
       "    <tr>\n",
       "      <th>15072</th>\n",
       "      <td>5</td>\n",
       "      <td>1400000.0</td>\n",
       "      <td>34.00</td>\n",
       "      <td>2019-05-03</td>\n",
       "      <td>1</td>\n",
       "      <td>2.50</td>\n",
       "      <td>5</td>\n",
       "      <td>16.32</td>\n",
       "      <td>2</td>\n",
       "      <td>NaN</td>\n",
       "      <td>...</td>\n",
       "      <td>Кириши</td>\n",
       "      <td>NaN</td>\n",
       "      <td>NaN</td>\n",
       "      <td>0</td>\n",
       "      <td>NaN</td>\n",
       "      <td>0</td>\n",
       "      <td>NaN</td>\n",
       "      <td>NaN</td>\n",
       "      <td>0.480000</td>\n",
       "      <td>0.205882</td>\n",
       "    </tr>\n",
       "    <tr>\n",
       "      <th>15881</th>\n",
       "      <td>9</td>\n",
       "      <td>2100000.0</td>\n",
       "      <td>35.80</td>\n",
       "      <td>2019-05-03</td>\n",
       "      <td>1</td>\n",
       "      <td>2.50</td>\n",
       "      <td>5</td>\n",
       "      <td>18.00</td>\n",
       "      <td>5</td>\n",
       "      <td>False</td>\n",
       "      <td>...</td>\n",
       "      <td>поселок Ленинское</td>\n",
       "      <td>NaN</td>\n",
       "      <td>NaN</td>\n",
       "      <td>0</td>\n",
       "      <td>NaN</td>\n",
       "      <td>0</td>\n",
       "      <td>NaN</td>\n",
       "      <td>NaN</td>\n",
       "      <td>0.502793</td>\n",
       "      <td>0.195531</td>\n",
       "    </tr>\n",
       "    <tr>\n",
       "      <th>17551</th>\n",
       "      <td>7</td>\n",
       "      <td>3200000.0</td>\n",
       "      <td>45.60</td>\n",
       "      <td>2019-05-03</td>\n",
       "      <td>2</td>\n",
       "      <td>2.65</td>\n",
       "      <td>5</td>\n",
       "      <td>30.90</td>\n",
       "      <td>5</td>\n",
       "      <td>False</td>\n",
       "      <td>...</td>\n",
       "      <td>Сосновый Бор</td>\n",
       "      <td>NaN</td>\n",
       "      <td>NaN</td>\n",
       "      <td>0</td>\n",
       "      <td>NaN</td>\n",
       "      <td>0</td>\n",
       "      <td>NaN</td>\n",
       "      <td>NaN</td>\n",
       "      <td>0.677632</td>\n",
       "      <td>0.122807</td>\n",
       "    </tr>\n",
       "    <tr>\n",
       "      <th>17872</th>\n",
       "      <td>3</td>\n",
       "      <td>4650000.0</td>\n",
       "      <td>34.80</td>\n",
       "      <td>2019-05-03</td>\n",
       "      <td>1</td>\n",
       "      <td>2.50</td>\n",
       "      <td>9</td>\n",
       "      <td>13.90</td>\n",
       "      <td>1</td>\n",
       "      <td>NaN</td>\n",
       "      <td>...</td>\n",
       "      <td>Санкт-Петербург</td>\n",
       "      <td>12384.0</td>\n",
       "      <td>12296.0</td>\n",
       "      <td>0</td>\n",
       "      <td>NaN</td>\n",
       "      <td>1</td>\n",
       "      <td>396.0</td>\n",
       "      <td>NaN</td>\n",
       "      <td>0.399425</td>\n",
       "      <td>0.321839</td>\n",
       "    </tr>\n",
       "    <tr>\n",
       "      <th>21887</th>\n",
       "      <td>0</td>\n",
       "      <td>5600000.0</td>\n",
       "      <td>61.60</td>\n",
       "      <td>2019-05-03</td>\n",
       "      <td>3</td>\n",
       "      <td>2.50</td>\n",
       "      <td>9</td>\n",
       "      <td>42.00</td>\n",
       "      <td>5</td>\n",
       "      <td>NaN</td>\n",
       "      <td>...</td>\n",
       "      <td>Санкт-Петербург</td>\n",
       "      <td>36326.0</td>\n",
       "      <td>10641.0</td>\n",
       "      <td>1</td>\n",
       "      <td>637.0</td>\n",
       "      <td>0</td>\n",
       "      <td>NaN</td>\n",
       "      <td>NaN</td>\n",
       "      <td>0.681818</td>\n",
       "      <td>0.134740</td>\n",
       "    </tr>\n",
       "  </tbody>\n",
       "</table>\n",
       "<p>20 rows × 24 columns</p>\n",
       "</div>"
      ],
      "text/plain": [
       "       total_images  last_price  total_area first_day_exposition  rooms  \\\n",
       "2178             10   5100000.0       51.00           2019-05-03      1   \n",
       "3254             16   8800000.0       80.00           2019-05-03      3   \n",
       "4450             13   3500000.0       34.60           2019-05-03      1   \n",
       "5986              0   5000000.0       48.00           2019-05-03      3   \n",
       "8170              4   3280000.0       38.19           2019-05-03      1   \n",
       "9217              7   4300000.0       35.70           2019-05-03      1   \n",
       "10917            20  10000000.0       62.30           2019-05-03      2   \n",
       "12003            10    950000.0       37.10           2019-05-03      1   \n",
       "12208             7   9000000.0       60.30           2019-05-03      2   \n",
       "12343            12   2890000.0       48.80           2019-05-03      2   \n",
       "12380             9   3900000.0       35.60           2019-05-03      1   \n",
       "13746            10   7790000.0       42.30           2019-05-03      1   \n",
       "13993             6   3300000.0       43.00           2019-05-03      1   \n",
       "14246            14   6200000.0       86.20           2019-05-03      3   \n",
       "14424             1  14500000.0       91.40           2019-05-03      3   \n",
       "15072             5   1400000.0       34.00           2019-05-03      1   \n",
       "15881             9   2100000.0       35.80           2019-05-03      1   \n",
       "17551             7   3200000.0       45.60           2019-05-03      2   \n",
       "17872             3   4650000.0       34.80           2019-05-03      1   \n",
       "21887             0   5600000.0       61.60           2019-05-03      3   \n",
       "\n",
       "       ceiling_height  floors_total  living_area  floor is_apartment  ...  \\\n",
       "2178             2.65             9        15.00      2          NaN  ...   \n",
       "3254             2.80            17        31.00     15          NaN  ...   \n",
       "4450             2.50             5        19.40      3          NaN  ...   \n",
       "5986             2.50             9        30.24      2          NaN  ...   \n",
       "8170             2.65             6        14.41      4          NaN  ...   \n",
       "9217             2.70            21        15.00     12        False  ...   \n",
       "10917            2.65             6        20.00      3          NaN  ...   \n",
       "12003            2.65             4        17.00      4        False  ...   \n",
       "12208            3.25             5        36.90      4          NaN  ...   \n",
       "12343            2.55             5        29.40      1          NaN  ...   \n",
       "12380            2.50            12        18.00     12          NaN  ...   \n",
       "13746            2.65            17        18.80      9          NaN  ...   \n",
       "13993            2.60            17        18.00      3          NaN  ...   \n",
       "14246            2.65            10        49.50      7          NaN  ...   \n",
       "14424            3.00             5        50.50      3        False  ...   \n",
       "15072            2.50             5        16.32      2          NaN  ...   \n",
       "15881            2.50             5        18.00      5        False  ...   \n",
       "17551            2.65             5        30.90      5        False  ...   \n",
       "17872            2.50             9        13.90      1          NaN  ...   \n",
       "21887            2.50             9        42.00      5          NaN  ...   \n",
       "\n",
       "                     locality_name  airports_nearest  city_сenters_nearest  \\\n",
       "2178                       Кудрово               NaN                   NaN   \n",
       "3254                       Кудрово               NaN                   NaN   \n",
       "4450                        Пушкин           13107.0               25261.0   \n",
       "5986               Санкт-Петербург           51060.0               16892.0   \n",
       "8170   городской поселок Новоселье               NaN                   NaN   \n",
       "9217                        Мурино               NaN                   NaN   \n",
       "10917              Санкт-Петербург           25083.0                3148.0   \n",
       "12003            деревня Курковицы               NaN                   NaN   \n",
       "12208              Санкт-Петербург           32302.0                4662.0   \n",
       "12343     городской поселок Рощино               NaN                   NaN   \n",
       "12380              Санкт-Петербург           41522.0               12331.0   \n",
       "13746              Санкт-Петербург           39065.0               12241.0   \n",
       "13993                      Колпино           28554.0               34341.0   \n",
       "14246              деревня Куттузи               NaN                   NaN   \n",
       "14424              Санкт-Петербург           23783.0                3350.0   \n",
       "15072                       Кириши               NaN                   NaN   \n",
       "15881            поселок Ленинское               NaN                   NaN   \n",
       "17551                 Сосновый Бор               NaN                   NaN   \n",
       "17872              Санкт-Петербург           12384.0               12296.0   \n",
       "21887              Санкт-Петербург           36326.0               10641.0   \n",
       "\n",
       "       parks_around3000 parks_nearest  ponds_around3000  ponds_nearest  \\\n",
       "2178                  0           NaN                 0            NaN   \n",
       "3254                  0           NaN                 0            NaN   \n",
       "4450                  1         361.0                 0            NaN   \n",
       "5986                  0           NaN                 0            NaN   \n",
       "8170                  0           NaN                 0            NaN   \n",
       "9217                  0           NaN                 0            NaN   \n",
       "10917                 2         629.0                 0            NaN   \n",
       "12003                 0           NaN                 0            NaN   \n",
       "12208                 1         398.0                 0            NaN   \n",
       "12343                 0           NaN                 0            NaN   \n",
       "12380                 2         371.0                 0            NaN   \n",
       "13746                 1         192.0                 0            NaN   \n",
       "13993                 0           NaN                 3          287.0   \n",
       "14246                 0           NaN                 0            NaN   \n",
       "14424                 3         190.0                 3          144.0   \n",
       "15072                 0           NaN                 0            NaN   \n",
       "15881                 0           NaN                 0            NaN   \n",
       "17551                 0           NaN                 0            NaN   \n",
       "17872                 0           NaN                 1          396.0   \n",
       "21887                 1         637.0                 0            NaN   \n",
       "\n",
       "       days_exposition  living_part  kitchen_part  \n",
       "2178               NaN     0.294118      0.490196  \n",
       "3254               NaN     0.387500      0.337500  \n",
       "4450               NaN     0.560694      0.210983  \n",
       "5986               NaN     0.630000      0.128000  \n",
       "8170               NaN     0.377324      0.268657  \n",
       "9217               NaN     0.420168      0.364146  \n",
       "10917              NaN     0.321027      0.481541  \n",
       "12003              NaN     0.458221      0.226415  \n",
       "12208              NaN     0.611940      0.096186  \n",
       "12343              NaN     0.602459      0.147541  \n",
       "12380              NaN     0.505618      0.303371  \n",
       "13746              NaN     0.444444      0.276596  \n",
       "13993              NaN     0.418605      0.244186  \n",
       "14246              NaN     0.574246      0.197216  \n",
       "14424              NaN     0.552516      0.251641  \n",
       "15072              NaN     0.480000      0.205882  \n",
       "15881              NaN     0.502793      0.195531  \n",
       "17551              NaN     0.677632      0.122807  \n",
       "17872              NaN     0.399425      0.321839  \n",
       "21887              NaN     0.681818      0.134740  \n",
       "\n",
       "[20 rows x 24 columns]"
      ]
     },
     "execution_count": 52,
     "metadata": {},
     "output_type": "execute_result"
    }
   ],
   "source": [
    "df[df['first_day_exposition'] == df['first_day_exposition'].max()]"
   ]
  },
  {
   "cell_type": "markdown",
   "metadata": {},
   "source": [
    "В пропусках days_exposition не прослеживается какой-либо законномерности, при этом last_price указывает на то, что объявление было снято, последняя публикация была в мае 2019, считать разницу с сегодняшним днем будет некорректно, так как нет информации о том, когда были собраны данные, самыми последними опубликовали 20 объявлений 3.05.2019 и ни у одного из них не заполнено количество дней размещения, при этом минимальное и максимальное значения разнятся более чем на 4 года (1580 дней), поэтому в текущей ситуации нет подходящего способа заполнить пропуски и не исказить выводы исследования."
   ]
  },
  {
   "cell_type": "code",
   "execution_count": 53,
   "metadata": {},
   "outputs": [],
   "source": [
    "df['days_exposition'] = df['days_exposition'].round()\n",
    "df['days_exposition'] = pd.array(df['days_exposition'], dtype='Int64')"
   ]
  },
  {
   "cell_type": "code",
   "execution_count": 54,
   "metadata": {},
   "outputs": [
    {
     "name": "stdout",
     "output_type": "stream",
     "text": [
      "<class 'pandas.core.frame.DataFrame'>\n",
      "Int64Index: 23613 entries, 0 to 23698\n",
      "Data columns (total 24 columns):\n",
      " #   Column                Non-Null Count  Dtype         \n",
      "---  ------                --------------  -----         \n",
      " 0   total_images          23613 non-null  int64         \n",
      " 1   last_price            23613 non-null  float64       \n",
      " 2   total_area            23613 non-null  float64       \n",
      " 3   first_day_exposition  23613 non-null  datetime64[ns]\n",
      " 4   rooms                 23613 non-null  int64         \n",
      " 5   ceiling_height        23613 non-null  float64       \n",
      " 6   floors_total          23613 non-null  int32         \n",
      " 7   living_area           23613 non-null  float64       \n",
      " 8   floor                 23613 non-null  int64         \n",
      " 9   is_apartment          2775 non-null   object        \n",
      " 10  studio                23613 non-null  bool          \n",
      " 11  open_plan             23613 non-null  bool          \n",
      " 12  kitchen_area          23613 non-null  float64       \n",
      " 13  balcony               23613 non-null  int32         \n",
      " 14  locality_name         23613 non-null  object        \n",
      " 15  airports_nearest      18081 non-null  float64       \n",
      " 16  city_сenters_nearest  18104 non-null  float64       \n",
      " 17  parks_around3000      23613 non-null  int32         \n",
      " 18  parks_nearest         8045 non-null   float64       \n",
      " 19  ponds_around3000      23613 non-null  int32         \n",
      " 20  ponds_nearest         9061 non-null   float64       \n",
      " 21  days_exposition       20441 non-null  Int64         \n",
      " 22  living_part           23613 non-null  float64       \n",
      " 23  kitchen_part          23613 non-null  float64       \n",
      "dtypes: Int64(1), bool(2), datetime64[ns](1), float64(11), int32(4), int64(3), object(2)\n",
      "memory usage: 3.9+ MB\n"
     ]
    }
   ],
   "source": [
    "df.info()"
   ]
  },
  {
   "cell_type": "markdown",
   "metadata": {},
   "source": [
    "### Вывод"
   ]
  },
  {
   "cell_type": "markdown",
   "metadata": {},
   "source": [
    "В результате предобработки данных заголовки были приведены к единому стилю, изменен тип данных в столбцах:\n",
    "- first_day_exposition\n",
    "- floors_total\n",
    "- balcony\n",
    "- parks_around3000\n",
    "- ponds_around3000\n",
    "- days_exposition\n",
    "\n",
    "Обработаны пропуски в столбцах:\n",
    "- ceiling_height\n",
    "- floors_total\n",
    "- living_area\n",
    "- kitchen_area\n",
    "- balcony\n",
    "- locality_name\n",
    "- parks_around3000\n",
    "- ponds_around3000"
   ]
  },
  {
   "cell_type": "markdown",
   "metadata": {},
   "source": [
    "## Расчёты и добавление результатов в таблицу"
   ]
  },
  {
   "cell_type": "markdown",
   "metadata": {},
   "source": [
    "Для проверки влияния даты публикации, а также этажа размещения на стоимость квартиры, потребуется добавить столбцы с новыми данными:\n",
    "- цену квадратного метра\n",
    "- день недели, месяц и год публикации объявления\n",
    "- этаж квартиры(первый/последний/другой)"
   ]
  },
  {
   "cell_type": "code",
   "execution_count": 55,
   "metadata": {},
   "outputs": [],
   "source": [
    "df['meter_price'] = df['last_price'] / df['total_area']\n",
    "df['meter_price'] = df['meter_price'].round()"
   ]
  },
  {
   "cell_type": "code",
   "execution_count": 56,
   "metadata": {},
   "outputs": [
    {
     "data": {
      "text/html": [
       "<div>\n",
       "<style scoped>\n",
       "    .dataframe tbody tr th:only-of-type {\n",
       "        vertical-align: middle;\n",
       "    }\n",
       "\n",
       "    .dataframe tbody tr th {\n",
       "        vertical-align: top;\n",
       "    }\n",
       "\n",
       "    .dataframe thead th {\n",
       "        text-align: right;\n",
       "    }\n",
       "</style>\n",
       "<table border=\"1\" class=\"dataframe\">\n",
       "  <thead>\n",
       "    <tr style=\"text-align: right;\">\n",
       "      <th></th>\n",
       "      <th>total_images</th>\n",
       "      <th>last_price</th>\n",
       "      <th>total_area</th>\n",
       "      <th>first_day_exposition</th>\n",
       "      <th>rooms</th>\n",
       "      <th>ceiling_height</th>\n",
       "      <th>floors_total</th>\n",
       "      <th>living_area</th>\n",
       "      <th>floor</th>\n",
       "      <th>is_apartment</th>\n",
       "      <th>...</th>\n",
       "      <th>parks_nearest</th>\n",
       "      <th>ponds_around3000</th>\n",
       "      <th>ponds_nearest</th>\n",
       "      <th>days_exposition</th>\n",
       "      <th>living_part</th>\n",
       "      <th>kitchen_part</th>\n",
       "      <th>meter_price</th>\n",
       "      <th>year_exposition</th>\n",
       "      <th>month_exposition</th>\n",
       "      <th>week_day_exposition</th>\n",
       "    </tr>\n",
       "  </thead>\n",
       "  <tbody>\n",
       "    <tr>\n",
       "      <th>0</th>\n",
       "      <td>20</td>\n",
       "      <td>13000000.0</td>\n",
       "      <td>108.0</td>\n",
       "      <td>2019-03-07</td>\n",
       "      <td>3</td>\n",
       "      <td>2.70</td>\n",
       "      <td>16</td>\n",
       "      <td>51.00</td>\n",
       "      <td>8</td>\n",
       "      <td>NaN</td>\n",
       "      <td>...</td>\n",
       "      <td>482.0</td>\n",
       "      <td>2</td>\n",
       "      <td>755.0</td>\n",
       "      <td>&lt;NA&gt;</td>\n",
       "      <td>0.472222</td>\n",
       "      <td>0.231481</td>\n",
       "      <td>120370.0</td>\n",
       "      <td>2019</td>\n",
       "      <td>3</td>\n",
       "      <td>3</td>\n",
       "    </tr>\n",
       "    <tr>\n",
       "      <th>1</th>\n",
       "      <td>7</td>\n",
       "      <td>3350000.0</td>\n",
       "      <td>40.4</td>\n",
       "      <td>2018-12-04</td>\n",
       "      <td>1</td>\n",
       "      <td>2.65</td>\n",
       "      <td>11</td>\n",
       "      <td>18.60</td>\n",
       "      <td>1</td>\n",
       "      <td>NaN</td>\n",
       "      <td>...</td>\n",
       "      <td>NaN</td>\n",
       "      <td>0</td>\n",
       "      <td>NaN</td>\n",
       "      <td>81</td>\n",
       "      <td>0.460396</td>\n",
       "      <td>0.272277</td>\n",
       "      <td>82921.0</td>\n",
       "      <td>2018</td>\n",
       "      <td>12</td>\n",
       "      <td>1</td>\n",
       "    </tr>\n",
       "    <tr>\n",
       "      <th>2</th>\n",
       "      <td>10</td>\n",
       "      <td>5196000.0</td>\n",
       "      <td>56.0</td>\n",
       "      <td>2015-08-20</td>\n",
       "      <td>2</td>\n",
       "      <td>2.65</td>\n",
       "      <td>5</td>\n",
       "      <td>34.30</td>\n",
       "      <td>4</td>\n",
       "      <td>NaN</td>\n",
       "      <td>...</td>\n",
       "      <td>90.0</td>\n",
       "      <td>2</td>\n",
       "      <td>574.0</td>\n",
       "      <td>558</td>\n",
       "      <td>0.612500</td>\n",
       "      <td>0.148214</td>\n",
       "      <td>92786.0</td>\n",
       "      <td>2015</td>\n",
       "      <td>8</td>\n",
       "      <td>3</td>\n",
       "    </tr>\n",
       "    <tr>\n",
       "      <th>3</th>\n",
       "      <td>0</td>\n",
       "      <td>64900000.0</td>\n",
       "      <td>159.0</td>\n",
       "      <td>2015-07-24</td>\n",
       "      <td>3</td>\n",
       "      <td>2.65</td>\n",
       "      <td>14</td>\n",
       "      <td>100.17</td>\n",
       "      <td>9</td>\n",
       "      <td>NaN</td>\n",
       "      <td>...</td>\n",
       "      <td>84.0</td>\n",
       "      <td>3</td>\n",
       "      <td>234.0</td>\n",
       "      <td>424</td>\n",
       "      <td>0.630000</td>\n",
       "      <td>0.128000</td>\n",
       "      <td>408176.0</td>\n",
       "      <td>2015</td>\n",
       "      <td>7</td>\n",
       "      <td>4</td>\n",
       "    </tr>\n",
       "    <tr>\n",
       "      <th>4</th>\n",
       "      <td>2</td>\n",
       "      <td>10000000.0</td>\n",
       "      <td>100.0</td>\n",
       "      <td>2018-06-19</td>\n",
       "      <td>2</td>\n",
       "      <td>3.03</td>\n",
       "      <td>14</td>\n",
       "      <td>32.00</td>\n",
       "      <td>13</td>\n",
       "      <td>NaN</td>\n",
       "      <td>...</td>\n",
       "      <td>112.0</td>\n",
       "      <td>1</td>\n",
       "      <td>48.0</td>\n",
       "      <td>121</td>\n",
       "      <td>0.320000</td>\n",
       "      <td>0.410000</td>\n",
       "      <td>100000.0</td>\n",
       "      <td>2018</td>\n",
       "      <td>6</td>\n",
       "      <td>1</td>\n",
       "    </tr>\n",
       "  </tbody>\n",
       "</table>\n",
       "<p>5 rows × 28 columns</p>\n",
       "</div>"
      ],
      "text/plain": [
       "   total_images  last_price  total_area first_day_exposition  rooms  \\\n",
       "0            20  13000000.0       108.0           2019-03-07      3   \n",
       "1             7   3350000.0        40.4           2018-12-04      1   \n",
       "2            10   5196000.0        56.0           2015-08-20      2   \n",
       "3             0  64900000.0       159.0           2015-07-24      3   \n",
       "4             2  10000000.0       100.0           2018-06-19      2   \n",
       "\n",
       "   ceiling_height  floors_total  living_area  floor is_apartment  ...  \\\n",
       "0            2.70            16        51.00      8          NaN  ...   \n",
       "1            2.65            11        18.60      1          NaN  ...   \n",
       "2            2.65             5        34.30      4          NaN  ...   \n",
       "3            2.65            14       100.17      9          NaN  ...   \n",
       "4            3.03            14        32.00     13          NaN  ...   \n",
       "\n",
       "   parks_nearest  ponds_around3000  ponds_nearest  days_exposition  \\\n",
       "0          482.0                 2          755.0             <NA>   \n",
       "1            NaN                 0            NaN               81   \n",
       "2           90.0                 2          574.0              558   \n",
       "3           84.0                 3          234.0              424   \n",
       "4          112.0                 1           48.0              121   \n",
       "\n",
       "  living_part  kitchen_part  meter_price  year_exposition  month_exposition  \\\n",
       "0    0.472222      0.231481     120370.0             2019                 3   \n",
       "1    0.460396      0.272277      82921.0             2018                12   \n",
       "2    0.612500      0.148214      92786.0             2015                 8   \n",
       "3    0.630000      0.128000     408176.0             2015                 7   \n",
       "4    0.320000      0.410000     100000.0             2018                 6   \n",
       "\n",
       "   week_day_exposition  \n",
       "0                    3  \n",
       "1                    1  \n",
       "2                    3  \n",
       "3                    4  \n",
       "4                    1  \n",
       "\n",
       "[5 rows x 28 columns]"
      ]
     },
     "execution_count": 56,
     "metadata": {},
     "output_type": "execute_result"
    }
   ],
   "source": [
    "df['year_exposition'] = pd.DatetimeIndex(df['first_day_exposition']).year\n",
    "df['month_exposition'] = pd.DatetimeIndex(df['first_day_exposition']).month\n",
    "df['week_day_exposition'] = df['first_day_exposition'].dt.weekday\n",
    "df.head()"
   ]
  },
  {
   "cell_type": "code",
   "execution_count": 57,
   "metadata": {},
   "outputs": [
    {
     "data": {
      "text/html": [
       "<div>\n",
       "<style scoped>\n",
       "    .dataframe tbody tr th:only-of-type {\n",
       "        vertical-align: middle;\n",
       "    }\n",
       "\n",
       "    .dataframe tbody tr th {\n",
       "        vertical-align: top;\n",
       "    }\n",
       "\n",
       "    .dataframe thead th {\n",
       "        text-align: right;\n",
       "    }\n",
       "</style>\n",
       "<table border=\"1\" class=\"dataframe\">\n",
       "  <thead>\n",
       "    <tr style=\"text-align: right;\">\n",
       "      <th></th>\n",
       "      <th>total_images</th>\n",
       "      <th>last_price</th>\n",
       "      <th>total_area</th>\n",
       "      <th>first_day_exposition</th>\n",
       "      <th>rooms</th>\n",
       "      <th>ceiling_height</th>\n",
       "      <th>floors_total</th>\n",
       "      <th>living_area</th>\n",
       "      <th>floor</th>\n",
       "      <th>is_apartment</th>\n",
       "      <th>...</th>\n",
       "      <th>ponds_around3000</th>\n",
       "      <th>ponds_nearest</th>\n",
       "      <th>days_exposition</th>\n",
       "      <th>living_part</th>\n",
       "      <th>kitchen_part</th>\n",
       "      <th>meter_price</th>\n",
       "      <th>year_exposition</th>\n",
       "      <th>month_exposition</th>\n",
       "      <th>week_day_exposition</th>\n",
       "      <th>floor_category</th>\n",
       "    </tr>\n",
       "  </thead>\n",
       "  <tbody>\n",
       "    <tr>\n",
       "      <th>0</th>\n",
       "      <td>20</td>\n",
       "      <td>13000000.0</td>\n",
       "      <td>108.0</td>\n",
       "      <td>2019-03-07</td>\n",
       "      <td>3</td>\n",
       "      <td>2.70</td>\n",
       "      <td>16</td>\n",
       "      <td>51.00</td>\n",
       "      <td>8</td>\n",
       "      <td>NaN</td>\n",
       "      <td>...</td>\n",
       "      <td>2</td>\n",
       "      <td>755.0</td>\n",
       "      <td>&lt;NA&gt;</td>\n",
       "      <td>0.472222</td>\n",
       "      <td>0.231481</td>\n",
       "      <td>120370.0</td>\n",
       "      <td>2019</td>\n",
       "      <td>3</td>\n",
       "      <td>3</td>\n",
       "      <td>другой этаж</td>\n",
       "    </tr>\n",
       "    <tr>\n",
       "      <th>1</th>\n",
       "      <td>7</td>\n",
       "      <td>3350000.0</td>\n",
       "      <td>40.4</td>\n",
       "      <td>2018-12-04</td>\n",
       "      <td>1</td>\n",
       "      <td>2.65</td>\n",
       "      <td>11</td>\n",
       "      <td>18.60</td>\n",
       "      <td>1</td>\n",
       "      <td>NaN</td>\n",
       "      <td>...</td>\n",
       "      <td>0</td>\n",
       "      <td>NaN</td>\n",
       "      <td>81</td>\n",
       "      <td>0.460396</td>\n",
       "      <td>0.272277</td>\n",
       "      <td>82921.0</td>\n",
       "      <td>2018</td>\n",
       "      <td>12</td>\n",
       "      <td>1</td>\n",
       "      <td>первый этаж</td>\n",
       "    </tr>\n",
       "    <tr>\n",
       "      <th>2</th>\n",
       "      <td>10</td>\n",
       "      <td>5196000.0</td>\n",
       "      <td>56.0</td>\n",
       "      <td>2015-08-20</td>\n",
       "      <td>2</td>\n",
       "      <td>2.65</td>\n",
       "      <td>5</td>\n",
       "      <td>34.30</td>\n",
       "      <td>4</td>\n",
       "      <td>NaN</td>\n",
       "      <td>...</td>\n",
       "      <td>2</td>\n",
       "      <td>574.0</td>\n",
       "      <td>558</td>\n",
       "      <td>0.612500</td>\n",
       "      <td>0.148214</td>\n",
       "      <td>92786.0</td>\n",
       "      <td>2015</td>\n",
       "      <td>8</td>\n",
       "      <td>3</td>\n",
       "      <td>другой этаж</td>\n",
       "    </tr>\n",
       "    <tr>\n",
       "      <th>3</th>\n",
       "      <td>0</td>\n",
       "      <td>64900000.0</td>\n",
       "      <td>159.0</td>\n",
       "      <td>2015-07-24</td>\n",
       "      <td>3</td>\n",
       "      <td>2.65</td>\n",
       "      <td>14</td>\n",
       "      <td>100.17</td>\n",
       "      <td>9</td>\n",
       "      <td>NaN</td>\n",
       "      <td>...</td>\n",
       "      <td>3</td>\n",
       "      <td>234.0</td>\n",
       "      <td>424</td>\n",
       "      <td>0.630000</td>\n",
       "      <td>0.128000</td>\n",
       "      <td>408176.0</td>\n",
       "      <td>2015</td>\n",
       "      <td>7</td>\n",
       "      <td>4</td>\n",
       "      <td>другой этаж</td>\n",
       "    </tr>\n",
       "    <tr>\n",
       "      <th>4</th>\n",
       "      <td>2</td>\n",
       "      <td>10000000.0</td>\n",
       "      <td>100.0</td>\n",
       "      <td>2018-06-19</td>\n",
       "      <td>2</td>\n",
       "      <td>3.03</td>\n",
       "      <td>14</td>\n",
       "      <td>32.00</td>\n",
       "      <td>13</td>\n",
       "      <td>NaN</td>\n",
       "      <td>...</td>\n",
       "      <td>1</td>\n",
       "      <td>48.0</td>\n",
       "      <td>121</td>\n",
       "      <td>0.320000</td>\n",
       "      <td>0.410000</td>\n",
       "      <td>100000.0</td>\n",
       "      <td>2018</td>\n",
       "      <td>6</td>\n",
       "      <td>1</td>\n",
       "      <td>другой этаж</td>\n",
       "    </tr>\n",
       "  </tbody>\n",
       "</table>\n",
       "<p>5 rows × 29 columns</p>\n",
       "</div>"
      ],
      "text/plain": [
       "   total_images  last_price  total_area first_day_exposition  rooms  \\\n",
       "0            20  13000000.0       108.0           2019-03-07      3   \n",
       "1             7   3350000.0        40.4           2018-12-04      1   \n",
       "2            10   5196000.0        56.0           2015-08-20      2   \n",
       "3             0  64900000.0       159.0           2015-07-24      3   \n",
       "4             2  10000000.0       100.0           2018-06-19      2   \n",
       "\n",
       "   ceiling_height  floors_total  living_area  floor is_apartment  ...  \\\n",
       "0            2.70            16        51.00      8          NaN  ...   \n",
       "1            2.65            11        18.60      1          NaN  ...   \n",
       "2            2.65             5        34.30      4          NaN  ...   \n",
       "3            2.65            14       100.17      9          NaN  ...   \n",
       "4            3.03            14        32.00     13          NaN  ...   \n",
       "\n",
       "   ponds_around3000  ponds_nearest  days_exposition  living_part kitchen_part  \\\n",
       "0                 2          755.0             <NA>     0.472222     0.231481   \n",
       "1                 0            NaN               81     0.460396     0.272277   \n",
       "2                 2          574.0              558     0.612500     0.148214   \n",
       "3                 3          234.0              424     0.630000     0.128000   \n",
       "4                 1           48.0              121     0.320000     0.410000   \n",
       "\n",
       "   meter_price  year_exposition  month_exposition  week_day_exposition  \\\n",
       "0     120370.0             2019                 3                    3   \n",
       "1      82921.0             2018                12                    1   \n",
       "2      92786.0             2015                 8                    3   \n",
       "3     408176.0             2015                 7                    4   \n",
       "4     100000.0             2018                 6                    1   \n",
       "\n",
       "   floor_category  \n",
       "0     другой этаж  \n",
       "1     первый этаж  \n",
       "2     другой этаж  \n",
       "3     другой этаж  \n",
       "4     другой этаж  \n",
       "\n",
       "[5 rows x 29 columns]"
      ]
     },
     "execution_count": 57,
     "metadata": {},
     "output_type": "execute_result"
    }
   ],
   "source": [
    "def floor_category(df):\n",
    "    floor = df['floor']\n",
    "    floors_total = df['floors_total']\n",
    "    if floor == 1:\n",
    "        return 'первый этаж'\n",
    "    if floor == floors_total:\n",
    "        return 'последний этаж'\n",
    "    return 'другой этаж'\n",
    "df['floor_category'] = df.apply(floor_category, axis=1)\n",
    "df.head()"
   ]
  },
  {
   "cell_type": "markdown",
   "metadata": {},
   "source": [
    "## Исследовательский анализ данных"
   ]
  },
  {
   "cell_type": "markdown",
   "metadata": {},
   "source": [
    "### Оценка времени продажи"
   ]
  },
  {
   "cell_type": "code",
   "execution_count": 58,
   "metadata": {},
   "outputs": [
    {
     "data": {
      "text/plain": [
       "count    20441.000000\n",
       "mean       180.884839\n",
       "std        219.685543\n",
       "min          1.000000\n",
       "25%         45.000000\n",
       "50%         95.000000\n",
       "75%        232.000000\n",
       "max       1580.000000\n",
       "Name: days_exposition, dtype: float64"
      ]
     },
     "execution_count": 58,
     "metadata": {},
     "output_type": "execute_result"
    }
   ],
   "source": [
    "df['days_exposition'].describe()"
   ]
  },
  {
   "cell_type": "code",
   "execution_count": 59,
   "metadata": {},
   "outputs": [
    {
     "data": {
      "text/plain": [
       "<AxesSubplot:>"
      ]
     },
     "execution_count": 59,
     "metadata": {},
     "output_type": "execute_result"
    },
    {
     "data": {
      "image/png": "[encoded data removed]",
      "text/plain": [
       "<Figure size 432x288 with 1 Axes>"
      ]
     },
     "metadata": {
      "needs_background": "light"
     },
     "output_type": "display_data"
    }
   ],
   "source": [
    "df['days_exposition'].hist(bins=20)"
   ]
  },
  {
   "cell_type": "markdown",
   "metadata": {},
   "source": [
    "#### Вывод\n",
    "Средняя продолжительность продажи почти в два раза превышает медианную, значения так сильно разнятся из-за того, что некоторые объекты продавались боле 1400 дней, при этом объекты, которые находятся в продаже более 800 дней уже редки, почти половина продаж происходит в первые 100 дней. Если продажа происходит через 300 дней, уже можно считать, что это долгая продажа, а учитывая некоторые особенности сделки с недвижимостью (предварительный осмотр, оценка, банковские сроки для крупных сум) продажи, которые совершаются менее чем за 10 дней, необычайно быстрые."
   ]
  },
  {
   "cell_type": "markdown",
   "metadata": {},
   "source": [
    "### Какие факторы больше всего влияют на стоимость квартиры?"
   ]
  },
  {
   "cell_type": "code",
   "execution_count": 60,
   "metadata": {},
   "outputs": [
    {
     "data": {
      "text/plain": [
       "<AxesSubplot:>"
      ]
     },
     "execution_count": 60,
     "metadata": {},
     "output_type": "execute_result"
    },
    {
     "data": {
      "image/png": "[encoded data removed]",
      "text/plain": [
       "<Figure size 432x288 with 1 Axes>"
      ]
     },
     "metadata": {
      "needs_background": "light"
     },
     "output_type": "display_data"
    }
   ],
   "source": [
    "df['total_area'].hist(bins=100)"
   ]
  },
  {
   "cell_type": "markdown",
   "metadata": {},
   "source": [
    "Основная часть объектов имеет площадь в пределах 100 квадратных метров, малая доля превышает 200 квадратных метров, такие квартиры весьма нетипичны, далее для определения параметров оценки рыночной стоимости будем использовать только те данные, где общая площадь не превышает 150 кв.метров."
   ]
  },
  {
   "cell_type": "code",
   "execution_count": 61,
   "metadata": {},
   "outputs": [],
   "source": [
    "clean_df = df.query('total_area < 150')"
   ]
  },
  {
   "cell_type": "code",
   "execution_count": 62,
   "metadata": {},
   "outputs": [
    {
     "data": {
      "text/plain": [
       "<AxesSubplot:>"
      ]
     },
     "execution_count": 62,
     "metadata": {},
     "output_type": "execute_result"
    },
    {
     "data": {
      "image/png": "[encoded data removed]",
      "text/plain": [
       "<Figure size 432x288 with 1 Axes>"
      ]
     },
     "metadata": {
      "needs_background": "light"
     },
     "output_type": "display_data"
    }
   ],
   "source": [
    "df['last_price'].hist(bins=1000)"
   ]
  },
  {
   "cell_type": "code",
   "execution_count": 63,
   "metadata": {},
   "outputs": [
    {
     "data": {
      "text/plain": [
       "count        23613.000000\n",
       "mean       6540555.460890\n",
       "std       10901722.737990\n",
       "min          12190.000000\n",
       "25%        3400000.000000\n",
       "50%        4650000.000000\n",
       "75%        6799000.000000\n",
       "max      763000000.000000\n",
       "Name: last_price, dtype: object"
      ]
     },
     "execution_count": 63,
     "metadata": {},
     "output_type": "execute_result"
    }
   ],
   "source": [
    "df['last_price'].describe().apply(lambda x: format(x, 'f'))"
   ]
  },
  {
   "cell_type": "code",
   "execution_count": 64,
   "metadata": {},
   "outputs": [
    {
     "data": {
      "text/html": [
       "<div>\n",
       "<style scoped>\n",
       "    .dataframe tbody tr th:only-of-type {\n",
       "        vertical-align: middle;\n",
       "    }\n",
       "\n",
       "    .dataframe tbody tr th {\n",
       "        vertical-align: top;\n",
       "    }\n",
       "\n",
       "    .dataframe thead th {\n",
       "        text-align: right;\n",
       "    }\n",
       "</style>\n",
       "<table border=\"1\" class=\"dataframe\">\n",
       "  <thead>\n",
       "    <tr style=\"text-align: right;\">\n",
       "      <th></th>\n",
       "      <th>total_images</th>\n",
       "      <th>last_price</th>\n",
       "      <th>total_area</th>\n",
       "      <th>first_day_exposition</th>\n",
       "      <th>rooms</th>\n",
       "      <th>ceiling_height</th>\n",
       "      <th>floors_total</th>\n",
       "      <th>living_area</th>\n",
       "      <th>floor</th>\n",
       "      <th>is_apartment</th>\n",
       "      <th>...</th>\n",
       "      <th>ponds_around3000</th>\n",
       "      <th>ponds_nearest</th>\n",
       "      <th>days_exposition</th>\n",
       "      <th>living_part</th>\n",
       "      <th>kitchen_part</th>\n",
       "      <th>meter_price</th>\n",
       "      <th>year_exposition</th>\n",
       "      <th>month_exposition</th>\n",
       "      <th>week_day_exposition</th>\n",
       "      <th>floor_category</th>\n",
       "    </tr>\n",
       "  </thead>\n",
       "  <tbody>\n",
       "    <tr>\n",
       "      <th>8793</th>\n",
       "      <td>7</td>\n",
       "      <td>12190.0</td>\n",
       "      <td>109.0</td>\n",
       "      <td>2019-03-20</td>\n",
       "      <td>2</td>\n",
       "      <td>2.75</td>\n",
       "      <td>25</td>\n",
       "      <td>32.00</td>\n",
       "      <td>25</td>\n",
       "      <td>NaN</td>\n",
       "      <td>...</td>\n",
       "      <td>0</td>\n",
       "      <td>NaN</td>\n",
       "      <td>8</td>\n",
       "      <td>0.293578</td>\n",
       "      <td>0.371560</td>\n",
       "      <td>112.0</td>\n",
       "      <td>2019</td>\n",
       "      <td>3</td>\n",
       "      <td>2</td>\n",
       "      <td>последний этаж</td>\n",
       "    </tr>\n",
       "    <tr>\n",
       "      <th>17456</th>\n",
       "      <td>7</td>\n",
       "      <td>430000.0</td>\n",
       "      <td>30.4</td>\n",
       "      <td>2019-04-22</td>\n",
       "      <td>1</td>\n",
       "      <td>2.65</td>\n",
       "      <td>2</td>\n",
       "      <td>16.00</td>\n",
       "      <td>1</td>\n",
       "      <td>NaN</td>\n",
       "      <td>...</td>\n",
       "      <td>0</td>\n",
       "      <td>NaN</td>\n",
       "      <td>&lt;NA&gt;</td>\n",
       "      <td>0.526316</td>\n",
       "      <td>0.197368</td>\n",
       "      <td>14145.0</td>\n",
       "      <td>2019</td>\n",
       "      <td>4</td>\n",
       "      <td>0</td>\n",
       "      <td>первый этаж</td>\n",
       "    </tr>\n",
       "    <tr>\n",
       "      <th>14911</th>\n",
       "      <td>5</td>\n",
       "      <td>430000.0</td>\n",
       "      <td>54.0</td>\n",
       "      <td>2018-06-26</td>\n",
       "      <td>2</td>\n",
       "      <td>2.65</td>\n",
       "      <td>3</td>\n",
       "      <td>31.86</td>\n",
       "      <td>3</td>\n",
       "      <td>NaN</td>\n",
       "      <td>...</td>\n",
       "      <td>0</td>\n",
       "      <td>NaN</td>\n",
       "      <td>44</td>\n",
       "      <td>0.590000</td>\n",
       "      <td>0.161000</td>\n",
       "      <td>7963.0</td>\n",
       "      <td>2018</td>\n",
       "      <td>6</td>\n",
       "      <td>1</td>\n",
       "      <td>последний этаж</td>\n",
       "    </tr>\n",
       "    <tr>\n",
       "      <th>16274</th>\n",
       "      <td>18</td>\n",
       "      <td>440000.0</td>\n",
       "      <td>40.0</td>\n",
       "      <td>2018-07-10</td>\n",
       "      <td>1</td>\n",
       "      <td>2.65</td>\n",
       "      <td>5</td>\n",
       "      <td>19.20</td>\n",
       "      <td>1</td>\n",
       "      <td>NaN</td>\n",
       "      <td>...</td>\n",
       "      <td>0</td>\n",
       "      <td>NaN</td>\n",
       "      <td>45</td>\n",
       "      <td>0.480000</td>\n",
       "      <td>0.248000</td>\n",
       "      <td>11000.0</td>\n",
       "      <td>2018</td>\n",
       "      <td>7</td>\n",
       "      <td>1</td>\n",
       "      <td>первый этаж</td>\n",
       "    </tr>\n",
       "    <tr>\n",
       "      <th>17676</th>\n",
       "      <td>0</td>\n",
       "      <td>450000.0</td>\n",
       "      <td>36.5</td>\n",
       "      <td>2018-02-01</td>\n",
       "      <td>1</td>\n",
       "      <td>2.65</td>\n",
       "      <td>5</td>\n",
       "      <td>17.30</td>\n",
       "      <td>4</td>\n",
       "      <td>NaN</td>\n",
       "      <td>...</td>\n",
       "      <td>0</td>\n",
       "      <td>NaN</td>\n",
       "      <td>120</td>\n",
       "      <td>0.473973</td>\n",
       "      <td>0.232877</td>\n",
       "      <td>12329.0</td>\n",
       "      <td>2018</td>\n",
       "      <td>2</td>\n",
       "      <td>3</td>\n",
       "      <td>другой этаж</td>\n",
       "    </tr>\n",
       "  </tbody>\n",
       "</table>\n",
       "<p>5 rows × 29 columns</p>\n",
       "</div>"
      ],
      "text/plain": [
       "       total_images  last_price  total_area first_day_exposition  rooms  \\\n",
       "8793              7     12190.0       109.0           2019-03-20      2   \n",
       "17456             7    430000.0        30.4           2019-04-22      1   \n",
       "14911             5    430000.0        54.0           2018-06-26      2   \n",
       "16274            18    440000.0        40.0           2018-07-10      1   \n",
       "17676             0    450000.0        36.5           2018-02-01      1   \n",
       "\n",
       "       ceiling_height  floors_total  living_area  floor is_apartment  ...  \\\n",
       "8793             2.75            25        32.00     25          NaN  ...   \n",
       "17456            2.65             2        16.00      1          NaN  ...   \n",
       "14911            2.65             3        31.86      3          NaN  ...   \n",
       "16274            2.65             5        19.20      1          NaN  ...   \n",
       "17676            2.65             5        17.30      4          NaN  ...   \n",
       "\n",
       "       ponds_around3000  ponds_nearest  days_exposition  living_part  \\\n",
       "8793                  0            NaN                8     0.293578   \n",
       "17456                 0            NaN             <NA>     0.526316   \n",
       "14911                 0            NaN               44     0.590000   \n",
       "16274                 0            NaN               45     0.480000   \n",
       "17676                 0            NaN              120     0.473973   \n",
       "\n",
       "      kitchen_part  meter_price  year_exposition  month_exposition  \\\n",
       "8793      0.371560        112.0             2019                 3   \n",
       "17456     0.197368      14145.0             2019                 4   \n",
       "14911     0.161000       7963.0             2018                 6   \n",
       "16274     0.248000      11000.0             2018                 7   \n",
       "17676     0.232877      12329.0             2018                 2   \n",
       "\n",
       "       week_day_exposition  floor_category  \n",
       "8793                     2  последний этаж  \n",
       "17456                    0     первый этаж  \n",
       "14911                    1  последний этаж  \n",
       "16274                    1     первый этаж  \n",
       "17676                    3     другой этаж  \n",
       "\n",
       "[5 rows x 29 columns]"
      ]
     },
     "execution_count": 64,
     "metadata": {},
     "output_type": "execute_result"
    }
   ],
   "source": [
    "df.sort_values(by='last_price').head()"
   ]
  },
  {
   "cell_type": "markdown",
   "metadata": {},
   "source": [
    "Минимальное значение last_price 12190, что на порядок отличается от остальных значений и совершенно не совместимо с 2х комнатной квартирой 109 кв.метров площадью, не стоит учитывать этот объект в анализе. Также необходимо исключить \"слишком дорогие\" объекты, так большая часть объектов стоит не более 7 миллионов, чтобы не терять большое количество данных будем использовать в оценке те объекты, стоимость которых не превышает 20 миллионов."
   ]
  },
  {
   "cell_type": "code",
   "execution_count": 65,
   "metadata": {},
   "outputs": [],
   "source": [
    "clean_df = clean_df.query('last_price < 20000000 and last_price != 12190.0')"
   ]
  },
  {
   "cell_type": "code",
   "execution_count": 66,
   "metadata": {},
   "outputs": [
    {
     "data": {
      "text/plain": [
       "<AxesSubplot:>"
      ]
     },
     "execution_count": 66,
     "metadata": {},
     "output_type": "execute_result"
    },
    {
     "data": {
      "image/png": "[encoded data removed]",
      "text/plain": [
       "<Figure size 432x288 with 1 Axes>"
      ]
     },
     "metadata": {
      "needs_background": "light"
     },
     "output_type": "display_data"
    }
   ],
   "source": [
    "df['rooms'].hist(bins=20)"
   ]
  },
  {
   "cell_type": "markdown",
   "metadata": {},
   "source": [
    "Больше всего в продаже 1 и 2х комнатных квартир, квартиры, где более 7 комнат редки, их по несколько единиц или совсем по одной, отдельное внимание привлекают квартиры с нулевым количеством комнат, что можно трактовать по-разному, в любом случае, таких значений тоже не много, для дальнейшего анализа будем использовать данные с наиболее часто встречающимся количеством комнат, от 1 до 7."
   ]
  },
  {
   "cell_type": "code",
   "execution_count": 67,
   "metadata": {},
   "outputs": [],
   "source": [
    "clean_df = clean_df.query('0 < rooms < 8')"
   ]
  },
  {
   "cell_type": "code",
   "execution_count": 68,
   "metadata": {},
   "outputs": [
    {
     "data": {
      "text/plain": [
       "<AxesSubplot:>"
      ]
     },
     "execution_count": 68,
     "metadata": {},
     "output_type": "execute_result"
    },
    {
     "data": {
      "image/png": "[encoded data removed]",
      "text/plain": [
       "<Figure size 432x288 with 1 Axes>"
      ]
     },
     "metadata": {
      "needs_background": "light"
     },
     "output_type": "display_data"
    }
   ],
   "source": [
    "df['ceiling_height'].hist(bins=100)"
   ]
  },
  {
   "cell_type": "code",
   "execution_count": 69,
   "metadata": {},
   "outputs": [
    {
     "data": {
      "text/plain": [
       "count    23613.000000\n",
       "mean         2.702661\n",
       "std          0.680458\n",
       "min          1.000000\n",
       "25%          2.600000\n",
       "50%          2.650000\n",
       "75%          2.700000\n",
       "max        100.000000\n",
       "Name: ceiling_height, dtype: float64"
      ]
     },
     "execution_count": 69,
     "metadata": {},
     "output_type": "execute_result"
    }
   ],
   "source": [
    "df['ceiling_height'].describe()"
   ]
  },
  {
   "cell_type": "markdown",
   "metadata": {},
   "source": [
    "Минимальная высота потолка (1м) и максимальная (100м) являются аномальными, исключим объекты, где высота потолка ниже 2м и выше 6м. "
   ]
  },
  {
   "cell_type": "code",
   "execution_count": 70,
   "metadata": {},
   "outputs": [],
   "source": [
    "clean_df = clean_df.query('2 <= ceiling_height <= 6')"
   ]
  },
  {
   "cell_type": "markdown",
   "metadata": {},
   "source": [
    "#### Вывод\n",
    "В результате оценки основых параметров, определяющих стоимость квартиры, общей площади, количества комнат и высоты потолков, отбросили нетипичные, отклоняющиеся от общего объема объекты, чтобы далее проследить как стоимость связана с другими параметрами."
   ]
  },
  {
   "cell_type": "markdown",
   "metadata": {},
   "source": [
    "### Зависит ли цена от площади, числа комнат, удалённости от центра?"
   ]
  },
  {
   "cell_type": "code",
   "execution_count": 71,
   "metadata": {},
   "outputs": [
    {
     "data": {
      "text/plain": [
       "0.7598087255296516"
      ]
     },
     "execution_count": 71,
     "metadata": {},
     "output_type": "execute_result"
    }
   ],
   "source": [
    "clean_df['last_price'].corr(clean_df['total_area'])"
   ]
  },
  {
   "cell_type": "code",
   "execution_count": 72,
   "metadata": {},
   "outputs": [
    {
     "data": {
      "text/plain": [
       "0.4722842147428472"
      ]
     },
     "execution_count": 72,
     "metadata": {},
     "output_type": "execute_result"
    }
   ],
   "source": [
    "clean_df['last_price'].corr(clean_df['rooms'])"
   ]
  },
  {
   "cell_type": "code",
   "execution_count": 73,
   "metadata": {},
   "outputs": [
    {
     "data": {
      "text/plain": [
       "-0.12537645477736453"
      ]
     },
     "execution_count": 73,
     "metadata": {},
     "output_type": "execute_result"
    }
   ],
   "source": [
    "clean_df['meter_price'].corr(clean_df['rooms'])"
   ]
  },
  {
   "cell_type": "code",
   "execution_count": 74,
   "metadata": {},
   "outputs": [
    {
     "data": {
      "text/plain": [
       "-0.35693296557989584"
      ]
     },
     "execution_count": 74,
     "metadata": {},
     "output_type": "execute_result"
    }
   ],
   "source": [
    "clean_df['last_price'].corr(clean_df['city_сenters_nearest'])"
   ]
  },
  {
   "cell_type": "markdown",
   "metadata": {},
   "source": [
    "#### Вывод\n",
    "Серьезная корреляция прослеживается только между стоимостью и общей площадью, что ожидаемо, также есть взаимосвязь между ценой и количеством комнат, но не такая четкая, что означает, что присутствуют другие факторы, влияющие на стоимость совместно с количеством комнат, это подтверждается, если проверить зависимость стоимости квадратного метра по количеству комнат. Хоть корреляция между стоимостью и удаленностью от центра слабая, этот параметр требуется изучить отдельно, так как в выборке присутствуют населенные пункты значительно отличающиеся площадью общей территории."
   ]
  },
  {
   "cell_type": "markdown",
   "metadata": {},
   "source": [
    "### Какова зависимость от даты размещения: дня недели, месяца и года? "
   ]
  },
  {
   "cell_type": "code",
   "execution_count": 75,
   "metadata": {},
   "outputs": [
    {
     "data": {
      "text/plain": [
       "-0.020550561127541424"
      ]
     },
     "execution_count": 75,
     "metadata": {},
     "output_type": "execute_result"
    }
   ],
   "source": [
    "clean_df['last_price'].corr(clean_df['year_exposition'])"
   ]
  },
  {
   "cell_type": "code",
   "execution_count": 76,
   "metadata": {},
   "outputs": [
    {
     "data": {
      "text/plain": [
       "0.00813456766223349"
      ]
     },
     "execution_count": 76,
     "metadata": {},
     "output_type": "execute_result"
    }
   ],
   "source": [
    "clean_df['last_price'].corr(clean_df['month_exposition'])"
   ]
  },
  {
   "cell_type": "code",
   "execution_count": 77,
   "metadata": {},
   "outputs": [
    {
     "data": {
      "text/plain": [
       "-0.01622635049648803"
      ]
     },
     "execution_count": 77,
     "metadata": {},
     "output_type": "execute_result"
    }
   ],
   "source": [
    "clean_df['last_price'].corr(clean_df['week_day_exposition'])"
   ]
  },
  {
   "cell_type": "markdown",
   "metadata": {},
   "source": [
    "#### Вывод\n",
    "Дата размещения никак не влияет на стоимость недвижимости."
   ]
  },
  {
   "cell_type": "markdown",
   "metadata": {},
   "source": [
    "### Какова зависимость цены от того, на каком этаже расположена квартира?"
   ]
  },
  {
   "cell_type": "code",
   "execution_count": 78,
   "metadata": {},
   "outputs": [
    {
     "data": {
      "text/html": [
       "<div>\n",
       "<style scoped>\n",
       "    .dataframe tbody tr th:only-of-type {\n",
       "        vertical-align: middle;\n",
       "    }\n",
       "\n",
       "    .dataframe tbody tr th {\n",
       "        vertical-align: top;\n",
       "    }\n",
       "\n",
       "    .dataframe thead tr th {\n",
       "        text-align: left;\n",
       "    }\n",
       "\n",
       "    .dataframe thead tr:last-of-type th {\n",
       "        text-align: right;\n",
       "    }\n",
       "</style>\n",
       "<table border=\"1\" class=\"dataframe\">\n",
       "  <thead>\n",
       "    <tr>\n",
       "      <th></th>\n",
       "      <th>median</th>\n",
       "      <th>mean</th>\n",
       "    </tr>\n",
       "    <tr>\n",
       "      <th></th>\n",
       "      <th>last_price</th>\n",
       "      <th>last_price</th>\n",
       "    </tr>\n",
       "    <tr>\n",
       "      <th>floor_category</th>\n",
       "      <th></th>\n",
       "      <th></th>\n",
       "    </tr>\n",
       "  </thead>\n",
       "  <tbody>\n",
       "    <tr>\n",
       "      <th>другой этаж</th>\n",
       "      <td>4750000.0</td>\n",
       "      <td>5.588631e+06</td>\n",
       "    </tr>\n",
       "    <tr>\n",
       "      <th>первый этаж</th>\n",
       "      <td>3899000.0</td>\n",
       "      <td>4.336876e+06</td>\n",
       "    </tr>\n",
       "    <tr>\n",
       "      <th>последний этаж</th>\n",
       "      <td>4190000.0</td>\n",
       "      <td>4.956781e+06</td>\n",
       "    </tr>\n",
       "  </tbody>\n",
       "</table>\n",
       "</div>"
      ],
      "text/plain": [
       "                   median          mean\n",
       "               last_price    last_price\n",
       "floor_category                         \n",
       "другой этаж     4750000.0  5.588631e+06\n",
       "первый этаж     3899000.0  4.336876e+06\n",
       "последний этаж  4190000.0  4.956781e+06"
      ]
     },
     "execution_count": 78,
     "metadata": {},
     "output_type": "execute_result"
    }
   ],
   "source": [
    "price_floor_category = clean_df.pivot_table(index='floor_category', values='last_price', aggfunc=['median', 'mean'])\n",
    "price_floor_category"
   ]
  },
  {
   "cell_type": "code",
   "execution_count": 79,
   "metadata": {},
   "outputs": [
    {
     "data": {
      "text/html": [
       "<div>\n",
       "<style scoped>\n",
       "    .dataframe tbody tr th:only-of-type {\n",
       "        vertical-align: middle;\n",
       "    }\n",
       "\n",
       "    .dataframe tbody tr th {\n",
       "        vertical-align: top;\n",
       "    }\n",
       "\n",
       "    .dataframe thead th {\n",
       "        text-align: right;\n",
       "    }\n",
       "</style>\n",
       "<table border=\"1\" class=\"dataframe\">\n",
       "  <thead>\n",
       "    <tr style=\"text-align: right;\">\n",
       "      <th>floor_category</th>\n",
       "      <th>другой этаж</th>\n",
       "      <th>первый этаж</th>\n",
       "      <th>последний этаж</th>\n",
       "    </tr>\n",
       "    <tr>\n",
       "      <th>rooms</th>\n",
       "      <th></th>\n",
       "      <th></th>\n",
       "      <th></th>\n",
       "    </tr>\n",
       "  </thead>\n",
       "  <tbody>\n",
       "    <tr>\n",
       "      <th>1</th>\n",
       "      <td>3700000.0</td>\n",
       "      <td>3070000.0</td>\n",
       "      <td>3200000.0</td>\n",
       "    </tr>\n",
       "    <tr>\n",
       "      <th>2</th>\n",
       "      <td>5100000.0</td>\n",
       "      <td>3850000.0</td>\n",
       "      <td>4100000.0</td>\n",
       "    </tr>\n",
       "    <tr>\n",
       "      <th>3</th>\n",
       "      <td>6335000.0</td>\n",
       "      <td>4990000.0</td>\n",
       "      <td>5500000.0</td>\n",
       "    </tr>\n",
       "    <tr>\n",
       "      <th>4</th>\n",
       "      <td>8400000.0</td>\n",
       "      <td>6200000.0</td>\n",
       "      <td>7935000.0</td>\n",
       "    </tr>\n",
       "    <tr>\n",
       "      <th>5</th>\n",
       "      <td>10500000.0</td>\n",
       "      <td>9100000.0</td>\n",
       "      <td>9990000.0</td>\n",
       "    </tr>\n",
       "    <tr>\n",
       "      <th>6</th>\n",
       "      <td>10940000.0</td>\n",
       "      <td>12495000.0</td>\n",
       "      <td>9100000.0</td>\n",
       "    </tr>\n",
       "    <tr>\n",
       "      <th>7</th>\n",
       "      <td>14245000.0</td>\n",
       "      <td>NaN</td>\n",
       "      <td>15000000.0</td>\n",
       "    </tr>\n",
       "  </tbody>\n",
       "</table>\n",
       "</div>"
      ],
      "text/plain": [
       "floor_category  другой этаж  первый этаж  последний этаж\n",
       "rooms                                                   \n",
       "1                 3700000.0    3070000.0       3200000.0\n",
       "2                 5100000.0    3850000.0       4100000.0\n",
       "3                 6335000.0    4990000.0       5500000.0\n",
       "4                 8400000.0    6200000.0       7935000.0\n",
       "5                10500000.0    9100000.0       9990000.0\n",
       "6                10940000.0   12495000.0       9100000.0\n",
       "7                14245000.0          NaN      15000000.0"
      ]
     },
     "execution_count": 79,
     "metadata": {},
     "output_type": "execute_result"
    }
   ],
   "source": [
    "price_floor_category_by_rooms = clean_df.pivot_table(index='rooms', columns='floor_category', values='last_price', aggfunc='median')\n",
    "price_floor_category_by_rooms"
   ]
  },
  {
   "cell_type": "markdown",
   "metadata": {},
   "source": [
    "#### Вывод\n",
    "Можно судить с уверенностью о связи стоимости недвижимости и этажом размещения, самым дешевым решением будет приобрести квартиру на перврм этаже, чуть больше потратить на последний этаж, все остальные, \"серединные\" этажи будут стоить еще дороже, эту же тенденцию четко видим и в разрезе самых продаваемых объектов по количеству комнат."
   ]
  },
  {
   "cell_type": "markdown",
   "metadata": {},
   "source": [
    "### Населённые пункты с самой высокой и низкой стоимостью жилья."
   ]
  },
  {
   "cell_type": "code",
   "execution_count": 80,
   "metadata": {},
   "outputs": [
    {
     "data": {
      "text/html": [
       "<div>\n",
       "<style scoped>\n",
       "    .dataframe tbody tr th:only-of-type {\n",
       "        vertical-align: middle;\n",
       "    }\n",
       "\n",
       "    .dataframe tbody tr th {\n",
       "        vertical-align: top;\n",
       "    }\n",
       "\n",
       "    .dataframe thead tr th {\n",
       "        text-align: left;\n",
       "    }\n",
       "\n",
       "    .dataframe thead tr:last-of-type th {\n",
       "        text-align: right;\n",
       "    }\n",
       "</style>\n",
       "<table border=\"1\" class=\"dataframe\">\n",
       "  <thead>\n",
       "    <tr>\n",
       "      <th></th>\n",
       "      <th>count</th>\n",
       "      <th>mean</th>\n",
       "    </tr>\n",
       "    <tr>\n",
       "      <th></th>\n",
       "      <th>meter_price</th>\n",
       "      <th>meter_price</th>\n",
       "    </tr>\n",
       "    <tr>\n",
       "      <th>locality_name</th>\n",
       "      <th></th>\n",
       "      <th></th>\n",
       "    </tr>\n",
       "  </thead>\n",
       "  <tbody>\n",
       "    <tr>\n",
       "      <th>Всеволожск</th>\n",
       "      <td>390</td>\n",
       "      <td>67201.276923</td>\n",
       "    </tr>\n",
       "    <tr>\n",
       "      <th>Выборг</th>\n",
       "      <td>235</td>\n",
       "      <td>58075.906383</td>\n",
       "    </tr>\n",
       "    <tr>\n",
       "      <th>Гатчина</th>\n",
       "      <td>307</td>\n",
       "      <td>68746.110749</td>\n",
       "    </tr>\n",
       "    <tr>\n",
       "      <th>Колпино</th>\n",
       "      <td>337</td>\n",
       "      <td>75333.287834</td>\n",
       "    </tr>\n",
       "    <tr>\n",
       "      <th>Пушкин</th>\n",
       "      <td>356</td>\n",
       "      <td>101859.258427</td>\n",
       "    </tr>\n",
       "    <tr>\n",
       "      <th>Санкт-Петербург</th>\n",
       "      <td>14659</td>\n",
       "      <td>108707.333720</td>\n",
       "    </tr>\n",
       "    <tr>\n",
       "      <th>деревня Кудрово</th>\n",
       "      <td>283</td>\n",
       "      <td>92297.261484</td>\n",
       "    </tr>\n",
       "    <tr>\n",
       "      <th>поселок Мурино</th>\n",
       "      <td>526</td>\n",
       "      <td>85029.522814</td>\n",
       "    </tr>\n",
       "    <tr>\n",
       "      <th>поселок Парголово</th>\n",
       "      <td>322</td>\n",
       "      <td>90448.400621</td>\n",
       "    </tr>\n",
       "    <tr>\n",
       "      <th>поселок Шушары</th>\n",
       "      <td>435</td>\n",
       "      <td>78277.951724</td>\n",
       "    </tr>\n",
       "  </tbody>\n",
       "</table>\n",
       "</div>"
      ],
      "text/plain": [
       "                        count           mean\n",
       "                  meter_price    meter_price\n",
       "locality_name                               \n",
       "Всеволожск                390   67201.276923\n",
       "Выборг                    235   58075.906383\n",
       "Гатчина                   307   68746.110749\n",
       "Колпино                   337   75333.287834\n",
       "Пушкин                    356  101859.258427\n",
       "Санкт-Петербург         14659  108707.333720\n",
       "деревня Кудрово           283   92297.261484\n",
       "поселок Мурино            526   85029.522814\n",
       "поселок Парголово         322   90448.400621\n",
       "поселок Шушары            435   78277.951724"
      ]
     },
     "execution_count": 80,
     "metadata": {},
     "output_type": "execute_result"
    }
   ],
   "source": [
    "top_locality_name = clean_df['locality_name'].value_counts().head(10)\n",
    "clean_df_top = clean_df.query('locality_name in @top_locality_name.index')\n",
    "clean_df_top.pivot_table(index='locality_name', values='meter_price', aggfunc=['count', 'mean'])"
   ]
  },
  {
   "cell_type": "markdown",
   "metadata": {},
   "source": [
    "#### Вывод\n",
    "Среди населенных пункттов, где продается наибольшее число объектов самым дорогим выступает Санк-Петербург, что не удивительно для мегаполиса и областного центра, наиболее бюджетной станет покупка в Выборге, стоимость квадратного метра почти в два раза меньше, чем в Петербурге."
   ]
  },
  {
   "cell_type": "markdown",
   "metadata": {},
   "source": [
    "### Как цена зависит от удалённости от центра."
   ]
  },
  {
   "cell_type": "code",
   "execution_count": 82,
   "metadata": {},
   "outputs": [
    {
     "data": {
      "text/plain": [
       "<AxesSubplot:xlabel='city_сenters_nearest_km'>"
      ]
     },
     "execution_count": 82,
     "metadata": {},
     "output_type": "execute_result"
    },
    {
     "data": {
      "image/png": "[encoded data removed]",
      "text/plain": [
       "<Figure size 432x288 with 1 Axes>"
      ]
     },
     "metadata": {
      "needs_background": "light"
     },
     "output_type": "display_data"
    }
   ],
   "source": [
    "df['city_сenters_nearest_km'] = df['city_сenters_nearest'] / 1000\n",
    "df['city_сenters_nearest_km'] = df['city_сenters_nearest_km'].round()\n",
    "df_spb = df.query('locality_name == \"Санкт-Петербург\"')\n",
    "center_neares_price = df_spb.pivot_table(index='city_сenters_nearest_km', values='meter_price', aggfunc='mean')\n",
    "center_neares_price.plot()\n"
   ]
  },
  {
   "cell_type": "markdown",
   "metadata": {},
   "source": [
    "#### Вывод\n",
    "В пределах 3х киллометров от центра стоимость квадратного метра снижается от максимальных значений к средним. Далее рассмотрим объекты, которые входят в эту зону, чтобы проверить, отличаются ли факты, определяющие стоимость в центре от всей базы."
   ]
  },
  {
   "cell_type": "markdown",
   "metadata": {},
   "source": [
    "### Отличаются ли факторы, влияющие на стоимость в центре от всех данных совместно."
   ]
  },
  {
   "cell_type": "code",
   "execution_count": 83,
   "metadata": {},
   "outputs": [
    {
     "data": {
      "text/plain": [
       "<AxesSubplot:>"
      ]
     },
     "execution_count": 83,
     "metadata": {},
     "output_type": "execute_result"
    },
    {
     "data": {
      "image/png": "[encoded data removed]",
      "text/plain": [
       "<Figure size 432x288 with 1 Axes>"
      ]
     },
     "metadata": {
      "needs_background": "light"
     },
     "output_type": "display_data"
    }
   ],
   "source": [
    "df_spb_center = df_spb.query('city_сenters_nearest_km < 4')\n",
    "df_spb_center['total_area'].hist(bins=100)"
   ]
  },
  {
   "cell_type": "code",
   "execution_count": 84,
   "metadata": {},
   "outputs": [
    {
     "data": {
      "text/plain": [
       "<AxesSubplot:>"
      ]
     },
     "execution_count": 84,
     "metadata": {},
     "output_type": "execute_result"
    },
    {
     "data": {
      "image/png": "[encoded data removed]",
      "text/plain": [
       "<Figure size 432x288 with 1 Axes>"
      ]
     },
     "metadata": {
      "needs_background": "light"
     },
     "output_type": "display_data"
    }
   ],
   "source": [
    "df_spb_center['last_price'].hist(bins=100)"
   ]
  },
  {
   "cell_type": "code",
   "execution_count": 85,
   "metadata": {},
   "outputs": [
    {
     "data": {
      "text/plain": [
       "<AxesSubplot:>"
      ]
     },
     "execution_count": 85,
     "metadata": {},
     "output_type": "execute_result"
    },
    {
     "data": {
      "image/png": "[encoded data removed]",
      "text/plain": [
       "<Figure size 432x288 with 1 Axes>"
      ]
     },
     "metadata": {
      "needs_background": "light"
     },
     "output_type": "display_data"
    }
   ],
   "source": [
    "df_spb_center['rooms'].hist()"
   ]
  },
  {
   "cell_type": "code",
   "execution_count": 86,
   "metadata": {},
   "outputs": [
    {
     "data": {
      "text/plain": [
       "<AxesSubplot:>"
      ]
     },
     "execution_count": 86,
     "metadata": {},
     "output_type": "execute_result"
    },
    {
     "data": {
      "image/png": "[encoded data removed]",
      "text/plain": [
       "<Figure size 432x288 with 1 Axes>"
      ]
     },
     "metadata": {
      "needs_background": "light"
     },
     "output_type": "display_data"
    }
   ],
   "source": [
    "df_spb_center['ceiling_height'].hist(bins=50)"
   ]
  },
  {
   "cell_type": "code",
   "execution_count": 87,
   "metadata": {},
   "outputs": [
    {
     "data": {
      "text/plain": [
       "0.240506346545943"
      ]
     },
     "execution_count": 87,
     "metadata": {},
     "output_type": "execute_result"
    }
   ],
   "source": [
    "df_spb_center['last_price'].corr(df_spb_center['rooms'])"
   ]
  },
  {
   "cell_type": "code",
   "execution_count": 88,
   "metadata": {},
   "outputs": [
    {
     "data": {
      "text/plain": [
       "-0.16424528185233578"
      ]
     },
     "execution_count": 88,
     "metadata": {},
     "output_type": "execute_result"
    }
   ],
   "source": [
    "df_spb_center['last_price'].corr(df_spb_center['city_сenters_nearest'])"
   ]
  },
  {
   "cell_type": "code",
   "execution_count": 89,
   "metadata": {},
   "outputs": [
    {
     "data": {
      "text/plain": [
       "-0.02434030564640117"
      ]
     },
     "execution_count": 89,
     "metadata": {},
     "output_type": "execute_result"
    }
   ],
   "source": [
    "df_spb_center['last_price'].corr(df_spb_center['year_exposition'])"
   ]
  },
  {
   "cell_type": "code",
   "execution_count": 90,
   "metadata": {},
   "outputs": [
    {
     "data": {
      "text/plain": [
       "-0.021266973142633462"
      ]
     },
     "execution_count": 90,
     "metadata": {},
     "output_type": "execute_result"
    }
   ],
   "source": [
    "df_spb_center['last_price'].corr(df_spb_center['month_exposition'])"
   ]
  },
  {
   "cell_type": "code",
   "execution_count": 91,
   "metadata": {},
   "outputs": [
    {
     "data": {
      "text/plain": [
       "-0.005970373432627656"
      ]
     },
     "execution_count": 91,
     "metadata": {},
     "output_type": "execute_result"
    }
   ],
   "source": [
    "df_spb_center['last_price'].corr(df_spb_center['week_day_exposition'])"
   ]
  },
  {
   "cell_type": "code",
   "execution_count": 92,
   "metadata": {},
   "outputs": [
    {
     "data": {
      "text/html": [
       "<div>\n",
       "<style scoped>\n",
       "    .dataframe tbody tr th:only-of-type {\n",
       "        vertical-align: middle;\n",
       "    }\n",
       "\n",
       "    .dataframe tbody tr th {\n",
       "        vertical-align: top;\n",
       "    }\n",
       "\n",
       "    .dataframe thead tr th {\n",
       "        text-align: left;\n",
       "    }\n",
       "\n",
       "    .dataframe thead tr:last-of-type th {\n",
       "        text-align: right;\n",
       "    }\n",
       "</style>\n",
       "<table border=\"1\" class=\"dataframe\">\n",
       "  <thead>\n",
       "    <tr>\n",
       "      <th></th>\n",
       "      <th>median</th>\n",
       "      <th>mean</th>\n",
       "    </tr>\n",
       "    <tr>\n",
       "      <th></th>\n",
       "      <th>last_price</th>\n",
       "      <th>last_price</th>\n",
       "    </tr>\n",
       "    <tr>\n",
       "      <th>floor_category</th>\n",
       "      <th></th>\n",
       "      <th></th>\n",
       "    </tr>\n",
       "  </thead>\n",
       "  <tbody>\n",
       "    <tr>\n",
       "      <th>другой этаж</th>\n",
       "      <td>10545400.0</td>\n",
       "      <td>1.716726e+07</td>\n",
       "    </tr>\n",
       "    <tr>\n",
       "      <th>первый этаж</th>\n",
       "      <td>7200000.0</td>\n",
       "      <td>1.030313e+07</td>\n",
       "    </tr>\n",
       "    <tr>\n",
       "      <th>последний этаж</th>\n",
       "      <td>9400000.0</td>\n",
       "      <td>1.777233e+07</td>\n",
       "    </tr>\n",
       "  </tbody>\n",
       "</table>\n",
       "</div>"
      ],
      "text/plain": [
       "                    median          mean\n",
       "                last_price    last_price\n",
       "floor_category                          \n",
       "другой этаж     10545400.0  1.716726e+07\n",
       "первый этаж      7200000.0  1.030313e+07\n",
       "последний этаж   9400000.0  1.777233e+07"
      ]
     },
     "metadata": {},
     "output_type": "display_data"
    },
    {
     "data": {
      "text/html": [
       "<div>\n",
       "<style scoped>\n",
       "    .dataframe tbody tr th:only-of-type {\n",
       "        vertical-align: middle;\n",
       "    }\n",
       "\n",
       "    .dataframe tbody tr th {\n",
       "        vertical-align: top;\n",
       "    }\n",
       "\n",
       "    .dataframe thead th {\n",
       "        text-align: right;\n",
       "    }\n",
       "</style>\n",
       "<table border=\"1\" class=\"dataframe\">\n",
       "  <thead>\n",
       "    <tr style=\"text-align: right;\">\n",
       "      <th>floor_category</th>\n",
       "      <th>другой этаж</th>\n",
       "      <th>первый этаж</th>\n",
       "      <th>последний этаж</th>\n",
       "    </tr>\n",
       "    <tr>\n",
       "      <th>rooms</th>\n",
       "      <th></th>\n",
       "      <th></th>\n",
       "      <th></th>\n",
       "    </tr>\n",
       "  </thead>\n",
       "  <tbody>\n",
       "    <tr>\n",
       "      <th>0</th>\n",
       "      <td>3100000.0</td>\n",
       "      <td>2650000.0</td>\n",
       "      <td>8200000.0</td>\n",
       "    </tr>\n",
       "    <tr>\n",
       "      <th>1</th>\n",
       "      <td>6550000.0</td>\n",
       "      <td>4990000.0</td>\n",
       "      <td>5350000.0</td>\n",
       "    </tr>\n",
       "    <tr>\n",
       "      <th>2</th>\n",
       "      <td>8195000.0</td>\n",
       "      <td>6000000.0</td>\n",
       "      <td>7790000.0</td>\n",
       "    </tr>\n",
       "    <tr>\n",
       "      <th>3</th>\n",
       "      <td>10000000.0</td>\n",
       "      <td>7450000.0</td>\n",
       "      <td>9000000.0</td>\n",
       "    </tr>\n",
       "    <tr>\n",
       "      <th>4</th>\n",
       "      <td>12500000.0</td>\n",
       "      <td>8250000.0</td>\n",
       "      <td>12150000.0</td>\n",
       "    </tr>\n",
       "    <tr>\n",
       "      <th>5</th>\n",
       "      <td>14350000.0</td>\n",
       "      <td>11700000.0</td>\n",
       "      <td>22500000.0</td>\n",
       "    </tr>\n",
       "    <tr>\n",
       "      <th>6</th>\n",
       "      <td>17500000.0</td>\n",
       "      <td>21000000.0</td>\n",
       "      <td>16900000.0</td>\n",
       "    </tr>\n",
       "    <tr>\n",
       "      <th>7</th>\n",
       "      <td>30300000.0</td>\n",
       "      <td>25845000.0</td>\n",
       "      <td>16575000.0</td>\n",
       "    </tr>\n",
       "    <tr>\n",
       "      <th>8</th>\n",
       "      <td>26650000.0</td>\n",
       "      <td>22190000.0</td>\n",
       "      <td>15800000.0</td>\n",
       "    </tr>\n",
       "    <tr>\n",
       "      <th>9</th>\n",
       "      <td>NaN</td>\n",
       "      <td>88000000.0</td>\n",
       "      <td>NaN</td>\n",
       "    </tr>\n",
       "    <tr>\n",
       "      <th>11</th>\n",
       "      <td>33000000.0</td>\n",
       "      <td>NaN</td>\n",
       "      <td>17500000.0</td>\n",
       "    </tr>\n",
       "    <tr>\n",
       "      <th>14</th>\n",
       "      <td>28659000.0</td>\n",
       "      <td>NaN</td>\n",
       "      <td>NaN</td>\n",
       "    </tr>\n",
       "  </tbody>\n",
       "</table>\n",
       "</div>"
      ],
      "text/plain": [
       "floor_category  другой этаж  первый этаж  последний этаж\n",
       "rooms                                                   \n",
       "0                 3100000.0    2650000.0       8200000.0\n",
       "1                 6550000.0    4990000.0       5350000.0\n",
       "2                 8195000.0    6000000.0       7790000.0\n",
       "3                10000000.0    7450000.0       9000000.0\n",
       "4                12500000.0    8250000.0      12150000.0\n",
       "5                14350000.0   11700000.0      22500000.0\n",
       "6                17500000.0   21000000.0      16900000.0\n",
       "7                30300000.0   25845000.0      16575000.0\n",
       "8                26650000.0   22190000.0      15800000.0\n",
       "9                       NaN   88000000.0             NaN\n",
       "11               33000000.0          NaN      17500000.0\n",
       "14               28659000.0          NaN             NaN"
      ]
     },
     "execution_count": 92,
     "metadata": {},
     "output_type": "execute_result"
    }
   ],
   "source": [
    "price_floor_category_center = df_spb_center.pivot_table(index='floor_category', values='last_price', aggfunc=['median', 'mean'])\n",
    "center_category_by_rooms = df_spb_center.pivot_table(index='rooms', columns='floor_category', values='last_price', aggfunc='median')\n",
    "display(price_floor_category_center)\n",
    "center_category_by_rooms"
   ]
  },
  {
   "cell_type": "markdown",
   "metadata": {},
   "source": [
    "#### Вывод\n",
    "Хоть большая часть квартир в центре и имеет площадь до 100 квадратных метров, но доля тех, которые превышают 100 квадратов заметно больше, чем была в общих данных. В квартирах в центре заметнее разброс по высоте потолка, пусть основная часть и остается в предалах 3х метров, но не редки квартиры с потолками до 4 метров. Чаще продаются 3-4х комнатные квартиры, что также отличается от выводов по общим данным. Как и в общей базе, отдельно в объктах центра цена не зависит от даты публикации и в меньшей степени коррелирует с количеством комнат. Первый этаж в целом также дешевле других, но вот в больших квартирах, 5 и более комнат, более бюджетным вариантом оказывается последний этаж."
   ]
  },
  {
   "cell_type": "markdown",
   "metadata": {},
   "source": [
    "## Общий вывод"
   ]
  },
  {
   "cell_type": "markdown",
   "metadata": {},
   "source": [
    "В ходе работы с архивом данных Яндекс Недвижимость были проанализированы объявления о продаже квартир в Санкт-Петербурге и близлежащих населенных пунктах. \n",
    "\n",
    "Предварительно были обработаны пропуски в данных, добавлены дополнительные вычисления, примененные далее в анализе. \n",
    "\n",
    "Удалось установить, что прежде всего на стоимость влияет общая площадь объекта, а также этаж расположения, дороже оказались квартиры, находящиеся не на первом или последнем этаже. В крупных городах близость к центру значительно увеличивает стоимость покупки. Дата бубликации никак не влияет на стоимость. А оптимальныс срок продажи - 95 дней."
   ]
  },
  {
   "cell_type": "code",
   "execution_count": null,
   "metadata": {},
   "outputs": [],
   "source": []
  }
 ],
 "metadata": {
  "ExecuteTimeLog": [
   {
    "duration": 106,
    "start_time": "2022-05-08T09:53:57.519Z"
   },
   {
    "duration": 5,
    "start_time": "2022-05-08T10:53:38.160Z"
   },
   {
    "duration": 43,
    "start_time": "2022-05-08T11:00:47.844Z"
   },
   {
    "duration": 29,
    "start_time": "2022-05-08T11:18:31.541Z"
   },
   {
    "duration": 12,
    "start_time": "2022-05-08T11:23:16.904Z"
   },
   {
    "duration": 694,
    "start_time": "2022-05-08T11:24:14.409Z"
   },
   {
    "duration": 9,
    "start_time": "2022-05-08T11:24:41.669Z"
   },
   {
    "duration": 25,
    "start_time": "2022-05-08T11:26:10.980Z"
   },
   {
    "duration": 19,
    "start_time": "2022-05-08T11:30:21.404Z"
   },
   {
    "duration": 113,
    "start_time": "2022-05-08T11:31:32.268Z"
   },
   {
    "duration": 4,
    "start_time": "2022-05-08T11:31:32.383Z"
   },
   {
    "duration": 43,
    "start_time": "2022-05-08T11:31:32.389Z"
   },
   {
    "duration": 8,
    "start_time": "2022-05-08T11:31:32.434Z"
   },
   {
    "duration": 631,
    "start_time": "2022-05-08T11:31:32.443Z"
   },
   {
    "duration": 9,
    "start_time": "2022-05-08T11:31:33.076Z"
   },
   {
    "duration": 39,
    "start_time": "2022-05-08T11:31:33.086Z"
   },
   {
    "duration": 18,
    "start_time": "2022-05-08T11:31:37.530Z"
   },
   {
    "duration": 21,
    "start_time": "2022-05-08T11:34:24.782Z"
   },
   {
    "duration": 19,
    "start_time": "2022-05-08T11:34:45.377Z"
   },
   {
    "duration": 513,
    "start_time": "2022-05-08T11:35:33.663Z"
   },
   {
    "duration": 5,
    "start_time": "2022-05-08T11:35:34.178Z"
   },
   {
    "duration": 43,
    "start_time": "2022-05-08T11:35:34.185Z"
   },
   {
    "duration": 14,
    "start_time": "2022-05-08T11:35:34.231Z"
   },
   {
    "duration": 665,
    "start_time": "2022-05-08T11:35:34.248Z"
   },
   {
    "duration": 10,
    "start_time": "2022-05-08T11:35:34.914Z"
   },
   {
    "duration": 27,
    "start_time": "2022-05-08T11:35:34.926Z"
   },
   {
    "duration": 19,
    "start_time": "2022-05-08T11:35:45.774Z"
   },
   {
    "duration": 20,
    "start_time": "2022-05-08T11:36:29.959Z"
   },
   {
    "duration": 23,
    "start_time": "2022-05-08T11:37:02.133Z"
   },
   {
    "duration": 12,
    "start_time": "2022-05-08T11:37:24.351Z"
   },
   {
    "duration": 20,
    "start_time": "2022-05-08T11:38:54.362Z"
   },
   {
    "duration": 110,
    "start_time": "2022-05-08T11:41:28.980Z"
   },
   {
    "duration": 4,
    "start_time": "2022-05-08T11:41:29.092Z"
   },
   {
    "duration": 32,
    "start_time": "2022-05-08T11:41:29.098Z"
   },
   {
    "duration": 9,
    "start_time": "2022-05-08T11:41:29.132Z"
   },
   {
    "duration": 645,
    "start_time": "2022-05-08T11:41:29.143Z"
   },
   {
    "duration": 17,
    "start_time": "2022-05-08T11:41:29.790Z"
   },
   {
    "duration": 23,
    "start_time": "2022-05-08T11:41:29.809Z"
   },
   {
    "duration": 7,
    "start_time": "2022-05-08T11:41:36.000Z"
   },
   {
    "duration": 4,
    "start_time": "2022-05-08T11:41:41.692Z"
   },
   {
    "duration": 4,
    "start_time": "2022-05-08T11:45:36.315Z"
   },
   {
    "duration": 37,
    "start_time": "2022-05-08T11:47:54.431Z"
   },
   {
    "duration": 5,
    "start_time": "2022-05-08T11:48:15.458Z"
   },
   {
    "duration": 20,
    "start_time": "2022-05-08T11:48:45.325Z"
   },
   {
    "duration": 9,
    "start_time": "2022-05-08T11:48:55.918Z"
   },
   {
    "duration": 76,
    "start_time": "2022-05-08T12:00:28.880Z"
   },
   {
    "duration": 14,
    "start_time": "2022-05-08T12:00:40.803Z"
   },
   {
    "duration": 10,
    "start_time": "2022-05-08T12:01:07.155Z"
   },
   {
    "duration": 813,
    "start_time": "2022-05-08T12:01:59.515Z"
   },
   {
    "duration": 5,
    "start_time": "2022-05-08T12:02:29.545Z"
   },
   {
    "duration": 836,
    "start_time": "2022-05-08T12:02:54.217Z"
   },
   {
    "duration": 834,
    "start_time": "2022-05-08T12:02:58.476Z"
   },
   {
    "duration": 80,
    "start_time": "2022-05-08T12:13:58.820Z"
   },
   {
    "duration": 16,
    "start_time": "2022-05-08T12:15:58.353Z"
   },
   {
    "duration": 9,
    "start_time": "2022-05-08T12:16:59.443Z"
   },
   {
    "duration": 877,
    "start_time": "2022-05-08T12:18:00.467Z"
   },
   {
    "duration": 4,
    "start_time": "2022-05-08T12:19:22.211Z"
   },
   {
    "duration": 509,
    "start_time": "2022-05-08T14:19:07.840Z"
   },
   {
    "duration": 4,
    "start_time": "2022-05-08T14:19:08.351Z"
   },
   {
    "duration": 28,
    "start_time": "2022-05-08T14:19:08.357Z"
   },
   {
    "duration": 15,
    "start_time": "2022-05-08T14:19:08.400Z"
   },
   {
    "duration": 639,
    "start_time": "2022-05-08T14:19:08.417Z"
   },
   {
    "duration": 9,
    "start_time": "2022-05-08T14:19:09.057Z"
   },
   {
    "duration": 34,
    "start_time": "2022-05-08T14:19:09.067Z"
   },
   {
    "duration": 6,
    "start_time": "2022-05-08T14:19:09.103Z"
   },
   {
    "duration": 13,
    "start_time": "2022-05-08T14:19:09.111Z"
   },
   {
    "duration": 10,
    "start_time": "2022-05-08T14:19:09.127Z"
   },
   {
    "duration": 16,
    "start_time": "2022-05-08T14:19:09.139Z"
   },
   {
    "duration": 8,
    "start_time": "2022-05-08T14:19:09.156Z"
   },
   {
    "duration": 819,
    "start_time": "2022-05-08T14:19:09.165Z"
   },
   {
    "duration": 30,
    "start_time": "2022-05-08T14:19:09.986Z"
   },
   {
    "duration": 9,
    "start_time": "2022-05-08T14:19:10.021Z"
   },
   {
    "duration": 1302,
    "start_time": "2022-05-08T14:19:10.032Z"
   },
   {
    "duration": 4,
    "start_time": "2022-05-08T14:19:15.975Z"
   },
   {
    "duration": 7,
    "start_time": "2022-05-08T14:22:05.312Z"
   },
   {
    "duration": 4,
    "start_time": "2022-05-08T14:22:16.036Z"
   },
   {
    "duration": 41,
    "start_time": "2022-05-08T14:23:36.044Z"
   },
   {
    "duration": 12,
    "start_time": "2022-05-08T14:24:26.995Z"
   },
   {
    "duration": 10,
    "start_time": "2022-05-08T14:25:45.161Z"
   },
   {
    "duration": 12,
    "start_time": "2022-05-08T14:27:08.084Z"
   },
   {
    "duration": 37,
    "start_time": "2022-05-08T14:28:24.228Z"
   },
   {
    "duration": 39,
    "start_time": "2022-05-08T14:28:45.527Z"
   },
   {
    "duration": 5,
    "start_time": "2022-05-08T14:35:07.042Z"
   },
   {
    "duration": 11,
    "start_time": "2022-05-08T14:35:15.292Z"
   },
   {
    "duration": 4,
    "start_time": "2022-05-08T14:35:25.362Z"
   },
   {
    "duration": 14,
    "start_time": "2022-05-08T14:35:32.345Z"
   },
   {
    "duration": 155,
    "start_time": "2022-05-08T14:35:42.292Z"
   },
   {
    "duration": 4,
    "start_time": "2022-05-08T14:35:42.449Z"
   },
   {
    "duration": 30,
    "start_time": "2022-05-08T14:35:42.454Z"
   },
   {
    "duration": 9,
    "start_time": "2022-05-08T14:35:42.486Z"
   },
   {
    "duration": 917,
    "start_time": "2022-05-08T14:35:42.496Z"
   },
   {
    "duration": 10,
    "start_time": "2022-05-08T14:35:43.417Z"
   },
   {
    "duration": 31,
    "start_time": "2022-05-08T14:35:43.429Z"
   },
   {
    "duration": 5,
    "start_time": "2022-05-08T14:35:43.462Z"
   },
   {
    "duration": 4,
    "start_time": "2022-05-08T14:35:43.469Z"
   },
   {
    "duration": 7,
    "start_time": "2022-05-08T14:35:43.475Z"
   },
   {
    "duration": 26,
    "start_time": "2022-05-08T14:35:44.184Z"
   },
   {
    "duration": 30,
    "start_time": "2022-05-08T14:35:44.212Z"
   },
   {
    "duration": 1256,
    "start_time": "2022-05-08T14:35:44.243Z"
   },
   {
    "duration": 21,
    "start_time": "2022-05-08T14:35:45.502Z"
   },
   {
    "duration": 19,
    "start_time": "2022-05-08T14:35:45.525Z"
   },
   {
    "duration": 1406,
    "start_time": "2022-05-08T14:35:45.546Z"
   },
   {
    "duration": 6,
    "start_time": "2022-05-08T14:35:46.954Z"
   },
   {
    "duration": 12,
    "start_time": "2022-05-08T14:35:46.961Z"
   },
   {
    "duration": 43,
    "start_time": "2022-05-08T14:35:49.682Z"
   },
   {
    "duration": 63,
    "start_time": "2022-05-08T14:36:00.159Z"
   },
   {
    "duration": 18,
    "start_time": "2022-05-08T14:38:43.018Z"
   },
   {
    "duration": 129,
    "start_time": "2022-05-08T14:41:06.070Z"
   },
   {
    "duration": 6,
    "start_time": "2022-05-08T14:41:06.210Z"
   },
   {
    "duration": 46,
    "start_time": "2022-05-08T14:41:06.218Z"
   },
   {
    "duration": 10,
    "start_time": "2022-05-08T14:41:06.267Z"
   },
   {
    "duration": 992,
    "start_time": "2022-05-08T14:41:06.278Z"
   },
   {
    "duration": 9,
    "start_time": "2022-05-08T14:41:07.272Z"
   },
   {
    "duration": 46,
    "start_time": "2022-05-08T14:41:07.283Z"
   },
   {
    "duration": 5,
    "start_time": "2022-05-08T14:41:07.331Z"
   },
   {
    "duration": 14,
    "start_time": "2022-05-08T14:41:07.338Z"
   },
   {
    "duration": 10,
    "start_time": "2022-05-08T14:41:13.164Z"
   },
   {
    "duration": 23,
    "start_time": "2022-05-08T14:41:16.284Z"
   },
   {
    "duration": 11,
    "start_time": "2022-05-08T14:41:20.041Z"
   },
   {
    "duration": 1022,
    "start_time": "2022-05-08T14:41:21.559Z"
   },
   {
    "duration": 14,
    "start_time": "2022-05-08T14:41:24.362Z"
   },
   {
    "duration": 10,
    "start_time": "2022-05-08T14:41:26.085Z"
   },
   {
    "duration": 1301,
    "start_time": "2022-05-08T14:41:27.254Z"
   },
   {
    "duration": 4,
    "start_time": "2022-05-08T14:41:29.341Z"
   },
   {
    "duration": 6,
    "start_time": "2022-05-08T14:41:30.765Z"
   },
   {
    "duration": 28,
    "start_time": "2022-05-08T14:41:32.065Z"
   },
   {
    "duration": 53,
    "start_time": "2022-05-08T14:41:34.796Z"
   },
   {
    "duration": 7,
    "start_time": "2022-05-08T14:41:36.964Z"
   },
   {
    "duration": 8,
    "start_time": "2022-05-08T14:52:07.263Z"
   },
   {
    "duration": 138,
    "start_time": "2022-05-08T14:54:08.242Z"
   },
   {
    "duration": 3,
    "start_time": "2022-05-08T14:54:08.382Z"
   },
   {
    "duration": 68,
    "start_time": "2022-05-08T14:54:08.387Z"
   },
   {
    "duration": 9,
    "start_time": "2022-05-08T14:54:08.457Z"
   },
   {
    "duration": 716,
    "start_time": "2022-05-08T14:54:08.467Z"
   },
   {
    "duration": 17,
    "start_time": "2022-05-08T14:54:09.184Z"
   },
   {
    "duration": 34,
    "start_time": "2022-05-08T14:54:09.202Z"
   },
   {
    "duration": 11,
    "start_time": "2022-05-08T14:54:09.238Z"
   },
   {
    "duration": 6,
    "start_time": "2022-05-08T14:54:09.251Z"
   },
   {
    "duration": 7,
    "start_time": "2022-05-08T14:54:09.259Z"
   },
   {
    "duration": 38,
    "start_time": "2022-05-08T14:54:09.268Z"
   },
   {
    "duration": 10,
    "start_time": "2022-05-08T14:54:09.309Z"
   },
   {
    "duration": 1240,
    "start_time": "2022-05-08T14:54:09.321Z"
   },
   {
    "duration": 19,
    "start_time": "2022-05-08T14:54:10.564Z"
   },
   {
    "duration": 27,
    "start_time": "2022-05-08T14:54:10.586Z"
   },
   {
    "duration": 1025,
    "start_time": "2022-05-08T14:54:10.615Z"
   },
   {
    "duration": 5,
    "start_time": "2022-05-08T14:54:11.643Z"
   },
   {
    "duration": 5,
    "start_time": "2022-05-08T14:54:18.357Z"
   },
   {
    "duration": 49,
    "start_time": "2022-05-08T14:54:20.124Z"
   },
   {
    "duration": 53,
    "start_time": "2022-05-08T14:54:25.463Z"
   },
   {
    "duration": 7,
    "start_time": "2022-05-08T14:54:33.774Z"
   },
   {
    "duration": 12,
    "start_time": "2022-05-08T14:54:39.138Z"
   },
   {
    "duration": 13,
    "start_time": "2022-05-08T14:58:55.976Z"
   },
   {
    "duration": 45,
    "start_time": "2022-05-08T14:59:42.428Z"
   },
   {
    "duration": 17,
    "start_time": "2022-05-08T15:01:24.031Z"
   },
   {
    "duration": 6,
    "start_time": "2022-05-08T15:07:19.633Z"
   },
   {
    "duration": 19,
    "start_time": "2022-05-08T15:07:27.839Z"
   },
   {
    "duration": 4,
    "start_time": "2022-05-08T15:18:42.869Z"
   },
   {
    "duration": 41,
    "start_time": "2022-05-08T15:19:33.777Z"
   },
   {
    "duration": 433,
    "start_time": "2022-05-08T15:20:30.526Z"
   },
   {
    "duration": 17,
    "start_time": "2022-05-08T15:37:10.536Z"
   },
   {
    "duration": 602,
    "start_time": "2022-05-08T15:37:30.290Z"
   },
   {
    "duration": 226,
    "start_time": "2022-05-08T16:00:44.023Z"
   },
   {
    "duration": 31,
    "start_time": "2022-05-08T16:05:15.693Z"
   },
   {
    "duration": 12,
    "start_time": "2022-05-08T16:05:59.015Z"
   },
   {
    "duration": 1312,
    "start_time": "2022-05-08T16:06:36.473Z"
   },
   {
    "duration": 10,
    "start_time": "2022-05-08T16:07:18.519Z"
   },
   {
    "duration": 29,
    "start_time": "2022-05-08T16:08:07.865Z"
   },
   {
    "duration": 23,
    "start_time": "2022-05-08T16:14:34.318Z"
   },
   {
    "duration": 11,
    "start_time": "2022-05-08T16:15:23.350Z"
   },
   {
    "duration": 157,
    "start_time": "2022-05-08T16:16:13.317Z"
   },
   {
    "duration": 20,
    "start_time": "2022-05-08T16:17:30.150Z"
   },
   {
    "duration": 10,
    "start_time": "2022-05-08T16:18:09.752Z"
   },
   {
    "duration": 253,
    "start_time": "2022-05-08T16:19:10.601Z"
   },
   {
    "duration": 9,
    "start_time": "2022-05-08T16:20:16.563Z"
   },
   {
    "duration": 22,
    "start_time": "2022-05-08T16:22:07.272Z"
   },
   {
    "duration": 10,
    "start_time": "2022-05-08T16:22:57.384Z"
   },
   {
    "duration": 7,
    "start_time": "2022-05-08T17:34:18.063Z"
   },
   {
    "duration": 7,
    "start_time": "2022-05-08T17:34:39.677Z"
   },
   {
    "duration": 7,
    "start_time": "2022-05-08T17:35:16.088Z"
   },
   {
    "duration": 7,
    "start_time": "2022-05-08T17:35:28.404Z"
   },
   {
    "duration": 7,
    "start_time": "2022-05-08T17:36:13.458Z"
   },
   {
    "duration": 6,
    "start_time": "2022-05-08T17:36:27.321Z"
   },
   {
    "duration": 5,
    "start_time": "2022-05-08T17:36:40.311Z"
   },
   {
    "duration": 7,
    "start_time": "2022-05-08T17:39:18.967Z"
   },
   {
    "duration": 6,
    "start_time": "2022-05-08T17:40:04.414Z"
   },
   {
    "duration": 6,
    "start_time": "2022-05-08T17:43:29.606Z"
   },
   {
    "duration": 6,
    "start_time": "2022-05-08T17:43:43.045Z"
   },
   {
    "duration": 6,
    "start_time": "2022-05-08T17:43:56.273Z"
   },
   {
    "duration": 29,
    "start_time": "2022-05-08T17:51:48.894Z"
   },
   {
    "duration": 19,
    "start_time": "2022-05-08T17:52:40.225Z"
   },
   {
    "duration": 136,
    "start_time": "2022-05-08T18:01:57.032Z"
   },
   {
    "duration": 6,
    "start_time": "2022-05-08T18:01:57.171Z"
   },
   {
    "duration": 49,
    "start_time": "2022-05-08T18:01:57.179Z"
   },
   {
    "duration": 14,
    "start_time": "2022-05-08T18:01:57.233Z"
   },
   {
    "duration": 939,
    "start_time": "2022-05-08T18:01:57.253Z"
   },
   {
    "duration": 18,
    "start_time": "2022-05-08T18:01:58.194Z"
   },
   {
    "duration": 67,
    "start_time": "2022-05-08T18:01:58.218Z"
   },
   {
    "duration": 6,
    "start_time": "2022-05-08T18:01:58.291Z"
   },
   {
    "duration": 25,
    "start_time": "2022-05-08T18:01:58.307Z"
   },
   {
    "duration": 25,
    "start_time": "2022-05-08T18:01:58.334Z"
   },
   {
    "duration": 20,
    "start_time": "2022-05-08T18:01:58.363Z"
   },
   {
    "duration": 21,
    "start_time": "2022-05-08T18:01:58.386Z"
   },
   {
    "duration": 1303,
    "start_time": "2022-05-08T18:01:58.409Z"
   },
   {
    "duration": 22,
    "start_time": "2022-05-08T18:01:59.717Z"
   },
   {
    "duration": 26,
    "start_time": "2022-05-08T18:01:59.741Z"
   },
   {
    "duration": 1347,
    "start_time": "2022-05-08T18:01:59.769Z"
   },
   {
    "duration": 8,
    "start_time": "2022-05-08T18:02:01.120Z"
   },
   {
    "duration": 42,
    "start_time": "2022-05-08T18:02:01.130Z"
   },
   {
    "duration": 32,
    "start_time": "2022-05-08T18:02:01.173Z"
   },
   {
    "duration": 52,
    "start_time": "2022-05-08T18:02:01.207Z"
   },
   {
    "duration": 22,
    "start_time": "2022-05-08T18:02:01.261Z"
   },
   {
    "duration": 23,
    "start_time": "2022-05-08T18:02:01.285Z"
   },
   {
    "duration": 53,
    "start_time": "2022-05-08T18:02:01.310Z"
   },
   {
    "duration": 60,
    "start_time": "2022-05-08T18:02:01.365Z"
   },
   {
    "duration": 9,
    "start_time": "2022-05-08T18:02:01.427Z"
   },
   {
    "duration": 44,
    "start_time": "2022-05-08T18:02:01.438Z"
   },
   {
    "duration": 5,
    "start_time": "2022-05-08T18:02:01.484Z"
   },
   {
    "duration": 69,
    "start_time": "2022-05-08T18:02:01.491Z"
   },
   {
    "duration": 465,
    "start_time": "2022-05-08T18:02:01.562Z"
   },
   {
    "duration": 25,
    "start_time": "2022-05-08T18:02:02.030Z"
   },
   {
    "duration": 190,
    "start_time": "2022-05-08T18:02:02.057Z"
   },
   {
    "duration": 341,
    "start_time": "2022-05-08T18:02:02.249Z"
   },
   {
    "duration": 18,
    "start_time": "2022-05-08T18:02:02.592Z"
   },
   {
    "duration": 1751,
    "start_time": "2022-05-08T18:02:02.612Z"
   },
   {
    "duration": 13,
    "start_time": "2022-05-08T18:02:04.365Z"
   },
   {
    "duration": 53,
    "start_time": "2022-05-08T18:02:04.380Z"
   },
   {
    "duration": 27,
    "start_time": "2022-05-08T18:02:04.439Z"
   },
   {
    "duration": 222,
    "start_time": "2022-05-08T18:02:04.472Z"
   },
   {
    "duration": 15,
    "start_time": "2022-05-08T18:02:04.698Z"
   },
   {
    "duration": 368,
    "start_time": "2022-05-08T18:02:04.715Z"
   },
   {
    "duration": 21,
    "start_time": "2022-05-08T18:02:05.088Z"
   },
   {
    "duration": 12,
    "start_time": "2022-05-08T18:02:05.111Z"
   },
   {
    "duration": 16,
    "start_time": "2022-05-08T18:02:05.125Z"
   },
   {
    "duration": 26,
    "start_time": "2022-05-08T18:02:05.143Z"
   },
   {
    "duration": 15,
    "start_time": "2022-05-08T18:02:05.171Z"
   },
   {
    "duration": 8,
    "start_time": "2022-05-08T18:02:05.188Z"
   },
   {
    "duration": 46,
    "start_time": "2022-05-08T18:02:05.198Z"
   },
   {
    "duration": 10,
    "start_time": "2022-05-08T18:02:05.246Z"
   },
   {
    "duration": 11,
    "start_time": "2022-05-08T18:02:05.257Z"
   },
   {
    "duration": 37,
    "start_time": "2022-05-08T18:02:05.269Z"
   },
   {
    "duration": 27,
    "start_time": "2022-05-08T18:02:05.309Z"
   },
   {
    "duration": 47,
    "start_time": "2022-05-08T18:03:17.560Z"
   },
   {
    "duration": 10,
    "start_time": "2022-05-08T18:10:38.646Z"
   },
   {
    "duration": 15,
    "start_time": "2022-05-08T18:11:14.696Z"
   },
   {
    "duration": 2,
    "start_time": "2022-05-08T18:12:04.893Z"
   },
   {
    "duration": 4,
    "start_time": "2022-05-08T18:12:51.042Z"
   },
   {
    "duration": 48,
    "start_time": "2022-05-08T18:13:55.531Z"
   },
   {
    "duration": 221,
    "start_time": "2022-05-08T18:16:37.852Z"
   },
   {
    "duration": 26,
    "start_time": "2022-05-08T18:21:45.281Z"
   },
   {
    "duration": 9,
    "start_time": "2022-05-08T18:22:11.675Z"
   },
   {
    "duration": 297,
    "start_time": "2022-05-08T18:22:36.353Z"
   },
   {
    "duration": 246,
    "start_time": "2022-05-08T18:23:16.349Z"
   },
   {
    "duration": 349,
    "start_time": "2022-05-08T18:23:37.929Z"
   },
   {
    "duration": 337,
    "start_time": "2022-05-08T18:23:55.400Z"
   },
   {
    "duration": 171,
    "start_time": "2022-05-08T18:24:21.809Z"
   },
   {
    "duration": 5,
    "start_time": "2022-05-08T18:40:49.032Z"
   },
   {
    "duration": 5,
    "start_time": "2022-05-08T18:41:52.365Z"
   },
   {
    "duration": 9,
    "start_time": "2022-05-08T18:42:04.006Z"
   },
   {
    "duration": 6,
    "start_time": "2022-05-08T18:42:14.341Z"
   },
   {
    "duration": 9,
    "start_time": "2022-05-08T18:42:31.065Z"
   },
   {
    "duration": 33,
    "start_time": "2022-05-08T18:46:40.045Z"
   }
  ],
  "kernelspec": {
   "display_name": "Python 3 (ipykernel)",
   "language": "python",
   "name": "python3"
  },
  "language_info": {
   "codemirror_mode": {
    "name": "ipython",
    "version": 3
   },
   "file_extension": ".py",
   "mimetype": "text/x-python",
   "name": "python",
   "nbconvert_exporter": "python",
   "pygments_lexer": "ipython3",
   "version": "3.9.7"
  },
  "toc": {
   "base_numbering": 1,
   "nav_menu": {},
   "number_sections": true,
   "sideBar": true,
   "skip_h1_title": true,
   "title_cell": "Содержание",
   "title_sidebar": "Contents",
   "toc_cell": true,
   "toc_position": {
    "height": "calc(100% - 180px)",
    "left": "10px",
    "top": "150px",
    "width": "207.597px"
   },
   "toc_section_display": true,
   "toc_window_display": true
  }
 },
 "nbformat": 4,
 "nbformat_minor": 4
}
