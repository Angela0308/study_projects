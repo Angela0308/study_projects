{
 "cells": [
  {
   "cell_type": "markdown",
   "id": "158a100d",
   "metadata": {
    "toc": true
   },
   "source": [
    "<h1>Содержание<span class=\"tocSkip\"></span></h1>\n",
    "<div class=\"toc\"><ul class=\"toc-item\"><li><span><a href=\"#Описание-проекта\" data-toc-modified-id=\"Описание-проекта-1\"><span class=\"toc-item-num\">1&nbsp;&nbsp;</span>Описание проекта</a></span><ul class=\"toc-item\"><li><span><a href=\"#Задачи\" data-toc-modified-id=\"Задачи-1.1\"><span class=\"toc-item-num\">1.1&nbsp;&nbsp;</span>Задачи</a></span></li><li><span><a href=\"#Описание-данных\" data-toc-modified-id=\"Описание-данных-1.2\"><span class=\"toc-item-num\">1.2&nbsp;&nbsp;</span>Описание данных</a></span></li><li><span><a href=\"#План-работы\" data-toc-modified-id=\"План-работы-1.3\"><span class=\"toc-item-num\">1.3&nbsp;&nbsp;</span>План работы</a></span></li></ul></li><li><span><a href=\"#Загрузка-данных-и-подготовка-их-к-анализу\" data-toc-modified-id=\"Загрузка-данных-и-подготовка-их-к-анализу-2\"><span class=\"toc-item-num\">2&nbsp;&nbsp;</span>Загрузка данных и подготовка их к анализу</a></span><ul class=\"toc-item\"><li><span><a href=\"#Итоги-предобработки\" data-toc-modified-id=\"Итоги-предобработки-2.1\"><span class=\"toc-item-num\">2.1&nbsp;&nbsp;</span>Итоги предобработки</a></span></li></ul></li><li><span><a href=\"#Приоритизация-гипотез\" data-toc-modified-id=\"Приоритизация-гипотез-3\"><span class=\"toc-item-num\">3&nbsp;&nbsp;</span>Приоритизация гипотез</a></span><ul class=\"toc-item\"><li><span><a href=\"#Результаты-приоритизации-гипотез\" data-toc-modified-id=\"Результаты-приоритизации-гипотез-3.1\"><span class=\"toc-item-num\">3.1&nbsp;&nbsp;</span>Результаты приоритизации гипотез</a></span></li></ul></li><li><span><a href=\"#Анализ-A/B-теста\" data-toc-modified-id=\"Анализ-A/B-теста-4\"><span class=\"toc-item-num\">4&nbsp;&nbsp;</span>Анализ A/B-теста</a></span><ul class=\"toc-item\"><li><span><a href=\"#Кумулятивная-выручка-по-группам\" data-toc-modified-id=\"Кумулятивная-выручка-по-группам-4.1\"><span class=\"toc-item-num\">4.1&nbsp;&nbsp;</span>Кумулятивная выручка по группам</a></span></li><li><span><a href=\"#Кумулятивный-средний-чек-по-группам\" data-toc-modified-id=\"Кумулятивный-средний-чек-по-группам-4.2\"><span class=\"toc-item-num\">4.2&nbsp;&nbsp;</span>Кумулятивный средний чек по группам</a></span></li><li><span><a href=\"#Относительное-изменения-кумулятивного-среднего-чека\" data-toc-modified-id=\"Относительное-изменения-кумулятивного-среднего-чека-4.3\"><span class=\"toc-item-num\">4.3&nbsp;&nbsp;</span>Относительное изменения кумулятивного среднего чека</a></span></li><li><span><a href=\"#Кумулятивное-среднее-количество-заказов-на-посетителя-по-группам\" data-toc-modified-id=\"Кумулятивное-среднее-количество-заказов-на-посетителя-по-группам-4.4\"><span class=\"toc-item-num\">4.4&nbsp;&nbsp;</span>Кумулятивное среднее количество заказов на посетителя по группам</a></span></li><li><span><a href=\"#Относительное-изменение-кумулятивного-среднего-количества-заказов\" data-toc-modified-id=\"Относительное-изменение-кумулятивного-среднего-количества-заказов-4.5\"><span class=\"toc-item-num\">4.5&nbsp;&nbsp;</span>Относительное изменение кумулятивного среднего количества заказов</a></span></li><li><span><a href=\"#Количество-заказов-по-пользователям\" data-toc-modified-id=\"Количество-заказов-по-пользователям-4.6\"><span class=\"toc-item-num\">4.6&nbsp;&nbsp;</span>Количество заказов по пользователям</a></span></li><li><span><a href=\"#Стоимость-заказов\" data-toc-modified-id=\"Стоимость-заказов-4.7\"><span class=\"toc-item-num\">4.7&nbsp;&nbsp;</span>Стоимость заказов</a></span></li><li><span><a href=\"#Различия-в-среднем-количестве-заказов,-сырые-данные\" data-toc-modified-id=\"Различия-в-среднем-количестве-заказов,-сырые-данные-4.8\"><span class=\"toc-item-num\">4.8&nbsp;&nbsp;</span>Различия в среднем количестве заказов, сырые данные</a></span></li><li><span><a href=\"#Различия-в-среднем-чеке,-сырые-данные\" data-toc-modified-id=\"Различия-в-среднем-чеке,-сырые-данные-4.9\"><span class=\"toc-item-num\">4.9&nbsp;&nbsp;</span>Различия в среднем чеке, сырые данные</a></span></li><li><span><a href=\"#Различия-в-среднем-количестве-заказов,-чистые-данные\" data-toc-modified-id=\"Различия-в-среднем-количестве-заказов,-чистые-данные-4.10\"><span class=\"toc-item-num\">4.10&nbsp;&nbsp;</span>Различия в среднем количестве заказов, чистые данные</a></span></li><li><span><a href=\"#Различия-в-среднем-чеке,-чистые-данные\" data-toc-modified-id=\"Различия-в-среднем-чеке,-чистые-данные-4.11\"><span class=\"toc-item-num\">4.11&nbsp;&nbsp;</span>Различия в среднем чеке, чистые данные</a></span></li></ul></li><li><span><a href=\"#Выводы-и-решение\" data-toc-modified-id=\"Выводы-и-решение-5\"><span class=\"toc-item-num\">5&nbsp;&nbsp;</span>Выводы и решение</a></span></li></ul></div>"
   ]
  },
  {
   "cell_type": "markdown",
   "id": "a0bd5e2a",
   "metadata": {},
   "source": [
    "# Анализ результатов A/B-теста"
   ]
  },
  {
   "cell_type": "markdown",
   "id": "0b68efd7",
   "metadata": {},
   "source": [
    "## Описание проекта\n",
    "Отделами аналитики и маркетинга крупного интернет-магазина совместно подготовлен список гипотез для увеличения выручки. \n",
    "### Задачи\n",
    "* приоритизировать гипотезы, \n",
    "* запустить A/B-тест,\n",
    "* проанализировать результаты.\n",
    "\n",
    "### Описание данных\n",
    "Датасеты:\n",
    "* `/datasets/hypothesis.csv` - данные о гипотезах.\n",
    "* `/datasets/orders.csv` - данные о заказах.\n",
    "* `/datasets/visitors.csv` - данные о пользователях.\n",
    "\n",
    "Структура /datasets/hypothesis.csv:\n",
    "* `Hypothesis` — краткое описание гипотезы;\n",
    "* `Reach` — охват пользователей по 10-балльной шкале;\n",
    "* `Impact` — влияние на пользователей по 10-балльной шкале;\n",
    "* `Confidence` — уверенность в гипотезе по 10-балльной шкале;\n",
    "* `Efforts` — затраты ресурсов на проверку гипотезы по 10-балльной шкале. Чем больше значение Efforts, тем дороже проверка гипотезы.\n",
    "\n",
    "Структура /datasets/orders.csv:\n",
    "* `transactionId` — идентификатор заказа;\n",
    "* `visitorId` — идентификатор пользователя, совершившего заказ;\n",
    "* `date` — дата, когда был совершён заказ;\n",
    "* `revenue` — выручка заказа;\n",
    "* `group` — группа A/B-теста, в которую попал заказ.\n",
    "\n",
    "Структура /datasets/visitors.csv:\n",
    "* `date` — дата;\n",
    "* `group` — группа A/B-теста;\n",
    "* `visitors` — количество пользователей в указанную дату в указанной группе A/B-теста\n",
    "\n",
    "### План работы\n",
    "1. Загрузка данных\n",
    "2. Подготовка данных к анализу\n",
    "3. Приоритизация гипотез\n",
    "4. Анализ A/B-теста\n",
    "5. Выводы и принятие решения"
   ]
  },
  {
   "cell_type": "markdown",
   "id": "57cef041",
   "metadata": {},
   "source": [
    "## Загрузка данных и подготовка их к анализу"
   ]
  },
  {
   "cell_type": "code",
   "execution_count": 1,
   "id": "a07d7a5c",
   "metadata": {},
   "outputs": [],
   "source": [
    "# импорт библиотек\n",
    "import pandas as pd\n",
    "import datetime as dt\n",
    "import numpy as np\n",
    "import matplotlib.pyplot as plt\n",
    "import scipy.stats as stats"
   ]
  },
  {
   "cell_type": "code",
   "execution_count": 2,
   "id": "11f65cb3",
   "metadata": {},
   "outputs": [
    {
     "data": {
      "text/html": [
       "<div>\n",
       "<style scoped>\n",
       "    .dataframe tbody tr th:only-of-type {\n",
       "        vertical-align: middle;\n",
       "    }\n",
       "\n",
       "    .dataframe tbody tr th {\n",
       "        vertical-align: top;\n",
       "    }\n",
       "\n",
       "    .dataframe thead th {\n",
       "        text-align: right;\n",
       "    }\n",
       "</style>\n",
       "<table border=\"1\" class=\"dataframe\">\n",
       "  <thead>\n",
       "    <tr style=\"text-align: right;\">\n",
       "      <th></th>\n",
       "      <th>Hypothesis</th>\n",
       "      <th>Reach</th>\n",
       "      <th>Impact</th>\n",
       "      <th>Confidence</th>\n",
       "      <th>Efforts</th>\n",
       "    </tr>\n",
       "  </thead>\n",
       "  <tbody>\n",
       "    <tr>\n",
       "      <th>0</th>\n",
       "      <td>Добавить два новых канала привлечения трафика,...</td>\n",
       "      <td>3</td>\n",
       "      <td>10</td>\n",
       "      <td>8</td>\n",
       "      <td>6</td>\n",
       "    </tr>\n",
       "    <tr>\n",
       "      <th>1</th>\n",
       "      <td>Запустить собственную службу доставки, что сок...</td>\n",
       "      <td>2</td>\n",
       "      <td>5</td>\n",
       "      <td>4</td>\n",
       "      <td>10</td>\n",
       "    </tr>\n",
       "    <tr>\n",
       "      <th>2</th>\n",
       "      <td>Добавить блоки рекомендаций товаров на сайт ин...</td>\n",
       "      <td>8</td>\n",
       "      <td>3</td>\n",
       "      <td>7</td>\n",
       "      <td>3</td>\n",
       "    </tr>\n",
       "    <tr>\n",
       "      <th>3</th>\n",
       "      <td>Изменить структура категорий, что увеличит кон...</td>\n",
       "      <td>8</td>\n",
       "      <td>3</td>\n",
       "      <td>3</td>\n",
       "      <td>8</td>\n",
       "    </tr>\n",
       "    <tr>\n",
       "      <th>4</th>\n",
       "      <td>Изменить цвет фона главной страницы, чтобы уве...</td>\n",
       "      <td>3</td>\n",
       "      <td>1</td>\n",
       "      <td>1</td>\n",
       "      <td>1</td>\n",
       "    </tr>\n",
       "    <tr>\n",
       "      <th>5</th>\n",
       "      <td>Добавить страницу отзывов клиентов о магазине,...</td>\n",
       "      <td>3</td>\n",
       "      <td>2</td>\n",
       "      <td>2</td>\n",
       "      <td>3</td>\n",
       "    </tr>\n",
       "    <tr>\n",
       "      <th>6</th>\n",
       "      <td>Показать на главной странице баннеры с актуаль...</td>\n",
       "      <td>5</td>\n",
       "      <td>3</td>\n",
       "      <td>8</td>\n",
       "      <td>3</td>\n",
       "    </tr>\n",
       "    <tr>\n",
       "      <th>7</th>\n",
       "      <td>Добавить форму подписки на все основные страни...</td>\n",
       "      <td>10</td>\n",
       "      <td>7</td>\n",
       "      <td>8</td>\n",
       "      <td>5</td>\n",
       "    </tr>\n",
       "    <tr>\n",
       "      <th>8</th>\n",
       "      <td>Запустить акцию, дающую скидку на товар в день...</td>\n",
       "      <td>1</td>\n",
       "      <td>9</td>\n",
       "      <td>9</td>\n",
       "      <td>5</td>\n",
       "    </tr>\n",
       "  </tbody>\n",
       "</table>\n",
       "</div>"
      ],
      "text/plain": [
       "                                          Hypothesis  Reach  Impact  \\\n",
       "0  Добавить два новых канала привлечения трафика,...      3      10   \n",
       "1  Запустить собственную службу доставки, что сок...      2       5   \n",
       "2  Добавить блоки рекомендаций товаров на сайт ин...      8       3   \n",
       "3  Изменить структура категорий, что увеличит кон...      8       3   \n",
       "4  Изменить цвет фона главной страницы, чтобы уве...      3       1   \n",
       "5  Добавить страницу отзывов клиентов о магазине,...      3       2   \n",
       "6  Показать на главной странице баннеры с актуаль...      5       3   \n",
       "7  Добавить форму подписки на все основные страни...     10       7   \n",
       "8  Запустить акцию, дающую скидку на товар в день...      1       9   \n",
       "\n",
       "   Confidence  Efforts  \n",
       "0           8        6  \n",
       "1           4       10  \n",
       "2           7        3  \n",
       "3           3        8  \n",
       "4           1        1  \n",
       "5           2        3  \n",
       "6           8        3  \n",
       "7           8        5  \n",
       "8           9        5  "
      ]
     },
     "metadata": {},
     "output_type": "display_data"
    },
    {
     "data": {
      "text/html": [
       "<div>\n",
       "<style scoped>\n",
       "    .dataframe tbody tr th:only-of-type {\n",
       "        vertical-align: middle;\n",
       "    }\n",
       "\n",
       "    .dataframe tbody tr th {\n",
       "        vertical-align: top;\n",
       "    }\n",
       "\n",
       "    .dataframe thead th {\n",
       "        text-align: right;\n",
       "    }\n",
       "</style>\n",
       "<table border=\"1\" class=\"dataframe\">\n",
       "  <thead>\n",
       "    <tr style=\"text-align: right;\">\n",
       "      <th></th>\n",
       "      <th>transactionId</th>\n",
       "      <th>visitorId</th>\n",
       "      <th>date</th>\n",
       "      <th>revenue</th>\n",
       "      <th>group</th>\n",
       "    </tr>\n",
       "  </thead>\n",
       "  <tbody>\n",
       "    <tr>\n",
       "      <th>0</th>\n",
       "      <td>3667963787</td>\n",
       "      <td>3312258926</td>\n",
       "      <td>2019-08-15</td>\n",
       "      <td>1650</td>\n",
       "      <td>B</td>\n",
       "    </tr>\n",
       "    <tr>\n",
       "      <th>1</th>\n",
       "      <td>2804400009</td>\n",
       "      <td>3642806036</td>\n",
       "      <td>2019-08-15</td>\n",
       "      <td>730</td>\n",
       "      <td>B</td>\n",
       "    </tr>\n",
       "    <tr>\n",
       "      <th>2</th>\n",
       "      <td>2961555356</td>\n",
       "      <td>4069496402</td>\n",
       "      <td>2019-08-15</td>\n",
       "      <td>400</td>\n",
       "      <td>A</td>\n",
       "    </tr>\n",
       "    <tr>\n",
       "      <th>3</th>\n",
       "      <td>3797467345</td>\n",
       "      <td>1196621759</td>\n",
       "      <td>2019-08-15</td>\n",
       "      <td>9759</td>\n",
       "      <td>B</td>\n",
       "    </tr>\n",
       "    <tr>\n",
       "      <th>4</th>\n",
       "      <td>2282983706</td>\n",
       "      <td>2322279887</td>\n",
       "      <td>2019-08-15</td>\n",
       "      <td>2308</td>\n",
       "      <td>B</td>\n",
       "    </tr>\n",
       "  </tbody>\n",
       "</table>\n",
       "</div>"
      ],
      "text/plain": [
       "   transactionId   visitorId        date  revenue group\n",
       "0     3667963787  3312258926  2019-08-15     1650     B\n",
       "1     2804400009  3642806036  2019-08-15      730     B\n",
       "2     2961555356  4069496402  2019-08-15      400     A\n",
       "3     3797467345  1196621759  2019-08-15     9759     B\n",
       "4     2282983706  2322279887  2019-08-15     2308     B"
      ]
     },
     "metadata": {},
     "output_type": "display_data"
    },
    {
     "data": {
      "text/html": [
       "<div>\n",
       "<style scoped>\n",
       "    .dataframe tbody tr th:only-of-type {\n",
       "        vertical-align: middle;\n",
       "    }\n",
       "\n",
       "    .dataframe tbody tr th {\n",
       "        vertical-align: top;\n",
       "    }\n",
       "\n",
       "    .dataframe thead th {\n",
       "        text-align: right;\n",
       "    }\n",
       "</style>\n",
       "<table border=\"1\" class=\"dataframe\">\n",
       "  <thead>\n",
       "    <tr style=\"text-align: right;\">\n",
       "      <th></th>\n",
       "      <th>date</th>\n",
       "      <th>group</th>\n",
       "      <th>visitors</th>\n",
       "    </tr>\n",
       "  </thead>\n",
       "  <tbody>\n",
       "    <tr>\n",
       "      <th>0</th>\n",
       "      <td>2019-08-01</td>\n",
       "      <td>A</td>\n",
       "      <td>719</td>\n",
       "    </tr>\n",
       "    <tr>\n",
       "      <th>1</th>\n",
       "      <td>2019-08-02</td>\n",
       "      <td>A</td>\n",
       "      <td>619</td>\n",
       "    </tr>\n",
       "    <tr>\n",
       "      <th>2</th>\n",
       "      <td>2019-08-03</td>\n",
       "      <td>A</td>\n",
       "      <td>507</td>\n",
       "    </tr>\n",
       "    <tr>\n",
       "      <th>3</th>\n",
       "      <td>2019-08-04</td>\n",
       "      <td>A</td>\n",
       "      <td>717</td>\n",
       "    </tr>\n",
       "    <tr>\n",
       "      <th>4</th>\n",
       "      <td>2019-08-05</td>\n",
       "      <td>A</td>\n",
       "      <td>756</td>\n",
       "    </tr>\n",
       "  </tbody>\n",
       "</table>\n",
       "</div>"
      ],
      "text/plain": [
       "         date group  visitors\n",
       "0  2019-08-01     A       719\n",
       "1  2019-08-02     A       619\n",
       "2  2019-08-03     A       507\n",
       "3  2019-08-04     A       717\n",
       "4  2019-08-05     A       756"
      ]
     },
     "metadata": {},
     "output_type": "display_data"
    }
   ],
   "source": [
    "# загружаю данные\n",
    "hypothesis = pd.read_csv('hypothesis.csv')\n",
    "orders = pd.read_csv('orders.csv')\n",
    "visitors = pd.read_csv('visitors.csv')\n",
    "display(hypothesis.head(10))\n",
    "display(orders.head())\n",
    "display(visitors.head())"
   ]
  },
  {
   "cell_type": "code",
   "execution_count": 3,
   "id": "36fd7039",
   "metadata": {},
   "outputs": [
    {
     "name": "stdout",
     "output_type": "stream",
     "text": [
      "<class 'pandas.core.frame.DataFrame'>\n",
      "RangeIndex: 1197 entries, 0 to 1196\n",
      "Data columns (total 5 columns):\n",
      " #   Column         Non-Null Count  Dtype \n",
      "---  ------         --------------  ----- \n",
      " 0   transactionId  1197 non-null   int64 \n",
      " 1   visitorId      1197 non-null   int64 \n",
      " 2   date           1197 non-null   object\n",
      " 3   revenue        1197 non-null   int64 \n",
      " 4   group          1197 non-null   object\n",
      "dtypes: int64(3), object(2)\n",
      "memory usage: 46.9+ KB\n"
     ]
    },
    {
     "data": {
      "text/plain": [
       "None"
      ]
     },
     "metadata": {},
     "output_type": "display_data"
    },
    {
     "name": "stdout",
     "output_type": "stream",
     "text": [
      "<class 'pandas.core.frame.DataFrame'>\n",
      "RangeIndex: 62 entries, 0 to 61\n",
      "Data columns (total 3 columns):\n",
      " #   Column    Non-Null Count  Dtype \n",
      "---  ------    --------------  ----- \n",
      " 0   date      62 non-null     object\n",
      " 1   group     62 non-null     object\n",
      " 2   visitors  62 non-null     int64 \n",
      "dtypes: int64(1), object(2)\n",
      "memory usage: 1.6+ KB\n"
     ]
    },
    {
     "data": {
      "text/plain": [
       "None"
      ]
     },
     "metadata": {},
     "output_type": "display_data"
    }
   ],
   "source": [
    "# проверяю пропуски и типы данных\n",
    "display(orders.info())\n",
    "display(visitors.info())"
   ]
  },
  {
   "cell_type": "code",
   "execution_count": 4,
   "id": "2f285b16",
   "metadata": {},
   "outputs": [
    {
     "data": {
      "text/plain": [
       "0"
      ]
     },
     "metadata": {},
     "output_type": "display_data"
    },
    {
     "data": {
      "text/plain": [
       "0"
      ]
     },
     "metadata": {},
     "output_type": "display_data"
    }
   ],
   "source": [
    "# проверяю наличие дубликатов\n",
    "display(orders.duplicated().sum())\n",
    "display(visitors.duplicated().sum())"
   ]
  },
  {
   "cell_type": "code",
   "execution_count": 5,
   "id": "37f9b28b",
   "metadata": {},
   "outputs": [],
   "source": [
    "# преобразую данные о времени\n",
    "orders['date'] = orders['date'].map(lambda x: dt.datetime.strptime(x, '%Y-%m-%d'))\n",
    "visitors['date'] = visitors['date'].map(lambda x: dt.datetime.strptime(x, '%Y-%m-%d'))"
   ]
  },
  {
   "cell_type": "code",
   "execution_count": 6,
   "id": "fd40944a",
   "metadata": {},
   "outputs": [
    {
     "data": {
      "text/html": [
       "<div>\n",
       "<style scoped>\n",
       "    .dataframe tbody tr th:only-of-type {\n",
       "        vertical-align: middle;\n",
       "    }\n",
       "\n",
       "    .dataframe tbody tr th {\n",
       "        vertical-align: top;\n",
       "    }\n",
       "\n",
       "    .dataframe thead th {\n",
       "        text-align: right;\n",
       "    }\n",
       "</style>\n",
       "<table border=\"1\" class=\"dataframe\">\n",
       "  <thead>\n",
       "    <tr style=\"text-align: right;\">\n",
       "      <th></th>\n",
       "      <th>transactionId</th>\n",
       "      <th>visitorId</th>\n",
       "      <th>date</th>\n",
       "      <th>revenue</th>\n",
       "      <th>group</th>\n",
       "    </tr>\n",
       "  </thead>\n",
       "  <tbody>\n",
       "  </tbody>\n",
       "</table>\n",
       "</div>"
      ],
      "text/plain": [
       "Empty DataFrame\n",
       "Columns: [transactionId, visitorId, date, revenue, group]\n",
       "Index: []"
      ]
     },
     "metadata": {},
     "output_type": "display_data"
    },
    {
     "data": {
      "text/html": [
       "<div>\n",
       "<style scoped>\n",
       "    .dataframe tbody tr th:only-of-type {\n",
       "        vertical-align: middle;\n",
       "    }\n",
       "\n",
       "    .dataframe tbody tr th {\n",
       "        vertical-align: top;\n",
       "    }\n",
       "\n",
       "    .dataframe thead th {\n",
       "        text-align: right;\n",
       "    }\n",
       "</style>\n",
       "<table border=\"1\" class=\"dataframe\">\n",
       "  <thead>\n",
       "    <tr style=\"text-align: right;\">\n",
       "      <th></th>\n",
       "      <th>date</th>\n",
       "      <th>group</th>\n",
       "      <th>visitors</th>\n",
       "    </tr>\n",
       "  </thead>\n",
       "  <tbody>\n",
       "  </tbody>\n",
       "</table>\n",
       "</div>"
      ],
      "text/plain": [
       "Empty DataFrame\n",
       "Columns: [date, group, visitors]\n",
       "Index: []"
      ]
     },
     "metadata": {},
     "output_type": "display_data"
    },
    {
     "data": {
      "text/plain": [
       "Timestamp('2019-08-01 00:00:00')"
      ]
     },
     "metadata": {},
     "output_type": "display_data"
    },
    {
     "data": {
      "text/plain": [
       "Timestamp('2019-08-31 00:00:00')"
      ]
     },
     "metadata": {},
     "output_type": "display_data"
    },
    {
     "data": {
      "text/plain": [
       "Timestamp('2019-08-01 00:00:00')"
      ]
     },
     "metadata": {},
     "output_type": "display_data"
    },
    {
     "data": {
      "text/plain": [
       "Timestamp('2019-08-31 00:00:00')"
      ]
     },
     "metadata": {},
     "output_type": "display_data"
    },
    {
     "data": {
      "text/plain": [
       "2"
      ]
     },
     "metadata": {},
     "output_type": "display_data"
    },
    {
     "data": {
      "text/plain": [
       "2"
      ]
     },
     "metadata": {},
     "output_type": "display_data"
    }
   ],
   "source": [
    "# проверяю количественные данные на наличие аномальных отрицательных значений\n",
    "display(orders[(orders['revenue'] < 0)])\n",
    "display(visitors[(visitors['visitors'] < 0)])\n",
    "# проверяю временные рамки\n",
    "display(orders['date'].min())\n",
    "display(orders['date'].max())\n",
    "display(visitors['date'].min())\n",
    "display(visitors['date'].max())\n",
    "# проверяю количество групп\n",
    "display(orders['group'].nunique())\n",
    "display(visitors['group'].nunique())"
   ]
  },
  {
   "cell_type": "code",
   "execution_count": 7,
   "id": "5e2e2ed8",
   "metadata": {},
   "outputs": [
    {
     "data": {
      "text/html": [
       "<div>\n",
       "<style scoped>\n",
       "    .dataframe tbody tr th:only-of-type {\n",
       "        vertical-align: middle;\n",
       "    }\n",
       "\n",
       "    .dataframe tbody tr th {\n",
       "        vertical-align: top;\n",
       "    }\n",
       "\n",
       "    .dataframe thead th {\n",
       "        text-align: right;\n",
       "    }\n",
       "</style>\n",
       "<table border=\"1\" class=\"dataframe\">\n",
       "  <thead>\n",
       "    <tr style=\"text-align: right;\">\n",
       "      <th></th>\n",
       "      <th>visitorId</th>\n",
       "    </tr>\n",
       "    <tr>\n",
       "      <th>group</th>\n",
       "      <th></th>\n",
       "    </tr>\n",
       "  </thead>\n",
       "  <tbody>\n",
       "    <tr>\n",
       "      <th>A</th>\n",
       "      <td>503</td>\n",
       "    </tr>\n",
       "    <tr>\n",
       "      <th>B</th>\n",
       "      <td>586</td>\n",
       "    </tr>\n",
       "  </tbody>\n",
       "</table>\n",
       "</div>"
      ],
      "text/plain": [
       "       visitorId\n",
       "group           \n",
       "A            503\n",
       "B            586"
      ]
     },
     "metadata": {},
     "output_type": "display_data"
    },
    {
     "data": {
      "image/png": "[encoded data removed]",
      "text/plain": [
       "<Figure size 864x360 with 1 Axes>"
      ]
     },
     "metadata": {
      "needs_background": "light"
     },
     "output_type": "display_data"
    }
   ],
   "source": [
    "# проверяю количество пользователей по группам\n",
    "display(orders.groupby('group').agg({'visitorId': 'nunique'}))\n",
    "\n",
    "# проверяю динамику посетителей по дням\n",
    "plt.figure(figsize=(12,5))\n",
    "plt.plot(visitors[visitors['group'] == 'A']['date'], visitors[visitors['group'] == 'A']['visitors'], label='A')\n",
    "plt.plot(visitors[visitors['group'] == 'B']['date'], visitors[visitors['group'] == 'B']['visitors'], label='B')\n",
    "plt.legend()\n",
    "plt.xlabel('Дата')\n",
    "plt.ylabel('Количество пользователей')\n",
    "plt.title('Динамика посетителей по дням')\n",
    "plt.show()"
   ]
  },
  {
   "cell_type": "markdown",
   "id": "340cc338",
   "metadata": {},
   "source": [
    "### Итоги предобработки\n",
    "В ходе изучения и предобработки данных в столбцах с датой типы были преобразованы в соответствии с сохраненными в них значениями, пропуски и дубликаты не обнаружены, количественные значения, временные рамки и типы групп без аномалий и соответствуют задачам исследования. Количество уникальных пользователей в группе В больше чем в А, динамика посетителей по дням похожа между группами, пиковые значения почти всегда совпадают по дням."
   ]
  },
  {
   "cell_type": "markdown",
   "id": "5e0f243c",
   "metadata": {},
   "source": [
    "## Приоритизация гипотез"
   ]
  },
  {
   "cell_type": "code",
   "execution_count": 8,
   "id": "d142cd41",
   "metadata": {},
   "outputs": [
    {
     "data": {
      "text/html": [
       "<div>\n",
       "<style scoped>\n",
       "    .dataframe tbody tr th:only-of-type {\n",
       "        vertical-align: middle;\n",
       "    }\n",
       "\n",
       "    .dataframe tbody tr th {\n",
       "        vertical-align: top;\n",
       "    }\n",
       "\n",
       "    .dataframe thead th {\n",
       "        text-align: right;\n",
       "    }\n",
       "</style>\n",
       "<table border=\"1\" class=\"dataframe\">\n",
       "  <thead>\n",
       "    <tr style=\"text-align: right;\">\n",
       "      <th></th>\n",
       "      <th>Hypothesis</th>\n",
       "      <th>ICE</th>\n",
       "    </tr>\n",
       "  </thead>\n",
       "  <tbody>\n",
       "    <tr>\n",
       "      <th>8</th>\n",
       "      <td>Запустить акцию, дающую скидку на товар в день рождения</td>\n",
       "      <td>16.20</td>\n",
       "    </tr>\n",
       "    <tr>\n",
       "      <th>0</th>\n",
       "      <td>Добавить два новых канала привлечения трафика, что позволит привлекать на 30% больше пользователей</td>\n",
       "      <td>13.33</td>\n",
       "    </tr>\n",
       "    <tr>\n",
       "      <th>7</th>\n",
       "      <td>Добавить форму подписки на все основные страницы, чтобы собрать базу клиентов для email-рассылок</td>\n",
       "      <td>11.20</td>\n",
       "    </tr>\n",
       "    <tr>\n",
       "      <th>6</th>\n",
       "      <td>Показать на главной странице баннеры с актуальными акциями и распродажами, чтобы увеличить конверсию</td>\n",
       "      <td>8.00</td>\n",
       "    </tr>\n",
       "    <tr>\n",
       "      <th>2</th>\n",
       "      <td>Добавить блоки рекомендаций товаров на сайт интернет магазина, чтобы повысить конверсию и средний чек заказа</td>\n",
       "      <td>7.00</td>\n",
       "    </tr>\n",
       "    <tr>\n",
       "      <th>1</th>\n",
       "      <td>Запустить собственную службу доставки, что сократит срок доставки заказов</td>\n",
       "      <td>2.00</td>\n",
       "    </tr>\n",
       "    <tr>\n",
       "      <th>5</th>\n",
       "      <td>Добавить страницу отзывов клиентов о магазине, что позволит увеличить количество заказов</td>\n",
       "      <td>1.33</td>\n",
       "    </tr>\n",
       "    <tr>\n",
       "      <th>3</th>\n",
       "      <td>Изменить структура категорий, что увеличит конверсию, т.к. пользователи быстрее найдут нужный товар</td>\n",
       "      <td>1.12</td>\n",
       "    </tr>\n",
       "    <tr>\n",
       "      <th>4</th>\n",
       "      <td>Изменить цвет фона главной страницы, чтобы увеличить вовлеченность пользователей</td>\n",
       "      <td>1.00</td>\n",
       "    </tr>\n",
       "  </tbody>\n",
       "</table>\n",
       "</div>"
      ],
      "text/plain": [
       "                                                                                                     Hypothesis  \\\n",
       "8                                                       Запустить акцию, дающую скидку на товар в день рождения   \n",
       "0            Добавить два новых канала привлечения трафика, что позволит привлекать на 30% больше пользователей   \n",
       "7              Добавить форму подписки на все основные страницы, чтобы собрать базу клиентов для email-рассылок   \n",
       "6          Показать на главной странице баннеры с актуальными акциями и распродажами, чтобы увеличить конверсию   \n",
       "2  Добавить блоки рекомендаций товаров на сайт интернет магазина, чтобы повысить конверсию и средний чек заказа   \n",
       "1                                     Запустить собственную службу доставки, что сократит срок доставки заказов   \n",
       "5                      Добавить страницу отзывов клиентов о магазине, что позволит увеличить количество заказов   \n",
       "3           Изменить структура категорий, что увеличит конверсию, т.к. пользователи быстрее найдут нужный товар   \n",
       "4                              Изменить цвет фона главной страницы, чтобы увеличить вовлеченность пользователей   \n",
       "\n",
       "     ICE  \n",
       "8  16.20  \n",
       "0  13.33  \n",
       "7  11.20  \n",
       "6   8.00  \n",
       "2   7.00  \n",
       "1   2.00  \n",
       "5   1.33  \n",
       "3   1.12  \n",
       "4   1.00  "
      ]
     },
     "execution_count": 8,
     "metadata": {},
     "output_type": "execute_result"
    }
   ],
   "source": [
    "# оцениваю приоритезацию по параметрам ICE\n",
    "hypothesis['ICE'] = (hypothesis['Impact'] * hypothesis['Confidence'] / hypothesis['Efforts']).round(2)\n",
    "pd.options.display.max_colwidth = 130\n",
    "hypothesis[['Hypothesis', 'ICE']].sort_values(by='ICE', ascending=False)"
   ]
  },
  {
   "cell_type": "markdown",
   "id": "f4376f60",
   "metadata": {},
   "source": [
    "Наиболее перспективные гипотезы по ICE: 8, 0, 7."
   ]
  },
  {
   "cell_type": "code",
   "execution_count": 9,
   "id": "11fc6c04",
   "metadata": {},
   "outputs": [
    {
     "data": {
      "text/html": [
       "<div>\n",
       "<style scoped>\n",
       "    .dataframe tbody tr th:only-of-type {\n",
       "        vertical-align: middle;\n",
       "    }\n",
       "\n",
       "    .dataframe tbody tr th {\n",
       "        vertical-align: top;\n",
       "    }\n",
       "\n",
       "    .dataframe thead th {\n",
       "        text-align: right;\n",
       "    }\n",
       "</style>\n",
       "<table border=\"1\" class=\"dataframe\">\n",
       "  <thead>\n",
       "    <tr style=\"text-align: right;\">\n",
       "      <th></th>\n",
       "      <th>Hypothesis</th>\n",
       "      <th>RICE</th>\n",
       "    </tr>\n",
       "  </thead>\n",
       "  <tbody>\n",
       "    <tr>\n",
       "      <th>7</th>\n",
       "      <td>Добавить форму подписки на все основные страницы, чтобы собрать базу клиентов для email-рассылок</td>\n",
       "      <td>112.0</td>\n",
       "    </tr>\n",
       "    <tr>\n",
       "      <th>2</th>\n",
       "      <td>Добавить блоки рекомендаций товаров на сайт интернет магазина, чтобы повысить конверсию и средний чек заказа</td>\n",
       "      <td>56.0</td>\n",
       "    </tr>\n",
       "    <tr>\n",
       "      <th>0</th>\n",
       "      <td>Добавить два новых канала привлечения трафика, что позволит привлекать на 30% больше пользователей</td>\n",
       "      <td>40.0</td>\n",
       "    </tr>\n",
       "    <tr>\n",
       "      <th>6</th>\n",
       "      <td>Показать на главной странице баннеры с актуальными акциями и распродажами, чтобы увеличить конверсию</td>\n",
       "      <td>40.0</td>\n",
       "    </tr>\n",
       "    <tr>\n",
       "      <th>8</th>\n",
       "      <td>Запустить акцию, дающую скидку на товар в день рождения</td>\n",
       "      <td>16.2</td>\n",
       "    </tr>\n",
       "    <tr>\n",
       "      <th>3</th>\n",
       "      <td>Изменить структура категорий, что увеличит конверсию, т.к. пользователи быстрее найдут нужный товар</td>\n",
       "      <td>9.0</td>\n",
       "    </tr>\n",
       "    <tr>\n",
       "      <th>1</th>\n",
       "      <td>Запустить собственную службу доставки, что сократит срок доставки заказов</td>\n",
       "      <td>4.0</td>\n",
       "    </tr>\n",
       "    <tr>\n",
       "      <th>5</th>\n",
       "      <td>Добавить страницу отзывов клиентов о магазине, что позволит увеличить количество заказов</td>\n",
       "      <td>4.0</td>\n",
       "    </tr>\n",
       "    <tr>\n",
       "      <th>4</th>\n",
       "      <td>Изменить цвет фона главной страницы, чтобы увеличить вовлеченность пользователей</td>\n",
       "      <td>3.0</td>\n",
       "    </tr>\n",
       "  </tbody>\n",
       "</table>\n",
       "</div>"
      ],
      "text/plain": [
       "                                                                                                     Hypothesis  \\\n",
       "7              Добавить форму подписки на все основные страницы, чтобы собрать базу клиентов для email-рассылок   \n",
       "2  Добавить блоки рекомендаций товаров на сайт интернет магазина, чтобы повысить конверсию и средний чек заказа   \n",
       "0            Добавить два новых канала привлечения трафика, что позволит привлекать на 30% больше пользователей   \n",
       "6          Показать на главной странице баннеры с актуальными акциями и распродажами, чтобы увеличить конверсию   \n",
       "8                                                       Запустить акцию, дающую скидку на товар в день рождения   \n",
       "3           Изменить структура категорий, что увеличит конверсию, т.к. пользователи быстрее найдут нужный товар   \n",
       "1                                     Запустить собственную службу доставки, что сократит срок доставки заказов   \n",
       "5                      Добавить страницу отзывов клиентов о магазине, что позволит увеличить количество заказов   \n",
       "4                              Изменить цвет фона главной страницы, чтобы увеличить вовлеченность пользователей   \n",
       "\n",
       "    RICE  \n",
       "7  112.0  \n",
       "2   56.0  \n",
       "0   40.0  \n",
       "6   40.0  \n",
       "8   16.2  \n",
       "3    9.0  \n",
       "1    4.0  \n",
       "5    4.0  \n",
       "4    3.0  "
      ]
     },
     "execution_count": 9,
     "metadata": {},
     "output_type": "execute_result"
    }
   ],
   "source": [
    "# оцениваю приоритезацию по параметрам RICE\n",
    "hypothesis['RICE'] = hypothesis['Reach'] * hypothesis['Impact'] * hypothesis['Confidence'] / hypothesis['Efforts']\n",
    "hypothesis[['Hypothesis', 'RICE']].sort_values(by='RICE', ascending=False)"
   ]
  },
  {
   "cell_type": "markdown",
   "id": "09f7ec81",
   "metadata": {},
   "source": [
    "С учетом оценки охвата пользователей лидируют гипотезы 7, 2, 0 и 6 "
   ]
  },
  {
   "cell_type": "markdown",
   "id": "da5421f5",
   "metadata": {},
   "source": [
    "### Результаты приоритизации гипотез\n",
    "Хотя на первый взгляд влияние на пользователей при одинаковой, средней оценке затрат сильнее у гипотезы 8, запустить акцию со скидкой в день рожденья, учитывая количество затронутых пользователей наиболее перспективной гипотезой будет 7-я, добавить форму подписки на все основные страницы, чтобы собрать базу клиентов для email-рассылок."
   ]
  },
  {
   "cell_type": "markdown",
   "id": "bd4f3284",
   "metadata": {},
   "source": [
    "## Анализ A/B-теста"
   ]
  },
  {
   "cell_type": "code",
   "execution_count": 10,
   "id": "d9df4bb0",
   "metadata": {},
   "outputs": [
    {
     "data": {
      "image/png": "[encoded data removed]",
      "text/plain": [
       "<Figure size 864x360 with 1 Axes>"
      ]
     },
     "metadata": {
      "needs_background": "light"
     },
     "output_type": "display_data"
    }
   ],
   "source": [
    "# создаею массив уникальных пар значений дат и групп теста\n",
    "datesGroups = orders[['date', 'group']].drop_duplicates()\n",
    "\n",
    "# собираю агрегированные кумулятивные по дням данные о заказах\n",
    "ordersAggregated = datesGroups.apply(\n",
    "    lambda x: orders[np.logical_and(orders['date'] <= x['date'], orders['group'] == x['group'])].agg({\n",
    "        'date': 'max',\n",
    "        'group': 'max',\n",
    "        'transactionId': 'nunique',\n",
    "        'visitorId': 'nunique',\n",
    "        'revenue': 'sum',}),axis=1,).sort_values(by=['date', 'group'])\n",
    "\n",
    "# собираю агрегированные кумулятивные по дням данные о посетителях\n",
    "visitorsAggregated = datesGroups.apply(\n",
    "    lambda x: visitors[np.logical_and(visitors['date'] <= x['date'], visitors['group'] == x['group'])].agg({\n",
    "        'date': 'max', \n",
    "        'group': 'max', \n",
    "        'visitors': 'sum'}),axis=1,).sort_values(by=['date', 'group'])\n",
    "\n",
    "# объединяю кумулятивные данные в одной таблице, переименовываю столбцы\n",
    "cumulativeData = ordersAggregated.merge(visitorsAggregated, left_on=['date', 'group'], right_on=['date', 'group'])\n",
    "cumulativeData.columns = ['date', 'group', 'orders', 'buyers', 'revenue', 'visitors']\n",
    "\n",
    "# создаю датафрейм с кумулятивным количеством заказов и кумулятивной выручкой по дням по отдельным группам\n",
    "cumulativeRevenueA = cumulativeData[cumulativeData['group']=='A'][['date', 'revenue', 'orders']]\n",
    "cumulativeRevenueB = cumulativeData[cumulativeData['group']=='B'][['date', 'revenue', 'orders']]\n",
    "\n",
    "# строю график кумулятивной выручки по группам\n",
    "plt.figure(figsize=(12,5))\n",
    "plt.plot(cumulativeRevenueA['date'], cumulativeRevenueA['revenue'], label='A')\n",
    "plt.plot(cumulativeRevenueB['date'], cumulativeRevenueB['revenue'], label='B')\n",
    "plt.legend()\n",
    "plt.xlabel('Дата')\n",
    "plt.ylabel('Сумма выручки')\n",
    "plt.title('Динамика кумулятивной выручки')\n",
    "plt.show()"
   ]
  },
  {
   "cell_type": "markdown",
   "id": "c65bc7ab",
   "metadata": {},
   "source": [
    "### Кумулятивная выручка по группам\n",
    "Первую половину теста выручка почти равномерно увеличивается, причем почти сразу группа В лидирует, а в середине теста эта группа показала резкий скачек роста. Это может указывать как на всплеск заказов, так и на появление в выборке очень дорогих заказов, которые повлияют на результаты, что следует учесть в дальнейшем анализе."
   ]
  },
  {
   "cell_type": "code",
   "execution_count": 11,
   "id": "d55a77b3",
   "metadata": {},
   "outputs": [
    {
     "data": {
      "image/png": "[encoded data removed]",
      "text/plain": [
       "<Figure size 864x360 with 1 Axes>"
      ]
     },
     "metadata": {
      "needs_background": "light"
     },
     "output_type": "display_data"
    }
   ],
   "source": [
    "# строю график кумулятивного среднего чека по группам\n",
    "plt.figure(figsize=(12,5))\n",
    "plt.plot(cumulativeRevenueA['date'], cumulativeRevenueA['revenue']/cumulativeRevenueA['orders'], label='A')\n",
    "plt.plot(cumulativeRevenueB['date'], cumulativeRevenueB['revenue']/cumulativeRevenueB['orders'], label='B')\n",
    "plt.legend()\n",
    "plt.xlabel('Дата')\n",
    "plt.ylabel('Сумма чека')\n",
    "plt.title('Динамика кумулятивного среднего чека по группам')\n",
    "plt.show()"
   ]
  },
  {
   "cell_type": "markdown",
   "id": "024f2e79",
   "metadata": {},
   "source": [
    "###  Кумулятивный средний чек по группам\n",
    "В конце теста средний чек фиксируется для обеих групп. Однако различие в размере чека в конце теста по группам более двух тысяч, так как чек по группе В резко растет во второй половине теста, похоже, что в эту группу действительно попали крупные заказы, которые искажают результаты, потребуется дополнительный анализ этих выбросов. "
   ]
  },
  {
   "cell_type": "code",
   "execution_count": 12,
   "id": "8d321f8b",
   "metadata": {},
   "outputs": [
    {
     "data": {
      "image/png": "[encoded data removed]",
      "text/plain": [
       "<Figure size 864x360 with 1 Axes>"
      ]
     },
     "metadata": {
      "needs_background": "light"
     },
     "output_type": "display_data"
    }
   ],
   "source": [
    "# объеденяю кумулятивные данные\n",
    "mergedCumulativeRevenue = cumulativeRevenueA.merge(\n",
    "    cumulativeRevenueB, left_on='date', right_on='date', how='left', suffixes=['A', 'B'])\n",
    "\n",
    "# cтрою отношение средних чеков\n",
    "plt.figure(figsize=(12,5))\n",
    "plt.plot(mergedCumulativeRevenue['date'], \n",
    "         (mergedCumulativeRevenue['revenueB']/mergedCumulativeRevenue['ordersB'])/\n",
    "         (mergedCumulativeRevenue['revenueA']/mergedCumulativeRevenue['ordersA'])-1)\n",
    "plt.axhline(y=0, color='black', linestyle='--')\n",
    "plt.xlabel('Дата')\n",
    "plt.ylabel('Процент прироста')\n",
    "plt.title('Динамика отношения средних чеков')\n",
    "plt.show()"
   ]
  },
  {
   "cell_type": "markdown",
   "id": "57e49973",
   "metadata": {},
   "source": [
    "### Относительное изменения кумулятивного среднего чека\n",
    "Результаты теста значительно и резко менялись в несколько дат. Видимо именно тогда и были совершены аномальные заказы."
   ]
  },
  {
   "cell_type": "code",
   "execution_count": 13,
   "id": "bd66f6e1",
   "metadata": {},
   "outputs": [
    {
     "data": {
      "image/png": "[encoded data removed]",
      "text/plain": [
       "<Figure size 864x360 with 1 Axes>"
      ]
     },
     "metadata": {
      "needs_background": "light"
     },
     "output_type": "display_data"
    }
   ],
   "source": [
    "# считаю кумулятивное среднее количество заказов на посетителя по группам, т.е. конверсию\n",
    "cumulativeData['conversion'] = cumulativeData['orders']/cumulativeData['visitors']\n",
    "\n",
    "# отделяю данные по группам\n",
    "cumulativeDataA = cumulativeData[cumulativeData['group']=='A']\n",
    "cumulativeDataB = cumulativeData[cumulativeData['group']=='B']\n",
    "\n",
    "# строю графики\n",
    "plt.figure(figsize=(12,5))\n",
    "plt.plot(cumulativeDataA['date'], cumulativeDataA['conversion'], label='A')\n",
    "plt.plot(cumulativeDataB['date'], cumulativeDataB['conversion'], label='B')\n",
    "plt.legend()\n",
    "plt.axis([dt.datetime(2019, 8, 1), dt.datetime(2019, 8, 31), 0, 0.04])\n",
    "plt.xlabel('Дата')\n",
    "plt.ylabel('Процент заказов')\n",
    "plt.title('Динамика конверсии')\n",
    "plt.show()"
   ]
  },
  {
   "cell_type": "markdown",
   "id": "04e66f3d",
   "metadata": {},
   "source": [
    "### Кумулятивное среднее количество заказов на посетителя по группам\n",
    "Лишь в начале теста группа А имела большую конверсию, но почти сразу конверсия группы В подросла и вырвалась вперед, а у группы А чуть снизилась и значения по обеим группам зафиксировались. Абсолютное колебание вначале и в конце теста, как и отличие между группами не очень большое, в пределах 1%."
   ]
  },
  {
   "cell_type": "code",
   "execution_count": 14,
   "id": "4a7c61f3",
   "metadata": {},
   "outputs": [
    {
     "data": {
      "image/png": "[encoded data removed]",
      "text/plain": [
       "<Figure size 864x360 with 1 Axes>"
      ]
     },
     "metadata": {
      "needs_background": "light"
     },
     "output_type": "display_data"
    }
   ],
   "source": [
    "# объеденяю кумулятивные данные\n",
    "mergedCumulativeConversions = cumulativeDataA[['date', 'conversion']].merge(\n",
    "    cumulativeDataB[['date', 'conversion']], left_on='date', right_on='date', how='left', suffixes=['A', 'B'])\n",
    "\n",
    "# строю график относительного изменения кумулятивного среднего количества заказов на посетителя группы B к группе A\n",
    "plt.figure(figsize=(12,5))\n",
    "plt.plot(mergedCumulativeConversions['date'], \n",
    "         mergedCumulativeConversions['conversionB']/mergedCumulativeConversions['conversionA']-1, \n",
    "         label=\"Относительный прирост конверсии группы B относительно группы A\")\n",
    "plt.legend()\n",
    "plt.axhline(y=0, color='black', linestyle='--')\n",
    "plt.axhline(y=0.14, color='grey', linestyle='--')\n",
    "plt.axis([dt.datetime(2019, 8, 1), dt.datetime(2019, 8, 31), -0.2, 0.25])\n",
    "plt.xlabel('Дата')\n",
    "plt.ylabel('Процент прироста')\n",
    "plt.show()"
   ]
  },
  {
   "cell_type": "markdown",
   "id": "f4d4b41f",
   "metadata": {},
   "source": [
    "### Относительное изменение кумулятивного среднего количества заказов\n",
    "Группа В заняла лидирующее положение по конверсии в первые пять дней теста и продолжила расти до 20% в течени двух недель, после чего снизилась до 10% и опять показала рост. В целом отношение конверсии ещё не установилось."
   ]
  },
  {
   "cell_type": "code",
   "execution_count": 15,
   "id": "997af533",
   "metadata": {},
   "outputs": [
    {
     "data": {
      "image/png": "[encoded data removed]",
      "text/plain": [
       "<Figure size 432x288 with 1 Axes>"
      ]
     },
     "metadata": {
      "needs_background": "light"
     },
     "output_type": "display_data"
    }
   ],
   "source": [
    "# нахожу число заказов по пользователям\n",
    "ordersByUsers = (\n",
    "    orders.groupby('visitorId', as_index=False)\n",
    "    .agg({'transactionId': 'nunique'})\n",
    ")\n",
    "ordersByUsers.columns = ['userId', 'orders']\n",
    "#ordersByUsers.sort_values(by='orders', ascending=False).head(10)\n",
    "\n",
    "# серия из чисел от 0 до количества наблюдений в ordersByUsers\n",
    "x_values = pd.Series(range(0, len(ordersByUsers)))\n",
    "\n",
    "# строю точечный график количества заказов по пользователям\n",
    "plt.scatter(x_values, ordersByUsers['orders'])\n",
    "plt.xlabel('Количество пользователей')\n",
    "plt.ylabel('Количество заказов')\n",
    "plt.title('Количества заказов по пользователям')\n",
    "plt.show()"
   ]
  },
  {
   "cell_type": "code",
   "execution_count": 16,
   "id": "88498700",
   "metadata": {},
   "outputs": [
    {
     "data": {
      "text/plain": [
       "array([2., 4.])"
      ]
     },
     "execution_count": 16,
     "metadata": {},
     "output_type": "execute_result"
    }
   ],
   "source": [
    "# считаю 95-й и 99-й перцентили количества заказов на одного пользователя\n",
    "np.percentile(ordersByUsers['orders'], [95, 99])"
   ]
  },
  {
   "cell_type": "markdown",
   "id": "ba7a2b58",
   "metadata": {},
   "source": [
    "### Количество заказов по пользователям\n",
    "Пользователей, заказавших более 2х раз совсем мало, они вполне могут быть аномальными, так как не более 5% пользователей совершали больше 2х заказов и не более 1% пользователей - больше 4х заказов. Таким образом можно определить 4 заказа на пользователя как верхнюю границу числа заказов и отсеять по ней 1% пользователей с большим числом заказов."
   ]
  },
  {
   "cell_type": "code",
   "execution_count": 17,
   "id": "653aa8db",
   "metadata": {},
   "outputs": [
    {
     "data": {
      "image/png": "[encoded data removed]",
      "text/plain": [
       "<Figure size 432x288 with 1 Axes>"
      ]
     },
     "metadata": {
      "needs_background": "light"
     },
     "output_type": "display_data"
    }
   ],
   "source": [
    "# серия из чисел от 0 до количества наблюдений в orders\n",
    "x_values = pd.Series(range(0, len(orders['revenue'])))\n",
    "\n",
    "# строю точечный график стоимостей заказов\n",
    "plt.scatter(x_values, orders['revenue'])\n",
    "plt.xlabel('Количество пользователей')\n",
    "plt.ylabel('Сумма заказа')\n",
    "plt.title('График стоимостей заказов')\n",
    "plt.show()"
   ]
  },
  {
   "cell_type": "code",
   "execution_count": 18,
   "id": "139bfd34",
   "metadata": {},
   "outputs": [
    {
     "data": {
      "image/png": "[encoded data removed]",
      "text/plain": [
       "<Figure size 432x288 with 1 Axes>"
      ]
     },
     "metadata": {
      "needs_background": "light"
     },
     "output_type": "display_data"
    }
   ],
   "source": [
    "# строю точечный график стоимостей заказов с ограничением лимитов\n",
    "plt.scatter(x_values, orders['revenue'])\n",
    "plt.ylim([0, 100000])\n",
    "plt.xlabel('Количество пользователей')\n",
    "plt.ylabel('Сумма заказа')\n",
    "plt.title('График стоимостей заказов')\n",
    "plt.show()"
   ]
  },
  {
   "cell_type": "code",
   "execution_count": 19,
   "id": "efb0816a",
   "metadata": {},
   "outputs": [
    {
     "data": {
      "text/plain": [
       "array([28000. , 58233.2])"
      ]
     },
     "execution_count": 19,
     "metadata": {},
     "output_type": "execute_result"
    }
   ],
   "source": [
    "# считаю 95-й и 99-й перцентили стоимости заказов\n",
    "np.percentile(orders['revenue'], [95, 99])"
   ]
  },
  {
   "cell_type": "markdown",
   "id": "27e8bdad",
   "metadata": {},
   "source": [
    "### Стоимость заказов\n",
    "Заказов стоимостью более 50 000 не очень много. Есть выбросы в районе 200 000 и в районе 1 300 000, но в целом основной объем заказов сосредоточен в диапазоне до 20 000. Не более чем у 5% заказов чек выше 28 000 и не больше чем у 1% заказов - выше 58 200. Поэтому исключим из дальнейшего исследования заказы стоимостью выше 30 000, то есть от 1% до 5% заказов с наибольшей стоимостью."
   ]
  },
  {
   "cell_type": "code",
   "execution_count": 20,
   "id": "6b6848c0",
   "metadata": {},
   "outputs": [],
   "source": [
    "# определяю пользователей в выбранную дату по группам\n",
    "visitorsADaily = visitors[visitors['group'] == 'A'][['date', 'visitors']]\n",
    "visitorsADaily.columns = ['date', 'visitorsPerDateA']\n",
    "\n",
    "visitorsBDaily = visitors[visitors['group'] == 'B'][['date', 'visitors']]\n",
    "visitorsBDaily.columns = ['date', 'visitorsPerDateB']\n",
    "\n",
    "# определяю кумулятивные значения количества пользователей по группам\n",
    "visitorsACummulative = visitorsADaily.apply(\n",
    "    lambda x: visitorsADaily[visitorsADaily['date'] <= x['date']]\n",
    "    .agg({'date': 'max', 'visitorsPerDateA': 'sum'}), axis=1)\n",
    "visitorsACummulative.columns = ['date', 'visitorsCummulativeA']\n",
    "\n",
    "visitorsBCummulative = visitorsBDaily.apply(\n",
    "    lambda x: visitorsBDaily[visitorsBDaily['date'] <= x['date']]\n",
    "    .agg({'date': 'max', 'visitorsPerDateB': 'sum'}), axis=1)\n",
    "visitorsBCummulative.columns = ['date', 'visitorsCummulativeB']\n",
    "\n",
    "# определяю количество заказов и суммарную выручку в выбранную дату по группам\n",
    "ordersADaily = (orders[orders['group'] == 'A'][['date', 'transactionId', 'visitorId', 'revenue']]\n",
    "    .groupby('date', as_index=False).agg({'transactionId': pd.Series.nunique, 'revenue': 'sum'}))\n",
    "ordersADaily.columns = ['date', 'ordersPerDateA', 'revenuePerDateA']\n",
    "\n",
    "ordersBDaily = (orders[orders['group'] == 'B'][['date', 'transactionId', 'visitorId', 'revenue']]\n",
    "    .groupby('date', as_index=False).agg({'transactionId': pd.Series.nunique, 'revenue': 'sum'}))\n",
    "ordersBDaily.columns = ['date', 'ordersPerDateB', 'revenuePerDateB']\n",
    "\n",
    "# определяю кумулятивные значения количества заказов и суммы выручки по группам\n",
    "ordersACummulative = ordersADaily.apply(\n",
    "    lambda x: ordersADaily[ordersADaily['date'] <= x['date']]\n",
    "    .agg({'date': 'max', 'ordersPerDateA': 'sum', 'revenuePerDateA': 'sum'}), axis=1).sort_values(by=['date'])\n",
    "ordersACummulative.columns = ['date', 'ordersCummulativeA', 'revenueCummulativeA']\n",
    "\n",
    "ordersBCummulative = ordersBDaily.apply(\n",
    "    lambda x: ordersBDaily[ordersBDaily['date'] <= x['date']]\n",
    "    .agg({'date': 'max', 'ordersPerDateB': 'sum', 'revenuePerDateB': 'sum'}), axis=1).sort_values(by=['date'])\n",
    "ordersBCummulative.columns = ['date', 'ordersCummulativeB', 'revenueCummulativeB']\n",
    "\n",
    "# объединяю полученные таблицы\n",
    "data = (ordersADaily.merge(ordersBDaily, left_on='date', right_on='date', how='left')\n",
    "        .merge(ordersACummulative, left_on='date', right_on='date', how='left')\n",
    "        .merge(ordersBCummulative, left_on='date', right_on='date', how='left')\n",
    "        .merge(visitorsADaily, left_on='date', right_on='date', how='left')\n",
    "        .merge(visitorsBDaily, left_on='date', right_on='date', how='left')\n",
    "        .merge(visitorsACummulative, left_on='date', right_on='date', how='left')\n",
    "        .merge(visitorsBCummulative, left_on='date', right_on='date', how='left'))\n",
    "\n",
    "# считаю число совершенных заказов по группам для пользователей, которые заказали хотя бы 1 раз\n",
    "ordersByUsersA = (orders[orders['group'] == 'A'].groupby('visitorId', as_index=False).agg({'transactionId': pd.Series.nunique}))\n",
    "ordersByUsersA.columns = ['userId', 'orders']\n",
    "ordersByUsersB = (orders[orders['group'] == 'B'].groupby('visitorId', as_index=False).agg({'transactionId': pd.Series.nunique}))\n",
    "ordersByUsersB.columns = ['userId', 'orders']\n",
    "\n",
    "# создаю списки с количеством заказов для каждого из пользователей по группам\n",
    "sampleA = pd.concat([ordersByUsersA['orders'],\n",
    "                     pd.Series(0, index=np.arange(data['visitorsPerDateA'].sum() - \n",
    "                                                  len(ordersByUsersA['orders'])), name='orders')], axis=0)\n",
    "\n",
    "sampleB = pd.concat([ordersByUsersB['orders'],\n",
    "                     pd.Series(0, index=np.arange(data['visitorsPerDateB'].sum() - \n",
    "                                                  len(ordersByUsersB['orders'])), name='orders')],axis=0)"
   ]
  },
  {
   "cell_type": "markdown",
   "id": "6b0c70ea",
   "metadata": {},
   "source": [
    "*Гипотезы:*\n",
    "* H0: различий в среднем количестве заказов между группами нет.\n",
    "* H1: различия в среднем между группами есть."
   ]
  },
  {
   "cell_type": "code",
   "execution_count": 21,
   "id": "9965ab58",
   "metadata": {},
   "outputs": [
    {
     "data": {
      "text/plain": [
       "'p-value:'"
      ]
     },
     "metadata": {},
     "output_type": "display_data"
    },
    {
     "data": {
      "text/plain": [
       "'0.017'"
      ]
     },
     "metadata": {},
     "output_type": "display_data"
    },
    {
     "data": {
      "text/plain": [
       "'Различие в средних:'"
      ]
     },
     "metadata": {},
     "output_type": "display_data"
    },
    {
     "data": {
      "text/plain": [
       "'0.138'"
      ]
     },
     "metadata": {},
     "output_type": "display_data"
    }
   ],
   "source": [
    "# считаю статистическую значимость различий в среднем количестве заказов на посетителя между группами по «сырым» данным\n",
    "display('p-value:', \"{0:.3f}\".format(stats.mannwhitneyu(sampleA, sampleB)[1]))\n",
    "\n",
    "# вычисляю относительное различие в среднем между группами\n",
    "display('Различие в средних:', \"{0:.3f}\".format(sampleB.mean() / sampleA.mean() - 1))"
   ]
  },
  {
   "cell_type": "markdown",
   "id": "eea85372",
   "metadata": {},
   "source": [
    "### Различия в среднем количестве заказов, сырые данные\n",
    "P-value меньше 0.05, что указывает на то, что в среднем количестве заказов между группами есть статистически значимые различия. Относительный прирост среднего группы В к конверсии группы А равен 13.8% "
   ]
  },
  {
   "cell_type": "markdown",
   "id": "6cbcfa44",
   "metadata": {},
   "source": [
    "*Гипотезы:*\n",
    "* H0: различий в среднем чеке между группами нет.\n",
    "* H1: различия в среднем чеке между группами есть."
   ]
  },
  {
   "cell_type": "code",
   "execution_count": 22,
   "id": "f543301f",
   "metadata": {},
   "outputs": [
    {
     "data": {
      "text/plain": [
       "'p-value:'"
      ]
     },
     "metadata": {},
     "output_type": "display_data"
    },
    {
     "data": {
      "text/plain": [
       "'0.729'"
      ]
     },
     "metadata": {},
     "output_type": "display_data"
    },
    {
     "data": {
      "text/plain": [
       "'Различие в средних чеках:'"
      ]
     },
     "metadata": {},
     "output_type": "display_data"
    },
    {
     "data": {
      "text/plain": [
       "'0.259'"
      ]
     },
     "metadata": {},
     "output_type": "display_data"
    }
   ],
   "source": [
    "# считаю статистическую значимость различий в среднем чеке заказа между группами по «сырым» данным\n",
    "display('p-value:', '{0:.3f}'.format(stats.mannwhitneyu(orders[orders['group']=='A']['revenue'], orders[orders['group']=='B']['revenue'])[1]))\n",
    "\n",
    "# вычисляю относительные различия в среднем чеке между группами\n",
    "display('Различие в средних чеках:', '{0:.3f}'.format(orders[orders['group']=='B']['revenue'].mean()/orders[orders['group']=='A']['revenue'].mean()-1))"
   ]
  },
  {
   "cell_type": "markdown",
   "id": "d4566f63",
   "metadata": {},
   "source": [
    "### Различия в среднем чеке, сырые данные\n",
    "P-value больше 0.05 - статистически значимых отличий в среднем чеке между группами нет. При этом, средний чек группы B показан значительно ниже среднего чека группы A, что могло произойти под влиянием анамально дорогих покупок."
   ]
  },
  {
   "cell_type": "code",
   "execution_count": 23,
   "id": "41ee1e8e",
   "metadata": {},
   "outputs": [],
   "source": [
    "# готовлю срезы пользователей с числом заказов больше 4 и совершивших заказы дороже 30 000\n",
    "usersWithManyOrders = pd.concat([\n",
    "    ordersByUsersA[ordersByUsersA['orders'] > np.percentile(ordersByUsers['orders'], [95, 99])[1]]['userId'], \n",
    "    ordersByUsersB[ordersByUsersB['orders'] > np.percentile(ordersByUsers['orders'], [95, 99])[1]]['userId']], axis=0)\n",
    "usersWithExpensiveOrders = orders[orders['revenue'] > 30000]['visitorId']\n",
    "\n",
    "# объединяю очищенные от аномалий данные\n",
    "abnormalUsers = (pd.concat([usersWithManyOrders, usersWithExpensiveOrders], axis=0).drop_duplicates().sort_values())"
   ]
  },
  {
   "cell_type": "code",
   "execution_count": 24,
   "id": "824082a2",
   "metadata": {},
   "outputs": [
    {
     "name": "stdout",
     "output_type": "stream",
     "text": [
      "p-value: 0.019\n",
      "Различие в среднем количестве заказов: 0.144\n"
     ]
    }
   ],
   "source": [
    "# считаю статистическую значимость различия среднего количества заказов после удаления аномальных пользователей\n",
    "sampleAFiltered = pd.concat(\n",
    "    [\n",
    "        ordersByUsersA[\n",
    "            np.logical_not(ordersByUsersA['userId'].isin(abnormalUsers))\n",
    "        ]['orders'],\n",
    "        pd.Series(\n",
    "            0,\n",
    "            index=np.arange(\n",
    "                data['visitorsPerDateA'].sum() - len(ordersByUsersA['orders'])\n",
    "            ),\n",
    "            name='orders',\n",
    "        ),\n",
    "    ],\n",
    "    axis=0,\n",
    ")\n",
    "\n",
    "sampleBFiltered = pd.concat(\n",
    "    [\n",
    "        ordersByUsersB[\n",
    "            np.logical_not(ordersByUsersB['userId'].isin(abnormalUsers))\n",
    "        ]['orders'],\n",
    "        pd.Series(\n",
    "            0,\n",
    "            index=np.arange(\n",
    "                data['visitorsPerDateB'].sum() - len(ordersByUsersB['orders'])\n",
    "            ),\n",
    "            name='orders',\n",
    "        ),\n",
    "    ],\n",
    "    axis=0,\n",
    ")\n",
    "print('p-value:', '{0:.3f}'.format(stats.mannwhitneyu(sampleAFiltered, sampleBFiltered)[1]))\n",
    "print('Различие в среднем количестве заказов:', '{0:.3f}'.format(sampleBFiltered.mean()/sampleAFiltered.mean()-1))"
   ]
  },
  {
   "cell_type": "markdown",
   "id": "d442d64b",
   "metadata": {},
   "source": [
    "### Различия в среднем количестве заказов, чистые данные\n",
    "Как и в случае с сырыми данными статистическая значимость достигнута, а значит есть значимые различия в среднем количестве заказов между группами. Так как сегмент В дает прирост в среднем количестве заказов к сегменту А в 14%, то сегмент В значительно лучше сегмента А."
   ]
  },
  {
   "cell_type": "code",
   "execution_count": 25,
   "id": "bfa91cbf",
   "metadata": {},
   "outputs": [
    {
     "name": "stdout",
     "output_type": "stream",
     "text": [
      "p-value: 0.979\n",
      "Различие в средних чеках: -0.017\n"
     ]
    }
   ],
   "source": [
    "# считаю статистическую значимость различия в среднем чеке заказа после удаления аномальных пользователей\n",
    "print('p-value:',\n",
    "    '{0:.3f}'.format(\n",
    "        stats.mannwhitneyu(\n",
    "            orders[\n",
    "                np.logical_and(\n",
    "                    orders['group'] == 'A',\n",
    "                    np.logical_not(orders['visitorId'].isin(abnormalUsers)),\n",
    "                )\n",
    "            ]['revenue'],\n",
    "            orders[\n",
    "                np.logical_and(\n",
    "                    orders['group'] == 'B',\n",
    "                    np.logical_not(orders['visitorId'].isin(abnormalUsers)),\n",
    "                )\n",
    "            ]['revenue'],\n",
    "        )[1]\n",
    "    )\n",
    ")\n",
    "\n",
    "print('Различие в средних чеках:', \n",
    "    \"{0:.3f}\".format(\n",
    "        orders[\n",
    "            np.logical_and(\n",
    "                orders['group'] == 'B',\n",
    "                np.logical_not(orders['visitorId'].isin(abnormalUsers)),\n",
    "            )\n",
    "        ]['revenue'].mean()\n",
    "        / orders[\n",
    "            np.logical_and(\n",
    "                orders['group'] == 'A',\n",
    "                np.logical_not(orders['visitorId'].isin(abnormalUsers)),\n",
    "            )\n",
    "        ]['revenue'].mean()\n",
    "        - 1\n",
    "    )\n",
    ")"
   ]
  },
  {
   "cell_type": "markdown",
   "id": "d49344e0",
   "metadata": {},
   "source": [
    "### Различия в среднем чеке, чистые данные\n",
    "P-value только увеличился, статистически значимых отличий в среднем чеке между группами нет, но разница между сегментами сократилась с 26% до 1.7%."
   ]
  },
  {
   "cell_type": "markdown",
   "id": "17f36e40",
   "metadata": {},
   "source": [
    "## Выводы и решение\n",
    "По итогам А/В-теста интернет-магазина определено:\n",
    "* Есть статистически значимое различие по конверсии между группами как по \"сырым\" данным, так и после фильтрации аномалий.\n",
    "* Нет статистически значимого различия по среднему чеку между группами ни по \"сырым\", ни по данным после фильтрации аномалий.\n",
    "* График различия конверсии между группами сообщает, что результаты группы B лучше группы A: имеют тенденцию к росту.\n",
    "* График различия среднего чека колеблется, благодаря этому удалось найти аномалии. Сделать из этого графика определённые выводы нельзя.\n",
    "\n",
    "Исходя из обнаруженных фактов, тест следует остановить и признать его успешным, так как конверсия в покупателей группы В превосходит конверсию группы А, при этом различий в среднем чеке не наблюдается."
   ]
  },
  {
   "cell_type": "code",
   "execution_count": null,
   "id": "61a499b1",
   "metadata": {},
   "outputs": [],
   "source": []
  }
 ],
 "metadata": {
  "ExecuteTimeLog": [
   {
    "duration": 1328,
    "start_time": "2023-04-27T09:05:04.991Z"
   },
   {
    "duration": 265,
    "start_time": "2023-04-27T09:05:06.321Z"
   },
   {
    "duration": 22,
    "start_time": "2023-04-27T09:05:06.588Z"
   },
   {
    "duration": 8,
    "start_time": "2023-04-27T09:05:06.612Z"
   },
   {
    "duration": 14,
    "start_time": "2023-04-27T09:05:06.622Z"
   },
   {
    "duration": 4,
    "start_time": "2023-04-27T09:05:06.637Z"
   },
   {
    "duration": 25,
    "start_time": "2023-04-27T09:05:06.642Z"
   },
   {
    "duration": 43,
    "start_time": "2023-04-27T09:05:06.669Z"
   },
   {
    "duration": 11,
    "start_time": "2023-04-27T09:05:06.714Z"
   },
   {
    "duration": 10,
    "start_time": "2023-04-27T09:05:06.728Z"
   },
   {
    "duration": 538,
    "start_time": "2023-04-27T09:05:06.740Z"
   },
   {
    "duration": 190,
    "start_time": "2023-04-27T09:05:07.279Z"
   },
   {
    "duration": 367,
    "start_time": "2023-04-27T09:05:07.471Z"
   },
   {
    "duration": 196,
    "start_time": "2023-04-27T09:05:07.840Z"
   },
   {
    "duration": 313,
    "start_time": "2023-04-27T09:05:08.038Z"
   },
   {
    "duration": 120,
    "start_time": "2023-04-27T09:05:08.353Z"
   },
   {
    "duration": 5,
    "start_time": "2023-04-27T09:05:08.476Z"
   },
   {
    "duration": 143,
    "start_time": "2023-04-27T09:05:08.483Z"
   },
   {
    "duration": 6,
    "start_time": "2023-04-27T09:05:08.628Z"
   },
   {
    "duration": 391,
    "start_time": "2023-04-27T09:05:08.635Z"
   },
   {
    "duration": 12,
    "start_time": "2023-04-27T09:05:09.028Z"
   },
   {
    "duration": 8,
    "start_time": "2023-04-27T09:05:09.042Z"
   },
   {
    "duration": 43,
    "start_time": "2023-04-27T09:05:09.052Z"
   },
   {
    "duration": 16,
    "start_time": "2023-04-27T09:05:09.111Z"
   },
   {
    "duration": 1222,
    "start_time": "2023-04-27T11:20:20.144Z"
   },
   {
    "duration": 232,
    "start_time": "2023-04-27T11:20:21.368Z"
   },
   {
    "duration": 20,
    "start_time": "2023-04-27T11:20:21.601Z"
   },
   {
    "duration": 9,
    "start_time": "2023-04-27T11:20:21.623Z"
   },
   {
    "duration": 12,
    "start_time": "2023-04-27T11:20:21.634Z"
   },
   {
    "duration": 5,
    "start_time": "2023-04-27T11:20:21.648Z"
   },
   {
    "duration": 44,
    "start_time": "2023-04-27T11:20:21.655Z"
   },
   {
    "duration": 95,
    "start_time": "2023-04-27T11:25:32.970Z"
   },
   {
    "duration": 11,
    "start_time": "2023-04-27T11:25:43.820Z"
   },
   {
    "duration": 10,
    "start_time": "2023-04-27T11:36:19.766Z"
   },
   {
    "duration": 13,
    "start_time": "2023-04-27T11:39:46.450Z"
   },
   {
    "duration": 9,
    "start_time": "2023-04-27T11:40:43.817Z"
   },
   {
    "duration": 303,
    "start_time": "2023-04-27T11:46:01.112Z"
   },
   {
    "duration": 2,
    "start_time": "2023-04-27T11:50:10.489Z"
   },
   {
    "duration": 9,
    "start_time": "2023-04-27T11:52:38.121Z"
   },
   {
    "duration": 12,
    "start_time": "2023-04-27T11:53:21.755Z"
   },
   {
    "duration": 12,
    "start_time": "2023-04-27T11:54:11.148Z"
   },
   {
    "duration": 9,
    "start_time": "2023-04-27T11:54:55.812Z"
   },
   {
    "duration": 20,
    "start_time": "2023-04-27T11:57:40.410Z"
   },
   {
    "duration": 31,
    "start_time": "2023-04-27T12:05:54.253Z"
   },
   {
    "duration": 3,
    "start_time": "2023-04-27T12:08:46.842Z"
   },
   {
    "duration": 249,
    "start_time": "2023-04-27T12:17:33.836Z"
   },
   {
    "duration": 137,
    "start_time": "2023-04-27T12:18:08.554Z"
   },
   {
    "duration": 155,
    "start_time": "2023-04-27T12:20:44.756Z"
   },
   {
    "duration": 5,
    "start_time": "2023-04-27T12:23:08.636Z"
   },
   {
    "duration": 5,
    "start_time": "2023-04-27T12:23:31.448Z"
   },
   {
    "duration": 140,
    "start_time": "2023-04-27T12:23:50.739Z"
   },
   {
    "duration": 169,
    "start_time": "2023-04-27T12:24:18.413Z"
   },
   {
    "duration": 6,
    "start_time": "2023-04-27T12:25:15.671Z"
   },
   {
    "duration": 8,
    "start_time": "2023-04-27T12:26:21.927Z"
   },
   {
    "duration": 3,
    "start_time": "2023-04-27T12:27:42.505Z"
   },
   {
    "duration": 102,
    "start_time": "2023-04-27T12:27:42.510Z"
   },
   {
    "duration": 19,
    "start_time": "2023-04-27T12:27:42.614Z"
   },
   {
    "duration": 6,
    "start_time": "2023-04-27T12:27:42.635Z"
   },
   {
    "duration": 16,
    "start_time": "2023-04-27T12:27:42.643Z"
   },
   {
    "duration": 21,
    "start_time": "2023-04-27T12:27:42.661Z"
   },
   {
    "duration": 24,
    "start_time": "2023-04-27T12:27:42.684Z"
   },
   {
    "duration": 10,
    "start_time": "2023-04-27T12:27:42.709Z"
   },
   {
    "duration": 11,
    "start_time": "2023-04-27T12:27:42.721Z"
   },
   {
    "duration": 10,
    "start_time": "2023-04-27T12:27:42.733Z"
   },
   {
    "duration": 80,
    "start_time": "2023-04-27T12:27:42.745Z"
   },
   {
    "duration": 0,
    "start_time": "2023-04-27T12:27:42.827Z"
   },
   {
    "duration": 0,
    "start_time": "2023-04-27T12:27:42.828Z"
   },
   {
    "duration": 0,
    "start_time": "2023-04-27T12:27:42.829Z"
   },
   {
    "duration": 435,
    "start_time": "2023-04-27T12:27:53.467Z"
   },
   {
    "duration": 1376,
    "start_time": "2023-04-27T12:28:27.181Z"
   },
   {
    "duration": 241,
    "start_time": "2023-04-27T12:31:08.853Z"
   },
   {
    "duration": 191,
    "start_time": "2023-04-27T12:33:04.456Z"
   },
   {
    "duration": 199,
    "start_time": "2023-04-27T12:33:44.606Z"
   },
   {
    "duration": 204,
    "start_time": "2023-04-27T12:37:46.702Z"
   },
   {
    "duration": 214,
    "start_time": "2023-04-27T12:39:19.884Z"
   },
   {
    "duration": 237,
    "start_time": "2023-04-27T12:53:37.743Z"
   },
   {
    "duration": 12,
    "start_time": "2023-04-27T12:56:19.922Z"
   },
   {
    "duration": 12,
    "start_time": "2023-04-27T12:58:06.636Z"
   },
   {
    "duration": 4,
    "start_time": "2023-04-27T12:58:38.027Z"
   },
   {
    "duration": 460,
    "start_time": "2023-04-27T13:01:18.544Z"
   },
   {
    "duration": 196,
    "start_time": "2023-04-27T13:04:04.208Z"
   },
   {
    "duration": 189,
    "start_time": "2023-04-27T13:05:41.034Z"
   },
   {
    "duration": 346,
    "start_time": "2023-04-27T13:07:52.436Z"
   },
   {
    "duration": 215,
    "start_time": "2023-04-27T13:09:36.776Z"
   },
   {
    "duration": 394,
    "start_time": "2023-04-27T13:10:31.528Z"
   },
   {
    "duration": 137,
    "start_time": "2023-04-27T13:13:02.849Z"
   },
   {
    "duration": 132,
    "start_time": "2023-04-27T13:17:33.526Z"
   },
   {
    "duration": 1219,
    "start_time": "2023-04-28T06:31:10.764Z"
   },
   {
    "duration": 209,
    "start_time": "2023-04-28T06:31:11.985Z"
   },
   {
    "duration": 21,
    "start_time": "2023-04-28T06:31:12.196Z"
   },
   {
    "duration": 8,
    "start_time": "2023-04-28T06:31:12.219Z"
   },
   {
    "duration": 17,
    "start_time": "2023-04-28T06:31:12.228Z"
   },
   {
    "duration": 7,
    "start_time": "2023-04-28T06:31:12.246Z"
   },
   {
    "duration": 25,
    "start_time": "2023-04-28T06:31:12.254Z"
   },
   {
    "duration": 338,
    "start_time": "2023-04-28T06:31:12.280Z"
   },
   {
    "duration": 3,
    "start_time": "2023-04-28T06:31:12.619Z"
   },
   {
    "duration": 20,
    "start_time": "2023-04-28T06:31:12.624Z"
   },
   {
    "duration": 13,
    "start_time": "2023-04-28T06:31:12.646Z"
   },
   {
    "duration": 537,
    "start_time": "2023-04-28T06:31:12.662Z"
   },
   {
    "duration": 227,
    "start_time": "2023-04-28T06:31:13.201Z"
   },
   {
    "duration": 366,
    "start_time": "2023-04-28T06:31:13.430Z"
   },
   {
    "duration": 230,
    "start_time": "2023-04-28T06:31:13.798Z"
   },
   {
    "duration": 351,
    "start_time": "2023-04-28T06:31:14.029Z"
   },
   {
    "duration": 143,
    "start_time": "2023-04-28T06:31:14.382Z"
   },
   {
    "duration": 5,
    "start_time": "2023-04-28T06:31:14.527Z"
   },
   {
    "duration": 165,
    "start_time": "2023-04-28T06:31:14.533Z"
   },
   {
    "duration": 309,
    "start_time": "2023-04-28T06:35:42.294Z"
   },
   {
    "duration": 142,
    "start_time": "2023-04-28T06:37:06.847Z"
   },
   {
    "duration": 151,
    "start_time": "2023-04-28T06:40:04.469Z"
   },
   {
    "duration": 146,
    "start_time": "2023-04-28T06:40:12.967Z"
   },
   {
    "duration": 149,
    "start_time": "2023-04-28T06:40:59.469Z"
   },
   {
    "duration": 162,
    "start_time": "2023-04-28T06:41:32.812Z"
   },
   {
    "duration": 141,
    "start_time": "2023-04-28T06:52:03.301Z"
   },
   {
    "duration": 147,
    "start_time": "2023-04-28T06:52:40.633Z"
   },
   {
    "duration": 138,
    "start_time": "2023-04-28T06:53:15.920Z"
   },
   {
    "duration": 142,
    "start_time": "2023-04-28T06:53:36.227Z"
   },
   {
    "duration": 5,
    "start_time": "2023-04-28T06:58:14.404Z"
   },
   {
    "duration": 4,
    "start_time": "2023-04-28T06:58:24.740Z"
   },
   {
    "duration": 136,
    "start_time": "2023-04-28T06:58:43.042Z"
   },
   {
    "duration": 140,
    "start_time": "2023-04-28T06:59:03.378Z"
   },
   {
    "duration": 222,
    "start_time": "2023-04-28T06:59:59.659Z"
   },
   {
    "duration": 158,
    "start_time": "2023-04-28T07:00:31.501Z"
   },
   {
    "duration": 212,
    "start_time": "2023-04-28T07:02:27.121Z"
   },
   {
    "duration": 170,
    "start_time": "2023-04-28T07:03:29.112Z"
   },
   {
    "duration": 139,
    "start_time": "2023-04-28T07:03:58.280Z"
   },
   {
    "duration": 5,
    "start_time": "2023-04-28T07:07:46.381Z"
   },
   {
    "duration": 395,
    "start_time": "2023-04-28T07:46:27.777Z"
   },
   {
    "duration": 390,
    "start_time": "2023-04-28T07:47:26.659Z"
   },
   {
    "duration": 384,
    "start_time": "2023-04-28T07:47:39.154Z"
   },
   {
    "duration": 356,
    "start_time": "2023-04-28T07:50:51.104Z"
   },
   {
    "duration": 28,
    "start_time": "2023-04-28T07:54:16.543Z"
   },
   {
    "duration": 77,
    "start_time": "2023-04-28T07:55:48.038Z"
   },
   {
    "duration": 14,
    "start_time": "2023-04-28T08:13:22.982Z"
   },
   {
    "duration": 9,
    "start_time": "2023-04-28T08:13:42.721Z"
   },
   {
    "duration": 11,
    "start_time": "2023-04-28T08:48:30.899Z"
   },
   {
    "duration": 30,
    "start_time": "2023-04-28T08:49:17.811Z"
   },
   {
    "duration": 24,
    "start_time": "2023-04-28T08:50:00.826Z"
   },
   {
    "duration": 28,
    "start_time": "2023-04-28T08:57:21.357Z"
   },
   {
    "duration": 37,
    "start_time": "2023-04-28T09:01:49.094Z"
   },
   {
    "duration": 29,
    "start_time": "2023-04-28T09:01:55.752Z"
   },
   {
    "duration": 15,
    "start_time": "2023-04-28T09:02:51.202Z"
   },
   {
    "duration": 30,
    "start_time": "2023-04-28T09:05:54.650Z"
   },
   {
    "duration": 15,
    "start_time": "2023-04-28T09:05:58.156Z"
   }
  ],
  "kernelspec": {
   "display_name": "Python 3 (ipykernel)",
   "language": "python",
   "name": "python3"
  },
  "language_info": {
   "codemirror_mode": {
    "name": "ipython",
    "version": 3
   },
   "file_extension": ".py",
   "mimetype": "text/x-python",
   "name": "python",
   "nbconvert_exporter": "python",
   "pygments_lexer": "ipython3",
   "version": "3.9.7"
  },
  "toc": {
   "base_numbering": 1,
   "nav_menu": {
    "height": "210px",
    "width": "237px"
   },
   "number_sections": true,
   "sideBar": true,
   "skip_h1_title": true,
   "title_cell": "Содержание",
   "title_sidebar": "Contents",
   "toc_cell": true,
   "toc_position": {
    "height": "calc(100% - 180px)",
    "left": "10px",
    "top": "150px",
    "width": "384px"
   },
   "toc_section_display": true,
   "toc_window_display": false
  }
 },
 "nbformat": 4,
 "nbformat_minor": 5
}
