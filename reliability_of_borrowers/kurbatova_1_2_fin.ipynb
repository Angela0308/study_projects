{
 "cells": [
  {
   "cell_type": "markdown",
   "id": "df7679fd",
   "metadata": {},
   "source": [
    "# Исследование надежности заемщиков."
   ]
  },
  {
   "cell_type": "markdown",
   "id": "a6321ce2",
   "metadata": {},
   "source": [
    "## Описание проекта\n",
    "Заказчик — кредитный отдел банка. Нужно разобраться, влияет ли семейное положение и количество детей клиента на факт погашения кредита в срок. Входные данные от банка — статистика о платёжеспособности клиентов.\n",
    "Результаты исследования будут учтены при построении модели кредитного скоринга — специальной системы, которая оценивает способность потенциального заёмщика вернуть кредит банку.\n",
    "\n",
    "**Задачи:**\n",
    "- Есть ли зависимость между количеством детей и возвратом кредита в срок?\n",
    "- Есть ли зависимость между семейным положением и возвратом кредита в срок?\n",
    "- Есть ли зависимость между уровнем дохода и возвратом кредита в срок?\n",
    "- Как разные цели кредита влияют на его возврат в срок?\n",
    "\n",
    "**План работы:**\n",
    "- Ознакомиться с общей информацией о данных.\n",
    "- Провести их предобработку, а имеено:\n",
    "  - заполнить пропущенные значения;\n",
    "  - проверить наличие артефактов;\n",
    "  - привести к типам данных, наиболее подходящим для работы;\n",
    "  - удалить дубликаты;\n",
    "  - выделить отдельные датафреймы для удобства рабтоты;\n",
    "  - добавити новые столбцы с категоризицией.\n",
    "\n",
    "**Описание данных**\n",
    "- `children` — количество детей в семье\n",
    "- `days_employed` — общий трудовой стаж в днях\n",
    "- `dob_years` — возраст клиента в годах\n",
    "- `education` — уровень образования клиента\n",
    "- `education_id` — идентификатор уровня образования\n",
    "- `family_status` — семейное положение\n",
    "- `family_status_id` — идентификатор семейного положения\n",
    "- `gender` — пол клиента\n",
    "- `income_type` — тип занятости\n",
    "- `debt` — имел ли задолженность по возврату кредитов\n",
    "- `total_income` — ежемесячный доход\n",
    "- `purpose` — цель получения кредита\n"
   ]
  },
  {
   "cell_type": "markdown",
   "id": "7ec3c904",
   "metadata": {},
   "source": [
    "## Обзор данных"
   ]
  },
  {
   "cell_type": "code",
   "execution_count": 17,
   "id": "84e4eb7d",
   "metadata": {},
   "outputs": [],
   "source": [
    "# импорт библиотек\n",
    "import pandas as pd"
   ]
  },
  {
   "cell_type": "code",
   "execution_count": 18,
   "id": "9a0bc59b",
   "metadata": {},
   "outputs": [
    {
     "data": {
      "text/html": [
       "<div>\n",
       "<style scoped>\n",
       "    .dataframe tbody tr th:only-of-type {\n",
       "        vertical-align: middle;\n",
       "    }\n",
       "\n",
       "    .dataframe tbody tr th {\n",
       "        vertical-align: top;\n",
       "    }\n",
       "\n",
       "    .dataframe thead th {\n",
       "        text-align: right;\n",
       "    }\n",
       "</style>\n",
       "<table border=\"1\" class=\"dataframe\">\n",
       "  <thead>\n",
       "    <tr style=\"text-align: right;\">\n",
       "      <th></th>\n",
       "      <th>children</th>\n",
       "      <th>days_employed</th>\n",
       "      <th>dob_years</th>\n",
       "      <th>education</th>\n",
       "      <th>education_id</th>\n",
       "      <th>family_status</th>\n",
       "      <th>family_status_id</th>\n",
       "      <th>gender</th>\n",
       "      <th>income_type</th>\n",
       "      <th>debt</th>\n",
       "      <th>total_income</th>\n",
       "      <th>purpose</th>\n",
       "    </tr>\n",
       "  </thead>\n",
       "  <tbody>\n",
       "    <tr>\n",
       "      <th>0</th>\n",
       "      <td>1</td>\n",
       "      <td>-8437.673028</td>\n",
       "      <td>42</td>\n",
       "      <td>высшее</td>\n",
       "      <td>0</td>\n",
       "      <td>женат / замужем</td>\n",
       "      <td>0</td>\n",
       "      <td>F</td>\n",
       "      <td>сотрудник</td>\n",
       "      <td>0</td>\n",
       "      <td>253875.639453</td>\n",
       "      <td>покупка жилья</td>\n",
       "    </tr>\n",
       "    <tr>\n",
       "      <th>1</th>\n",
       "      <td>1</td>\n",
       "      <td>-4024.803754</td>\n",
       "      <td>36</td>\n",
       "      <td>среднее</td>\n",
       "      <td>1</td>\n",
       "      <td>женат / замужем</td>\n",
       "      <td>0</td>\n",
       "      <td>F</td>\n",
       "      <td>сотрудник</td>\n",
       "      <td>0</td>\n",
       "      <td>112080.014102</td>\n",
       "      <td>приобретение автомобиля</td>\n",
       "    </tr>\n",
       "    <tr>\n",
       "      <th>2</th>\n",
       "      <td>0</td>\n",
       "      <td>-5623.422610</td>\n",
       "      <td>33</td>\n",
       "      <td>Среднее</td>\n",
       "      <td>1</td>\n",
       "      <td>женат / замужем</td>\n",
       "      <td>0</td>\n",
       "      <td>M</td>\n",
       "      <td>сотрудник</td>\n",
       "      <td>0</td>\n",
       "      <td>145885.952297</td>\n",
       "      <td>покупка жилья</td>\n",
       "    </tr>\n",
       "    <tr>\n",
       "      <th>3</th>\n",
       "      <td>3</td>\n",
       "      <td>-4124.747207</td>\n",
       "      <td>32</td>\n",
       "      <td>среднее</td>\n",
       "      <td>1</td>\n",
       "      <td>женат / замужем</td>\n",
       "      <td>0</td>\n",
       "      <td>M</td>\n",
       "      <td>сотрудник</td>\n",
       "      <td>0</td>\n",
       "      <td>267628.550329</td>\n",
       "      <td>дополнительное образование</td>\n",
       "    </tr>\n",
       "    <tr>\n",
       "      <th>4</th>\n",
       "      <td>0</td>\n",
       "      <td>340266.072047</td>\n",
       "      <td>53</td>\n",
       "      <td>среднее</td>\n",
       "      <td>1</td>\n",
       "      <td>гражданский брак</td>\n",
       "      <td>1</td>\n",
       "      <td>F</td>\n",
       "      <td>пенсионер</td>\n",
       "      <td>0</td>\n",
       "      <td>158616.077870</td>\n",
       "      <td>сыграть свадьбу</td>\n",
       "    </tr>\n",
       "    <tr>\n",
       "      <th>5</th>\n",
       "      <td>0</td>\n",
       "      <td>-926.185831</td>\n",
       "      <td>27</td>\n",
       "      <td>высшее</td>\n",
       "      <td>0</td>\n",
       "      <td>гражданский брак</td>\n",
       "      <td>1</td>\n",
       "      <td>M</td>\n",
       "      <td>компаньон</td>\n",
       "      <td>0</td>\n",
       "      <td>255763.565419</td>\n",
       "      <td>покупка жилья</td>\n",
       "    </tr>\n",
       "    <tr>\n",
       "      <th>6</th>\n",
       "      <td>0</td>\n",
       "      <td>-2879.202052</td>\n",
       "      <td>43</td>\n",
       "      <td>высшее</td>\n",
       "      <td>0</td>\n",
       "      <td>женат / замужем</td>\n",
       "      <td>0</td>\n",
       "      <td>F</td>\n",
       "      <td>компаньон</td>\n",
       "      <td>0</td>\n",
       "      <td>240525.971920</td>\n",
       "      <td>операции с жильем</td>\n",
       "    </tr>\n",
       "    <tr>\n",
       "      <th>7</th>\n",
       "      <td>0</td>\n",
       "      <td>-152.779569</td>\n",
       "      <td>50</td>\n",
       "      <td>СРЕДНЕЕ</td>\n",
       "      <td>1</td>\n",
       "      <td>женат / замужем</td>\n",
       "      <td>0</td>\n",
       "      <td>M</td>\n",
       "      <td>сотрудник</td>\n",
       "      <td>0</td>\n",
       "      <td>135823.934197</td>\n",
       "      <td>образование</td>\n",
       "    </tr>\n",
       "    <tr>\n",
       "      <th>8</th>\n",
       "      <td>2</td>\n",
       "      <td>-6929.865299</td>\n",
       "      <td>35</td>\n",
       "      <td>ВЫСШЕЕ</td>\n",
       "      <td>0</td>\n",
       "      <td>гражданский брак</td>\n",
       "      <td>1</td>\n",
       "      <td>F</td>\n",
       "      <td>сотрудник</td>\n",
       "      <td>0</td>\n",
       "      <td>95856.832424</td>\n",
       "      <td>на проведение свадьбы</td>\n",
       "    </tr>\n",
       "    <tr>\n",
       "      <th>9</th>\n",
       "      <td>0</td>\n",
       "      <td>-2188.756445</td>\n",
       "      <td>41</td>\n",
       "      <td>среднее</td>\n",
       "      <td>1</td>\n",
       "      <td>женат / замужем</td>\n",
       "      <td>0</td>\n",
       "      <td>M</td>\n",
       "      <td>сотрудник</td>\n",
       "      <td>0</td>\n",
       "      <td>144425.938277</td>\n",
       "      <td>покупка жилья для семьи</td>\n",
       "    </tr>\n",
       "  </tbody>\n",
       "</table>\n",
       "</div>"
      ],
      "text/plain": [
       "   children  days_employed  dob_years education  education_id  \\\n",
       "0         1   -8437.673028         42    высшее             0   \n",
       "1         1   -4024.803754         36   среднее             1   \n",
       "2         0   -5623.422610         33   Среднее             1   \n",
       "3         3   -4124.747207         32   среднее             1   \n",
       "4         0  340266.072047         53   среднее             1   \n",
       "5         0    -926.185831         27    высшее             0   \n",
       "6         0   -2879.202052         43    высшее             0   \n",
       "7         0    -152.779569         50   СРЕДНЕЕ             1   \n",
       "8         2   -6929.865299         35    ВЫСШЕЕ             0   \n",
       "9         0   -2188.756445         41   среднее             1   \n",
       "\n",
       "      family_status  family_status_id gender income_type  debt   total_income  \\\n",
       "0   женат / замужем                 0      F   сотрудник     0  253875.639453   \n",
       "1   женат / замужем                 0      F   сотрудник     0  112080.014102   \n",
       "2   женат / замужем                 0      M   сотрудник     0  145885.952297   \n",
       "3   женат / замужем                 0      M   сотрудник     0  267628.550329   \n",
       "4  гражданский брак                 1      F   пенсионер     0  158616.077870   \n",
       "5  гражданский брак                 1      M   компаньон     0  255763.565419   \n",
       "6   женат / замужем                 0      F   компаньон     0  240525.971920   \n",
       "7   женат / замужем                 0      M   сотрудник     0  135823.934197   \n",
       "8  гражданский брак                 1      F   сотрудник     0   95856.832424   \n",
       "9   женат / замужем                 0      M   сотрудник     0  144425.938277   \n",
       "\n",
       "                      purpose  \n",
       "0               покупка жилья  \n",
       "1     приобретение автомобиля  \n",
       "2               покупка жилья  \n",
       "3  дополнительное образование  \n",
       "4             сыграть свадьбу  \n",
       "5               покупка жилья  \n",
       "6           операции с жильем  \n",
       "7                 образование  \n",
       "8       на проведение свадьбы  \n",
       "9     покупка жилья для семьи  "
      ]
     },
     "execution_count": 18,
     "metadata": {},
     "output_type": "execute_result"
    }
   ],
   "source": [
    "# загружаю данные\n",
    "df = pd.read_csv('data.csv')\n",
    "df.head(10)"
   ]
  },
  {
   "cell_type": "code",
   "execution_count": 19,
   "id": "33f63fcc",
   "metadata": {},
   "outputs": [
    {
     "name": "stdout",
     "output_type": "stream",
     "text": [
      "<class 'pandas.core.frame.DataFrame'>\n",
      "RangeIndex: 21525 entries, 0 to 21524\n",
      "Data columns (total 12 columns):\n",
      " #   Column            Non-Null Count  Dtype  \n",
      "---  ------            --------------  -----  \n",
      " 0   children          21525 non-null  int64  \n",
      " 1   days_employed     19351 non-null  float64\n",
      " 2   dob_years         21525 non-null  int64  \n",
      " 3   education         21525 non-null  object \n",
      " 4   education_id      21525 non-null  int64  \n",
      " 5   family_status     21525 non-null  object \n",
      " 6   family_status_id  21525 non-null  int64  \n",
      " 7   gender            21525 non-null  object \n",
      " 8   income_type       21525 non-null  object \n",
      " 9   debt              21525 non-null  int64  \n",
      " 10  total_income      19351 non-null  float64\n",
      " 11  purpose           21525 non-null  object \n",
      "dtypes: float64(2), int64(5), object(5)\n",
      "memory usage: 2.0+ MB\n"
     ]
    }
   ],
   "source": [
    "# проверяю пропуски\n",
    "df.info()"
   ]
  },
  {
   "cell_type": "markdown",
   "id": "401762fd",
   "metadata": {},
   "source": [
    "**Выводы**\n",
    "\n",
    "В столбцах `days_employed` и `total_income` есть пропущенные значения, в столбце `days_employed` некоторые значения отрицательные, что на первый взгляд невозможно по смыслу, также данные в этом столбце, как и в `total_income` вещественные, возможно для обработки будет удобнее использовать целочисленные данные. В столбце `education` данные нужно будет привести к единому регистру, чтобы упростить процесс категоризации, а в `purpose` проработать смысловые дубликаты. Количество пропущенных значений в столбцах `days_employed` и `total_income` одинаковое и составляет 10.1% от всех данных клиентов, это существенный объем, поэтому для анализа данных потребуется заполнение этих пропусков."
   ]
  },
  {
   "cell_type": "markdown",
   "id": "1c2c7f95",
   "metadata": {},
   "source": [
    "## Предобработка данных"
   ]
  },
  {
   "cell_type": "markdown",
   "id": "5ee63843",
   "metadata": {},
   "source": [
    "### Заполнение пропусков"
   ]
  },
  {
   "cell_type": "code",
   "execution_count": 20,
   "id": "ba975544",
   "metadata": {},
   "outputs": [
    {
     "data": {
      "text/html": [
       "<div>\n",
       "<style scoped>\n",
       "    .dataframe tbody tr th:only-of-type {\n",
       "        vertical-align: middle;\n",
       "    }\n",
       "\n",
       "    .dataframe tbody tr th {\n",
       "        vertical-align: top;\n",
       "    }\n",
       "\n",
       "    .dataframe thead th {\n",
       "        text-align: right;\n",
       "    }\n",
       "</style>\n",
       "<table border=\"1\" class=\"dataframe\">\n",
       "  <thead>\n",
       "    <tr style=\"text-align: right;\">\n",
       "      <th></th>\n",
       "      <th>children</th>\n",
       "      <th>days_employed</th>\n",
       "      <th>dob_years</th>\n",
       "      <th>education</th>\n",
       "      <th>education_id</th>\n",
       "      <th>family_status</th>\n",
       "      <th>family_status_id</th>\n",
       "      <th>gender</th>\n",
       "      <th>income_type</th>\n",
       "      <th>debt</th>\n",
       "      <th>total_income</th>\n",
       "      <th>purpose</th>\n",
       "    </tr>\n",
       "  </thead>\n",
       "  <tbody>\n",
       "    <tr>\n",
       "      <th>12</th>\n",
       "      <td>0</td>\n",
       "      <td>NaN</td>\n",
       "      <td>65</td>\n",
       "      <td>среднее</td>\n",
       "      <td>1</td>\n",
       "      <td>гражданский брак</td>\n",
       "      <td>1</td>\n",
       "      <td>M</td>\n",
       "      <td>пенсионер</td>\n",
       "      <td>0</td>\n",
       "      <td>NaN</td>\n",
       "      <td>сыграть свадьбу</td>\n",
       "    </tr>\n",
       "    <tr>\n",
       "      <th>26</th>\n",
       "      <td>0</td>\n",
       "      <td>NaN</td>\n",
       "      <td>41</td>\n",
       "      <td>среднее</td>\n",
       "      <td>1</td>\n",
       "      <td>женат / замужем</td>\n",
       "      <td>0</td>\n",
       "      <td>M</td>\n",
       "      <td>госслужащий</td>\n",
       "      <td>0</td>\n",
       "      <td>NaN</td>\n",
       "      <td>образование</td>\n",
       "    </tr>\n",
       "    <tr>\n",
       "      <th>29</th>\n",
       "      <td>0</td>\n",
       "      <td>NaN</td>\n",
       "      <td>63</td>\n",
       "      <td>среднее</td>\n",
       "      <td>1</td>\n",
       "      <td>Не женат / не замужем</td>\n",
       "      <td>4</td>\n",
       "      <td>F</td>\n",
       "      <td>пенсионер</td>\n",
       "      <td>0</td>\n",
       "      <td>NaN</td>\n",
       "      <td>строительство жилой недвижимости</td>\n",
       "    </tr>\n",
       "    <tr>\n",
       "      <th>41</th>\n",
       "      <td>0</td>\n",
       "      <td>NaN</td>\n",
       "      <td>50</td>\n",
       "      <td>среднее</td>\n",
       "      <td>1</td>\n",
       "      <td>женат / замужем</td>\n",
       "      <td>0</td>\n",
       "      <td>F</td>\n",
       "      <td>госслужащий</td>\n",
       "      <td>0</td>\n",
       "      <td>NaN</td>\n",
       "      <td>сделка с подержанным автомобилем</td>\n",
       "    </tr>\n",
       "    <tr>\n",
       "      <th>55</th>\n",
       "      <td>0</td>\n",
       "      <td>NaN</td>\n",
       "      <td>54</td>\n",
       "      <td>среднее</td>\n",
       "      <td>1</td>\n",
       "      <td>гражданский брак</td>\n",
       "      <td>1</td>\n",
       "      <td>F</td>\n",
       "      <td>пенсионер</td>\n",
       "      <td>1</td>\n",
       "      <td>NaN</td>\n",
       "      <td>сыграть свадьбу</td>\n",
       "    </tr>\n",
       "  </tbody>\n",
       "</table>\n",
       "</div>"
      ],
      "text/plain": [
       "    children  days_employed  dob_years education  education_id  \\\n",
       "12         0            NaN         65   среднее             1   \n",
       "26         0            NaN         41   среднее             1   \n",
       "29         0            NaN         63   среднее             1   \n",
       "41         0            NaN         50   среднее             1   \n",
       "55         0            NaN         54   среднее             1   \n",
       "\n",
       "            family_status  family_status_id gender  income_type  debt  \\\n",
       "12       гражданский брак                 1      M    пенсионер     0   \n",
       "26        женат / замужем                 0      M  госслужащий     0   \n",
       "29  Не женат / не замужем                 4      F    пенсионер     0   \n",
       "41        женат / замужем                 0      F  госслужащий     0   \n",
       "55       гражданский брак                 1      F    пенсионер     1   \n",
       "\n",
       "    total_income                           purpose  \n",
       "12           NaN                   сыграть свадьбу  \n",
       "26           NaN                       образование  \n",
       "29           NaN  строительство жилой недвижимости  \n",
       "41           NaN  сделка с подержанным автомобилем  \n",
       "55           NaN                   сыграть свадьбу  "
      ]
     },
     "execution_count": 20,
     "metadata": {},
     "output_type": "execute_result"
    }
   ],
   "source": [
    "# проверяю пропуски в total_income\n",
    "df[df['total_income'].isna()].head()"
   ]
  },
  {
   "cell_type": "markdown",
   "id": "670ef663",
   "metadata": {},
   "source": [
    "Пропуски в total_income совпадают с days_employed, из чего можно сделать вывод, что значения пропущены, так как клиент не работает в этот момент. Так как нет возможности уточнить данные, а доля их существенная, потребуется подобрать оптимальный способ заполнения пропусков."
   ]
  },
  {
   "cell_type": "code",
   "execution_count": 21,
   "id": "bb002c0e",
   "metadata": {},
   "outputs": [
    {
     "data": {
      "text/plain": [
       "count    1.935100e+04\n",
       "mean     1.674223e+05\n",
       "std      1.029716e+05\n",
       "min      2.066726e+04\n",
       "25%      1.030532e+05\n",
       "50%      1.450179e+05\n",
       "75%      2.034351e+05\n",
       "max      2.265604e+06\n",
       "Name: total_income, dtype: float64"
      ]
     },
     "execution_count": 21,
     "metadata": {},
     "output_type": "execute_result"
    }
   ],
   "source": [
    "df['total_income'].describe()"
   ]
  },
  {
   "cell_type": "markdown",
   "id": "564446a2",
   "metadata": {},
   "source": [
    "Минимальное и максимальное значения в уровне дохода различается колоссально, поэтому пропуску в `total_income` целесообразнее заполнить медианным значением. В `days_employed` перед заполнением пропусков стоит проверить качество указанных данных. "
   ]
  },
  {
   "cell_type": "code",
   "execution_count": 22,
   "id": "e98c264c",
   "metadata": {},
   "outputs": [],
   "source": [
    "# заполняю пропуски\n",
    "total_income_median = df['total_income'].median()\n",
    "df['total_income'] = df['total_income'].fillna(total_income_median)"
   ]
  },
  {
   "cell_type": "markdown",
   "id": "34121fb8",
   "metadata": {},
   "source": [
    "### Проверка данных на аномалии."
   ]
  },
  {
   "cell_type": "code",
   "execution_count": 23,
   "id": "ba810ea7",
   "metadata": {
    "scrolled": true
   },
   "outputs": [
    {
     "data": {
      "text/plain": [
       " 0     14149\n",
       " 1      4818\n",
       " 2      2055\n",
       " 3       330\n",
       " 20       76\n",
       "-1        47\n",
       " 4        41\n",
       " 5         9\n",
       "Name: children, dtype: int64"
      ]
     },
     "execution_count": 23,
     "metadata": {},
     "output_type": "execute_result"
    }
   ],
   "source": [
    "# проверяю children\n",
    "df['children'].value_counts()"
   ]
  },
  {
   "cell_type": "markdown",
   "id": "cae78a6a",
   "metadata": {},
   "source": [
    "У 47 клиентов количество детей отрицательное, вероятно это ошибка в написании, поэтому эти значения можно заменить на модульные. У 76 клиентов количество детей равно 20, похоже, что и в этих данных также ошибка, это могло произойти механически, когда клиент дописал лишний ноль, указывая значение 2, так как требуется оценить, как количество детей влияет на платежеспособность, то данные лучше не удалять, а заменить значения 20 на 2."
   ]
  },
  {
   "cell_type": "code",
   "execution_count": 24,
   "id": "f3639f14",
   "metadata": {},
   "outputs": [],
   "source": [
    "# избавляюсь от аномалий\n",
    "df['children'] = abs(df['children'])\n",
    "df['children'] = df['children'].replace(20, 2)"
   ]
  },
  {
   "cell_type": "code",
   "execution_count": 25,
   "id": "40662486",
   "metadata": {},
   "outputs": [
    {
     "data": {
      "text/plain": [
       "35    617\n",
       "40    609\n",
       "41    607\n",
       "34    603\n",
       "38    598\n",
       "42    597\n",
       "33    581\n",
       "39    573\n",
       "31    560\n",
       "36    555\n",
       "44    547\n",
       "29    545\n",
       "30    540\n",
       "48    538\n",
       "37    537\n",
       "50    514\n",
       "43    513\n",
       "32    510\n",
       "49    508\n",
       "28    503\n",
       "45    497\n",
       "27    493\n",
       "56    487\n",
       "52    484\n",
       "47    480\n",
       "54    479\n",
       "46    475\n",
       "58    461\n",
       "57    460\n",
       "53    459\n",
       "51    448\n",
       "59    444\n",
       "55    443\n",
       "26    408\n",
       "60    377\n",
       "25    357\n",
       "61    355\n",
       "62    352\n",
       "63    269\n",
       "64    265\n",
       "24    264\n",
       "23    254\n",
       "65    194\n",
       "22    183\n",
       "66    183\n",
       "67    167\n",
       "21    111\n",
       "0     101\n",
       "68     99\n",
       "69     85\n",
       "70     65\n",
       "71     58\n",
       "20     51\n",
       "72     33\n",
       "19     14\n",
       "73      8\n",
       "74      6\n",
       "75      1\n",
       "Name: dob_years, dtype: int64"
      ]
     },
     "execution_count": 25,
     "metadata": {},
     "output_type": "execute_result"
    }
   ],
   "source": [
    "# проверяю dob_years\n",
    "df['dob_years'].value_counts()"
   ]
  },
  {
   "cell_type": "markdown",
   "id": "919ee5e6",
   "metadata": {},
   "source": [
    "У 101 клиента в dob_years указанно 0, это явная ошибка, но возраст клиентов не влияет на выводы исследования, поэтому эти данные можно оставить без изменений."
   ]
  },
  {
   "cell_type": "code",
   "execution_count": 26,
   "id": "7a4e59eb",
   "metadata": {},
   "outputs": [
    {
     "data": {
      "text/html": [
       "<div>\n",
       "<style scoped>\n",
       "    .dataframe tbody tr th:only-of-type {\n",
       "        vertical-align: middle;\n",
       "    }\n",
       "\n",
       "    .dataframe tbody tr th {\n",
       "        vertical-align: top;\n",
       "    }\n",
       "\n",
       "    .dataframe thead th {\n",
       "        text-align: right;\n",
       "    }\n",
       "</style>\n",
       "<table border=\"1\" class=\"dataframe\">\n",
       "  <thead>\n",
       "    <tr style=\"text-align: right;\">\n",
       "      <th></th>\n",
       "      <th>children</th>\n",
       "      <th>days_employed</th>\n",
       "      <th>dob_years</th>\n",
       "      <th>education</th>\n",
       "      <th>education_id</th>\n",
       "      <th>family_status</th>\n",
       "      <th>family_status_id</th>\n",
       "      <th>gender</th>\n",
       "      <th>income_type</th>\n",
       "      <th>debt</th>\n",
       "      <th>total_income</th>\n",
       "      <th>purpose</th>\n",
       "    </tr>\n",
       "  </thead>\n",
       "  <tbody>\n",
       "    <tr>\n",
       "      <th>12542</th>\n",
       "      <td>0</td>\n",
       "      <td>352818.624172</td>\n",
       "      <td>57</td>\n",
       "      <td>среднее</td>\n",
       "      <td>1</td>\n",
       "      <td>женат / замужем</td>\n",
       "      <td>0</td>\n",
       "      <td>F</td>\n",
       "      <td>пенсионер</td>\n",
       "      <td>0</td>\n",
       "      <td>42198.608938</td>\n",
       "      <td>автомобиль</td>\n",
       "    </tr>\n",
       "    <tr>\n",
       "      <th>18293</th>\n",
       "      <td>0</td>\n",
       "      <td>393990.553333</td>\n",
       "      <td>54</td>\n",
       "      <td>среднее</td>\n",
       "      <td>1</td>\n",
       "      <td>женат / замужем</td>\n",
       "      <td>0</td>\n",
       "      <td>F</td>\n",
       "      <td>пенсионер</td>\n",
       "      <td>0</td>\n",
       "      <td>99868.054154</td>\n",
       "      <td>на покупку подержанного автомобиля</td>\n",
       "    </tr>\n",
       "    <tr>\n",
       "      <th>5637</th>\n",
       "      <td>0</td>\n",
       "      <td>373778.073012</td>\n",
       "      <td>55</td>\n",
       "      <td>среднее</td>\n",
       "      <td>1</td>\n",
       "      <td>Не женат / не замужем</td>\n",
       "      <td>4</td>\n",
       "      <td>F</td>\n",
       "      <td>пенсионер</td>\n",
       "      <td>0</td>\n",
       "      <td>54430.602216</td>\n",
       "      <td>дополнительное образование</td>\n",
       "    </tr>\n",
       "    <tr>\n",
       "      <th>19291</th>\n",
       "      <td>0</td>\n",
       "      <td>366632.069693</td>\n",
       "      <td>56</td>\n",
       "      <td>среднее</td>\n",
       "      <td>1</td>\n",
       "      <td>гражданский брак</td>\n",
       "      <td>1</td>\n",
       "      <td>F</td>\n",
       "      <td>пенсионер</td>\n",
       "      <td>1</td>\n",
       "      <td>91719.837456</td>\n",
       "      <td>на проведение свадьбы</td>\n",
       "    </tr>\n",
       "    <tr>\n",
       "      <th>18103</th>\n",
       "      <td>1</td>\n",
       "      <td>349545.902003</td>\n",
       "      <td>67</td>\n",
       "      <td>среднее</td>\n",
       "      <td>1</td>\n",
       "      <td>женат / замужем</td>\n",
       "      <td>0</td>\n",
       "      <td>F</td>\n",
       "      <td>пенсионер</td>\n",
       "      <td>0</td>\n",
       "      <td>93093.261296</td>\n",
       "      <td>покупка жилья для сдачи</td>\n",
       "    </tr>\n",
       "  </tbody>\n",
       "</table>\n",
       "</div>"
      ],
      "text/plain": [
       "       children  days_employed  dob_years education  education_id  \\\n",
       "12542         0  352818.624172         57   среднее             1   \n",
       "18293         0  393990.553333         54   среднее             1   \n",
       "5637          0  373778.073012         55   среднее             1   \n",
       "19291         0  366632.069693         56   среднее             1   \n",
       "18103         1  349545.902003         67   среднее             1   \n",
       "\n",
       "               family_status  family_status_id gender income_type  debt  \\\n",
       "12542        женат / замужем                 0      F   пенсионер     0   \n",
       "18293        женат / замужем                 0      F   пенсионер     0   \n",
       "5637   Не женат / не замужем                 4      F   пенсионер     0   \n",
       "19291       гражданский брак                 1      F   пенсионер     1   \n",
       "18103        женат / замужем                 0      F   пенсионер     0   \n",
       "\n",
       "       total_income                             purpose  \n",
       "12542  42198.608938                          автомобиль  \n",
       "18293  99868.054154  на покупку подержанного автомобиля  \n",
       "5637   54430.602216          дополнительное образование  \n",
       "19291  91719.837456               на проведение свадьбы  \n",
       "18103  93093.261296             покупка жилья для сдачи  "
      ]
     },
     "execution_count": 26,
     "metadata": {},
     "output_type": "execute_result"
    }
   ],
   "source": [
    "# проверяю аномалии в стаже\n",
    "df[df['days_employed'] >= df['dob_years'] * 365 - 18 * 365].sample(5)"
   ]
  },
  {
   "cell_type": "markdown",
   "id": "a692af63",
   "metadata": {},
   "source": [
    "Можно предположить, что некоторые клиенты начали работать до совершеннолетия, поэтому их трудовой стаж превышает значение \"возраст минус 18\", но это не объясняет, почему трудовой стаж записан отрицательным значением и почему встречаются значения ощутимо превышающие самый оптимистичный срок продолжительности жизни. Заменим отрицательные значения положительными и вычислим медианное значение days_employed и заполним им пропуски. Так как продолжительность трудового стажа не влияет на ход исследования, можно оставить аномальные значения без изменений и не исключать из выборки."
   ]
  },
  {
   "cell_type": "code",
   "execution_count": 27,
   "id": "86b92c51",
   "metadata": {},
   "outputs": [],
   "source": [
    "df['days_employed'] = abs(df['days_employed'])\n",
    "days_employed_median = df['days_employed'].median()\n",
    "df['days_employed'] = df['days_employed'].fillna(days_employed_median)"
   ]
  },
  {
   "cell_type": "code",
   "execution_count": 28,
   "id": "2c748723",
   "metadata": {},
   "outputs": [
    {
     "data": {
      "text/plain": [
       "F      14236\n",
       "M       7288\n",
       "XNA        1\n",
       "Name: gender, dtype: int64"
      ]
     },
     "execution_count": 28,
     "metadata": {},
     "output_type": "execute_result"
    }
   ],
   "source": [
    "# проверяю аномалии в gender\n",
    "df['gender'].value_counts()"
   ]
  },
  {
   "cell_type": "markdown",
   "id": "4232f5cd",
   "metadata": {},
   "source": [
    "В столбце gender обнаружено 1 аномальное обозначение пола, роли это не сыграет, но для порядка можно удалить эту строку."
   ]
  },
  {
   "cell_type": "code",
   "execution_count": 29,
   "id": "12ef9a57",
   "metadata": {},
   "outputs": [],
   "source": [
    "df = df[df['gender'] != 'XNA']"
   ]
  },
  {
   "cell_type": "markdown",
   "id": "65addf79",
   "metadata": {},
   "source": [
    "### Изменение типов данных."
   ]
  },
  {
   "cell_type": "code",
   "execution_count": 30,
   "id": "ef94c9e8",
   "metadata": {},
   "outputs": [],
   "source": [
    "df['total_income'] = df['total_income'].astype('int')"
   ]
  },
  {
   "cell_type": "markdown",
   "id": "e79fa3b6",
   "metadata": {},
   "source": [
    "### Удаление дубликатов."
   ]
  },
  {
   "cell_type": "code",
   "execution_count": 31,
   "id": "e57f5ecf",
   "metadata": {},
   "outputs": [
    {
     "data": {
      "text/plain": [
       "71"
      ]
     },
     "execution_count": 31,
     "metadata": {},
     "output_type": "execute_result"
    }
   ],
   "source": [
    "# проверяю неявные дубликаты в education\n",
    "df['education'] = df['education'].str.lower()\n",
    "df.duplicated().sum()"
   ]
  },
  {
   "cell_type": "markdown",
   "id": "e78e8bae",
   "metadata": {},
   "source": [
    "После приведения к нижнему регистру значений в столбце education было выявлено 71 дубликатов, несмотря на то, что нет каких-либо данных идентифицирующих самого клиента, данные о стаже работы и о доходе указывают на то, что клиенты дублируются, поэтому следует удалить дубликаты."
   ]
  },
  {
   "cell_type": "code",
   "execution_count": 32,
   "id": "bb61fe1b",
   "metadata": {},
   "outputs": [],
   "source": [
    "df = df.drop_duplicates().reset_index(drop=True)"
   ]
  },
  {
   "cell_type": "markdown",
   "id": "a6a2bdb9",
   "metadata": {},
   "source": [
    "### Формирование дополнительных датафреймов словарей, декомпозиция исходного датафрейма."
   ]
  },
  {
   "cell_type": "code",
   "execution_count": 33,
   "id": "2f366e72",
   "metadata": {},
   "outputs": [
    {
     "name": "stderr",
     "output_type": "stream",
     "text": [
      "C:\\Users\\1\\AppData\\Local\\Temp/ipykernel_10176/2421101579.py:2: FutureWarning: In a future version of pandas all arguments of DataFrame.drop except for the argument 'labels' will be keyword-only\n",
      "  df = df.drop('education', 1)\n",
      "C:\\Users\\1\\AppData\\Local\\Temp/ipykernel_10176/2421101579.py:4: FutureWarning: In a future version of pandas all arguments of DataFrame.drop except for the argument 'labels' will be keyword-only\n",
      "  df = df.drop('family_status', 1)\n"
     ]
    },
    {
     "data": {
      "text/html": [
       "<div>\n",
       "<style scoped>\n",
       "    .dataframe tbody tr th:only-of-type {\n",
       "        vertical-align: middle;\n",
       "    }\n",
       "\n",
       "    .dataframe tbody tr th {\n",
       "        vertical-align: top;\n",
       "    }\n",
       "\n",
       "    .dataframe thead th {\n",
       "        text-align: right;\n",
       "    }\n",
       "</style>\n",
       "<table border=\"1\" class=\"dataframe\">\n",
       "  <thead>\n",
       "    <tr style=\"text-align: right;\">\n",
       "      <th></th>\n",
       "      <th>education</th>\n",
       "      <th>education_id</th>\n",
       "    </tr>\n",
       "  </thead>\n",
       "  <tbody>\n",
       "    <tr>\n",
       "      <th>0</th>\n",
       "      <td>высшее</td>\n",
       "      <td>0</td>\n",
       "    </tr>\n",
       "    <tr>\n",
       "      <th>1</th>\n",
       "      <td>среднее</td>\n",
       "      <td>1</td>\n",
       "    </tr>\n",
       "    <tr>\n",
       "      <th>2</th>\n",
       "      <td>среднее</td>\n",
       "      <td>1</td>\n",
       "    </tr>\n",
       "    <tr>\n",
       "      <th>3</th>\n",
       "      <td>среднее</td>\n",
       "      <td>1</td>\n",
       "    </tr>\n",
       "    <tr>\n",
       "      <th>4</th>\n",
       "      <td>среднее</td>\n",
       "      <td>1</td>\n",
       "    </tr>\n",
       "  </tbody>\n",
       "</table>\n",
       "</div>"
      ],
      "text/plain": [
       "  education  education_id\n",
       "0    высшее             0\n",
       "1   среднее             1\n",
       "2   среднее             1\n",
       "3   среднее             1\n",
       "4   среднее             1"
      ]
     },
     "metadata": {},
     "output_type": "display_data"
    },
    {
     "data": {
      "text/html": [
       "<div>\n",
       "<style scoped>\n",
       "    .dataframe tbody tr th:only-of-type {\n",
       "        vertical-align: middle;\n",
       "    }\n",
       "\n",
       "    .dataframe tbody tr th {\n",
       "        vertical-align: top;\n",
       "    }\n",
       "\n",
       "    .dataframe thead th {\n",
       "        text-align: right;\n",
       "    }\n",
       "</style>\n",
       "<table border=\"1\" class=\"dataframe\">\n",
       "  <thead>\n",
       "    <tr style=\"text-align: right;\">\n",
       "      <th></th>\n",
       "      <th>family_status</th>\n",
       "      <th>family_status_id</th>\n",
       "    </tr>\n",
       "  </thead>\n",
       "  <tbody>\n",
       "    <tr>\n",
       "      <th>0</th>\n",
       "      <td>женат / замужем</td>\n",
       "      <td>0</td>\n",
       "    </tr>\n",
       "    <tr>\n",
       "      <th>1</th>\n",
       "      <td>женат / замужем</td>\n",
       "      <td>0</td>\n",
       "    </tr>\n",
       "    <tr>\n",
       "      <th>2</th>\n",
       "      <td>женат / замужем</td>\n",
       "      <td>0</td>\n",
       "    </tr>\n",
       "    <tr>\n",
       "      <th>3</th>\n",
       "      <td>женат / замужем</td>\n",
       "      <td>0</td>\n",
       "    </tr>\n",
       "    <tr>\n",
       "      <th>4</th>\n",
       "      <td>гражданский брак</td>\n",
       "      <td>1</td>\n",
       "    </tr>\n",
       "  </tbody>\n",
       "</table>\n",
       "</div>"
      ],
      "text/plain": [
       "      family_status  family_status_id\n",
       "0   женат / замужем                 0\n",
       "1   женат / замужем                 0\n",
       "2   женат / замужем                 0\n",
       "3   женат / замужем                 0\n",
       "4  гражданский брак                 1"
      ]
     },
     "metadata": {},
     "output_type": "display_data"
    },
    {
     "data": {
      "text/html": [
       "<div>\n",
       "<style scoped>\n",
       "    .dataframe tbody tr th:only-of-type {\n",
       "        vertical-align: middle;\n",
       "    }\n",
       "\n",
       "    .dataframe tbody tr th {\n",
       "        vertical-align: top;\n",
       "    }\n",
       "\n",
       "    .dataframe thead th {\n",
       "        text-align: right;\n",
       "    }\n",
       "</style>\n",
       "<table border=\"1\" class=\"dataframe\">\n",
       "  <thead>\n",
       "    <tr style=\"text-align: right;\">\n",
       "      <th></th>\n",
       "      <th>children</th>\n",
       "      <th>days_employed</th>\n",
       "      <th>dob_years</th>\n",
       "      <th>education_id</th>\n",
       "      <th>family_status_id</th>\n",
       "      <th>gender</th>\n",
       "      <th>income_type</th>\n",
       "      <th>debt</th>\n",
       "      <th>total_income</th>\n",
       "      <th>purpose</th>\n",
       "    </tr>\n",
       "  </thead>\n",
       "  <tbody>\n",
       "    <tr>\n",
       "      <th>0</th>\n",
       "      <td>1</td>\n",
       "      <td>8437.673028</td>\n",
       "      <td>42</td>\n",
       "      <td>0</td>\n",
       "      <td>0</td>\n",
       "      <td>F</td>\n",
       "      <td>сотрудник</td>\n",
       "      <td>0</td>\n",
       "      <td>253875</td>\n",
       "      <td>покупка жилья</td>\n",
       "    </tr>\n",
       "    <tr>\n",
       "      <th>1</th>\n",
       "      <td>1</td>\n",
       "      <td>4024.803754</td>\n",
       "      <td>36</td>\n",
       "      <td>1</td>\n",
       "      <td>0</td>\n",
       "      <td>F</td>\n",
       "      <td>сотрудник</td>\n",
       "      <td>0</td>\n",
       "      <td>112080</td>\n",
       "      <td>приобретение автомобиля</td>\n",
       "    </tr>\n",
       "    <tr>\n",
       "      <th>2</th>\n",
       "      <td>0</td>\n",
       "      <td>5623.422610</td>\n",
       "      <td>33</td>\n",
       "      <td>1</td>\n",
       "      <td>0</td>\n",
       "      <td>M</td>\n",
       "      <td>сотрудник</td>\n",
       "      <td>0</td>\n",
       "      <td>145885</td>\n",
       "      <td>покупка жилья</td>\n",
       "    </tr>\n",
       "    <tr>\n",
       "      <th>3</th>\n",
       "      <td>3</td>\n",
       "      <td>4124.747207</td>\n",
       "      <td>32</td>\n",
       "      <td>1</td>\n",
       "      <td>0</td>\n",
       "      <td>M</td>\n",
       "      <td>сотрудник</td>\n",
       "      <td>0</td>\n",
       "      <td>267628</td>\n",
       "      <td>дополнительное образование</td>\n",
       "    </tr>\n",
       "    <tr>\n",
       "      <th>4</th>\n",
       "      <td>0</td>\n",
       "      <td>340266.072047</td>\n",
       "      <td>53</td>\n",
       "      <td>1</td>\n",
       "      <td>1</td>\n",
       "      <td>F</td>\n",
       "      <td>пенсионер</td>\n",
       "      <td>0</td>\n",
       "      <td>158616</td>\n",
       "      <td>сыграть свадьбу</td>\n",
       "    </tr>\n",
       "  </tbody>\n",
       "</table>\n",
       "</div>"
      ],
      "text/plain": [
       "   children  days_employed  dob_years  education_id  family_status_id gender  \\\n",
       "0         1    8437.673028         42             0                 0      F   \n",
       "1         1    4024.803754         36             1                 0      F   \n",
       "2         0    5623.422610         33             1                 0      M   \n",
       "3         3    4124.747207         32             1                 0      M   \n",
       "4         0  340266.072047         53             1                 1      F   \n",
       "\n",
       "  income_type  debt  total_income                     purpose  \n",
       "0   сотрудник     0        253875               покупка жилья  \n",
       "1   сотрудник     0        112080     приобретение автомобиля  \n",
       "2   сотрудник     0        145885               покупка жилья  \n",
       "3   сотрудник     0        267628  дополнительное образование  \n",
       "4   пенсионер     0        158616             сыграть свадьбу  "
      ]
     },
     "execution_count": 33,
     "metadata": {},
     "output_type": "execute_result"
    }
   ],
   "source": [
    "education_log = df[['education', 'education_id']]\n",
    "df = df.drop('education', 1)\n",
    "family_status_log = df[['family_status', 'family_status_id']]\n",
    "df = df.drop('family_status', 1)\n",
    "display(education_log.head())\n",
    "display(family_status_log.head())\n",
    "df.head()"
   ]
  },
  {
   "cell_type": "markdown",
   "id": "16eb2f56",
   "metadata": {},
   "source": [
    "В полученных словарях для определения education_id и family_status_id обнружено множество дубликатов от которых нужно избавиться."
   ]
  },
  {
   "cell_type": "code",
   "execution_count": 34,
   "id": "849b1c6b",
   "metadata": {},
   "outputs": [
    {
     "data": {
      "text/html": [
       "<div>\n",
       "<style scoped>\n",
       "    .dataframe tbody tr th:only-of-type {\n",
       "        vertical-align: middle;\n",
       "    }\n",
       "\n",
       "    .dataframe tbody tr th {\n",
       "        vertical-align: top;\n",
       "    }\n",
       "\n",
       "    .dataframe thead th {\n",
       "        text-align: right;\n",
       "    }\n",
       "</style>\n",
       "<table border=\"1\" class=\"dataframe\">\n",
       "  <thead>\n",
       "    <tr style=\"text-align: right;\">\n",
       "      <th></th>\n",
       "      <th>education</th>\n",
       "      <th>education_id</th>\n",
       "    </tr>\n",
       "  </thead>\n",
       "  <tbody>\n",
       "    <tr>\n",
       "      <th>0</th>\n",
       "      <td>высшее</td>\n",
       "      <td>0</td>\n",
       "    </tr>\n",
       "    <tr>\n",
       "      <th>1</th>\n",
       "      <td>среднее</td>\n",
       "      <td>1</td>\n",
       "    </tr>\n",
       "    <tr>\n",
       "      <th>2</th>\n",
       "      <td>неоконченное высшее</td>\n",
       "      <td>2</td>\n",
       "    </tr>\n",
       "    <tr>\n",
       "      <th>3</th>\n",
       "      <td>начальное</td>\n",
       "      <td>3</td>\n",
       "    </tr>\n",
       "    <tr>\n",
       "      <th>4</th>\n",
       "      <td>ученая степень</td>\n",
       "      <td>4</td>\n",
       "    </tr>\n",
       "  </tbody>\n",
       "</table>\n",
       "</div>"
      ],
      "text/plain": [
       "             education  education_id\n",
       "0               высшее             0\n",
       "1              среднее             1\n",
       "2  неоконченное высшее             2\n",
       "3            начальное             3\n",
       "4       ученая степень             4"
      ]
     },
     "metadata": {},
     "output_type": "display_data"
    },
    {
     "data": {
      "text/html": [
       "<div>\n",
       "<style scoped>\n",
       "    .dataframe tbody tr th:only-of-type {\n",
       "        vertical-align: middle;\n",
       "    }\n",
       "\n",
       "    .dataframe tbody tr th {\n",
       "        vertical-align: top;\n",
       "    }\n",
       "\n",
       "    .dataframe thead th {\n",
       "        text-align: right;\n",
       "    }\n",
       "</style>\n",
       "<table border=\"1\" class=\"dataframe\">\n",
       "  <thead>\n",
       "    <tr style=\"text-align: right;\">\n",
       "      <th></th>\n",
       "      <th>family_status</th>\n",
       "      <th>family_status_id</th>\n",
       "    </tr>\n",
       "  </thead>\n",
       "  <tbody>\n",
       "    <tr>\n",
       "      <th>0</th>\n",
       "      <td>женат / замужем</td>\n",
       "      <td>0</td>\n",
       "    </tr>\n",
       "    <tr>\n",
       "      <th>1</th>\n",
       "      <td>гражданский брак</td>\n",
       "      <td>1</td>\n",
       "    </tr>\n",
       "    <tr>\n",
       "      <th>2</th>\n",
       "      <td>вдовец / вдова</td>\n",
       "      <td>2</td>\n",
       "    </tr>\n",
       "    <tr>\n",
       "      <th>3</th>\n",
       "      <td>в разводе</td>\n",
       "      <td>3</td>\n",
       "    </tr>\n",
       "    <tr>\n",
       "      <th>4</th>\n",
       "      <td>Не женат / не замужем</td>\n",
       "      <td>4</td>\n",
       "    </tr>\n",
       "  </tbody>\n",
       "</table>\n",
       "</div>"
      ],
      "text/plain": [
       "           family_status  family_status_id\n",
       "0        женат / замужем                 0\n",
       "1       гражданский брак                 1\n",
       "2         вдовец / вдова                 2\n",
       "3              в разводе                 3\n",
       "4  Не женат / не замужем                 4"
      ]
     },
     "execution_count": 34,
     "metadata": {},
     "output_type": "execute_result"
    }
   ],
   "source": [
    "education_log = education_log.drop_duplicates().reset_index(drop=True)\n",
    "display(education_log)\n",
    "family_status_log = family_status_log.drop_duplicates().reset_index(drop=True)\n",
    "family_status_log"
   ]
  },
  {
   "cell_type": "markdown",
   "id": "2e166a46",
   "metadata": {},
   "source": [
    "### Категоризация дохода."
   ]
  },
  {
   "cell_type": "code",
   "execution_count": 35,
   "id": "4816932d",
   "metadata": {},
   "outputs": [
    {
     "data": {
      "text/plain": [
       "C    16016\n",
       "B     5040\n",
       "D      350\n",
       "A       25\n",
       "E       22\n",
       "Name: total_income_category, dtype: int64"
      ]
     },
     "execution_count": 35,
     "metadata": {},
     "output_type": "execute_result"
    }
   ],
   "source": [
    "# добавляю столбец с категорией дохода\n",
    "def income_category(total_income):\n",
    "    if 0 <= total_income <= 30000:\n",
    "        return 'E'\n",
    "    if 30001 <= total_income <= 50000:\n",
    "        return 'D'\n",
    "    if 50001 <= total_income <= 200000:\n",
    "        return 'C'\n",
    "    if 200001 <= total_income <= 1000000:\n",
    "        return 'B'\n",
    "    return 'A'\n",
    "df['total_income_category'] = df['total_income'].apply(income_category)\n",
    "df['total_income_category'].value_counts(dropna=False)"
   ]
  },
  {
   "cell_type": "markdown",
   "id": "d05095fa",
   "metadata": {},
   "source": [
    "### Категоризация целей кредита."
   ]
  },
  {
   "cell_type": "code",
   "execution_count": 36,
   "id": "eaa0d277",
   "metadata": {},
   "outputs": [
    {
     "data": {
      "text/plain": [
       "операции с недвижимостью    10810\n",
       "операции с автомобилем       4306\n",
       "получение образования        4013\n",
       "проведение свадьбы           2324\n",
       "Name: purpose_category, dtype: int64"
      ]
     },
     "execution_count": 36,
     "metadata": {},
     "output_type": "execute_result"
    }
   ],
   "source": [
    "# столбец с категориями целей кредита\n",
    "def purpose_category(purpose):\n",
    "    if 'авто' in purpose:\n",
    "        return 'операции с автомобилем'\n",
    "    if 'жил' in purpose or 'недвиж' in purpose:\n",
    "        return 'операции с недвижимостью'\n",
    "    if 'свадьб' in purpose:\n",
    "        return 'проведение свадьбы'\n",
    "    if 'образов' in purpose:\n",
    "        return 'получение образования'    \n",
    "df['purpose_category'] = df['purpose'].apply(purpose_category)\n",
    "df['purpose_category'].value_counts(dropna=False)"
   ]
  },
  {
   "cell_type": "markdown",
   "id": "67448ff8",
   "metadata": {},
   "source": [
    "### Итоги предобработки данных\n",
    "В результате предварительной обработки данных:\n",
    "1. Были обнаружены \n",
    "    - пропуски, \n",
    "    - артефактные значения, \n",
    "    - неподходящие для исследования типы данных \n",
    "    - небольшое количество дубликатов\n",
    "2. Датасет был представлен в \"неудобно\" читаемом виде\n",
    "3. Были заполнены пропуски в 'total_income' и 'days_employed'\n",
    "4. Исправлены аномальные данные в 'children', в 'total_income' \n",
    "5. Изменен тип данных\n",
    "6. Удалены строки-дубликаты\n",
    "7. Созданы отдельные словари для простого определения уровня образования и семейного положения\n",
    "8. Доходы и цели кредита были категоризированы"
   ]
  },
  {
   "cell_type": "markdown",
   "id": "abaae7cc",
   "metadata": {},
   "source": [
    "## Исследовательский анализ."
   ]
  },
  {
   "cell_type": "markdown",
   "id": "2447cf6c",
   "metadata": {},
   "source": [
    "### Есть ли зависимость между количеством детей и возвратом кредита в срок?"
   ]
  },
  {
   "cell_type": "code",
   "execution_count": 37,
   "id": "943a7e71",
   "metadata": {},
   "outputs": [
    {
     "data": {
      "text/html": [
       "<div>\n",
       "<style scoped>\n",
       "    .dataframe tbody tr th:only-of-type {\n",
       "        vertical-align: middle;\n",
       "    }\n",
       "\n",
       "    .dataframe tbody tr th {\n",
       "        vertical-align: top;\n",
       "    }\n",
       "\n",
       "    .dataframe thead th {\n",
       "        text-align: right;\n",
       "    }\n",
       "</style>\n",
       "<table border=\"1\" class=\"dataframe\">\n",
       "  <thead>\n",
       "    <tr style=\"text-align: right;\">\n",
       "      <th></th>\n",
       "      <th>total_in_gr</th>\n",
       "      <th>debt_in_gr</th>\n",
       "      <th>debt_part</th>\n",
       "    </tr>\n",
       "    <tr>\n",
       "      <th>children</th>\n",
       "      <th></th>\n",
       "      <th></th>\n",
       "      <th></th>\n",
       "    </tr>\n",
       "  </thead>\n",
       "  <tbody>\n",
       "    <tr>\n",
       "      <th>0</th>\n",
       "      <td>14090</td>\n",
       "      <td>1063</td>\n",
       "      <td>0.075444</td>\n",
       "    </tr>\n",
       "    <tr>\n",
       "      <th>1</th>\n",
       "      <td>4855</td>\n",
       "      <td>445</td>\n",
       "      <td>0.091658</td>\n",
       "    </tr>\n",
       "    <tr>\n",
       "      <th>2</th>\n",
       "      <td>2128</td>\n",
       "      <td>202</td>\n",
       "      <td>0.094925</td>\n",
       "    </tr>\n",
       "    <tr>\n",
       "      <th>3</th>\n",
       "      <td>330</td>\n",
       "      <td>27</td>\n",
       "      <td>0.081818</td>\n",
       "    </tr>\n",
       "    <tr>\n",
       "      <th>4</th>\n",
       "      <td>41</td>\n",
       "      <td>4</td>\n",
       "      <td>0.097561</td>\n",
       "    </tr>\n",
       "    <tr>\n",
       "      <th>5</th>\n",
       "      <td>9</td>\n",
       "      <td>0</td>\n",
       "      <td>0.000000</td>\n",
       "    </tr>\n",
       "  </tbody>\n",
       "</table>\n",
       "</div>"
      ],
      "text/plain": [
       "          total_in_gr  debt_in_gr  debt_part\n",
       "children                                    \n",
       "0               14090        1063   0.075444\n",
       "1                4855         445   0.091658\n",
       "2                2128         202   0.094925\n",
       "3                 330          27   0.081818\n",
       "4                  41           4   0.097561\n",
       "5                   9           0   0.000000"
      ]
     },
     "execution_count": 37,
     "metadata": {},
     "output_type": "execute_result"
    }
   ],
   "source": [
    "children_debt_pivot = df.pivot_table(index='children', values='debt', aggfunc=['count', 'sum', 'mean'])\n",
    "children_debt_pivot.columns = ['total_in_gr', 'debt_in_gr', 'debt_part']\n",
    "children_debt_pivot"
   ]
  },
  {
   "cell_type": "markdown",
   "id": "01bdae7f",
   "metadata": {},
   "source": [
    "#### Вывод :\n",
    "Доля должников от общего количества клиентов, сгруппированных по количеству детей, по каждой группе не превышает 10%, из чего можем сделать вывод, что факт наличия или отсутствия детей не является критерием возврата кредита в срок. Вместе с тем следует обратить внимание, что в наиболее многочисленных группах, где у клиентов нет детей совсем или один-два ребенка, процент должников у бездетных ниже примерно на 2%, чем у групп с 1-2 детьми."
   ]
  },
  {
   "cell_type": "markdown",
   "id": "d0f95ad5",
   "metadata": {},
   "source": [
    "### Есть ли зависимость между семейным положением и возвратом кредита в срок?"
   ]
  },
  {
   "cell_type": "code",
   "execution_count": 38,
   "id": "8338fe76",
   "metadata": {},
   "outputs": [
    {
     "data": {
      "text/html": [
       "<div>\n",
       "<style scoped>\n",
       "    .dataframe tbody tr th:only-of-type {\n",
       "        vertical-align: middle;\n",
       "    }\n",
       "\n",
       "    .dataframe tbody tr th {\n",
       "        vertical-align: top;\n",
       "    }\n",
       "\n",
       "    .dataframe thead th {\n",
       "        text-align: right;\n",
       "    }\n",
       "</style>\n",
       "<table border=\"1\" class=\"dataframe\">\n",
       "  <thead>\n",
       "    <tr style=\"text-align: right;\">\n",
       "      <th></th>\n",
       "      <th>family_status_id</th>\n",
       "      <th>total_in_gr</th>\n",
       "      <th>debt_in_gr</th>\n",
       "      <th>debt_part</th>\n",
       "      <th>family_status</th>\n",
       "    </tr>\n",
       "  </thead>\n",
       "  <tbody>\n",
       "    <tr>\n",
       "      <th>0</th>\n",
       "      <td>0</td>\n",
       "      <td>12339</td>\n",
       "      <td>931</td>\n",
       "      <td>0.075452</td>\n",
       "      <td>женат / замужем</td>\n",
       "    </tr>\n",
       "    <tr>\n",
       "      <th>1</th>\n",
       "      <td>1</td>\n",
       "      <td>4150</td>\n",
       "      <td>388</td>\n",
       "      <td>0.093494</td>\n",
       "      <td>гражданский брак</td>\n",
       "    </tr>\n",
       "    <tr>\n",
       "      <th>2</th>\n",
       "      <td>2</td>\n",
       "      <td>959</td>\n",
       "      <td>63</td>\n",
       "      <td>0.065693</td>\n",
       "      <td>вдовец / вдова</td>\n",
       "    </tr>\n",
       "    <tr>\n",
       "      <th>3</th>\n",
       "      <td>3</td>\n",
       "      <td>1195</td>\n",
       "      <td>85</td>\n",
       "      <td>0.071130</td>\n",
       "      <td>в разводе</td>\n",
       "    </tr>\n",
       "    <tr>\n",
       "      <th>4</th>\n",
       "      <td>4</td>\n",
       "      <td>2810</td>\n",
       "      <td>274</td>\n",
       "      <td>0.097509</td>\n",
       "      <td>Не женат / не замужем</td>\n",
       "    </tr>\n",
       "  </tbody>\n",
       "</table>\n",
       "</div>"
      ],
      "text/plain": [
       "   family_status_id  total_in_gr  debt_in_gr  debt_part          family_status\n",
       "0                 0        12339         931   0.075452        женат / замужем\n",
       "1                 1         4150         388   0.093494       гражданский брак\n",
       "2                 2          959          63   0.065693         вдовец / вдова\n",
       "3                 3         1195          85   0.071130              в разводе\n",
       "4                 4         2810         274   0.097509  Не женат / не замужем"
      ]
     },
     "execution_count": 38,
     "metadata": {},
     "output_type": "execute_result"
    }
   ],
   "source": [
    "family_status_id_pivot = df.pivot_table(index='family_status_id', values='debt', aggfunc=['count', 'sum', 'mean'])\n",
    "family_status_id_pivot.columns = ['total_in_gr', 'debt_in_gr', 'debt_part']\n",
    "family_status_id_pivot = family_status_id_pivot.merge(family_status_log, on='family_status_id', how='left')\n",
    "family_status_id_pivot"
   ]
  },
  {
   "cell_type": "markdown",
   "id": "ac2a94c9",
   "metadata": {},
   "source": [
    "#### Вывод:\n",
    "Доля должников в зависимости от семейного положения не имеет значительных отличий, хотя доля должников среди тех, у кого не было задокументированного статуса (гражданский брак и не женатые) чуть больше, чем в группах, где семейное положение было оформлено документально, хоть разница не существенная, при принятии решения о выдаче кредита стоит учитывать факт семейного положения."
   ]
  },
  {
   "cell_type": "markdown",
   "id": "c61cee15",
   "metadata": {},
   "source": [
    "### Есть ли зависимость между уровнем дохода и возвратом кредита в срок?"
   ]
  },
  {
   "cell_type": "code",
   "execution_count": 39,
   "id": "4c74712e",
   "metadata": {},
   "outputs": [
    {
     "data": {
      "text/html": [
       "<div>\n",
       "<style scoped>\n",
       "    .dataframe tbody tr th:only-of-type {\n",
       "        vertical-align: middle;\n",
       "    }\n",
       "\n",
       "    .dataframe tbody tr th {\n",
       "        vertical-align: top;\n",
       "    }\n",
       "\n",
       "    .dataframe thead th {\n",
       "        text-align: right;\n",
       "    }\n",
       "</style>\n",
       "<table border=\"1\" class=\"dataframe\">\n",
       "  <thead>\n",
       "    <tr style=\"text-align: right;\">\n",
       "      <th></th>\n",
       "      <th>total_in_gr</th>\n",
       "      <th>debt_in_gr</th>\n",
       "      <th>debt_part</th>\n",
       "    </tr>\n",
       "    <tr>\n",
       "      <th>total_income_category</th>\n",
       "      <th></th>\n",
       "      <th></th>\n",
       "      <th></th>\n",
       "    </tr>\n",
       "  </thead>\n",
       "  <tbody>\n",
       "    <tr>\n",
       "      <th>A</th>\n",
       "      <td>25</td>\n",
       "      <td>2</td>\n",
       "      <td>0.080000</td>\n",
       "    </tr>\n",
       "    <tr>\n",
       "      <th>B</th>\n",
       "      <td>5040</td>\n",
       "      <td>356</td>\n",
       "      <td>0.070635</td>\n",
       "    </tr>\n",
       "    <tr>\n",
       "      <th>C</th>\n",
       "      <td>16016</td>\n",
       "      <td>1360</td>\n",
       "      <td>0.084915</td>\n",
       "    </tr>\n",
       "    <tr>\n",
       "      <th>D</th>\n",
       "      <td>350</td>\n",
       "      <td>21</td>\n",
       "      <td>0.060000</td>\n",
       "    </tr>\n",
       "    <tr>\n",
       "      <th>E</th>\n",
       "      <td>22</td>\n",
       "      <td>2</td>\n",
       "      <td>0.090909</td>\n",
       "    </tr>\n",
       "  </tbody>\n",
       "</table>\n",
       "</div>"
      ],
      "text/plain": [
       "                       total_in_gr  debt_in_gr  debt_part\n",
       "total_income_category                                    \n",
       "A                               25           2   0.080000\n",
       "B                             5040         356   0.070635\n",
       "C                            16016        1360   0.084915\n",
       "D                              350          21   0.060000\n",
       "E                               22           2   0.090909"
      ]
     },
     "execution_count": 39,
     "metadata": {},
     "output_type": "execute_result"
    }
   ],
   "source": [
    "income_category_pivot = df.pivot_table(index='total_income_category', values='debt', aggfunc=['count', 'sum', 'mean'])\n",
    "income_category_pivot.columns = ['total_in_gr', 'debt_in_gr', 'debt_part']\n",
    "income_category_pivot"
   ]
  },
  {
   "cell_type": "markdown",
   "id": "de8086af",
   "metadata": {},
   "source": [
    "#### Вывод:\n",
    "В целом, соотношение должников по группам не имеет серьезных отличий и никак не привязано к снижению дохода. Группы 'А' и 'Е' малочисленные, если результаты по ним не брать в рассчет, то видим, что наиболее рисковая группа - клиенты с категорией дохода 'С' (от 50 000 до 200 000р), это наиболее многочисленная группа, чтобы связывать влияние уровня дохода с решением по кредиту, потребуется дополнительный анализ, где группу 'С' можно рассмотреть в разрезе городов, так как верхнее и нижнее значение по группе указывает на совершенно разное материальное положенеи в малых и крупных городах."
   ]
  },
  {
   "cell_type": "markdown",
   "id": "5c903241",
   "metadata": {},
   "source": [
    "### Как разные цели кредита влияют на его возврат в срок?"
   ]
  },
  {
   "cell_type": "code",
   "execution_count": 40,
   "id": "6562bfc2",
   "metadata": {},
   "outputs": [
    {
     "data": {
      "text/html": [
       "<div>\n",
       "<style scoped>\n",
       "    .dataframe tbody tr th:only-of-type {\n",
       "        vertical-align: middle;\n",
       "    }\n",
       "\n",
       "    .dataframe tbody tr th {\n",
       "        vertical-align: top;\n",
       "    }\n",
       "\n",
       "    .dataframe thead th {\n",
       "        text-align: right;\n",
       "    }\n",
       "</style>\n",
       "<table border=\"1\" class=\"dataframe\">\n",
       "  <thead>\n",
       "    <tr style=\"text-align: right;\">\n",
       "      <th></th>\n",
       "      <th>total_in_gr</th>\n",
       "      <th>debt_in_gr</th>\n",
       "      <th>debt_part</th>\n",
       "    </tr>\n",
       "    <tr>\n",
       "      <th>purpose_category</th>\n",
       "      <th></th>\n",
       "      <th></th>\n",
       "      <th></th>\n",
       "    </tr>\n",
       "  </thead>\n",
       "  <tbody>\n",
       "    <tr>\n",
       "      <th>операции с автомобилем</th>\n",
       "      <td>4306</td>\n",
       "      <td>403</td>\n",
       "      <td>0.093590</td>\n",
       "    </tr>\n",
       "    <tr>\n",
       "      <th>операции с недвижимостью</th>\n",
       "      <td>10810</td>\n",
       "      <td>782</td>\n",
       "      <td>0.072340</td>\n",
       "    </tr>\n",
       "    <tr>\n",
       "      <th>получение образования</th>\n",
       "      <td>4013</td>\n",
       "      <td>370</td>\n",
       "      <td>0.092200</td>\n",
       "    </tr>\n",
       "    <tr>\n",
       "      <th>проведение свадьбы</th>\n",
       "      <td>2324</td>\n",
       "      <td>186</td>\n",
       "      <td>0.080034</td>\n",
       "    </tr>\n",
       "  </tbody>\n",
       "</table>\n",
       "</div>"
      ],
      "text/plain": [
       "                          total_in_gr  debt_in_gr  debt_part\n",
       "purpose_category                                            \n",
       "операции с автомобилем           4306         403   0.093590\n",
       "операции с недвижимостью        10810         782   0.072340\n",
       "получение образования            4013         370   0.092200\n",
       "проведение свадьбы               2324         186   0.080034"
      ]
     },
     "execution_count": 40,
     "metadata": {},
     "output_type": "execute_result"
    }
   ],
   "source": [
    "purpose_category_pivot = df.pivot_table(index='purpose_category', values='debt', aggfunc=['count', 'sum', 'mean'])\n",
    "purpose_category_pivot.columns = ['total_in_gr', 'debt_in_gr', 'debt_part']\n",
    "purpose_category_pivot"
   ]
  },
  {
   "cell_type": "markdown",
   "id": "6a23b854",
   "metadata": {},
   "source": [
    "#### Вывод:\n",
    "В зависимости от цели кредита также не обнаружено сущесственных отличий по группам. Доля должников среди тех, кто берет деньги на операции с автомобилем и получение образования, хоть и не сильно, но больше, то есть эта цель потенциально несет больше рисков, а наименее рисковой группой являются операции с недвижимостью."
   ]
  },
  {
   "cell_type": "markdown",
   "id": "38c5a93e",
   "metadata": {},
   "source": [
    "## Общий вывод:"
   ]
  },
  {
   "cell_type": "markdown",
   "id": "5485608e",
   "metadata": {},
   "source": [
    "В ходе работы были заполнены пропуски данных, удалены дубликаты, добавлены ноые столбца, облегчающие анализ данных.\n",
    "Рекомендуется проверить корректность сбора данных в days_employed, так как отрицательные и \"нереалистичные\" значения могут помешать при проверке новых гипотез.\n",
    "\n",
    "Семейное положение и количество детей клиента не оказывает существенного влияния на факт погашения кредита в срок, тем не мение некоторые отличия по группам присутствуют, поэтому в скоринге следует учитывать, что если семейное положение было зарегистрированно официально, клиент более ответственно подходит к погашению кредита, а также отсутствие детей немного повышает возможность вернуть кредит в срок. Также стоит оценивать цель получения кредита, где операции с недвижимостью являются наименее рисковыми. Информация о категории доходов в представленном виде не дает возможности оценить риски, для более точного анализа потребуютя данные о городах проживания/работы. "
   ]
  },
  {
   "cell_type": "code",
   "execution_count": null,
   "id": "dfe5e6b1",
   "metadata": {},
   "outputs": [],
   "source": []
  }
 ],
 "metadata": {
  "ExecuteTimeLog": [
   {
    "duration": 526,
    "start_time": "2022-04-15T05:00:32.520Z"
   },
   {
    "duration": 17,
    "start_time": "2022-04-15T05:03:43.603Z"
   },
   {
    "duration": 75,
    "start_time": "2022-04-15T05:38:25.046Z"
   },
   {
    "duration": 7,
    "start_time": "2022-04-15T05:38:33.054Z"
   },
   {
    "duration": 4,
    "start_time": "2022-04-15T05:43:07.945Z"
   },
   {
    "duration": 5,
    "start_time": "2022-04-15T05:44:02.725Z"
   },
   {
    "duration": 20,
    "start_time": "2022-04-15T05:44:15.597Z"
   },
   {
    "duration": 16,
    "start_time": "2022-04-15T05:44:50.118Z"
   },
   {
    "duration": 17,
    "start_time": "2022-04-15T06:04:10.812Z"
   },
   {
    "duration": 15,
    "start_time": "2022-04-15T06:20:31.807Z"
   },
   {
    "duration": 5,
    "start_time": "2022-04-15T06:23:16.925Z"
   },
   {
    "duration": 6,
    "start_time": "2022-04-15T06:26:21.669Z"
   },
   {
    "duration": 18,
    "start_time": "2022-04-15T06:29:47.830Z"
   },
   {
    "duration": 5,
    "start_time": "2022-04-15T06:30:36.736Z"
   },
   {
    "duration": 110,
    "start_time": "2022-04-19T07:57:34.595Z"
   },
   {
    "duration": 647,
    "start_time": "2022-04-19T07:57:46.897Z"
   },
   {
    "duration": 24,
    "start_time": "2022-04-19T07:57:47.546Z"
   },
   {
    "duration": 23,
    "start_time": "2022-04-19T07:57:47.572Z"
   },
   {
    "duration": 8,
    "start_time": "2022-04-19T07:57:47.624Z"
   },
   {
    "duration": 9,
    "start_time": "2022-04-19T07:57:50.074Z"
   },
   {
    "duration": 40,
    "start_time": "2022-04-19T09:02:46.960Z"
   },
   {
    "duration": 4,
    "start_time": "2022-04-19T09:04:55.760Z"
   },
   {
    "duration": 29,
    "start_time": "2022-04-19T09:05:18.714Z"
   },
   {
    "duration": 47,
    "start_time": "2022-04-19T09:45:31.028Z"
   },
   {
    "duration": 31,
    "start_time": "2022-04-19T09:45:41.292Z"
   },
   {
    "duration": 16,
    "start_time": "2022-04-19T09:48:13.652Z"
   },
   {
    "duration": 25,
    "start_time": "2022-04-19T10:00:51.403Z"
   },
   {
    "duration": 17,
    "start_time": "2022-04-19T10:03:16.764Z"
   },
   {
    "duration": 14,
    "start_time": "2022-04-19T10:05:52.336Z"
   },
   {
    "duration": 1195,
    "start_time": "2022-04-19T10:12:25.074Z"
   },
   {
    "duration": 1201,
    "start_time": "2022-04-19T10:13:42.999Z"
   },
   {
    "duration": 60,
    "start_time": "2022-04-19T10:15:11.358Z"
   },
   {
    "duration": 1056,
    "start_time": "2022-04-19T10:15:31.224Z"
   },
   {
    "duration": 25,
    "start_time": "2022-04-19T10:15:40.243Z"
   },
   {
    "duration": 22,
    "start_time": "2022-04-19T10:16:19.250Z"
   },
   {
    "duration": 34,
    "start_time": "2022-04-19T10:23:34.412Z"
   },
   {
    "duration": 30,
    "start_time": "2022-04-19T10:25:01.664Z"
   },
   {
    "duration": 6,
    "start_time": "2022-04-19T10:30:17.801Z"
   },
   {
    "duration": 13,
    "start_time": "2022-04-19T10:30:35.144Z"
   },
   {
    "duration": 6,
    "start_time": "2022-04-19T10:30:48.305Z"
   },
   {
    "duration": 13,
    "start_time": "2022-04-19T10:31:07.621Z"
   },
   {
    "duration": 10,
    "start_time": "2022-04-19T10:31:17.265Z"
   },
   {
    "duration": 11,
    "start_time": "2022-04-19T10:32:28.163Z"
   },
   {
    "duration": 2187,
    "start_time": "2022-04-19T10:33:01.686Z"
   },
   {
    "duration": 147,
    "start_time": "2022-04-19T10:33:50.314Z"
   },
   {
    "duration": 7,
    "start_time": "2022-04-19T10:33:57.684Z"
   },
   {
    "duration": 10,
    "start_time": "2022-04-19T10:35:03.377Z"
   },
   {
    "duration": 2056,
    "start_time": "2022-04-19T10:35:34.133Z"
   },
   {
    "duration": 26,
    "start_time": "2022-04-19T10:36:34.444Z"
   },
   {
    "duration": 12,
    "start_time": "2022-04-19T10:37:00.516Z"
   },
   {
    "duration": 23,
    "start_time": "2022-04-19T10:38:17.151Z"
   },
   {
    "duration": 24,
    "start_time": "2022-04-19T10:39:48.395Z"
   },
   {
    "duration": 16,
    "start_time": "2022-04-19T10:39:57.268Z"
   },
   {
    "duration": 19,
    "start_time": "2022-04-19T10:43:31.360Z"
   },
   {
    "duration": 11,
    "start_time": "2022-04-19T10:43:50.017Z"
   },
   {
    "duration": 10,
    "start_time": "2022-04-19T10:44:47.103Z"
   },
   {
    "duration": 9,
    "start_time": "2022-04-19T10:47:39.803Z"
   },
   {
    "duration": 10,
    "start_time": "2022-04-19T10:50:16.934Z"
   },
   {
    "duration": 10,
    "start_time": "2022-04-19T10:56:27.984Z"
   },
   {
    "duration": 4,
    "start_time": "2022-04-19T10:57:28.225Z"
   },
   {
    "duration": 5,
    "start_time": "2022-04-19T10:57:41.687Z"
   },
   {
    "duration": 5,
    "start_time": "2022-04-19T10:57:45.172Z"
   },
   {
    "duration": 9,
    "start_time": "2022-04-19T10:58:08.435Z"
   },
   {
    "duration": 24,
    "start_time": "2022-04-19T10:58:42.981Z"
   },
   {
    "duration": 32,
    "start_time": "2022-04-19T10:59:50.846Z"
   },
   {
    "duration": 39,
    "start_time": "2022-04-19T11:00:28.891Z"
   },
   {
    "duration": 69,
    "start_time": "2022-04-19T11:01:18.277Z"
   },
   {
    "duration": 86,
    "start_time": "2022-04-19T11:02:08.040Z"
   },
   {
    "duration": 46,
    "start_time": "2022-04-19T11:06:55.998Z"
   },
   {
    "duration": 25,
    "start_time": "2022-04-19T11:07:52.838Z"
   },
   {
    "duration": 26,
    "start_time": "2022-04-19T11:08:11.760Z"
   },
   {
    "duration": 17,
    "start_time": "2022-04-19T11:08:45.033Z"
   },
   {
    "duration": 7,
    "start_time": "2022-04-19T11:09:58.319Z"
   },
   {
    "duration": 93,
    "start_time": "2022-04-19T11:11:27.063Z"
   },
   {
    "duration": 34,
    "start_time": "2022-04-19T11:11:27.159Z"
   },
   {
    "duration": 53,
    "start_time": "2022-04-19T11:11:27.196Z"
   },
   {
    "duration": 7,
    "start_time": "2022-04-19T11:11:27.256Z"
   },
   {
    "duration": 7,
    "start_time": "2022-04-19T11:11:32.618Z"
   },
   {
    "duration": 10,
    "start_time": "2022-04-19T11:18:08.877Z"
   },
   {
    "duration": 9,
    "start_time": "2022-04-19T11:22:13.901Z"
   },
   {
    "duration": 15,
    "start_time": "2022-04-19T11:24:43.780Z"
   },
   {
    "duration": 9,
    "start_time": "2022-04-19T11:29:00.984Z"
   },
   {
    "duration": 10,
    "start_time": "2022-04-19T11:37:46.819Z"
   },
   {
    "duration": 169,
    "start_time": "2022-04-19T12:48:42.004Z"
   },
   {
    "duration": 142,
    "start_time": "2022-04-19T12:48:54.956Z"
   },
   {
    "duration": 36,
    "start_time": "2022-04-19T12:48:55.101Z"
   },
   {
    "duration": 32,
    "start_time": "2022-04-19T12:48:55.140Z"
   },
   {
    "duration": 8,
    "start_time": "2022-04-19T12:48:55.175Z"
   },
   {
    "duration": 43,
    "start_time": "2022-04-19T12:48:55.187Z"
   },
   {
    "duration": 30,
    "start_time": "2022-04-19T12:48:55.233Z"
   },
   {
    "duration": 14,
    "start_time": "2022-04-19T12:48:55.265Z"
   },
   {
    "duration": 163,
    "start_time": "2022-04-19T12:48:58.231Z"
   },
   {
    "duration": 20,
    "start_time": "2022-04-19T12:49:14.870Z"
   },
   {
    "duration": 19,
    "start_time": "2022-04-19T12:51:05.477Z"
   },
   {
    "duration": 38,
    "start_time": "2022-04-19T13:03:17.792Z"
   },
   {
    "duration": 47,
    "start_time": "2022-04-19T13:07:13.123Z"
   },
   {
    "duration": 37,
    "start_time": "2022-04-19T13:09:40.794Z"
   },
   {
    "duration": 35,
    "start_time": "2022-04-19T13:10:35.746Z"
   },
   {
    "duration": 34,
    "start_time": "2022-04-19T13:26:18.032Z"
   },
   {
    "duration": 10,
    "start_time": "2022-04-19T13:55:50.358Z"
   },
   {
    "duration": 98,
    "start_time": "2022-04-19T13:56:05.270Z"
   },
   {
    "duration": 31,
    "start_time": "2022-04-19T13:56:05.372Z"
   },
   {
    "duration": 46,
    "start_time": "2022-04-19T13:56:05.406Z"
   },
   {
    "duration": 10,
    "start_time": "2022-04-19T13:56:05.455Z"
   },
   {
    "duration": 11,
    "start_time": "2022-04-19T13:56:05.468Z"
   },
   {
    "duration": 15,
    "start_time": "2022-04-19T13:56:05.482Z"
   },
   {
    "duration": 10,
    "start_time": "2022-04-19T13:56:08.741Z"
   },
   {
    "duration": 25,
    "start_time": "2022-04-19T13:58:21.079Z"
   },
   {
    "duration": 35,
    "start_time": "2022-04-19T13:58:37.697Z"
   },
   {
    "duration": 22,
    "start_time": "2022-04-19T14:00:08.001Z"
   },
   {
    "duration": 22,
    "start_time": "2022-04-19T14:01:47.842Z"
   },
   {
    "duration": 11,
    "start_time": "2022-04-19T14:06:11.848Z"
   },
   {
    "duration": 9,
    "start_time": "2022-04-19T14:06:22.686Z"
   },
   {
    "duration": 31,
    "start_time": "2022-04-19T14:06:27.704Z"
   },
   {
    "duration": 28,
    "start_time": "2022-04-19T14:06:36.512Z"
   },
   {
    "duration": 11,
    "start_time": "2022-04-19T14:13:22.330Z"
   },
   {
    "duration": 12,
    "start_time": "2022-04-19T14:17:35.692Z"
   },
   {
    "duration": 183,
    "start_time": "2022-04-19T14:18:32.815Z"
   },
   {
    "duration": 32,
    "start_time": "2022-04-19T14:18:33.001Z"
   },
   {
    "duration": 34,
    "start_time": "2022-04-19T14:18:33.036Z"
   },
   {
    "duration": 6,
    "start_time": "2022-04-19T14:18:33.073Z"
   },
   {
    "duration": 7,
    "start_time": "2022-04-19T14:18:38.855Z"
   },
   {
    "duration": 8,
    "start_time": "2022-04-19T14:18:47.036Z"
   },
   {
    "duration": 10,
    "start_time": "2022-04-19T14:18:58.761Z"
   },
   {
    "duration": 13,
    "start_time": "2022-04-19T14:36:16.698Z"
   },
   {
    "duration": 82,
    "start_time": "2022-04-19T14:36:28.234Z"
   },
   {
    "duration": 33,
    "start_time": "2022-04-19T14:36:28.318Z"
   },
   {
    "duration": 21,
    "start_time": "2022-04-19T14:36:28.353Z"
   },
   {
    "duration": 6,
    "start_time": "2022-04-19T14:36:28.377Z"
   },
   {
    "duration": 6,
    "start_time": "2022-04-19T14:36:28.385Z"
   },
   {
    "duration": 47,
    "start_time": "2022-04-19T14:36:28.393Z"
   },
   {
    "duration": 9,
    "start_time": "2022-04-19T14:36:28.444Z"
   },
   {
    "duration": 27,
    "start_time": "2022-04-19T14:36:28.455Z"
   },
   {
    "duration": 13,
    "start_time": "2022-04-19T14:36:30.526Z"
   },
   {
    "duration": 15,
    "start_time": "2022-04-19T14:36:44.877Z"
   },
   {
    "duration": 1103,
    "start_time": "2022-04-19T14:38:15.179Z"
   },
   {
    "duration": 14,
    "start_time": "2022-04-19T14:38:47.099Z"
   },
   {
    "duration": 11,
    "start_time": "2022-04-19T14:39:42.556Z"
   },
   {
    "duration": 13,
    "start_time": "2022-04-19T14:41:13.433Z"
   },
   {
    "duration": 11,
    "start_time": "2022-04-19T14:42:40.240Z"
   },
   {
    "duration": 28,
    "start_time": "2022-04-19T14:47:19.612Z"
   },
   {
    "duration": 5,
    "start_time": "2022-04-19T14:55:07.722Z"
   },
   {
    "duration": 35,
    "start_time": "2022-04-19T14:55:48.162Z"
   },
   {
    "duration": 22,
    "start_time": "2022-04-19T14:56:21.238Z"
   },
   {
    "duration": 5,
    "start_time": "2022-04-19T15:04:57.265Z"
   },
   {
    "duration": 4,
    "start_time": "2022-04-19T15:04:59.690Z"
   },
   {
    "duration": 29,
    "start_time": "2022-04-19T15:17:16.409Z"
   },
   {
    "duration": 31,
    "start_time": "2022-04-19T15:18:30.084Z"
   },
   {
    "duration": 47,
    "start_time": "2022-04-19T15:19:17.768Z"
   },
   {
    "duration": 28,
    "start_time": "2022-04-19T15:20:59.424Z"
   },
   {
    "duration": 62,
    "start_time": "2022-04-19T15:31:00.021Z"
   },
   {
    "duration": 55,
    "start_time": "2022-04-19T15:32:00.525Z"
   },
   {
    "duration": 83,
    "start_time": "2022-04-19T15:32:51.200Z"
   },
   {
    "duration": 46,
    "start_time": "2022-04-19T15:33:57.048Z"
   },
   {
    "duration": 71,
    "start_time": "2022-04-19T15:35:09.648Z"
   },
   {
    "duration": 52,
    "start_time": "2022-04-19T15:36:13.482Z"
   },
   {
    "duration": 55,
    "start_time": "2022-04-19T15:40:55.526Z"
   },
   {
    "duration": 69,
    "start_time": "2022-04-19T15:41:35.920Z"
   },
   {
    "duration": 79,
    "start_time": "2022-04-19T15:41:45.076Z"
   },
   {
    "duration": 74,
    "start_time": "2022-04-19T15:43:40.009Z"
   },
   {
    "duration": 49,
    "start_time": "2022-04-19T15:44:45.206Z"
   },
   {
    "duration": 46,
    "start_time": "2022-04-19T15:45:13.925Z"
   },
   {
    "duration": 48,
    "start_time": "2022-04-19T15:45:41.613Z"
   },
   {
    "duration": 48,
    "start_time": "2022-04-19T15:46:03.986Z"
   },
   {
    "duration": 93,
    "start_time": "2022-04-19T15:46:18.019Z"
   },
   {
    "duration": 23,
    "start_time": "2022-04-19T15:46:18.115Z"
   },
   {
    "duration": 22,
    "start_time": "2022-04-19T15:46:18.140Z"
   },
   {
    "duration": 6,
    "start_time": "2022-04-19T15:46:18.165Z"
   },
   {
    "duration": 10,
    "start_time": "2022-04-19T15:46:18.174Z"
   },
   {
    "duration": 9,
    "start_time": "2022-04-19T15:46:18.224Z"
   },
   {
    "duration": 10,
    "start_time": "2022-04-19T15:46:18.235Z"
   },
   {
    "duration": 36,
    "start_time": "2022-04-19T15:46:18.247Z"
   },
   {
    "duration": 42,
    "start_time": "2022-04-19T15:46:18.285Z"
   },
   {
    "duration": 9,
    "start_time": "2022-04-19T15:46:18.329Z"
   },
   {
    "duration": 47,
    "start_time": "2022-04-19T15:46:22.051Z"
   },
   {
    "duration": 58,
    "start_time": "2022-04-19T15:52:05.029Z"
   },
   {
    "duration": 55,
    "start_time": "2022-04-19T15:52:16.796Z"
   },
   {
    "duration": 54,
    "start_time": "2022-04-19T15:57:33.685Z"
   },
   {
    "duration": 61,
    "start_time": "2022-04-19T16:00:21.311Z"
   },
   {
    "duration": 53,
    "start_time": "2022-04-19T16:02:59.387Z"
   },
   {
    "duration": 49,
    "start_time": "2022-04-19T16:03:19.630Z"
   },
   {
    "duration": 31,
    "start_time": "2022-04-19T16:06:35.455Z"
   },
   {
    "duration": 38,
    "start_time": "2022-04-19T16:07:04.976Z"
   },
   {
    "duration": 90,
    "start_time": "2022-04-19T16:07:10.711Z"
   },
   {
    "duration": 30,
    "start_time": "2022-04-19T16:07:10.805Z"
   },
   {
    "duration": 34,
    "start_time": "2022-04-19T16:07:10.837Z"
   },
   {
    "duration": 6,
    "start_time": "2022-04-19T16:07:10.873Z"
   },
   {
    "duration": 5,
    "start_time": "2022-04-19T16:07:10.883Z"
   },
   {
    "duration": 49,
    "start_time": "2022-04-19T16:07:10.891Z"
   },
   {
    "duration": 14,
    "start_time": "2022-04-19T16:07:10.942Z"
   },
   {
    "duration": 28,
    "start_time": "2022-04-19T16:07:10.959Z"
   },
   {
    "duration": 45,
    "start_time": "2022-04-19T16:07:10.990Z"
   },
   {
    "duration": 13,
    "start_time": "2022-04-19T16:07:11.038Z"
   },
   {
    "duration": 28,
    "start_time": "2022-04-19T16:07:15.174Z"
   },
   {
    "duration": 43,
    "start_time": "2022-04-19T16:08:14.240Z"
   },
   {
    "duration": 16,
    "start_time": "2022-04-19T16:34:38.259Z"
   },
   {
    "duration": 24,
    "start_time": "2022-04-19T16:35:06.702Z"
   },
   {
    "duration": 104,
    "start_time": "2022-04-19T17:39:54.125Z"
   },
   {
    "duration": 30,
    "start_time": "2022-04-19T17:39:54.232Z"
   },
   {
    "duration": 23,
    "start_time": "2022-04-19T17:39:54.265Z"
   },
   {
    "duration": 8,
    "start_time": "2022-04-19T17:39:54.290Z"
   },
   {
    "duration": 9,
    "start_time": "2022-04-19T17:39:54.328Z"
   },
   {
    "duration": 23,
    "start_time": "2022-04-19T17:39:54.340Z"
   },
   {
    "duration": 9,
    "start_time": "2022-04-19T17:39:54.365Z"
   },
   {
    "duration": 28,
    "start_time": "2022-04-19T17:39:54.376Z"
   },
   {
    "duration": 25,
    "start_time": "2022-04-19T17:39:54.406Z"
   },
   {
    "duration": 23,
    "start_time": "2022-04-19T17:39:54.435Z"
   },
   {
    "duration": 75,
    "start_time": "2022-04-19T17:39:59.497Z"
   },
   {
    "duration": 70,
    "start_time": "2022-04-19T17:40:33.148Z"
   },
   {
    "duration": 76,
    "start_time": "2022-04-19T17:41:15.689Z"
   },
   {
    "duration": 92,
    "start_time": "2022-04-19T17:42:27.779Z"
   },
   {
    "duration": 20,
    "start_time": "2022-04-19T17:42:27.874Z"
   },
   {
    "duration": 39,
    "start_time": "2022-04-19T17:42:27.897Z"
   },
   {
    "duration": 9,
    "start_time": "2022-04-19T17:42:27.939Z"
   },
   {
    "duration": 13,
    "start_time": "2022-04-19T17:42:27.951Z"
   },
   {
    "duration": 10,
    "start_time": "2022-04-19T17:42:27.966Z"
   },
   {
    "duration": 8,
    "start_time": "2022-04-19T17:42:27.978Z"
   },
   {
    "duration": 61,
    "start_time": "2022-04-19T17:42:27.988Z"
   },
   {
    "duration": 6,
    "start_time": "2022-04-19T17:42:28.052Z"
   },
   {
    "duration": 7,
    "start_time": "2022-04-19T17:42:28.060Z"
   },
   {
    "duration": 85,
    "start_time": "2022-04-19T17:42:31.502Z"
   },
   {
    "duration": 25,
    "start_time": "2022-04-19T17:42:54.953Z"
   },
   {
    "duration": 462,
    "start_time": "2022-04-20T05:04:48.298Z"
   },
   {
    "duration": 15,
    "start_time": "2022-04-20T05:04:48.762Z"
   },
   {
    "duration": 13,
    "start_time": "2022-04-20T05:04:48.779Z"
   },
   {
    "duration": 4,
    "start_time": "2022-04-20T05:04:48.794Z"
   },
   {
    "duration": 5,
    "start_time": "2022-04-20T05:04:48.800Z"
   },
   {
    "duration": 8,
    "start_time": "2022-04-20T05:04:48.806Z"
   },
   {
    "duration": 5,
    "start_time": "2022-04-20T05:04:48.815Z"
   },
   {
    "duration": 21,
    "start_time": "2022-04-20T05:04:48.822Z"
   },
   {
    "duration": 31,
    "start_time": "2022-04-20T05:04:48.845Z"
   },
   {
    "duration": 6,
    "start_time": "2022-04-20T05:04:48.877Z"
   },
   {
    "duration": 49,
    "start_time": "2022-04-20T05:04:56.434Z"
   },
   {
    "duration": 64,
    "start_time": "2022-04-20T05:05:20.982Z"
   },
   {
    "duration": 14,
    "start_time": "2022-04-20T05:05:28.115Z"
   },
   {
    "duration": 15,
    "start_time": "2022-04-20T05:05:37.102Z"
   },
   {
    "duration": 5,
    "start_time": "2022-04-20T05:05:44.717Z"
   },
   {
    "duration": 4,
    "start_time": "2022-04-20T05:05:51.191Z"
   },
   {
    "duration": 7,
    "start_time": "2022-04-20T05:05:58.616Z"
   },
   {
    "duration": 23,
    "start_time": "2022-04-20T05:07:10.686Z"
   },
   {
    "duration": 35,
    "start_time": "2022-04-20T05:08:35.405Z"
   },
   {
    "duration": 22,
    "start_time": "2022-04-20T05:12:02.434Z"
   },
   {
    "duration": 5,
    "start_time": "2022-04-20T05:13:06.508Z"
   },
   {
    "duration": 6,
    "start_time": "2022-04-20T05:13:21.113Z"
   },
   {
    "duration": 18,
    "start_time": "2022-04-20T05:13:43.811Z"
   },
   {
    "duration": 5,
    "start_time": "2022-04-20T05:14:35.227Z"
   },
   {
    "duration": 4,
    "start_time": "2022-04-20T05:14:48.315Z"
   },
   {
    "duration": 49,
    "start_time": "2022-04-20T05:15:33.619Z"
   },
   {
    "duration": 37,
    "start_time": "2022-04-20T05:16:17.965Z"
   },
   {
    "duration": 38,
    "start_time": "2022-04-20T05:16:45.542Z"
   },
   {
    "duration": 36,
    "start_time": "2022-04-20T05:17:36.334Z"
   },
   {
    "duration": 430,
    "start_time": "2022-04-20T05:43:10.623Z"
   },
   {
    "duration": 16,
    "start_time": "2022-04-20T05:43:11.055Z"
   },
   {
    "duration": 15,
    "start_time": "2022-04-20T05:43:11.073Z"
   },
   {
    "duration": 13,
    "start_time": "2022-04-20T05:43:11.089Z"
   },
   {
    "duration": 7,
    "start_time": "2022-04-20T05:43:11.104Z"
   },
   {
    "duration": 9,
    "start_time": "2022-04-20T05:43:11.113Z"
   },
   {
    "duration": 8,
    "start_time": "2022-04-20T05:43:11.123Z"
   },
   {
    "duration": 21,
    "start_time": "2022-04-20T05:43:11.133Z"
   },
   {
    "duration": 5,
    "start_time": "2022-04-20T05:43:11.173Z"
   },
   {
    "duration": 11,
    "start_time": "2022-04-20T05:43:11.179Z"
   },
   {
    "duration": 35,
    "start_time": "2022-04-20T05:43:11.191Z"
   },
   {
    "duration": 16,
    "start_time": "2022-04-20T05:43:11.228Z"
   },
   {
    "duration": 74,
    "start_time": "2022-04-20T05:43:11.246Z"
   },
   {
    "duration": 0,
    "start_time": "2022-04-20T05:43:11.322Z"
   },
   {
    "duration": 1421,
    "start_time": "2022-04-20T05:44:56.603Z"
   },
   {
    "duration": 1397,
    "start_time": "2022-04-20T05:45:04.922Z"
   },
   {
    "duration": 1273,
    "start_time": "2022-04-20T05:45:42.464Z"
   },
   {
    "duration": 64,
    "start_time": "2022-04-20T05:46:07.076Z"
   },
   {
    "duration": 15,
    "start_time": "2022-04-20T05:46:07.142Z"
   },
   {
    "duration": 26,
    "start_time": "2022-04-20T05:46:07.159Z"
   },
   {
    "duration": 4,
    "start_time": "2022-04-20T05:46:07.187Z"
   },
   {
    "duration": 17,
    "start_time": "2022-04-20T05:46:07.193Z"
   },
   {
    "duration": 8,
    "start_time": "2022-04-20T05:46:07.212Z"
   },
   {
    "duration": 17,
    "start_time": "2022-04-20T05:46:07.221Z"
   },
   {
    "duration": 24,
    "start_time": "2022-04-20T05:46:07.240Z"
   },
   {
    "duration": 8,
    "start_time": "2022-04-20T05:46:07.265Z"
   },
   {
    "duration": 3,
    "start_time": "2022-04-20T05:46:07.275Z"
   },
   {
    "duration": 51,
    "start_time": "2022-04-20T05:46:09.358Z"
   },
   {
    "duration": 58,
    "start_time": "2022-04-20T05:46:57.444Z"
   },
   {
    "duration": 40,
    "start_time": "2022-04-20T05:47:27.140Z"
   },
   {
    "duration": 63,
    "start_time": "2022-04-20T05:49:14.558Z"
   },
   {
    "duration": 16,
    "start_time": "2022-04-20T05:49:14.623Z"
   },
   {
    "duration": 14,
    "start_time": "2022-04-20T05:49:14.641Z"
   },
   {
    "duration": 4,
    "start_time": "2022-04-20T05:49:14.673Z"
   },
   {
    "duration": 17,
    "start_time": "2022-04-20T05:49:17.541Z"
   },
   {
    "duration": 5,
    "start_time": "2022-04-20T05:49:46.857Z"
   },
   {
    "duration": 3,
    "start_time": "2022-04-20T05:49:53.156Z"
   },
   {
    "duration": 6,
    "start_time": "2022-04-20T05:50:00.631Z"
   },
   {
    "duration": 16,
    "start_time": "2022-04-20T05:50:24.900Z"
   },
   {
    "duration": 16,
    "start_time": "2022-04-20T05:50:36.423Z"
   },
   {
    "duration": 4,
    "start_time": "2022-04-20T05:50:47.586Z"
   },
   {
    "duration": 16,
    "start_time": "2022-04-20T05:51:01.354Z"
   },
   {
    "duration": 3,
    "start_time": "2022-04-20T05:51:08.857Z"
   },
   {
    "duration": 20,
    "start_time": "2022-04-20T05:53:01.508Z"
   },
   {
    "duration": 16,
    "start_time": "2022-04-20T05:53:41.859Z"
   },
   {
    "duration": 45,
    "start_time": "2022-04-20T05:55:22.573Z"
   },
   {
    "duration": 55,
    "start_time": "2022-04-20T05:56:35.982Z"
   },
   {
    "duration": 38,
    "start_time": "2022-04-20T05:57:06.928Z"
   },
   {
    "duration": 7,
    "start_time": "2022-04-20T06:00:35.782Z"
   },
   {
    "duration": 27,
    "start_time": "2022-04-20T06:01:46.550Z"
   },
   {
    "duration": 30,
    "start_time": "2022-04-20T06:02:17.243Z"
   },
   {
    "duration": 33,
    "start_time": "2022-04-20T06:04:31.924Z"
   },
   {
    "duration": 2,
    "start_time": "2022-04-20T06:24:20.356Z"
   },
   {
    "duration": 15,
    "start_time": "2022-04-20T06:26:14.108Z"
   },
   {
    "duration": 18,
    "start_time": "2022-04-20T06:30:19.600Z"
   },
   {
    "duration": 16,
    "start_time": "2022-04-20T06:30:33.414Z"
   },
   {
    "duration": 14,
    "start_time": "2022-04-20T06:30:52.173Z"
   },
   {
    "duration": 17,
    "start_time": "2022-04-20T06:30:59.069Z"
   },
   {
    "duration": 11,
    "start_time": "2022-04-20T06:36:40.108Z"
   },
   {
    "duration": 19,
    "start_time": "2022-04-20T06:37:06.123Z"
   },
   {
    "duration": 11,
    "start_time": "2022-04-20T06:37:20.875Z"
   },
   {
    "duration": 9,
    "start_time": "2022-04-20T06:37:35.382Z"
   },
   {
    "duration": 75,
    "start_time": "2022-04-20T06:37:42.310Z"
   },
   {
    "duration": 15,
    "start_time": "2022-04-20T06:37:42.388Z"
   },
   {
    "duration": 16,
    "start_time": "2022-04-20T06:37:42.405Z"
   },
   {
    "duration": 5,
    "start_time": "2022-04-20T06:37:42.424Z"
   },
   {
    "duration": 7,
    "start_time": "2022-04-20T06:37:42.430Z"
   },
   {
    "duration": 9,
    "start_time": "2022-04-20T06:37:42.439Z"
   },
   {
    "duration": 24,
    "start_time": "2022-04-20T06:37:42.450Z"
   },
   {
    "duration": 19,
    "start_time": "2022-04-20T06:37:42.476Z"
   },
   {
    "duration": 4,
    "start_time": "2022-04-20T06:37:42.497Z"
   },
   {
    "duration": 5,
    "start_time": "2022-04-20T06:37:42.503Z"
   },
   {
    "duration": 38,
    "start_time": "2022-04-20T06:37:42.509Z"
   },
   {
    "duration": 7,
    "start_time": "2022-04-20T06:37:45.935Z"
   },
   {
    "duration": 493,
    "start_time": "2022-04-20T06:42:17.173Z"
   },
   {
    "duration": 16,
    "start_time": "2022-04-20T06:42:17.669Z"
   },
   {
    "duration": 15,
    "start_time": "2022-04-20T06:42:17.687Z"
   },
   {
    "duration": 9,
    "start_time": "2022-04-20T06:42:17.704Z"
   },
   {
    "duration": 10,
    "start_time": "2022-04-20T06:42:17.715Z"
   },
   {
    "duration": 9,
    "start_time": "2022-04-20T06:42:17.726Z"
   },
   {
    "duration": 13,
    "start_time": "2022-04-20T06:42:17.736Z"
   },
   {
    "duration": 38,
    "start_time": "2022-04-20T06:42:17.751Z"
   },
   {
    "duration": 4,
    "start_time": "2022-04-20T06:42:17.791Z"
   },
   {
    "duration": 7,
    "start_time": "2022-04-20T06:42:17.797Z"
   },
   {
    "duration": 42,
    "start_time": "2022-04-20T06:42:17.805Z"
   },
   {
    "duration": 7,
    "start_time": "2022-04-20T06:42:26.345Z"
   },
   {
    "duration": 811,
    "start_time": "2022-04-20T06:42:46.822Z"
   },
   {
    "duration": 675,
    "start_time": "2022-04-20T06:43:19.396Z"
   },
   {
    "duration": 19,
    "start_time": "2022-04-20T06:43:38.467Z"
   },
   {
    "duration": 22,
    "start_time": "2022-04-20T06:43:46.929Z"
   },
   {
    "duration": 19,
    "start_time": "2022-04-20T06:45:44.593Z"
   },
   {
    "duration": 5,
    "start_time": "2022-04-20T07:02:14.833Z"
   },
   {
    "duration": 12,
    "start_time": "2022-04-20T07:14:22.202Z"
   },
   {
    "duration": 26,
    "start_time": "2022-04-20T07:14:41.482Z"
   },
   {
    "duration": 11,
    "start_time": "2022-04-20T07:17:37.985Z"
   },
   {
    "duration": 8,
    "start_time": "2022-04-20T07:22:17.200Z"
   },
   {
    "duration": 97,
    "start_time": "2022-04-20T07:28:37.694Z"
   },
   {
    "duration": 82,
    "start_time": "2022-04-20T07:33:33.229Z"
   },
   {
    "duration": 4,
    "start_time": "2022-04-20T07:34:00.289Z"
   },
   {
    "duration": 3,
    "start_time": "2022-04-20T07:35:25.437Z"
   },
   {
    "duration": 20,
    "start_time": "2022-04-20T07:36:26.718Z"
   },
   {
    "duration": 9,
    "start_time": "2022-04-20T07:36:43.689Z"
   },
   {
    "duration": 18,
    "start_time": "2022-04-20T08:05:55.989Z"
   },
   {
    "duration": 19,
    "start_time": "2022-04-20T08:07:45.173Z"
   },
   {
    "duration": 17,
    "start_time": "2022-04-20T08:08:45.714Z"
   },
   {
    "duration": 1186,
    "start_time": "2022-04-20T08:15:58.143Z"
   },
   {
    "duration": 20,
    "start_time": "2022-04-20T08:16:15.674Z"
   },
   {
    "duration": 20,
    "start_time": "2022-04-20T08:16:55.742Z"
   },
   {
    "duration": 19,
    "start_time": "2022-04-20T08:20:00.654Z"
   },
   {
    "duration": 23,
    "start_time": "2022-04-20T08:21:55.921Z"
   },
   {
    "duration": 49,
    "start_time": "2022-04-21T05:02:09.915Z"
   },
   {
    "duration": 519,
    "start_time": "2022-04-21T05:02:18.150Z"
   },
   {
    "duration": 17,
    "start_time": "2022-04-21T05:02:18.671Z"
   },
   {
    "duration": 15,
    "start_time": "2022-04-21T05:02:18.690Z"
   },
   {
    "duration": 6,
    "start_time": "2022-04-21T05:02:18.707Z"
   },
   {
    "duration": 5,
    "start_time": "2022-04-21T05:02:18.715Z"
   },
   {
    "duration": 5,
    "start_time": "2022-04-21T05:02:18.722Z"
   },
   {
    "duration": 9,
    "start_time": "2022-04-21T05:02:18.728Z"
   },
   {
    "duration": 48,
    "start_time": "2022-04-21T05:02:18.739Z"
   },
   {
    "duration": 5,
    "start_time": "2022-04-21T05:02:18.789Z"
   },
   {
    "duration": 6,
    "start_time": "2022-04-21T05:02:18.796Z"
   },
   {
    "duration": 40,
    "start_time": "2022-04-21T05:02:18.804Z"
   },
   {
    "duration": 6,
    "start_time": "2022-04-21T05:02:18.846Z"
   },
   {
    "duration": 22,
    "start_time": "2022-04-21T05:02:18.874Z"
   },
   {
    "duration": 16,
    "start_time": "2022-04-21T05:02:18.899Z"
   },
   {
    "duration": 12,
    "start_time": "2022-04-21T05:02:18.916Z"
   },
   {
    "duration": 5,
    "start_time": "2022-04-21T05:02:18.929Z"
   },
   {
    "duration": 44,
    "start_time": "2022-04-21T05:02:18.935Z"
   },
   {
    "duration": 22,
    "start_time": "2022-04-21T05:02:24.312Z"
   },
   {
    "duration": 21,
    "start_time": "2022-04-21T05:06:14.708Z"
   },
   {
    "duration": 21,
    "start_time": "2022-04-21T05:06:28.085Z"
   },
   {
    "duration": 22,
    "start_time": "2022-04-21T05:06:49.007Z"
   },
   {
    "duration": 21,
    "start_time": "2022-04-21T05:09:02.994Z"
   },
   {
    "duration": 18,
    "start_time": "2022-04-21T05:20:13.171Z"
   },
   {
    "duration": 19,
    "start_time": "2022-04-21T05:20:24.479Z"
   },
   {
    "duration": 31,
    "start_time": "2022-04-21T05:27:20.402Z"
   },
   {
    "duration": 24,
    "start_time": "2022-04-21T05:28:36.548Z"
   },
   {
    "duration": 23,
    "start_time": "2022-04-21T05:30:43.966Z"
   },
   {
    "duration": 48,
    "start_time": "2022-04-21T05:32:03.900Z"
   },
   {
    "duration": 19,
    "start_time": "2022-04-21T05:32:17.118Z"
   },
   {
    "duration": 20,
    "start_time": "2022-04-21T05:32:31.851Z"
   },
   {
    "duration": 21,
    "start_time": "2022-04-21T05:33:01.236Z"
   },
   {
    "duration": 18,
    "start_time": "2022-04-21T05:37:00.183Z"
   },
   {
    "duration": 29,
    "start_time": "2022-04-21T05:40:05.856Z"
   },
   {
    "duration": 23,
    "start_time": "2022-04-21T05:40:50.266Z"
   },
   {
    "duration": 25,
    "start_time": "2022-04-21T05:43:23.868Z"
   },
   {
    "duration": 27,
    "start_time": "2022-04-21T05:45:19.300Z"
   },
   {
    "duration": 27,
    "start_time": "2022-04-21T05:45:40.954Z"
   },
   {
    "duration": 34,
    "start_time": "2022-04-21T05:46:04.977Z"
   },
   {
    "duration": 25,
    "start_time": "2022-04-21T05:46:42.741Z"
   },
   {
    "duration": 50,
    "start_time": "2022-04-21T05:50:54.159Z"
   },
   {
    "duration": 447,
    "start_time": "2022-04-21T05:51:00.424Z"
   },
   {
    "duration": 16,
    "start_time": "2022-04-21T05:51:00.873Z"
   },
   {
    "duration": 14,
    "start_time": "2022-04-21T05:51:00.891Z"
   },
   {
    "duration": 24,
    "start_time": "2022-04-21T05:51:00.906Z"
   },
   {
    "duration": 25,
    "start_time": "2022-04-21T05:51:00.932Z"
   },
   {
    "duration": 14,
    "start_time": "2022-04-21T05:51:00.959Z"
   },
   {
    "duration": 11,
    "start_time": "2022-04-21T05:51:00.975Z"
   },
   {
    "duration": 28,
    "start_time": "2022-04-21T05:51:00.988Z"
   },
   {
    "duration": 21,
    "start_time": "2022-04-21T05:51:01.018Z"
   },
   {
    "duration": 11,
    "start_time": "2022-04-21T05:51:01.041Z"
   },
   {
    "duration": 62,
    "start_time": "2022-04-21T05:51:01.054Z"
   },
   {
    "duration": 6,
    "start_time": "2022-04-21T05:51:01.118Z"
   },
   {
    "duration": 26,
    "start_time": "2022-04-21T05:51:01.126Z"
   },
   {
    "duration": 23,
    "start_time": "2022-04-21T05:51:01.154Z"
   },
   {
    "duration": 10,
    "start_time": "2022-04-21T05:51:01.179Z"
   },
   {
    "duration": 14,
    "start_time": "2022-04-21T05:51:01.190Z"
   },
   {
    "duration": 14,
    "start_time": "2022-04-21T05:51:01.206Z"
   },
   {
    "duration": 28,
    "start_time": "2022-04-21T05:51:01.221Z"
   },
   {
    "duration": 468,
    "start_time": "2022-04-21T05:51:52.186Z"
   },
   {
    "duration": 16,
    "start_time": "2022-04-21T05:51:52.657Z"
   },
   {
    "duration": 15,
    "start_time": "2022-04-21T05:51:52.675Z"
   },
   {
    "duration": 4,
    "start_time": "2022-04-21T05:51:52.692Z"
   },
   {
    "duration": 5,
    "start_time": "2022-04-21T05:51:52.698Z"
   },
   {
    "duration": 4,
    "start_time": "2022-04-21T05:51:52.704Z"
   },
   {
    "duration": 8,
    "start_time": "2022-04-21T05:51:52.709Z"
   },
   {
    "duration": 20,
    "start_time": "2022-04-21T05:51:52.718Z"
   },
   {
    "duration": 35,
    "start_time": "2022-04-21T05:51:52.740Z"
   },
   {
    "duration": 7,
    "start_time": "2022-04-21T05:51:52.776Z"
   },
   {
    "duration": 40,
    "start_time": "2022-04-21T05:51:52.785Z"
   },
   {
    "duration": 6,
    "start_time": "2022-04-21T05:51:52.827Z"
   },
   {
    "duration": 39,
    "start_time": "2022-04-21T05:51:52.835Z"
   },
   {
    "duration": 17,
    "start_time": "2022-04-21T05:51:52.877Z"
   },
   {
    "duration": 10,
    "start_time": "2022-04-21T05:51:52.896Z"
   },
   {
    "duration": 9,
    "start_time": "2022-04-21T05:51:52.908Z"
   },
   {
    "duration": 14,
    "start_time": "2022-04-21T05:51:52.919Z"
   },
   {
    "duration": 42,
    "start_time": "2022-04-21T05:51:52.934Z"
   },
   {
    "duration": 50,
    "start_time": "2022-04-21T05:53:41.513Z"
   },
   {
    "duration": 524,
    "start_time": "2022-04-21T05:53:47.263Z"
   },
   {
    "duration": 15,
    "start_time": "2022-04-21T05:53:47.789Z"
   },
   {
    "duration": 14,
    "start_time": "2022-04-21T05:53:47.806Z"
   },
   {
    "duration": 4,
    "start_time": "2022-04-21T05:53:47.822Z"
   },
   {
    "duration": 5,
    "start_time": "2022-04-21T05:53:47.828Z"
   },
   {
    "duration": 4,
    "start_time": "2022-04-21T05:53:47.834Z"
   },
   {
    "duration": 8,
    "start_time": "2022-04-21T05:53:47.839Z"
   },
   {
    "duration": 21,
    "start_time": "2022-04-21T05:53:47.873Z"
   },
   {
    "duration": 5,
    "start_time": "2022-04-21T05:53:47.895Z"
   },
   {
    "duration": 7,
    "start_time": "2022-04-21T05:53:47.901Z"
   },
   {
    "duration": 41,
    "start_time": "2022-04-21T05:53:47.909Z"
   },
   {
    "duration": 7,
    "start_time": "2022-04-21T05:53:47.974Z"
   },
   {
    "duration": 25,
    "start_time": "2022-04-21T05:53:47.982Z"
   },
   {
    "duration": 16,
    "start_time": "2022-04-21T05:53:48.010Z"
   },
   {
    "duration": 10,
    "start_time": "2022-04-21T05:53:48.028Z"
   },
   {
    "duration": 10,
    "start_time": "2022-04-21T05:53:48.039Z"
   },
   {
    "duration": 30,
    "start_time": "2022-04-21T05:53:48.050Z"
   },
   {
    "duration": 23,
    "start_time": "2022-04-21T05:53:48.082Z"
   },
   {
    "duration": 49,
    "start_time": "2022-04-21T05:54:35.836Z"
   },
   {
    "duration": 468,
    "start_time": "2022-04-21T05:54:41.983Z"
   },
   {
    "duration": 16,
    "start_time": "2022-04-21T05:54:42.453Z"
   },
   {
    "duration": 14,
    "start_time": "2022-04-21T05:54:42.473Z"
   },
   {
    "duration": 9,
    "start_time": "2022-04-21T05:54:42.489Z"
   },
   {
    "duration": 5,
    "start_time": "2022-04-21T05:54:42.500Z"
   },
   {
    "duration": 10,
    "start_time": "2022-04-21T05:54:42.506Z"
   },
   {
    "duration": 7,
    "start_time": "2022-04-21T05:54:42.518Z"
   },
   {
    "duration": 19,
    "start_time": "2022-04-21T05:54:42.527Z"
   },
   {
    "duration": 28,
    "start_time": "2022-04-21T05:54:42.548Z"
   },
   {
    "duration": 4,
    "start_time": "2022-04-21T05:54:42.578Z"
   },
   {
    "duration": 38,
    "start_time": "2022-04-21T05:54:42.584Z"
   },
   {
    "duration": 7,
    "start_time": "2022-04-21T05:54:42.623Z"
   },
   {
    "duration": 48,
    "start_time": "2022-04-21T05:54:42.632Z"
   },
   {
    "duration": 16,
    "start_time": "2022-04-21T05:54:42.684Z"
   },
   {
    "duration": 11,
    "start_time": "2022-04-21T05:54:42.702Z"
   },
   {
    "duration": 5,
    "start_time": "2022-04-21T05:54:42.715Z"
   },
   {
    "duration": 11,
    "start_time": "2022-04-21T05:54:42.721Z"
   },
   {
    "duration": 54,
    "start_time": "2022-04-21T05:54:42.734Z"
   },
   {
    "duration": 35,
    "start_time": "2022-04-21T05:54:45.102Z"
   },
   {
    "duration": 20,
    "start_time": "2022-04-21T05:55:53.926Z"
   },
   {
    "duration": 77,
    "start_time": "2022-04-21T05:56:45.987Z"
   },
   {
    "duration": 14,
    "start_time": "2022-04-21T05:56:46.066Z"
   },
   {
    "duration": 15,
    "start_time": "2022-04-21T05:56:46.081Z"
   },
   {
    "duration": 7,
    "start_time": "2022-04-21T05:56:46.097Z"
   },
   {
    "duration": 5,
    "start_time": "2022-04-21T05:56:46.106Z"
   },
   {
    "duration": 10,
    "start_time": "2022-04-21T05:56:46.112Z"
   },
   {
    "duration": 22,
    "start_time": "2022-04-21T05:56:46.124Z"
   },
   {
    "duration": 27,
    "start_time": "2022-04-21T05:56:46.147Z"
   },
   {
    "duration": 5,
    "start_time": "2022-04-21T05:56:46.175Z"
   },
   {
    "duration": 5,
    "start_time": "2022-04-21T05:56:46.181Z"
   },
   {
    "duration": 39,
    "start_time": "2022-04-21T05:56:46.187Z"
   },
   {
    "duration": 6,
    "start_time": "2022-04-21T05:56:46.228Z"
   },
   {
    "duration": 51,
    "start_time": "2022-04-21T05:56:46.236Z"
   },
   {
    "duration": 18,
    "start_time": "2022-04-21T05:56:48.782Z"
   },
   {
    "duration": 10,
    "start_time": "2022-04-21T05:56:58.568Z"
   },
   {
    "duration": 10,
    "start_time": "2022-04-21T05:57:04.615Z"
   },
   {
    "duration": 22,
    "start_time": "2022-04-21T05:57:12.738Z"
   },
   {
    "duration": 22,
    "start_time": "2022-04-21T05:57:30.231Z"
   },
   {
    "duration": 1036,
    "start_time": "2022-04-21T06:11:45.951Z"
   },
   {
    "duration": 20,
    "start_time": "2022-04-21T06:12:11.310Z"
   },
   {
    "duration": 20,
    "start_time": "2022-04-21T06:12:28.493Z"
   },
   {
    "duration": 16,
    "start_time": "2022-04-21T06:32:39.112Z"
   },
   {
    "duration": 21,
    "start_time": "2022-04-21T06:33:51.039Z"
   },
   {
    "duration": 19,
    "start_time": "2022-04-21T06:49:13.194Z"
   },
   {
    "duration": 64,
    "start_time": "2022-04-21T07:07:48.634Z"
   },
   {
    "duration": 15,
    "start_time": "2022-04-21T07:08:01.789Z"
   },
   {
    "duration": 19,
    "start_time": "2022-04-21T07:15:12.522Z"
   },
   {
    "duration": 4,
    "start_time": "2022-04-21T07:20:17.394Z"
   },
   {
    "duration": 5,
    "start_time": "2022-04-21T07:24:53.155Z"
   },
   {
    "duration": 6,
    "start_time": "2022-04-21T07:25:42.728Z"
   },
   {
    "duration": 4,
    "start_time": "2022-04-21T07:32:43.808Z"
   },
   {
    "duration": 8,
    "start_time": "2022-04-21T07:32:57.638Z"
   },
   {
    "duration": 7,
    "start_time": "2022-04-21T07:33:13.363Z"
   },
   {
    "duration": 18,
    "start_time": "2022-04-21T07:33:38.717Z"
   },
   {
    "duration": 5,
    "start_time": "2022-04-21T07:34:22.157Z"
   },
   {
    "duration": 6,
    "start_time": "2022-04-21T07:39:21.438Z"
   },
   {
    "duration": 16,
    "start_time": "2022-04-21T07:43:58.657Z"
   },
   {
    "duration": 16,
    "start_time": "2022-04-21T07:52:45.442Z"
   },
   {
    "duration": 6,
    "start_time": "2022-04-21T07:52:59.817Z"
   },
   {
    "duration": 4,
    "start_time": "2022-04-21T07:53:17.960Z"
   },
   {
    "duration": 36,
    "start_time": "2022-04-21T07:53:41.045Z"
   },
   {
    "duration": 29,
    "start_time": "2022-04-21T07:54:19.946Z"
   },
   {
    "duration": 8,
    "start_time": "2022-04-21T07:59:20.276Z"
   },
   {
    "duration": 23,
    "start_time": "2022-04-21T08:02:43.119Z"
   },
   {
    "duration": 8,
    "start_time": "2022-04-21T08:03:03.158Z"
   },
   {
    "duration": 18,
    "start_time": "2022-04-21T08:03:36.865Z"
   },
   {
    "duration": 10,
    "start_time": "2022-04-21T08:04:35.984Z"
   },
   {
    "duration": 2,
    "start_time": "2022-04-21T08:04:38.565Z"
   },
   {
    "duration": 9,
    "start_time": "2022-04-21T08:04:42.049Z"
   },
   {
    "duration": 27,
    "start_time": "2022-04-21T08:05:54.093Z"
   },
   {
    "duration": 19,
    "start_time": "2022-04-21T08:06:35.973Z"
   },
   {
    "duration": 20,
    "start_time": "2022-04-21T08:27:30.816Z"
   },
   {
    "duration": 20,
    "start_time": "2022-04-21T08:30:20.919Z"
   },
   {
    "duration": 21,
    "start_time": "2022-04-21T08:45:07.188Z"
   },
   {
    "duration": 492,
    "start_time": "2022-04-28T20:43:58.384Z"
   },
   {
    "duration": 14,
    "start_time": "2022-04-28T20:43:58.877Z"
   },
   {
    "duration": 12,
    "start_time": "2022-04-28T20:43:58.893Z"
   },
   {
    "duration": 3,
    "start_time": "2022-04-28T20:43:58.923Z"
   },
   {
    "duration": 4,
    "start_time": "2022-04-28T20:43:58.928Z"
   },
   {
    "duration": 4,
    "start_time": "2022-04-28T20:43:58.933Z"
   },
   {
    "duration": 6,
    "start_time": "2022-04-28T20:43:58.938Z"
   },
   {
    "duration": 13,
    "start_time": "2022-04-28T20:43:58.945Z"
   },
   {
    "duration": 4,
    "start_time": "2022-04-28T20:43:58.960Z"
   },
   {
    "duration": 4,
    "start_time": "2022-04-28T20:43:58.965Z"
   },
   {
    "duration": 64,
    "start_time": "2022-04-28T20:43:58.970Z"
   },
   {
    "duration": 6,
    "start_time": "2022-04-28T20:43:59.036Z"
   },
   {
    "duration": 8,
    "start_time": "2022-04-28T20:43:59.043Z"
   },
   {
    "duration": 14,
    "start_time": "2022-04-28T20:43:59.054Z"
   },
   {
    "duration": 12,
    "start_time": "2022-04-28T20:43:59.069Z"
   },
   {
    "duration": 2,
    "start_time": "2022-04-28T20:43:59.083Z"
   },
   {
    "duration": 39,
    "start_time": "2022-04-28T20:43:59.086Z"
   },
   {
    "duration": 19,
    "start_time": "2022-04-28T20:43:59.127Z"
   },
   {
    "duration": 18,
    "start_time": "2022-04-28T20:43:59.147Z"
   },
   {
    "duration": 16,
    "start_time": "2022-04-28T20:43:59.167Z"
   },
   {
    "duration": 41,
    "start_time": "2022-04-28T20:43:59.185Z"
   },
   {
    "duration": 5,
    "start_time": "2022-04-28T21:04:48.140Z"
   },
   {
    "duration": 5,
    "start_time": "2022-04-28T21:05:00.192Z"
   },
   {
    "duration": 526,
    "start_time": "2022-05-02T16:40:53.394Z"
   },
   {
    "duration": 63,
    "start_time": "2022-05-02T16:41:02.806Z"
   },
   {
    "duration": 71,
    "start_time": "2022-05-02T16:42:25.215Z"
   },
   {
    "duration": 16,
    "start_time": "2022-05-02T16:43:31.801Z"
   },
   {
    "duration": 16,
    "start_time": "2022-05-02T16:44:03.796Z"
   },
   {
    "duration": 13,
    "start_time": "2022-05-02T16:44:38.767Z"
   },
   {
    "duration": 6,
    "start_time": "2022-05-02T16:47:56.156Z"
   },
   {
    "duration": 8,
    "start_time": "2022-05-02T16:48:23.785Z"
   },
   {
    "duration": 6,
    "start_time": "2022-05-02T16:52:35.635Z"
   },
   {
    "duration": 22,
    "start_time": "2022-05-02T16:52:56.324Z"
   },
   {
    "duration": 5,
    "start_time": "2022-05-02T16:53:35.890Z"
   },
   {
    "duration": 4,
    "start_time": "2022-05-02T16:54:27.626Z"
   },
   {
    "duration": 46,
    "start_time": "2022-05-02T16:54:48.886Z"
   },
   {
    "duration": 8,
    "start_time": "2022-05-02T16:55:38.791Z"
   },
   {
    "duration": 7,
    "start_time": "2022-05-02T16:55:50.395Z"
   },
   {
    "duration": 25,
    "start_time": "2022-05-02T16:56:28.234Z"
   },
   {
    "duration": 17,
    "start_time": "2022-05-02T16:57:50.592Z"
   },
   {
    "duration": 15,
    "start_time": "2022-05-02T16:59:10.499Z"
   },
   {
    "duration": 2,
    "start_time": "2022-05-02T17:00:10.154Z"
   },
   {
    "duration": 14,
    "start_time": "2022-05-02T17:00:41.592Z"
   },
   {
    "duration": 25,
    "start_time": "2022-05-02T17:02:43.056Z"
   },
   {
    "duration": 27,
    "start_time": "2022-05-02T17:12:02.515Z"
   },
   {
    "duration": 23,
    "start_time": "2022-05-02T17:44:17.793Z"
   },
   {
    "duration": 29,
    "start_time": "2022-05-02T17:44:29.228Z"
   },
   {
    "duration": 29,
    "start_time": "2022-05-02T17:52:24.647Z"
   },
   {
    "duration": 14,
    "start_time": "2022-05-02T17:53:28.682Z"
   },
   {
    "duration": 29,
    "start_time": "2022-05-02T17:58:56.912Z"
   },
   {
    "duration": 80,
    "start_time": "2022-05-02T18:03:13.847Z"
   },
   {
    "duration": 613,
    "start_time": "2022-05-03T14:06:52.735Z"
   },
   {
    "duration": 22,
    "start_time": "2022-05-03T14:06:53.351Z"
   },
   {
    "duration": 22,
    "start_time": "2022-05-03T14:06:53.375Z"
   },
   {
    "duration": 37,
    "start_time": "2022-05-03T14:06:53.400Z"
   },
   {
    "duration": 7,
    "start_time": "2022-05-03T14:06:53.438Z"
   },
   {
    "duration": 13,
    "start_time": "2022-05-03T14:06:53.447Z"
   },
   {
    "duration": 9,
    "start_time": "2022-05-03T14:06:53.462Z"
   },
   {
    "duration": 70,
    "start_time": "2022-05-03T14:06:53.473Z"
   },
   {
    "duration": 7,
    "start_time": "2022-05-03T14:06:53.546Z"
   },
   {
    "duration": 6,
    "start_time": "2022-05-03T14:06:53.557Z"
   },
   {
    "duration": 94,
    "start_time": "2022-05-03T14:06:53.565Z"
   },
   {
    "duration": 10,
    "start_time": "2022-05-03T14:06:53.661Z"
   },
   {
    "duration": 11,
    "start_time": "2022-05-03T14:06:53.673Z"
   },
   {
    "duration": 63,
    "start_time": "2022-05-03T14:06:53.686Z"
   },
   {
    "duration": 25,
    "start_time": "2022-05-03T14:06:53.751Z"
   },
   {
    "duration": 48,
    "start_time": "2022-05-03T14:06:53.778Z"
   },
   {
    "duration": 7,
    "start_time": "2022-05-03T14:06:53.829Z"
   },
   {
    "duration": 20,
    "start_time": "2022-05-03T14:06:53.838Z"
   },
   {
    "duration": 65,
    "start_time": "2022-05-03T14:06:53.860Z"
   },
   {
    "duration": 3,
    "start_time": "2022-05-03T14:06:53.927Z"
   },
   {
    "duration": 8,
    "start_time": "2022-05-03T14:06:53.932Z"
   },
   {
    "duration": 50,
    "start_time": "2022-05-03T14:06:53.941Z"
   },
   {
    "duration": 4,
    "start_time": "2022-05-03T14:06:53.993Z"
   },
   {
    "duration": 66,
    "start_time": "2022-05-03T14:06:53.999Z"
   },
   {
    "duration": 3,
    "start_time": "2022-05-03T14:06:54.067Z"
   },
   {
    "duration": 65,
    "start_time": "2022-05-03T14:06:54.072Z"
   }
  ],
  "kernelspec": {
   "display_name": "Python 3 (ipykernel)",
   "language": "python",
   "name": "python3"
  },
  "language_info": {
   "codemirror_mode": {
    "name": "ipython",
    "version": 3
   },
   "file_extension": ".py",
   "mimetype": "text/x-python",
   "name": "python",
   "nbconvert_exporter": "python",
   "pygments_lexer": "ipython3",
   "version": "3.9.7"
  },
  "toc": {
   "base_numbering": 1,
   "nav_menu": {},
   "number_sections": true,
   "sideBar": true,
   "skip_h1_title": true,
   "title_cell": "Table of Contents",
   "title_sidebar": "Contents",
   "toc_cell": false,
   "toc_position": {},
   "toc_section_display": true,
   "toc_window_display": true
  }
 },
 "nbformat": 4,
 "nbformat_minor": 5
}
