{
 "cells": [
  {
   "cell_type": "markdown",
   "id": "801bb32e",
   "metadata": {
    "toc": true
   },
   "source": [
    "<h1>Содержание<span class=\"tocSkip\"></span></h1>\n",
    "<div class=\"toc\"><ul class=\"toc-item\"><li><span><a href=\"#Исследование-поведения-пользователей-мобильного-приложения-продажи-продуктов-питания\" data-toc-modified-id=\"Исследование-поведения-пользователей-мобильного-приложения-продажи-продуктов-питания-1\">Исследование поведения пользователей мобильного приложения продажи продуктов питания</a></span><ul class=\"toc-item\"><li><span><a href=\"#Описание-проекта\" data-toc-modified-id=\"Описание-проекта-1.1\">Описание проекта</a></span><ul class=\"toc-item\"><li><span><a href=\"#Задачи\" data-toc-modified-id=\"Задачи-1.1.1\">Задачи</a></span></li><li><span><a href=\"#Описание-данных\" data-toc-modified-id=\"Описание-данных-1.1.2\">Описание данных</a></span></li><li><span><a href=\"#План-работы\" data-toc-modified-id=\"План-работы-1.1.3\">План работы</a></span></li></ul></li><li><span><a href=\"#Загрузка-данных-и-подготовка-их-к-анализу\" data-toc-modified-id=\"Загрузка-данных-и-подготовка-их-к-анализу-1.2\">Загрузка данных и подготовка их к анализу</a></span><ul class=\"toc-item\"><li><span><a href=\"#Итоги-предобработки\" data-toc-modified-id=\"Итоги-предобработки-1.2.1\">Итоги предобработки</a></span></li></ul></li><li><span><a href=\"#Изучение-и-проверка-данных\" data-toc-modified-id=\"Изучение-и-проверка-данных-1.3\">Изучение и проверка данных</a></span><ul class=\"toc-item\"><li><span><a href=\"#Итоги-проверки-данных\" data-toc-modified-id=\"Итоги-проверки-данных-1.3.1\">Итоги проверки данных</a></span></li></ul></li><li><span><a href=\"#Изучение-воронки-событий\" data-toc-modified-id=\"Изучение-воронки-событий-1.4\">Изучение воронки событий</a></span><ul class=\"toc-item\"><li><span><a href=\"#Результаты-воронки-событий\" data-toc-modified-id=\"Результаты-воронки-событий-1.4.1\">Результаты воронки событий</a></span></li></ul></li><li><span><a href=\"#Изучение-результатов-эксперимента\" data-toc-modified-id=\"Изучение-результатов-эксперимента-1.5\">Изучение результатов эксперимента</a></span><ul class=\"toc-item\"><li><span><a href=\"#Результаты-эксперимента\" data-toc-modified-id=\"Результаты-эксперимента-1.5.1\">Результаты эксперимента</a></span></li></ul></li><li><span><a href=\"#Выводы\" data-toc-modified-id=\"Выводы-1.6\">Выводы</a></span></li></ul></li></ul></div>"
   ]
  },
  {
   "cell_type": "markdown",
   "id": "a0bd5e2a",
   "metadata": {},
   "source": [
    "# Исследование поведения пользователей мобильного приложения продажи продуктов питания"
   ]
  },
  {
   "cell_type": "markdown",
   "id": "a5dc4237",
   "metadata": {},
   "source": [
    "## Описание проекта\n",
    "Нужно разобраться, как ведут себя пользователи мобильного приложения стартапа, который продаёт продукты питания.\n",
    "\n",
    "### Задачи\n",
    "* Изучить воронку продаж\n",
    "* Исследовать результаты A/A/B-эксперимента\n",
    "\n",
    "### Описание данных\n",
    "Датасет: `/datasets/logs_exp.csv`. Каждая запись в логе — это действие пользователя, или событие. Структура:\n",
    "* `EventName` — название события;\n",
    "* `DeviceIDHash` — уникальный идентификатор пользователя;\n",
    "* `EventTimestamp` — время события;\n",
    "* `ExpId` — номер эксперимента: 246 и 247 — контрольные группы, а 248 — экспериментальная.\n",
    "\n",
    "### План работы\n",
    "1. Загрузка данных\n",
    "2. Подготовка данных к анализу\n",
    "3. Изучение и проверка данных\n",
    "4. Изучение воронки событий\n",
    "5. Изучение результатов эксперимента\n",
    "6. Выводы"
   ]
  },
  {
   "cell_type": "markdown",
   "id": "57cef041",
   "metadata": {},
   "source": [
    "## Загрузка данных и подготовка их к анализу"
   ]
  },
  {
   "cell_type": "code",
   "execution_count": 1,
   "id": "a07d7a5c",
   "metadata": {},
   "outputs": [],
   "source": [
    "# импорт библиотек\n",
    "import pandas as pd\n",
    "import datetime as dt\n",
    "import numpy as np\n",
    "import matplotlib.pyplot as plt\n",
    "import scipy.stats as stats\n",
    "import math as mth"
   ]
  },
  {
   "cell_type": "code",
   "execution_count": 2,
   "id": "11f65cb3",
   "metadata": {},
   "outputs": [
    {
     "data": {
      "text/html": [
       "<div>\n",
       "<style scoped>\n",
       "    .dataframe tbody tr th:only-of-type {\n",
       "        vertical-align: middle;\n",
       "    }\n",
       "\n",
       "    .dataframe tbody tr th {\n",
       "        vertical-align: top;\n",
       "    }\n",
       "\n",
       "    .dataframe thead th {\n",
       "        text-align: right;\n",
       "    }\n",
       "</style>\n",
       "<table border=\"1\" class=\"dataframe\">\n",
       "  <thead>\n",
       "    <tr style=\"text-align: right;\">\n",
       "      <th></th>\n",
       "      <th>EventName</th>\n",
       "      <th>DeviceIDHash</th>\n",
       "      <th>EventTimestamp</th>\n",
       "      <th>ExpId</th>\n",
       "    </tr>\n",
       "  </thead>\n",
       "  <tbody>\n",
       "    <tr>\n",
       "      <th>0</th>\n",
       "      <td>MainScreenAppear</td>\n",
       "      <td>4575588528974610257</td>\n",
       "      <td>1564029816</td>\n",
       "      <td>246</td>\n",
       "    </tr>\n",
       "    <tr>\n",
       "      <th>1</th>\n",
       "      <td>MainScreenAppear</td>\n",
       "      <td>7416695313311560658</td>\n",
       "      <td>1564053102</td>\n",
       "      <td>246</td>\n",
       "    </tr>\n",
       "    <tr>\n",
       "      <th>2</th>\n",
       "      <td>PaymentScreenSuccessful</td>\n",
       "      <td>3518123091307005509</td>\n",
       "      <td>1564054127</td>\n",
       "      <td>248</td>\n",
       "    </tr>\n",
       "    <tr>\n",
       "      <th>3</th>\n",
       "      <td>CartScreenAppear</td>\n",
       "      <td>3518123091307005509</td>\n",
       "      <td>1564054127</td>\n",
       "      <td>248</td>\n",
       "    </tr>\n",
       "    <tr>\n",
       "      <th>4</th>\n",
       "      <td>PaymentScreenSuccessful</td>\n",
       "      <td>6217807653094995999</td>\n",
       "      <td>1564055322</td>\n",
       "      <td>248</td>\n",
       "    </tr>\n",
       "    <tr>\n",
       "      <th>5</th>\n",
       "      <td>CartScreenAppear</td>\n",
       "      <td>6217807653094995999</td>\n",
       "      <td>1564055323</td>\n",
       "      <td>248</td>\n",
       "    </tr>\n",
       "    <tr>\n",
       "      <th>6</th>\n",
       "      <td>OffersScreenAppear</td>\n",
       "      <td>8351860793733343758</td>\n",
       "      <td>1564066242</td>\n",
       "      <td>246</td>\n",
       "    </tr>\n",
       "    <tr>\n",
       "      <th>7</th>\n",
       "      <td>MainScreenAppear</td>\n",
       "      <td>5682100281902512875</td>\n",
       "      <td>1564085677</td>\n",
       "      <td>246</td>\n",
       "    </tr>\n",
       "    <tr>\n",
       "      <th>8</th>\n",
       "      <td>MainScreenAppear</td>\n",
       "      <td>1850981295691852772</td>\n",
       "      <td>1564086702</td>\n",
       "      <td>247</td>\n",
       "    </tr>\n",
       "    <tr>\n",
       "      <th>9</th>\n",
       "      <td>MainScreenAppear</td>\n",
       "      <td>5407636962369102641</td>\n",
       "      <td>1564112112</td>\n",
       "      <td>246</td>\n",
       "    </tr>\n",
       "  </tbody>\n",
       "</table>\n",
       "</div>"
      ],
      "text/plain": [
       "                 EventName         DeviceIDHash  EventTimestamp  ExpId\n",
       "0         MainScreenAppear  4575588528974610257      1564029816    246\n",
       "1         MainScreenAppear  7416695313311560658      1564053102    246\n",
       "2  PaymentScreenSuccessful  3518123091307005509      1564054127    248\n",
       "3         CartScreenAppear  3518123091307005509      1564054127    248\n",
       "4  PaymentScreenSuccessful  6217807653094995999      1564055322    248\n",
       "5         CartScreenAppear  6217807653094995999      1564055323    248\n",
       "6       OffersScreenAppear  8351860793733343758      1564066242    246\n",
       "7         MainScreenAppear  5682100281902512875      1564085677    246\n",
       "8         MainScreenAppear  1850981295691852772      1564086702    247\n",
       "9         MainScreenAppear  5407636962369102641      1564112112    246"
      ]
     },
     "execution_count": 2,
     "metadata": {},
     "output_type": "execute_result"
    }
   ],
   "source": [
    "# загружаю данные\n",
    "data = pd.read_csv('logs_exp.csv', sep='\\t')\n",
    "data.head(10)"
   ]
  },
  {
   "cell_type": "code",
   "execution_count": 3,
   "id": "c4bc633f",
   "metadata": {},
   "outputs": [],
   "source": [
    "# меняю названия столбцов\n",
    "data.columns = ['event', 'user_id', 'event_time', 'group']"
   ]
  },
  {
   "cell_type": "code",
   "execution_count": 4,
   "id": "36fd7039",
   "metadata": {},
   "outputs": [
    {
     "name": "stdout",
     "output_type": "stream",
     "text": [
      "<class 'pandas.core.frame.DataFrame'>\n",
      "RangeIndex: 244126 entries, 0 to 244125\n",
      "Data columns (total 4 columns):\n",
      " #   Column      Non-Null Count   Dtype \n",
      "---  ------      --------------   ----- \n",
      " 0   event       244126 non-null  object\n",
      " 1   user_id     244126 non-null  int64 \n",
      " 2   event_time  244126 non-null  int64 \n",
      " 3   group       244126 non-null  int64 \n",
      "dtypes: int64(3), object(1)\n",
      "memory usage: 7.5+ MB\n"
     ]
    }
   ],
   "source": [
    "# проверяю пропуски и типы данных\n",
    "data.info()"
   ]
  },
  {
   "cell_type": "code",
   "execution_count": 5,
   "id": "dda53575",
   "metadata": {},
   "outputs": [],
   "source": [
    "# меняю типы данных\n",
    "data['event_time'] = pd.to_datetime(data['event_time'], unit='s')"
   ]
  },
  {
   "cell_type": "code",
   "execution_count": 6,
   "id": "4bbfbe63",
   "metadata": {},
   "outputs": [],
   "source": [
    "# добавляю отдельный столбец с датой\n",
    "data['date'] = pd.to_datetime(data['event_time'].dt.date)"
   ]
  },
  {
   "cell_type": "code",
   "execution_count": 7,
   "id": "ff8cf534",
   "metadata": {},
   "outputs": [
    {
     "data": {
      "text/plain": [
       "413"
      ]
     },
     "execution_count": 7,
     "metadata": {},
     "output_type": "execute_result"
    }
   ],
   "source": [
    "# проверяю наличие дубликатов\n",
    "data.duplicated().sum()"
   ]
  },
  {
   "cell_type": "code",
   "execution_count": 8,
   "id": "33d3898c",
   "metadata": {},
   "outputs": [],
   "source": [
    "# удаляю дубликаты\n",
    "data = data.drop_duplicates().reset_index(drop=True)"
   ]
  },
  {
   "cell_type": "code",
   "execution_count": 9,
   "id": "a59552fc",
   "metadata": {},
   "outputs": [
    {
     "data": {
      "text/html": [
       "<div>\n",
       "<style scoped>\n",
       "    .dataframe tbody tr th:only-of-type {\n",
       "        vertical-align: middle;\n",
       "    }\n",
       "\n",
       "    .dataframe tbody tr th {\n",
       "        vertical-align: top;\n",
       "    }\n",
       "\n",
       "    .dataframe thead th {\n",
       "        text-align: right;\n",
       "    }\n",
       "</style>\n",
       "<table border=\"1\" class=\"dataframe\">\n",
       "  <thead>\n",
       "    <tr style=\"text-align: right;\">\n",
       "      <th></th>\n",
       "      <th>user_id</th>\n",
       "      <th>group</th>\n",
       "    </tr>\n",
       "  </thead>\n",
       "  <tbody>\n",
       "  </tbody>\n",
       "</table>\n",
       "</div>"
      ],
      "text/plain": [
       "Empty DataFrame\n",
       "Columns: [user_id, group]\n",
       "Index: []"
      ]
     },
     "execution_count": 9,
     "metadata": {},
     "output_type": "execute_result"
    }
   ],
   "source": [
    "# проверка на попадание одного человека в разные группы\n",
    "data.groupby('user_id')['group'].nunique().reset_index().query('group > 1')"
   ]
  },
  {
   "cell_type": "markdown",
   "id": "340cc338",
   "metadata": {},
   "source": [
    "### Итоги предобработки\n",
    "В результате предобработки данных в столбцах с датой типы были преобразованы в соответствии с сохраненными в них значениями, столбцы переименованы для удобства, пропуски не обнаружены, пользователи распределены по трем группам без пересечений. 413 (менее 0.2%) записей дублировались и были удалены."
   ]
  },
  {
   "cell_type": "markdown",
   "id": "e9d03c67",
   "metadata": {},
   "source": [
    "## Изучение и проверка данных"
   ]
  },
  {
   "cell_type": "code",
   "execution_count": 10,
   "id": "6b5c624d",
   "metadata": {},
   "outputs": [
    {
     "data": {
      "text/plain": [
       "MainScreenAppear           119101\n",
       "OffersScreenAppear          46808\n",
       "CartScreenAppear            42668\n",
       "PaymentScreenSuccessful     34118\n",
       "Tutorial                     1018\n",
       "Name: event, dtype: int64"
      ]
     },
     "execution_count": 10,
     "metadata": {},
     "output_type": "execute_result"
    },
    {
     "data": {
      "image/png": "[encoded data removed]",
      "text/plain": [
       "<Figure size 432x288 with 1 Axes>"
      ]
     },
     "metadata": {
      "needs_background": "light"
     },
     "output_type": "display_data"
    }
   ],
   "source": [
    "# проверяю, сколько событий в логе и как они распределены\n",
    "data['event'].hist(xrot=90, bins=10)\n",
    "data['event'].value_counts()"
   ]
  },
  {
   "cell_type": "code",
   "execution_count": 11,
   "id": "50967dfb",
   "metadata": {},
   "outputs": [
    {
     "data": {
      "text/plain": [
       "7551"
      ]
     },
     "execution_count": 11,
     "metadata": {},
     "output_type": "execute_result"
    }
   ],
   "source": [
    "# проверяю, сколько всего пользователей в логе\n",
    "row_ucer_cnt = data['user_id'].nunique()\n",
    "row_ucer_cnt"
   ]
  },
  {
   "cell_type": "code",
   "execution_count": 12,
   "id": "d23f7d27",
   "metadata": {},
   "outputs": [
    {
     "data": {
      "text/plain": [
       "32.28"
      ]
     },
     "execution_count": 12,
     "metadata": {},
     "output_type": "execute_result"
    }
   ],
   "source": [
    "# проверяю, сколько в среднем событий приходится на пользователя\n",
    "round((data.groupby('user_id')['event'].count()).mean(), 2)"
   ]
  },
  {
   "cell_type": "code",
   "execution_count": 13,
   "id": "d547a014",
   "metadata": {},
   "outputs": [
    {
     "data": {
      "text/plain": [
       "Timestamp('2019-07-25 04:43:36')"
      ]
     },
     "metadata": {},
     "output_type": "display_data"
    },
    {
     "data": {
      "text/plain": [
       "Timestamp('2019-08-07 21:15:17')"
      ]
     },
     "metadata": {},
     "output_type": "display_data"
    },
    {
     "data": {
      "text/plain": [
       "<AxesSubplot:>"
      ]
     },
     "execution_count": 13,
     "metadata": {},
     "output_type": "execute_result"
    },
    {
     "data": {
      "image/png": "[encoded data removed]",
      "text/plain": [
       "<Figure size 1008x360 with 1 Axes>"
      ]
     },
     "metadata": {
      "needs_background": "light"
     },
     "output_type": "display_data"
    }
   ],
   "source": [
    "# проверяю, временные гарницы \n",
    "display(data['event_time'].min())\n",
    "display(data['event_time'].max())\n",
    "data['event_time'].hist(bins=14*24, figsize=(14, 5))"
   ]
  },
  {
   "cell_type": "code",
   "execution_count": 14,
   "id": "d4079db7",
   "metadata": {},
   "outputs": [
    {
     "data": {
      "text/plain": [
       "'Количество событий:'"
      ]
     },
     "metadata": {},
     "output_type": "display_data"
    },
    {
     "data": {
      "text/plain": [
       "2826"
      ]
     },
     "metadata": {},
     "output_type": "display_data"
    },
    {
     "data": {
      "text/plain": [
       "'Доля событий июля, %:'"
      ]
     },
     "metadata": {},
     "output_type": "display_data"
    },
    {
     "data": {
      "text/plain": [
       "1.16"
      ]
     },
     "metadata": {},
     "output_type": "display_data"
    }
   ],
   "source": [
    "# проверяю количество событий до 1.08.2019\n",
    "display('Количество событий:', len(data[data['date'] < '2019-8-1']))\n",
    "display('Доля событий июля, %:', round(len(data[data['date'] < '2019-8-1']) / len(data['date']) * 100, 2))"
   ]
  },
  {
   "cell_type": "code",
   "execution_count": 15,
   "id": "e9cf3f38",
   "metadata": {},
   "outputs": [],
   "source": [
    "# исключаю неполные данные\n",
    "data = data[data['date'] > '2019-7-31']"
   ]
  },
  {
   "cell_type": "code",
   "execution_count": 16,
   "id": "db1830b2",
   "metadata": {},
   "outputs": [
    {
     "data": {
      "text/plain": [
       "'Количество исключенных пользователей:'"
      ]
     },
     "metadata": {},
     "output_type": "display_data"
    },
    {
     "data": {
      "text/plain": [
       "17"
      ]
     },
     "metadata": {},
     "output_type": "display_data"
    },
    {
     "data": {
      "text/plain": [
       "'Доля исключенных пользователей, %:'"
      ]
     },
     "metadata": {},
     "output_type": "display_data"
    },
    {
     "data": {
      "text/plain": [
       "0.23"
      ]
     },
     "metadata": {},
     "output_type": "display_data"
    }
   ],
   "source": [
    "# проверяю количество \"потерянных\" пользователей\n",
    "display('Количество исключенных пользователей:', row_ucer_cnt - data['user_id'].nunique())\n",
    "display('Доля исключенных пользователей, %:', \n",
    "       round((row_ucer_cnt - data['user_id'].nunique()) / row_ucer_cnt * 100, 2))"
   ]
  },
  {
   "cell_type": "code",
   "execution_count": 17,
   "id": "070af0e1",
   "metadata": {},
   "outputs": [
    {
     "data": {
      "text/plain": [
       "248    84563\n",
       "246    79302\n",
       "247    77022\n",
       "Name: group, dtype: int64"
      ]
     },
     "execution_count": 17,
     "metadata": {},
     "output_type": "execute_result"
    }
   ],
   "source": [
    "# проверяю, все ли экспериментальные группы представлены\n",
    "data['group'].value_counts()"
   ]
  },
  {
   "cell_type": "markdown",
   "id": "d9ffb178",
   "metadata": {},
   "source": [
    "### Итоги проверки данных\n",
    "В ходе изучения и проверки данных выявлено:\n",
    "* данные представленны по всем трем группам эксперимента\n",
    "* в период с 25.07.2019 по 7.08.2019 включительно приложением пользовались 7551 человек\n",
    "* зарегистрировано 243713 событий 5-ти типов\n",
    "* количество событий июля (с 25.07.2019 по 31.07.2019) - 2826, это 1.16% от общего объема\n",
    "* 17 уникальных пользователей, 0.23% от общего числа, не совершили ни одного действия в августе\n",
    " \n",
    "Из дальнейшего исследования исключены события июля и пользователи, которые не проявили себя в августе."
   ]
  },
  {
   "cell_type": "markdown",
   "id": "d078b508",
   "metadata": {},
   "source": [
    "## Изучение воронки событий"
   ]
  },
  {
   "cell_type": "code",
   "execution_count": 18,
   "id": "f1bcf66f",
   "metadata": {},
   "outputs": [
    {
     "data": {
      "text/plain": [
       "MainScreenAppear           117328\n",
       "OffersScreenAppear          46333\n",
       "CartScreenAppear            42303\n",
       "PaymentScreenSuccessful     33918\n",
       "Tutorial                     1005\n",
       "Name: event, dtype: int64"
      ]
     },
     "execution_count": 18,
     "metadata": {},
     "output_type": "execute_result"
    }
   ],
   "source": [
    "# проверяю события и их частоту\n",
    "data['event'].value_counts()"
   ]
  },
  {
   "cell_type": "code",
   "execution_count": 19,
   "id": "d4caa737",
   "metadata": {},
   "outputs": [
    {
     "data": {
      "text/html": [
       "<div>\n",
       "<style scoped>\n",
       "    .dataframe tbody tr th:only-of-type {\n",
       "        vertical-align: middle;\n",
       "    }\n",
       "\n",
       "    .dataframe tbody tr th {\n",
       "        vertical-align: top;\n",
       "    }\n",
       "\n",
       "    .dataframe thead th {\n",
       "        text-align: right;\n",
       "    }\n",
       "</style>\n",
       "<table border=\"1\" class=\"dataframe\">\n",
       "  <thead>\n",
       "    <tr style=\"text-align: right;\">\n",
       "      <th></th>\n",
       "      <th>event</th>\n",
       "      <th>user_cnt</th>\n",
       "      <th>cr</th>\n",
       "    </tr>\n",
       "  </thead>\n",
       "  <tbody>\n",
       "    <tr>\n",
       "      <th>0</th>\n",
       "      <td>MainScreenAppear</td>\n",
       "      <td>7419</td>\n",
       "      <td>98.0</td>\n",
       "    </tr>\n",
       "    <tr>\n",
       "      <th>1</th>\n",
       "      <td>OffersScreenAppear</td>\n",
       "      <td>4593</td>\n",
       "      <td>61.0</td>\n",
       "    </tr>\n",
       "    <tr>\n",
       "      <th>2</th>\n",
       "      <td>CartScreenAppear</td>\n",
       "      <td>3734</td>\n",
       "      <td>50.0</td>\n",
       "    </tr>\n",
       "    <tr>\n",
       "      <th>3</th>\n",
       "      <td>PaymentScreenSuccessful</td>\n",
       "      <td>3539</td>\n",
       "      <td>47.0</td>\n",
       "    </tr>\n",
       "    <tr>\n",
       "      <th>4</th>\n",
       "      <td>Tutorial</td>\n",
       "      <td>840</td>\n",
       "      <td>11.0</td>\n",
       "    </tr>\n",
       "  </tbody>\n",
       "</table>\n",
       "</div>"
      ],
      "text/plain": [
       "                     event  user_cnt    cr\n",
       "0         MainScreenAppear      7419  98.0\n",
       "1       OffersScreenAppear      4593  61.0\n",
       "2         CartScreenAppear      3734  50.0\n",
       "3  PaymentScreenSuccessful      3539  47.0\n",
       "4                 Tutorial       840  11.0"
      ]
     },
     "execution_count": 19,
     "metadata": {},
     "output_type": "execute_result"
    }
   ],
   "source": [
    "# считаю количество пользователей по событиям и их долю от общего числа\n",
    "event_by_user = (data.pivot_table(index='event', values='user_id', aggfunc='nunique')\n",
    "                 .sort_values(by='user_id', ascending=False)).reset_index()\n",
    "event_by_user.columns = ['event', 'user_cnt']\n",
    "event_by_user['cr'] = (event_by_user['user_cnt'] / data['user_id'].nunique() * 100).round()\n",
    "event_by_user"
   ]
  },
  {
   "cell_type": "code",
   "execution_count": 20,
   "id": "f06a66f8",
   "metadata": {},
   "outputs": [
    {
     "data": {
      "text/html": [
       "<div>\n",
       "<style scoped>\n",
       "    .dataframe tbody tr th:only-of-type {\n",
       "        vertical-align: middle;\n",
       "    }\n",
       "\n",
       "    .dataframe tbody tr th {\n",
       "        vertical-align: top;\n",
       "    }\n",
       "\n",
       "    .dataframe thead th {\n",
       "        text-align: right;\n",
       "    }\n",
       "</style>\n",
       "<table border=\"1\" class=\"dataframe\">\n",
       "  <thead>\n",
       "    <tr style=\"text-align: right;\">\n",
       "      <th></th>\n",
       "      <th>event</th>\n",
       "      <th>user_cnt</th>\n",
       "      <th>cr</th>\n",
       "      <th>cr_to_step</th>\n",
       "    </tr>\n",
       "  </thead>\n",
       "  <tbody>\n",
       "    <tr>\n",
       "      <th>0</th>\n",
       "      <td>MainScreenAppear</td>\n",
       "      <td>7419</td>\n",
       "      <td>98.0</td>\n",
       "      <td>NaN</td>\n",
       "    </tr>\n",
       "    <tr>\n",
       "      <th>1</th>\n",
       "      <td>OffersScreenAppear</td>\n",
       "      <td>4593</td>\n",
       "      <td>61.0</td>\n",
       "      <td>62.0</td>\n",
       "    </tr>\n",
       "    <tr>\n",
       "      <th>2</th>\n",
       "      <td>CartScreenAppear</td>\n",
       "      <td>3734</td>\n",
       "      <td>50.0</td>\n",
       "      <td>81.0</td>\n",
       "    </tr>\n",
       "    <tr>\n",
       "      <th>3</th>\n",
       "      <td>PaymentScreenSuccessful</td>\n",
       "      <td>3539</td>\n",
       "      <td>47.0</td>\n",
       "      <td>95.0</td>\n",
       "    </tr>\n",
       "    <tr>\n",
       "      <th>4</th>\n",
       "      <td>Tutorial</td>\n",
       "      <td>840</td>\n",
       "      <td>11.0</td>\n",
       "      <td>24.0</td>\n",
       "    </tr>\n",
       "  </tbody>\n",
       "</table>\n",
       "</div>"
      ],
      "text/plain": [
       "                     event  user_cnt    cr  cr_to_step\n",
       "0         MainScreenAppear      7419  98.0         NaN\n",
       "1       OffersScreenAppear      4593  61.0        62.0\n",
       "2         CartScreenAppear      3734  50.0        81.0\n",
       "3  PaymentScreenSuccessful      3539  47.0        95.0\n",
       "4                 Tutorial       840  11.0        24.0"
      ]
     },
     "execution_count": 20,
     "metadata": {},
     "output_type": "execute_result"
    }
   ],
   "source": [
    "# считаю конверсию из шага в шаг\n",
    "event_by_user['cr_to_step'] = (event_by_user['user_cnt'] / event_by_user['user_cnt'].shift(1) * 100).round()\n",
    "event_by_user"
   ]
  },
  {
   "cell_type": "markdown",
   "id": "28bf6cd8",
   "metadata": {},
   "source": [
    "### Результаты воронки событий \n",
    "В представленных логах встречается 5 видов событий:\n",
    "* появление на главном экране,\n",
    "* на экране с товаром,\n",
    "* на экране корзины, \n",
    "* оплаты и \n",
    "* обучения.\n",
    "\n",
    "Причем первые 4 события выстраиваются в последовательную цепочку.\n",
    "\n",
    "Только 11% пользователей использует подсказки по использованию приложения, а до покупки доходит лишь 47% аудитории, при том, что почти все, кто проверил товары в корзине, дошли до покупки (95%). Чуть уступает конверсия из просмотра товара в добавление его в корзину (81%), а это 50% от общего потока пользователей. А вот на этапе перехода с главного экрана к странице с выбором товара пользователи теряются, знакомятся с предложениями товаров только 61% от общего числа (62% от тех, кто попал на главный экран).\n",
    "\n",
    "Таким образом главная зона роста - привлечь пользователей с главной страницы к выбору товаров."
   ]
  },
  {
   "cell_type": "markdown",
   "id": "b576013e",
   "metadata": {},
   "source": [
    "## Изучение результатов эксперимента"
   ]
  },
  {
   "cell_type": "code",
   "execution_count": 21,
   "id": "96100b87",
   "metadata": {},
   "outputs": [
    {
     "data": {
      "text/html": [
       "<div>\n",
       "<style scoped>\n",
       "    .dataframe tbody tr th:only-of-type {\n",
       "        vertical-align: middle;\n",
       "    }\n",
       "\n",
       "    .dataframe tbody tr th {\n",
       "        vertical-align: top;\n",
       "    }\n",
       "\n",
       "    .dataframe thead th {\n",
       "        text-align: right;\n",
       "    }\n",
       "</style>\n",
       "<table border=\"1\" class=\"dataframe\">\n",
       "  <thead>\n",
       "    <tr style=\"text-align: right;\">\n",
       "      <th></th>\n",
       "      <th>user_id</th>\n",
       "    </tr>\n",
       "    <tr>\n",
       "      <th>group</th>\n",
       "      <th></th>\n",
       "    </tr>\n",
       "  </thead>\n",
       "  <tbody>\n",
       "    <tr>\n",
       "      <th>246</th>\n",
       "      <td>2484</td>\n",
       "    </tr>\n",
       "    <tr>\n",
       "      <th>247</th>\n",
       "      <td>2513</td>\n",
       "    </tr>\n",
       "    <tr>\n",
       "      <th>248</th>\n",
       "      <td>2537</td>\n",
       "    </tr>\n",
       "  </tbody>\n",
       "</table>\n",
       "</div>"
      ],
      "text/plain": [
       "       user_id\n",
       "group         \n",
       "246       2484\n",
       "247       2513\n",
       "248       2537"
      ]
     },
     "execution_count": 21,
     "metadata": {},
     "output_type": "execute_result"
    }
   ],
   "source": [
    "# считаю количество пользователей по группам\n",
    "data.groupby('group').agg({'user_id': 'nunique'})"
   ]
  },
  {
   "cell_type": "code",
   "execution_count": 22,
   "id": "09759645",
   "metadata": {},
   "outputs": [],
   "source": [
    "# разделяю датасет на отдельные группы\n",
    "group_246 = data[data['group'] == 246]\n",
    "group_247 = data[data['group'] == 247]\n",
    "group_248 = data[data['group'] == 248]"
   ]
  },
  {
   "cell_type": "markdown",
   "id": "4636b6d2",
   "metadata": {},
   "source": [
    "*Гипотезы:*\n",
    "\n",
    "* H0: различий в среднем количестве событий между группами 246 и 247 нет.\n",
    "* H1: различия в среднем количестве событий между группами 246 и 247 есть."
   ]
  },
  {
   "cell_type": "code",
   "execution_count": 23,
   "id": "4805b705",
   "metadata": {},
   "outputs": [
    {
     "data": {
      "text/plain": [
       "'p-value:'"
      ]
     },
     "metadata": {},
     "output_type": "display_data"
    },
    {
     "data": {
      "text/plain": [
       "'0.620'"
      ]
     },
     "metadata": {},
     "output_type": "display_data"
    }
   ],
   "source": [
    "# считаю количество событий по дням в каждой группе\n",
    "ev_cnt_246 = group_246.groupby('date').agg({'event': 'count'})\n",
    "ev_cnt_247 = group_247.groupby('date').agg({'event': 'count'})\n",
    "\n",
    "# создаю списки событий по дням\n",
    "sample_246 = ev_cnt_246['event']\n",
    "sample_247 = ev_cnt_247['event']\n",
    "\n",
    "# считаю статистическую значимость различий в количестве событий по группам\n",
    "display('p-value:', \"{0:.3f}\".format(stats.mannwhitneyu(sample_246, sample_247)[1]))"
   ]
  },
  {
   "cell_type": "markdown",
   "id": "4b7c14b9",
   "metadata": {},
   "source": [
    "*Вывод:* значение p-value больше 0.05, значит нет оснований отвергнуть нулевую гипотезу, различий в среднем количестве событий между контрольными группами нет."
   ]
  },
  {
   "cell_type": "code",
   "execution_count": 24,
   "id": "0ab3bb42",
   "metadata": {},
   "outputs": [],
   "source": [
    "# создаю функцию для проверки равенства долей\n",
    "def get_p_value(event_gr_a, event_gr_b, group_a, group_b):\n",
    "    users_in_event = np.array([event_gr_a, event_gr_b]) # число пользователей, совершивших это событие\n",
    "    users_in_group = np.array([group_a, group_b]) # число пользователей в группе\n",
    "    # пропорция успехов в первой группе:\n",
    "    p1 = users_in_event[0]/users_in_group[0]\n",
    "    # пропорция успехов во второй группе:\n",
    "    p2 = users_in_event[1]/users_in_group[1]\n",
    "    # пропорция успехов в комбинированном датасете:\n",
    "    p_combined = (users_in_event[0] + users_in_event[1]) / (users_in_group[0] + users_in_group[1])\n",
    "    # разница пропорций в датасетах\n",
    "    difference = p1 - p2\n",
    "    # считаею статистику в ст.отклонениях стандартного нормального распределения\n",
    "    z_value = difference / mth.sqrt(p_combined * (1 - p_combined) * (1/users_in_group[0] + 1/users_in_group[1]))\n",
    "    # задаю стандартное нормальное распределение (среднее 0, ст.отклонение 1)\n",
    "    distr = stats.norm(0, 1)\n",
    "    p_value = (1 - distr.cdf(abs(z_value))) * 2\n",
    "    return p_value"
   ]
  },
  {
   "cell_type": "markdown",
   "id": "db3651bb",
   "metadata": {},
   "source": [
    "*Гипотезы:*\n",
    "\n",
    "* H0: доли уникальных посетителей, побывавших на этапе воронки, одинаковы.\n",
    "* H1: между долями уникальных посетителей, побывавших на этапе воронки, есть значимая разница."
   ]
  },
  {
   "cell_type": "code",
   "execution_count": 25,
   "id": "a97a6e13",
   "metadata": {},
   "outputs": [],
   "source": [
    "# критический уровень статистической значимости\n",
    "alpha = 0.05"
   ]
  },
  {
   "cell_type": "code",
   "execution_count": 26,
   "id": "c222ecf9",
   "metadata": {},
   "outputs": [
    {
     "data": {
      "text/plain": [
       "'Событие MainScreenAppear'"
      ]
     },
     "metadata": {},
     "output_type": "display_data"
    },
    {
     "data": {
      "text/plain": [
       "'p-value:'"
      ]
     },
     "metadata": {},
     "output_type": "display_data"
    },
    {
     "data": {
      "text/plain": [
       "'0.75706'"
      ]
     },
     "metadata": {},
     "output_type": "display_data"
    }
   ],
   "source": [
    "# проверяю равенство долей групп 246 и 247 по событию MainScreenAppear\n",
    "display('Событие MainScreenAppear', 'p-value:', '{0:.5f}'.format(\n",
    "    get_p_value(group_246[group_246['event'] == 'MainScreenAppear']['user_id'].nunique(),\n",
    "                group_247[group_247['event'] == 'MainScreenAppear']['user_id'].nunique(),\n",
    "                group_246['user_id'].nunique(),\n",
    "                group_247['user_id'].nunique())))"
   ]
  },
  {
   "cell_type": "code",
   "execution_count": 27,
   "id": "843b1d6e",
   "metadata": {},
   "outputs": [
    {
     "data": {
      "text/plain": [
       "'Событие OffersScreenAppear'"
      ]
     },
     "metadata": {},
     "output_type": "display_data"
    },
    {
     "data": {
      "text/plain": [
       "'p-value:'"
      ]
     },
     "metadata": {},
     "output_type": "display_data"
    },
    {
     "data": {
      "text/plain": [
       "'0.24810'"
      ]
     },
     "metadata": {},
     "output_type": "display_data"
    }
   ],
   "source": [
    "# проверяю равенство долей групп 246 и 247 по событию OffersScreenAppear \n",
    "display('Событие OffersScreenAppear', 'p-value:', '{0:.5f}'.format(\n",
    "    get_p_value(group_246[group_246['event'] == 'OffersScreenAppear']['user_id'].nunique(),\n",
    "                group_247[group_247['event'] == 'OffersScreenAppear']['user_id'].nunique(),\n",
    "                group_246['user_id'].nunique(),\n",
    "                group_247['user_id'].nunique())))"
   ]
  },
  {
   "cell_type": "code",
   "execution_count": 28,
   "id": "8e346746",
   "metadata": {},
   "outputs": [
    {
     "data": {
      "text/plain": [
       "'Событие CartScreenAppear'"
      ]
     },
     "metadata": {},
     "output_type": "display_data"
    },
    {
     "data": {
      "text/plain": [
       "'p-value:'"
      ]
     },
     "metadata": {},
     "output_type": "display_data"
    },
    {
     "data": {
      "text/plain": [
       "'0.22883'"
      ]
     },
     "metadata": {},
     "output_type": "display_data"
    }
   ],
   "source": [
    "# проверяю равенство долей групп 246 и 247 по событию CartScreenAppear\n",
    "display('Событие CartScreenAppear', 'p-value:', '{0:.5f}'.format(\n",
    "    get_p_value(group_246[group_246['event'] == 'CartScreenAppear']['user_id'].nunique(),\n",
    "                group_247[group_247['event'] == 'CartScreenAppear']['user_id'].nunique(),\n",
    "                group_246['user_id'].nunique(),\n",
    "                group_247['user_id'].nunique())))"
   ]
  },
  {
   "cell_type": "code",
   "execution_count": 29,
   "id": "aad0f4f9",
   "metadata": {},
   "outputs": [
    {
     "data": {
      "text/plain": [
       "'Событие PaymentScreenSuccessful'"
      ]
     },
     "metadata": {},
     "output_type": "display_data"
    },
    {
     "data": {
      "text/plain": [
       "'p-value:'"
      ]
     },
     "metadata": {},
     "output_type": "display_data"
    },
    {
     "data": {
      "text/plain": [
       "'0.11457'"
      ]
     },
     "metadata": {},
     "output_type": "display_data"
    }
   ],
   "source": [
    "# проверяю равенство долей групп 246 и 247 по событию PaymentScreenSuccessful\n",
    "display('Событие PaymentScreenSuccessful', 'p-value:', '{0:.5f}'.format(\n",
    "    get_p_value(group_246[group_246['event'] == 'PaymentScreenSuccessful']['user_id'].nunique(),\n",
    "                group_247[group_247['event'] == 'PaymentScreenSuccessful']['user_id'].nunique(),\n",
    "                group_246['user_id'].nunique(),\n",
    "                group_247['user_id'].nunique())))"
   ]
  },
  {
   "cell_type": "code",
   "execution_count": 30,
   "id": "632dfa8a",
   "metadata": {},
   "outputs": [
    {
     "data": {
      "text/plain": [
       "'Событие Tutorial'"
      ]
     },
     "metadata": {},
     "output_type": "display_data"
    },
    {
     "data": {
      "text/plain": [
       "'p-value:'"
      ]
     },
     "metadata": {},
     "output_type": "display_data"
    },
    {
     "data": {
      "text/plain": [
       "'0.93770'"
      ]
     },
     "metadata": {},
     "output_type": "display_data"
    }
   ],
   "source": [
    "# проверяю равенство долей групп 246 и 247 по событию Tutorial\n",
    "display('Событие Tutorial', 'p-value:', '{0:.5f}'.format(\n",
    "    get_p_value(group_246[group_246['event'] == 'Tutorial']['user_id'].nunique(),\n",
    "                group_247[group_247['event'] == 'Tutorial']['user_id'].nunique(),\n",
    "                group_246['user_id'].nunique(),\n",
    "                group_247['user_id'].nunique())))"
   ]
  },
  {
   "cell_type": "code",
   "execution_count": 31,
   "id": "da3cdc08",
   "metadata": {},
   "outputs": [],
   "source": [
    "# объединенная контрольная группа А+А\n",
    "group_246_247 = data[data['group'] != 248]"
   ]
  },
  {
   "cell_type": "code",
   "execution_count": 32,
   "id": "50a473e1",
   "metadata": {},
   "outputs": [
    {
     "data": {
      "text/html": [
       "<div>\n",
       "<style scoped>\n",
       "    .dataframe tbody tr th:only-of-type {\n",
       "        vertical-align: middle;\n",
       "    }\n",
       "\n",
       "    .dataframe tbody tr th {\n",
       "        vertical-align: top;\n",
       "    }\n",
       "\n",
       "    .dataframe thead th {\n",
       "        text-align: right;\n",
       "    }\n",
       "</style>\n",
       "<table border=\"1\" class=\"dataframe\">\n",
       "  <thead>\n",
       "    <tr style=\"text-align: right;\">\n",
       "      <th>group</th>\n",
       "      <th>event</th>\n",
       "      <th>group_246</th>\n",
       "      <th>group_247</th>\n",
       "      <th>group_248</th>\n",
       "      <th>246_and_247</th>\n",
       "    </tr>\n",
       "  </thead>\n",
       "  <tbody>\n",
       "    <tr>\n",
       "      <th>1</th>\n",
       "      <td>MainScreenAppear</td>\n",
       "      <td>2450</td>\n",
       "      <td>2476</td>\n",
       "      <td>2493</td>\n",
       "      <td>4926</td>\n",
       "    </tr>\n",
       "    <tr>\n",
       "      <th>2</th>\n",
       "      <td>OffersScreenAppear</td>\n",
       "      <td>1542</td>\n",
       "      <td>1520</td>\n",
       "      <td>1531</td>\n",
       "      <td>3062</td>\n",
       "    </tr>\n",
       "    <tr>\n",
       "      <th>0</th>\n",
       "      <td>CartScreenAppear</td>\n",
       "      <td>1266</td>\n",
       "      <td>1238</td>\n",
       "      <td>1230</td>\n",
       "      <td>2504</td>\n",
       "    </tr>\n",
       "    <tr>\n",
       "      <th>3</th>\n",
       "      <td>PaymentScreenSuccessful</td>\n",
       "      <td>1200</td>\n",
       "      <td>1158</td>\n",
       "      <td>1181</td>\n",
       "      <td>2358</td>\n",
       "    </tr>\n",
       "    <tr>\n",
       "      <th>4</th>\n",
       "      <td>Tutorial</td>\n",
       "      <td>278</td>\n",
       "      <td>283</td>\n",
       "      <td>279</td>\n",
       "      <td>561</td>\n",
       "    </tr>\n",
       "  </tbody>\n",
       "</table>\n",
       "</div>"
      ],
      "text/plain": [
       "group                    event  group_246  group_247  group_248  246_and_247\n",
       "1             MainScreenAppear       2450       2476       2493         4926\n",
       "2           OffersScreenAppear       1542       1520       1531         3062\n",
       "0             CartScreenAppear       1266       1238       1230         2504\n",
       "3      PaymentScreenSuccessful       1200       1158       1181         2358\n",
       "4                     Tutorial        278        283        279          561"
      ]
     },
     "metadata": {},
     "output_type": "display_data"
    },
    {
     "data": {
      "text/plain": [
       "'Событие MainScreenAppear, группы 246 и 248'"
      ]
     },
     "metadata": {},
     "output_type": "display_data"
    },
    {
     "data": {
      "text/plain": [
       "'p-value:'"
      ]
     },
     "metadata": {},
     "output_type": "display_data"
    },
    {
     "data": {
      "text/plain": [
       "'0.295'"
      ]
     },
     "metadata": {},
     "output_type": "display_data"
    },
    {
     "data": {
      "text/plain": [
       "'Событие MainScreenAppear, группы 247 и 248'"
      ]
     },
     "metadata": {},
     "output_type": "display_data"
    },
    {
     "data": {
      "text/plain": [
       "'p-value:'"
      ]
     },
     "metadata": {},
     "output_type": "display_data"
    },
    {
     "data": {
      "text/plain": [
       "'0.459'"
      ]
     },
     "metadata": {},
     "output_type": "display_data"
    },
    {
     "data": {
      "text/plain": [
       "'Событие MainScreenAppear, группы 246+247 и 248'"
      ]
     },
     "metadata": {},
     "output_type": "display_data"
    },
    {
     "data": {
      "text/plain": [
       "'p-value:'"
      ]
     },
     "metadata": {},
     "output_type": "display_data"
    },
    {
     "data": {
      "text/plain": [
       "'0.294'"
      ]
     },
     "metadata": {},
     "output_type": "display_data"
    },
    {
     "data": {
      "text/plain": [
       "'Событие OffersScreenAppear, группы 246 и 248'"
      ]
     },
     "metadata": {},
     "output_type": "display_data"
    },
    {
     "data": {
      "text/plain": [
       "'p-value:'"
      ]
     },
     "metadata": {},
     "output_type": "display_data"
    },
    {
     "data": {
      "text/plain": [
       "'0.208'"
      ]
     },
     "metadata": {},
     "output_type": "display_data"
    },
    {
     "data": {
      "text/plain": [
       "'Событие OffersScreenAppear, группы 247 и 248'"
      ]
     },
     "metadata": {},
     "output_type": "display_data"
    },
    {
     "data": {
      "text/plain": [
       "'p-value:'"
      ]
     },
     "metadata": {},
     "output_type": "display_data"
    },
    {
     "data": {
      "text/plain": [
       "'0.920'"
      ]
     },
     "metadata": {},
     "output_type": "display_data"
    },
    {
     "data": {
      "text/plain": [
       "'Событие OffersScreenAppear, группы 246+247 и 248'"
      ]
     },
     "metadata": {},
     "output_type": "display_data"
    },
    {
     "data": {
      "text/plain": [
       "'p-value:'"
      ]
     },
     "metadata": {},
     "output_type": "display_data"
    },
    {
     "data": {
      "text/plain": [
       "'0.434'"
      ]
     },
     "metadata": {},
     "output_type": "display_data"
    },
    {
     "data": {
      "text/plain": [
       "'Событие CartScreenAppear, группы 246 и 248'"
      ]
     },
     "metadata": {},
     "output_type": "display_data"
    },
    {
     "data": {
      "text/plain": [
       "'p-value:'"
      ]
     },
     "metadata": {},
     "output_type": "display_data"
    },
    {
     "data": {
      "text/plain": [
       "'0.078'"
      ]
     },
     "metadata": {},
     "output_type": "display_data"
    },
    {
     "data": {
      "text/plain": [
       "'Событие CartScreenAppear, группы 247 и 248'"
      ]
     },
     "metadata": {},
     "output_type": "display_data"
    },
    {
     "data": {
      "text/plain": [
       "'p-value:'"
      ]
     },
     "metadata": {},
     "output_type": "display_data"
    },
    {
     "data": {
      "text/plain": [
       "'0.579'"
      ]
     },
     "metadata": {},
     "output_type": "display_data"
    },
    {
     "data": {
      "text/plain": [
       "'Событие CartScreenAppear, группы 246+247 и 248'"
      ]
     },
     "metadata": {},
     "output_type": "display_data"
    },
    {
     "data": {
      "text/plain": [
       "'p-value:'"
      ]
     },
     "metadata": {},
     "output_type": "display_data"
    },
    {
     "data": {
      "text/plain": [
       "'0.182'"
      ]
     },
     "metadata": {},
     "output_type": "display_data"
    },
    {
     "data": {
      "text/plain": [
       "'Событие CartScreenAppear, группы 246 и 248'"
      ]
     },
     "metadata": {},
     "output_type": "display_data"
    },
    {
     "data": {
      "text/plain": [
       "'p-value:'"
      ]
     },
     "metadata": {},
     "output_type": "display_data"
    },
    {
     "data": {
      "text/plain": [
       "'0.212'"
      ]
     },
     "metadata": {},
     "output_type": "display_data"
    },
    {
     "data": {
      "text/plain": [
       "'Событие PaymentScreenSuccessful, группы 247 и 248'"
      ]
     },
     "metadata": {},
     "output_type": "display_data"
    },
    {
     "data": {
      "text/plain": [
       "'p-value:'"
      ]
     },
     "metadata": {},
     "output_type": "display_data"
    },
    {
     "data": {
      "text/plain": [
       "'0.737'"
      ]
     },
     "metadata": {},
     "output_type": "display_data"
    },
    {
     "data": {
      "text/plain": [
       "'Событие PaymentScreenSuccessful, группы 246+247 и 248'"
      ]
     },
     "metadata": {},
     "output_type": "display_data"
    },
    {
     "data": {
      "text/plain": [
       "'p-value:'"
      ]
     },
     "metadata": {},
     "output_type": "display_data"
    },
    {
     "data": {
      "text/plain": [
       "'0.600'"
      ]
     },
     "metadata": {},
     "output_type": "display_data"
    },
    {
     "data": {
      "text/plain": [
       "'Событие Tutorial, группы 246 и 248'"
      ]
     },
     "metadata": {},
     "output_type": "display_data"
    },
    {
     "data": {
      "text/plain": [
       "'p-value:'"
      ]
     },
     "metadata": {},
     "output_type": "display_data"
    },
    {
     "data": {
      "text/plain": [
       "'0.826'"
      ]
     },
     "metadata": {},
     "output_type": "display_data"
    },
    {
     "data": {
      "text/plain": [
       "'Событие Tutorial, группы 247 и 248'"
      ]
     },
     "metadata": {},
     "output_type": "display_data"
    },
    {
     "data": {
      "text/plain": [
       "'p-value:'"
      ]
     },
     "metadata": {},
     "output_type": "display_data"
    },
    {
     "data": {
      "text/plain": [
       "'0.765'"
      ]
     },
     "metadata": {},
     "output_type": "display_data"
    },
    {
     "data": {
      "text/plain": [
       "'Событие Tutorial, группы 246+247 и 248'"
      ]
     },
     "metadata": {},
     "output_type": "display_data"
    },
    {
     "data": {
      "text/plain": [
       "'p-value:'"
      ]
     },
     "metadata": {},
     "output_type": "display_data"
    },
    {
     "data": {
      "text/plain": [
       "'0.765'"
      ]
     },
     "metadata": {},
     "output_type": "display_data"
    }
   ],
   "source": [
    "# проверка равенства долей уникальных посетителей, побывавших на этапе воронки\n",
    "# создаю таблицу с количеством пользователей по группам на событие\n",
    "funnel = data.pivot_table(index='event', columns='group', values='user_id', aggfunc='nunique').reset_index()\n",
    "funnel = funnel.rename(columns={246: 'group_246', 247: 'group_247', 248: 'group_248'})\n",
    "funnel['246_and_247'] = funnel['group_246'] + funnel['group_247']\n",
    "display(funnel.sort_values(by='group_246', ascending=False))\n",
    "# переменные с количеством пользователей в группе\n",
    "total_246 = group_246['user_id'].nunique()\n",
    "total_247 = group_247['user_id'].nunique()\n",
    "total_248 = group_248['user_id'].nunique()\n",
    "total_246_247 = group_246_247['user_id'].nunique()\n",
    "# проверяю равенство долей\n",
    "# MainScreenAppear\n",
    "display('Событие MainScreenAppear, группы 246 и 248', 'p-value:',\n",
    "        '{0:.3f}'.format(get_p_value(funnel.loc[1, 'group_246'], funnel.loc[1, 'group_248'],\n",
    "                                     total_246, total_248)))\n",
    "\n",
    "display('Событие MainScreenAppear, группы 247 и 248', 'p-value:',\n",
    "        '{0:.3f}'.format(get_p_value(funnel.loc[1, 'group_247'], funnel.loc[1, 'group_248'],\n",
    "                                     total_247, total_248)))\n",
    "\n",
    "display('Событие MainScreenAppear, группы 246+247 и 248', 'p-value:',\n",
    "        '{0:.3f}'.format(get_p_value(funnel.loc[1, '246_and_247'], funnel.loc[1, 'group_248'],\n",
    "                                     total_246_247, total_248)))\n",
    "# OffersScreenAppear\n",
    "display('Событие OffersScreenAppear, группы 246 и 248', 'p-value:',\n",
    "        '{0:.3f}'.format(get_p_value(funnel.loc[2, 'group_246'], funnel.loc[2, 'group_248'],\n",
    "                                     total_246, total_248)))\n",
    "\n",
    "display('Событие OffersScreenAppear, группы 247 и 248', 'p-value:',\n",
    "        '{0:.3f}'.format(get_p_value(funnel.loc[2, 'group_247'], funnel.loc[2, 'group_248'],\n",
    "                                     total_247, total_248)))\n",
    "\n",
    "display('Событие OffersScreenAppear, группы 246+247 и 248', 'p-value:',\n",
    "        '{0:.3f}'.format(get_p_value(funnel.loc[2, '246_and_247'], funnel.loc[2, 'group_248'],\n",
    "                                     total_246_247, total_248)))\n",
    "# CartScreenAppear\n",
    "display('Событие CartScreenAppear, группы 246 и 248', 'p-value:',\n",
    "        '{0:.3f}'.format(get_p_value(funnel.loc[0, 'group_246'], funnel.loc[0, 'group_248'],\n",
    "                                     total_246, total_248)))\n",
    "\n",
    "display('Событие CartScreenAppear, группы 247 и 248', 'p-value:',\n",
    "        '{0:.3f}'.format(get_p_value(funnel.loc[0, 'group_247'], funnel.loc[0, 'group_248'],\n",
    "                                     total_247, total_248)))\n",
    "\n",
    "display('Событие CartScreenAppear, группы 246+247 и 248', 'p-value:',\n",
    "        '{0:.3f}'.format(get_p_value(funnel.loc[0, '246_and_247'], funnel.loc[0, 'group_248'],\n",
    "                                     total_246_247, total_248)))\n",
    "# PaymentScreenSuccessful\n",
    "display('Событие CartScreenAppear, группы 246 и 248', 'p-value:',\n",
    "        '{0:.3f}'.format(get_p_value(funnel.loc[3, 'group_246'], funnel.loc[3, 'group_248'],\n",
    "                                     total_246, total_248)))\n",
    "\n",
    "display('Событие PaymentScreenSuccessful, группы 247 и 248', 'p-value:',\n",
    "        '{0:.3f}'.format(get_p_value(funnel.loc[3, 'group_247'], funnel.loc[3, 'group_248'],\n",
    "                                     total_247, total_248)))\n",
    "\n",
    "display('Событие PaymentScreenSuccessful, группы 246+247 и 248', 'p-value:',\n",
    "        '{0:.3f}'.format(get_p_value(funnel.loc[3, '246_and_247'], funnel.loc[3, 'group_248'],\n",
    "                                     total_246_247, total_248)))\n",
    "# Tutorial\n",
    "display('Событие Tutorial, группы 246 и 248', 'p-value:',\n",
    "        '{0:.3f}'.format(get_p_value(funnel.loc[4, 'group_246'], funnel.loc[4, 'group_248'],\n",
    "                                     total_246, total_248)))\n",
    "\n",
    "display('Событие Tutorial, группы 247 и 248', 'p-value:',\n",
    "        '{0:.3f}'.format(get_p_value(funnel.loc[4, 'group_247'], funnel.loc[4, 'group_248'],\n",
    "                                     total_247, total_248)))\n",
    "\n",
    "display('Событие Tutorial, группы 246+247 и 248', 'p-value:',\n",
    "        '{0:.3f}'.format(get_p_value(funnel.loc[4, '246_and_247'], funnel.loc[4, 'group_248'],\n",
    "                                     total_246_247, total_248)))"
   ]
  },
  {
   "cell_type": "code",
   "execution_count": 33,
   "id": "f216fef5",
   "metadata": {},
   "outputs": [
    {
     "data": {
      "text/plain": [
       "0.0025"
      ]
     },
     "execution_count": 33,
     "metadata": {},
     "output_type": "execute_result"
    }
   ],
   "source": [
    "# корректирую уровень значимости для уменьшения FWER\n",
    "# критический уровень статистической значимости\n",
    "alpha = 0.05\n",
    "# произведено 20 сравнений\n",
    "bonferroni_alpha = alpha / 20  \n",
    "bonferroni_alpha"
   ]
  },
  {
   "cell_type": "markdown",
   "id": "debae1ce",
   "metadata": {},
   "source": [
    "### Результаты эксперимента"
   ]
  },
  {
   "cell_type": "markdown",
   "id": "6a8c9893",
   "metadata": {},
   "source": [
    "Эксперементальные группы представлены следующим количеством пользователей:\n",
    "* группа 246 - 2484 человек\n",
    "* группа 247 - 2513 человек\n",
    "* группа 248 - 2537 человек\n",
    "\n",
    "Учитывая, что проведена множественная проверка гипотез по одни и тем же данным, для избежания ложноположительного результата изначально заданный 5% уровень значимости был откорректирован методом Бонферрони. Статистически значимых различий в среднем количестве событий между контрольными группами 246 и 247 нет, как нет различий в конверсии по событиям между этими группами. И также нет статистических значимых различий в долях посетителей, побывавших на разных этапах воронки, при сравнении экспериментальной группы с каждой контрольной по отдельности или с объединенной контрольной группой."
   ]
  },
  {
   "cell_type": "markdown",
   "id": "227eb2a3",
   "metadata": {},
   "source": [
    "## Выводы\n",
    "В ходе исследования поведения пользователей мобильного приложения стартапа, который продаёт продукты питания, была проведена предварительная обработка данных - удалены дубликаты, типы и названия приведены к подходящим форматам. В исследование попали действия более 7.5 тысяч пользователей, разделенных на 3 группы. Сроком для исследования определен период с 1 августа 2019 по 7 августа 2019 включительно. Наблюдения велись по 5 разным этапам, которые могут проходить пользователи приложения.\n",
    "\n",
    "Воронка продаж показала, что 61% пользователей переходят к выбору товара, кладут товар в корзину 50% и оплачивают 47% от всех пользователей. В первую очередь потенциал роста кроется в увеличении конверсии с главной страницы к выбору продаваемых продуктов.\n",
    "\n",
    "Результаты A/A/B-эксперимента не выявили статистически значимых различий в долях посетителей, побывавших на разных этапах воронки при множественном сравнении."
   ]
  },
  {
   "cell_type": "code",
   "execution_count": null,
   "id": "82418c32",
   "metadata": {},
   "outputs": [],
   "source": []
  }
 ],
 "metadata": {
  "ExecuteTimeLog": [
   {
    "duration": 1251,
    "start_time": "2023-05-05T18:02:04.459Z"
   },
   {
    "duration": 172,
    "start_time": "2023-05-05T18:02:05.712Z"
   },
   {
    "duration": 3,
    "start_time": "2023-05-05T18:02:05.886Z"
   },
   {
    "duration": 27,
    "start_time": "2023-05-05T18:02:05.891Z"
   },
   {
    "duration": 13,
    "start_time": "2023-05-05T18:02:05.920Z"
   },
   {
    "duration": 130,
    "start_time": "2023-05-05T18:02:05.935Z"
   },
   {
    "duration": 32,
    "start_time": "2023-05-05T18:02:06.067Z"
   },
   {
    "duration": 10,
    "start_time": "2023-05-05T18:02:06.101Z"
   },
   {
    "duration": 18,
    "start_time": "2023-05-05T18:02:06.112Z"
   },
   {
    "duration": 345,
    "start_time": "2023-05-05T18:02:06.132Z"
   },
   {
    "duration": 29,
    "start_time": "2023-05-05T18:02:06.479Z"
   },
   {
    "duration": 11,
    "start_time": "2023-05-05T18:02:06.510Z"
   },
   {
    "duration": 8,
    "start_time": "2023-05-05T18:02:06.522Z"
   },
   {
    "duration": 50,
    "start_time": "2023-05-05T18:02:06.531Z"
   },
   {
    "duration": 105,
    "start_time": "2023-05-05T18:02:06.583Z"
   },
   {
    "duration": 15,
    "start_time": "2023-05-05T18:02:06.689Z"
   },
   {
    "duration": 71,
    "start_time": "2023-05-05T18:02:06.705Z"
   },
   {
    "duration": 21,
    "start_time": "2023-05-05T18:02:06.778Z"
   },
   {
    "duration": 22,
    "start_time": "2023-05-05T18:02:06.801Z"
   },
   {
    "duration": 5,
    "start_time": "2023-05-05T18:02:06.825Z"
   },
   {
    "duration": 25,
    "start_time": "2023-05-05T18:02:06.832Z"
   },
   {
    "duration": 29,
    "start_time": "2023-05-05T18:02:06.859Z"
   },
   {
    "duration": 21,
    "start_time": "2023-05-05T18:02:06.890Z"
   },
   {
    "duration": 48,
    "start_time": "2023-05-05T18:02:06.913Z"
   },
   {
    "duration": 27,
    "start_time": "2023-05-05T18:02:06.963Z"
   },
   {
    "duration": 18,
    "start_time": "2023-05-05T18:02:06.991Z"
   },
   {
    "duration": 12,
    "start_time": "2023-05-05T18:02:07.011Z"
   },
   {
    "duration": 50,
    "start_time": "2023-05-05T18:02:07.026Z"
   },
   {
    "duration": 23,
    "start_time": "2023-05-05T18:02:07.078Z"
   },
   {
    "duration": 59,
    "start_time": "2023-05-05T18:02:07.102Z"
   },
   {
    "duration": 31,
    "start_time": "2023-05-05T18:02:07.162Z"
   },
   {
    "duration": 22,
    "start_time": "2023-05-05T18:02:07.195Z"
   },
   {
    "duration": 53,
    "start_time": "2023-05-05T18:02:07.219Z"
   },
   {
    "duration": 25,
    "start_time": "2023-05-05T18:02:07.273Z"
   },
   {
    "duration": 23,
    "start_time": "2023-05-05T18:02:07.299Z"
   },
   {
    "duration": 60,
    "start_time": "2023-05-05T18:02:07.324Z"
   },
   {
    "duration": 21,
    "start_time": "2023-05-05T18:02:07.385Z"
   },
   {
    "duration": 51,
    "start_time": "2023-05-05T18:02:07.408Z"
   },
   {
    "duration": 28,
    "start_time": "2023-05-05T18:02:07.462Z"
   },
   {
    "duration": 20,
    "start_time": "2023-05-05T18:02:07.492Z"
   },
   {
    "duration": 52,
    "start_time": "2023-05-05T18:02:07.513Z"
   },
   {
    "duration": 30,
    "start_time": "2023-05-05T18:02:07.569Z"
   },
   {
    "duration": 5,
    "start_time": "2023-05-05T18:05:06.460Z"
   },
   {
    "duration": 14,
    "start_time": "2023-05-05T18:08:58.671Z"
   },
   {
    "duration": 622,
    "start_time": "2023-05-05T18:09:02.415Z"
   },
   {
    "duration": 14,
    "start_time": "2023-05-05T18:12:24.283Z"
   },
   {
    "duration": 55,
    "start_time": "2023-05-06T06:46:15.062Z"
   },
   {
    "duration": 12,
    "start_time": "2023-05-06T06:46:27.179Z"
   },
   {
    "duration": 1540,
    "start_time": "2023-05-06T06:46:29.833Z"
   },
   {
    "duration": 746,
    "start_time": "2023-05-06T06:46:35.030Z"
   },
   {
    "duration": 4,
    "start_time": "2023-05-06T06:46:36.987Z"
   },
   {
    "duration": 23,
    "start_time": "2023-05-06T06:46:40.100Z"
   },
   {
    "duration": 21,
    "start_time": "2023-05-06T06:46:45.150Z"
   },
   {
    "duration": 192,
    "start_time": "2023-05-06T06:46:47.213Z"
   },
   {
    "duration": 122,
    "start_time": "2023-05-06T06:48:52.855Z"
   },
   {
    "duration": 91,
    "start_time": "2023-05-06T06:50:05.202Z"
   },
   {
    "duration": 116,
    "start_time": "2023-05-06T06:53:44.371Z"
   },
   {
    "duration": 63,
    "start_time": "2023-05-06T06:55:33.523Z"
   },
   {
    "duration": 8,
    "start_time": "2023-05-06T06:55:42.756Z"
   },
   {
    "duration": 16,
    "start_time": "2023-05-06T06:55:49.352Z"
   },
   {
    "duration": 16,
    "start_time": "2023-05-06T06:57:01.089Z"
   },
   {
    "duration": 118,
    "start_time": "2023-05-06T07:01:31.967Z"
   },
   {
    "duration": 132,
    "start_time": "2023-05-06T07:03:00.918Z"
   },
   {
    "duration": 94,
    "start_time": "2023-05-06T07:03:31.555Z"
   },
   {
    "duration": 167,
    "start_time": "2023-05-06T07:04:11.325Z"
   },
   {
    "duration": 68,
    "start_time": "2023-05-06T07:05:53.444Z"
   },
   {
    "duration": 30,
    "start_time": "2023-05-06T07:12:14.101Z"
   },
   {
    "duration": 10,
    "start_time": "2023-05-06T07:12:17.211Z"
   },
   {
    "duration": 23,
    "start_time": "2023-05-06T07:12:28.601Z"
   },
   {
    "duration": 268,
    "start_time": "2023-05-06T07:14:14.703Z"
   },
   {
    "duration": 274,
    "start_time": "2023-05-06T07:14:30.295Z"
   },
   {
    "duration": 282,
    "start_time": "2023-05-06T07:14:36.424Z"
   },
   {
    "duration": 369,
    "start_time": "2023-05-06T07:14:55.793Z"
   },
   {
    "duration": 321,
    "start_time": "2023-05-06T07:16:37.806Z"
   },
   {
    "duration": 827,
    "start_time": "2023-05-06T07:19:31.802Z"
   },
   {
    "duration": 20,
    "start_time": "2023-05-06T07:23:28.758Z"
   },
   {
    "duration": 75,
    "start_time": "2023-05-06T07:25:10.555Z"
   },
   {
    "duration": 5,
    "start_time": "2023-05-06T07:25:17.518Z"
   },
   {
    "duration": 274,
    "start_time": "2023-05-06T07:25:17.526Z"
   },
   {
    "duration": 3,
    "start_time": "2023-05-06T07:25:17.802Z"
   },
   {
    "duration": 28,
    "start_time": "2023-05-06T07:25:17.807Z"
   },
   {
    "duration": 39,
    "start_time": "2023-05-06T07:25:17.838Z"
   },
   {
    "duration": 159,
    "start_time": "2023-05-06T07:25:17.879Z"
   },
   {
    "duration": 93,
    "start_time": "2023-05-06T07:25:18.041Z"
   },
   {
    "duration": 113,
    "start_time": "2023-05-06T07:25:18.135Z"
   },
   {
    "duration": 52,
    "start_time": "2023-05-06T07:25:18.250Z"
   },
   {
    "duration": 309,
    "start_time": "2023-05-06T07:25:18.305Z"
   },
   {
    "duration": 8,
    "start_time": "2023-05-06T07:25:18.616Z"
   },
   {
    "duration": 43,
    "start_time": "2023-05-06T07:25:18.643Z"
   },
   {
    "duration": 242,
    "start_time": "2023-05-06T07:25:18.688Z"
   },
   {
    "duration": 713,
    "start_time": "2023-05-06T07:25:18.932Z"
   },
   {
    "duration": 836,
    "start_time": "2023-05-06T07:25:25.886Z"
   },
   {
    "duration": 3,
    "start_time": "2023-05-06T07:25:41.301Z"
   },
   {
    "duration": 205,
    "start_time": "2023-05-06T07:25:41.306Z"
   },
   {
    "duration": 3,
    "start_time": "2023-05-06T07:25:41.513Z"
   },
   {
    "duration": 54,
    "start_time": "2023-05-06T07:25:41.519Z"
   },
   {
    "duration": 9,
    "start_time": "2023-05-06T07:25:41.575Z"
   },
   {
    "duration": 139,
    "start_time": "2023-05-06T07:25:41.585Z"
   },
   {
    "duration": 84,
    "start_time": "2023-05-06T07:25:41.726Z"
   },
   {
    "duration": 114,
    "start_time": "2023-05-06T07:25:41.812Z"
   },
   {
    "duration": 58,
    "start_time": "2023-05-06T07:25:41.928Z"
   },
   {
    "duration": 306,
    "start_time": "2023-05-06T07:25:41.988Z"
   },
   {
    "duration": 8,
    "start_time": "2023-05-06T07:25:42.296Z"
   },
   {
    "duration": 69,
    "start_time": "2023-05-06T07:25:42.305Z"
   },
   {
    "duration": 227,
    "start_time": "2023-05-06T07:25:42.375Z"
   },
   {
    "duration": 741,
    "start_time": "2023-05-06T07:25:42.604Z"
   },
   {
    "duration": 16,
    "start_time": "2023-05-06T07:25:48.908Z"
   },
   {
    "duration": 1253,
    "start_time": "2023-05-06T07:26:20.013Z"
   },
   {
    "duration": 216,
    "start_time": "2023-05-06T07:26:21.269Z"
   },
   {
    "duration": 4,
    "start_time": "2023-05-06T07:26:21.487Z"
   },
   {
    "duration": 77,
    "start_time": "2023-05-06T07:26:21.492Z"
   },
   {
    "duration": 22,
    "start_time": "2023-05-06T07:26:21.573Z"
   },
   {
    "duration": 134,
    "start_time": "2023-05-06T07:26:21.597Z"
   },
   {
    "duration": 82,
    "start_time": "2023-05-06T07:26:21.736Z"
   },
   {
    "duration": 113,
    "start_time": "2023-05-06T07:26:21.820Z"
   },
   {
    "duration": 56,
    "start_time": "2023-05-06T07:26:21.935Z"
   },
   {
    "duration": 297,
    "start_time": "2023-05-06T07:26:21.993Z"
   },
   {
    "duration": 8,
    "start_time": "2023-05-06T07:26:22.292Z"
   },
   {
    "duration": 37,
    "start_time": "2023-05-06T07:26:22.301Z"
   },
   {
    "duration": 319,
    "start_time": "2023-05-06T07:26:22.340Z"
   },
   {
    "duration": 664,
    "start_time": "2023-05-06T07:26:22.665Z"
   },
   {
    "duration": 136,
    "start_time": "2023-05-06T07:26:38.287Z"
   },
   {
    "duration": 13,
    "start_time": "2023-05-06T07:27:06.207Z"
   },
   {
    "duration": 9,
    "start_time": "2023-05-06T07:27:19.392Z"
   },
   {
    "duration": 271,
    "start_time": "2023-05-06T07:31:24.983Z"
   },
   {
    "duration": 12,
    "start_time": "2023-05-06T07:31:37.889Z"
   },
   {
    "duration": 55,
    "start_time": "2023-05-06T07:33:36.331Z"
   },
   {
    "duration": 22,
    "start_time": "2023-05-06T07:34:31.249Z"
   },
   {
    "duration": 13,
    "start_time": "2023-05-06T07:36:28.174Z"
   },
   {
    "duration": 36,
    "start_time": "2023-05-06T07:37:44.119Z"
   },
   {
    "duration": 19,
    "start_time": "2023-05-06T07:38:42.674Z"
   },
   {
    "duration": 5,
    "start_time": "2023-05-06T07:40:20.717Z"
   },
   {
    "duration": 12,
    "start_time": "2023-05-06T07:40:58.884Z"
   },
   {
    "duration": 22,
    "start_time": "2023-05-06T07:42:42.204Z"
   },
   {
    "duration": 23,
    "start_time": "2023-05-06T07:43:32.181Z"
   },
   {
    "duration": 17,
    "start_time": "2023-05-06T07:43:48.882Z"
   },
   {
    "duration": 24,
    "start_time": "2023-05-06T07:44:19.231Z"
   },
   {
    "duration": 5,
    "start_time": "2023-05-06T07:44:26.577Z"
   },
   {
    "duration": 332,
    "start_time": "2023-05-06T07:44:26.590Z"
   },
   {
    "duration": 13,
    "start_time": "2023-05-06T07:44:26.925Z"
   },
   {
    "duration": 113,
    "start_time": "2023-05-06T07:44:26.943Z"
   },
   {
    "duration": 59,
    "start_time": "2023-05-06T07:44:27.070Z"
   },
   {
    "duration": 245,
    "start_time": "2023-05-06T07:44:27.131Z"
   },
   {
    "duration": 116,
    "start_time": "2023-05-06T07:44:27.381Z"
   },
   {
    "duration": 148,
    "start_time": "2023-05-06T07:44:27.500Z"
   },
   {
    "duration": 73,
    "start_time": "2023-05-06T07:44:27.651Z"
   },
   {
    "duration": 382,
    "start_time": "2023-05-06T07:44:27.727Z"
   },
   {
    "duration": 36,
    "start_time": "2023-05-06T07:44:28.112Z"
   },
   {
    "duration": 44,
    "start_time": "2023-05-06T07:44:28.153Z"
   },
   {
    "duration": 488,
    "start_time": "2023-05-06T07:44:28.199Z"
   },
   {
    "duration": 838,
    "start_time": "2023-05-06T07:44:28.692Z"
   },
   {
    "duration": 13,
    "start_time": "2023-05-06T07:44:39.079Z"
   },
   {
    "duration": 19,
    "start_time": "2023-05-06T07:44:43.620Z"
   },
   {
    "duration": 16,
    "start_time": "2023-05-06T07:44:45.478Z"
   },
   {
    "duration": 8,
    "start_time": "2023-05-06T07:46:09.979Z"
   },
   {
    "duration": 24,
    "start_time": "2023-05-06T08:11:20.976Z"
   },
   {
    "duration": 90,
    "start_time": "2023-05-06T08:11:30.203Z"
   },
   {
    "duration": 30,
    "start_time": "2023-05-06T08:16:30.869Z"
   },
   {
    "duration": 6,
    "start_time": "2023-05-06T08:18:59.172Z"
   },
   {
    "duration": 1378,
    "start_time": "2023-05-06T08:19:54.193Z"
   },
   {
    "duration": 7,
    "start_time": "2023-05-06T08:20:10.514Z"
   },
   {
    "duration": 11,
    "start_time": "2023-05-06T08:29:29.386Z"
   },
   {
    "duration": 16,
    "start_time": "2023-05-06T08:30:25.059Z"
   },
   {
    "duration": 160,
    "start_time": "2023-05-06T08:30:45.523Z"
   },
   {
    "duration": 88,
    "start_time": "2023-05-06T08:30:53.676Z"
   },
   {
    "duration": 16,
    "start_time": "2023-05-06T08:31:03.113Z"
   },
   {
    "duration": 12,
    "start_time": "2023-05-06T08:31:51.885Z"
   },
   {
    "duration": 3,
    "start_time": "2023-05-06T08:32:03.804Z"
   },
   {
    "duration": 5,
    "start_time": "2023-05-06T08:41:31.570Z"
   },
   {
    "duration": 34,
    "start_time": "2023-05-06T08:42:39.479Z"
   },
   {
    "duration": 875,
    "start_time": "2023-05-06T09:05:30.602Z"
   },
   {
    "duration": 4,
    "start_time": "2023-05-06T09:06:30.478Z"
   },
   {
    "duration": 94,
    "start_time": "2023-05-06T09:13:52.621Z"
   },
   {
    "duration": 44,
    "start_time": "2023-05-06T09:17:05.621Z"
   },
   {
    "duration": 20,
    "start_time": "2023-05-06T09:17:10.112Z"
   },
   {
    "duration": 23,
    "start_time": "2023-05-06T09:17:21.080Z"
   },
   {
    "duration": 4,
    "start_time": "2023-05-06T09:24:27.725Z"
   },
   {
    "duration": 3,
    "start_time": "2023-05-06T09:27:35.781Z"
   },
   {
    "duration": 24,
    "start_time": "2023-05-06T09:27:36.280Z"
   },
   {
    "duration": 30,
    "start_time": "2023-05-06T09:27:46.880Z"
   },
   {
    "duration": 37,
    "start_time": "2023-05-06T09:27:50.509Z"
   },
   {
    "duration": 37,
    "start_time": "2023-05-06T09:27:59.313Z"
   },
   {
    "duration": 28,
    "start_time": "2023-05-06T09:28:23.973Z"
   },
   {
    "duration": 10,
    "start_time": "2023-05-06T09:28:28.922Z"
   },
   {
    "duration": 33,
    "start_time": "2023-05-06T09:28:41.766Z"
   },
   {
    "duration": 34,
    "start_time": "2023-05-06T09:28:45.185Z"
   },
   {
    "duration": 34,
    "start_time": "2023-05-06T09:29:24.180Z"
   },
   {
    "duration": 24,
    "start_time": "2023-05-06T09:29:28.574Z"
   },
   {
    "duration": 22,
    "start_time": "2023-05-06T09:29:32.195Z"
   },
   {
    "duration": 35,
    "start_time": "2023-05-06T09:29:40.209Z"
   },
   {
    "duration": 23,
    "start_time": "2023-05-06T09:29:42.793Z"
   },
   {
    "duration": 22,
    "start_time": "2023-05-06T09:29:46.592Z"
   },
   {
    "duration": 35,
    "start_time": "2023-05-06T09:29:53.300Z"
   },
   {
    "duration": 53,
    "start_time": "2023-05-06T09:29:55.918Z"
   },
   {
    "duration": 25,
    "start_time": "2023-05-06T09:29:57.999Z"
   },
   {
    "duration": 28,
    "start_time": "2023-05-06T09:30:03.298Z"
   },
   {
    "duration": 20,
    "start_time": "2023-05-06T09:30:05.412Z"
   },
   {
    "duration": 41,
    "start_time": "2023-05-06T09:30:06.549Z"
   },
   {
    "duration": 37,
    "start_time": "2023-05-06T09:30:11.914Z"
   },
   {
    "duration": 25,
    "start_time": "2023-05-06T09:44:29.485Z"
   },
   {
    "duration": 23,
    "start_time": "2023-05-06T09:47:56.184Z"
   },
   {
    "duration": 24,
    "start_time": "2023-05-06T09:49:44.914Z"
   },
   {
    "duration": 56,
    "start_time": "2023-05-06T12:09:44.111Z"
   },
   {
    "duration": 90,
    "start_time": "2023-05-06T13:16:59.616Z"
   },
   {
    "duration": 81,
    "start_time": "2023-05-06T13:17:33.612Z"
   },
   {
    "duration": 79,
    "start_time": "2023-05-06T13:22:18.448Z"
   },
   {
    "duration": 94,
    "start_time": "2023-05-06T13:24:41.351Z"
   },
   {
    "duration": 97,
    "start_time": "2023-05-06T13:27:17.150Z"
   },
   {
    "duration": 13,
    "start_time": "2023-05-06T13:29:26.983Z"
   },
   {
    "duration": 11,
    "start_time": "2023-05-06T13:30:01.046Z"
   },
   {
    "duration": 94,
    "start_time": "2023-05-06T13:35:34.214Z"
   },
   {
    "duration": 8,
    "start_time": "2023-05-06T13:35:47.037Z"
   },
   {
    "duration": 108,
    "start_time": "2023-05-06T13:38:35.587Z"
   },
   {
    "duration": 108,
    "start_time": "2023-05-06T13:44:26.382Z"
   },
   {
    "duration": 121,
    "start_time": "2023-05-06T13:48:28.745Z"
   },
   {
    "duration": 270,
    "start_time": "2023-05-06T13:53:07.705Z"
   },
   {
    "duration": 6,
    "start_time": "2023-05-06T14:17:28.030Z"
   },
   {
    "duration": 4,
    "start_time": "2023-05-06T14:29:20.957Z"
   },
   {
    "duration": 6,
    "start_time": "2023-05-06T14:29:29.507Z"
   },
   {
    "duration": 3,
    "start_time": "2023-05-06T15:11:30.958Z"
   },
   {
    "duration": 301,
    "start_time": "2023-05-06T15:11:30.965Z"
   },
   {
    "duration": 3,
    "start_time": "2023-05-06T15:11:31.268Z"
   },
   {
    "duration": 46,
    "start_time": "2023-05-06T15:11:31.273Z"
   },
   {
    "duration": 46,
    "start_time": "2023-05-06T15:11:31.321Z"
   },
   {
    "duration": 130,
    "start_time": "2023-05-06T15:11:31.369Z"
   },
   {
    "duration": 68,
    "start_time": "2023-05-06T15:11:31.501Z"
   },
   {
    "duration": 101,
    "start_time": "2023-05-06T15:11:31.571Z"
   },
   {
    "duration": 40,
    "start_time": "2023-05-06T15:11:31.674Z"
   },
   {
    "duration": 251,
    "start_time": "2023-05-06T15:11:31.715Z"
   },
   {
    "duration": 8,
    "start_time": "2023-05-06T15:11:31.969Z"
   },
   {
    "duration": 41,
    "start_time": "2023-05-06T15:11:31.979Z"
   },
   {
    "duration": 251,
    "start_time": "2023-05-06T15:11:32.022Z"
   },
   {
    "duration": 636,
    "start_time": "2023-05-06T15:11:32.274Z"
   },
   {
    "duration": 40,
    "start_time": "2023-05-06T15:11:32.912Z"
   },
   {
    "duration": 12,
    "start_time": "2023-05-06T15:11:32.954Z"
   },
   {
    "duration": 16,
    "start_time": "2023-05-06T15:11:32.968Z"
   },
   {
    "duration": 24,
    "start_time": "2023-05-06T15:11:32.986Z"
   },
   {
    "duration": 50,
    "start_time": "2023-05-06T15:11:33.011Z"
   },
   {
    "duration": 88,
    "start_time": "2023-05-06T15:11:33.062Z"
   },
   {
    "duration": 12,
    "start_time": "2023-05-06T15:11:33.151Z"
   },
   {
    "duration": 24,
    "start_time": "2023-05-06T15:11:33.165Z"
   },
   {
    "duration": 23,
    "start_time": "2023-05-06T15:11:33.192Z"
   },
   {
    "duration": 68,
    "start_time": "2023-05-06T15:11:33.217Z"
   },
   {
    "duration": 33,
    "start_time": "2023-05-06T15:11:33.286Z"
   },
   {
    "duration": 28,
    "start_time": "2023-05-06T15:11:33.320Z"
   },
   {
    "duration": 21,
    "start_time": "2023-05-06T15:11:33.350Z"
   },
   {
    "duration": 6,
    "start_time": "2023-05-06T15:11:33.373Z"
   },
   {
    "duration": 9,
    "start_time": "2023-05-06T15:11:33.383Z"
   },
   {
    "duration": 33,
    "start_time": "2023-05-06T15:11:33.393Z"
   },
   {
    "duration": 36,
    "start_time": "2023-05-06T15:11:33.427Z"
   },
   {
    "duration": 46,
    "start_time": "2023-05-06T15:11:33.464Z"
   },
   {
    "duration": 22,
    "start_time": "2023-05-06T15:11:33.512Z"
   },
   {
    "duration": 52,
    "start_time": "2023-05-06T15:11:33.541Z"
   },
   {
    "duration": 9,
    "start_time": "2023-05-06T15:11:33.595Z"
   },
   {
    "duration": 51,
    "start_time": "2023-05-06T15:11:33.606Z"
   },
   {
    "duration": 27,
    "start_time": "2023-05-06T15:11:33.660Z"
   },
   {
    "duration": 40,
    "start_time": "2023-05-06T15:11:33.689Z"
   },
   {
    "duration": 39,
    "start_time": "2023-05-06T15:11:33.730Z"
   },
   {
    "duration": 31,
    "start_time": "2023-05-06T15:11:33.771Z"
   },
   {
    "duration": 43,
    "start_time": "2023-05-06T15:11:33.803Z"
   },
   {
    "duration": 35,
    "start_time": "2023-05-06T15:11:33.850Z"
   },
   {
    "duration": 24,
    "start_time": "2023-05-06T15:11:33.887Z"
   },
   {
    "duration": 67,
    "start_time": "2023-05-06T15:11:33.913Z"
   },
   {
    "duration": 24,
    "start_time": "2023-05-06T15:11:33.981Z"
   },
   {
    "duration": 58,
    "start_time": "2023-05-06T15:11:34.006Z"
   },
   {
    "duration": 50,
    "start_time": "2023-05-06T15:11:34.066Z"
   },
   {
    "duration": 52,
    "start_time": "2023-05-06T15:11:34.118Z"
   },
   {
    "duration": 31,
    "start_time": "2023-05-06T15:11:34.172Z"
   },
   {
    "duration": 59,
    "start_time": "2023-05-06T15:11:34.205Z"
   },
   {
    "duration": 237,
    "start_time": "2023-05-06T15:11:34.266Z"
   },
   {
    "duration": 40,
    "start_time": "2023-05-06T15:11:34.505Z"
   }
  ],
  "kernelspec": {
   "display_name": "Python 3 (ipykernel)",
   "language": "python",
   "name": "python3"
  },
  "language_info": {
   "codemirror_mode": {
    "name": "ipython",
    "version": 3
   },
   "file_extension": ".py",
   "mimetype": "text/x-python",
   "name": "python",
   "nbconvert_exporter": "python",
   "pygments_lexer": "ipython3",
   "version": "3.9.7"
  },
  "toc": {
   "base_numbering": 1,
   "nav_menu": {
    "height": "210px",
    "width": "237px"
   },
   "number_sections": false,
   "sideBar": true,
   "skip_h1_title": false,
   "title_cell": "Содержание",
   "title_sidebar": "Contents",
   "toc_cell": true,
   "toc_position": {
    "height": "calc(100% - 180px)",
    "left": "10px",
    "top": "150px",
    "width": "306.153px"
   },
   "toc_section_display": true,
   "toc_window_display": true
  }
 },
 "nbformat": 4,
 "nbformat_minor": 5
}
